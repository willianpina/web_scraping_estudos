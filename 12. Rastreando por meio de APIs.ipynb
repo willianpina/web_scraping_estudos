{
 "cells": [
  {
   "cell_type": "markdown",
   "source": [
    "# Capítulo 12 - Rastreando por meio de APIs"
   ],
   "metadata": {
    "collapsed": false
   }
  },
  {
   "cell_type": "markdown",
   "source": [
    "## Métodos HTTP e APIs"
   ],
   "metadata": {
    "collapsed": false
   }
  },
  {
   "cell_type": "markdown",
   "source": [
    "#### Métodos para requisitar informações de um servidor HTTP:\n",
    "\n",
    "* GET\n",
    "* POST\n",
    "* PUT\n",
    "* DELETE\n",
    "\n",
    "Explicando cada ponto:\n",
    "\n",
    "* **GET**: USADO PARA ACESSAR O SITE COM A BARRA DE ENDEREÇO.\n",
    "* **POST**: USADO PARA PREENCHER FORMULÁRIO OU SUBMETER INFORMAÇÃO NO SERVIDOR.\n",
    "* **PUT**: UTILIZADO PARA ATUALIZAR UM OJETO OU UMA INFORMAÇÃO. A API USA UMA REQUISIÇÃO **POST** PARA CRIAR UM USUÁRIO E PODERÁ PEDIR UMA REQUISIÇÃO **PUT** PARA ATUALIZAR O ENDEREÇO DE E-MAIL DESSE USUÁRIO.\n",
    "* **DELETE**: REQUISIÇÃO USADA PARA APAGAR UM OBJETO."
   ],
   "metadata": {
    "collapsed": false
   }
  },
  {
   "cell_type": "code",
   "execution_count": 13,
   "outputs": [
    {
     "name": "stdout",
     "output_type": "stream",
     "text": [
      "Avenida Coronel Teixeira, Lírio do Vale, Manaus, Região Geográfica Imediata de Manaus, Região Geográfica Intermediária de Manaus, Amazonas, Região Norte, 69000-000, Brasil\n",
      "-3.0824303 -60.0750064\n",
      "{'place_id': 261505360, 'licence': 'Data © OpenStreetMap contributors, ODbL 1.0. https://osm.org/copyright', 'osm_type': 'way', 'osm_id': 806201627, 'boundingbox': ['-3.0825135', '-3.0822762', '-60.0750574', '-60.0749865'], 'lat': '-3.0824303', 'lon': '-60.0750064', 'display_name': 'Avenida Coronel Teixeira, Lírio do Vale, Manaus, Região Geográfica Imediata de Manaus, Região Geográfica Intermediária de Manaus, Amazonas, Região Norte, 69000-000, Brasil', 'class': 'highway', 'type': 'trunk', 'importance': 0.41000000000000003}\n"
     ]
    }
   ],
   "source": [
    "# Aplicando Geocoding\n",
    "from geopy.geocoders import Nominatim\n",
    "geolocator = Nominatim(user_agent= \"geo_application\")\n",
    "location = geolocator.geocode(\"Coronel Teixeira, 5803, Manaus\", language='pt')\n",
    "print(location.address)\n",
    "print(location.latitude, location.longitude)\n",
    "print(location.raw)"
   ],
   "metadata": {
    "collapsed": false
   }
  },
  {
   "cell_type": "code",
   "execution_count": 14,
   "outputs": [
    {
     "data": {
      "text/plain": "Point(-3.0824303, -60.0750064, 0.0)"
     },
     "execution_count": 14,
     "metadata": {},
     "output_type": "execute_result"
    }
   ],
   "source": [
    "location.point"
   ],
   "metadata": {
    "collapsed": false
   }
  },
  {
   "cell_type": "markdown",
   "source": [
    "## Parsing de JSON"
   ],
   "metadata": {
    "collapsed": false
   }
  },
  {
   "cell_type": "code",
   "execution_count": 57,
   "outputs": [],
   "source": [
    "import json\n",
    "from urllib.request import urlopen\n",
    "\n",
    "def get_country():\n",
    "\tbasicUrl = 'https://nominatim.openstreetmap.org/search?'\n",
    "\tcountry = input('Informe o país:')\n",
    "\tresponse = urlopen(basicUrl + f'country={country}' + '&format=jsonv2').read()\n",
    "\tresponseJson = json.loads(response)\n",
    "\treturn responseJson[0]\n",
    "\n"
   ],
   "metadata": {
    "collapsed": false
   }
  },
  {
   "cell_type": "code",
   "execution_count": 58,
   "outputs": [
    {
     "data": {
      "text/plain": "{'place_id': 297231713,\n 'licence': 'Data © OpenStreetMap contributors, ODbL 1.0. https://osm.org/copyright',\n 'osm_type': 'relation',\n 'osm_id': 28699,\n 'boundingbox': ['41.0551284', '43.5864294', '39.8844803', '46.7365373'],\n 'lat': '41.6809707',\n 'lon': '44.0287382',\n 'display_name': 'საქართველო',\n 'place_rank': 4,\n 'category': 'boundary',\n 'type': 'administrative',\n 'importance': 0.7384537973566208,\n 'icon': 'https://nominatim.openstreetmap.org/ui/mapicons/poi_boundary_administrative.p.20.png'}"
     },
     "execution_count": 58,
     "metadata": {},
     "output_type": "execute_result"
    }
   ],
   "source": [
    "get_country()"
   ],
   "metadata": {
    "collapsed": false
   }
  },
  {
   "cell_type": "code",
   "execution_count": null,
   "outputs": [],
   "source": [],
   "metadata": {
    "collapsed": false
   }
  }
 ],
 "metadata": {
  "kernelspec": {
   "display_name": "Python 3",
   "language": "python",
   "name": "python3"
  },
  "language_info": {
   "codemirror_mode": {
    "name": "ipython",
    "version": 2
   },
   "file_extension": ".py",
   "mimetype": "text/x-python",
   "name": "python",
   "nbconvert_exporter": "python",
   "pygments_lexer": "ipython2",
   "version": "2.7.6"
  }
 },
 "nbformat": 4,
 "nbformat_minor": 0
}
