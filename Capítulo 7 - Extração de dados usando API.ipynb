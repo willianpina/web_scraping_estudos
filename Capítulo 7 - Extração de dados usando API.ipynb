{
 "cells": [
  {
   "cell_type": "markdown",
   "source": [
    "<h1 align=center><b>Capítulo 7</b></h1>\n",
    "<h1 align=center>Extração de dados usando API<h1>"
   ],
   "metadata": {
    "collapsed": false
   }
  },
  {
   "cell_type": "markdown",
   "source": [
    "APIs baseadas na web permitem que os usuários interajam com informações na web. A API lida diretamente com dados que estão em um padrão formatado fácil de usar e manter. Algumas APIs também exigem autenticação do usuário antes de fornecer dados ao usuário. Este capítulo abordará o uso de Python e algumas APIs da Web para interagir e extrair dados da API disponível. Geralmente, as APIs fornecem dados em um formato de documento intercambiável, como JSON, CSV e XML."
   ],
   "metadata": {
    "collapsed": false
   }
  },
  {
   "cell_type": "markdown",
   "source": [
    "## Introdução às APIs da Web\n",
    "Uma informação de programação de aplicativo baseada na web, ou API baseada na web, é uma interface fornecida por um site para retornar informações para a solicitação recebida. Uma API da Web (ou API) é, na verdade, um serviço da Web fornecido por sites a usuários ou aplicativos da Web de terceiros ou scripts automatizados para compartilhar e trocar informações.\n",
    "\n",
    "Geralmente, essa é uma interface do usuário (IU) processada por meio de um navegador da Web para recuperar determinadas informações de solicitações feitas a um site ou servidor da Web. Sites com grande quantidade de informações de qualquer tipo podem fornecer uma API web para seu usuário, o que facilita o compartilhamento de informações."
   ],
   "metadata": {
    "collapsed": false
   }
  },
  {
   "cell_type": "markdown",
   "source": [
    "## REST e SOAP\n",
    "A API é um serviço fornecido por servidores da Web que se baseiam em princípios ou arquitetura de software. **Simple Object Access Protocol (SOAP)** e **Representational State Transfer (REST)** são métodos para acessar serviços da web. Enquanto REST é uma arquitetura, SOAP é um protocolo baseado em padrões web. Estaremos lidando com a API REST nas próximas seções."
   ],
   "metadata": {
    "collapsed": false
   }
  },
  {
   "cell_type": "markdown",
   "source": [
    "### REST\n",
    "REST é um estilo de arquitetura de software baseado em um conjunto de definição e endereçamento de princípios de rede. REST é uma arquitetura de software, não um conjunto de padrões. REST usa protocolo HTTP padrão e métodos como GET, POST, PUT e DELETE para fornecer serviços. É sem estado, multicamadas e também suporta cache.\n",
    "\n",
    "As APIs da Web geralmente são classificadas como serviços da Web RESTful; eles fornecem uma interface para o usuário e outros recursos para comunicação. Serviços web RESTful (APIs REST ou APIs web) (https://restfulapi.net/) é o serviço fornecido pela web para adaptação à arquitetura REST. Os serviços fornecidos via REST não precisam ser adaptados aos novos padrões, desenvolvimento ou estruturas. Na maioria das vezes, ele usará uma solicitação GET, juntamente com as strings de consulta que foram emitidas para as APIs, procurando sua resposta. Os códigos de status HTTP (https://restfulapi.net/http-status-codes/) (404, 200, 304) são frequentemente rastreados para determinar a resposta de uma API. As respostas também podem ser obtidas em vários formatos, como JSON, XML e CSV.\n",
    "\n",
    "Em termos de escolha entre REST e SOAP, REST é mais fácil e eficiente quando se trata de processamento em comparação com SOAP, e está sendo disponibilizado ao público por um grande número de sites.\n",
    "\n",
    "### SOAP\n",
    "SOAP (https://www.w3.org/TR/soap/is) é um conjunto de padrões especificados pelo W3C e também representa alternativa ao REST quando se trata de web services.\n",
    "\n",
    "O SOAP usa HTTP e **SMTP (Simple Mail Transfer Protocol)**, e é usado para troca de documentos pela internet, bem como por meio de procedimentos remotos. O SOAP usa XML como um serviço de mensagens e também é conhecido como protocolo baseado em XML. As solicitações SOAP contêm documentos XML (com um envelope e um corpo) que descrevem os métodos e parâmetros que são enviados a um servidor. O servidor executará o método recebido, juntamente com os parâmetros, e enviará uma resposta SOAP de volta ao programa que iniciou a solicitação.\n",
    "\n",
    "O SOAP é altamente extensível e inclui tratamento de erros integrado. Também funciona com outros protocolos, como SMTP. O SOAP também é independente de plataformas e linguagens de programação e é implementado principalmente em ambientes corporativos distribuídos."
   ],
   "metadata": {
    "collapsed": false
   }
  },
  {
   "cell_type": "code",
   "execution_count": null,
   "outputs": [],
   "source": [],
   "metadata": {
    "collapsed": false
   }
  }
 ],
 "metadata": {
  "kernelspec": {
   "display_name": "Python 3",
   "language": "python",
   "name": "python3"
  },
  "language_info": {
   "codemirror_mode": {
    "name": "ipython",
    "version": 2
   },
   "file_extension": ".py",
   "mimetype": "text/x-python",
   "name": "python",
   "nbconvert_exporter": "python",
   "pygments_lexer": "ipython2",
   "version": "2.7.6"
  }
 },
 "nbformat": 4,
 "nbformat_minor": 0
}
