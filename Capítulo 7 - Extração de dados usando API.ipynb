{
 "cells": [
  {
   "cell_type": "markdown",
   "source": [
    "<h1 align=center><b>Capítulo 7</b></h1>\n",
    "<h1 align=center>Extração de dados usando API<h1>"
   ],
   "metadata": {
    "collapsed": false
   }
  },
  {
   "cell_type": "markdown",
   "source": [
    "APIs baseadas na web permitem que os usuários interajam com informações na web. A API lida diretamente com dados que estão em um padrão formatado fácil de usar e manter. Algumas APIs também exigem autenticação do usuário antes de fornecer dados ao usuário. Este capítulo abordará o uso de Python e algumas APIs da Web para interagir e extrair dados da API disponível. Geralmente, as APIs fornecem dados em um formato de documento intercambiável, como JSON, CSV e XML."
   ],
   "metadata": {
    "collapsed": false
   }
  },
  {
   "cell_type": "markdown",
   "source": [
    "## Introdução às APIs da Web\n",
    "Uma informação de programação de aplicativo baseada na web, ou API baseada na web, é uma interface fornecida por um site para retornar informações para a solicitação recebida. Uma API da Web (ou API) é, na verdade, um serviço da Web fornecido por sites a usuários ou aplicativos da Web de terceiros ou scripts automatizados para compartilhar e trocar informações.\n",
    "\n",
    "Geralmente, essa é uma interface do usuário (IU) processada por meio de um navegador da Web para recuperar determinadas informações de solicitações feitas a um site ou servidor da Web. Sites com grande quantidade de informações de qualquer tipo podem fornecer uma API web para seu usuário, o que facilita o compartilhamento de informações."
   ],
   "metadata": {
    "collapsed": false
   }
  },
  {
   "cell_type": "markdown",
   "source": [
    "## REST e SOAP\n",
    "A API é um serviço fornecido por servidores da Web que se baseiam em princípios ou arquitetura de software. **Simple Object Access Protocol (SOAP)** e **Representational State Transfer (REST)** são métodos para acessar serviços da web. Enquanto REST é uma arquitetura, SOAP é um protocolo baseado em padrões web. Estaremos lidando com a API REST nas próximas seções."
   ],
   "metadata": {
    "collapsed": false
   }
  },
  {
   "cell_type": "markdown",
   "source": [
    "### REST\n",
    "REST é um estilo de arquitetura de software baseado em um conjunto de definição e endereçamento de princípios de rede. REST é uma arquitetura de software, não um conjunto de padrões. REST usa protocolo HTTP padrão e métodos como GET, POST, PUT e DELETE para fornecer serviços. É sem estado, multicamadas e também suporta cache.\n",
    "\n",
    "As APIs da Web geralmente são classificadas como serviços da Web RESTful; eles fornecem uma interface para o usuário e outros recursos para comunicação. Serviços web RESTful (APIs REST ou APIs web) (https://restfulapi.net/) é o serviço fornecido pela web para adaptação à arquitetura REST. Os serviços fornecidos via REST não precisam ser adaptados aos novos padrões, desenvolvimento ou estruturas. Na maioria das vezes, ele usará uma solicitação GET, juntamente com as strings de consulta que foram emitidas para as APIs, procurando sua resposta. Os códigos de status HTTP (https://restfulapi.net/http-status-codes/) (404, 200, 304) são frequentemente rastreados para determinar a resposta de uma API. As respostas também podem ser obtidas em vários formatos, como JSON, XML e CSV.\n",
    "\n",
    "Em termos de escolha entre REST e SOAP, REST é mais fácil e eficiente quando se trata de processamento em comparação com SOAP, e está sendo disponibilizado ao público por um grande número de sites.\n",
    "\n",
    "### SOAP\n",
    "SOAP (https://www.w3.org/TR/soap/is) é um conjunto de padrões especificados pelo W3C e também representa alternativa ao REST quando se trata de web services.\n",
    "\n",
    "O SOAP usa HTTP e **SMTP (Simple Mail Transfer Protocol)**, e é usado para troca de documentos pela internet, bem como por meio de procedimentos remotos. O SOAP usa XML como um serviço de mensagens e também é conhecido como protocolo baseado em XML. As solicitações SOAP contêm documentos XML (com um envelope e um corpo) que descrevem os métodos e parâmetros que são enviados a um servidor. O servidor executará o método recebido, juntamente com os parâmetros, e enviará uma resposta SOAP de volta ao programa que iniciou a solicitação.\n",
    "\n",
    "O SOAP é altamente extensível e inclui tratamento de erros integrado. Também funciona com outros protocolos, como SMTP. O SOAP também é independente de plataformas e linguagens de programação e é implementado principalmente em ambientes corporativos distribuídos."
   ],
   "metadata": {
    "collapsed": false
   }
  },
  {
   "cell_type": "markdown",
   "source": [
    "### Fazendo solicitações para a API da web usando um navegador da web\n",
    "\n",
    "A obtenção de informações sobre os parâmetros a serem aplicados por meio de strings de consulta e a obtenção da chave de API, se necessário, é a etapa preliminar para obter acesso à API. A maioria das APIs públicas ou gratuitas são bastante diretas e fáceis de gerenciar em comparação com as APIs de desenvolvedor fornecidas pelo Google, Twitter e Facebook.\n",
    "\n",
    "As solicitações de API podem ser feitas usando um navegador da web. No entanto, tentaremos mostrar alguns casos gerais que podem ser encontrados ao acessar APIs, além de exibir algumas propriedades importantes da API RESTful.\n",
    "\n",
    "#### Caso 1 – acessando uma API simples (solicitação e resposta)\n",
    "\n",
    "Vamos aplicar na URL  `https://api.sunrise-sunset.org/json?lat=27.717245&lng=85.323959&date=2019-03-04` o exemplo a seguir.\n",
    "\n",
    "Vamos processar uma solicitação por meio de uma API simples para obter os horários do nascer e do pôr do sol (disponíveis em UTC) para Katmandu, Nepal. As strings de consulta exigem valores para `lat` (latitude), `lng` (longitude) e data para o local escolhido. Como podemos ver, a resposta que obtivemos está no formato JSON (formatado usando uma extensão do navegador), e sua solicitação bem-sucedida foi verificada usando uma ferramenta de desenvolvedor baseada em navegador com Método de solicitação e Código de status HTTP (200 , ou seja, OK ou Sucesso)"
   ],
   "metadata": {
    "collapsed": false
   }
  },
  {
   "cell_type": "code",
   "execution_count": 4,
   "outputs": [
    {
     "name": "stdout",
     "output_type": "stream",
     "text": [
      "Status Code:  200\n",
      "Headers-ContentType:  application/json\n",
      "Headers:  {'Server': 'nginx', 'Date': 'Mon, 17 Oct 2022 00:09:22 GMT', 'Content-Type': 'application/json', 'Transfer-Encoding': 'chunked', 'Connection': 'keep-alive', 'Vary': 'Accept-Encoding', 'Access-Control-Allow-Origin': '*', 'Content-Encoding': 'gzip'}\n",
      "Type JSON Results <class 'dict'>\n",
      "{'results': {'sunrise': '12:39:17 AM', 'sunset': '12:21:44 PM', 'solar_noon': '6:30:30 AM', 'day_length': '11:42:27', 'civil_twilight_begin': '12:17:03 AM', 'civil_twilight_end': '12:43:58 PM', 'nautical_twilight_begin': '11:49:54 PM', 'nautical_twilight_end': '1:11:07 PM', 'astronomical_twilight_begin': '11:22:47 PM', 'astronomical_twilight_end': '1:38:14 PM'}, 'status': 'OK'}\n",
      "SunRise & Sunset:  12:39:17 AM  &  12:21:44 PM\n"
     ]
    }
   ],
   "source": [
    "import requests\n",
    "\n",
    "url = 'https://api.sunrise-sunset.org/json?lat=27.717245&lng=85.323959&date=2019-03-04'\n",
    "results = requests.get(url)\n",
    "print(\"Status Code: \", results.status_code)\n",
    "print(\"Headers-ContentType: \", results.headers['Content-Type'])\n",
    "print(\"Headers: \", results.headers)\n",
    "jsonResult = results.json() #read JSON content\n",
    "print(\"Type JSON Results\",type(jsonResult))\n",
    "print(jsonResult)\n",
    "print(\"SunRise & Sunset: \",jsonResult['results']['sunrise'],\" & \",jsonResult['results']['sunset'])\n"
   ],
   "metadata": {
    "collapsed": false
   }
  },
  {
   "cell_type": "markdown",
   "source": [
    "#### Caso 2 – demonstrando códigos de status e respostas informativas da API\n",
    "\n",
    "Nesta seção, usaremos o seguinte URL: `https://api.twitter.com/1.1/search/tweets.json?q=`.\n",
    "\n",
    "Nesta seção, processaremos uma solicitação de API do Twitter. A URL a ser solicitada é `https://api.twitter.com/1.1/search/tweets.json?q=`. Ao usar esse URL, podemos identificar facilmente que a string de consulta, q, está vazia e que o valor esperado pela API do Twitter não é fornecido. A URL completa deveria ser algo como `https://api.twitter.com/1.1/search/tweets.json?q=nasa&result_type=popular`.\n",
    "\n",
    "A resposta que foi retornada foi para uma chamada de API incompleta, e pode ser vista na captura de tela a seguir, junto com o código de status HTTP (400 ou Bad Request) e uma mensagem que foi retornada pela API informando erros com \"message\" : *\"Bad Authentication data\"*. Para obter mais informações sobre a opção de pesquisa da API do Twitter, consulte `https://developer.twitter.com/en/docs/tweets/search/api-reference/get-search-tweets`:"
   ],
   "metadata": {
    "collapsed": false
   }
  },
  {
   "cell_type": "code",
   "execution_count": 10,
   "outputs": [
    {
     "name": "stdout",
     "output_type": "stream",
     "text": [
      "Status Code:  400\n",
      "Headers: Content-Type:  application/json; charset=utf-8\n",
      "b'{\"errors\":[{\"code\":215,\"message\":\"Bad Authentication data.\"}]}'\n",
      "{'errors': [{'code': 215, 'message': 'Bad Authentication data.'}]}\n",
      "Bad Authentication data.\n"
     ]
    }
   ],
   "source": [
    "import requests\n",
    "import json\n",
    "url = 'https://api.twitter.com/1.1/search/tweets.json?q='\n",
    "results = requests.get(url)\n",
    "print(\"Status Code: \", results.status_code)\n",
    "print(\"Headers: Content-Type: \", results.headers['Content-Type'])\n",
    "jsonResult = results.content\n",
    "#jsonResult = results.json()\n",
    "print(jsonResult)\n",
    "jsonFinal = json.loads(jsonResult.decode())\n",
    "print(jsonFinal)\n",
    "# print(json.loads(requests.get(url).content.decode()))\n",
    "if results.status_code==400:\n",
    "    print(jsonFinal['errors'][0]['message'])\n",
    "else:\n",
    "\tpass"
   ],
   "metadata": {
    "collapsed": false
   }
  },
  {
   "cell_type": "markdown",
   "source": [
    "#### Caso 3 – demonstrando a funcionalidade de cache da API RESTful\n",
    "Nesta seção, usaremos o seguinte URL: `https://api.github.com/`.\n",
    "\n",
    "GitHUb (`https://github.com/`) é um local para desenvolvedores e seus repositórios de código. A API do GitHub é bastante famosa entre os desenvolvedores, todos os quais vêm de várias origens de programação. Como podemos ver na captura de tela a seguir, a resposta é obtida em `JSON`. A solicitação foi bem-sucedida, pois o código de status HTTP retornado era `200`, ou seja, `OK` ou `Sucess`.\n",
    "\n",
    "Como você pode ver, fizemos uma chamada básica para `https://api.github.com`. O conteúdo retornado contém links para a API, juntamente com alguns parâmetros a serem fornecidos para chamadas específicas, como `{/gist_id}`, `{/target}` e `{query}`.\n",
    "\n",
    "Vamos enviar uma solicitação para a API novamente, mas desta vez sem nenhuma alteração ou atualização nos valores dos parâmetros. O conteúdo que receberemos será semelhante à resposta anterior, mas haverá uma diferença no `Status Code` HTTP; ou seja, obteremos `304 Not Modified` em comparação com 200 `OK`.\n",
    "\n",
    "Este código de status HTTP (`304` ou `Não Modificado`) demonstra a funcionalidade de armazenamento em cache do REST. Como a resposta não possui atualizações ou conteúdo atualizado, a funcionalidade de armazenamento em cache do lado do cliente entra em ação. Isso ajuda no tempo de processamento, bem como no tempo e no uso da largura de banda. O cache é uma das propriedades importantes dos web services RESTful. A seguir está o código Python revelando a propriedade cache da API RESTful, que foi obtida passando cabeçalhos externos que foram fornecidos ao parâmetro headers ao fazer uma solicitação com `requests.get()`:"
   ],
   "metadata": {
    "collapsed": false
   }
  },
  {
   "cell_type": "code",
   "execution_count": 11,
   "outputs": [
    {
     "name": "stdout",
     "output_type": "stream",
     "text": [
      "Status Code:  200\n",
      "Headers:  {'Server': 'GitHub.com', 'Date': 'Mon, 17 Oct 2022 01:56:53 GMT', 'Content-Type': 'application/json; charset=utf-8', 'Cache-Control': 'public, max-age=60, s-maxage=60', 'Vary': 'Accept, Accept-Encoding, Accept, X-Requested-With', 'ETag': 'W/\"4f825cc84e1c733059d46e76e6df9db557ae5254f9625dfe8e1b09499c449438\"', 'X-GitHub-Media-Type': 'github.v3; format=json', 'Access-Control-Expose-Headers': 'ETag, Link, Location, Retry-After, X-GitHub-OTP, X-RateLimit-Limit, X-RateLimit-Remaining, X-RateLimit-Used, X-RateLimit-Resource, X-RateLimit-Reset, X-OAuth-Scopes, X-Accepted-OAuth-Scopes, X-Poll-Interval, X-GitHub-Media-Type, X-GitHub-SSO, X-GitHub-Request-Id, Deprecation, Sunset', 'Access-Control-Allow-Origin': '*', 'Strict-Transport-Security': 'max-age=31536000; includeSubdomains; preload', 'X-Frame-Options': 'deny', 'X-Content-Type-Options': 'nosniff', 'X-XSS-Protection': '0', 'Referrer-Policy': 'origin-when-cross-origin, strict-origin-when-cross-origin', 'Content-Security-Policy': \"default-src 'none'\", 'Content-Encoding': 'gzip', 'X-RateLimit-Limit': '60', 'X-RateLimit-Remaining': '58', 'X-RateLimit-Reset': '1665975111', 'X-RateLimit-Resource': 'core', 'X-RateLimit-Used': '2', 'Accept-Ranges': 'bytes', 'Content-Length': '510', 'X-GitHub-Request-Id': '1A13:2EAB:167601:18588F:634CB664'}\n",
      "ETag:  W/\"4f825cc84e1c733059d46e76e6df9db557ae5254f9625dfe8e1b09499c449438\"\n",
      "Status Code:  304\n"
     ]
    }
   ],
   "source": [
    "import requests\n",
    "url = 'https://api.github.com'\n",
    "#First Request\n",
    "results = requests.get(url)\n",
    "print(\"Status Code: \", results.status_code)\n",
    "print(\"Headers: \", results.headers)\n",
    "#Second Request with 'headers'\n",
    "etag = results.headers['ETag']\n",
    "print(\"ETag: \",etag)\n",
    "results = requests.get(url, headers={'If-None-Match': etag})\n",
    "print(\"Status Code: \", results.status_code)"
   ],
   "metadata": {
    "collapsed": false
   }
  },
  {
   "cell_type": "markdown",
   "source": [
    "Nesta seção, aprendemos sobre várias APIs, acessando-as por meio do uso de recursos, e demonstramos vários conceitos importantes que são relevantes para os métodos de web scraping. Na próxima seção, vamos extrair dados com o uso de APIs.\n",
    "\n",
    "### Web scraping usando APIs\n",
    "\n",
    "Nesta seção, solicitaremos APIs e coletaremos os dados necessários por meio delas. Tecnicamente, os dados obtidos por meio de uma API não são semelhantes à execução de uma atividade de raspagem, pois não podemos apenas extrair os dados necessários da API e processá-los ainda mais."
   ],
   "metadata": {
    "collapsed": false
   }
  },
  {
   "cell_type": "markdown",
   "source": [
    "#### Exemplo 1 – pesquisando e coletando nomes e URLs de universidades\n",
    "\n",
    "Vamos importar as bibliotecas necessárias e usar a função readUrl() para solicitar a API e retornar a resposta JSON, conforme mostrado no código a seguir:\n"
   ],
   "metadata": {
    "collapsed": false
   }
  },
  {
   "cell_type": "code",
   "execution_count": 14,
   "outputs": [
    {
     "name": "stdout",
     "output_type": "stream",
     "text": [
      "Status Code:  200\n",
      "Headers: Content-Type:  application/json\n",
      "Total Universities Found:  20\n",
      "[['University of Wales, Swansea', 'http://www.swan.ac.uk/'], ['University of Wales, Newport', 'http://www.newport.ac.uk/'], ['University of Wales, Lampeter', 'http://www.lamp.ac.uk/'], ['University of Wales, Aberystwyth', 'http://www.aber.ac.uk/'], ['University of Wales, Bangor', 'http://www.bangor.ac.uk/'], ['University of Wales, Lampeter', 'http://www.lamp.ac.uk/'], ['University of Wales, Newport', 'http://www.newport.ac.uk/'], ['University of Wales, Bangor', 'http://www.bangor.ac.uk/'], ['University of Wales, Aberystwyth', 'http://www.aber.ac.uk/'], ['University of Wales, Swansea', 'http://www.swan.ac.uk/'], ['University of Wales Institute, Cardiff', 'http://www.uwic.ac.uk/'], ['University of Wales College of Medicine', 'http://www.uwcm.ac.uk/'], ['University of Wales', 'http://www.wales.ac.uk/'], ['Johnson & Wales University', 'http://www.jwu.edu/'], ['University of New South Wales', 'http://www.unsw.edu.au/'], ['University of New South Wales', 'http://www.unsw.edu.au/'], ['Johnson & Wales University', 'http://www.jwu.edu/'], ['University of Wales College of Medicine', 'http://www.uwcm.ac.uk/'], ['University of Wales', 'http://www.wales.ac.uk/'], ['University of Wales Institute, Cardiff', 'http://www.uwic.ac.uk/']]\n"
     ]
    }
   ],
   "source": [
    "import requests\n",
    "import json\n",
    "dataSet = []\n",
    "\n",
    "def readUrl(search):\n",
    "    results = requests.get(url+search)\n",
    "    print(\"Status Code: \", results.status_code)\n",
    "    print(\"Headers: Content-Type: \", results.headers['Content-Type'])\n",
    "    return results.json()\n",
    "\n",
    "url = 'http://universities.hipolabs.com/search?name='\n",
    "jsonResult = readUrl('Wales') # print(jsonResult)\n",
    "for university in jsonResult:\n",
    "    name = university['name']\n",
    "    url = university['web_pages'][0]\n",
    "    dataSet.append([name,url])\n",
    "\n",
    "print(\"Total Universities Found: \",len(dataSet))\n",
    "print(dataSet)"
   ],
   "metadata": {
    "collapsed": false
   }
  },
  {
   "cell_type": "markdown",
   "source": [
    "#### Exemplo 2 – extrair informações de eventos do GitHub\n",
    "\n",
    "GitHub `Events` lista as atividades públicas que foram realizadas nos últimos 90 dias. Esses eventos são fornecidos em páginas, com 30 itens por página e um máximo de 300 sendo exibidos. Existem várias seções dentro de eventos, todas as quais revelam a descrição sobre o `actor`, `repo`, `org`, `created_at`, `type` e muito mais."
   ],
   "metadata": {
    "collapsed": false
   }
  },
  {
   "cell_type": "code",
   "execution_count": 18,
   "outputs": [
    {
     "name": "stdout",
     "output_type": "stream",
     "text": [
      "Status Code:  200\n",
      "Headers: Content-Type:  application/json; charset=utf-8\n",
      "Status Code:  200\n",
      "Headers: Content-Type:  application/json; charset=utf-8\n",
      "Status Code:  200\n",
      "Headers: Content-Type:  application/json; charset=utf-8\n",
      "Individual Event Counts: {'PushEvent': 47, 'WatchEvent': 4, 'PullRequestEvent': 9, 'IssuesEvent': 4, 'ForkEvent': 5, 'CreateEvent': 10, 'PullRequestReviewEvent': 3, 'DeleteEvent': 4, 'IssueCommentEvent': 4}\n",
      "CreateEvent Counts: 10\n",
      "DeleteEvent Counts: 4\n",
      "Total Events Found:  110\n",
      "[['University of Wales, Swansea', 'http://www.swan.ac.uk/'], ['University of Wales, Newport', 'http://www.newport.ac.uk/'], ['University of Wales, Lampeter', 'http://www.lamp.ac.uk/'], ['University of Wales, Aberystwyth', 'http://www.aber.ac.uk/'], ['University of Wales, Bangor', 'http://www.bangor.ac.uk/'], ['University of Wales, Lampeter', 'http://www.lamp.ac.uk/'], ['University of Wales, Newport', 'http://www.newport.ac.uk/'], ['University of Wales, Bangor', 'http://www.bangor.ac.uk/'], ['University of Wales, Aberystwyth', 'http://www.aber.ac.uk/'], ['University of Wales, Swansea', 'http://www.swan.ac.uk/'], ['University of Wales Institute, Cardiff', 'http://www.uwic.ac.uk/'], ['University of Wales College of Medicine', 'http://www.uwcm.ac.uk/'], ['University of Wales', 'http://www.wales.ac.uk/'], ['Johnson & Wales University', 'http://www.jwu.edu/'], ['University of New South Wales', 'http://www.unsw.edu.au/'], ['University of New South Wales', 'http://www.unsw.edu.au/'], ['Johnson & Wales University', 'http://www.jwu.edu/'], ['University of Wales College of Medicine', 'http://www.uwcm.ac.uk/'], ['University of Wales', 'http://www.wales.ac.uk/'], ['University of Wales Institute, Cardiff', 'http://www.uwic.ac.uk/'], ['24631063872', 'PushEvent', '2022-10-17T02:08:31Z', 'https://api.github.com/repos/Jose-Velasco/Portfolio', 'Jose-Velasco'], ['24631063868', 'PushEvent', '2022-10-17T02:08:31Z', 'https://api.github.com/repos/OTube/1mln-commits', 'OTube'], ['24631063861', 'PushEvent', '2022-10-17T02:08:31Z', 'https://api.github.com/repos/SuperSonicHub1/turf-war-action', 'SuperSonicHub1'], ['24631063866', 'PushEvent', '2022-10-17T02:08:31Z', 'https://api.github.com/repos/jose-bone/jose-bone', 'github-actions'], ['24631063871', 'PushEvent', '2022-10-17T02:08:31Z', 'https://api.github.com/repos/chidimma042/alx-low_level_programming', 'chidimma042'], ['24631063844', 'PushEvent', '2022-10-17T02:08:31Z', 'https://api.github.com/repos/Mr-Bamboo-Forest/The-World-Website', 'Mr-Bamboo-Forest'], ['24631063852', 'PushEvent', '2022-10-17T02:08:31Z', 'https://api.github.com/repos/doraadong/MESSI', 'doraadong'], ['24631063840', 'PushEvent', '2022-10-17T02:08:31Z', 'https://api.github.com/repos/direwolf-github/ephemeral-ci-2e26b99b', 'direwolf-github'], ['24631063853', 'PushEvent', '2022-10-17T02:08:31Z', 'https://api.github.com/repos/AEGON01b/JhPTGiBSGm', 'AEGON01b'], ['24631063830', 'WatchEvent', '2022-10-17T02:08:31Z', 'https://api.github.com/repos/direnv/direnv', 'zdog234'], ['24631063822', 'PullRequestEvent', '2022-10-17T02:08:31Z', 'https://api.github.com/repos/MhankBarBar/termux-wabot', 'dependabot'], ['24631063817', 'PushEvent', '2022-10-17T02:08:31Z', 'https://api.github.com/repos/youssefKadaouiAbbassi/youssefKadaouiAbbassi', 'github-actions'], ['24631063821', 'PushEvent', '2022-10-17T02:08:31Z', 'https://api.github.com/repos/gsohz/gsohz', 'github-actions'], ['24631063816', 'IssuesEvent', '2022-10-17T02:08:31Z', 'https://api.github.com/repos/gitthathonor/humancloud', 'Sylar0012'], ['24631063838', 'ForkEvent', '2022-10-17T02:08:31Z', 'https://api.github.com/repos/gardener/dashboard', 'huzefadatasci'], ['24631063829', 'CreateEvent', '2022-10-17T02:08:31Z', 'https://api.github.com/repos/deepin-community/nss-mdns', 'deepin-community-bot'], ['24631063818', 'PullRequestReviewEvent', '2022-10-17T02:08:31Z', 'https://api.github.com/repos/croct-tech/sdk-js', 'renovate-approve'], ['24631063813', 'PullRequestReviewEvent', '2022-10-17T02:08:31Z', 'https://api.github.com/repos/wallabag/wallabag', 'github-actions'], ['24631063841', 'PullRequestEvent', '2022-10-17T02:08:31Z', 'https://api.github.com/repos/posva/vue-promised', 'renovate'], ['24631063815', 'PushEvent', '2022-10-17T02:08:31Z', 'https://api.github.com/repos/Lombiq/Orchard', 'LombiqBot'], ['24631063795', 'DeleteEvent', '2022-10-17T02:08:31Z', 'https://api.github.com/repos/peter-evans/create-pull-request-tests', 'github-actions'], ['24631063807', 'PushEvent', '2022-10-17T02:08:31Z', 'https://api.github.com/repos/usahexo/472eea8d46dc5', 'sfj297092319'], ['24631063803', 'PushEvent', '2022-10-17T02:08:31Z', 'https://api.github.com/repos/raphel26/latihan1', 'raphel26'], ['24631063809', 'PushEvent', '2022-10-17T02:08:31Z', 'https://api.github.com/repos/vibhatha/arrow', 'vibhatha'], ['24631063804', 'PushEvent', '2022-10-17T02:08:31Z', 'https://api.github.com/repos/NMGRLData/Henry', 'nmgrluser'], ['24631063785', 'PushEvent', '2022-10-17T02:08:31Z', 'https://api.github.com/repos/myxzlpltk/wisata-sumurup-reactjs', 'myxzlpltk'], ['24631063780', 'IssueCommentEvent', '2022-10-17T02:08:31Z', 'https://api.github.com/repos/zulip/zulip', 'timabbott'], ['24631063772', 'PushEvent', '2022-10-17T02:08:31Z', 'https://api.github.com/repos/jasonseu/jasonseu.github.io', 'jasonseu'], ['24631063790', 'PushEvent', '2022-10-17T02:08:31Z', 'https://api.github.com/repos/Rodrigojuniorj/Rodrigojuniorj', 'github-actions'], ['24631063774', 'PushEvent', '2022-10-17T02:08:31Z', 'https://api.github.com/repos/OTube/1mln-commits', 'OTube'], ['24631063947', 'PullRequestEvent', '2022-10-17T02:08:32Z', 'https://api.github.com/repos/simonwong/lint', 'dependabot'], ['24631063921', 'PushEvent', '2022-10-17T02:08:32Z', 'https://api.github.com/repos/Zhytou/Zhytou', 'Zhytou'], ['24631063931', 'WatchEvent', '2022-10-17T02:08:32Z', 'https://api.github.com/repos/Grasscutters/Grasscutter', 'bbsxjy'], ['24631063901', 'PushEvent', '2022-10-17T02:08:31Z', 'https://api.github.com/repos/Conveccao/conveccao-frontend', 'gustavols'], ['24631063908', 'CreateEvent', '2022-10-17T02:08:32Z', 'https://api.github.com/repos/AEGON01b/JhPTGiBSGm', 'AEGON01b'], ['24631063906', 'PushEvent', '2022-10-17T02:08:32Z', 'https://api.github.com/repos/suelenturibio/suelenturibio', 'github-actions'], ['24631063911', 'DeleteEvent', '2022-10-17T02:08:32Z', 'https://api.github.com/repos/Tosh94/mage', 'dependabot'], ['24631063919', 'ForkEvent', '2022-10-17T02:08:32Z', 'https://api.github.com/repos/cran/prabclus', 'lkampoli'], ['24631063904', 'IssueCommentEvent', '2022-10-17T02:08:32Z', 'https://api.github.com/repos/h2o/h2o', 'kazuho'], ['24631063905', 'PushEvent', '2022-10-17T02:08:32Z', 'https://api.github.com/repos/IsaqueCascaes/IsaqueCascaes', 'github-actions'], ['24631063870', 'PullRequestEvent', '2022-10-17T02:08:31Z', 'https://api.github.com/repos/direwolf-github/ephemeral-ci-2e26b99b', 'direwolf-github'], ['24631063862', 'CreateEvent', '2022-10-17T02:08:31Z', 'https://api.github.com/repos/starwin689/Txa8d8UxJl', 'starwin689'], ['24631063859', 'CreateEvent', '2022-10-17T02:08:31Z', 'https://api.github.com/repos/simonwong/lint', 'dependabot'], ['24631063872', 'PushEvent', '2022-10-17T02:08:31Z', 'https://api.github.com/repos/Jose-Velasco/Portfolio', 'Jose-Velasco'], ['24631063868', 'PushEvent', '2022-10-17T02:08:31Z', 'https://api.github.com/repos/OTube/1mln-commits', 'OTube'], ['24631063861', 'PushEvent', '2022-10-17T02:08:31Z', 'https://api.github.com/repos/SuperSonicHub1/turf-war-action', 'SuperSonicHub1'], ['24631063866', 'PushEvent', '2022-10-17T02:08:31Z', 'https://api.github.com/repos/jose-bone/jose-bone', 'github-actions'], ['24631063871', 'PushEvent', '2022-10-17T02:08:31Z', 'https://api.github.com/repos/chidimma042/alx-low_level_programming', 'chidimma042'], ['24631063844', 'PushEvent', '2022-10-17T02:08:31Z', 'https://api.github.com/repos/Mr-Bamboo-Forest/The-World-Website', 'Mr-Bamboo-Forest'], ['24631063852', 'PushEvent', '2022-10-17T02:08:31Z', 'https://api.github.com/repos/doraadong/MESSI', 'doraadong'], ['24631063840', 'PushEvent', '2022-10-17T02:08:31Z', 'https://api.github.com/repos/direwolf-github/ephemeral-ci-2e26b99b', 'direwolf-github'], ['24631063853', 'PushEvent', '2022-10-17T02:08:31Z', 'https://api.github.com/repos/AEGON01b/JhPTGiBSGm', 'AEGON01b'], ['24631063830', 'WatchEvent', '2022-10-17T02:08:31Z', 'https://api.github.com/repos/direnv/direnv', 'zdog234'], ['24631063822', 'PullRequestEvent', '2022-10-17T02:08:31Z', 'https://api.github.com/repos/MhankBarBar/termux-wabot', 'dependabot'], ['24631063817', 'PushEvent', '2022-10-17T02:08:31Z', 'https://api.github.com/repos/youssefKadaouiAbbassi/youssefKadaouiAbbassi', 'github-actions'], ['24631063821', 'PushEvent', '2022-10-17T02:08:31Z', 'https://api.github.com/repos/gsohz/gsohz', 'github-actions'], ['24631063816', 'IssuesEvent', '2022-10-17T02:08:31Z', 'https://api.github.com/repos/gitthathonor/humancloud', 'Sylar0012'], ['24631063838', 'ForkEvent', '2022-10-17T02:08:31Z', 'https://api.github.com/repos/gardener/dashboard', 'huzefadatasci'], ['24631063829', 'CreateEvent', '2022-10-17T02:08:31Z', 'https://api.github.com/repos/deepin-community/nss-mdns', 'deepin-community-bot'], ['24631063818', 'PullRequestReviewEvent', '2022-10-17T02:08:31Z', 'https://api.github.com/repos/croct-tech/sdk-js', 'renovate-approve'], ['24631063971', 'IssuesEvent', '2022-10-17T02:08:32Z', 'https://api.github.com/repos/Websoft9/www.websoft9.com', 'morning-tan'], ['24631063957', 'IssueCommentEvent', '2022-10-17T02:08:32Z', 'https://api.github.com/repos/kokizzu/gomplate', 'dependabot'], ['24631063963', 'ForkEvent', '2022-10-17T02:08:32Z', 'https://api.github.com/repos/BlueBirdMC/RakNet', 'ExodiumJS'], ['24631063988', 'CreateEvent', '2022-10-17T02:08:32Z', 'https://api.github.com/repos/rhiokim/.seed-ts', 'dependabot'], ['24631063973', 'PushEvent', '2022-10-17T02:08:32Z', 'https://api.github.com/repos/DaftDoris/newsdesk', 'renovate'], ['24631063950', 'PushEvent', '2022-10-17T02:08:32Z', 'https://api.github.com/repos/wangpanfeng/images', 'wangpanfeng'], ['24631063938', 'PushEvent', '2022-10-17T02:08:32Z', 'https://api.github.com/repos/ll-talyta-ll/ll-talyta-ll', 'github-actions'], ['24631063964', 'DeleteEvent', '2022-10-17T02:08:32Z', 'https://api.github.com/repos/MhankBarBar/termux-wabot', 'dependabot'], ['24631063951', 'PushEvent', '2022-10-17T02:08:32Z', 'https://api.github.com/repos/r-earthengine/ee_extra', 'github-actions'], ['24631063954', 'PushEvent', '2022-10-17T02:08:32Z', 'https://api.github.com/repos/Melbourneandrew/indra-dash', 'Melbourneandrew'], ['24631063949', 'CreateEvent', '2022-10-17T02:08:32Z', 'https://api.github.com/repos/dkstyle/webpack.kr', 'dependabot'], ['24631063927', 'PullRequestEvent', '2022-10-17T02:08:32Z', 'https://api.github.com/repos/peter-evans/create-pull-request-tests', 'github-actions'], ['24631063935', 'IssuesEvent', '2022-10-17T02:08:32Z', 'https://api.github.com/repos/mrdoob/three.js', 'dcervelli'], ['24631063917', 'PushEvent', '2022-10-17T02:08:32Z', 'https://api.github.com/repos/KHALID-CYBER-404/X-OLD', 'KHALID-CYBER-404'], ['24631063928', 'PullRequestEvent', '2022-10-17T02:08:32Z', 'https://api.github.com/repos/AY2223S1-CS2103T-W08-1/tp', 'TZL0'], ['24631063947', 'PullRequestEvent', '2022-10-17T02:08:32Z', 'https://api.github.com/repos/simonwong/lint', 'dependabot'], ['24631063921', 'PushEvent', '2022-10-17T02:08:32Z', 'https://api.github.com/repos/Zhytou/Zhytou', 'Zhytou'], ['24631063931', 'WatchEvent', '2022-10-17T02:08:32Z', 'https://api.github.com/repos/Grasscutters/Grasscutter', 'bbsxjy'], ['24631063901', 'PushEvent', '2022-10-17T02:08:31Z', 'https://api.github.com/repos/Conveccao/conveccao-frontend', 'gustavols'], ['24631063908', 'CreateEvent', '2022-10-17T02:08:32Z', 'https://api.github.com/repos/AEGON01b/JhPTGiBSGm', 'AEGON01b'], ['24631063906', 'PushEvent', '2022-10-17T02:08:32Z', 'https://api.github.com/repos/suelenturibio/suelenturibio', 'github-actions'], ['24631063911', 'DeleteEvent', '2022-10-17T02:08:32Z', 'https://api.github.com/repos/Tosh94/mage', 'dependabot'], ['24631063919', 'ForkEvent', '2022-10-17T02:08:32Z', 'https://api.github.com/repos/cran/prabclus', 'lkampoli'], ['24631063904', 'IssueCommentEvent', '2022-10-17T02:08:32Z', 'https://api.github.com/repos/h2o/h2o', 'kazuho'], ['24631063905', 'PushEvent', '2022-10-17T02:08:32Z', 'https://api.github.com/repos/IsaqueCascaes/IsaqueCascaes', 'github-actions'], ['24631063870', 'PullRequestEvent', '2022-10-17T02:08:31Z', 'https://api.github.com/repos/direwolf-github/ephemeral-ci-2e26b99b', 'direwolf-github'], ['24631063862', 'CreateEvent', '2022-10-17T02:08:31Z', 'https://api.github.com/repos/starwin689/Txa8d8UxJl', 'starwin689'], ['24631063859', 'CreateEvent', '2022-10-17T02:08:31Z', 'https://api.github.com/repos/simonwong/lint', 'dependabot'], ['24631063872', 'PushEvent', '2022-10-17T02:08:31Z', 'https://api.github.com/repos/Jose-Velasco/Portfolio', 'Jose-Velasco'], ['24631063868', 'PushEvent', '2022-10-17T02:08:31Z', 'https://api.github.com/repos/OTube/1mln-commits', 'OTube']]\n"
     ]
    }
   ],
   "source": [
    "url = 'https://api.github.com/'\n",
    "from collections import Counter\n",
    "\n",
    "if __name__ == \"__main__\":\n",
    "    eventTypes=[]\n",
    "    #IssueCommentEvent,WatchEvent,PullRequestReviewCommentEvent,CreateEvent\n",
    "    for page in range(1, 4): #First 3 pages\n",
    "        events = readUrl('events?page=' + str(page))\n",
    "        for event in events:\n",
    "\t        id = event['id']\n",
    "\t        type = event['type']\n",
    "\t        actor = event['actor']['display_login']\n",
    "\t        repoUrl = event['repo']['url']\n",
    "\t        createdAt = event['created_at']\n",
    "\t        eventTypes.append(type)\n",
    "\t        dataSet.append([id, type, createdAt, repoUrl, actor])\n",
    "    eventInfo = dict(Counter(eventTypes))\n",
    "    print(\"Individual Event Counts:\", eventInfo)\n",
    "    print(\"CreateEvent Counts:\", eventInfo['CreateEvent'])\n",
    "    print(\"DeleteEvent Counts:\", eventInfo['DeleteEvent'])\n",
    "\n",
    "print(\"Total Events Found: \", len(dataSet))\n",
    "print(dataSet)"
   ],
   "metadata": {
    "collapsed": false
   }
  }
 ],
 "metadata": {
  "kernelspec": {
   "display_name": "Python 3",
   "language": "python",
   "name": "python3"
  },
  "language_info": {
   "codemirror_mode": {
    "name": "ipython",
    "version": 2
   },
   "file_extension": ".py",
   "mimetype": "text/x-python",
   "name": "python",
   "nbconvert_exporter": "python",
   "pygments_lexer": "ipython2",
   "version": "2.7.6"
  }
 },
 "nbformat": 4,
 "nbformat_minor": 0
}
