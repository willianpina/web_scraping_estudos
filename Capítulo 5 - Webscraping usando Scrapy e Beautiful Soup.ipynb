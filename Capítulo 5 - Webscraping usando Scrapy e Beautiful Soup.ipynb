{
 "cells": [
  {
   "cell_type": "markdown",
   "metadata": {},
   "source": [
    "<h1 align=center><b>Capítulo 5</b></h1>\n",
    "<h1 align=center>Webscraping usando <i>Scrapy</i> e <i>Beautiful Soup</i></h1>"
   ]
  },
  {
   "cell_type": "markdown",
   "metadata": {},
   "source": [
    "## Web Scraping using Beautiful Soup"
   ]
  },
  {
   "cell_type": "markdown",
   "source": [
    "#### Exploring BeautifulSoup"
   ],
   "metadata": {
    "collapsed": false
   }
  },
  {
   "cell_type": "code",
   "execution_count": 2,
   "metadata": {},
   "outputs": [
    {
     "data": {
      "text/plain": "'4.11.1'"
     },
     "execution_count": 2,
     "metadata": {},
     "output_type": "execute_result"
    }
   ],
   "source": [
    "import re\n",
    "\n",
    "import bs4\n",
    "bs4.__version__"
   ]
  },
  {
   "cell_type": "code",
   "execution_count": 3,
   "outputs": [
    {
     "data": {
      "text/plain": "['BeautifulSoup',\n 'BeautifulStoneSoup',\n 'CData',\n 'Comment',\n 'Counter',\n 'DEFAULT_OUTPUT_ENCODING',\n 'Declaration',\n 'Doctype',\n 'FeatureNotFound',\n 'GuessedAtParserWarning',\n 'MarkupResemblesLocatorWarning',\n 'NavigableString',\n 'PYTHON_SPECIFIC_ENCODINGS',\n 'PageElement',\n 'ParserRejectedMarkup',\n 'ProcessingInstruction',\n 'ResultSet',\n 'Script',\n 'SoupStrainer',\n 'StopParsing',\n 'Stylesheet',\n 'Tag',\n 'TemplateString',\n 'UnicodeDammit',\n 'XMLParsedAsHTMLWarning',\n '__all__',\n '__author__',\n '__builtins__',\n '__cached__',\n '__copyright__',\n '__doc__',\n '__file__',\n '__license__',\n '__loader__',\n '__name__',\n '__package__',\n '__path__',\n '__spec__',\n '__version__',\n '_s',\n '_soup',\n 'builder',\n 'builder_registry',\n 'dammit',\n 'element',\n 'formatter',\n 'os',\n 're',\n 'sys',\n 'traceback',\n 'warnings']"
     },
     "execution_count": 3,
     "metadata": {},
     "output_type": "execute_result"
    }
   ],
   "source": [
    "dir(bs4)"
   ],
   "metadata": {
    "collapsed": false
   }
  },
  {
   "cell_type": "code",
   "execution_count": 4,
   "metadata": {},
   "outputs": [
    {
     "data": {
      "text/plain": "['ASCII_SPACES',\n 'DEFAULT_BUILDER_FEATURES',\n 'DEFAULT_INTERESTING_STRING_TYPES',\n 'NO_PARSER_SPECIFIED_WARNING',\n 'ROOT_TAG_NAME',\n '__bool__',\n '__call__',\n '__class__',\n '__contains__',\n '__copy__',\n '__delattr__',\n '__delitem__',\n '__dict__',\n '__dir__',\n '__doc__',\n '__eq__',\n '__format__',\n '__ge__',\n '__getattr__',\n '__getattribute__',\n '__getitem__',\n '__getstate__',\n '__gt__',\n '__hash__',\n '__init__',\n '__init_subclass__',\n '__iter__',\n '__le__',\n '__len__',\n '__lt__',\n '__module__',\n '__ne__',\n '__new__',\n '__reduce__',\n '__reduce_ex__',\n '__repr__',\n '__setattr__',\n '__setitem__',\n '__sizeof__',\n '__str__',\n '__subclasshook__',\n '__unicode__',\n '__weakref__',\n '_all_strings',\n '_decode_markup',\n '_feed',\n '_find_all',\n '_find_one',\n '_is_xml',\n '_lastRecursiveChild',\n '_last_descendant',\n '_linkage_fixer',\n '_markup_is_url',\n '_markup_resembles_filename',\n '_popToTag',\n '_should_pretty_print',\n 'append',\n 'childGenerator',\n 'children',\n 'clear',\n 'decode',\n 'decode_contents',\n 'decompose',\n 'decomposed',\n 'default',\n 'descendants',\n 'encode',\n 'encode_contents',\n 'endData',\n 'extend',\n 'extract',\n 'fetchNextSiblings',\n 'fetchParents',\n 'fetchPrevious',\n 'fetchPreviousSiblings',\n 'find',\n 'findAll',\n 'findAllNext',\n 'findAllPrevious',\n 'findChild',\n 'findChildren',\n 'findNext',\n 'findNextSibling',\n 'findNextSiblings',\n 'findParent',\n 'findParents',\n 'findPrevious',\n 'findPreviousSibling',\n 'findPreviousSiblings',\n 'find_all',\n 'find_all_next',\n 'find_all_previous',\n 'find_next',\n 'find_next_sibling',\n 'find_next_siblings',\n 'find_parent',\n 'find_parents',\n 'find_previous',\n 'find_previous_sibling',\n 'find_previous_siblings',\n 'format_string',\n 'formatter_for_name',\n 'get',\n 'getText',\n 'get_attribute_list',\n 'get_text',\n 'handle_data',\n 'handle_endtag',\n 'handle_starttag',\n 'has_attr',\n 'has_key',\n 'index',\n 'insert',\n 'insert_after',\n 'insert_before',\n 'isSelfClosing',\n 'is_empty_element',\n 'new_string',\n 'new_tag',\n 'next',\n 'nextGenerator',\n 'nextSibling',\n 'nextSiblingGenerator',\n 'next_elements',\n 'next_siblings',\n 'object_was_parsed',\n 'parentGenerator',\n 'parents',\n 'parserClass',\n 'popTag',\n 'prettify',\n 'previous',\n 'previousGenerator',\n 'previousSibling',\n 'previousSiblingGenerator',\n 'previous_elements',\n 'previous_siblings',\n 'pushTag',\n 'recursiveChildGenerator',\n 'renderContents',\n 'replaceWith',\n 'replaceWithChildren',\n 'replace_with',\n 'replace_with_children',\n 'reset',\n 'select',\n 'select_one',\n 'setup',\n 'smooth',\n 'string',\n 'string_container',\n 'strings',\n 'stripped_strings',\n 'text',\n 'unwrap',\n 'wrap']"
     },
     "execution_count": 4,
     "metadata": {},
     "output_type": "execute_result"
    }
   ],
   "source": [
    "dir(bs4.BeautifulSoup)"
   ]
  },
  {
   "cell_type": "code",
   "execution_count": 5,
   "metadata": {},
   "outputs": [],
   "source": [
    "# Verificando a obtenção de resposta de um URL escolhida.\n",
    "from bs4 import SoupStrainer, BeautifulSoup"
   ]
  },
  {
   "cell_type": "code",
   "execution_count": 6,
   "outputs": [],
   "source": [
    "html_doc=\"\"\"<html><head><title>The Dormouse's story</title></head>\n",
    "<body>\n",
    "<p class=\"title\"><b>The Dormouse's story</b></p>\n",
    "<p class=\"story\">Once upon a time there were three little sisters; and their names\n",
    "were\n",
    "<a href=\"http://example.com/elsie\" class=\"sister\" id=\"link1\">Elsie</a>,\n",
    "<a href=\"http://example.com/lacie\" class=\"sister\" id=\"link2\">Lacie</a> and\n",
    "<a href=\"http://example.com/tillie\" class=\"sister\" id=\"link3\">Tillie</a>;\n",
    "and they lived at the bottom of a well.</p>\n",
    "<p class=\"story\">...</p>\n",
    "<h1>Secret agents</h1>\n",
    "<ul>\n",
    "<li data-id=\"10784\">Jason Walters, 003: Found dead in \"A View to a Kill\".</li>\n",
    "<li data-id=\"97865\">Alex Trevelyan, 006: Agent turned terrorist leader; James'\n",
    "nemesis in \"Goldeneye\".</li>\n",
    "<li data-id=\"45732\">James Bond, 007: The main man; shaken but not stirred.</li>\n",
    "</ul>\n",
    "</body>\n",
    "</html>\"\"\"\n"
   ],
   "metadata": {
    "collapsed": false
   }
  },
  {
   "cell_type": "markdown",
   "source": [
    "Vamos testar alguns exemplos de parser e criar um objeto BeautifulSoup.\n",
    "* soup = Beautifulsoup(html_markup)\n",
    "* soup = Beautifulsoup(html_markup, 'lxml')\n",
    "* soup = Beautifulsoup(html_markup, 'lxml', parse_from=SoupStrainer(\"a\"))\n",
    "* soup = Beautifulsoup(html_markup, 'html.parser')\n",
    "* soup = Beautifulsoup(html_markup, 'html5lib')\n",
    "* soup = Beautifulsoup(xml_markup, 'xml')\n",
    "* soup = Beautifulsoup(some_markup, from_encoding='ISO-8859-8')\n",
    "* soup = Beautifulsoup(some_markup, exclude_encodings=['ISO-8859-7'])\n"
   ],
   "metadata": {
    "collapsed": false
   }
  },
  {
   "cell_type": "code",
   "execution_count": 7,
   "metadata": {},
   "outputs": [
    {
     "name": "stdout",
     "output_type": "stream",
     "text": [
      "<class 'bs4.BeautifulSoup'>\n"
     ]
    }
   ],
   "source": [
    "# Vamos trabalhar apenas com as Tags <a>. Para isso vamos usar o Objeto SoupStrainer\n",
    "tagsA = SoupStrainer(\"a\")\n",
    "soupA = BeautifulSoup(html_doc,'lxml',parse_only=tagsA)\n",
    "\n",
    "print(type(soupA))"
   ]
  },
  {
   "cell_type": "code",
   "execution_count": 8,
   "metadata": {},
   "outputs": [
    {
     "name": "stdout",
     "output_type": "stream",
     "text": [
      "<a class=\"sister\" href=\"http://example.com/elsie\" id=\"link1\">\n",
      " Elsie\n",
      "</a>\n",
      "<a class=\"sister\" href=\"http://example.com/lacie\" id=\"link2\">\n",
      " Lacie\n",
      "</a>\n",
      "<a class=\"sister\" href=\"http://example.com/tillie\" id=\"link3\">\n",
      " Tillie\n",
      "</a>\n"
     ]
    }
   ],
   "source": [
    "print(soupA.prettify()) # Modelo mais aprazível"
   ]
  },
  {
   "cell_type": "code",
   "execution_count": 9,
   "metadata": {},
   "outputs": [
    {
     "data": {
      "text/plain": "True"
     },
     "execution_count": 9,
     "metadata": {},
     "output_type": "execute_result"
    }
   ],
   "source": [
    "# has_attr() retorna um boleano se tiver o atributo\n",
    "soupA.a.has_attr('class') # Como tem esse atributo retornará <True>"
   ]
  },
  {
   "cell_type": "code",
   "execution_count": 10,
   "outputs": [
    {
     "data": {
      "text/plain": "False"
     },
     "execution_count": 10,
     "metadata": {},
     "output_type": "execute_result"
    }
   ],
   "source": [
    "soupA.a.has_attr('name') # Não tem esse atributo"
   ],
   "metadata": {
    "collapsed": false
   }
  },
  {
   "cell_type": "markdown",
   "metadata": {},
   "source": [
    "## Pesquisando, percorrendo e iterando"
   ]
  },
  {
   "cell_type": "code",
   "execution_count": 11,
   "outputs": [],
   "source": [
    "# find() retorna a primeiro nó-filho que combinou.\n",
    "# attrs: um dicionário de chave e valor\n",
    "# text: com o elemento texto\n",
    "# name: uma tag <name>"
   ],
   "metadata": {
    "collapsed": false
   }
  },
  {
   "cell_type": "code",
   "execution_count": 12,
   "outputs": [
    {
     "name": "stdout",
     "output_type": "stream",
     "text": [
      "<a class=\"sister\" href=\"http://example.com/elsie\" id=\"link1\">Elsie</a>\n"
     ]
    }
   ],
   "source": [
    "# Procura um elemento ou tag <a> na primeira ocorrência.\n",
    "print(soupA.find('a'))"
   ],
   "metadata": {
    "collapsed": false
   }
  },
  {
   "cell_type": "code",
   "execution_count": 13,
   "outputs": [
    {
     "name": "stdout",
     "output_type": "stream",
     "text": [
      "<a class=\"sister\" href=\"http://example.com/elsie\" id=\"link1\">Elsie</a>\n"
     ]
    }
   ],
   "source": [
    "# Procura um elemento <a> com o atributo e valor\n",
    "print(soupA.find(name='a'))"
   ],
   "metadata": {
    "collapsed": false
   }
  },
  {
   "cell_type": "markdown",
   "metadata": {},
   "source": []
  },
  {
   "cell_type": "code",
   "execution_count": 14,
   "metadata": {},
   "outputs": [
    {
     "data": {
      "text/plain": "<a class=\"sister\" href=\"http://example.com/lacie\" id=\"link2\">Lacie</a>"
     },
     "execution_count": 14,
     "metadata": {},
     "output_type": "execute_result"
    }
   ],
   "source": [
    "# Procurando com um texto no atributo\n",
    "soupA.find('a', attrs={'class':'sister'}, text=\"Lacie\")"
   ]
  },
  {
   "cell_type": "code",
   "execution_count": 15,
   "outputs": [
    {
     "data": {
      "text/plain": "<a class=\"sister\" href=\"http://example.com/tillie\" id=\"link3\">Tillie</a>"
     },
     "execution_count": 15,
     "metadata": {},
     "output_type": "execute_result"
    }
   ],
   "source": [
    "# Procurando com um referido <id>\n",
    "soupA.find('a',attrs={'id':'link3'})"
   ],
   "metadata": {
    "collapsed": false
   }
  },
  {
   "cell_type": "code",
   "execution_count": 16,
   "outputs": [
    {
     "data": {
      "text/plain": "<a class=\"sister\" href=\"http://example.com/lacie\" id=\"link2\">Lacie</a>"
     },
     "execution_count": 16,
     "metadata": {},
     "output_type": "execute_result"
    }
   ],
   "source": [
    "soupA.find('a',id= 'link2') # Pode ser direto também"
   ],
   "metadata": {
    "collapsed": false
   }
  },
  {
   "cell_type": "code",
   "execution_count": 17,
   "metadata": {
    "scrolled": false
   },
   "outputs": [
    {
     "data": {
      "text/plain": "[<a class=\"sister\" href=\"http://example.com/elsie\" id=\"link1\">Elsie</a>,\n <a class=\"sister\" href=\"http://example.com/lacie\" id=\"link2\">Lacie</a>,\n <a class=\"sister\" href=\"http://example.com/tillie\" id=\"link3\">Tillie</a>]"
     },
     "execution_count": 17,
     "metadata": {},
     "output_type": "execute_result"
    }
   ],
   "source": [
    "# Find_all() procura todas as ocorrências da tag\n",
    "\n",
    "[soup for soup in soupA.find_all('a')]"
   ]
  },
  {
   "cell_type": "code",
   "execution_count": 18,
   "metadata": {},
   "outputs": [
    {
     "data": {
      "text/plain": "[<a class=\"sister\" href=\"http://example.com/elsie\" id=\"link1\">Elsie</a>,\n <a class=\"sister\" href=\"http://example.com/lacie\" id=\"link2\">Lacie</a>]"
     },
     "execution_count": 18,
     "metadata": {},
     "output_type": "execute_result"
    }
   ],
   "source": [
    "# Limitando o número de ocorrências\n",
    "# Retorna somente 2 ocorrências.\n",
    "[soup for soup in soupA.find_all('a',limit=2)]"
   ]
  },
  {
   "cell_type": "code",
   "execution_count": 19,
   "metadata": {},
   "outputs": [
    {
     "data": {
      "text/plain": "<a class=\"sister\" href=\"http://example.com/lacie\" id=\"link2\">Lacie</a>"
     },
     "execution_count": 19,
     "metadata": {},
     "output_type": "execute_result"
    }
   ],
   "source": [
    "# Strings, lista de Strings, Objetos de Expressão Regular podem ser inputadas no <name> ou <text> como atributo do parâmentro attrs\n",
    "import re\n",
    "soupA.find('a',text=re.compile(r'cie'))"
   ]
  },
  {
   "cell_type": "code",
   "execution_count": 20,
   "outputs": [
    {
     "data": {
      "text/plain": "[<a class=\"sister\" href=\"http://example.com/tillie\" id=\"link3\">Tillie</a>]"
     },
     "execution_count": 20,
     "metadata": {},
     "output_type": "execute_result"
    }
   ],
   "source": [
    "soupA.find_all('a',attrs={'id':re.compile(r'3')})"
   ],
   "metadata": {
    "collapsed": false
   }
  },
  {
   "cell_type": "code",
   "execution_count": 21,
   "metadata": {},
   "outputs": [
    {
     "data": {
      "text/plain": "[<a class=\"sister\" href=\"http://example.com/elsie\" id=\"link1\">Elsie</a>,\n <a class=\"sister\" href=\"http://example.com/lacie\" id=\"link2\">Lacie</a>,\n <a class=\"sister\" href=\"http://example.com/tillie\" id=\"link3\">Tillie</a>]"
     },
     "execution_count": 21,
     "metadata": {},
     "output_type": "execute_result"
    }
   ],
   "source": [
    "soupA.find_all(re.compile('a'))"
   ]
  },
  {
   "cell_type": "code",
   "execution_count": 22,
   "outputs": [
    {
     "data": {
      "text/plain": "[<p class=\"title\"><b>The Dormouse's story</b></p>,\n <p class=\"story\">Once upon a time there were three little sisters; and their names\n were\n <a class=\"sister\" href=\"http://example.com/elsie\" id=\"link1\">Elsie</a>,\n <a class=\"sister\" href=\"http://example.com/lacie\" id=\"link2\">Lacie</a> and\n <a class=\"sister\" href=\"http://example.com/tillie\" id=\"link3\">Tillie</a>;\n and they lived at the bottom of a well.</p>,\n <p class=\"story\">...</p>]"
     },
     "execution_count": 22,
     "metadata": {},
     "output_type": "execute_result"
    }
   ],
   "source": [
    "# find_all() suporta atributos globais como nome classe\n",
    "soup = BeautifulSoup(html_doc,'lxml')\n",
    "soup.find_all('p') # Pegar todos os <p>"
   ],
   "metadata": {
    "collapsed": false
   }
  },
  {
   "cell_type": "code",
   "execution_count": 23,
   "outputs": [
    {
     "data": {
      "text/plain": "[<p class=\"story\">Once upon a time there were three little sisters; and their names\n were\n <a class=\"sister\" href=\"http://example.com/elsie\" id=\"link1\">Elsie</a>,\n <a class=\"sister\" href=\"http://example.com/lacie\" id=\"link2\">Lacie</a> and\n <a class=\"sister\" href=\"http://example.com/tillie\" id=\"link3\">Tillie</a>;\n and they lived at the bottom of a well.</p>,\n <p class=\"story\">...</p>]"
     },
     "execution_count": 23,
     "metadata": {},
     "output_type": "execute_result"
    }
   ],
   "source": [
    "soup.find_all('p','story') # pega somente a classe \"story\""
   ],
   "metadata": {
    "collapsed": false
   }
  },
  {
   "cell_type": "code",
   "execution_count": 24,
   "outputs": [
    {
     "data": {
      "text/plain": "[<p class=\"title\"><b>The Dormouse's story</b></p>]"
     },
     "execution_count": 24,
     "metadata": {},
     "output_type": "execute_result"
    }
   ],
   "source": [
    "# Capturando a classe apenas \"title\"\n",
    "soup.find_all('p','title')"
   ],
   "metadata": {
    "collapsed": false
   }
  },
  {
   "cell_type": "code",
   "execution_count": 25,
   "outputs": [
    {
     "data": {
      "text/plain": "[<p class=\"title\"><b>The Dormouse's story</b></p>]"
     },
     "execution_count": 25,
     "metadata": {},
     "output_type": "execute_result"
    }
   ],
   "source": [
    "# O exemplo acima seria o mesmo que:\n",
    "soup.find_all('p',attrs={'class':'title'})"
   ],
   "metadata": {
    "collapsed": false
   }
  },
  {
   "cell_type": "code",
   "execution_count": 26,
   "outputs": [
    {
     "data": {
      "text/plain": "[<p class=\"title\"><b>The Dormouse's story</b></p>,\n <p class=\"story\">Once upon a time there were three little sisters; and their names\n were\n <a class=\"sister\" href=\"http://example.com/elsie\" id=\"link1\">Elsie</a>,\n <a class=\"sister\" href=\"http://example.com/lacie\" id=\"link2\">Lacie</a> and\n <a class=\"sister\" href=\"http://example.com/tillie\" id=\"link3\">Tillie</a>;\n and they lived at the bottom of a well.</p>,\n <p class=\"story\">...</p>]"
     },
     "execution_count": 26,
     "metadata": {},
     "output_type": "execute_result"
    }
   ],
   "source": [
    "# Multiplos <name> e <attrs> podem ser passados na sintaxe find_all()\n",
    "\n",
    "soup.find_all('p',attrs={'class':['title','story']}) # Sendo explícito"
   ],
   "metadata": {
    "collapsed": false
   }
  },
  {
   "cell_type": "code",
   "execution_count": 27,
   "outputs": [
    {
     "data": {
      "text/plain": "[<p class=\"title\"><b>The Dormouse's story</b></p>,\n <p class=\"story\">Once upon a time there were three little sisters; and their names\n were\n <a class=\"sister\" href=\"http://example.com/elsie\" id=\"link1\">Elsie</a>,\n <a class=\"sister\" href=\"http://example.com/lacie\" id=\"link2\">Lacie</a> and\n <a class=\"sister\" href=\"http://example.com/tillie\" id=\"link3\">Tillie</a>;\n and they lived at the bottom of a well.</p>,\n <p class=\"story\">...</p>,\n <li data-id=\"10784\">Jason Walters, 003: Found dead in \"A View to a Kill\".</li>,\n <li data-id=\"97865\">Alex Trevelyan, 006: Agent turned terrorist leader; James'\n nemesis in \"Goldeneye\".</li>,\n <li data-id=\"45732\">James Bond, 007: The main man; shaken but not stirred.</li>]"
     },
     "execution_count": 27,
     "metadata": {},
     "output_type": "execute_result"
    }
   ],
   "source": [
    "soup.find_all(['p','li']) # Sendo implícito"
   ],
   "metadata": {
    "collapsed": false
   }
  },
  {
   "cell_type": "code",
   "execution_count": 28,
   "outputs": [
    {
     "data": {
      "text/plain": "['Elsie']"
     },
     "execution_count": 28,
     "metadata": {},
     "output_type": "execute_result"
    }
   ],
   "source": [
    "# Podemos usar o parâmetro <String> é parecido com o <text>\n",
    "# Pode ser usado com ou sem o nome da tag\n",
    "soup.find_all(string='Elsie')"
   ],
   "metadata": {
    "collapsed": false
   }
  },
  {
   "cell_type": "code",
   "execution_count": 29,
   "outputs": [
    {
     "data": {
      "text/plain": "['Elsie']"
     },
     "execution_count": 29,
     "metadata": {},
     "output_type": "execute_result"
    }
   ],
   "source": [
    "soup.find_all(text=re.compile(r'Elsie'))"
   ],
   "metadata": {
    "collapsed": false
   }
  },
  {
   "cell_type": "code",
   "execution_count": 30,
   "outputs": [
    {
     "data": {
      "text/plain": "[<a class=\"sister\" href=\"http://example.com/elsie\" id=\"link1\">Elsie</a>]"
     },
     "execution_count": 30,
     "metadata": {},
     "output_type": "execute_result"
    }
   ],
   "source": [
    "# Encontrando a tag com \"Elsie\"\n",
    "soup.find_all('a',string=\"Elsie\")"
   ],
   "metadata": {
    "collapsed": false
   }
  },
  {
   "cell_type": "code",
   "execution_count": 31,
   "outputs": [
    {
     "name": "stdout",
     "output_type": "stream",
     "text": [
      "li  >  10784  >  Jason Walters, 003: Found dead in \"A View to a Kill\".\n",
      "li  >  97865  >  Alex Trevelyan, 006: Agent turned terrorist leader; James'\n",
      "nemesis in \"Goldeneye\".\n",
      "li  >  45732  >  James Bond, 007: The main man; shaken but not stirred.\n"
     ]
    }
   ],
   "source": [
    "# Podemos usar o find_all() para iterar sobre os elementos\n",
    "\n",
    "for li in soup.ul.find_all('li'):\n",
    "    print(li.name, ' > ',li.get('data-id'),' > ', li.text)"
   ],
   "metadata": {
    "collapsed": false
   }
  },
  {
   "cell_type": "code",
   "execution_count": 32,
   "outputs": [
    {
     "data": {
      "text/plain": "<a class=\"sister\" href=\"http://example.com/elsie\" id=\"link1\">Elsie</a>"
     },
     "execution_count": 32,
     "metadata": {},
     "output_type": "execute_result"
    }
   ],
   "source": [
    "# Podemos acessar com ou sem a <tag name> dessa forma:\n",
    "soupA.a"
   ],
   "metadata": {
    "collapsed": false
   }
  },
  {
   "cell_type": "code",
   "execution_count": 33,
   "outputs": [
    {
     "data": {
      "text/plain": "<li data-id=\"10784\">Jason Walters, 003: Found dead in \"A View to a Kill\".</li>"
     },
     "execution_count": 33,
     "metadata": {},
     "output_type": "execute_result"
    }
   ],
   "source": [
    "soup.li"
   ],
   "metadata": {
    "collapsed": false
   }
  },
  {
   "cell_type": "code",
   "execution_count": 34,
   "outputs": [
    {
     "data": {
      "text/plain": "<p class=\"title\"><b>The Dormouse's story</b></p>"
     },
     "execution_count": 34,
     "metadata": {},
     "output_type": "execute_result"
    }
   ],
   "source": [
    "soup.p"
   ],
   "metadata": {
    "collapsed": false
   }
  },
  {
   "cell_type": "code",
   "execution_count": 35,
   "outputs": [
    {
     "data": {
      "text/plain": "<b>The Dormouse's story</b>"
     },
     "execution_count": 35,
     "metadata": {},
     "output_type": "execute_result"
    }
   ],
   "source": [
    "soup.p.b # Vemos que dentro da tag <p> existe a tag <b> que podemos acessar!!!"
   ],
   "metadata": {
    "collapsed": false
   }
  },
  {
   "cell_type": "code",
   "execution_count": 36,
   "outputs": [
    {
     "data": {
      "text/plain": "<li data-id=\"97865\">Alex Trevelyan, 006: Agent turned terrorist leader; James'\nnemesis in \"Goldeneye\".</li>"
     },
     "execution_count": 36,
     "metadata": {},
     "output_type": "execute_result"
    }
   ],
   "source": [
    "soup.ul.find('li',attrs={'data-id':'97865'})"
   ],
   "metadata": {
    "collapsed": false
   }
  },
  {
   "cell_type": "code",
   "execution_count": 37,
   "outputs": [
    {
     "name": "stdout",
     "output_type": "stream",
     "text": [
      "Alex Trevelyan, 006: Agent turned terrorist leader; James'\n",
      "nemesis in \"Goldeneye\".\n"
     ]
    }
   ],
   "source": [
    "# Podemos pegar apenas o texto usando .text ou o get_text()\n",
    "print(soup.ul.find('li',attrs={'data-id':'97865'}).text)"
   ],
   "metadata": {
    "collapsed": false
   }
  },
  {
   "cell_type": "code",
   "execution_count": 38,
   "outputs": [
    {
     "data": {
      "text/plain": "\"The Dormouse's story\""
     },
     "execution_count": 38,
     "metadata": {},
     "output_type": "execute_result"
    }
   ],
   "source": [
    "soup.p.text"
   ],
   "metadata": {
    "collapsed": false
   }
  },
  {
   "cell_type": "code",
   "execution_count": 39,
   "outputs": [
    {
     "data": {
      "text/plain": "'Jason Walters, 003: Found dead in \"A View to a Kill\".'"
     },
     "execution_count": 39,
     "metadata": {},
     "output_type": "execute_result"
    }
   ],
   "source": [
    "soup.li.text"
   ],
   "metadata": {
    "collapsed": false
   }
  },
  {
   "cell_type": "code",
   "execution_count": 40,
   "outputs": [
    {
     "data": {
      "text/plain": "\"The Dormouse's story\""
     },
     "execution_count": 40,
     "metadata": {},
     "output_type": "execute_result"
    }
   ],
   "source": [
    "soup.p.string # String funciona também!!!"
   ],
   "metadata": {
    "collapsed": false
   }
  },
  {
   "cell_type": "markdown",
   "metadata": {},
   "source": [
    "## Usando *filhos* e *pais*"
   ]
  },
  {
   "cell_type": "markdown",
   "source": [
    "* `contents` coletam filhos para os critérios fornecidos em uma lista.\n",
    "* `children` são usados para iteração que tem filhos diretos.\n",
    "* `descendants` funcionam de forma ligeiramente diferente dos elementos `content` e `children`.\n",
    "\n",
    "Ele permite iteração sobre todos os filhos, não apenas os diretos, ou seja, a *tag* do elemento e o conteúdo dentro da *tag* são, na verdade, dois *filhos* separados."
   ],
   "metadata": {
    "collapsed": false
   }
  },
  {
   "cell_type": "code",
   "execution_count": 41,
   "metadata": {},
   "outputs": [
    {
     "data": {
      "text/plain": "['Once upon a time there were three little sisters; and their names\\nwere\\n',\n <a class=\"sister\" href=\"http://example.com/elsie\" id=\"link1\">Elsie</a>,\n ',\\n',\n <a class=\"sister\" href=\"http://example.com/lacie\" id=\"link2\">Lacie</a>,\n ' and\\n',\n <a class=\"sister\" href=\"http://example.com/tillie\" id=\"link3\">Tillie</a>,\n ';\\nand they lived at the bottom of a well.']"
     },
     "execution_count": 41,
     "metadata": {},
     "output_type": "execute_result"
    }
   ],
   "source": [
    "list(soup.find('p','story').children)"
   ]
  },
  {
   "cell_type": "code",
   "execution_count": 42,
   "metadata": {},
   "outputs": [
    {
     "data": {
      "text/plain": "['Once upon a time there were three little sisters; and their names\\nwere\\n',\n <a class=\"sister\" href=\"http://example.com/elsie\" id=\"link1\">Elsie</a>,\n ',\\n',\n <a class=\"sister\" href=\"http://example.com/lacie\" id=\"link2\">Lacie</a>,\n ' and\\n',\n <a class=\"sister\" href=\"http://example.com/tillie\" id=\"link3\">Tillie</a>,\n ';\\nand they lived at the bottom of a well.']"
     },
     "execution_count": 42,
     "metadata": {},
     "output_type": "execute_result"
    }
   ],
   "source": [
    "list(soup.find('p','story').contents)"
   ]
  },
  {
   "cell_type": "code",
   "execution_count": 43,
   "metadata": {},
   "outputs": [
    {
     "data": {
      "text/plain": "['Once upon a time there were three little sisters; and their names\\nwere\\n',\n <a class=\"sister\" href=\"http://example.com/elsie\" id=\"link1\">Elsie</a>,\n 'Elsie',\n ',\\n',\n <a class=\"sister\" href=\"http://example.com/lacie\" id=\"link2\">Lacie</a>,\n 'Lacie',\n ' and\\n',\n <a class=\"sister\" href=\"http://example.com/tillie\" id=\"link3\">Tillie</a>,\n 'Tillie',\n ';\\nand they lived at the bottom of a well.']"
     },
     "execution_count": 43,
     "metadata": {},
     "output_type": "execute_result"
    }
   ],
   "source": [
    "list(soup.find('p','story').descendants)"
   ]
  },
  {
   "cell_type": "code",
   "execution_count": 44,
   "outputs": [
    {
     "data": {
      "text/plain": "[None, 'a', None, 'a', None, 'a', None]"
     },
     "execution_count": 44,
     "metadata": {},
     "output_type": "execute_result"
    }
   ],
   "source": [
    "# Selecionando <children> o os <descendants> obtemos o atributo <name>\n",
    "# Vemos que temos \"\\n\" (Nova Linha).\n",
    "# Depois podemos filtrar essas linhas vazias.\n",
    "\n",
    "# USANDO A TÉCNICA DA LIST COMPREHENSION\n",
    "\n",
    "[a.name for a in soup.find('p','story').children]"
   ],
   "metadata": {
    "collapsed": false
   }
  },
  {
   "cell_type": "code",
   "execution_count": 45,
   "outputs": [
    {
     "data": {
      "text/plain": "[{'tag': 'a', 'text': 'Elsie', 'class': ['sister']},\n {'tag': 'a', 'text': 'Lacie', 'class': ['sister']},\n {'tag': 'a', 'text': 'Tillie', 'class': ['sister']}]"
     },
     "execution_count": 45,
     "metadata": {},
     "output_type": "execute_result"
    }
   ],
   "source": [
    "# Impondo uma condição para os <Children>\n",
    "[{'tag': a.name,'text': a.text,'class': a.get('class')} for a in soup.find('p','story').children if a.name!=None]"
   ],
   "metadata": {
    "collapsed": false
   }
  },
  {
   "cell_type": "code",
   "execution_count": 46,
   "outputs": [
    {
     "data": {
      "text/plain": "[None, 'a', None, None, 'a', None, None, 'a', None, None]"
     },
     "execution_count": 46,
     "metadata": {},
     "output_type": "execute_result"
    }
   ],
   "source": [
    "# Mesma coisa fazemos para os <descendents>\n",
    "[a.name for a in soup.find('p','story').descendants]"
   ],
   "metadata": {
    "collapsed": false
   }
  },
  {
   "cell_type": "code",
   "execution_count": 47,
   "outputs": [
    {
     "data": {
      "text/plain": "['a', 'a', 'a']"
     },
     "execution_count": 47,
     "metadata": {},
     "output_type": "execute_result"
    }
   ],
   "source": [
    "# Usando a função filter() iremos elimnar os campos vazios.\n",
    "list(filter(None,[a.name for a in soup.find('p','story').descendants] ))"
   ],
   "metadata": {
    "collapsed": false
   }
  },
  {
   "cell_type": "code",
   "execution_count": 48,
   "metadata": {},
   "outputs": [
    {
     "data": {
      "text/plain": "[<a class=\"sister\" href=\"http://example.com/elsie\" id=\"link1\">Elsie</a>,\n <a class=\"sister\" href=\"http://example.com/lacie\" id=\"link2\">Lacie</a>,\n <a class=\"sister\" href=\"http://example.com/tillie\" id=\"link3\">Tillie</a>]"
     },
     "execution_count": 48,
     "metadata": {},
     "output_type": "execute_result"
    }
   ],
   "source": [
    "# Encontrando as tag filhos apenas!\n",
    "soup.find('p','story').findChildren()"
   ]
  },
  {
   "cell_type": "code",
   "execution_count": 49,
   "outputs": [
    {
     "data": {
      "text/plain": "<a class=\"sister\" href=\"http://example.com/elsie\" id=\"link1\">Elsie</a>"
     },
     "execution_count": 49,
     "metadata": {},
     "output_type": "execute_result"
    }
   ],
   "source": [
    "soup.find('p','story').findChild() # Só a primeira tag Children"
   ],
   "metadata": {
    "collapsed": false
   }
  },
  {
   "cell_type": "code",
   "execution_count": 50,
   "metadata": {},
   "outputs": [
    {
     "data": {
      "text/plain": "<p class=\"story\">Once upon a time there were three little sisters; and their names\nwere\n<a class=\"sister\" href=\"http://example.com/elsie\" id=\"link1\">Elsie</a>,\n<a class=\"sister\" href=\"http://example.com/lacie\" id=\"link2\">Lacie</a> and\n<a class=\"sister\" href=\"http://example.com/tillie\" id=\"link3\">Tillie</a>;\nand they lived at the bottom of a well.</p>"
     },
     "execution_count": 50,
     "metadata": {},
     "output_type": "execute_result"
    }
   ],
   "source": [
    "# Encotrando no nó pai\n",
    "soup.find('a','sister').parent"
   ]
  },
  {
   "cell_type": "code",
   "execution_count": 51,
   "metadata": {},
   "outputs": [
    {
     "data": {
      "text/plain": "'p'"
     },
     "execution_count": 51,
     "metadata": {},
     "output_type": "execute_result"
    }
   ],
   "source": [
    "soup.find('a').parent.name"
   ]
  },
  {
   "cell_type": "code",
   "execution_count": 52,
   "metadata": {},
   "outputs": [
    {
     "name": "stdout",
     "output_type": "stream",
     "text": [
      "Once upon a time there were three little sisters; and their names\n",
      "were\n",
      "Elsie,\n",
      "Lacie and\n",
      "Tillie;\n",
      "and they lived at the bottom of a well.\n"
     ]
    }
   ],
   "source": [
    "print(soup.find('a','sister').parent.text)"
   ]
  },
  {
   "cell_type": "code",
   "execution_count": 53,
   "metadata": {},
   "outputs": [
    {
     "name": "stdout",
     "output_type": "stream",
     "text": [
      "p\n",
      "body\n",
      "html\n",
      "[document]\n"
     ]
    }
   ],
   "source": [
    "# Encontrando as tag dos pais.\n",
    "for element in soup.find('a').parents:\n",
    "    print(element.name)"
   ]
  },
  {
   "cell_type": "code",
   "execution_count": 54,
   "metadata": {},
   "outputs": [
    {
     "data": {
      "text/plain": "<p class=\"story\">Once upon a time there were three little sisters; and their names\nwere\n<a class=\"sister\" href=\"http://example.com/elsie\" id=\"link1\">Elsie</a>,\n<a class=\"sister\" href=\"http://example.com/lacie\" id=\"link2\">Lacie</a> and\n<a class=\"sister\" href=\"http://example.com/tillie\" id=\"link3\">Tillie</a>;\nand they lived at the bottom of a well.</p>"
     },
     "execution_count": 54,
     "metadata": {},
     "output_type": "execute_result"
    }
   ],
   "source": [
    "# .findParent() encontra o nó pai.\n",
    "soup.find('a','sister').findParent()"
   ]
  },
  {
   "cell_type": "code",
   "execution_count": 55,
   "metadata": {},
   "outputs": [
    {
     "data": {
      "text/plain": "[<p class=\"story\">Once upon a time there were three little sisters; and their names\n were\n <a class=\"sister\" href=\"http://example.com/elsie\" id=\"link1\">Elsie</a>,\n <a class=\"sister\" href=\"http://example.com/lacie\" id=\"link2\">Lacie</a> and\n <a class=\"sister\" href=\"http://example.com/tillie\" id=\"link3\">Tillie</a>;\n and they lived at the bottom of a well.</p>,\n <body>\n <p class=\"title\"><b>The Dormouse's story</b></p>\n <p class=\"story\">Once upon a time there were three little sisters; and their names\n were\n <a class=\"sister\" href=\"http://example.com/elsie\" id=\"link1\">Elsie</a>,\n <a class=\"sister\" href=\"http://example.com/lacie\" id=\"link2\">Lacie</a> and\n <a class=\"sister\" href=\"http://example.com/tillie\" id=\"link3\">Tillie</a>;\n and they lived at the bottom of a well.</p>\n <p class=\"story\">...</p>\n <h1>Secret agents</h1>\n <ul>\n <li data-id=\"10784\">Jason Walters, 003: Found dead in \"A View to a Kill\".</li>\n <li data-id=\"97865\">Alex Trevelyan, 006: Agent turned terrorist leader; James'\n nemesis in \"Goldeneye\".</li>\n <li data-id=\"45732\">James Bond, 007: The main man; shaken but not stirred.</li>\n </ul>\n </body>,\n <html><head><title>The Dormouse's story</title></head>\n <body>\n <p class=\"title\"><b>The Dormouse's story</b></p>\n <p class=\"story\">Once upon a time there were three little sisters; and their names\n were\n <a class=\"sister\" href=\"http://example.com/elsie\" id=\"link1\">Elsie</a>,\n <a class=\"sister\" href=\"http://example.com/lacie\" id=\"link2\">Lacie</a> and\n <a class=\"sister\" href=\"http://example.com/tillie\" id=\"link3\">Tillie</a>;\n and they lived at the bottom of a well.</p>\n <p class=\"story\">...</p>\n <h1>Secret agents</h1>\n <ul>\n <li data-id=\"10784\">Jason Walters, 003: Found dead in \"A View to a Kill\".</li>\n <li data-id=\"97865\">Alex Trevelyan, 006: Agent turned terrorist leader; James'\n nemesis in \"Goldeneye\".</li>\n <li data-id=\"45732\">James Bond, 007: The main man; shaken but not stirred.</li>\n </ul>\n </body>\n </html>,\n <html><head><title>The Dormouse's story</title></head>\n <body>\n <p class=\"title\"><b>The Dormouse's story</b></p>\n <p class=\"story\">Once upon a time there were three little sisters; and their names\n were\n <a class=\"sister\" href=\"http://example.com/elsie\" id=\"link1\">Elsie</a>,\n <a class=\"sister\" href=\"http://example.com/lacie\" id=\"link2\">Lacie</a> and\n <a class=\"sister\" href=\"http://example.com/tillie\" id=\"link3\">Tillie</a>;\n and they lived at the bottom of a well.</p>\n <p class=\"story\">...</p>\n <h1>Secret agents</h1>\n <ul>\n <li data-id=\"10784\">Jason Walters, 003: Found dead in \"A View to a Kill\".</li>\n <li data-id=\"97865\">Alex Trevelyan, 006: Agent turned terrorist leader; James'\n nemesis in \"Goldeneye\".</li>\n <li data-id=\"45732\">James Bond, 007: The main man; shaken but not stirred.</li>\n </ul>\n </body>\n </html>]"
     },
     "execution_count": 55,
     "metadata": {},
     "output_type": "execute_result"
    }
   ],
   "source": [
    "soup.find('a','sister').findParents()"
   ]
  },
  {
   "cell_type": "markdown",
   "metadata": {},
   "source": [
    "## Using *next* e *previous*"
   ]
  },
  {
   "cell_type": "code",
   "execution_count": 56,
   "metadata": {},
   "outputs": [
    {
     "data": {
      "text/plain": "'Once upon a time there were three little sisters; and their names\\nwere\\n'"
     },
     "execution_count": 56,
     "metadata": {},
     "output_type": "execute_result"
    }
   ],
   "source": [
    "# Encontrar o <próximo> elemento.\n",
    "# As funções podem ser encadeadas.\n",
    "soup.find('p','story').next"
   ]
  },
  {
   "cell_type": "code",
   "execution_count": 57,
   "outputs": [
    {
     "data": {
      "text/plain": "<a class=\"sister\" href=\"http://example.com/elsie\" id=\"link1\">Elsie</a>"
     },
     "execution_count": 57,
     "metadata": {},
     "output_type": "execute_result"
    }
   ],
   "source": [
    "soup.find('p','story').next.next # O próximo do próximo."
   ],
   "metadata": {
    "collapsed": false
   }
  },
  {
   "cell_type": "code",
   "execution_count": 58,
   "metadata": {},
   "outputs": [
    {
     "data": {
      "text/plain": "'Once upon a time there were three little sisters; and their names\\nwere\\n'"
     },
     "execution_count": 58,
     "metadata": {},
     "output_type": "execute_result"
    }
   ],
   "source": [
    "soup.find('p','story').next_element"
   ]
  },
  {
   "cell_type": "code",
   "execution_count": 59,
   "outputs": [
    {
     "data": {
      "text/plain": "<a class=\"sister\" href=\"http://example.com/elsie\" id=\"link1\">Elsie</a>"
     },
     "execution_count": 59,
     "metadata": {},
     "output_type": "execute_result"
    }
   ],
   "source": [
    "soup.find('p','story').next_element.next_element"
   ],
   "metadata": {
    "collapsed": false
   }
  },
  {
   "cell_type": "code",
   "execution_count": 60,
   "outputs": [
    {
     "data": {
      "text/plain": "'\\n'"
     },
     "execution_count": 60,
     "metadata": {},
     "output_type": "execute_result"
    }
   ],
   "source": [
    "# Com o anterior <previous>\n",
    "# Pode ser encadeata também.\n",
    "soup.find('p','story').previous # Retorna uma linha vazia"
   ],
   "metadata": {
    "collapsed": false
   }
  },
  {
   "cell_type": "code",
   "execution_count": 61,
   "metadata": {},
   "outputs": [
    {
     "data": {
      "text/plain": "\"The Dormouse's story\""
     },
     "execution_count": 61,
     "metadata": {},
     "output_type": "execute_result"
    }
   ],
   "source": [
    "soup.find('p','story').previous.previous"
   ]
  },
  {
   "cell_type": "code",
   "execution_count": 62,
   "outputs": [
    {
     "data": {
      "text/plain": "<b>The Dormouse's story</b>"
     },
     "execution_count": 62,
     "metadata": {},
     "output_type": "execute_result"
    }
   ],
   "source": [
    "soup.find('p','story').previous_element.previous_element.previous_element"
   ],
   "metadata": {
    "collapsed": false
   }
  },
  {
   "cell_type": "code",
   "execution_count": 63,
   "metadata": {},
   "outputs": [
    {
     "name": "stdout",
     "output_type": "stream",
     "text": [
      "\n",
      "\n",
      "<li data-id=\"10784\">Jason Walters, 003: Found dead in \"A View to a Kill\".</li>\n",
      "Jason Walters, 003: Found dead in \"A View to a Kill\".\n",
      "\n",
      "\n",
      "<li data-id=\"97865\">Alex Trevelyan, 006: Agent turned terrorist leader; James'\n",
      "nemesis in \"Goldeneye\".</li>\n",
      "Alex Trevelyan, 006: Agent turned terrorist leader; James'\n",
      "nemesis in \"Goldeneye\".\n",
      "\n",
      "\n",
      "<li data-id=\"45732\">James Bond, 007: The main man; shaken but not stirred.</li>\n",
      "James Bond, 007: The main man; shaken but not stirred.\n",
      "\n",
      "\n",
      "\n",
      "\n",
      "\n",
      "\n"
     ]
    }
   ],
   "source": [
    "for element in soup.find('ul').next_elements:\n",
    "\tprint(element)"
   ]
  },
  {
   "cell_type": "code",
   "execution_count": 64,
   "outputs": [
    {
     "data": {
      "text/plain": "'Once upon a time there were three little sisters; and their names\\nwere\\n'"
     },
     "execution_count": 64,
     "metadata": {},
     "output_type": "execute_result"
    }
   ],
   "source": [
    "soup.find('p','story').next"
   ],
   "metadata": {
    "collapsed": false
   }
  },
  {
   "cell_type": "code",
   "execution_count": 65,
   "outputs": [
    {
     "data": {
      "text/plain": "<a class=\"sister\" href=\"http://example.com/elsie\" id=\"link1\">Elsie</a>"
     },
     "execution_count": 65,
     "metadata": {},
     "output_type": "execute_result"
    }
   ],
   "source": [
    "# Encontra elementos dependendo das condições\n",
    "soup.find('p','story').find_next()"
   ],
   "metadata": {
    "collapsed": false
   }
  },
  {
   "cell_type": "code",
   "execution_count": 66,
   "outputs": [
    {
     "data": {
      "text/plain": "<h1>Secret agents</h1>"
     },
     "execution_count": 66,
     "metadata": {},
     "output_type": "execute_result"
    }
   ],
   "source": [
    "soup.find('p','story').find_next('h1') # Passou uma condição e ele encontrou."
   ],
   "metadata": {
    "collapsed": false
   }
  },
  {
   "cell_type": "code",
   "execution_count": 67,
   "outputs": [
    {
     "data": {
      "text/plain": "[<a class=\"sister\" href=\"http://example.com/elsie\" id=\"link1\">Elsie</a>,\n <a class=\"sister\" href=\"http://example.com/lacie\" id=\"link2\">Lacie</a>,\n <a class=\"sister\" href=\"http://example.com/tillie\" id=\"link3\">Tillie</a>,\n <p class=\"story\">...</p>,\n <h1>Secret agents</h1>,\n <ul>\n <li data-id=\"10784\">Jason Walters, 003: Found dead in \"A View to a Kill\".</li>\n <li data-id=\"97865\">Alex Trevelyan, 006: Agent turned terrorist leader; James'\n nemesis in \"Goldeneye\".</li>\n <li data-id=\"45732\">James Bond, 007: The main man; shaken but not stirred.</li>\n </ul>,\n <li data-id=\"10784\">Jason Walters, 003: Found dead in \"A View to a Kill\".</li>,\n <li data-id=\"97865\">Alex Trevelyan, 006: Agent turned terrorist leader; James'\n nemesis in \"Goldeneye\".</li>,\n <li data-id=\"45732\">James Bond, 007: The main man; shaken but not stirred.</li>]"
     },
     "execution_count": 67,
     "metadata": {},
     "output_type": "execute_result"
    }
   ],
   "source": [
    "# Encontrando as tags de todos os próximos\n",
    "soup.find('p','story').find_all_next()"
   ],
   "metadata": {
    "collapsed": false
   }
  },
  {
   "cell_type": "code",
   "execution_count": 68,
   "metadata": {},
   "outputs": [
    {
     "data": {
      "text/plain": "[<li data-id=\"10784\">Jason Walters, 003: Found dead in \"A View to a Kill\".</li>,\n <li data-id=\"97865\">Alex Trevelyan, 006: Agent turned terrorist leader; James'\n nemesis in \"Goldeneye\".</li>]"
     },
     "execution_count": 68,
     "metadata": {},
     "output_type": "execute_result"
    }
   ],
   "source": [
    "# Limitando as tag encontradas em <2>\n",
    "soup.find('a').find_all_next('li', limit=2)"
   ]
  },
  {
   "cell_type": "code",
   "execution_count": 69,
   "metadata": {},
   "outputs": [
    {
     "data": {
      "text/plain": "<h1>Secret agents</h1>"
     },
     "execution_count": 69,
     "metadata": {},
     "output_type": "execute_result"
    }
   ],
   "source": [
    "soup.find('ul').previous.previous.previous"
   ]
  },
  {
   "cell_type": "code",
   "execution_count": 70,
   "outputs": [
    {
     "data": {
      "text/plain": "<h1>Secret agents</h1>"
     },
     "execution_count": 70,
     "metadata": {},
     "output_type": "execute_result"
    }
   ],
   "source": [
    "soup.find('ul').find_previous()"
   ],
   "metadata": {
    "collapsed": false
   }
  },
  {
   "cell_type": "code",
   "execution_count": 71,
   "outputs": [
    {
     "data": {
      "text/plain": "<p class=\"title\"><b>The Dormouse's story</b></p>"
     },
     "execution_count": 71,
     "metadata": {},
     "output_type": "execute_result"
    }
   ],
   "source": [
    "soup.find('ul').find_previous('p','title')"
   ],
   "metadata": {
    "collapsed": false
   }
  },
  {
   "cell_type": "code",
   "execution_count": 72,
   "outputs": [
    {
     "data": {
      "text/plain": "[<p class=\"story\">...</p>,\n <p class=\"story\">Once upon a time there were three little sisters; and their names\n were\n <a class=\"sister\" href=\"http://example.com/elsie\" id=\"link1\">Elsie</a>,\n <a class=\"sister\" href=\"http://example.com/lacie\" id=\"link2\">Lacie</a> and\n <a class=\"sister\" href=\"http://example.com/tillie\" id=\"link3\">Tillie</a>;\n and they lived at the bottom of a well.</p>,\n <p class=\"title\"><b>The Dormouse's story</b></p>]"
     },
     "execution_count": 72,
     "metadata": {},
     "output_type": "execute_result"
    }
   ],
   "source": [
    "soup.find('ul').find_all_previous('p')"
   ],
   "metadata": {
    "collapsed": false
   }
  },
  {
   "cell_type": "code",
   "execution_count": 73,
   "outputs": [],
   "source": [
    "# Siblings ou siblings são elementos que estão no mesmo nível da árvore\n"
   ],
   "metadata": {
    "collapsed": false
   }
  },
  {
   "cell_type": "code",
   "execution_count": 74,
   "metadata": {},
   "outputs": [
    {
     "data": {
      "text/plain": "'\\n'"
     },
     "execution_count": 74,
     "metadata": {},
     "output_type": "execute_result"
    }
   ],
   "source": [
    "soup.find('p','title').next_sibling # Retorna uma linha vazia"
   ]
  },
  {
   "cell_type": "code",
   "execution_count": 75,
   "outputs": [
    {
     "data": {
      "text/plain": "<p class=\"story\">Once upon a time there were three little sisters; and their names\nwere\n<a class=\"sister\" href=\"http://example.com/elsie\" id=\"link1\">Elsie</a>,\n<a class=\"sister\" href=\"http://example.com/lacie\" id=\"link2\">Lacie</a> and\n<a class=\"sister\" href=\"http://example.com/tillie\" id=\"link3\">Tillie</a>;\nand they lived at the bottom of a well.</p>"
     },
     "execution_count": 75,
     "metadata": {},
     "output_type": "execute_result"
    }
   ],
   "source": [
    "soup.find('p','title').next_sibling.next"
   ],
   "metadata": {
    "collapsed": false
   }
  },
  {
   "cell_type": "code",
   "execution_count": 76,
   "outputs": [
    {
     "data": {
      "text/plain": "<h1>Secret agents</h1>"
     },
     "execution_count": 76,
     "metadata": {},
     "output_type": "execute_result"
    }
   ],
   "source": [
    "soup.find('ul').previous_sibling.previous_sibling"
   ],
   "metadata": {
    "collapsed": false
   }
  },
  {
   "cell_type": "code",
   "execution_count": 77,
   "outputs": [
    {
     "data": {
      "text/plain": "['p', 'p', 'h1', 'ul']"
     },
     "execution_count": 77,
     "metadata": {},
     "output_type": "execute_result"
    }
   ],
   "source": [
    "# Iterando com a List Comphrension os dados\n",
    "title = [ele.name for ele in soup.find('p','title').next_siblings]\n",
    "list(filter(None,title))"
   ],
   "metadata": {
    "collapsed": false
   }
  },
  {
   "cell_type": "code",
   "execution_count": 78,
   "outputs": [
    {
     "name": "stdout",
     "output_type": "stream",
     "text": [
      "['h1', 'p', 'p', 'p']\n"
     ]
    }
   ],
   "source": [
    "ul = [ele.name for ele in soup.find('ul').previous_siblings]\n",
    "print(list(filter(None,ul)))"
   ],
   "metadata": {
    "collapsed": false
   }
  },
  {
   "cell_type": "code",
   "execution_count": 79,
   "outputs": [
    {
     "data": {
      "text/plain": "[<p class=\"story\">Once upon a time there were three little sisters; and their names\n were\n <a class=\"sister\" href=\"http://example.com/elsie\" id=\"link1\">Elsie</a>,\n <a class=\"sister\" href=\"http://example.com/lacie\" id=\"link2\">Lacie</a> and\n <a class=\"sister\" href=\"http://example.com/tillie\" id=\"link3\">Tillie</a>;\n and they lived at the bottom of a well.</p>,\n <p class=\"story\">...</p>]"
     },
     "execution_count": 79,
     "metadata": {},
     "output_type": "execute_result"
    }
   ],
   "source": [
    "#find next <p> siblings for selected <p> with class=title\n",
    "soup.find('p','title').find_next_siblings('p')"
   ],
   "metadata": {
    "collapsed": false
   }
  },
  {
   "cell_type": "code",
   "execution_count": 80,
   "outputs": [
    {
     "data": {
      "text/plain": "<ul>\n<li data-id=\"10784\">Jason Walters, 003: Found dead in \"A View to a Kill\".</li>\n<li data-id=\"97865\">Alex Trevelyan, 006: Agent turned terrorist leader; James'\nnemesis in \"Goldeneye\".</li>\n<li data-id=\"45732\">James Bond, 007: The main man; shaken but not stirred.</li>\n</ul>"
     },
     "execution_count": 80,
     "metadata": {},
     "output_type": "execute_result"
    }
   ],
   "source": [
    "#find single or next sibling for selected <h1>\n",
    "soup.find('h1').find_next_sibling()"
   ],
   "metadata": {
    "collapsed": false
   }
  },
  {
   "cell_type": "code",
   "execution_count": 81,
   "outputs": [],
   "source": [
    "#find single or next sibling <li> for selected <h1>\n",
    "soup.find('h1').find_next_sibling('li')  # não tem nenhum!"
   ],
   "metadata": {
    "collapsed": false
   }
  },
  {
   "cell_type": "code",
   "execution_count": 83,
   "outputs": [
    {
     "data": {
      "text/plain": "<h1>Secret agents</h1>"
     },
     "execution_count": 83,
     "metadata": {},
     "output_type": "execute_result"
    }
   ],
   "source": [
    "# Encontra a primeira ocorrência previous irmão para <ul>\n",
    "soup.find('ul').find_previous_sibling()"
   ],
   "metadata": {
    "collapsed": false
   }
  },
  {
   "cell_type": "code",
   "execution_count": 84,
   "outputs": [
    {
     "data": {
      "text/plain": "[<h1>Secret agents</h1>,\n <p class=\"story\">...</p>,\n <p class=\"story\">Once upon a time there were three little sisters; and their names\n were\n <a class=\"sister\" href=\"http://example.com/elsie\" id=\"link1\">Elsie</a>,\n <a class=\"sister\" href=\"http://example.com/lacie\" id=\"link2\">Lacie</a> and\n <a class=\"sister\" href=\"http://example.com/tillie\" id=\"link3\">Tillie</a>;\n and they lived at the bottom of a well.</p>,\n <p class=\"title\"><b>The Dormouse's story</b></p>]"
     },
     "execution_count": 84,
     "metadata": {},
     "output_type": "execute_result"
    }
   ],
   "source": [
    "# Encontra TODAS as ocorrências previous irmão para <ul>\n",
    "soup.find('ul').find_previous_siblings()"
   ],
   "metadata": {
    "collapsed": false
   }
  },
  {
   "cell_type": "markdown",
   "metadata": {},
   "source": [
    "## Usando Seletores CSS"
   ]
  },
  {
   "cell_type": "markdown",
   "source": [
    "### Exemplo 1 - Listando os elementos `li` com o atributo data-id"
   ],
   "metadata": {
    "collapsed": false
   }
  },
  {
   "cell_type": "code",
   "execution_count": 89,
   "outputs": [
    {
     "data": {
      "text/plain": "[<li data-id=\"10784\">Jason Walters, 003: Found dead in \"A View to a Kill\".</li>,\n <li data-id=\"97865\">Alex Trevelyan, 006: Agent turned terrorist leader; James'\n nemesis in \"Goldeneye\".</li>,\n <li data-id=\"45732\">James Bond, 007: The main man; shaken but not stirred.</li>]"
     },
     "execution_count": 89,
     "metadata": {},
     "output_type": "execute_result"
    }
   ],
   "source": [
    "soup.select('li[data-id]')"
   ],
   "metadata": {
    "collapsed": false
   }
  },
  {
   "cell_type": "code",
   "execution_count": 91,
   "outputs": [
    {
     "data": {
      "text/plain": "<li data-id=\"10784\">Jason Walters, 003: Found dead in \"A View to a Kill\".</li>"
     },
     "execution_count": 91,
     "metadata": {},
     "output_type": "execute_result"
    }
   ],
   "source": [
    "soup.select('li[data-id]')[0] # Apenas a ocorrência listada. Pq entra numa List"
   ],
   "metadata": {
    "collapsed": false
   }
  },
  {
   "cell_type": "code",
   "execution_count": 93,
   "outputs": [
    {
     "data": {
      "text/plain": "<li data-id=\"10784\">Jason Walters, 003: Found dead in \"A View to a Kill\".</li>"
     },
     "execution_count": 93,
     "metadata": {},
     "output_type": "execute_result"
    }
   ],
   "source": [
    "soup.select_one('li[data-id]') # seleciona apenas a primeira ocorrência."
   ],
   "metadata": {
    "collapsed": false
   }
  },
  {
   "cell_type": "markdown",
   "source": [
    "### Exemplo 2 - Atravessando os elementos"
   ],
   "metadata": {
    "collapsed": false
   }
  },
  {
   "cell_type": "code",
   "execution_count": 94,
   "outputs": [
    {
     "data": {
      "text/plain": "[<a class=\"sister\" href=\"http://example.com/elsie\" id=\"link1\">Elsie</a>,\n <a class=\"sister\" href=\"http://example.com/lacie\" id=\"link2\">Lacie</a>,\n <a class=\"sister\" href=\"http://example.com/tillie\" id=\"link3\">Tillie</a>]"
     },
     "execution_count": 94,
     "metadata": {},
     "output_type": "execute_result"
    }
   ],
   "source": [
    "# Seleciona todas <a> com a Class='sister' que filhos diretos da <p> com class = 'story'\n",
    "soup.select('p.story > a.sister')"
   ],
   "metadata": {
    "collapsed": false
   }
  },
  {
   "cell_type": "code",
   "execution_count": 95,
   "outputs": [
    {
     "data": {
      "text/plain": "[<b>The Dormouse's story</b>]"
     },
     "execution_count": 95,
     "metadata": {},
     "output_type": "execute_result"
    }
   ],
   "source": [
    "# Seleciona <b> dentro de <p>\n",
    "soup.select('p b')"
   ],
   "metadata": {
    "collapsed": false
   }
  },
  {
   "cell_type": "code",
   "execution_count": 96,
   "outputs": [
    {
     "data": {
      "text/plain": "[<h1>Secret agents</h1>]"
     },
     "execution_count": 96,
     "metadata": {},
     "output_type": "execute_result"
    }
   ],
   "source": [
    "# Seleciona os <h1> imediato depois <p>\n",
    "soup.select('p + h1')"
   ],
   "metadata": {
    "collapsed": false
   }
  },
  {
   "cell_type": "code",
   "execution_count": 98,
   "outputs": [
    {
     "data": {
      "text/plain": "[<h1>Secret agents</h1>]"
     },
     "execution_count": 98,
     "metadata": {},
     "output_type": "execute_result"
    }
   ],
   "source": [
    "# Seleciona <h1> imediatamente depois de <p> com a class='story'\n",
    "soup.select('p.story + h1')"
   ],
   "metadata": {
    "collapsed": false
   }
  },
  {
   "cell_type": "code",
   "execution_count": 101,
   "outputs": [
    {
     "data": {
      "text/plain": "[]"
     },
     "execution_count": 101,
     "metadata": {},
     "output_type": "execute_result"
    }
   ],
   "source": [
    "# Seleciona o <h1> imediato depois <p> com a class 'title'\n",
    "soup.select('p.title +h1')"
   ],
   "metadata": {
    "collapsed": false
   }
  },
  {
   "cell_type": "markdown",
   "source": [
    "### Exemplo 3 - Procurando elementos com base nos valores de atributo"
   ],
   "metadata": {
    "collapsed": false
   }
  },
  {
   "cell_type": "code",
   "execution_count": 107,
   "outputs": [
    {
     "data": {
      "text/plain": "[<a class=\"sister\" href=\"http://example.com/elsie\" id=\"link1\">Elsie</a>,\n <a class=\"sister\" href=\"http://example.com/lacie\" id=\"link2\">Lacie</a>,\n <a class=\"sister\" href=\"http://example.com/tillie\" id=\"link3\">Tillie</a>]"
     },
     "execution_count": 107,
     "metadata": {},
     "output_type": "execute_result"
    }
   ],
   "source": [
    "# Padroes podem ser procurados pelas chaves ou usando *\n",
    "soup.select('a[href*=\"example.com\"]')"
   ],
   "metadata": {
    "collapsed": false
   }
  },
  {
   "cell_type": "code",
   "execution_count": 108,
   "outputs": [
    {
     "data": {
      "text/plain": "[<a class=\"sister\" href=\"http://example.com/elsie\" id=\"link1\">Elsie</a>,\n <a class=\"sister\" href=\"http://example.com/lacie\" id=\"link2\">Lacie</a>,\n <a class=\"sister\" href=\"http://example.com/tillie\" id=\"link3\">Tillie</a>]"
     },
     "execution_count": 108,
     "metadata": {},
     "output_type": "execute_result"
    }
   ],
   "source": [
    "soup.select('a[id*=\"link\"]') # Procurando um texto link dentro de ID"
   ],
   "metadata": {
    "collapsed": false
   }
  },
  {
   "cell_type": "markdown",
   "source": [
    "## Construindo um Web Crawler"
   ],
   "metadata": {
    "collapsed": false
   }
  },
  {
   "cell_type": "code",
   "execution_count": 111,
   "outputs": [
    {
     "name": "stdout",
     "output_type": "stream",
     "text": [
      "Page  1  Total Quotes Found  10\n",
      "“The world as we have created it is a process of our thinking. It cannot be changed without changing our thinking.”  :  Albert Einstein  :  /author/Albert-Einstein  :  change,deep-thoughts,thinking,world\n",
      "“It is our choices, Harry, that show what we truly are, far more than our abilities.”  :  J.K. Rowling  :  /author/J-K-Rowling  :  abilities,choices\n",
      "“There are only two ways to live your life. One is as though nothing is a miracle. The other is as though everything is a miracle.”  :  Albert Einstein  :  /author/Albert-Einstein  :  inspirational,life,live,miracle,miracles\n",
      "“The person, be it gentleman or lady, who has not pleasure in a good novel, must be intolerably stupid.”  :  Jane Austen  :  /author/Jane-Austen  :  aliteracy,books,classic,humor\n",
      "“Imperfection is beauty, madness is genius and it's better to be absolutely ridiculous than absolutely boring.”  :  Marilyn Monroe  :  /author/Marilyn-Monroe  :  be-yourself,inspirational\n",
      "“Try not to become a man of success. Rather become a man of value.”  :  Albert Einstein  :  /author/Albert-Einstein  :  adulthood,success,value\n",
      "“It is better to be hated for what you are than to be loved for what you are not.”  :  André Gide  :  /author/Andre-Gide  :  life,love\n",
      "“I have not failed. I've just found 10,000 ways that won't work.”  :  Thomas A. Edison  :  /author/Thomas-A-Edison  :  edison,failure,inspirational,paraphrased\n",
      "“A woman is like a tea bag; you never know how strong it is until it's in hot water.”  :  Eleanor Roosevelt  :  /author/Eleanor-Roosevelt  :  misattributed-eleanor-roosevelt\n",
      "“A day without sunshine is like, you know, night.”  :  Steve Martin  :  /author/Steve-Martin  :  humor,obvious,simile\n",
      "Page  2  Total Quotes Found  10\n",
      "“This life is what you make it. No matter what, you're going to mess up sometimes, it's a universal truth. But the good part is you get to decide how you're going to mess it up. Girls will be your friends - they'll act like it anyway. But just remember, some come, some go. The ones that stay with you through everything - they're your true best friends. Don't let go of them. Also remember, sisters make the best friends in the world. As for lovers, well, they'll come and go too. And baby, I hate to say it, most of them - actually pretty much all of them are going to break your heart, but you can't give up because if you give up, you'll never find your soulmate. You'll never find that half who makes you whole and that goes for everything. Just because you fail once, doesn't mean you're gonna fail at everything. Keep trying, hold on, and always, always, always believe in yourself, because if you don't, then who will, sweetie? So keep your head high, keep your chin up, and most importantly, keep smiling, because life's a beautiful thing and there's so much to smile about.”  :  Marilyn Monroe  :  /author/Marilyn-Monroe  :  friends,heartbreak,inspirational,life,love,sisters\n",
      "“It takes a great deal of bravery to stand up to our enemies, but just as much to stand up to our friends.”  :  J.K. Rowling  :  /author/J-K-Rowling  :  courage,friends\n",
      "“If you can't explain it to a six year old, you don't understand it yourself.”  :  Albert Einstein  :  /author/Albert-Einstein  :  simplicity,understand\n",
      "“You may not be her first, her last, or her only. She loved before she may love again. But if she loves you now, what else matters? She's not perfect—you aren't either, and the two of you may never be perfect together but if she can make you laugh, cause you to think twice, and admit to being human and making mistakes, hold onto her and give her the most you can. She may not be thinking about you every second of the day, but she will give you a part of her that she knows you can break—her heart. So don't hurt her, don't change her, don't analyze and don't expect more than she can give. Smile when she makes you happy, let her know when she makes you mad, and miss her when she's not there.”  :  Bob Marley  :  /author/Bob-Marley  :  love\n",
      "“I like nonsense, it wakes up the brain cells. Fantasy is a necessary ingredient in living.”  :  Dr. Seuss  :  /author/Dr-Seuss  :  fantasy\n",
      "“I may not have gone where I intended to go, but I think I have ended up where I needed to be.”  :  Douglas Adams  :  /author/Douglas-Adams  :  life,navigation\n",
      "“The opposite of love is not hate, it's indifference. The opposite of art is not ugliness, it's indifference. The opposite of faith is not heresy, it's indifference. And the opposite of life is not death, it's indifference.”  :  Elie Wiesel  :  /author/Elie-Wiesel  :  activism,apathy,hate,indifference,inspirational,love,opposite,philosophy\n",
      "“It is not a lack of love, but a lack of friendship that makes unhappy marriages.”  :  Friedrich Nietzsche  :  /author/Friedrich-Nietzsche  :  friendship,lack-of-friendship,lack-of-love,love,marriage,unhappy-marriage\n",
      "“Good friends, good books, and a sleepy conscience: this is the ideal life.”  :  Mark Twain  :  /author/Mark-Twain  :  books,contentment,friends,friendship,life\n",
      "“Life is what happens to us while we are making other plans.”  :  Allen Saunders  :  /author/Allen-Saunders  :  fate,life,misattributed-john-lennon,planning,plans\n",
      "Page  3  Total Quotes Found  10\n",
      "“I love you without knowing how, or when, or from where. I love you simply, without problems or pride: I love you in this way because I do not know any other way of loving but this, in which there is no I or you, so intimate that your hand upon my chest is my hand, so intimate that when I fall asleep your eyes close.”  :  Pablo Neruda  :  /author/Pablo-Neruda  :  love,poetry\n",
      "“For every minute you are angry you lose sixty seconds of happiness.”  :  Ralph Waldo Emerson  :  /author/Ralph-Waldo-Emerson  :  happiness\n",
      "“If you judge people, you have no time to love them.”  :  Mother Teresa  :  /author/Mother-Teresa  :  attributed-no-source\n",
      "“Anyone who thinks sitting in church can make you a Christian must also think that sitting in a garage can make you a car.”  :  Garrison Keillor  :  /author/Garrison-Keillor  :  humor,religion\n",
      "“Beauty is in the eye of the beholder and it may be necessary from time to time to give a stupid or misinformed beholder a black eye.”  :  Jim Henson  :  /author/Jim-Henson  :  humor\n",
      "“Today you are You, that is truer than true. There is no one alive who is Youer than You.”  :  Dr. Seuss  :  /author/Dr-Seuss  :  comedy,life,yourself\n",
      "“If you want your children to be intelligent, read them fairy tales. If you want them to be more intelligent, read them more fairy tales.”  :  Albert Einstein  :  /author/Albert-Einstein  :  children,fairy-tales\n",
      "“It is impossible to live without failing at something, unless you live so cautiously that you might as well not have lived at all - in which case, you fail by default.”  :  J.K. Rowling  :  /author/J-K-Rowling  :  \n",
      "“Logic will get you from A to Z; imagination will get you everywhere.”  :  Albert Einstein  :  /author/Albert-Einstein  :  imagination\n",
      "“One good thing about music, when it hits you, you feel no pain.”  :  Bob Marley  :  /author/Bob-Marley  :  music\n",
      "Page  4  Total Quotes Found  10\n",
      "“The more that you read, the more things you will know. The more that you learn, the more places you'll go.”  :  Dr. Seuss  :  /author/Dr-Seuss  :  learning,reading,seuss\n",
      "“Of course it is happening inside your head, Harry, but why on earth should that mean that it is not real?”  :  J.K. Rowling  :  /author/J-K-Rowling  :  dumbledore\n",
      "“The truth is, everyone is going to hurt you. You just got to find the ones worth suffering for.”  :  Bob Marley  :  /author/Bob-Marley  :  friendship\n",
      "“Not all of us can do great things. But we can do small things with great love.”  :  Mother Teresa  :  /author/Mother-Teresa  :  misattributed-to-mother-teresa,paraphrased\n",
      "“To the well-organized mind, death is but the next great adventure.”  :  J.K. Rowling  :  /author/J-K-Rowling  :  death,inspirational\n",
      "“All you need is love. But a little chocolate now and then doesn't hurt.”  :  Charles M. Schulz  :  /author/Charles-M-Schulz  :  chocolate,food,humor\n",
      "“We read to know we're not alone.”  :  William Nicholson  :  /author/William-Nicholson  :  misattributed-to-c-s-lewis,reading\n",
      "“Any fool can know. The point is to understand.”  :  Albert Einstein  :  /author/Albert-Einstein  :  knowledge,learning,understanding,wisdom\n",
      "“I have always imagined that Paradise will be a kind of library.”  :  Jorge Luis Borges  :  /author/Jorge-Luis-Borges  :  books,library\n",
      "“It is never too late to be what you might have been.”  :  George Eliot  :  /author/George-Eliot  :  inspirational\n",
      "Page  5  Total Quotes Found  10\n",
      "“A reader lives a thousand lives before he dies, said Jojen. The man who never reads lives only one.”  :  George R.R. Martin  :  /author/George-R-R-Martin  :  read,readers,reading,reading-books\n",
      "“You can never get a cup of tea large enough or a book long enough to suit me.”  :  C.S. Lewis  :  /author/C-S-Lewis  :  books,inspirational,reading,tea\n",
      "“You believe lies so you eventually learn to trust no one but yourself.”  :  Marilyn Monroe  :  /author/Marilyn-Monroe  :  \n",
      "“If you can make a woman laugh, you can make her do anything.”  :  Marilyn Monroe  :  /author/Marilyn-Monroe  :  girls,love\n",
      "“Life is like riding a bicycle. To keep your balance, you must keep moving.”  :  Albert Einstein  :  /author/Albert-Einstein  :  life,simile\n",
      "“The real lover is the man who can thrill you by kissing your forehead or smiling into your eyes or just staring into space.”  :  Marilyn Monroe  :  /author/Marilyn-Monroe  :  love\n",
      "“A wise girl kisses but doesn't love, listens but doesn't believe, and leaves before she is left.”  :  Marilyn Monroe  :  /author/Marilyn-Monroe  :  attributed-no-source\n",
      "“Only in the darkness can you see the stars.”  :  Martin Luther King Jr.  :  /author/Martin-Luther-King-Jr  :  hope,inspirational\n",
      "“It matters not what someone is born, but what they grow to be.”  :  J.K. Rowling  :  /author/J-K-Rowling  :  dumbledore\n",
      "“Love does not begin and end the way we seem to think it does. Love is a battle, love is a war; love is a growing up.”  :  James Baldwin  :  /author/James-Baldwin  :  love\n"
     ]
    }
   ],
   "source": [
    "import requests\n",
    "import re\n",
    "from bs4 import BeautifulSoup\n",
    "import csv\n",
    "\n",
    "sourceUrl = 'http://quotes.toscrape.com/'\n",
    "keys = ['quote_tags','author_url','author_name','born_date','born_location','quote_title']\n",
    "\n",
    "\n",
    "def read_url(url):\n",
    "    \"\"\"Read given Url , Returns requests object for page content\"\"\"\n",
    "    response = requests.get(url)\n",
    "    return response.text\n",
    "\n",
    "\n",
    "def get_details(page, dataWriter):\n",
    "    \"\"\"Get 'response' for first 5 pages, parse it and collect data for 'keys' headers\"\"\"\n",
    "    nextPage = True\n",
    "    pageNo = 1\n",
    "    while (nextPage and pageNo <= 5):\n",
    "        response = read_url(page + 'page/' + str(pageNo))\n",
    "        soup = BeautifulSoup(response, 'lxml')\n",
    "\n",
    "        rows = soup.find_all('div', 'quote')\n",
    "        if (len(rows) > 0):\n",
    "            print(\"Page \",pageNo,\" Total Quotes Found \",len(rows))\n",
    "            for row in rows:\n",
    "                if row.find('span',attrs={'itemprop':'text'}):\n",
    "\n",
    "                    title = row.find(attrs={'itemprop':'text'}).text.strip()\n",
    "                    author = row.find(attrs={'itemprop':'author'}).text.strip()\n",
    "                    authorLink = row.find('a',href=re.compile(r'/author/')).get('href')\n",
    "                    tags = row.find('div','tags').find(itemprop=\"keywords\").get('content')\n",
    "                    print(title, ' : ', author,' : ',authorLink, ' : ',tags)\n",
    "\n",
    "                    if authorLink:\n",
    "                        authorLink = 'http://quotes.toscrape.com' + authorLink\n",
    "                        linkDetail = read_url(authorLink)\n",
    "                        soupInner = BeautifulSoup(linkDetail, 'lxml')\n",
    "\n",
    "                        born_date = soupInner.find('span','author-born-date').text.strip()\n",
    "                        born_location = soupInner.find('span','author-born-location').text.strip()\n",
    "\n",
    "                        # Write a list of values in file\n",
    "                        dataWriter.writerow([tags,authorLink,author,born_date,born_location.replace('in ',''),title])\n",
    "\n",
    "            nextPage = True\n",
    "            pageNo += 1\n",
    "        else:\n",
    "            print(\"Quotes Not Listed!\")\n",
    "\n",
    "\n",
    "\n",
    "if __name__ == '__main__':\n",
    "    dataSet = open('quotes.csv', 'w', newline='', encoding='utf-8')\n",
    "    dataWriter = csv.writer(dataSet)\n",
    "    # Write a Header or Column_names to CSV\n",
    "    dataWriter.writerow(keys)\n",
    "    get_details(sourceUrl, dataWriter)\n",
    "    # get_details(sourceUrl)\n",
    "    dataSet.close()\n"
   ],
   "metadata": {
    "collapsed": false
   }
  },
  {
   "cell_type": "markdown",
   "source": [
    "## Web Scraping usando *Scrapy*"
   ],
   "metadata": {
    "collapsed": false
   }
  },
  {
   "cell_type": "markdown",
   "source": [
    "### Ajustando um projeto no *Scrapy*"
   ],
   "metadata": {
    "collapsed": false
   }
  },
  {
   "cell_type": "code",
   "execution_count": 112,
   "outputs": [
    {
     "data": {
      "text/plain": "['Field',\n 'FormRequest',\n 'Item',\n 'Request',\n 'Selector',\n 'Spider',\n '__all__',\n '__builtins__',\n '__cached__',\n '__doc__',\n '__file__',\n '__loader__',\n '__name__',\n '__package__',\n '__path__',\n '__spec__',\n '__version__',\n '_txv',\n 'exceptions',\n 'http',\n 'item',\n 'link',\n 'linkextractors',\n 'selector',\n 'signals',\n 'spiders',\n 'twisted_version',\n 'utils',\n 'version_info']"
     },
     "execution_count": 112,
     "metadata": {},
     "output_type": "execute_result"
    }
   ],
   "source": [
    "import scrapy\n",
    "\n",
    "dir(scrapy)"
   ],
   "metadata": {
    "collapsed": false
   }
  },
  {
   "cell_type": "code",
   "execution_count": 115,
   "outputs": [
    {
     "data": {
      "text/plain": "'2.6.2'"
     },
     "execution_count": 115,
     "metadata": {},
     "output_type": "execute_result"
    }
   ],
   "source": [
    "scrapy.__version__"
   ],
   "metadata": {
    "collapsed": false
   }
  }
 ],
 "metadata": {
  "hide_input": false,
  "kernelspec": {
   "display_name": "Python 3",
   "language": "python",
   "name": "python3"
  },
  "language_info": {
   "codemirror_mode": {
    "name": "ipython",
    "version": 3
   },
   "file_extension": ".py",
   "mimetype": "text/x-python",
   "name": "python",
   "nbconvert_exporter": "python",
   "pygments_lexer": "ipython3",
   "version": "3.8.5"
  }
 },
 "nbformat": 4,
 "nbformat_minor": 4
}
