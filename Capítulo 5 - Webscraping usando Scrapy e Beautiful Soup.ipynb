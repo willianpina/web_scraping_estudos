{
 "cells": [
  {
   "cell_type": "markdown",
   "metadata": {},
   "source": [
    "<h1 align=center><b>Capítulo 5</b></h1>\n",
    "<h1 align=center>Webscraping usando <i>Scrapy</i> e <i>Beautiful Soup</i></h1>"
   ]
  },
  {
   "cell_type": "markdown",
   "metadata": {},
   "source": [
    "## Web Scraping using Beautiful Soup"
   ]
  },
  {
   "cell_type": "markdown",
   "source": [
    "#### Exploring BeautifulSoup"
   ],
   "metadata": {
    "collapsed": false
   }
  },
  {
   "cell_type": "code",
   "execution_count": 1,
   "metadata": {},
   "outputs": [
    {
     "data": {
      "text/plain": "'4.11.1'"
     },
     "execution_count": 1,
     "metadata": {},
     "output_type": "execute_result"
    }
   ],
   "source": [
    "import re\n",
    "\n",
    "import bs4\n",
    "bs4.__version__"
   ]
  },
  {
   "cell_type": "code",
   "execution_count": 2,
   "outputs": [
    {
     "data": {
      "text/plain": "['BeautifulSoup',\n 'BeautifulStoneSoup',\n 'CData',\n 'Comment',\n 'Counter',\n 'DEFAULT_OUTPUT_ENCODING',\n 'Declaration',\n 'Doctype',\n 'FeatureNotFound',\n 'GuessedAtParserWarning',\n 'MarkupResemblesLocatorWarning',\n 'NavigableString',\n 'PYTHON_SPECIFIC_ENCODINGS',\n 'PageElement',\n 'ParserRejectedMarkup',\n 'ProcessingInstruction',\n 'ResultSet',\n 'Script',\n 'SoupStrainer',\n 'StopParsing',\n 'Stylesheet',\n 'Tag',\n 'TemplateString',\n 'UnicodeDammit',\n 'XMLParsedAsHTMLWarning',\n '__all__',\n '__author__',\n '__builtins__',\n '__cached__',\n '__copyright__',\n '__doc__',\n '__file__',\n '__license__',\n '__loader__',\n '__name__',\n '__package__',\n '__path__',\n '__spec__',\n '__version__',\n '_s',\n '_soup',\n 'builder',\n 'builder_registry',\n 'dammit',\n 'element',\n 'formatter',\n 'os',\n 're',\n 'sys',\n 'traceback',\n 'warnings']"
     },
     "execution_count": 2,
     "metadata": {},
     "output_type": "execute_result"
    }
   ],
   "source": [
    "dir(bs4)"
   ],
   "metadata": {
    "collapsed": false
   }
  },
  {
   "cell_type": "code",
   "execution_count": 3,
   "metadata": {},
   "outputs": [
    {
     "data": {
      "text/plain": "['ASCII_SPACES',\n 'DEFAULT_BUILDER_FEATURES',\n 'DEFAULT_INTERESTING_STRING_TYPES',\n 'NO_PARSER_SPECIFIED_WARNING',\n 'ROOT_TAG_NAME',\n '__bool__',\n '__call__',\n '__class__',\n '__contains__',\n '__copy__',\n '__delattr__',\n '__delitem__',\n '__dict__',\n '__dir__',\n '__doc__',\n '__eq__',\n '__format__',\n '__ge__',\n '__getattr__',\n '__getattribute__',\n '__getitem__',\n '__getstate__',\n '__gt__',\n '__hash__',\n '__init__',\n '__init_subclass__',\n '__iter__',\n '__le__',\n '__len__',\n '__lt__',\n '__module__',\n '__ne__',\n '__new__',\n '__reduce__',\n '__reduce_ex__',\n '__repr__',\n '__setattr__',\n '__setitem__',\n '__sizeof__',\n '__str__',\n '__subclasshook__',\n '__unicode__',\n '__weakref__',\n '_all_strings',\n '_decode_markup',\n '_feed',\n '_find_all',\n '_find_one',\n '_is_xml',\n '_lastRecursiveChild',\n '_last_descendant',\n '_linkage_fixer',\n '_markup_is_url',\n '_markup_resembles_filename',\n '_popToTag',\n '_should_pretty_print',\n 'append',\n 'childGenerator',\n 'children',\n 'clear',\n 'decode',\n 'decode_contents',\n 'decompose',\n 'decomposed',\n 'default',\n 'descendants',\n 'encode',\n 'encode_contents',\n 'endData',\n 'extend',\n 'extract',\n 'fetchNextSiblings',\n 'fetchParents',\n 'fetchPrevious',\n 'fetchPreviousSiblings',\n 'find',\n 'findAll',\n 'findAllNext',\n 'findAllPrevious',\n 'findChild',\n 'findChildren',\n 'findNext',\n 'findNextSibling',\n 'findNextSiblings',\n 'findParent',\n 'findParents',\n 'findPrevious',\n 'findPreviousSibling',\n 'findPreviousSiblings',\n 'find_all',\n 'find_all_next',\n 'find_all_previous',\n 'find_next',\n 'find_next_sibling',\n 'find_next_siblings',\n 'find_parent',\n 'find_parents',\n 'find_previous',\n 'find_previous_sibling',\n 'find_previous_siblings',\n 'format_string',\n 'formatter_for_name',\n 'get',\n 'getText',\n 'get_attribute_list',\n 'get_text',\n 'handle_data',\n 'handle_endtag',\n 'handle_starttag',\n 'has_attr',\n 'has_key',\n 'index',\n 'insert',\n 'insert_after',\n 'insert_before',\n 'isSelfClosing',\n 'is_empty_element',\n 'new_string',\n 'new_tag',\n 'next',\n 'nextGenerator',\n 'nextSibling',\n 'nextSiblingGenerator',\n 'next_elements',\n 'next_siblings',\n 'object_was_parsed',\n 'parentGenerator',\n 'parents',\n 'parserClass',\n 'popTag',\n 'prettify',\n 'previous',\n 'previousGenerator',\n 'previousSibling',\n 'previousSiblingGenerator',\n 'previous_elements',\n 'previous_siblings',\n 'pushTag',\n 'recursiveChildGenerator',\n 'renderContents',\n 'replaceWith',\n 'replaceWithChildren',\n 'replace_with',\n 'replace_with_children',\n 'reset',\n 'select',\n 'select_one',\n 'setup',\n 'smooth',\n 'string',\n 'string_container',\n 'strings',\n 'stripped_strings',\n 'text',\n 'unwrap',\n 'wrap']"
     },
     "execution_count": 3,
     "metadata": {},
     "output_type": "execute_result"
    }
   ],
   "source": [
    "dir(bs4.BeautifulSoup)"
   ]
  },
  {
   "cell_type": "code",
   "execution_count": 6,
   "metadata": {},
   "outputs": [],
   "source": [
    "# Verificando a obtenção de resposta de um URL escolhida.\n",
    "from bs4 import SoupStrainer, BeautifulSoup"
   ]
  },
  {
   "cell_type": "code",
   "execution_count": 7,
   "outputs": [],
   "source": [
    "html_doc=\"\"\"<html><head><title>The Dormouse's story</title></head>\n",
    "<body>\n",
    "<p class=\"title\"><b>The Dormouse's story</b></p>\n",
    "<p class=\"story\">Once upon a time there were three little sisters; and their names\n",
    "were\n",
    "<a href=\"http://example.com/elsie\" class=\"sister\" id=\"link1\">Elsie</a>,\n",
    "<a href=\"http://example.com/lacie\" class=\"sister\" id=\"link2\">Lacie</a> and\n",
    "<a href=\"http://example.com/tillie\" class=\"sister\" id=\"link3\">Tillie</a>;\n",
    "and they lived at the bottom of a well.</p>\n",
    "<p class=\"story\">...</p>\n",
    "<h1>Secret agents</h1>\n",
    "<ul>\n",
    "<li data-id=\"10784\">Jason Walters, 003: Found dead in \"A View to a Kill\".</li>\n",
    "<li data-id=\"97865\">Alex Trevelyan, 006: Agent turned terrorist leader; James'\n",
    "nemesis in \"Goldeneye\".</li>\n",
    "<li data-id=\"45732\">James Bond, 007: The main man; shaken but not stirred.</li>\n",
    "</ul>\n",
    "</body>\n",
    "</html>\"\"\"\n"
   ],
   "metadata": {
    "collapsed": false
   }
  },
  {
   "cell_type": "markdown",
   "source": [
    "Vamos testar alguns exemplos de parser e criar um objeto BeautifulSoup.\n",
    "* soup = Beautifulsoup(html_markup)\n",
    "* soup = Beautifulsoup(html_markup, 'lxml')\n",
    "* soup = Beautifulsoup(html_markup, 'lxml', parse_from=SoupStrainer(\"a\"))\n",
    "* soup = Beautifulsoup(html_markup, 'html.parser')\n",
    "* soup = Beautifulsoup(html_markup, 'html5lib')\n",
    "* soup = Beautifulsoup(xml_markup, 'xml')\n",
    "* soup = Beautifulsoup(some_markup, from_encoding='ISO-8859-8')\n",
    "* soup = Beautifulsoup(some_markup, exclude_encodings=['ISO-8859-7'])\n"
   ],
   "metadata": {
    "collapsed": false
   }
  },
  {
   "cell_type": "code",
   "execution_count": 11,
   "metadata": {},
   "outputs": [
    {
     "name": "stdout",
     "output_type": "stream",
     "text": [
      "<class 'bs4.BeautifulSoup'>\n"
     ]
    }
   ],
   "source": [
    "# Vamos trabalhar apenas com as Tags <a>. Para isso vamos usar o Objeto SoupStrainer\n",
    "tagsA = SoupStrainer(\"a\")\n",
    "soupA = BeautifulSoup(html_doc,'lxml',parse_only=tagsA)\n",
    "\n",
    "print(type(soupA))"
   ]
  },
  {
   "cell_type": "code",
   "execution_count": 13,
   "metadata": {},
   "outputs": [
    {
     "name": "stdout",
     "output_type": "stream",
     "text": [
      "<a class=\"sister\" href=\"http://example.com/elsie\" id=\"link1\">\n",
      " Elsie\n",
      "</a>\n",
      "<a class=\"sister\" href=\"http://example.com/lacie\" id=\"link2\">\n",
      " Lacie\n",
      "</a>\n",
      "<a class=\"sister\" href=\"http://example.com/tillie\" id=\"link3\">\n",
      " Tillie\n",
      "</a>\n"
     ]
    }
   ],
   "source": [
    "print(soupA.prettify()) # Modelo mais aprazível"
   ]
  },
  {
   "cell_type": "code",
   "execution_count": 14,
   "metadata": {},
   "outputs": [
    {
     "data": {
      "text/plain": "True"
     },
     "execution_count": 14,
     "metadata": {},
     "output_type": "execute_result"
    }
   ],
   "source": [
    "# has_attr() retorna um boleano se tiver o atributo\n",
    "soupA.a.has_attr('class') # Como tem esse atributo retornará <True>"
   ]
  },
  {
   "cell_type": "code",
   "execution_count": 16,
   "outputs": [
    {
     "data": {
      "text/plain": "False"
     },
     "execution_count": 16,
     "metadata": {},
     "output_type": "execute_result"
    }
   ],
   "source": [
    "soupA.a.has_attr('name') # Não tem esse atributo"
   ],
   "metadata": {
    "collapsed": false
   }
  },
  {
   "cell_type": "markdown",
   "metadata": {},
   "source": [
    "## Pesquisando, percorrendo e iterando"
   ]
  },
  {
   "cell_type": "code",
   "execution_count": null,
   "outputs": [],
   "source": [
    "# find() retorna a primeiro nó-filho que combinou.\n",
    "# attrs: um dicionário de chave e valor\n",
    "# text: com o elemento texto\n",
    "# name: uma tag <name>"
   ],
   "metadata": {
    "collapsed": false
   }
  },
  {
   "cell_type": "code",
   "execution_count": 17,
   "outputs": [
    {
     "name": "stdout",
     "output_type": "stream",
     "text": [
      "<a class=\"sister\" href=\"http://example.com/elsie\" id=\"link1\">Elsie</a>\n"
     ]
    }
   ],
   "source": [
    "# Procura um elemento ou tag <a> na primeira ocorrência.\n",
    "print(soupA.find('a'))"
   ],
   "metadata": {
    "collapsed": false
   }
  },
  {
   "cell_type": "code",
   "execution_count": 18,
   "outputs": [
    {
     "name": "stdout",
     "output_type": "stream",
     "text": [
      "<a class=\"sister\" href=\"http://example.com/elsie\" id=\"link1\">Elsie</a>\n"
     ]
    }
   ],
   "source": [
    "# Procura um elemento <a> com o atributo e valor\n",
    "print(soupA.find(name='a'))"
   ],
   "metadata": {
    "collapsed": false
   }
  },
  {
   "cell_type": "markdown",
   "metadata": {},
   "source": []
  },
  {
   "cell_type": "code",
   "execution_count": 20,
   "metadata": {},
   "outputs": [
    {
     "data": {
      "text/plain": "<a class=\"sister\" href=\"http://example.com/lacie\" id=\"link2\">Lacie</a>"
     },
     "execution_count": 20,
     "metadata": {},
     "output_type": "execute_result"
    }
   ],
   "source": [
    "# Procurando com um texto no atributo\n",
    "soupA.find('a', attrs={'class':'sister'}, text=\"Lacie\")"
   ]
  },
  {
   "cell_type": "code",
   "execution_count": 23,
   "outputs": [
    {
     "data": {
      "text/plain": "<a class=\"sister\" href=\"http://example.com/tillie\" id=\"link3\">Tillie</a>"
     },
     "execution_count": 23,
     "metadata": {},
     "output_type": "execute_result"
    }
   ],
   "source": [
    "# Procurando com um referido <id>\n",
    "soupA.find('a',attrs={'id':'link3'})"
   ],
   "metadata": {
    "collapsed": false
   }
  },
  {
   "cell_type": "code",
   "execution_count": 26,
   "outputs": [
    {
     "data": {
      "text/plain": "<a class=\"sister\" href=\"http://example.com/lacie\" id=\"link2\">Lacie</a>"
     },
     "execution_count": 26,
     "metadata": {},
     "output_type": "execute_result"
    }
   ],
   "source": [
    "soupA.find('a',id= 'link2') # Pode ser direto também"
   ],
   "metadata": {
    "collapsed": false
   }
  },
  {
   "cell_type": "code",
   "execution_count": 30,
   "metadata": {
    "scrolled": false
   },
   "outputs": [
    {
     "data": {
      "text/plain": "[<a class=\"sister\" href=\"http://example.com/elsie\" id=\"link1\">Elsie</a>,\n <a class=\"sister\" href=\"http://example.com/lacie\" id=\"link2\">Lacie</a>,\n <a class=\"sister\" href=\"http://example.com/tillie\" id=\"link3\">Tillie</a>]"
     },
     "execution_count": 30,
     "metadata": {},
     "output_type": "execute_result"
    }
   ],
   "source": [
    "# Find_all() procura todas as ocorrências da tag\n",
    "\n",
    "[soup for soup in soupA.find_all('a')]"
   ]
  },
  {
   "cell_type": "code",
   "execution_count": 31,
   "metadata": {},
   "outputs": [
    {
     "data": {
      "text/plain": "[<a class=\"sister\" href=\"http://example.com/elsie\" id=\"link1\">Elsie</a>,\n <a class=\"sister\" href=\"http://example.com/lacie\" id=\"link2\">Lacie</a>]"
     },
     "execution_count": 31,
     "metadata": {},
     "output_type": "execute_result"
    }
   ],
   "source": [
    "# Limitando o número de ocorrências\n",
    "# Retorna somente 2 ocorrências.\n",
    "[soup for soup in soupA.find_all('a',limit=2)]"
   ]
  },
  {
   "cell_type": "code",
   "execution_count": 34,
   "metadata": {},
   "outputs": [
    {
     "data": {
      "text/plain": "<a class=\"sister\" href=\"http://example.com/lacie\" id=\"link2\">Lacie</a>"
     },
     "execution_count": 34,
     "metadata": {},
     "output_type": "execute_result"
    }
   ],
   "source": [
    "# Strings, lista de Strings, Objetos de Expressão Regular podem ser inputadas no <name> ou <text> como atributo do parâmentro attrs\n",
    "import re\n",
    "soupA.find('a',text=re.compile(r'cie'))"
   ]
  },
  {
   "cell_type": "code",
   "execution_count": 35,
   "outputs": [
    {
     "data": {
      "text/plain": "[<a class=\"sister\" href=\"http://example.com/tillie\" id=\"link3\">Tillie</a>]"
     },
     "execution_count": 35,
     "metadata": {},
     "output_type": "execute_result"
    }
   ],
   "source": [
    "soupA.find_all('a',attrs={'id':re.compile(r'3')})"
   ],
   "metadata": {
    "collapsed": false
   }
  },
  {
   "cell_type": "code",
   "execution_count": 36,
   "metadata": {},
   "outputs": [
    {
     "data": {
      "text/plain": "[<a class=\"sister\" href=\"http://example.com/elsie\" id=\"link1\">Elsie</a>,\n <a class=\"sister\" href=\"http://example.com/lacie\" id=\"link2\">Lacie</a>,\n <a class=\"sister\" href=\"http://example.com/tillie\" id=\"link3\">Tillie</a>]"
     },
     "execution_count": 36,
     "metadata": {},
     "output_type": "execute_result"
    }
   ],
   "source": [
    "soupA.find_all(re.compile('a'))"
   ]
  },
  {
   "cell_type": "code",
   "execution_count": 40,
   "outputs": [
    {
     "data": {
      "text/plain": "[<p class=\"title\"><b>The Dormouse's story</b></p>,\n <p class=\"story\">Once upon a time there were three little sisters; and their names\n were\n <a class=\"sister\" href=\"http://example.com/elsie\" id=\"link1\">Elsie</a>,\n <a class=\"sister\" href=\"http://example.com/lacie\" id=\"link2\">Lacie</a> and\n <a class=\"sister\" href=\"http://example.com/tillie\" id=\"link3\">Tillie</a>;\n and they lived at the bottom of a well.</p>,\n <p class=\"story\">...</p>]"
     },
     "execution_count": 40,
     "metadata": {},
     "output_type": "execute_result"
    }
   ],
   "source": [
    "# find_all() suporta atributos globais como nome classe\n",
    "soup = BeautifulSoup(html_doc,'lxml')\n",
    "soup.find_all('p') # Pegar todos os <p>"
   ],
   "metadata": {
    "collapsed": false
   }
  },
  {
   "cell_type": "code",
   "execution_count": 42,
   "outputs": [
    {
     "data": {
      "text/plain": "[<p class=\"story\">Once upon a time there were three little sisters; and their names\n were\n <a class=\"sister\" href=\"http://example.com/elsie\" id=\"link1\">Elsie</a>,\n <a class=\"sister\" href=\"http://example.com/lacie\" id=\"link2\">Lacie</a> and\n <a class=\"sister\" href=\"http://example.com/tillie\" id=\"link3\">Tillie</a>;\n and they lived at the bottom of a well.</p>,\n <p class=\"story\">...</p>]"
     },
     "execution_count": 42,
     "metadata": {},
     "output_type": "execute_result"
    }
   ],
   "source": [
    "soup.find_all('p','story') # pega somente a classe \"story\""
   ],
   "metadata": {
    "collapsed": false
   }
  },
  {
   "cell_type": "code",
   "execution_count": 44,
   "outputs": [
    {
     "data": {
      "text/plain": "[<p class=\"title\"><b>The Dormouse's story</b></p>]"
     },
     "execution_count": 44,
     "metadata": {},
     "output_type": "execute_result"
    }
   ],
   "source": [
    "# Capturando a classe apenas \"title\"\n",
    "soup.find_all('p','title')"
   ],
   "metadata": {
    "collapsed": false
   }
  },
  {
   "cell_type": "code",
   "execution_count": 45,
   "outputs": [
    {
     "data": {
      "text/plain": "[<p class=\"title\"><b>The Dormouse's story</b></p>]"
     },
     "execution_count": 45,
     "metadata": {},
     "output_type": "execute_result"
    }
   ],
   "source": [
    "# O exemplo acima seria o mesmo que:\n",
    "soup.find_all('p',attrs={'class':'title'})"
   ],
   "metadata": {
    "collapsed": false
   }
  },
  {
   "cell_type": "code",
   "execution_count": 48,
   "outputs": [
    {
     "data": {
      "text/plain": "[<p class=\"title\"><b>The Dormouse's story</b></p>,\n <p class=\"story\">Once upon a time there were three little sisters; and their names\n were\n <a class=\"sister\" href=\"http://example.com/elsie\" id=\"link1\">Elsie</a>,\n <a class=\"sister\" href=\"http://example.com/lacie\" id=\"link2\">Lacie</a> and\n <a class=\"sister\" href=\"http://example.com/tillie\" id=\"link3\">Tillie</a>;\n and they lived at the bottom of a well.</p>,\n <p class=\"story\">...</p>]"
     },
     "execution_count": 48,
     "metadata": {},
     "output_type": "execute_result"
    }
   ],
   "source": [
    "# Multiplos <name> e <attrs> podem ser passados na sintaxe find_all()\n",
    "\n",
    "soup.find_all('p',attrs={'class':['title','story']}) # Sendo explícito"
   ],
   "metadata": {
    "collapsed": false
   }
  },
  {
   "cell_type": "code",
   "execution_count": 50,
   "outputs": [
    {
     "data": {
      "text/plain": "[<p class=\"title\"><b>The Dormouse's story</b></p>,\n <p class=\"story\">Once upon a time there were three little sisters; and their names\n were\n <a class=\"sister\" href=\"http://example.com/elsie\" id=\"link1\">Elsie</a>,\n <a class=\"sister\" href=\"http://example.com/lacie\" id=\"link2\">Lacie</a> and\n <a class=\"sister\" href=\"http://example.com/tillie\" id=\"link3\">Tillie</a>;\n and they lived at the bottom of a well.</p>,\n <p class=\"story\">...</p>,\n <li data-id=\"10784\">Jason Walters, 003: Found dead in \"A View to a Kill\".</li>,\n <li data-id=\"97865\">Alex Trevelyan, 006: Agent turned terrorist leader; James'\n nemesis in \"Goldeneye\".</li>,\n <li data-id=\"45732\">James Bond, 007: The main man; shaken but not stirred.</li>]"
     },
     "execution_count": 50,
     "metadata": {},
     "output_type": "execute_result"
    }
   ],
   "source": [
    "soup.find_all(['p','li']) # Sendo implícito"
   ],
   "metadata": {
    "collapsed": false
   }
  },
  {
   "cell_type": "code",
   "execution_count": 51,
   "outputs": [
    {
     "data": {
      "text/plain": "['Elsie']"
     },
     "execution_count": 51,
     "metadata": {},
     "output_type": "execute_result"
    }
   ],
   "source": [
    "# Podemos usar o parâmetro <String> é parecido com o <text>\n",
    "# Pode ser usado com ou sem o nome da tag\n",
    "soup.find_all(string='Elsie')"
   ],
   "metadata": {
    "collapsed": false
   }
  },
  {
   "cell_type": "code",
   "execution_count": 52,
   "outputs": [
    {
     "data": {
      "text/plain": "['Elsie']"
     },
     "execution_count": 52,
     "metadata": {},
     "output_type": "execute_result"
    }
   ],
   "source": [
    "soup.find_all(text=re.compile(r'Elsie'))"
   ],
   "metadata": {
    "collapsed": false
   }
  },
  {
   "cell_type": "code",
   "execution_count": 53,
   "outputs": [
    {
     "data": {
      "text/plain": "[<a class=\"sister\" href=\"http://example.com/elsie\" id=\"link1\">Elsie</a>]"
     },
     "execution_count": 53,
     "metadata": {},
     "output_type": "execute_result"
    }
   ],
   "source": [
    "# Encontrando a tag com \"Elsie\"\n",
    "soup.find_all('a',string=\"Elsie\")"
   ],
   "metadata": {
    "collapsed": false
   }
  },
  {
   "cell_type": "code",
   "execution_count": 54,
   "outputs": [
    {
     "name": "stdout",
     "output_type": "stream",
     "text": [
      "li  >  10784  >  Jason Walters, 003: Found dead in \"A View to a Kill\".\n",
      "li  >  97865  >  Alex Trevelyan, 006: Agent turned terrorist leader; James'\n",
      "nemesis in \"Goldeneye\".\n",
      "li  >  45732  >  James Bond, 007: The main man; shaken but not stirred.\n"
     ]
    }
   ],
   "source": [
    "# Podemos usar o find_all() para iterar sobre os elementos\n",
    "\n",
    "for li in soup.ul.find_all('li'):\n",
    "    print(li.name, ' > ',li.get('data-id'),' > ', li.text)"
   ],
   "metadata": {
    "collapsed": false
   }
  },
  {
   "cell_type": "code",
   "execution_count": 55,
   "outputs": [
    {
     "data": {
      "text/plain": "<a class=\"sister\" href=\"http://example.com/elsie\" id=\"link1\">Elsie</a>"
     },
     "execution_count": 55,
     "metadata": {},
     "output_type": "execute_result"
    }
   ],
   "source": [
    "# Podemos acessar com ou sem a <tag name> dessa forma:\n",
    "soupA.a"
   ],
   "metadata": {
    "collapsed": false
   }
  },
  {
   "cell_type": "code",
   "execution_count": 57,
   "outputs": [
    {
     "data": {
      "text/plain": "<li data-id=\"10784\">Jason Walters, 003: Found dead in \"A View to a Kill\".</li>"
     },
     "execution_count": 57,
     "metadata": {},
     "output_type": "execute_result"
    }
   ],
   "source": [
    "soup.li"
   ],
   "metadata": {
    "collapsed": false
   }
  },
  {
   "cell_type": "code",
   "execution_count": 58,
   "outputs": [
    {
     "data": {
      "text/plain": "<p class=\"title\"><b>The Dormouse's story</b></p>"
     },
     "execution_count": 58,
     "metadata": {},
     "output_type": "execute_result"
    }
   ],
   "source": [
    "soup.p"
   ],
   "metadata": {
    "collapsed": false
   }
  },
  {
   "cell_type": "code",
   "execution_count": 59,
   "outputs": [
    {
     "data": {
      "text/plain": "<b>The Dormouse's story</b>"
     },
     "execution_count": 59,
     "metadata": {},
     "output_type": "execute_result"
    }
   ],
   "source": [
    "soup.p.b # Vemos que dentro da tag <p> existe a tag <b> que podemos acessar!!!"
   ],
   "metadata": {
    "collapsed": false
   }
  },
  {
   "cell_type": "code",
   "execution_count": 62,
   "outputs": [
    {
     "data": {
      "text/plain": "<li data-id=\"97865\">Alex Trevelyan, 006: Agent turned terrorist leader; James'\nnemesis in \"Goldeneye\".</li>"
     },
     "execution_count": 62,
     "metadata": {},
     "output_type": "execute_result"
    }
   ],
   "source": [
    "soup.ul.find('li',attrs={'data-id':'97865'})"
   ],
   "metadata": {
    "collapsed": false
   }
  },
  {
   "cell_type": "code",
   "execution_count": 70,
   "outputs": [
    {
     "name": "stdout",
     "output_type": "stream",
     "text": [
      "Alex Trevelyan, 006: Agent turned terrorist leader; James'\n",
      "nemesis in \"Goldeneye\".\n"
     ]
    }
   ],
   "source": [
    "# Podemos pegar apenas o texto usando .text ou o get_text()\n",
    "print(soup.ul.find('li',attrs={'data-id':'97865'}).text)"
   ],
   "metadata": {
    "collapsed": false
   }
  },
  {
   "cell_type": "code",
   "execution_count": 71,
   "outputs": [
    {
     "data": {
      "text/plain": "\"The Dormouse's story\""
     },
     "execution_count": 71,
     "metadata": {},
     "output_type": "execute_result"
    }
   ],
   "source": [
    "soup.p.text"
   ],
   "metadata": {
    "collapsed": false
   }
  },
  {
   "cell_type": "code",
   "execution_count": 72,
   "outputs": [
    {
     "data": {
      "text/plain": "'Jason Walters, 003: Found dead in \"A View to a Kill\".'"
     },
     "execution_count": 72,
     "metadata": {},
     "output_type": "execute_result"
    }
   ],
   "source": [
    "soup.li.text"
   ],
   "metadata": {
    "collapsed": false
   }
  },
  {
   "cell_type": "code",
   "execution_count": 73,
   "outputs": [
    {
     "data": {
      "text/plain": "\"The Dormouse's story\""
     },
     "execution_count": 73,
     "metadata": {},
     "output_type": "execute_result"
    }
   ],
   "source": [
    "soup.p.string # String funciona também!!!"
   ],
   "metadata": {
    "collapsed": false
   }
  },
  {
   "cell_type": "markdown",
   "metadata": {},
   "source": [
    "## Usando *filhos* e *pais*"
   ]
  },
  {
   "cell_type": "markdown",
   "source": [
    "* `contents` coletam filhos para os critérios fornecidos em uma lista.\n",
    "* `children` são usados para iteração que tem filhos diretos.\n",
    "* `descendants` funcionam de forma ligeiramente diferente dos elementos `content` e `children`.\n",
    "\n",
    "Ele permite iteração sobre todos os filhos, não apenas os diretos, ou seja, a *tag* do elemento e o conteúdo dentro da *tag* são, na verdade, dois *filhos* separados."
   ],
   "metadata": {
    "collapsed": false
   }
  },
  {
   "cell_type": "code",
   "execution_count": 75,
   "metadata": {},
   "outputs": [
    {
     "data": {
      "text/plain": "['Once upon a time there were three little sisters; and their names\\nwere\\n',\n <a class=\"sister\" href=\"http://example.com/elsie\" id=\"link1\">Elsie</a>,\n ',\\n',\n <a class=\"sister\" href=\"http://example.com/lacie\" id=\"link2\">Lacie</a>,\n ' and\\n',\n <a class=\"sister\" href=\"http://example.com/tillie\" id=\"link3\">Tillie</a>,\n ';\\nand they lived at the bottom of a well.']"
     },
     "execution_count": 75,
     "metadata": {},
     "output_type": "execute_result"
    }
   ],
   "source": [
    "list(soup.find('p','story').children)"
   ]
  },
  {
   "cell_type": "code",
   "execution_count": 76,
   "metadata": {},
   "outputs": [
    {
     "data": {
      "text/plain": "['Once upon a time there were three little sisters; and their names\\nwere\\n',\n <a class=\"sister\" href=\"http://example.com/elsie\" id=\"link1\">Elsie</a>,\n ',\\n',\n <a class=\"sister\" href=\"http://example.com/lacie\" id=\"link2\">Lacie</a>,\n ' and\\n',\n <a class=\"sister\" href=\"http://example.com/tillie\" id=\"link3\">Tillie</a>,\n ';\\nand they lived at the bottom of a well.']"
     },
     "execution_count": 76,
     "metadata": {},
     "output_type": "execute_result"
    }
   ],
   "source": [
    "list(soup.find('p','story').contents)"
   ]
  },
  {
   "cell_type": "code",
   "execution_count": 77,
   "metadata": {},
   "outputs": [
    {
     "data": {
      "text/plain": "['Once upon a time there were three little sisters; and their names\\nwere\\n',\n <a class=\"sister\" href=\"http://example.com/elsie\" id=\"link1\">Elsie</a>,\n 'Elsie',\n ',\\n',\n <a class=\"sister\" href=\"http://example.com/lacie\" id=\"link2\">Lacie</a>,\n 'Lacie',\n ' and\\n',\n <a class=\"sister\" href=\"http://example.com/tillie\" id=\"link3\">Tillie</a>,\n 'Tillie',\n ';\\nand they lived at the bottom of a well.']"
     },
     "execution_count": 77,
     "metadata": {},
     "output_type": "execute_result"
    }
   ],
   "source": [
    "list(soup.find('p','story').descendants)"
   ]
  },
  {
   "cell_type": "code",
   "execution_count": 79,
   "outputs": [
    {
     "data": {
      "text/plain": "[None, 'a', None, 'a', None, 'a', None]"
     },
     "execution_count": 79,
     "metadata": {},
     "output_type": "execute_result"
    }
   ],
   "source": [
    "# Selecionando <children> o os <descendants> obtemos o atributo <name>\n",
    "# Vemos que temos \"\\n\" (Nova Linha).\n",
    "# Depois podemos filtrar essas linhas vazias.\n",
    "\n",
    "# USANDO A TÉCNICA DA LIST COMPREHENSION\n",
    "\n",
    "[a.name for a in soup.find('p','story').children]"
   ],
   "metadata": {
    "collapsed": false
   }
  },
  {
   "cell_type": "code",
   "execution_count": 80,
   "outputs": [
    {
     "data": {
      "text/plain": "[{'tag': 'a', 'text': 'Elsie', 'class': ['sister']},\n {'tag': 'a', 'text': 'Lacie', 'class': ['sister']},\n {'tag': 'a', 'text': 'Tillie', 'class': ['sister']}]"
     },
     "execution_count": 80,
     "metadata": {},
     "output_type": "execute_result"
    }
   ],
   "source": [
    "# Impondo uma condição para os <Children>\n",
    "[{'tag': a.name,'text': a.text,'class': a.get('class')} for a in soup.find('p','story').children if a.name!=None]"
   ],
   "metadata": {
    "collapsed": false
   }
  },
  {
   "cell_type": "code",
   "execution_count": 81,
   "outputs": [
    {
     "data": {
      "text/plain": "[None, 'a', None, None, 'a', None, None, 'a', None, None]"
     },
     "execution_count": 81,
     "metadata": {},
     "output_type": "execute_result"
    }
   ],
   "source": [
    "# Mesma coisa fazemos para os <descendents>\n",
    "[a.name for a in soup.find('p','story').descendants]"
   ],
   "metadata": {
    "collapsed": false
   }
  },
  {
   "cell_type": "code",
   "execution_count": 82,
   "outputs": [
    {
     "data": {
      "text/plain": "['a', 'a', 'a']"
     },
     "execution_count": 82,
     "metadata": {},
     "output_type": "execute_result"
    }
   ],
   "source": [
    "# Usando a função filter() iremos elimnar os campos vazios.\n",
    "list(filter(None,[a.name for a in soup.find('p','story').descendants] ))"
   ],
   "metadata": {
    "collapsed": false
   }
  },
  {
   "cell_type": "code",
   "execution_count": 84,
   "metadata": {},
   "outputs": [
    {
     "data": {
      "text/plain": "[<a class=\"sister\" href=\"http://example.com/elsie\" id=\"link1\">Elsie</a>,\n <a class=\"sister\" href=\"http://example.com/lacie\" id=\"link2\">Lacie</a>,\n <a class=\"sister\" href=\"http://example.com/tillie\" id=\"link3\">Tillie</a>]"
     },
     "execution_count": 84,
     "metadata": {},
     "output_type": "execute_result"
    }
   ],
   "source": [
    "# Encontrando as tag filhos apenas!\n",
    "soup.find('p','story').findChildren()"
   ]
  },
  {
   "cell_type": "code",
   "execution_count": 86,
   "outputs": [
    {
     "data": {
      "text/plain": "<a class=\"sister\" href=\"http://example.com/elsie\" id=\"link1\">Elsie</a>"
     },
     "execution_count": 86,
     "metadata": {},
     "output_type": "execute_result"
    }
   ],
   "source": [
    "soup.find('p','story').findChild() # Só a primeira tag Children"
   ],
   "metadata": {
    "collapsed": false
   }
  },
  {
   "cell_type": "code",
   "execution_count": 88,
   "metadata": {},
   "outputs": [
    {
     "data": {
      "text/plain": "<p class=\"story\">Once upon a time there were three little sisters; and their names\nwere\n<a class=\"sister\" href=\"http://example.com/elsie\" id=\"link1\">Elsie</a>,\n<a class=\"sister\" href=\"http://example.com/lacie\" id=\"link2\">Lacie</a> and\n<a class=\"sister\" href=\"http://example.com/tillie\" id=\"link3\">Tillie</a>;\nand they lived at the bottom of a well.</p>"
     },
     "execution_count": 88,
     "metadata": {},
     "output_type": "execute_result"
    }
   ],
   "source": [
    "# Encotrando no nó pai\n",
    "soup.find('a','sister').parent"
   ]
  },
  {
   "cell_type": "code",
   "execution_count": 89,
   "metadata": {},
   "outputs": [
    {
     "data": {
      "text/plain": "'p'"
     },
     "execution_count": 89,
     "metadata": {},
     "output_type": "execute_result"
    }
   ],
   "source": [
    "soup.find('a').parent.name"
   ]
  },
  {
   "cell_type": "code",
   "execution_count": 93,
   "metadata": {},
   "outputs": [
    {
     "name": "stdout",
     "output_type": "stream",
     "text": [
      "Once upon a time there were three little sisters; and their names\n",
      "were\n",
      "Elsie,\n",
      "Lacie and\n",
      "Tillie;\n",
      "and they lived at the bottom of a well.\n"
     ]
    }
   ],
   "source": [
    "print(soup.find('a','sister').parent.text)"
   ]
  },
  {
   "cell_type": "code",
   "execution_count": 94,
   "metadata": {},
   "outputs": [
    {
     "name": "stdout",
     "output_type": "stream",
     "text": [
      "p\n",
      "body\n",
      "html\n",
      "[document]\n"
     ]
    }
   ],
   "source": [
    "# Encontrando as tag dos pais.\n",
    "for element in soup.find('a').parents:\n",
    "    print(element.name)"
   ]
  },
  {
   "cell_type": "code",
   "execution_count": 97,
   "metadata": {},
   "outputs": [
    {
     "data": {
      "text/plain": "<p class=\"story\">Once upon a time there were three little sisters; and their names\nwere\n<a class=\"sister\" href=\"http://example.com/elsie\" id=\"link1\">Elsie</a>,\n<a class=\"sister\" href=\"http://example.com/lacie\" id=\"link2\">Lacie</a> and\n<a class=\"sister\" href=\"http://example.com/tillie\" id=\"link3\">Tillie</a>;\nand they lived at the bottom of a well.</p>"
     },
     "execution_count": 97,
     "metadata": {},
     "output_type": "execute_result"
    }
   ],
   "source": [
    "# .findParent() encontra o nó pai.\n",
    "soup.find('a','sister').findParent()"
   ]
  },
  {
   "cell_type": "code",
   "execution_count": 99,
   "metadata": {},
   "outputs": [
    {
     "data": {
      "text/plain": "[<p class=\"story\">Once upon a time there were three little sisters; and their names\n were\n <a class=\"sister\" href=\"http://example.com/elsie\" id=\"link1\">Elsie</a>,\n <a class=\"sister\" href=\"http://example.com/lacie\" id=\"link2\">Lacie</a> and\n <a class=\"sister\" href=\"http://example.com/tillie\" id=\"link3\">Tillie</a>;\n and they lived at the bottom of a well.</p>,\n <body>\n <p class=\"title\"><b>The Dormouse's story</b></p>\n <p class=\"story\">Once upon a time there were three little sisters; and their names\n were\n <a class=\"sister\" href=\"http://example.com/elsie\" id=\"link1\">Elsie</a>,\n <a class=\"sister\" href=\"http://example.com/lacie\" id=\"link2\">Lacie</a> and\n <a class=\"sister\" href=\"http://example.com/tillie\" id=\"link3\">Tillie</a>;\n and they lived at the bottom of a well.</p>\n <p class=\"story\">...</p>\n <h1>Secret agents</h1>\n <ul>\n <li data-id=\"10784\">Jason Walters, 003: Found dead in \"A View to a Kill\".</li>\n <li data-id=\"97865\">Alex Trevelyan, 006: Agent turned terrorist leader; James'\n nemesis in \"Goldeneye\".</li>\n <li data-id=\"45732\">James Bond, 007: The main man; shaken but not stirred.</li>\n </ul>\n </body>,\n <html><head><title>The Dormouse's story</title></head>\n <body>\n <p class=\"title\"><b>The Dormouse's story</b></p>\n <p class=\"story\">Once upon a time there were three little sisters; and their names\n were\n <a class=\"sister\" href=\"http://example.com/elsie\" id=\"link1\">Elsie</a>,\n <a class=\"sister\" href=\"http://example.com/lacie\" id=\"link2\">Lacie</a> and\n <a class=\"sister\" href=\"http://example.com/tillie\" id=\"link3\">Tillie</a>;\n and they lived at the bottom of a well.</p>\n <p class=\"story\">...</p>\n <h1>Secret agents</h1>\n <ul>\n <li data-id=\"10784\">Jason Walters, 003: Found dead in \"A View to a Kill\".</li>\n <li data-id=\"97865\">Alex Trevelyan, 006: Agent turned terrorist leader; James'\n nemesis in \"Goldeneye\".</li>\n <li data-id=\"45732\">James Bond, 007: The main man; shaken but not stirred.</li>\n </ul>\n </body>\n </html>,\n <html><head><title>The Dormouse's story</title></head>\n <body>\n <p class=\"title\"><b>The Dormouse's story</b></p>\n <p class=\"story\">Once upon a time there were three little sisters; and their names\n were\n <a class=\"sister\" href=\"http://example.com/elsie\" id=\"link1\">Elsie</a>,\n <a class=\"sister\" href=\"http://example.com/lacie\" id=\"link2\">Lacie</a> and\n <a class=\"sister\" href=\"http://example.com/tillie\" id=\"link3\">Tillie</a>;\n and they lived at the bottom of a well.</p>\n <p class=\"story\">...</p>\n <h1>Secret agents</h1>\n <ul>\n <li data-id=\"10784\">Jason Walters, 003: Found dead in \"A View to a Kill\".</li>\n <li data-id=\"97865\">Alex Trevelyan, 006: Agent turned terrorist leader; James'\n nemesis in \"Goldeneye\".</li>\n <li data-id=\"45732\">James Bond, 007: The main man; shaken but not stirred.</li>\n </ul>\n </body>\n </html>]"
     },
     "execution_count": 99,
     "metadata": {},
     "output_type": "execute_result"
    }
   ],
   "source": [
    "soup.find('a','sister').findParents()"
   ]
  },
  {
   "cell_type": "markdown",
   "metadata": {},
   "source": [
    "## Using *next* e *previous*"
   ]
  },
  {
   "cell_type": "code",
   "execution_count": 105,
   "metadata": {},
   "outputs": [
    {
     "data": {
      "text/plain": "'Once upon a time there were three little sisters; and their names\\nwere\\n'"
     },
     "execution_count": 105,
     "metadata": {},
     "output_type": "execute_result"
    }
   ],
   "source": [
    "# Encontrar o <próximo> elemento.\n",
    "# As funções podem ser encadeadas.\n",
    "soup.find('p','story').next"
   ]
  },
  {
   "cell_type": "code",
   "execution_count": 106,
   "outputs": [
    {
     "data": {
      "text/plain": "<a class=\"sister\" href=\"http://example.com/elsie\" id=\"link1\">Elsie</a>"
     },
     "execution_count": 106,
     "metadata": {},
     "output_type": "execute_result"
    }
   ],
   "source": [
    "soup.find('p','story').next.next # O próximo do próximo."
   ],
   "metadata": {
    "collapsed": false
   }
  },
  {
   "cell_type": "code",
   "execution_count": 107,
   "metadata": {},
   "outputs": [
    {
     "data": {
      "text/plain": "'Once upon a time there were three little sisters; and their names\\nwere\\n'"
     },
     "execution_count": 107,
     "metadata": {},
     "output_type": "execute_result"
    }
   ],
   "source": [
    "soup.find('p','story').next_element"
   ]
  },
  {
   "cell_type": "code",
   "execution_count": 108,
   "outputs": [
    {
     "data": {
      "text/plain": "<a class=\"sister\" href=\"http://example.com/elsie\" id=\"link1\">Elsie</a>"
     },
     "execution_count": 108,
     "metadata": {},
     "output_type": "execute_result"
    }
   ],
   "source": [
    "soup.find('p','story').next_element.next_element"
   ],
   "metadata": {
    "collapsed": false
   }
  },
  {
   "cell_type": "code",
   "execution_count": 112,
   "outputs": [
    {
     "data": {
      "text/plain": "'\\n'"
     },
     "execution_count": 112,
     "metadata": {},
     "output_type": "execute_result"
    }
   ],
   "source": [
    "# Com o anterior <previous>\n",
    "# Pode ser encadeata também.\n",
    "soup.find('p','story').previous # Retorna uma linha vazia"
   ],
   "metadata": {
    "collapsed": false
   }
  },
  {
   "cell_type": "code",
   "execution_count": 113,
   "metadata": {},
   "outputs": [
    {
     "data": {
      "text/plain": "\"The Dormouse's story\""
     },
     "execution_count": 113,
     "metadata": {},
     "output_type": "execute_result"
    }
   ],
   "source": [
    "soup.find('p','story').previous.previous"
   ]
  },
  {
   "cell_type": "code",
   "execution_count": 114,
   "outputs": [
    {
     "data": {
      "text/plain": "<b>The Dormouse's story</b>"
     },
     "execution_count": 114,
     "metadata": {},
     "output_type": "execute_result"
    }
   ],
   "source": [
    "soup.find('p','story').previous_element.previous_element.previous_element"
   ],
   "metadata": {
    "collapsed": false
   }
  },
  {
   "cell_type": "code",
   "execution_count": 115,
   "metadata": {},
   "outputs": [
    {
     "name": "stdout",
     "output_type": "stream",
     "text": [
      "\n",
      "\n",
      "<li data-id=\"10784\">Jason Walters, 003: Found dead in \"A View to a Kill\".</li>\n",
      "Jason Walters, 003: Found dead in \"A View to a Kill\".\n",
      "\n",
      "\n",
      "<li data-id=\"97865\">Alex Trevelyan, 006: Agent turned terrorist leader; James'\n",
      "nemesis in \"Goldeneye\".</li>\n",
      "Alex Trevelyan, 006: Agent turned terrorist leader; James'\n",
      "nemesis in \"Goldeneye\".\n",
      "\n",
      "\n",
      "<li data-id=\"45732\">James Bond, 007: The main man; shaken but not stirred.</li>\n",
      "James Bond, 007: The main man; shaken but not stirred.\n",
      "\n",
      "\n",
      "\n",
      "\n",
      "\n",
      "\n"
     ]
    }
   ],
   "source": [
    "for element in soup.find('ul').next_elements:\n",
    "\tprint(element)"
   ]
  },
  {
   "cell_type": "code",
   "execution_count": 118,
   "outputs": [
    {
     "data": {
      "text/plain": "'Once upon a time there were three little sisters; and their names\\nwere\\n'"
     },
     "execution_count": 118,
     "metadata": {},
     "output_type": "execute_result"
    }
   ],
   "source": [
    "soup.find('p','story').next"
   ],
   "metadata": {
    "collapsed": false
   }
  },
  {
   "cell_type": "code",
   "execution_count": 117,
   "outputs": [
    {
     "data": {
      "text/plain": "<a class=\"sister\" href=\"http://example.com/elsie\" id=\"link1\">Elsie</a>"
     },
     "execution_count": 117,
     "metadata": {},
     "output_type": "execute_result"
    }
   ],
   "source": [
    "# Encontra elementos dependendo das condições\n",
    "soup.find('p','story').find_next()"
   ],
   "metadata": {
    "collapsed": false
   }
  },
  {
   "cell_type": "code",
   "execution_count": 119,
   "outputs": [
    {
     "data": {
      "text/plain": "<h1>Secret agents</h1>"
     },
     "execution_count": 119,
     "metadata": {},
     "output_type": "execute_result"
    }
   ],
   "source": [
    "soup.find('p','story').find_next('h1') # Passou uma condição e ele encontrou."
   ],
   "metadata": {
    "collapsed": false
   }
  },
  {
   "cell_type": "code",
   "execution_count": 121,
   "outputs": [
    {
     "data": {
      "text/plain": "[<a class=\"sister\" href=\"http://example.com/elsie\" id=\"link1\">Elsie</a>,\n <a class=\"sister\" href=\"http://example.com/lacie\" id=\"link2\">Lacie</a>,\n <a class=\"sister\" href=\"http://example.com/tillie\" id=\"link3\">Tillie</a>,\n <p class=\"story\">...</p>,\n <h1>Secret agents</h1>,\n <ul>\n <li data-id=\"10784\">Jason Walters, 003: Found dead in \"A View to a Kill\".</li>\n <li data-id=\"97865\">Alex Trevelyan, 006: Agent turned terrorist leader; James'\n nemesis in \"Goldeneye\".</li>\n <li data-id=\"45732\">James Bond, 007: The main man; shaken but not stirred.</li>\n </ul>,\n <li data-id=\"10784\">Jason Walters, 003: Found dead in \"A View to a Kill\".</li>,\n <li data-id=\"97865\">Alex Trevelyan, 006: Agent turned terrorist leader; James'\n nemesis in \"Goldeneye\".</li>,\n <li data-id=\"45732\">James Bond, 007: The main man; shaken but not stirred.</li>]"
     },
     "execution_count": 121,
     "metadata": {},
     "output_type": "execute_result"
    }
   ],
   "source": [
    "# Encontrando as tags de todos os próximos\n",
    "soup.find('p','story').find_all_next()"
   ],
   "metadata": {
    "collapsed": false
   }
  },
  {
   "cell_type": "code",
   "execution_count": 123,
   "metadata": {},
   "outputs": [
    {
     "data": {
      "text/plain": "[<li data-id=\"10784\">Jason Walters, 003: Found dead in \"A View to a Kill\".</li>,\n <li data-id=\"97865\">Alex Trevelyan, 006: Agent turned terrorist leader; James'\n nemesis in \"Goldeneye\".</li>]"
     },
     "execution_count": 123,
     "metadata": {},
     "output_type": "execute_result"
    }
   ],
   "source": [
    "# Limitando as tag encontradas em <2>\n",
    "soup.find('a').find_all_next('li', limit=2)"
   ]
  },
  {
   "cell_type": "code",
   "execution_count": 125,
   "metadata": {},
   "outputs": [
    {
     "data": {
      "text/plain": "<h1>Secret agents</h1>"
     },
     "execution_count": 125,
     "metadata": {},
     "output_type": "execute_result"
    }
   ],
   "source": [
    "soup.find('ul').previous.previous.previous"
   ]
  },
  {
   "cell_type": "code",
   "execution_count": 126,
   "outputs": [
    {
     "data": {
      "text/plain": "<h1>Secret agents</h1>"
     },
     "execution_count": 126,
     "metadata": {},
     "output_type": "execute_result"
    }
   ],
   "source": [
    "soup.find('ul').find_previous()"
   ],
   "metadata": {
    "collapsed": false
   }
  },
  {
   "cell_type": "code",
   "execution_count": 127,
   "outputs": [
    {
     "data": {
      "text/plain": "<p class=\"title\"><b>The Dormouse's story</b></p>"
     },
     "execution_count": 127,
     "metadata": {},
     "output_type": "execute_result"
    }
   ],
   "source": [
    "soup.find('ul').find_previous('p','title')"
   ],
   "metadata": {
    "collapsed": false
   }
  },
  {
   "cell_type": "code",
   "execution_count": 128,
   "outputs": [
    {
     "data": {
      "text/plain": "[<p class=\"story\">...</p>,\n <p class=\"story\">Once upon a time there were three little sisters; and their names\n were\n <a class=\"sister\" href=\"http://example.com/elsie\" id=\"link1\">Elsie</a>,\n <a class=\"sister\" href=\"http://example.com/lacie\" id=\"link2\">Lacie</a> and\n <a class=\"sister\" href=\"http://example.com/tillie\" id=\"link3\">Tillie</a>;\n and they lived at the bottom of a well.</p>,\n <p class=\"title\"><b>The Dormouse's story</b></p>]"
     },
     "execution_count": 128,
     "metadata": {},
     "output_type": "execute_result"
    }
   ],
   "source": [
    "soup.find('ul').find_all_previous('p')"
   ],
   "metadata": {
    "collapsed": false
   }
  },
  {
   "cell_type": "code",
   "execution_count": null,
   "outputs": [],
   "source": [
    "# Siblings ou siblings são elementos que estão no mesmo nível da árvore\n"
   ],
   "metadata": {
    "collapsed": false
   }
  },
  {
   "cell_type": "code",
   "execution_count": 131,
   "metadata": {},
   "outputs": [
    {
     "data": {
      "text/plain": "'\\n'"
     },
     "execution_count": 131,
     "metadata": {},
     "output_type": "execute_result"
    }
   ],
   "source": [
    "soup.find('p','title').next_sibling # Retorna uma linha vazia"
   ]
  },
  {
   "cell_type": "code",
   "execution_count": 136,
   "outputs": [
    {
     "data": {
      "text/plain": "<p class=\"story\">Once upon a time there were three little sisters; and their names\nwere\n<a class=\"sister\" href=\"http://example.com/elsie\" id=\"link1\">Elsie</a>,\n<a class=\"sister\" href=\"http://example.com/lacie\" id=\"link2\">Lacie</a> and\n<a class=\"sister\" href=\"http://example.com/tillie\" id=\"link3\">Tillie</a>;\nand they lived at the bottom of a well.</p>"
     },
     "execution_count": 136,
     "metadata": {},
     "output_type": "execute_result"
    }
   ],
   "source": [
    "soup.find('p','title').next_sibling.next"
   ],
   "metadata": {
    "collapsed": false
   }
  },
  {
   "cell_type": "code",
   "execution_count": 137,
   "outputs": [
    {
     "data": {
      "text/plain": "<h1>Secret agents</h1>"
     },
     "execution_count": 137,
     "metadata": {},
     "output_type": "execute_result"
    }
   ],
   "source": [
    "soup.find('ul').previous_sibling.previous_sibling"
   ],
   "metadata": {
    "collapsed": false
   }
  },
  {
   "cell_type": "code",
   "execution_count": 138,
   "outputs": [
    {
     "data": {
      "text/plain": "['p', 'p', 'h1', 'ul']"
     },
     "execution_count": 138,
     "metadata": {},
     "output_type": "execute_result"
    }
   ],
   "source": [
    "# Iterando com a List Comphrension os dados\n",
    "title = [ele.name for ele in soup.find('p','title').next_siblings]\n",
    "list(filter(None,title))"
   ],
   "metadata": {
    "collapsed": false
   }
  },
  {
   "cell_type": "code",
   "execution_count": 139,
   "outputs": [
    {
     "name": "stdout",
     "output_type": "stream",
     "text": [
      "['h1', 'p', 'p', 'p']\n"
     ]
    }
   ],
   "source": [
    "ul = [ele.name for ele in soup.find('ul').previous_siblings]\n",
    "print(list(filter(None,ul)))"
   ],
   "metadata": {
    "collapsed": false
   }
  },
  {
   "cell_type": "code",
   "execution_count": 140,
   "outputs": [
    {
     "data": {
      "text/plain": "[<p class=\"story\">Once upon a time there were three little sisters; and their names\n were\n <a class=\"sister\" href=\"http://example.com/elsie\" id=\"link1\">Elsie</a>,\n <a class=\"sister\" href=\"http://example.com/lacie\" id=\"link2\">Lacie</a> and\n <a class=\"sister\" href=\"http://example.com/tillie\" id=\"link3\">Tillie</a>;\n and they lived at the bottom of a well.</p>,\n <p class=\"story\">...</p>]"
     },
     "execution_count": 140,
     "metadata": {},
     "output_type": "execute_result"
    }
   ],
   "source": [
    "#find next <p> siblings for selected <p> with class=title\n",
    "soup.find('p','title').find_next_siblings('p')"
   ],
   "metadata": {
    "collapsed": false
   }
  },
  {
   "cell_type": "code",
   "execution_count": 145,
   "outputs": [
    {
     "data": {
      "text/plain": "<ul>\n<li data-id=\"10784\">Jason Walters, 003: Found dead in \"A View to a Kill\".</li>\n<li data-id=\"97865\">Alex Trevelyan, 006: Agent turned terrorist leader; James'\nnemesis in \"Goldeneye\".</li>\n<li data-id=\"45732\">James Bond, 007: The main man; shaken but not stirred.</li>\n</ul>"
     },
     "execution_count": 145,
     "metadata": {},
     "output_type": "execute_result"
    }
   ],
   "source": [
    "#find single or next sibling for selected <h1>\n",
    "soup.find('h1').find_next_sibling()"
   ],
   "metadata": {
    "collapsed": false
   }
  },
  {
   "cell_type": "code",
   "execution_count": 147,
   "outputs": [],
   "source": [
    "#find single or next sibling <li> for selected <h1>\n",
    "soup.find('h1').find_next_sibling('li')  # não tem nenhum!"
   ],
   "metadata": {
    "collapsed": false
   }
  },
  {
   "cell_type": "markdown",
   "metadata": {},
   "source": [
    "## Usando Seletores CSS "
   ]
  }
 ],
 "metadata": {
  "hide_input": false,
  "kernelspec": {
   "display_name": "Python 3",
   "language": "python",
   "name": "python3"
  },
  "language_info": {
   "codemirror_mode": {
    "name": "ipython",
    "version": 3
   },
   "file_extension": ".py",
   "mimetype": "text/x-python",
   "name": "python",
   "nbconvert_exporter": "python",
   "pygments_lexer": "ipython3",
   "version": "3.8.5"
  }
 },
 "nbformat": 4,
 "nbformat_minor": 4
}
