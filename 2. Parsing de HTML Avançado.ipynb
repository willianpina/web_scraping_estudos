{
 "cells": [
  {
   "cell_type": "markdown",
   "source": [
    "# Capítulo 2 - Parsing de HTML Avançado"
   ],
   "metadata": {
    "collapsed": false,
    "pycharm": {
     "name": "#%% md\n"
    }
   }
  },
  {
   "cell_type": "markdown",
   "source": [
    "## Outras utilidades do BeautifulSoup"
   ],
   "metadata": {
    "collapsed": false,
    "pycharm": {
     "name": "#%% md\n"
    }
   }
  },
  {
   "cell_type": "code",
   "execution_count": 3,
   "outputs": [
    {
     "name": "stdout",
     "output_type": "stream",
     "text": [
      "Anna\n",
      "Pavlovna Scherer\n",
      "Empress Marya\n",
      "Fedorovna\n",
      "Prince Vasili Kuragin\n",
      "Anna Pavlovna\n",
      "St. Petersburg\n",
      "the prince\n",
      "Anna Pavlovna\n",
      "Anna Pavlovna\n",
      "the prince\n",
      "the prince\n",
      "the prince\n",
      "Prince Vasili\n",
      "Anna Pavlovna\n",
      "Anna Pavlovna\n",
      "the prince\n",
      "Wintzingerode\n",
      "King of Prussia\n",
      "le Vicomte de Mortemart\n",
      "Montmorencys\n",
      "Rohans\n",
      "Abbe Morio\n",
      "the Emperor\n",
      "the prince\n",
      "Prince Vasili\n",
      "Dowager Empress Marya Fedorovna\n",
      "the baron\n",
      "Anna Pavlovna\n",
      "the Empress\n",
      "the Empress\n",
      "Anna Pavlovna's\n",
      "Her Majesty\n",
      "Baron\n",
      "Funke\n",
      "The prince\n",
      "Anna\n",
      "Pavlovna\n",
      "the Empress\n",
      "The prince\n",
      "Anatole\n",
      "the prince\n",
      "The prince\n",
      "Anna\n",
      "Pavlovna\n",
      "Anna Pavlovna\n"
     ]
    }
   ],
   "source": [
    "from urllib.request import urlopen\n",
    "from bs4 import BeautifulSoup\n",
    "\n",
    "html = urlopen('http://pythonscraping.com/pages/warandpeace.html')\n",
    "\n",
    "bs = BeautifulSoup(html.read(), 'html.parser')\n",
    "\n",
    "nameList = bs.findAll('span', {'class':'green'})\n",
    "\n",
    "for name in nameList:\n",
    "\tprint(name.get_text())\n"
   ],
   "metadata": {
    "collapsed": false,
    "pycharm": {
     "name": "#%%\n"
    }
   }
  },
  {
   "cell_type": "code",
   "execution_count": 4,
   "outputs": [
    {
     "name": "stdout",
     "output_type": "stream",
     "text": [
      "7\n"
     ]
    }
   ],
   "source": [
    "nameList = bs.find_all(text='the prince')\n",
    "print(len(nameList))"
   ],
   "metadata": {
    "collapsed": false,
    "pycharm": {
     "name": "#%%\n"
    }
   }
  },
  {
   "cell_type": "code",
   "execution_count": 19,
   "outputs": [
    {
     "data": {
      "text/plain": "[<span class=\"green\">Anna\n Pavlovna Scherer</span>,\n <span class=\"green\">Empress Marya\n Fedorovna</span>,\n <span class=\"green\">Prince Vasili Kuragin</span>,\n <span class=\"green\">Anna Pavlovna</span>,\n <span class=\"green\">St. Petersburg</span>,\n <span class=\"green\">the prince</span>,\n <span class=\"green\">Anna Pavlovna</span>,\n <span class=\"green\">Anna Pavlovna</span>,\n <span class=\"green\">the prince</span>,\n <span class=\"green\">the prince</span>,\n <span class=\"green\">the prince</span>,\n <span class=\"green\">Prince Vasili</span>,\n <span class=\"green\">Anna Pavlovna</span>,\n <span class=\"green\">Anna Pavlovna</span>,\n <span class=\"green\">the prince</span>,\n <span class=\"green\">Wintzingerode</span>,\n <span class=\"green\">King of Prussia</span>,\n <span class=\"green\">le Vicomte de Mortemart</span>,\n <span class=\"green\">Montmorencys</span>,\n <span class=\"green\">Rohans</span>,\n <span class=\"green\">Abbe Morio</span>,\n <span class=\"green\">the Emperor</span>,\n <span class=\"green\">the prince</span>,\n <span class=\"green\">Prince Vasili</span>,\n <span class=\"green\">Dowager Empress Marya Fedorovna</span>,\n <span class=\"green\">the baron</span>,\n <span class=\"green\">Anna Pavlovna</span>,\n <span class=\"green\">the Empress</span>,\n <span class=\"green\">the Empress</span>,\n <span class=\"green\">Anna Pavlovna's</span>,\n <span class=\"green\">Her Majesty</span>,\n <span class=\"green\">Baron\n Funke</span>,\n <span class=\"green\">The prince</span>,\n <span class=\"green\">Anna\n Pavlovna</span>,\n <span class=\"green\">the Empress</span>,\n <span class=\"green\">The prince</span>,\n <span class=\"green\">Anatole</span>,\n <span class=\"green\">the prince</span>,\n <span class=\"green\">The prince</span>,\n <span class=\"green\">Anna\n Pavlovna</span>,\n <span class=\"green\">Anna Pavlovna</span>]"
     },
     "execution_count": 19,
     "metadata": {},
     "output_type": "execute_result"
    }
   ],
   "source": [
    "bs.find_all(class_= 'green')"
   ],
   "metadata": {
    "collapsed": false,
    "pycharm": {
     "name": "#%%\n"
    }
   }
  },
  {
   "cell_type": "markdown",
   "source": [
    "## Outros objetos BeautifulSoup"
   ],
   "metadata": {
    "collapsed": false,
    "pycharm": {
     "name": "#%% md\n"
    }
   }
  },
  {
   "cell_type": "markdown",
   "source": [
    "### Lidando com filhos e outros descendentes"
   ],
   "metadata": {
    "collapsed": false,
    "pycharm": {
     "name": "#%% md\n"
    }
   }
  }
 ],
 "metadata": {
  "kernelspec": {
   "display_name": "Python 3",
   "language": "python",
   "name": "python3"
  },
  "language_info": {
   "codemirror_mode": {
    "name": "ipython",
    "version": 2
   },
   "file_extension": ".py",
   "mimetype": "text/x-python",
   "name": "python",
   "nbconvert_exporter": "python",
   "pygments_lexer": "ipython2",
   "version": "2.7.6"
  }
 },
 "nbformat": 4,
 "nbformat_minor": 0
}