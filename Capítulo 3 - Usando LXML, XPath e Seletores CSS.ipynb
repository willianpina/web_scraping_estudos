{
 "cells": [
  {
   "cell_type": "markdown",
   "metadata": {},
   "source": [
    "<h1 align=center><b>Capítulo 3</b></h1>\n",
    "<h1 align=center>Usando LXML, XPath e Seletores CSS</h1>"
   ]
  },
  {
   "cell_type": "markdown",
   "metadata": {},
   "source": [
    "<h2>Instrução ao XPath e seletor CSS</h2>"
   ]
  },
  {
   "cell_type": "markdown",
   "metadata": {},
   "source": [
    "<h3>XPath</h3>\n",
    "\n"
   ]
  },
  {
   "cell_type": "markdown",
   "metadata": {},
   "source": [
    "1. **//** seleciona os nós no documento. Não importa onde eles estejam localizados.\n",
    "\n",
    "2. **//*** seleciona todos os elementos no documento.\n",
    "\n",
    "3. **//food** Seleciona todos os termos *food*\n",
    "\n",
    "4. **\\*** seleciona todos os elementos\n",
    "\n",
    "5. **//food/name | //food/price** seleciona o nome o preço dos elementos encontrados no nó *food*\n",
    "\n",
    "6. **//food/name** seleciona todos os nomes dentro do nó *food*\n",
    "\n",
    "7. **//food/name/text()** seleciona o texto somente de todos os elementos food/name \n",
    "\n",
    "8. **//food/name | //ratting** seleciona todos os elementos *name* que estão dentro de *food* e *rating* encontrados no documento.\n",
    "\n",
    "9. **//food[1]/name** seleciona o nome do elemento no primeiro nó dentro de food.\n",
    "\n",
    "10. **//food[feedback<9]** seleciona o food e todos os elementos onde a condição é verdadeira.\n",
    "\n",
    "11. **//food[last()]/name/text()** seleciona o texto do elemento nome do último nó de *food*\n",
    "\n",
    "12. **sum(//food/feedback)** soma o feedback encontrado em todos os nós food.\n",
    "\n",
    "13. **//food[rating>3 and rating <5]/name** seleciona o nome do food que preenche a condição.\n",
    "\n",
    "14. **//food/name[contains(., 'Juice')]** seleciona o nome da comida que contém a string Juice \n",
    "\n",
    "15. **//food/description[start-with(.,'Fresh')]/text()** seleciona o nó da descrição que começa com Fresh\n",
    "\n",
    "16. **//food[position()>3]** seleciona o primeiro e o segundo de acordo com a posição.\n",
    "\n",
    "17. **//book/@price** seleciona o price com um atributo para book. \n",
    "\n",
    "18. **//book/@id**  seleciona o atributo *id* e o valor dele. \n",
    "\n"
   ]
  },
  {
   "cell_type": "markdown",
   "metadata": {},
   "source": [
    "<h3>CSS</h3>"
   ]
  },
  {
   "cell_type": "markdown",
   "metadata": {},
   "source": [
    "1. Combinadores: \n",
    "* **+**: Seleciona o valor imediatamente após.\n",
    "* **>**: Seleciona o filho direto.\n",
    "* **~**: Seleciona o elemento que precede o parente.\n",
    "* **a[href$=\"pdf\"]**: Seleciona o atribudo final (sufixo)\n",
    "* **a[href*=abc]**: Seleciona o atributo href que contém abc\n",
    "* **a.plan**: elementos a com classe *plan*\n",
    "* **a#link**: elementos a que possuem atributo id de *Link*\n",
    "\n",
    "\n",
    "2. Seletores\n",
    "\n",
    "* h1: seleciona o elemento *h1* \n",
    "* a: seleciona todos os elementos *a*\n",
    "* *: seleciona dos os elementos do código HTML\n",
    "* body *: seleciona todos *h1, h2, div* e a dentro de *body*\n",
    "* div a: seleciona todos *a* dentro de *div*\n",
    "* h1 + p: seleciona o *p* imediatamente depois de *h1*\n",
    "* h1 ~ p: seleciona todos os *p* precedidos pelo *h1*\n",
    "* h1,p: seleciona todos os elementos *h1* e *p*.\n",
    "* div > a: seleciona todos os elementos *a* que são diretamente filhos da *div*\n",
    "\n",
    "\n"
   ]
  },
  {
   "cell_type": "markdown",
   "metadata": {},
   "source": [
    "<h3>ID and class selectors</h3>\n",
    "\n",
    "*id* e *class* são conhecidas como atributos globais. \n",
    "\n",
    "* **.header**: seleciona o elemento de class='header'\n",
    "* **.plan**: seleciona **a** com class='plan'\n",
    "* **div.link**: seleciona um elemento com **id=link**\n",
    "* **a#link**: seleciona os elementos **a** com **id='link**\n",
    "* **a.plan**: seleciona os elementos **a** com a **class=plan**"
   ]
  },
  {
   "cell_type": "markdown",
   "metadata": {},
   "source": [
    "<h3>Attribute selectors</h3>\n",
    "\n",
    "Os seletores de atribudo são usados para definir seletores com atributos disponíveis.\n",
    "\n",
    "* **a[href*='domain']**: seleciona os elementos **a** que contém **domain** no **href**.\n",
    "* **a[href^='mailto']**: seleciona os elementos **a** que começam com **mailto** do atributo **href**.\n",
    "* **a[href$='pdf']**: seleciona os elementos **a** que tem **pdf** no final do atributo **href**.\n",
    "* **[href~=do]**: seleciona todos os elementos com o atributo **href** que combinam com o valor **do**.\n",
    "* **[class]**: seleciona todos os elementos ou **p**,**div** e **a** com o atributo **class**.\n",
    "* **[class=plan]**: seleciona todos os elementos com a **class=plan**."
   ]
  },
  {
   "cell_type": "markdown",
   "metadata": {},
   "source": [
    "<h3>Pseudo selectors</h3>\n",
    "\n",
    "Os pseudoseletores são um conjunto de opções úteis quando se trata de identificar ou selecionar os elementos com base em sua posição.\n",
    "\n",
    "* **a:gt(0)**: seleciona todos os elementos **a** exceto aqueles indexados de **a** na posição (0).\n",
    "* **a:eq(2)**: seleciona os elementos **a** indexados na posição 2.\n",
    "* **a:first-child**: seleciona cada elemento **a** que é o primeiro filho do nó pai.\n",
    "* **a:last-child**: seleciona cada elemento **a** que for o último filho do nó pai.\n",
    "* **a:last-of-type**: seleciona o último elemento **a** do seu nó pai.\n",
    "* **:not(p)**: seleciona todos os elementos exceto **p**.\n",
    "* **a:nth-child(1)**; seleciona cada elemento **a** do primeiro filho do seu nó pai.\n",
    "* **a:nth-last-child(3)**: seleciona cada 3º **a** do último filho de seu nó pai.\n",
    "* **a:nth-of-type(3)**: seleciona cada 3º elemento do seus pais.\n",
    "* **a:nth-last-of-type**: seleciona cada elemento **a** na 3ª posição a partir do último, de seu nó pai.\n"
   ]
  },
  {
   "cell_type": "markdown",
   "metadata": {},
   "source": [
    "<h3>Scraping usando a biblioteca lxml</h3>"
   ]
  },
  {
   "cell_type": "code",
   "execution_count": 8,
   "metadata": {},
   "outputs": [
    {
     "name": "stdout",
     "output_type": "stream",
     "text": [
      "<Element menus at 0x18fa21df180>\n",
      "<class 'lxml.etree._Element'>\n"
     ]
    }
   ],
   "source": [
    "# Exemplo Nr 1 - lendo xml de um arquivo e percorrendo seus elementos.\n",
    "\n",
    "from lxml import etree\n",
    "xml = open('food.xml', 'rb').read()\n",
    "tree = etree.XML(xml)\n",
    "print(tree)\n",
    "print(type(tree))\n"
   ]
  },
  {
   "cell_type": "code",
   "execution_count": 11,
   "metadata": {},
   "outputs": [
    {
     "name": "stdout",
     "output_type": "stream",
     "text": [
      "menus - \n",
      "  \n",
      "food - \n",
      "    \n",
      "name - Butter Milk with Vanilla\n",
      "price - $3.99\n",
      "description - Rich tangy buttermilk with vanilla essence\n",
      "rating - 5.0\n",
      "feedback - 6\n",
      "food - \n",
      "    \n",
      "name - Fish and Chips\n",
      "price - $4.99\n",
      "description - Crispy fried Chips and Fish served with lemon and malt vinegar\n",
      "rating - 5.0\n",
      "feedback - 10\n",
      "food - \n",
      "    \n",
      "name - Egg Roll\n",
      "price - $3.99\n",
      "description - Fresh egg rolls filled with ground chicken, carrot, cabbage\n",
      "rating - 4.0\n",
      "feedback - 8\n",
      "food - \n",
      "    \n",
      "name - Pineapple Cake\n",
      "price - $3.99\n",
      "description - Crushed Pineapple mixed with vanilla, eggs and lemon juice\n",
      "rating - 5.0\n",
      "feedback - 9\n",
      "food - \n",
      "    \n",
      "name - Eggs and Bacon\n",
      "price - $5.50\n",
      "description - Served with rice and fresh fruit\n",
      "rating - 4.5\n",
      "feedback - 4\n",
      "food - \n",
      "    \n",
      "name - Orange Juice\n",
      "price - $2.99\n",
      "description - Fresh Orange juice served\n",
      "rating - 4.9\n",
      "feedback - 10\n"
     ]
    }
   ],
   "source": [
    "# Vamos percorrer o arquivo \n",
    "\n",
    "for element in tree.iter():\n",
    "    print(\"%s - %s\" % (element.tag, element.text))"
   ]
  },
  {
   "cell_type": "code",
   "execution_count": 12,
   "metadata": {},
   "outputs": [
    {
     "name": "stdout",
     "output_type": "stream",
     "text": [
      "name - Butter Milk with Vanilla\n",
      "price - $3.99\n",
      "name - Fish and Chips\n",
      "price - $4.99\n",
      "name - Egg Roll\n",
      "price - $3.99\n",
      "name - Pineapple Cake\n",
      "price - $3.99\n",
      "name - Eggs and Bacon\n",
      "price - $5.50\n",
      "name - Orange Juice\n",
      "price - $2.99\n"
     ]
    }
   ],
   "source": [
    "for element in tree.iter('price','name'):\n",
    "    print('%s - %s' % (element.tag, element.text))"
   ]
  },
  {
   "cell_type": "code",
   "execution_count": null,
   "metadata": {},
   "outputs": [],
   "source": [
    "f"
   ]
  }
 ],
 "metadata": {
  "kernelspec": {
   "display_name": "Python 3",
   "language": "python",
   "name": "python3"
  },
  "language_info": {
   "codemirror_mode": {
    "name": "ipython",
    "version": 3
   },
   "file_extension": ".py",
   "mimetype": "text/x-python",
   "name": "python",
   "nbconvert_exporter": "python",
   "pygments_lexer": "ipython3",
   "version": "3.8.5"
  }
 },
 "nbformat": 4,
 "nbformat_minor": 4
}
