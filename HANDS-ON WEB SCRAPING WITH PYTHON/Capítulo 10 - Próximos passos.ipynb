{
 "cells": [
  {
   "cell_type": "markdown",
   "source": [
    "<h1 align=center><b>Capítulo 10</b></h1>\n",
    "<h1 align=center>Próximos passos<h1>\n",
    "\n",
    "Até agora, exploramos várias ferramentas e técnicas sobre web scraping através do uso da linguagem de programação Python.\n",
    "\n",
    "*Web scraping*, ou *web harvesting*, é feito para extrair e coletar dados de sites. *Webscraping* é útil em termos de desenvolvimento de modelos, que exige que os dados sejam coletados em tempo real que sejam verdadeiros, relevantes para o tópico, e preciso. Isso é desejável, pois leva menos tempo em comparação com a implementação de conjuntos de dados. Os dados coletados são armazenados em vários formatos, como JSON, CSV, XML e outros, são gravados em bancos de dados para uso posterior e também são disponibilizados online como conjuntos de dados.\n",
    "\n",
    "Os sites também fornecem APIs da web com uma interface de usuário para interagir com informações na web. Esses dados podem ser usados para pesquisa, análise, marketing, **modelos de aprendizado de máquina (ML)**, construção de informações, descoberta de conhecimento e muito mais no campo da ciência da computação, gerenciamento, medicina e muito mais. Também podemos realizar análises nos dados obtidos por meio de APIs e conjuntos de dados disponíveis publicamente ou gratuitamente e gerar um resultado, mas esse processo não é classificado como web scraping.\n",
    "\n",
    "Neste capítulo, aprenderemos sobre tópicos aplicáveis a dados coletados ou extraídos e aprenderemos sobre alguns conceitos avançados que valem a pena conhecer do ponto de vista de informações e carreira:\n",
    "* Gerenciando dados raspados\n",
    "* Análise e visualização usando pandas e matplotlib\n",
    "* ML\n",
    "* Mineração de dados\n",
    "* Qual é o próximo?"
   ],
   "metadata": {
    "collapsed": false
   }
  },
  {
   "cell_type": "markdown",
   "source": [
    "### Gerenciando dados raspados\n",
    "Nesta seção, exploraremos algumas ferramentas e aprenderemos mais sobre como lidar e gerenciar os dados que extraímos ou extraímos de determinados sites.\n",
    "\n",
    "Os dados coletados de sites usando scripts de raspagem são conhecidos como dados brutos. Esses dados podem exigir que algumas tarefas adicionais sejam executadas em cima deles antes que possam ser processadas para que possamos obter uma visão sobre eles. Portanto, os dados brutos devem ser verificados e processados (se necessário), o que pode ser feito da seguinte forma:\n",
    "\n",
    "* **Cleaning (Limpeza)**: como o nome sugere, esta etapa é usada para remover informações indesejadas, como caracteres de espaço e espaço em branco, e partes indesejadas do texto. O código a seguir mostra algumas etapas relevantes. Funções como `sub()` (ou seja, `re.sub()`), `strip()` e `replace()` são usadas em muitos lugares e também podem ser usadas para fins de limpeza:"
   ],
   "metadata": {
    "collapsed": false
   }
  },
  {
   "cell_type": "markdown",
   "source": [
    "\n",
    "`dealerInfo = re.split(r'\\<br>', re.sub(r'\\<br>\\<br>', '', dealer))`\n",
    "`stock = list(map(lambda stock:stock.strip(),availability))`\n",
    "`availability = stockPath(row)[0].strip()`\n",
    "`article['lastUpdated'] = article['lastUpdated'].replace('This page was last edited on', '')`\n",
    "`title = row.find(attrs={'itemprop':'text'}).text.strip()`\n",
    "`re.sub(r'or\\s*','',fortran)`\n",
    "`dealerInfo = re.split(r'\\<br>',re.sub(r'\\<br>\\<br>','',dealer))`"
   ],
   "metadata": {
    "collapsed": false
   }
  },
  {
   "cell_type": "markdown",
   "source": [
    "* **Formatação**: Esta etapa é utilizada para obter o formato desejado dos dados. Por exemplo, podemos exigir casas decimais fixas no preço recebido, podemos precisar converter ou arredondar grandes valores flutuantes em casas decimais fixas, dividir grandes strings em unidades menores,\n",
    "e mais e, em seguida, gravá-los em conjuntos de dados. Também pode haver casos em que números decimais ou inteiros são extraídos como strings e precisam ser formatados. Normalmente, converter tipos de dados e apresentar dados é considerado formatação:"
   ],
   "metadata": {
    "collapsed": false
   }
  },
  {
   "cell_type": "code",
   "execution_count": 46,
   "outputs": [
    {
     "name": "stdout",
     "output_type": "stream",
     "text": [
      "1234.57\n"
     ]
    }
   ],
   "source": [
    "price = 1234.567801\n",
    "newprice = round(price,2)\n",
    "print(newprice)"
   ],
   "metadata": {
    "collapsed": false
   }
  },
  {
   "cell_type": "code",
   "execution_count": 47,
   "outputs": [
    {
     "name": "stdout",
     "output_type": "stream",
     "text": [
      "<class 'str'>\n"
     ]
    }
   ],
   "source": [
    "totalsum=\"200.35\"\n",
    "print(type(totalsum))"
   ],
   "metadata": {
    "collapsed": false
   }
  },
  {
   "cell_type": "code",
   "execution_count": 48,
   "outputs": [
    {
     "name": "stdout",
     "output_type": "stream",
     "text": [
      "<class 'float'>\n"
     ]
    }
   ],
   "source": [
    "#For large precision use: https://docs.python.org/2/library/decimal.html\n",
    "totalsum = float(totalsum)\n",
    "print(type(totalsum))"
   ],
   "metadata": {
    "collapsed": false
   }
  },
  {
   "cell_type": "code",
   "execution_count": 49,
   "outputs": [
    {
     "data": {
      "text/plain": "200.35"
     },
     "execution_count": 49,
     "metadata": {},
     "output_type": "execute_result"
    }
   ],
   "source": [
    "totalsum"
   ],
   "metadata": {
    "collapsed": false
   }
  },
  {
   "cell_type": "code",
   "execution_count": 50,
   "outputs": [
    {
     "name": "stdout",
     "output_type": "stream",
     "text": [
      "5\n"
     ]
    }
   ],
   "source": [
    "ratings = 5.5\n",
    "print(int(ratings))"
   ],
   "metadata": {
    "collapsed": false
   }
  },
  {
   "cell_type": "markdown",
   "source": [
    "> Essas etapas adicionais também podem ser executadas nos scripts enquanto extraímos dados específicos, e isso foi feito nos exemplos que vimos ao longo do livro. Em muitos casos, a limpeza e a formatação funcionam em conjunto ou são feitas lado a lado."
   ],
   "metadata": {
    "collapsed": false
   }
  },
  {
   "cell_type": "markdown",
   "source": [
    "### Gravando em arquivos\n",
    "Você deve ter notado que, na maioria desses exemplos, usamos um conjunto de dados (um objeto de lista do Python que foi usado para coletar dados) que foi anexado com vários campos em uma lista do Python, conforme mostrado no código a seguir:\n",
    "<code>\n",
    "dataSet.append([year,month,day,game_date,team1,team1_score,team2,team2_score,game_status])\n",
    "..\n",
    "dataSet.append([title,price,availability,image.replace('../../../..',baseUrl),rating.replace('star-rating ','')])\n",
    "...\n",
    "dataSet.append([link, atype, adate, title, excerpt,\",\".join(categories)])\n",
    "...\n",
    "dataSet.append([titleLarge, title, price, stock, image, starRating.replace('star-rating ', ''), url])\n",
    "</code>"
   ],
   "metadata": {
    "collapsed": false
   }
  },
  {
   "cell_type": "markdown",
   "source": [
    "Com a disponibilidade de tal conjunto de dados, podemos gravar essas informações em arquivos externos, bem como no banco de dados. Antes de gravarmos o conjunto de dados nos arquivos, são necessários nomes de coluna que descrevem os dados do conjunto de dados. Considere o código a seguir, onde `keys` é uma lista separada contendo um título de string, ou seja, o nome das colunas para o respectivo item da lista anexado ao conjunto de dados:\n",
    "<code>\n",
    "keys = ['year','month','day','game_date','team1', 'team1_score', 'team2','team2_score', 'game_status']\n",
    "......\n",
    "dataSet.append([year,month,day,game_date,team1,team1_score,team2,team2_score,game_status])\n",
    "</code>"
   ],
   "metadata": {
    "collapsed": false
   }
  },
  {
   "cell_type": "markdown",
   "source": [
    "Vamos considerar o exemplo a seguir, que contém `colNames` com a coluna a ser usada e `dataSet` com os dados limpos e formatados:"
   ],
   "metadata": {
    "collapsed": false
   }
  },
  {
   "cell_type": "code",
   "execution_count": 51,
   "outputs": [],
   "source": [
    "import csv\n",
    "import json\n",
    "colNames = ['Title','Price','Stock','Rating']\n",
    "dataSet= [['Rip it Up and ...', 35.02, 'In stock', 5],\n",
    "          ['Our Band Could Be ...',57.25, 'In stock', 4],\n",
    "          ['How Music Works', 37.32, 'In stock', 2],\n",
    "          ['Love Is a Mix ...', 18.03, 'Out of stock',1],\n",
    "          ['Please Kill Me: The ...', 31.19, 'In stock', 4],\n",
    "          [\"Kill 'Em and Leave: ...\",45.0, 'In stock',5],\n",
    "          ['Chronicles, Vol. 1', 52.60, 'Out of stock',2],\n",
    "          ['This Is Your Brain ...', 38.4,'In stock',1],\n",
    "          ['Orchestra of Exiles: The ...', 12.36, 'In stock',3],\n",
    "          ['No One Here Gets ...',20.02, 'In stock',5],\n",
    "          ['Life', 31.58, 'In stock',5],\n",
    "          ['Old Records Never Die: ...', 55.66, 'Out of Stock',2],\n",
    "          ['Forever Rockers (The Rocker ...', 28.80, 'In stock',3]]"
   ],
   "metadata": {
    "collapsed": false
   }
  },
  {
   "cell_type": "markdown",
   "source": [
    "Agora vamos escrever o `dataSet` anterior no arquivo CSV. A primeira linha do arquivo CSV deve sempre conter os nomes das colunas. Nesse caso, usaremos `colNames` para as colunas:"
   ],
   "metadata": {
    "collapsed": false
   }
  },
  {
   "cell_type": "code",
   "execution_count": 52,
   "outputs": [],
   "source": [
    "fileCsv = open('bookdetails.csv', 'w', newline='', encoding='utf-8')\n",
    "writer = csv.writer(fileCsv) #csv.writer object created\n",
    "writer.writerow(colNames) #write columns from colNames\n",
    "for data in dataSet: #iterate through dataSet and write to file\n",
    "    writer.writerow(data)\n",
    "fileCsv.close() #closes the file handler"
   ],
   "metadata": {
    "collapsed": false
   }
  },
  {
   "cell_type": "code",
   "execution_count": 53,
   "outputs": [
    {
     "data": {
      "text/plain": "                              Title  Price         Stock  Rating\n0                 Rip it Up and ...  35.02      In stock       5\n1             Our Band Could Be ...  57.25      In stock       4\n2                   How Music Works  37.32      In stock       2\n3                 Love Is a Mix ...  18.03  Out of stock       1\n4           Please Kill Me: The ...  31.19      In stock       4\n5           Kill 'Em and Leave: ...  45.00      In stock       5\n6                Chronicles, Vol. 1  52.60  Out of stock       2\n7            This Is Your Brain ...  38.40      In stock       1\n8      Orchestra of Exiles: The ...  12.36      In stock       3\n9              No One Here Gets ...  20.02      In stock       5\n10                             Life  31.58      In stock       5\n11       Old Records Never Die: ...  55.66  Out of Stock       2\n12  Forever Rockers (The Rocker ...  28.80      In stock       3",
      "text/html": "<div>\n<style scoped>\n    .dataframe tbody tr th:only-of-type {\n        vertical-align: middle;\n    }\n\n    .dataframe tbody tr th {\n        vertical-align: top;\n    }\n\n    .dataframe thead th {\n        text-align: right;\n    }\n</style>\n<table border=\"1\" class=\"dataframe\">\n  <thead>\n    <tr style=\"text-align: right;\">\n      <th></th>\n      <th>Title</th>\n      <th>Price</th>\n      <th>Stock</th>\n      <th>Rating</th>\n    </tr>\n  </thead>\n  <tbody>\n    <tr>\n      <th>0</th>\n      <td>Rip it Up and ...</td>\n      <td>35.02</td>\n      <td>In stock</td>\n      <td>5</td>\n    </tr>\n    <tr>\n      <th>1</th>\n      <td>Our Band Could Be ...</td>\n      <td>57.25</td>\n      <td>In stock</td>\n      <td>4</td>\n    </tr>\n    <tr>\n      <th>2</th>\n      <td>How Music Works</td>\n      <td>37.32</td>\n      <td>In stock</td>\n      <td>2</td>\n    </tr>\n    <tr>\n      <th>3</th>\n      <td>Love Is a Mix ...</td>\n      <td>18.03</td>\n      <td>Out of stock</td>\n      <td>1</td>\n    </tr>\n    <tr>\n      <th>4</th>\n      <td>Please Kill Me: The ...</td>\n      <td>31.19</td>\n      <td>In stock</td>\n      <td>4</td>\n    </tr>\n    <tr>\n      <th>5</th>\n      <td>Kill 'Em and Leave: ...</td>\n      <td>45.00</td>\n      <td>In stock</td>\n      <td>5</td>\n    </tr>\n    <tr>\n      <th>6</th>\n      <td>Chronicles, Vol. 1</td>\n      <td>52.60</td>\n      <td>Out of stock</td>\n      <td>2</td>\n    </tr>\n    <tr>\n      <th>7</th>\n      <td>This Is Your Brain ...</td>\n      <td>38.40</td>\n      <td>In stock</td>\n      <td>1</td>\n    </tr>\n    <tr>\n      <th>8</th>\n      <td>Orchestra of Exiles: The ...</td>\n      <td>12.36</td>\n      <td>In stock</td>\n      <td>3</td>\n    </tr>\n    <tr>\n      <th>9</th>\n      <td>No One Here Gets ...</td>\n      <td>20.02</td>\n      <td>In stock</td>\n      <td>5</td>\n    </tr>\n    <tr>\n      <th>10</th>\n      <td>Life</td>\n      <td>31.58</td>\n      <td>In stock</td>\n      <td>5</td>\n    </tr>\n    <tr>\n      <th>11</th>\n      <td>Old Records Never Die: ...</td>\n      <td>55.66</td>\n      <td>Out of Stock</td>\n      <td>2</td>\n    </tr>\n    <tr>\n      <th>12</th>\n      <td>Forever Rockers (The Rocker ...</td>\n      <td>28.80</td>\n      <td>In stock</td>\n      <td>3</td>\n    </tr>\n  </tbody>\n</table>\n</div>"
     },
     "execution_count": 53,
     "metadata": {},
     "output_type": "execute_result"
    }
   ],
   "source": [
    "import pandas as pd\n",
    "pd.read_csv('bookdetails.csv')"
   ],
   "metadata": {
    "collapsed": false
   }
  },
  {
   "cell_type": "markdown",
   "source": [
    "Da mesma forma, vamos criar um arquivo JSON com `colNames` e `dataSets`. JSON é semelhante ao dicionário Python, onde cada dado ou valor possui uma chave; ou seja, existe em um par chave-valor:"
   ],
   "metadata": {
    "collapsed": false
   }
  },
  {
   "cell_type": "code",
   "execution_count": 54,
   "outputs": [
    {
     "name": "stdout",
     "output_type": "stream",
     "text": [
      "[{'Title': 'Rip it Up and ...', 'Price': 35.02, 'Stock': 'In stock', 'Rating': 5}, {'Title': 'Our Band Could Be ...', 'Price': 57.25, 'Stock': 'In stock', 'Rating': 4}, {'Title': 'How Music Works', 'Price': 37.32, 'Stock': 'In stock', 'Rating': 2}, {'Title': 'Love Is a Mix ...', 'Price': 18.03, 'Stock': 'Out of stock', 'Rating': 1}, {'Title': 'Please Kill Me: The ...', 'Price': 31.19, 'Stock': 'In stock', 'Rating': 4}, {'Title': \"Kill 'Em and Leave: ...\", 'Price': 45.0, 'Stock': 'In stock', 'Rating': 5}, {'Title': 'Chronicles, Vol. 1', 'Price': 52.6, 'Stock': 'Out of stock', 'Rating': 2}, {'Title': 'This Is Your Brain ...', 'Price': 38.4, 'Stock': 'In stock', 'Rating': 1}, {'Title': 'Orchestra of Exiles: The ...', 'Price': 12.36, 'Stock': 'In stock', 'Rating': 3}, {'Title': 'No One Here Gets ...', 'Price': 20.02, 'Stock': 'In stock', 'Rating': 5}, {'Title': 'Life', 'Price': 31.58, 'Stock': 'In stock', 'Rating': 5}, {'Title': 'Old Records Never Die: ...', 'Price': 55.66, 'Stock': 'Out of Stock', 'Rating': 2}, {'Title': 'Forever Rockers (The Rocker ...', 'Price': 28.8, 'Stock': 'In stock', 'Rating': 3}]\n"
     ]
    }
   ],
   "source": [
    "finalDataSet=list() #empty DataSet\n",
    "for data in dataSet:\n",
    "    finalDataSet.append(dict(zip(colNames,data)))\n",
    "print(finalDataSet)"
   ],
   "metadata": {
    "collapsed": false
   }
  },
  {
   "cell_type": "markdown",
   "source": [
    "Como podemos ver, `finalDataSet` é formado anexando dados de `dataSet` e usando a função Python `zip()`. `zip()` combina cada elemento individual da lista. Este objeto compactado é então convertido em um dicionário Python. Por exemplo, considere o seguinte código:\n",
    "\n",
    "`#primeira iteração do loop acima dict(zip(colNames,data)) irá gerar`\n",
    "`{'Rating': 5, 'Title': 'Rip it Up and ...', 'Price': 35.02, 'Stock': 'In stock'}`\n",
    "\n",
    "Agora, com o `finalDataSet` disponível, podemos despejar ou adicionar os dados a um arquivo JSON usando a função `dump()` do módulo `json`:"
   ],
   "metadata": {
    "collapsed": false
   }
  },
  {
   "cell_type": "code",
   "execution_count": 55,
   "outputs": [],
   "source": [
    "with open('bookdetails.json', 'w') as jsonfile:\n",
    "    json.dump(finalDataSet,jsonfile)"
   ],
   "metadata": {
    "collapsed": false
   }
  },
  {
   "cell_type": "markdown",
   "source": [
    "Nesta seção, cobrimos as etapas básicas para gerenciar dados brutos. Os arquivos que obtivemos podem ser compartilhados e trocados facilmente entre vários sistemas independentes, usados como modelos para ML e podem ser importados como fontes de dados em aplicativos. Além disso, também podemos usar sistemas de **gerenciamento de banco de dados (DBMS)**, como MySQL, PostgreSQL e outros, para armazenar dados e executar a **linguagem de consulta estruturada (SQL)** usando as bibliotecas Python necessárias.\n",
    "\n",
    "\n",
    "\n",
    "### Análise e visualização usando pandas e matplotlib\n",
    "\n",
    "Nesta seção, exploraremos alguns conceitos básicos em relação à análise de dados usando pandas e plotagem de gráficos gerais usando matplotlib.\n",
    "\n",
    "**pandas** é uma das bibliotecas de análise de dados mais populares nos últimos tempos. A análise e visualização de dados são tarefas importantes e podem ser realizadas com a ajuda de **pandas** e outras bibliotecas, como **matplotlib**.\n",
    "\n",
    "> Para mais detalhes e documentação sobre pandas e matplotlib, visite seu sites oficiais em https://pandas.pydata.org/ e https://matplotlib.org/.\n",
    "\n",
    "**pandas** também é denominado e usado como uma planilha bruta. Ele suporta declarações matemáticas, estatísticas e do tipo consulta, e permite que você leia de e gravar em vários arquivos. Também é popular entre desenvolvedores e analistas, pois possui funções fáceis e propriedades disponíveis que podem ajudá-lo lidar com dados que estão em uma estrutura de linha e coluna:"
   ],
   "metadata": {
    "collapsed": false
   }
  },
  {
   "cell_type": "code",
   "execution_count": 56,
   "outputs": [
    {
     "name": "stdout",
     "output_type": "stream",
     "text": [
      "['BooleanDtype', 'Categorical', 'CategoricalDtype', 'CategoricalIndex', 'DataFrame', 'DateOffset', 'DatetimeIndex', 'DatetimeTZDtype', 'ExcelFile', 'ExcelWriter', 'Flags', 'Float32Dtype', 'Float64Dtype', 'Float64Index', 'Grouper', 'HDFStore', 'Index', 'IndexSlice', 'Int16Dtype', 'Int32Dtype', 'Int64Dtype', 'Int64Index', 'Int8Dtype', 'Interval', 'IntervalDtype', 'IntervalIndex', 'MultiIndex', 'NA', 'NaT', 'NamedAgg', 'Period', 'PeriodDtype', 'PeriodIndex', 'RangeIndex', 'Series', 'SparseDtype', 'StringDtype', 'Timedelta', 'TimedeltaIndex', 'Timestamp', 'UInt16Dtype', 'UInt32Dtype', 'UInt64Dtype', 'UInt64Index', 'UInt8Dtype', '__all__', '__builtins__', '__cached__', '__deprecated_num_index_names', '__dir__', '__doc__', '__docformat__', '__file__', '__getattr__', '__git_version__', '__loader__', '__name__', '__package__', '__path__', '__spec__', '__version__', '_config', '_is_numpy_dev', '_libs', '_testing', '_typing', '_version', 'api', 'array', 'arrays', 'bdate_range', 'compat', 'concat', 'core', 'crosstab', 'cut', 'date_range', 'describe_option', 'errors', 'eval', 'factorize', 'get_dummies', 'get_option', 'infer_freq', 'interval_range', 'io', 'isna', 'isnull', 'json_normalize', 'lreshape', 'melt', 'merge', 'merge_asof', 'merge_ordered', 'notna', 'notnull', 'offsets', 'option_context', 'options', 'pandas', 'period_range', 'pivot', 'pivot_table', 'plotting', 'qcut', 'read_clipboard', 'read_csv', 'read_excel', 'read_feather', 'read_fwf', 'read_gbq', 'read_hdf', 'read_html', 'read_json', 'read_orc', 'read_parquet', 'read_pickle', 'read_sas', 'read_spss', 'read_sql', 'read_sql_query', 'read_sql_table', 'read_stata', 'read_table', 'read_xml', 'reset_option', 'set_eng_float_format', 'set_option', 'show_versions', 'test', 'testing', 'timedelta_range', 'to_datetime', 'to_numeric', 'to_pickle', 'to_timedelta', 'tseries', 'unique', 'util', 'value_counts', 'wide_to_long']\n"
     ]
    }
   ],
   "source": [
    "import pandas\n",
    "print(dir(pandas))"
   ],
   "metadata": {
    "collapsed": false
   }
  },
  {
   "cell_type": "markdown",
   "source": [
    "Nesta seção, leremos os dados do arquivo `bookdetails.csv` e realizaremos a análise e a visualização usando os dados do arquivo. Vamos importar as bibliotecas necessárias, ou seja, `pandas` e `matplotlib.pyplot`. Estaremos usando os aliases `pd` e `plt`, respectivamente, e lendo os dados do arquivo:"
   ],
   "metadata": {
    "collapsed": false
   }
  },
  {
   "cell_type": "code",
   "execution_count": 57,
   "outputs": [
    {
     "name": "stdout",
     "output_type": "stream",
     "text": [
      "<class 'pandas.core.frame.DataFrame'>\n"
     ]
    }
   ],
   "source": [
    "import pandas as pd\n",
    "import matplotlib.pyplot as plt\n",
    "dataSet = pd.read_csv('bookdetails.csv') #loads the file content as dataframe.\n",
    "print(type(dataSet)) #<class 'pandas.core.frame.DataFrame'>"
   ],
   "metadata": {
    "collapsed": false
   }
  },
  {
   "cell_type": "markdown",
   "source": [
    "Como podemos ver, a função `read_csv()` lê o conteúdo de um arquivo CSV e gera um objeto DataFrame. pandas também suporta vários arquivos de dados através do uso de funções como `read_html()`, `read_excel()`, `read_json()` e `read_sql_table()`. Aqui, `dataSet` é um objeto do DataFrame pandas. O DataFrame representa uma estrutura tabular bidimensional com linhas, colunas e índices. Análise em nível de consulta, instruções condicionais, filtragem, agrupamento e muito mais são compatíveis com DataFrames em relação a dados em linhas e colunas:"
   ],
   "metadata": {
    "collapsed": false
   }
  },
  {
   "cell_type": "code",
   "execution_count": 58,
   "outputs": [
    {
     "name": "stdout",
     "output_type": "stream",
     "text": [
      "                              Title  Price         Stock  Rating\n",
      "0                 Rip it Up and ...  35.02      In stock       5\n",
      "1             Our Band Could Be ...  57.25      In stock       4\n",
      "2                   How Music Works  37.32      In stock       2\n",
      "3                 Love Is a Mix ...  18.03  Out of stock       1\n",
      "4           Please Kill Me: The ...  31.19      In stock       4\n",
      "5           Kill 'Em and Leave: ...  45.00      In stock       5\n",
      "6                Chronicles, Vol. 1  52.60  Out of stock       2\n",
      "7            This Is Your Brain ...  38.40      In stock       1\n",
      "8      Orchestra of Exiles: The ...  12.36      In stock       3\n",
      "9              No One Here Gets ...  20.02      In stock       5\n",
      "10                             Life  31.58      In stock       5\n",
      "11       Old Records Never Die: ...  55.66  Out of Stock       2\n",
      "12  Forever Rockers (The Rocker ...  28.80      In stock       3\n"
     ]
    }
   ],
   "source": [
    "print(dataSet)"
   ],
   "metadata": {
    "collapsed": false
   }
  },
  {
   "cell_type": "markdown",
   "source": [
    "Os índices de linha também são mostrados, todos começando com 0 (zero). A saída estatística geral pode ser obtida usando a função `describe()`:"
   ],
   "metadata": {
    "collapsed": false
   }
  },
  {
   "cell_type": "code",
   "execution_count": 59,
   "outputs": [
    {
     "name": "stdout",
     "output_type": "stream",
     "text": [
      "           Price     Rating\n",
      "count  13.000000  13.000000\n",
      "mean   35.633077   3.230769\n",
      "std    14.239014   1.535895\n",
      "min    12.360000   1.000000\n",
      "25%    28.800000   2.000000\n",
      "50%    35.020000   3.000000\n",
      "75%    45.000000   5.000000\n",
      "max    57.250000   5.000000\n"
     ]
    }
   ],
   "source": [
    "print(dataSet.describe())"
   ],
   "metadata": {
    "collapsed": false
   }
  },
  {
   "cell_type": "code",
   "execution_count": 60,
   "outputs": [
    {
     "name": "stdout",
     "output_type": "stream",
     "text": [
      "count    13.000000\n",
      "mean     35.633077\n",
      "std      14.239014\n",
      "min      12.360000\n",
      "25%      28.800000\n",
      "50%      35.020000\n",
      "75%      45.000000\n",
      "max      57.250000\n",
      "Name: Price, dtype: float64\n"
     ]
    }
   ],
   "source": [
    "print(dataSet['Price'].describe())"
   ],
   "metadata": {
    "collapsed": false
   }
  },
  {
   "cell_type": "markdown",
   "source": [
    "Como podemos ver, por padrão, `describe()` seleciona as colunas aplicáveis às funções estatísticas e retorna cálculos com as seguintes funções:\n",
    "* `count`: número de linhas\n",
    "* `mean`: valor médio para a coluna relacionada\n",
    "*`min`: valor mínimo encontrado\n",
    "* `max`: valor máximo encontrado\n",
    "* `std`: Desvio padrão calculado\n",
    "* `25%`: retorna o percentil 25\n",
    "* `50%`: retorna o percentil 50\n",
    "* `75%`: retorna o percentil 75\n",
    "\n",
    "No código a seguir, estamos selecionando uma coluna individual chamada `Price` como `price_group`. Todas as colunas do conjunto de dados podem ser listadas usando `dataSet.columns`. Várias colunas podem ser selecionadas usando o seguinte formato `dataSet[['Price','Rating']]`:"
   ],
   "metadata": {
    "collapsed": false
   }
  },
  {
   "cell_type": "code",
   "execution_count": 61,
   "outputs": [
    {
     "name": "stdout",
     "output_type": "stream",
     "text": [
      "Index(['Title', 'Price', 'Stock', 'Rating'], dtype='object')\n"
     ]
    }
   ],
   "source": [
    "print(dataSet.columns)"
   ],
   "metadata": {
    "collapsed": false
   }
  },
  {
   "cell_type": "code",
   "execution_count": 62,
   "outputs": [
    {
     "name": "stdout",
     "output_type": "stream",
     "text": [
      "463.22999999999996\n"
     ]
    }
   ],
   "source": [
    "print(sum(dataSet['Price']))"
   ],
   "metadata": {
    "collapsed": false
   }
  },
  {
   "cell_type": "code",
   "execution_count": 63,
   "outputs": [
    {
     "name": "stdout",
     "output_type": "stream",
     "text": [
      "42\n"
     ]
    }
   ],
   "source": [
    "print(sum(dataSet['Rating']))"
   ],
   "metadata": {
    "collapsed": false
   }
  },
  {
   "cell_type": "code",
   "execution_count": 64,
   "outputs": [
    {
     "name": "stdout",
     "output_type": "stream",
     "text": [
      "0    35.02\n",
      "1    57.25\n",
      "2    37.32\n",
      "3    18.03\n",
      "4    31.19\n",
      "Name: Price, dtype: float64\n"
     ]
    }
   ],
   "source": [
    "print(dataSet['Price'][0:5])"
   ],
   "metadata": {
    "collapsed": false
   }
  },
  {
   "cell_type": "code",
   "execution_count": 65,
   "outputs": [
    {
     "name": "stdout",
     "output_type": "stream",
     "text": [
      "    Price\n",
      "0   35.02\n",
      "1   57.25\n",
      "2   37.32\n",
      "3   18.03\n",
      "4   31.19\n",
      "5   45.00\n",
      "6   52.60\n",
      "7   38.40\n",
      "8   12.36\n",
      "9   20.02\n",
      "10  31.58\n",
      "11  55.66\n",
      "12  28.80\n"
     ]
    }
   ],
   "source": [
    "price_group = dataSet[['Price']]\n",
    "print(price_group)"
   ],
   "metadata": {
    "collapsed": false
   }
  },
  {
   "cell_type": "markdown",
   "source": [
    "O pandas DataFrames também aceita condições ou ações de filtragem sendo usadas em colunas. Como você pode ver, o filtro é aplicado à `Rating` para valores` >=4.0`, e apenas `Title` e `Price` serão retornados:"
   ],
   "metadata": {
    "collapsed": false
   }
  },
  {
   "cell_type": "code",
   "execution_count": 66,
   "outputs": [
    {
     "name": "stdout",
     "output_type": "stream",
     "text": [
      "                      Title  Price\n",
      "0         Rip it Up and ...  35.02\n",
      "1     Our Band Could Be ...  57.25\n",
      "4   Please Kill Me: The ...  31.19\n",
      "5   Kill 'Em and Leave: ...  45.00\n",
      "9      No One Here Gets ...  20.02\n",
      "10                     Life  31.58\n"
     ]
    }
   ],
   "source": [
    "print(dataSet[dataSet['Rating']>=4.0][['Title','Price']])"
   ],
   "metadata": {
    "collapsed": false
   }
  },
  {
   "cell_type": "markdown",
   "source": [
    "Da mesma forma, filtros baseados em string também podem ser aplicados. O `stock`, que contém o texto de `Out`, é filtrado e a saída retorna todas as colunas que atendem ao texto de `Out`. A função `contains()` aceita expressões regulares e strings:"
   ],
   "metadata": {
    "collapsed": false
   }
  },
  {
   "cell_type": "code",
   "execution_count": 67,
   "outputs": [
    {
     "name": "stdout",
     "output_type": "stream",
     "text": [
      "                         Title  Price         Stock  Rating\n",
      "3            Love Is a Mix ...  18.03  Out of stock       1\n",
      "6           Chronicles, Vol. 1  52.60  Out of stock       2\n",
      "11  Old Records Never Die: ...  55.66  Out of Stock       2\n"
     ]
    }
   ],
   "source": [
    "print(dataSet[dataSet.Stock.str.contains(r'Out')])"
   ],
   "metadata": {
    "collapsed": false
   }
  },
  {
   "cell_type": "code",
   "execution_count": 68,
   "outputs": [
    {
     "name": "stdout",
     "output_type": "stream",
     "text": [
      "3     18.03\n",
      "6     52.60\n",
      "11    55.66\n",
      "Name: Price, dtype: float64\n"
     ]
    }
   ],
   "source": [
    "print(dataSet[dataSet.Stock.str.contains(r'Out')]['Price']) # Somente a Coluna <Price>"
   ],
   "metadata": {
    "collapsed": false
   }
  },
  {
   "cell_type": "markdown",
   "source": [
    "A função `between()` é fornecida com valores que se referem a `Rating` para filtrar e retornar `Title` dos livros:"
   ],
   "metadata": {
    "collapsed": false
   }
  },
  {
   "cell_type": "code",
   "execution_count": 69,
   "outputs": [
    {
     "name": "stdout",
     "output_type": "stream",
     "text": [
      "1      Our Band Could Be ...\n",
      "4    Please Kill Me: The ...\n",
      "Name: Title, dtype: object\n"
     ]
    }
   ],
   "source": [
    "print(dataSet[dataSet.Rating.between(3.5,4.5)]['Title'])"
   ],
   "metadata": {
    "collapsed": false
   }
  },
  {
   "cell_type": "markdown",
   "source": [
    "Como temos os dados `price_group`, podemos chamar a função `plot()` nos dados com a ajuda da função `show()`:"
   ],
   "metadata": {
    "collapsed": false
   }
  },
  {
   "cell_type": "code",
   "execution_count": 70,
   "outputs": [
    {
     "data": {
      "text/plain": "<Figure size 640x480 with 1 Axes>",
      "image/png": "[encoded data removed]"
     },
     "metadata": {},
     "output_type": "display_data"
    }
   ],
   "source": [
    "bar_plot = price_group.plot() #default plot\n",
    "bar_plot.set_xlabel(\"No of Books\") #set X axis: label\n",
    "bar_plot.set_ylabel(\"Price\") #set Y axis: label\n",
    "plt.show() #displays the plot or chart created"
   ],
   "metadata": {
    "collapsed": false
   }
  },
  {
   "cell_type": "markdown",
   "source": [
    "Também podemos alterar o tipo de gráfico, ou seja, linha, barra e muito mais."
   ],
   "metadata": {
    "collapsed": false
   }
  },
  {
   "cell_type": "code",
   "execution_count": 71,
   "outputs": [
    {
     "data": {
      "text/plain": "<Figure size 640x480 with 1 Axes>",
      "image/png": "[encoded data removed]"
     },
     "metadata": {},
     "output_type": "display_data"
    }
   ],
   "source": [
    "bar_plot = price_group.plot(kind='bar') #kind='bar'\n",
    "bar_plot.set_xlabel(\"No of Books\") #Label for X-Axis\n",
    "bar_plot.set_ylabel(\"Price\") #label for Y-Axis\n",
    "plt.show()"
   ],
   "metadata": {
    "collapsed": false
   }
  },
  {
   "cell_type": "markdown",
   "source": [
    "Até agora, usamos um tipo de gráfico básico com uma única coluna. No código a seguir, estamos traçando um gráfico de barras com os valores `Price` e `Rating`:"
   ],
   "metadata": {
    "collapsed": false
   }
  },
  {
   "cell_type": "code",
   "execution_count": 72,
   "outputs": [
    {
     "data": {
      "text/plain": "<Figure size 640x480 with 1 Axes>",
      "image/png": "[encoded data removed]"
     },
     "metadata": {},
     "output_type": "display_data"
    }
   ],
   "source": [
    "price_group = dataSet[['Price','Rating']] #obtain both columns\n",
    "#title: generates a title for plot\n",
    "bar_plot = price_group.plot(kind='bar',title=\"Book Price ad Rating\")\n",
    "bar_plot.set_xlabel(\"No of Books\")\n",
    "bar_plot.set_ylabel(\"Price\")\n",
    "plt.show()"
   ],
   "metadata": {
    "collapsed": false
   }
  },
  {
   "cell_type": "markdown",
   "source": [
    "Até agora, traçamos com sucesso gráficos de linhas e barras. O código a seguir traça um gráfico de pizza para os seis primeiros itens da coluna `Price` e os rotula com os seis primeiros `Title` disponíveis em `dataSet`:"
   ],
   "metadata": {
    "collapsed": false
   }
  },
  {
   "cell_type": "code",
   "execution_count": 73,
   "outputs": [
    {
     "data": {
      "text/plain": "<Figure size 640x480 with 1 Axes>",
      "image/png": "[encoded data removed]"
     },
     "metadata": {},
     "output_type": "display_data"
    }
   ],
   "source": [
    "prices = dataSet['Price'][0:6] #Price from first 6 items\n",
    "labels = dataSet['Title'][0:6] #Book Titles from first 6 items\n",
    "legends,ax1 = plt.pie(prices, labels=labels, shadow=True, startangle=45)\n",
    "plt.legend(legends, prices, loc=\"best\") #legend built using Prices\n",
    "plt.show()"
   ],
   "metadata": {
    "collapsed": false
   }
  },
  {
   "cell_type": "markdown",
   "source": [
    "Há muito mais para explorar em termos de uso de pandas e matplotlib. Nesta seção, exibimos os recursos básicos que estão disponíveis em ambas as bibliotecas. Agora, vamos olhar para o ML."
   ],
   "metadata": {
    "collapsed": false
   }
  },
  {
   "cell_type": "markdown",
   "source": [
    "### Aprendizado de máquina\n",
    "ML é um ramo da **inteligência artificial (IA)** que lida com o estudo de algoritmos matemáticos e estatísticos para processar e desenvolver um sistema automatizado que pode aprender com dados com o mínimo de envolvimento humano. As previsões de ML e os modelos de tomada de decisão dependem dos dados. O web scraping é um dos recursos que disponibiliza dados para modelos de ML.\n",
    "\n",
    "Atualmente, muitos mecanismos de recomendação implementam ML para veicular anúncios e recomendações de marketing, como Google AdSense e AdWords em tempo real. O processo implementado no ML é semelhante ao da mineração de dados e da modelagem preditiva. Ambos os conceitos buscam padrões enquanto percorrem os dados e modificam as ações do programa de acordo com os requisitos. Portanto, o ML é uma ferramenta útil quando se trata de explorar o campo de negócios, marketing, varejo, preços de ações, vídeo vigilância, reconhecimento facial, diagnóstico médico, previsão do tempo, suporte ao cliente online, detecção de fraude online e muito mais.\n",
    "\n",
    "Com algoritmos de ML novos e aprimorados, métodos de captura de dados e computadores e redes mais rápidos, o campo de ML está se acelerando.\n",
    "\n",
    "### ML e IA\n",
    "A IA é um amplo espectro que abrange uma ampla gama de tópicos, como redes neurais, sistemas especialistas, robótica, lógica difusa e muito mais. ML é um subconjunto de IA. Explora a ideia de construir uma máquina que aprende por conta própria, superando assim a necessidade de especulação constante. Portanto, o ML levou a um grande avanço para alcançar a IA.\n",
    "\n",
    "O ML incorpora o uso de vários algoritmos, permitindo assim que o software forneça resultados precisos. Fazer uma previsão útil a partir de um conjunto de dados analisados é o que o conceito de ML pretende fazer. O principal benefício do ML é que ele pode aprender e prever incansavelmente sem a necessidade de um regime de software codificado. O treinamento inclui alimentar grandes conjuntos de dados como entrada. Isso permite que um algoritmo aprenda, processe e faça previsões, que são fornecidas como saída.\n",
    "\n",
    "Vários parâmetros importantes são empregados ao medir o potencial de qualquer modelo. A precisão é um deles, e é um parâmetro importante para medir o sucesso de qualquer modelo desenvolvido. No ML, **80% de precisão é um sucesso**. Se o modelo tiver **80% de precisão**, estamos economizando **80% do nosso tempo** e **aumentando a produtividade**. No entanto, nem sempre é a melhor métrica para acessar modelos de classificação se os dados estiverem desbalanceados.\n",
    "\n",
    "Em geral, a precisão é denominada como uma medida intuitiva. Ao empregar a precisão, o custo igual é atribuído a falsos positivos e falsos negativos. Para dados desequilibrados (como 94% caindo em uma instância e 6% em outra), há muitas maneiras excelentes de diminuir o custo; faça uma vaga previsão de que cada instância pertence à classe majoritária, prove que a precisão geral é de 94% e conclua a tarefa. Na mesma linha, surgem problemas se o que estamos falando, como uma doença, é raro e letal. O custo de não examinar adequadamente a doença de uma pessoa doente é maior do que o custo de empurrar um indivíduo saudável para mais testes.\n",
    "\n",
    "Em suma, não há melhores métricas. É comum duas pessoas escolherem métricas diferentes para atingir seu objetivo."
   ],
   "metadata": {
    "collapsed": false
   }
  },
  {
   "cell_type": "markdown",
   "source": [
    "### Python e ML\n",
    "Um programador holandês (Guido Van Rossum) lançou o Python como seu projeto paralelo, mas não percebeu que isso aceleraria seu auge de sucesso.\n",
    "O Python é amplamente adaptado entre os desenvolvedores quando se trata de prototipagem rápida. Está ganhando popularidade entre todas as ferramentas de ML disponíveis por sua legibilidade, versatilidade e facilidade.\n",
    "\n",
    "Como engenheiros de ML, engenheiros de visão computacional, cientistas de dados ou engenheiros de dados, temos que fazer malabarismos com as ideias de álgebra linear e cálculo, que geralmente se tornam complexas quando mergulhamos mais fundo. No entanto, o Python vem em socorro com sua implementação rápida, contornando assim o obstáculo do esforço máximo. A validação rápida dessa ideia torna a linguagem de programação Python mais desejável.\n",
    "\n",
    "Dados são tudo para o ML. Os dados brutos são não estruturados, grandes, incompletos e têm valores ausentes. A limpeza de dados é uma das etapas mais cruciais do ML para que possamos seguir em frente com nossos dados. Existem muitas bibliotecas essenciais disponíveis em Python que simplificam a implementação de ML. Vários repositórios de código aberto em Python ajudam a trazer mudanças ao método existente. A raspagem da Web é um desses métodos que lida com dados que existem na Web, que são processados posteriormente como entrada para modelos de ML.\n",
    "\n",
    "A seguir estão algumas das bibliotecas mais comuns e amplamente usadas que valem a pena examinar se decidirmos trabalhar com Python e ML:\n",
    "* **scikit-learn**: usado para trabalhar com algoritmos de ML clássicos\n",
    "* **NumPy (Python numérico)**: Projetado para funcionar para computação científica\n",
    "* **SciPy**: Contém módulos para álgebra linear, otimização, integração e estatísticas\n",
    "* **pandas**: usado para agregação, manipulação e visualização de dados matplotlib e Seaborn: para visualização de dados\n",
    "* **Bokeh** e **Plotly**: Para visualização interativa\n",
    "* **TensorFlow** e **Theano**: usados para aprendizado profundo\n",
    "* **Beautiful Soup**, **LXML**, **PyQuery** e **Scrapy**: Usado para retirar dados de documentos HTML e XML\n",
    "\n",
    "Uma vez que tenhamos uma compreensão básica do Python, essas bibliotecas podem ser importadas e implementadas. Alternativamente, também podemos aplicar essas funcionalidades do zero, que é o que a maioria dos desenvolvedores faz.\n",
    "\n",
    "Python requer menos escrita e depuração em termos de código, o que economiza tempo em comparação com outras linguagens de programação. Isso é exatamente o que os programadores de IA e ML querem: um foco na compreensão do aspecto arquitetônico, em vez de gastar todo o tempo na depuração. Assim, o Python pode ser facilmente manipulado por pessoas com menos conhecimento em programação devido à sintaxe que fornece legibilidade em nível humano.\n",
    "\n",
    "Além do Python, existem várias outras ferramentas para ML, como Microsoft Excel, SAS, MATLAB e R. Essas ferramentas geralmente são negligenciadas devido à falta de serviços comunitários adequados e porque são incapazes de lidar com grandes conjuntos de dados. O MATLAB também fornece bibliotecas e pacotes sofisticados para processamento e análise de imagens. Em comparação com o Python, o tempo de execução é moderado e a funcionalidade é limitada à prototipagem, não à implantação.\n",
    "\n",
    "R é outra ferramenta usada para análise estatística. O Python realiza a manipulação de dados fornecendo várias ferramentas de desenvolvimento que podem ser colaboradas com outros sistemas. No entanto, R só funciona em uma forma específica de conjunto de dados e, portanto, as funções predefinidas exigem a entrada predefinida. R fornece uma base primitiva para os dados, que Python nos permite explorar os dados.\n",
    "\n",
    "### Tipos de algoritmos de ML\n",
    "Em geral, existem três tipos de algoritmos de ML, conforme mostrado aqui:\n",
    "* Aprendizagem supervisionada:\n",
    "   * Classificação\n",
    "   * Regressão\n",
    "* Aprendizagem não supervisionada:\n",
    "   * Associação\n",
    "   * Agrupamento\n",
    "* Aprendizado por reforço\n",
    "\n",
    "### Aprendizado supervisionado\n",
    "\n",
    "A aprendizagem supervisionada consiste em observar ou dirigir a execução de algo. A entrada fornecida ao modelo é a previsão que queremos fazer. Os dados rotulados são a previsão explícita dada para as instâncias particulares da entrada. O aprendizado supervisionado requer dados rotulados, o que requer alguma experiência. No entanto, nem sempre essas condições são atendidas. Nem sempre possuímos o conjunto de dados rotulado. Por exemplo, a previsão de fraudes é um dos campos de rápido desenvolvimento em que o invasor está constantemente procurando por exploits disponíveis. Esses novos ataques não podem ser mantidos em um conjunto de dados com ataques rotulados.\n",
    "\n",
    "Matematicamente, as funções de mapeamento da entrada para a saída podem ser expressas como $Y = f(X)$. Aqui, Y é a variável de saída e X é a variável de entrada."
   ],
   "metadata": {
    "collapsed": false
   }
  },
  {
   "cell_type": "markdown",
   "source": [
    "#### Classificação\n",
    "A classificação determina ou categoriza um modelo com base em seus atributos, e é o processo de identificar o gênero ao qual pertence uma nova observação, conforme a categoria de pertinência, que é conhecida antecipadamente. É uma técnica para determinar a qual classe uma variável dependente pertence com base em uma ou mais variáveis independentes. A variável de saída no problema de classificação é um grupo ou uma categoria. Alguns exemplos incluem pontuação de crédito (diferenciando entre alto risco e baixo risco com base em ganhos e economias), diagnóstico médico (prever o risco de doença), publicidade na web (prever se um usuário clicará em anúncios ou não) e muito mais.\n",
    "\n",
    "A capacidade do modelo de classificação pode ser determinada usando procedimentos de avaliação de modelo e métricas de avaliação de modelo.\n",
    "\n",
    "**Procedimentos de avaliação do modelo**\n",
    "\n",
    "Os procedimentos de avaliação do modelo ajudam você a descobrir quão bem um modelo se adaptará aos dados de amostra:\n",
    "* **Treinando e testando os dados**: Os dados de treinamento são usados para treinar o modelo para que ele se ajuste ao parâmetro. Os dados de teste são um conjunto de dados mascarado para o qual uma previsão deve ser feita.\n",
    "* **Treinar e testar divisão**: Normalmente, quando os dados são separados, a maioria dos dados é usada para treinamento, enquanto uma pequena parte dos dados é usada para teste.\n",
    "* **Validação cruzada de K-fold**: K-train e divisões de teste são criadas e calculadas em média juntas. O processo é executado k vezes mais lento do que as divisões de treinamento e teste.\n",
    "\n",
    "**Métricas de avaliação do modelo**\n",
    "\n",
    "Métricas de avaliação de modelo são empregadas para quantificar o desempenho do modelo. As métricas a seguir podem ser implementadas para medir a capacidade de um modelo preditivo de classificação.\n",
    "\n",
    "As métricas de avaliação são gerenciadas com a ajuda do seguinte:\n",
    "\n",
    "* **Matriz de confusão**: Esta é uma matriz $\\small 2 \\times 2$, também conhecida como matriz de erro. Ele ajuda a visualizar o desempenho de um algoritmo – normalmente um de aprendizado supervisionado – com a ajuda de precisão de classificação, erro de classificação, sensibilidade, medidas de precisão e previsões. A escolha das métricas depende do objetivo do negócio. Portanto, é necessário identificar se falsos positivos ou falsos negativos podem ser reduzidos com base nos requisitos.\n",
    "* **Regressão logística**: A regressão logística é um modelo estatístico que auxilia na análise do conjunto de dados. Possui diversas variáveis independentes que são responsáveis por determinar a saída. A saída é medida com variáveis diplóides (envolvendo dois resultados possíveis). O objetivo da regressão logística é encontrar o modelo de melhor ajuste para descrever a relação entre variáveis diplóides (variáveis dependentes) e um conjunto de variáveis independentes (preditores). Por isso, também é conhecido como um modelo de aprendizagem preditivo.\n",
    "* **Naives Bayes**: Isso funciona no conceito de probabilidade condicional, como dado pelo teorema de Bayes. O teorema de Bayes calcula a probabilidade condicional de um evento com base no conhecimento prévio que possa haver em relação ao evento. Esta abordagem é amplamente utilizada no reconhecimento facial, diagnóstico médico, classificação de notícias e muito mais. O classificador **Naives Bayes** é baseado no teorema de **Bayes**, onde a probabilidade condicional de A dado B pode ser calculada da seguinte forma:"
   ],
   "metadata": {
    "collapsed": false
   }
  },
  {
   "cell_type": "markdown",
   "source": [
    "<code>\n",
    "P(A | B) = ( P(B | A) * P( A ))/ P( B )\n",
    "\n",
    "Given:\n",
    "P(A | B) = Conditional probability of A given B\n",
    "P(B | A) = Conditional probability of B given A\n",
    "P( A )= Probability of occurrence of event A\n",
    "P( B )= Probability of occurrence of event B\n",
    "</code>\n"
   ],
   "metadata": {
    "collapsed": false
   }
  },
  {
   "cell_type": "markdown",
   "source": [
    "* **Árvore de decisão**: Uma árvore de decisão é um tipo de modelo de aprendizado supervisionado onde o resultado final pode ser visualizado na forma de uma árvore. A árvore de decisão inclui nós folha, nós de decisão e o nó raiz. O nó de decisão possui dois ou mais ramos, enquanto o nó folha representa a classificação ou decisão. A árvore de decisão divide ainda mais o conjunto de dados em subconjuntos menores, desenvolvendo assim de forma incremental a árvore associada. É simples de entender e pode lidar facilmente com conjuntos de dados categóricos e numéricos.\n",
    "* **Algoritmo de floresta aleatória**: Este algoritmo é um algoritmo de ML supervisionado que é fácil de usar e fornece ótimos resultados, mesmo sem ajuste de hiperparâmetros. Devido à sua simplicidade, pode ser usado tanto para tarefas de regressão quanto de classificação. Ele pode lidar com conjuntos maiores de dados para manter os valores ausentes. Esse algoritmo também é considerado o melhor na execução de tarefas relacionadas à classificação em comparação com a regressão.\n",
    "* **Rede neural**: embora já tenhamos algoritmos lineares e de classificação, uma rede neural é a técnica de última geração para muitos ML problemas. Uma rede neural é composta de unidades, ou seja, neurônios, que são organizados em camadas. Eles são responsáveis pela conversão de um vetor de entrada em alguma saída. Cada unidade recebe uma entrada, aplica uma função e passa a saída para a próxima camada. Normalmente, funções não lineares são aplicadas a este algoritmo.\n",
    "* **Algoritmo Support Vector Machine (SVM)**: O algoritmo de aprendizado SVM é um modelo de ML supervisionado. Ele é usado tanto para classificação quanto para análise de regressão, e é amplamente conhecido como um problema de otimização restrita. O SVM pode se tornar mais poderoso usando o truque do kernel (linear, função de base radial, polinômio e sigmóide). No entanto, as limitações da abordagem SVM estão na seleção do kernel."
   ],
   "metadata": {
    "collapsed": false
   }
  },
  {
   "cell_type": "markdown",
   "source": [
    "#### Regressão\n",
    "A regressão é uma medida estatística que ajuda a estimar a relação entre as variáveis. Em geral, a classificação se concentra na previsão de um rótulo, enquanto a regressão se concentra na previsão de quantidade. A regressão é usada em finanças, investimentos e outras disciplinas pelos gerentes para avaliar seus ativos. Na mesma linha, tenta determinar a força da relação entre as variáveis dependentes e uma série de outras variáveis (variáveis independentes); por exemplo, a relação entre os preços das commodities e os negócios que lidam com essas commodities.\n",
    "\n",
    "O modelo de regressão tem duas características principais. A variável de saída no problema de regressão é um valor real ou de natureza quantitativa. A reação do modelo leva em consideração dados passados. Matematicamente, um modelo preditivo mapeia a variável de entrada ($\\small X$) para a variável de saída contínua ($\\small Y$). Uma variável de saída contínua é um valor inteiro ou de ponto flutuante. A capacidade do modelo preditivo de regressão pode ser medida pelo cálculo da **raiz quadrada média do erro (RMSE)**. Por exemplo, no total, o modelo de previsão de regressão fez duas previsões, ou seja, 1.5 e 3.3, onde os valores esperados são 1.0 e 3.0. Portanto, o RMSE pode ser calculado da seguinte forma:\n",
    "<code>\n",
    "RMSE = sqrt(average(error\\^2))\n",
    "RMSE = sqrt(((1.0 - 1.5)\\^2 + (3.0 - 3.3)\\^2) / 2)\n",
    "RMSE = sqrt((0.25 + 0.09) / 2)\n",
    "RMSE = sqrt(0.17)\n",
    "RMSE = 0.412\n",
    "</code>"
   ],
   "metadata": {
    "collapsed": false
   }
  },
  {
   "cell_type": "markdown",
   "source": [
    "#### Aprendizado não supervisionado\n",
    "O aprendizado não supervisionado é uma classe de técnicas de ML em que os dados fornecidos como entrada não são rotulados. Além disso, apenas as variáveis de entrada ($\\small X$) são fornecidas, sem correspondência com as variáveis de saída ($\\small Y$). No aprendizado não supervisionado, os algoritmos são deixados sozinhos para aprender e explorar por conta própria, sem expectativas iniciais reais. Essa ausência de rotulagem nos ensina sobre a reconstrução de dados de entrada usando representação ou incorporação. É benéfico quando se trata de mineração de dados e extração de recursos.\n",
    "\n",
    "O aprendizado não supervisionado permite que você descubra tendências e padrões ocultos. Alguns exemplos do mundo real são prever ou entender dígitos manuscritos, tecnologia de fabricação de nano câmeras, espectro quântico Planck e muito mais.\n",
    "\n",
    "Matematicamente, o aprendizado não supervisionado tem um valor de entrada ($\\small X$) sem valor de saída correspondente. Em comparação com o aprendizado supervisionado, o processamento de tarefas do aprendizado não supervisionado é bastante complexo. A implementação do aprendizado não supervisionado pode ser encontrada em carros automáticos ou autônomos, programas de reconhecimento facial, sistemas especialistas, bioinformática e muito mais.\n",
    "Associação e agrupamento são duas partes do aprendizado não supervisionado.\n",
    "##### Associação\n",
    "Essa é uma técnica usada para descobrir novos padrões em grandes conjuntos de dados. A associação é deliberada para identificar regras fortes de um conjunto de dados com base no grau de noticiabilidade. Durante a análise prolongada dos dados, mais novas regras são geradas.\n",
    "\n",
    "A regra de associação é amplamente empregada na análise da cesta de mercado. Essa técnica ajuda a determinar a força da associação entre os pares do produto adquirido e a frequência de coocorrência nas observações. A análise da cesta de mercado é uma das técnicas de modelagem usadas pelos varejistas para descobrir associações entre itens. A teoria se desenvolve em torno do fato de que, se comprarmos alguns itens, é mais provável que compremos itens semelhantes.\n",
    "\n",
    "Matematicamente, é representado como $P\\small (A|B)$, onde uma pessoa que compra A também compra B. Também pode ser escrito como se $\\small {A}$, então $\\small {B}$. Em outras palavras, se há uma probabilidade de A ocorrer, então também há uma probabilidade de B ocorrer. Por exemplo, $\\small P(leite | pão) = 0,7$.\n",
    "##### Agrupamento\n",
    "\n",
    "Cluster é a montagem de um objeto pertencente ao mesmo rótulo, tratado como um. Clustering é a técnica de agrupar um objeto em sua categoria correspondente. Isso inclui ordenar vários objetos em seus grupos particulares, onde a capacidade de associação é máxima se pertencer ao mesmo grupo, ou mínima, caso contrário.\n",
    "Um dos algoritmos de agrupamento mais populares é o algoritmo de agrupamento k-means. Este algoritmo exige o valor predefinido de k. K representa o número de clusters em que queremos dividir os dados. O desempenho real é obtido quando o cluster é hiperesférico, como círculos em um espaço 2D ou esferas em um espaço 3D.\n",
    "A principal vantagem do clustering é que ele ajuda a descobrir o recurso distinto e útil dos dados e é flexível a alterações.\n",
    "\n",
    "##### Aprendizado por reforço\n",
    "O aprendizado por reforço é uma parte do ML que lida com a tomada de ações necessárias para aumentar a recompensa de uma situação específica. Ele emprega vários softwares e máquinas para encontrar o melhor caminho possível para uma situação específica.\n",
    "\n",
    "O aprendizado por reforço é diferente do aprendizado supervisionado. No aprendizado supervisionado, os dados de treinamento são fornecidos com um rótulo, com base no qual são treinados. No caso do aprendizado por reforço, o agente de reforço toma a decisão de resolver a tarefa que lhe foi atribuída. Existem dois tipos de aprendizado por reforço:\n",
    "* **Reforço positivo**: Maximiza o desempenho e sustenta as mudanças por mais tempo\n",
    "* **Reforço negativo**: Minimiza o desempenho e sustenta a mudança por um período mais curto"
   ],
   "metadata": {
    "collapsed": false
   }
  },
  {
   "cell_type": "markdown",
   "source": [
    "## Mineração de dados\n",
    "O processo de descoberta de informações ocultas ou preditivas de grandes conjuntos de dados ou bancos de dados é conhecido como mineração de dados. A mineração de dados é uma forma de análise realizada em dados para descobrir novos padrões e fatos. Esses fatos são usados para descobrir conhecimento e também são considerados um passo para a descoberta de conhecimento em bancos de dados (KDD). Vários processos e etapas de IA, ML, estatísticas, sistemas de gerenciamento de banco de dados e muito mais são frequentemente combinados para buscar o novo padrão. Com volumes crescentes de dados e algoritmos de ML, sempre há uma tendência de encontrar fatos novos ou ocultos no banco de dados. Fatos e padrões encontrados ou pesquisados são usados para prever um determinado resultado e também podem ser aplicados em muitos campos, como estatísticas, visualização de dados, marketing, gerenciamento, médicos, sistemas de tomada de decisão e assim por diante.\n",
    "\n",
    "A análise de dados e a mineração de dados são frequentemente comparadas ou discutidas em conjunto. A mineração de dados é considerada uma parte do processo de análise de dados. Precisaremos de algumas hipóteses predefinidas ao trabalhar com análise de dados, pois é o processo de organização de dados para desenvolver modelos e determinar alguns insights. Em termos de práticas aplicadas, a mineração de dados é realizada principalmente em dados estruturados, enquanto a análise de dados pode ser feita em dados estruturados, não estruturados ou semiestruturados.\n",
    "\n",
    "A mineração de dados é baseada em métodos científicos e matemáticos, enquanto a análise de dados usa modelos analíticos e sistemas de inteligência. Ao olhar à distância, tanto a análise de dados quanto a mineração de dados são subconjuntos da ciência de dados, onde a mineração de dados implementa algoritmos preditivos para descobrir padrões e a análise de dados implementa atividades para obter alguns insights dos conjuntos de dados.\n",
    "\n",
    "Um grande benefício da mineração de dados é poder processar grandes volumes de dados em um curto período de tempo. Ele também pode ser implementado em plataformas novas ou existentes, prever padrões ocultos ou ajudar a descobri-los, ajudar na tomada de decisões, descoberta de conhecimento e muito mais.\n",
    "\n",
    "### Tarefas de mineração de dados\n",
    "Em geral, as tarefas de mineração de dados são segregadas em dois tipos, também conhecidos como análise de mineração de dados ou modelagem de mineração de dados. Ambos podem ser categorizados ainda mais, como mostrado aqui:\n",
    "* Preditivo:\n",
    "  * Classificação\n",
    "  * Regressão\n",
    "  * Predição\n",
    "* Descritivo:\n",
    "  * Agrupamento\n",
    "  * Resumo\n",
    "  * Regras de associação\n",
    "#### Preditivo\n",
    "Isso usa análise estatística e transforma dados em informações valiosas. Ele prevê o provável resultado futuro de situações que ocorrem. As técnicas relacionadas à previsão que geram saída analisando fatos atuais e históricos se enquadram nesse modelo.\n",
    "\n",
    "##### Classificação\n",
    "Esta é uma das técnicas de mineração mais comuns e classifica e categoriza amostras antes de processá-las para encontrar fatos. Para obter mais informações sobre o procedimento de classificação e avaliação do modelo, consulte a seção Tipos de algoritmos de ML.\n",
    "\n",
    "##### Regressão\n",
    "Essa técnica é usada para prever, prever e analisar tendências de informações e a relação entre variáveis. Para obter mais informações sobre regressão, consulte a seção Tipos de algoritmos de ML.\n",
    "\n",
    "##### Predição\n",
    "Essa técnica analisa eventos passados e prevê os possíveis valores ausentes ou futuros usando referências de outras técnicas de mineração de dados, como agrupamento, classificação e muito mais.\n",
    "\n",
    "##### Descritivo\n",
    "Também conhecido como estágio preliminar de processamento de dados, ele usa inteligência de negócios e muitos outros sistemas. Essa forma de análise é limitada, pois analisa apenas dados anteriores e normalmente fornece informações sobre coisas que já aconteceram.\n",
    "\n",
    "##### Agrupamento\n",
    "\n",
    "O clustering é uma técnica usada para identificar dados semelhantes entre si. Para obter mais informações sobre clustering, consulte a seção Tipos de algoritmos de ML.\n",
    "\n",
    "##### Resumo\n",
    "Isso fornece uma representação mais compacta do conjunto de dados e inclui visualização e geração de relatórios. A maioria dos relatórios gerenciais sobre vendas e marketing usa essa técnica.\n",
    "\n",
    "##### Regras de associação\n",
    "Para mais informações sobre associação, consulte os Tipos de ML seção de algoritmos.\n",
    "\n",
    "#### Qual é o próximo?\n",
    "\n",
    "A raspagem da Web é dinâmica, exigente e também uma tarefa desafiadora. Precisamos obedecer a perspectiva legal, que é apresentada nos Termos de Serviço (ToS) de um site e na Política de Privacidade antes de levar essa tarefa adiante. A programação Python, com sua natureza de suporte, sintaxe fácil, formação de código curto e legível e a disponibilidade de bibliotecas e ferramentas, é uma das melhores linguagens a serem usadas em web scraping.\n",
    "\n",
    "Ainda assim, os desafios existem e os roteiros gerais podem não ser capazes de atender à demanda existente. Às vezes, uma tarefa de raspagem pode ser para um grande volume, e PCs ou laptops pessoais não serão um lugar que valha a pena implementar quando você considera o tempo, os recursos da máquina e muito mais. Há uma série de recursos e procedimentos que podem tornar uma tarefa de raspagem mais complicada e desafiadora. Vamos a alguns deles:\n",
    "\n",
    "* A adoção de crescentes medidas de segurança baseadas na web\n",
    "* O carregamento dinâmico de dados e o envolvimento de linguagens de script tornam a extração complexa\n",
    "* Presença de CAPTCHA, que pode ser encontrado em http://www.captcha.net/\n",
    "* Bloqueando o endereço IP de um usuário (para solicitações simultâneas)\n",
    "* Bloquear solicitações de certas partes do mundo (usar e alternar proxies pode ajudar)\n",
    "\n",
    "Para esses casos, podemos obter ajuda de organizações que estão realizando trabalhos relacionados à raspagem. Essas organizações podem nos ajudar com nossa demanda de dados cobrando certas taxas e nos fornecendo uma interface web onde podemos processar nossa demanda. Essas empresas podem ser pesquisadas no Google como `Web Scraping Services` ou `Web Scraping Softwares`. Há também várias extensões baseadas em navegador disponíveis que podem ser encontradas pesquisando por `Scraping Extensions`."
   ],
   "metadata": {
    "collapsed": false
   }
  }
 ],
 "metadata": {
  "kernelspec": {
   "display_name": "Python 3",
   "language": "python",
   "name": "python3"
  },
  "language_info": {
   "codemirror_mode": {
    "name": "ipython",
    "version": 2
   },
   "file_extension": ".py",
   "mimetype": "text/x-python",
   "name": "python",
   "nbconvert_exporter": "python",
   "pygments_lexer": "ipython2",
   "version": "2.7.6"
  }
 },
 "nbformat": 4,
 "nbformat_minor": 0
}
