{
 "cells": [
  {
   "cell_type": "markdown",
   "source": [
    "# Capítulo 11 - Scraping de JavaScript"
   ],
   "metadata": {
    "collapsed": false
   }
  },
  {
   "cell_type": "markdown",
   "source": [
    "## Executando JavaScript em Python com o Selenium"
   ],
   "metadata": {
    "collapsed": false
   }
  },
  {
   "cell_type": "code",
   "execution_count": 1,
   "outputs": [],
   "source": [
    "url = 'https://pythonscraping.com/pages/javascript/ajaxDemo.html'"
   ],
   "metadata": {
    "collapsed": false
   }
  },
  {
   "cell_type": "code",
   "execution_count": 4,
   "outputs": [
    {
     "name": "stdout",
     "output_type": "stream",
     "text": [
      "Here is some important text you want to retrieve!\n",
      "A button to click!\n"
     ]
    }
   ],
   "source": [
    "from selenium import webdriver\n",
    "import time\n",
    "\n",
    "driver = webdriver.Chrome(executable_path='chromedriver.exe') # Utiliza o chromedriver.exe\n",
    "driver.get(url=url)                                           # Carrega a URL\n",
    "time.sleep(3)                                                 # Espera 3 segundos\n",
    "\n",
    "print(driver.find_element_by_id('content').text)"
   ],
   "metadata": {
    "collapsed": false
   }
  },
  {
   "cell_type": "markdown",
   "source": [
    "### Seletores do Selenium"
   ],
   "metadata": {
    "collapsed": false
   }
  },
  {
   "cell_type": "code",
   "execution_count": 5,
   "outputs": [
    {
     "data": {
      "text/plain": "<selenium.webdriver.remote.webelement.WebElement (session=\"5b16982801859e5d47c5529e27da7650\", element=\"a44f2d2f-fb2e-4acc-80b9-c6d1e3086d0c\")>"
     },
     "execution_count": 5,
     "metadata": {},
     "output_type": "execute_result"
    }
   ],
   "source": [
    "driver.find_element_by_css_selector('#content') # Seleciona um elemento apenas."
   ],
   "metadata": {
    "collapsed": false
   }
  },
  {
   "cell_type": "code",
   "execution_count": 6,
   "outputs": [
    {
     "data": {
      "text/plain": "<selenium.webdriver.remote.webelement.WebElement (session=\"5b16982801859e5d47c5529e27da7650\", element=\"a44f2d2f-fb2e-4acc-80b9-c6d1e3086d0c\")>"
     },
     "execution_count": 6,
     "metadata": {},
     "output_type": "execute_result"
    }
   ],
   "source": [
    "driver.find_element_by_tag_name('div') # Seleciona um elemento apenas."
   ],
   "metadata": {
    "collapsed": false
   }
  },
  {
   "cell_type": "code",
   "execution_count": 7,
   "outputs": [
    {
     "data": {
      "text/plain": "[<selenium.webdriver.remote.webelement.WebElement (session=\"5b16982801859e5d47c5529e27da7650\", element=\"a44f2d2f-fb2e-4acc-80b9-c6d1e3086d0c\")>]"
     },
     "execution_count": 7,
     "metadata": {},
     "output_type": "execute_result"
    }
   ],
   "source": [
    "# Selecionando vários elementos.\n",
    "driver.find_elements_by_css_selector('#content')"
   ],
   "metadata": {
    "collapsed": false
   }
  },
  {
   "cell_type": "code",
   "execution_count": 8,
   "outputs": [
    {
     "data": {
      "text/plain": "[<selenium.webdriver.remote.webelement.WebElement (session=\"5b16982801859e5d47c5529e27da7650\", element=\"a44f2d2f-fb2e-4acc-80b9-c6d1e3086d0c\")>]"
     },
     "execution_count": 8,
     "metadata": {},
     "output_type": "execute_result"
    }
   ],
   "source": [
    "# Selecionando vários elementos.\n",
    "driver.find_elements_by_tag_name('div')"
   ],
   "metadata": {
    "collapsed": false
   }
  },
  {
   "cell_type": "code",
   "execution_count": 11,
   "outputs": [
    {
     "name": "stdout",
     "output_type": "stream",
     "text": [
      "Here is some important text you want to retrieve! A button to click!\n"
     ]
    }
   ],
   "source": [
    "# Para usar o BeautifulSoup para continuar função page_source\n",
    "from bs4 import BeautifulSoup\n",
    "pageSource = driver.page_source\n",
    "bs = BeautifulSoup(pageSource,'html.parser')\n",
    "print(bs.find(id='content').get_text())"
   ],
   "metadata": {
    "collapsed": false
   }
  },
  {
   "cell_type": "code",
   "execution_count": 14,
   "outputs": [
    {
     "name": "stdout",
     "output_type": "stream",
     "text": [
      "Here is some important text you want to retrieve!\n",
      "A button to click!\n"
     ]
    }
   ],
   "source": [
    "# Apesar de ser uma solução não é funcional.\n",
    "# Vamos aplicar uma função melhor!!\n",
    "\n",
    "# O ideal é verificar se há um elemento específico na página e retornar apenas quando ele existir.\n",
    "\n",
    "# Vamos testar no id=loadedButton\n",
    "\n",
    "from selenium import webdriver\n",
    "from selenium.webdriver.common.by import By\n",
    "from selenium.webdriver.support.ui import WebDriverWait\n",
    "from selenium.webdriver.support import expected_conditions as EC\n",
    "\n",
    "driver = webdriver.Chrome('chromedriver.exe')\n",
    "driver.get(url=url)\n",
    "try:\n",
    "\telement = WebDriverWait(driver,10).until(\n",
    "\t\tEC.presence_of_element_located((By.ID,'loadedButton'))) # Compondo uma espera implícita!!\n",
    "finally:\n",
    "\tprint(driver.find_element_by_id('content').text)\n",
    "\tdriver.close()\n"
   ],
   "metadata": {
    "collapsed": false
   }
  },
  {
   "cell_type": "markdown",
   "source": [
    "### Sintaxe do XPath"
   ],
   "metadata": {
    "collapsed": false
   }
  },
  {
   "cell_type": "markdown",
   "source": [
    "O BeautifulSoup não suporta o XPath, porém outras pode usar (Scrapy e Selenium)"
   ],
   "metadata": {
    "collapsed": false
   }
  },
  {
   "cell_type": "markdown",
   "source": [
    "### Lidando com redirecionamentos"
   ],
   "metadata": {
    "collapsed": false
   }
  }
 ],
 "metadata": {
  "kernelspec": {
   "display_name": "Python 3",
   "language": "python",
   "name": "python3"
  },
  "language_info": {
   "codemirror_mode": {
    "name": "ipython",
    "version": 2
   },
   "file_extension": ".py",
   "mimetype": "text/x-python",
   "name": "python",
   "nbconvert_exporter": "python",
   "pygments_lexer": "ipython2",
   "version": "2.7.6"
  }
 },
 "nbformat": 4,
 "nbformat_minor": 0
}
