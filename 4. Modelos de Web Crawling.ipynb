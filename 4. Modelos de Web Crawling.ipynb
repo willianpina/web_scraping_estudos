{
 "cells": [
  {
   "cell_type": "markdown",
   "source": [
    "<h1>Capítulo 4 - Modelos de Web Crawling</h1>"
   ],
   "metadata": {
    "collapsed": false,
    "pycharm": {
     "name": "#%% md\n"
    }
   }
  },
  {
   "cell_type": "code",
   "execution_count": 15,
   "outputs": [],
   "source": [
    "class Content:\n",
    "\t\"\"\"\n",
    "\tClasse base comum para todos os artigos e páginas\n",
    "\t\"\"\"\n",
    "\tdef __init__(self, url, title, body):\n",
    "\t\tself.url = url\n",
    "\t\tself.title = title\n",
    "\t\tself.body = body\n",
    "\n",
    "\tdef print(self):\n",
    "\t\t\"\"\"\n",
    "\t\tFunção flexível de exibição controla a saída\n",
    "\t\t\"\"\"\n",
    "\t\tprint(f\"URL: {self.url}\")\n",
    "\t\tprint(f\"TITLE: {self.title}\")\n",
    "\t\tprint(f\"BODY:\\n {self.body}\")\n",
    "\n",
    "class Website:\n",
    "\t\"\"\"\n",
    "\tContém informações sobre a estrutura do site\n",
    "\t\"\"\"\n",
    "\tdef __init__(self, name, url,titleTag, bodyTag):\n",
    "\t\tself.name= name\n",
    "\t\tself.url=url\n",
    "\t\tself.titleTag=titleTag\n",
    "\t\tself.bodyTag=bodyTag"
   ],
   "metadata": {
    "collapsed": false,
    "pycharm": {
     "name": "#%%\n"
    }
   }
  },
  {
   "cell_type": "code",
   "execution_count": 16,
   "outputs": [],
   "source": [
    "import requests\n",
    "from bs4 import BeautifulSoup\n",
    "\n",
    "class Crawler:\n",
    "\n",
    "\tdef getPage(self,url):\n",
    "\t\ttry:\n",
    "\t\t\treq=requests.get(url)\n",
    "\t\texcept requests.exceptions.RequestException:\n",
    "\t\t\treturn None\n",
    "\t\treturn BeautifulSoup(req.text, 'html.parser')\n",
    "\n",
    "\tdef safeGet(self,pageObj, selector):\n",
    "\t\t\"\"\"\n",
    "\t\tFunção utilitária para obter uma string de conteúdo de um objeto BeautifulSoup e um seletor.\n",
    "\t\tDevolve uma string vazia caso nenhum objeto seja encontrado para o dado seletor\n",
    "\t\t\"\"\"\n",
    "\n",
    "\t\tselectedElems=pageObj.select(selector)\n",
    "\t\tif selectedElems is not None and len(selectedElems) >0:\n",
    "\t\t\treturn '\\n'.join([elem.get_text() for elem in selectedElems])\n",
    "\t\treturn ''\n",
    "\n",
    "\tdef parse(self,site, url):\n",
    "\t\t\"\"\"\n",
    "\t\tExtrai conteúdo de um dado URL de página\n",
    "\t\t\"\"\"\n",
    "\t\tbs=self.getPage(url)\n",
    "\t\tif bs is not None:\n",
    "\t\t\ttitle=self.safeGet(bs, site.titleTag)\n",
    "\t\t\tbody= self.safeGet(bs, site.bodyTag)\n",
    "\t\t\tif title!= '' and body !='':\n",
    "\t\t\t\tcontent= Content(url, title, body)\n",
    "\t\t\t\tcontent.print()"
   ],
   "metadata": {
    "collapsed": false,
    "pycharm": {
     "name": "#%%\n"
    }
   }
  },
  {
   "cell_type": "code",
   "execution_count": 39,
   "outputs": [],
   "source": [
    "crawler = Crawler()\n",
    "\n",
    "siteData = [\n",
    "    ['Infobae', 'https://www.infobae.com/america/colombia/', 'h1', 'div.nd-body-article'],\n",
    "    ['Infodefensa', 'https://www.infodefensa.com/portada-brasil.php', 'h1', 'div#article_content.article_content.story_editor'],\n",
    "    ['Defensa', 'https://www.defensa.com/', 'h1', 'div.entry-content.clearfix.e_descr'],\n",
    "    ['El Tiempo', 'https://www.eltiempo.com/', 'h1', 'div.articulo-contenido']\n",
    "]\n",
    "websites = []\n",
    "for row in siteData:\n",
    "    websites.append(Website(row[0], row[1], row[2], row[3]))"
   ],
   "metadata": {
    "collapsed": false,
    "pycharm": {
     "name": "#%%\n"
    }
   }
  },
  {
   "cell_type": "code",
   "execution_count": 34,
   "outputs": [
    {
     "name": "stdout",
     "output_type": "stream",
     "text": [
      "URL: https://www.infobae.com/america/colombia/2022/08/25/ministerio-de-defensa-evaluara-la-posibilidad-de-comprar-nuevos-aviones-para-la-fuerza-aerea/\n",
      "TITLE: Ministerio de Defensa evaluará la posibilidad de comprar nuevos aviones para la Fuerza Aérea \n",
      "BODY:\n",
      " Foto de archivo. Ministerio de Defensa evaluará la posibilidad de comprar nuevos aviones para la Fuerza Aérea colombiana. REUTERS/John VizcainoEl ministro de Defensa, Iván Velásquez, afirmó este jueves 25 de agosto que el Gobierno nacional está evaluando la posibilidad de comprar nuevos aviones para la Fuerza Aérea de Colombia. Si bien el presidente Gustavo Petro aseguró en campaña que no habría una nueva flota aérea, desde la cartera se percataron que la vida útil de algunas aeronaves está por concluir.“Es un tema que se está evaluando sobre las capacidades de la fuerza pública”, explicó el ministro en una rueda de prensa. Velásquez expuso que “hay efectivamente una vida útil ya cercana a concluir de varios de estos equipos” y a pesar de que están evaluando la situación, “lo que tiene que asegurarse es que no puede disminuir la capacidad que tiene la fuerza pública en estos momentos”, agregó.El jefe de cartera también afirmó que no solo se refiere a los aviones Kfir, sino a una valoración general de todos los equipos de la Fuerza Aérea colombiana; sin embargo, serían precisamente esas aeronaves las que tendría una vida útil hasta 2023.La Fuerza Aérea ya le entregó al Gobierno nacional un concepto con las características de los aviones con los que podrían reemplazar los Kfir y esa solicitud no solo se ha hecho en el mandato de Gustavo Petro. Los gobiernos de los expresidentes Juan Manuel Santos e Iván Duque no siguieron adelante con la compra de la flota aérea por los altos costos que representaban en el presupuesto de la nación.Suspensión de bombardeos en campamentos con menores reclutadosDurante la rueda de prensa, el ministro de Defensa también anunció cambios en la ejecución de las operaciones militares. El Gobierno nacional tomó la decisión de suspender los bombardeos a campamentos de grupos armados que pongan en riesgo a la población civil y en aquellos en los que haya presencia de menores reclutados, pues deben ser considerados víctimas del conflicto.“Los menores reclutados forzosamente por organizaciones ilegales son víctimas, son víctimas de esta violencia en la que hemos vivido por tantas décadas”, aseveró Velásquez. Asimismo, precisó que las acciones militares del Gobierno “no puede poner en peligro la vida de estas víctimas” y por eso primero deben evaluar el momento en el que se determine realizar un bombardeo.Lea también: Iván Cepeda apoya anuncio contra bombardeos para evitar víctimas colateralesPara el jefe de cartera es indispensable “privilegiar siempre la vida sobre la muerte y no se pueden desarrollar operaciones de un lado absolutamente que pongan en peligro la población civil”. Por esa razón es necesario que “no se repitan actos muy dolorosos del pasado”, dijo Velásquez y recordó algunos de los hechos que tuvieron a menores de edad de por medio en operaciones militares.El exministro de Defensa Guillermo Botero, durante el gobierno de Iván Duque, salió de la cartera luego de la denuncia de que habría ocultado información respecto a un bombardeo en San Vicente del Caguán el 2 de septiembre de 2019. En ese operativo murieron siete menores de edad entre 12 y 17 años de edad.Luego llegó al ministerio Diego Molano, quien fue cuestionado por una operación similar en Guaviare en la que habían muerto varios menores de edad en un bombardeo contra un supuesto campamento en el que había estado alias Gentil Duarte.SEGUIR LEYENDO:Ejército captura a alias Cañón, presunto integrante del Clan del Golfo acusado de secuestro en el nordeste antioqueñoExtradición de Álvaro Córdoba: abogada espera que Gustavo Petro revise un posible “vacío legal” en el trámiteGustavo Petro aseguró que se dedicarán a perseguir la corrupción y no a la oposición: “Para eso no es la inteligencia del Estado”\n"
     ]
    }
   ],
   "source": [
    "crawler.parse(websites[0],\"https://www.infobae.com/america/colombia/2022/08/25/ministerio-de-defensa-evaluara-la-posibilidad-de-comprar-nuevos-aviones-para-la-fuerza-aerea/\")"
   ],
   "metadata": {
    "collapsed": false,
    "pycharm": {
     "name": "#%%\n"
    }
   }
  },
  {
   "cell_type": "code",
   "execution_count": 36,
   "outputs": [
    {
     "name": "stdout",
     "output_type": "stream",
     "text": [
      "URL: https://www.infodefensa.com/texto-diario/mostrar/3861449/168-primicia-colombia-cotecmar-prepara-botadura-nueva-patrullera-fluvial-colombiana\n",
      "TITLE: \r\n",
      "\r\n",
      "            Cotecmar botará su nueva Patrullera de Apoyo Fluvial Ligera en septiembre\r\n",
      "\r\n",
      "        \n",
      "BODY:\n",
      " \n",
      "\n",
      "El astillero colombiano Cotecmar se encuentra en la fase  preparatoria para la botadura de la nueva Patrullera de Apoyo Fluvial Ligera  (PAF-L), de la Armada Colombiana (ARC), Esta etapa se surtirá a  mediados del próximo mes de septiembre –en aguas del puerto de Cartegana de  Indias-, luego de la cual se iniciará la fase de pruebas de aceptación de  puerto HAT (por Harbour Acceptance Trials) y posteriormente las pruebas de mar SAT (por Sea Acceptance Trials), antes de su entrega para despliegue  operacional. Diseño  incremental La nueva PAF cuenta con una serie pormenorizada  de mejoras en su diseño (de acuerdo a especificaciones técnicas ET-3240-B),  entre las que se destacan la reubicación de los camarotes de la tripulación,  así como un aumento considerable de su capacidad de almacenamiento de  suministros y carga, disponiendo además de una mayor capacidad de alojamiento  para pasajeros temporales, reduciendo adicionalmente el peso total, gracias a  cambios en varios sistemas por innovación tecnológica, logrando con ello que el  buque pueda acceder a calados menores. De igual forma se han cambiado los  motores por unos de mayor tamaño, pero conservando la eficiencia y potencia  suministrada, conservándose el sistema de control de tiro Escorpión que integra dos ametralladoras  del tipo Browning M2HB de 12.7x99 mm y otras dos del tipo US Ordnance M-60E4 de 7.62x51 milímetros.   La PAF-L  es una embarcación blindada con unas dimensiones de 30 metros de eslora, por  siete metros de manga moldeada, con puntal a primera cubierta de 3.1 metros y  un calado a máxima carga de un metro, disponiendo de hasta 12 días de  autonomía con alcances de hasta 1.560 kilómetros a velocidades de hasta 9 nudos (17.7 kilómetros por hora), contando con un tripulación de 43 oficiales,  suboficiales, marinos e infantes de marina.\n",
      " \n",
      "\n"
     ]
    }
   ],
   "source": [
    "crawler.parse(websites[1],'https://www.infodefensa.com/texto-diario/mostrar/3861449/168-primicia-colombia-cotecmar-prepara-botadura-nueva-patrullera-fluvial-colombiana')"
   ],
   "metadata": {
    "collapsed": false,
    "pycharm": {
     "name": "#%%\n"
    }
   }
  },
  {
   "cell_type": "code",
   "execution_count": 38,
   "outputs": [
    {
     "name": "stdout",
     "output_type": "stream",
     "text": [
      "URL: https://www.defensa.com/rusia/x-69-nuevo-misil-furtivo-fuerza-aerea-rusia\n",
      "TITLE: X-69, el nuevo misil furtivo de la Fuerza Aérea de Rusia\n",
      "BODY:\n",
      " Hemos conocido en Army 2022, en Moscú, el nuevo misil furtivo X-69 que está destinado a ser transportado por los cazabombarderos de la Fuerza Aérea de Rusia en sus cometidos de ataque a objetivos de alto valor.La presencia de novedades tecnológicas en el ámbito del armamento aéreo es constante para poner a punto diseños que respondan a necesidades concretas. El misil furtivo X-69 llega para complementar a otros desarrollos recientes, como el misil X-59MKM del que próximamente les hablaremos, en el difícil cometido de ser empleados de forma casi autónoma para alcanzar puntos en la superficie terrestre o en la zona costera.\n",
      "Por lo que nos han informado desde la Corporación de Misiles Tácticos JSC, que lo ha diseñado y lo fabrica, el misil furtivo X-69 es un arma que está diseñada para atacar objetivos estacionarios en superficie, incluidos aquellos que no generen emisiones radar, de firma infrarroja u óptica especial. Sólo basta con conocer las coordenadas de la posición del blanco y otros aspectos del áreas próxima.\n",
      "El misil furtivo X-69 se transportará bajo las alas de distintos tipos de cazabombarderos de la Fuerza Aérea de Rusia, aparatos que, por su tamaño, pueden llevar armas grandes y pesadas.\n",
      "Algunos detalles del misil furtivo X-69\n",
      "Lo lanzarán hacia su objetivo y el misil furtivo X-69 se desplazará a muy baja cota siguiendo unos puntos preprogramados en su sistema de control de vuelo. Su computadora admite una o varias misiones previas, lo que permite lanzarlo una vez el cazabombardero está en vuelo hacia un lugar u otro. Incluso, una vez disparado, podría recibir órdenes de cambio de objetivo.\n",
      "\n",
      "Las formas furtivas del misil X-69 están destinadas a dificultar su detección por los sistemas de Defensa antiaérea. (Octavio Díez Cámara)\n",
      "Técnicamente, sabemos que el misil furtivo X-69 que está a disposición de la Fuerza Aérea de Rusia puede ser lanzado a muy baja cota o a alturas de hasta 11 kilómetros, a velocidades que estén en un rango de entre 0,5 y 0,9 Mach y en distintas condiciones meteorológicas. Vuela, gracias a su turbina a velocidad subsónica de entre 750 y 1.000 kilómetros por hora e incluye cuatro aletas traseras para variar su rumbo y dos superiores que lo estabilizan mientras se desplaza por el aire. Su alcance varía en función de la altura desde la que se dispare, cifrándose en próximo a los 300 kilómetros.\n",
      "Otros detalles del misil furtivo X-69 son que volará a alturas de entre 50 y 300 metros, que tiene una capacidad de alta precisión con un error de sólo 5 metros, o que puede ser equipado con cabezas de combate de alta penetración o de fragmentación, pesando la primera 310 kilogramos y la segunda 300. Las dimensiones de esta nueva arma de la Fuerza Aérea Rusa, que tiene un sistema de navegación tipo NACS que combina INS, radio altímetro, sistemas electrópticos,, mide 4,19 metros de longitud, pesa 770 kilogramos y se caracteriza por una envergadura con sus alas desplegadas de 2,45 m. (Octavio Díez Cámara)\n",
      "\n"
     ]
    }
   ],
   "source": [
    "crawler.parse(\n",
    "    websites[2], 'https://www.defensa.com/rusia/x-69-nuevo-misil-furtivo-fuerza-aerea-rusia')"
   ],
   "metadata": {
    "collapsed": false,
    "pycharm": {
     "name": "#%%\n"
    }
   }
  },
  {
   "cell_type": "code",
   "execution_count": 41,
   "outputs": [
    {
     "name": "stdout",
     "output_type": "stream",
     "text": [
      "URL: https://www.eltiempo.com/colombia/otras-ciudades/turistas-holandeses-murieron-intoxicados-en-cartagena-comieron-en-bazurto-697302\n",
      "TITLE: Los últimos pasos de los holandeses que murieron intoxicados en Cartagena\n",
      "BODY:\n",
      " \n",
      "\n",
      "\n",
      "\n",
      "En manos de la Fiscalía General de la Nación están las investigaciones por las muertes de Robert Gerrit Kootte y Nienke Guri Trishna Bawa, una pareja de turistas holandeses que había arribado a Cartagena el sábado 20 de agosto.Los jóvenes holandeses habían llegado en horas de la noche a Cartagena, procedentes de Santa Marta. Y en su itinerario por el Caribe colombiano estaba incluido un viaje a San Andrés, el cual se haría el lunes 22 de agosto, pero se presentó la tragedia.Las autoridades buscan a una pareja de extranjeros que acompañó a los holandeses el domingo al mercado de Bazurto y luego a una cena en la calle del Arsenal, en el centro histórico.(En contexto: ¿De qué murieron los 2 turistas holandeses en Cartagena? Este es el parte médico\n",
      "\n",
      "\n",
      "\n",
      "Estuvieron comiendo en el mercado popular Bazurto, en compañía de dos viajeros másUna vez la pareja llegó a la ciudad se dirigió hasta el Hotel Casa del Coliseo, ubicado en la calle del Coliseo, donde tenía reserva.En las últimas horas se conoció que el día domingo, en horas de la mañana, estuvieron comiendo en el mercado popular Bazurto, en compañía de dos viajeros más, en un programa de turismo de experiencias.En horas de la noche cenaron en un restaurante llamado El Arsenal The Rum Box, propiedad del empresario Abraham Dau, hijo del alcalde de la ciudad, William Dau.\t(También: Asesinatos en Sucre: Fiscalía dice que fue por venganza y que Núñez les disparó)Pero el lunes —según un comunicado emitido por el Distrito de Cartagena— “manifestaron una emergencia\".Ese día recibieron, inicialmente, atención médica en el hotel, pero ante el grave estado de salud que presentaban fueron trasladados de urgencias a la clínica Medihelp, en Bocagrande.El lunes 22, en horas de la noche, se registró el deceso de la mujer, de 29 años; y el martes en la mañana falleció su compañero, de 31 años.“Recibimos en horas de la noche a dos pacientes de nacionalidad holandesa, los cuales fueron atendidos ante un cuadro con un compromiso importante de su estado general. La paciente de sexo femenino requirió reanimación por haber llegado con una muy severa afectación de sus respuestas vitales. Pero esa reanimación no resultó y falleció\", señaló Javier Hernández, director médico de Medihelp.Mientras tanto, Robert Gerrit Kootte fue trasladado a unidad de cuidados intensivos.\"Fue manejado toda la noche con lo pertinente un cuadro de convulsión, el cual fue evidente desde su llegada, pero lamentablemente en horas de la mañana también falleció”, añadió Hernández.Las primeras conclusiones del centro médico es que los dos turistas fallecieron por intoxicación.John Montaño Corresponsal de EL TIEMPOCartagena \n",
      "\n"
     ]
    }
   ],
   "source": [
    "crawler.parse(websites[3],'https://www.eltiempo.com/colombia/otras-ciudades/turistas-holandeses-murieron-intoxicados-en-cartagena-comieron-en-bazurto-697302')"
   ],
   "metadata": {
    "collapsed": false,
    "pycharm": {
     "name": "#%%\n"
    }
   }
  }
 ],
 "metadata": {
  "kernelspec": {
   "display_name": "Python 3",
   "language": "python",
   "name": "python3"
  },
  "language_info": {
   "codemirror_mode": {
    "name": "ipython",
    "version": 2
   },
   "file_extension": ".py",
   "mimetype": "text/x-python",
   "name": "python",
   "nbconvert_exporter": "python",
   "pygments_lexer": "ipython2",
   "version": "2.7.6"
  }
 },
 "nbformat": 4,
 "nbformat_minor": 0
}