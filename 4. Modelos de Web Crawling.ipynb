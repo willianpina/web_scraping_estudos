{
 "cells": [
  {
   "cell_type": "markdown",
   "source": [
    "<h1>Capítulo 4 - Modelos de Web Crawling</h1>"
   ],
   "metadata": {
    "collapsed": false,
    "pycharm": {
     "name": "#%% md\n"
    }
   }
  },
  {
   "cell_type": "code",
   "execution_count": 1,
   "outputs": [],
   "source": [
    "class Content:\n",
    "\t\"\"\"\n",
    "\tClasse base comum para todos os artigos e páginas\n",
    "\t\"\"\"\n",
    "\tdef __init__(self, url, title, body):\n",
    "\t\tself.url = url\n",
    "\t\tself.title = title\n",
    "\t\tself.body = body\n",
    "\n",
    "\tdef print(self):\n",
    "\t\t\"\"\"\n",
    "\t\tFunção flexível de exibição controla a saída\n",
    "\t\t\"\"\"\n",
    "\t\tprint(f\"URL: {self.url}\")\n",
    "\t\tprint(f\"TITLE: {self.title}\")\n",
    "\t\tprint(f\"BODY:\\n {self.body}\")\n",
    "\n",
    "class Website:\n",
    "\t\"\"\"\n",
    "\tContém informações sobre a estrutura do site\n",
    "\t\"\"\"\n",
    "\tdef __init__(self, name, url,titleTag, bodyTag):\n",
    "\t\tself.name= name\n",
    "\t\tself.url=url\n",
    "\t\tself.titleTag=titleTag\n",
    "\t\tself.bodyTag=bodyTag"
   ],
   "metadata": {
    "collapsed": false,
    "pycharm": {
     "name": "#%%\n"
    }
   }
  },
  {
   "cell_type": "code",
   "execution_count": 2,
   "outputs": [],
   "source": [
    "import requests\n",
    "from bs4 import BeautifulSoup\n",
    "\n",
    "class Crawler:\n",
    "\n",
    "\tdef getPage(self,url):\n",
    "\t\ttry:\n",
    "\t\t\treq=requests.get(url)\n",
    "\t\texcept requests.exceptions.RequestException:\n",
    "\t\t\treturn None\n",
    "\t\treturn BeautifulSoup(req.text, 'html.parser')\n",
    "\n",
    "\tdef safeGet(self,pageObj, selector):\n",
    "\t\t\"\"\"\n",
    "\t\tFunção utilitária para obter uma string de conteúdo de um objeto BeautifulSoup e um seletor.\n",
    "\t\tDevolve uma string vazia caso nenhum objeto seja encontrado para o dado seletor\n",
    "\t\t\"\"\"\n",
    "\n",
    "\t\tselectedElems=pageObj.select(selector)\n",
    "\t\tif selectedElems is not None and len(selectedElems) >0:\n",
    "\t\t\treturn '\\n'.join([elem.get_text() for elem in selectedElems])\n",
    "\t\treturn ''\n",
    "\n",
    "\tdef parse(self,site, url):\n",
    "\t\t\"\"\"\n",
    "\t\tExtrai conteúdo de um dado URL de página\n",
    "\t\t\"\"\"\n",
    "\t\tbs=self.getPage(url)\n",
    "\t\tif bs is not None:\n",
    "\t\t\ttitle=self.safeGet(bs, site.titleTag)\n",
    "\t\t\tbody= self.safeGet(bs, site.bodyTag)\n",
    "\t\t\tif title!= '' and body !='':\n",
    "\t\t\t\tcontent= Content(url, title, body)\n",
    "\t\t\t\tcontent.print()"
   ],
   "metadata": {
    "collapsed": false,
    "pycharm": {
     "name": "#%%\n"
    }
   }
  },
  {
   "cell_type": "code",
   "execution_count": 3,
   "outputs": [],
   "source": [
    "crawler = Crawler()\n",
    "\n",
    "siteData = [\n",
    "    ['Infobae', 'https://www.infobae.com/america/colombia/', 'h1', 'div.nd-body-article'],\n",
    "    ['Infodefensa', 'https://www.infodefensa.com/portada-brasil.php', 'h1', 'div#article_content.article_content.story_editor'],\n",
    "    ['Defensa', 'https://www.defensa.com/', 'h1', 'div.entry-content.clearfix.e_descr'],\n",
    "    ['El Tiempo', 'https://www.eltiempo.com/', 'h1', 'div.articulo-contenido']\n",
    "]\n",
    "websites = []\n",
    "for row in siteData:\n",
    "    websites.append(Website(row[0], row[1], row[2], row[3]))"
   ],
   "metadata": {
    "collapsed": false,
    "pycharm": {
     "name": "#%%\n"
    }
   }
  },
  {
   "cell_type": "code",
   "execution_count": 4,
   "outputs": [
    {
     "name": "stdout",
     "output_type": "stream",
     "text": [
      "URL: https://www.infobae.com/america/colombia/2022/08/25/ministerio-de-defensa-evaluara-la-posibilidad-de-comprar-nuevos-aviones-para-la-fuerza-aerea/\n",
      "TITLE: Ministerio de Defensa evaluará la posibilidad de comprar nuevos aviones para la Fuerza Aérea \n",
      "BODY:\n",
      " Foto de archivo. Ministerio de Defensa evaluará la posibilidad de comprar nuevos aviones para la Fuerza Aérea colombiana. REUTERS/John VizcainoEl ministro de Defensa, Iván Velásquez, afirmó este jueves 25 de agosto que el Gobierno nacional está evaluando la posibilidad de comprar nuevos aviones para la Fuerza Aérea de Colombia. Si bien el presidente Gustavo Petro aseguró en campaña que no habría una nueva flota aérea, desde la cartera se percataron que la vida útil de algunas aeronaves está por concluir.“Es un tema que se está evaluando sobre las capacidades de la fuerza pública”, explicó el ministro en una rueda de prensa. Velásquez expuso que “hay efectivamente una vida útil ya cercana a concluir de varios de estos equipos” y a pesar de que están evaluando la situación, “lo que tiene que asegurarse es que no puede disminuir la capacidad que tiene la fuerza pública en estos momentos”, agregó.El jefe de cartera también afirmó que no solo se refiere a los aviones Kfir, sino a una valoración general de todos los equipos de la Fuerza Aérea colombiana; sin embargo, serían precisamente esas aeronaves las que tendría una vida útil hasta 2023.La Fuerza Aérea ya le entregó al Gobierno nacional un concepto con las características de los aviones con los que podrían reemplazar los Kfir y esa solicitud no solo se ha hecho en el mandato de Gustavo Petro. Los gobiernos de los expresidentes Juan Manuel Santos e Iván Duque no siguieron adelante con la compra de la flota aérea por los altos costos que representaban en el presupuesto de la nación.Suspensión de bombardeos en campamentos con menores reclutadosDurante la rueda de prensa, el ministro de Defensa también anunció cambios en la ejecución de las operaciones militares. El Gobierno nacional tomó la decisión de suspender los bombardeos a campamentos de grupos armados que pongan en riesgo a la población civil y en aquellos en los que haya presencia de menores reclutados, pues deben ser considerados víctimas del conflicto.“Los menores reclutados forzosamente por organizaciones ilegales son víctimas, son víctimas de esta violencia en la que hemos vivido por tantas décadas”, aseveró Velásquez. Asimismo, precisó que las acciones militares del Gobierno “no puede poner en peligro la vida de estas víctimas” y por eso primero deben evaluar el momento en el que se determine realizar un bombardeo.Lea también: Iván Cepeda apoya anuncio contra bombardeos para evitar víctimas colateralesPara el jefe de cartera es indispensable “privilegiar siempre la vida sobre la muerte y no se pueden desarrollar operaciones de un lado absolutamente que pongan en peligro la población civil”. Por esa razón es necesario que “no se repitan actos muy dolorosos del pasado”, dijo Velásquez y recordó algunos de los hechos que tuvieron a menores de edad de por medio en operaciones militares.El exministro de Defensa Guillermo Botero, durante el gobierno de Iván Duque, salió de la cartera luego de la denuncia de que habría ocultado información respecto a un bombardeo en San Vicente del Caguán el 2 de septiembre de 2019. En ese operativo murieron siete menores de edad entre 12 y 17 años de edad.Luego llegó al ministerio Diego Molano, quien fue cuestionado por una operación similar en Guaviare en la que habían muerto varios menores de edad en un bombardeo contra un supuesto campamento en el que había estado alias Gentil Duarte.SEGUIR LEYENDO:Ejército captura a alias Cañón, presunto integrante del Clan del Golfo acusado de secuestro en el nordeste antioqueñoExtradición de Álvaro Córdoba: abogada espera que Gustavo Petro revise un posible “vacío legal” en el trámiteGustavo Petro aseguró que se dedicarán a perseguir la corrupción y no a la oposición: “Para eso no es la inteligencia del Estado”\n"
     ]
    }
   ],
   "source": [
    "crawler.parse(websites[0],\"https://www.infobae.com/america/colombia/2022/08/25/ministerio-de-defensa-evaluara-la-posibilidad-de-comprar-nuevos-aviones-para-la-fuerza-aerea/\")"
   ],
   "metadata": {
    "collapsed": false,
    "pycharm": {
     "name": "#%%\n"
    }
   }
  },
  {
   "cell_type": "code",
   "execution_count": 5,
   "outputs": [
    {
     "name": "stdout",
     "output_type": "stream",
     "text": [
      "URL: https://www.infodefensa.com/texto-diario/mostrar/3861449/168-primicia-colombia-cotecmar-prepara-botadura-nueva-patrullera-fluvial-colombiana\n",
      "TITLE: \r\n",
      "\r\n",
      "            Cotecmar botará su nueva Patrullera de Apoyo Fluvial Ligera en septiembre\r\n",
      "\r\n",
      "        \n",
      "BODY:\n",
      " \n",
      "\n",
      "El astillero colombiano Cotecmar se encuentra en la fase  preparatoria para la botadura de la nueva Patrullera de Apoyo Fluvial Ligera  (PAF-L), de la Armada Colombiana (ARC), Esta etapa se surtirá a  mediados del próximo mes de septiembre –en aguas del puerto de Cartegana de  Indias-, luego de la cual se iniciará la fase de pruebas de aceptación de  puerto HAT (por Harbour Acceptance Trials) y posteriormente las pruebas de mar SAT (por Sea Acceptance Trials), antes de su entrega para despliegue  operacional. Diseño  incremental La nueva PAF cuenta con una serie pormenorizada  de mejoras en su diseño (de acuerdo a especificaciones técnicas ET-3240-B),  entre las que se destacan la reubicación de los camarotes de la tripulación,  así como un aumento considerable de su capacidad de almacenamiento de  suministros y carga, disponiendo además de una mayor capacidad de alojamiento  para pasajeros temporales, reduciendo adicionalmente el peso total, gracias a  cambios en varios sistemas por innovación tecnológica, logrando con ello que el  buque pueda acceder a calados menores. De igual forma se han cambiado los  motores por unos de mayor tamaño, pero conservando la eficiencia y potencia  suministrada, conservándose el sistema de control de tiro Escorpión que integra dos ametralladoras  del tipo Browning M2HB de 12.7x99 mm y otras dos del tipo US Ordnance M-60E4 de 7.62x51 milímetros.   La PAF-L  es una embarcación blindada con unas dimensiones de 30 metros de eslora, por  siete metros de manga moldeada, con puntal a primera cubierta de 3.1 metros y  un calado a máxima carga de un metro, disponiendo de hasta 12 días de  autonomía con alcances de hasta 1.560 kilómetros a velocidades de hasta 9 nudos (17.7 kilómetros por hora), contando con un tripulación de 43 oficiales,  suboficiales, marinos e infantes de marina.\n",
      " \n",
      "\n"
     ]
    }
   ],
   "source": [
    "crawler.parse(websites[1],'https://www.infodefensa.com/texto-diario/mostrar/3861449/168-primicia-colombia-cotecmar-prepara-botadura-nueva-patrullera-fluvial-colombiana')"
   ],
   "metadata": {
    "collapsed": false,
    "pycharm": {
     "name": "#%%\n"
    }
   }
  },
  {
   "cell_type": "code",
   "execution_count": 6,
   "outputs": [
    {
     "name": "stdout",
     "output_type": "stream",
     "text": [
      "URL: https://www.defensa.com/rusia/x-69-nuevo-misil-furtivo-fuerza-aerea-rusia\n",
      "TITLE: X-69, el nuevo misil furtivo de la Fuerza Aérea de Rusia\n",
      "BODY:\n",
      " Hemos conocido en Army 2022, en Moscú, el nuevo misil furtivo X-69 que está destinado a ser transportado por los cazabombarderos de la Fuerza Aérea de Rusia en sus cometidos de ataque a objetivos de alto valor.La presencia de novedades tecnológicas en el ámbito del armamento aéreo es constante para poner a punto diseños que respondan a necesidades concretas. El misil furtivo X-69 llega para complementar a otros desarrollos recientes, como el misil X-59MKM del que próximamente les hablaremos, en el difícil cometido de ser empleados de forma casi autónoma para alcanzar puntos en la superficie terrestre o en la zona costera.\n",
      "Por lo que nos han informado desde la Corporación de Misiles Tácticos JSC, que lo ha diseñado y lo fabrica, el misil furtivo X-69 es un arma que está diseñada para atacar objetivos estacionarios en superficie, incluidos aquellos que no generen emisiones radar, de firma infrarroja u óptica especial. Sólo basta con conocer las coordenadas de la posición del blanco y otros aspectos del áreas próxima.\n",
      "El misil furtivo X-69 se transportará bajo las alas de distintos tipos de cazabombarderos de la Fuerza Aérea de Rusia, aparatos que, por su tamaño, pueden llevar armas grandes y pesadas.\n",
      "Algunos detalles del misil furtivo X-69\n",
      "Lo lanzarán hacia su objetivo y el misil furtivo X-69 se desplazará a muy baja cota siguiendo unos puntos preprogramados en su sistema de control de vuelo. Su computadora admite una o varias misiones previas, lo que permite lanzarlo una vez el cazabombardero está en vuelo hacia un lugar u otro. Incluso, una vez disparado, podría recibir órdenes de cambio de objetivo.\n",
      "\n",
      "Las formas furtivas del misil X-69 están destinadas a dificultar su detección por los sistemas de Defensa antiaérea. (Octavio Díez Cámara)\n",
      "Técnicamente, sabemos que el misil furtivo X-69 que está a disposición de la Fuerza Aérea de Rusia puede ser lanzado a muy baja cota o a alturas de hasta 11 kilómetros, a velocidades que estén en un rango de entre 0,5 y 0,9 Mach y en distintas condiciones meteorológicas. Vuela, gracias a su turbina a velocidad subsónica de entre 750 y 1.000 kilómetros por hora e incluye cuatro aletas traseras para variar su rumbo y dos superiores que lo estabilizan mientras se desplaza por el aire. Su alcance varía en función de la altura desde la que se dispare, cifrándose en próximo a los 300 kilómetros.\n",
      "Otros detalles del misil furtivo X-69 son que volará a alturas de entre 50 y 300 metros, que tiene una capacidad de alta precisión con un error de sólo 5 metros, o que puede ser equipado con cabezas de combate de alta penetración o de fragmentación, pesando la primera 310 kilogramos y la segunda 300. Las dimensiones de esta nueva arma de la Fuerza Aérea Rusa, que tiene un sistema de navegación tipo NACS que combina INS, radio altímetro, sistemas electrópticos,, mide 4,19 metros de longitud, pesa 770 kilogramos y se caracteriza por una envergadura con sus alas desplegadas de 2,45 m. (Octavio Díez Cámara)\n",
      "\n"
     ]
    }
   ],
   "source": [
    "crawler.parse(\n",
    "    websites[2], 'https://www.defensa.com/rusia/x-69-nuevo-misil-furtivo-fuerza-aerea-rusia')"
   ],
   "metadata": {
    "collapsed": false,
    "pycharm": {
     "name": "#%%\n"
    }
   }
  },
  {
   "cell_type": "code",
   "execution_count": 7,
   "outputs": [
    {
     "name": "stdout",
     "output_type": "stream",
     "text": [
      "URL: https://www.eltiempo.com/colombia/otras-ciudades/turistas-holandeses-murieron-intoxicados-en-cartagena-comieron-en-bazurto-697302\n",
      "TITLE: Los últimos pasos de los holandeses que murieron intoxicados en Cartagena\n",
      "BODY:\n",
      " \n",
      "\n",
      "\n",
      "\n",
      "En manos de la Fiscalía General de la Nación están las investigaciones por las muertes de Robert Gerrit Kootte y Nienke Guri Trishna Bawa, una pareja de turistas holandeses que había arribado a Cartagena el sábado 20 de agosto.Los jóvenes holandeses habían llegado en horas de la noche a Cartagena, procedentes de Santa Marta. Y en su itinerario por el Caribe colombiano estaba incluido un viaje a San Andrés, el cual se haría el lunes 22 de agosto, pero se presentó la tragedia.Las autoridades buscan a una pareja de extranjeros que acompañó a los holandeses el domingo al mercado de Bazurto y luego a una cena en la calle del Arsenal, en el centro histórico.(En contexto: ¿De qué murieron los 2 turistas holandeses en Cartagena? Este es el parte médico\n",
      "\n",
      "\n",
      "\n",
      "Estuvieron comiendo en el mercado popular Bazurto, en compañía de dos viajeros másUna vez la pareja llegó a la ciudad se dirigió hasta el Hotel Casa del Coliseo, ubicado en la calle del Coliseo, donde tenía reserva.En las últimas horas se conoció que el día domingo, en horas de la mañana, estuvieron comiendo en el mercado popular Bazurto, en compañía de dos viajeros más, en un programa de turismo de experiencias.En horas de la noche cenaron en un restaurante llamado El Arsenal The Rum Box, propiedad del empresario Abraham Dau, hijo del alcalde de la ciudad, William Dau.\t(También: Asesinatos en Sucre: Fiscalía dice que fue por venganza y que Núñez les disparó)Pero el lunes —según un comunicado emitido por el Distrito de Cartagena— “manifestaron una emergencia\".Ese día recibieron, inicialmente, atención médica en el hotel, pero ante el grave estado de salud que presentaban fueron trasladados de urgencias a la clínica Medihelp, en Bocagrande.El lunes 22, en horas de la noche, se registró el deceso de la mujer, de 29 años; y el martes en la mañana falleció su compañero, de 31 años.“Recibimos en horas de la noche a dos pacientes de nacionalidad holandesa, los cuales fueron atendidos ante un cuadro con un compromiso importante de su estado general. La paciente de sexo femenino requirió reanimación por haber llegado con una muy severa afectación de sus respuestas vitales. Pero esa reanimación no resultó y falleció\", señaló Javier Hernández, director médico de Medihelp.Mientras tanto, Robert Gerrit Kootte fue trasladado a unidad de cuidados intensivos.\"Fue manejado toda la noche con lo pertinente un cuadro de convulsión, el cual fue evidente desde su llegada, pero lamentablemente en horas de la mañana también falleció”, añadió Hernández.Las primeras conclusiones del centro médico es que los dos turistas fallecieron por intoxicación.John Montaño Corresponsal de EL TIEMPOCartagena \n",
      "\n"
     ]
    }
   ],
   "source": [
    "crawler.parse(websites[3],'https://www.eltiempo.com/colombia/otras-ciudades/turistas-holandeses-murieron-intoxicados-en-cartagena-comieron-en-bazurto-697302')"
   ],
   "metadata": {
    "collapsed": false,
    "pycharm": {
     "name": "#%%\n"
    }
   }
  },
  {
   "cell_type": "markdown",
   "source": [
    "### Estruturando os Crawlers"
   ],
   "metadata": {
    "collapsed": false,
    "pycharm": {
     "name": "#%% md\n"
    }
   }
  },
  {
   "cell_type": "markdown",
   "source": [
    "#### Rastreando sites por meio de pesquisa"
   ],
   "metadata": {
    "collapsed": false,
    "pycharm": {
     "name": "#%% md\n"
    }
   }
  },
  {
   "cell_type": "code",
   "execution_count": 1,
   "outputs": [],
   "source": [
    "class Content:\n",
    "\t\"\"\"\n",
    "\tClasse-base comum para todos os artigos/páginas\n",
    "\t\"\"\"\n",
    "\n",
    "\tdef __init__(self, topic, url, title, body):\n",
    "\t\tself.topic=topic\n",
    "\t\tself.title=title\n",
    "\t\tself.body=body\n",
    "\t\tself.url=url\n",
    "\n",
    "\tdef print(self):\n",
    "\t\t\"\"\"\n",
    "\t\tUma função flexível de exibição controla a saída\n",
    "\t\t\"\"\"\n",
    "\t\tprint(f'Novo artigo encontrado por tópico: {self.topic}')\n",
    "\t\tprint(f\"TITLE: {self.title}\")\n",
    "\t\tprint(f'BODY: {self.body}')\n",
    "\t\tprint(f'URL: {self.url}')\n",
    "\n",
    "\n",
    "class Website:\n",
    "\t\"\"\"\n",
    "\tContém informações sobre a estrutura do site.\n",
    "\t\"\"\"\n",
    "\tdef __init__(self, name, url, searchurl, resultListing, resultUrl, absoluteUrl, titleTag, bodyTag):\n",
    "\t\tself.name=name\n",
    "\t\tself.url=url\n",
    "\t\tself.searchUrl=searchurl\n",
    "\t\tself.resultListing=resultListing\n",
    "\t\tself.resultUrl=resultUrl\n",
    "\t\tself.absoluteUrl=absoluteUrl\n",
    "\t\tself.titleTag=titleTag\n",
    "\t\tself.bodyTag=bodyTag\n",
    "\n",
    "\n",
    "import requests\n",
    "from bs4 import BeautifulSoup\n",
    "\n",
    "class Crawler:\n",
    "\tdef getPage(self, url):\n",
    "\t\ttry:\n",
    "\t\t\treq=requests.get(url)\n",
    "\t\texcept requests.exceptions.RequestException:\n",
    "\t\t\treturn None\n",
    "\t\treturn BeautifulSoup(req.text, 'html.parser')\n",
    "\n",
    "\tdef safeGet(self, pageObj, selector):\n",
    "\t\tchildObj=pageObj.select(selector)\n",
    "\t\tif childObj is not None and len(childObj) >0:\n",
    "\t\t\treturn childObj[0].get_text()\n",
    "\t\treturn ''\n",
    "\n",
    "\tdef search(self,topic, site):\n",
    "\t\t\"\"\"\n",
    "\t\tPesquisa um dado site em busca de um dado tópico e registra\n",
    "\t\ttodas as páginas encontradas\n",
    "\t\t\"\"\"\n",
    "\t\tbs=self.getPage(site.searchUrl + topic)\n",
    "\t\tsearchResults=bs.select(site.resultListing)\n",
    "\t\tfor result in searchResults:\n",
    "\t\t\turl=result.select(site.resultUrl)[0].attrs['href']\n",
    "\t\t\t# Verifica se é um URL relativo ou absoluto\n",
    "\t\t\tif (site.absoluteUrl):\n",
    "\t\t\t    bs=self.getPage(url)\n",
    "\t\t\telse:\n",
    "\t\t\t\tbs=self.getPage(site.url + url)\n",
    "\t\t\tif bs is None:\n",
    "\t\t\t\tprint('Algo aconteceu errado com a página e a URL. Pulando!!')\n",
    "\t\t\t\treturn\n",
    "\t\t\ttitle = self.safeGet(bs,site.titleTag)\n",
    "\t\t\tbody = self.safeGet(bs, site.bodyTag)\n",
    "\t\t\tif title != '' and body != '':\n",
    "\t\t\t\tcontent=Content(topic, title,body,url)\n",
    "\t\t\t\tcontent.print()"
   ],
   "metadata": {
    "collapsed": false,
    "pycharm": {
     "name": "#%%\n"
    }
   }
  },
  {
   "cell_type": "code",
   "execution_count": 4,
   "outputs": [
    {
     "name": "stdout",
     "output_type": "stream",
     "text": [
      "GETTING INFO ABOUT: python\n",
      "Novo artigo encontrado por tópico: python\n",
      "TITLE: El Grupo de Aviación N°3 de la Fuerza Aérea de Chile cumplía el 3 de agosto 94 años y alcanzaba además un importante hito: las 20.000 horas de sus cazas F-16 C/D Block 50. \n",
      "La unidad de combate más poderosa de la Fuerza Aérea de Chile, asentada en la base aérea Los Cóndores en el sector de Chucumata, al sur de la ciudad de Iquique, y dependiente de la I Brigada Aérea, comenzó a recibir sus primeros 10 aviones de combate F-16 a partir del año 2006 bajo el programa Pace Puma en 2 versiones: 6 monoplazas F-16 C Block 50 (851,852,853,854,855 y 856) y 4 biplazas F-16 D Block 50 (857,858,859 y 860), equipados con un motor General Electric F110-GE-129 y con 29.000 libras de empuje.\n",
      "Los F-16 en el Grupo de Aviación N°3\n",
      "Los biplazas F-16 D Block 50  están equipados con un radar Northrop Grumman APG-68 (v) XM que opera en la Banda I y J, además cuentan con suite de guerra electrónica AIDEWS AN/ALQ-211(v)4 la cual le entrega al avión protección ECM y ECCM. A estos cazas se les ha visto con dos tipo de Pod , uno es el pod de iluminación para ataque a superficie AN/AAQ -28 Litening II de Rafael y el pod de reconocimiento Reccelite también de Rafael.\n",
      "\n",
      "Su armamento consta de misiles aire aire de corto alcance Sidewinders AIM-9  L/M , Rafael Python IV y Python V ,misiles BVR AIM-120C5 y C7 Amraam, misiles aire-superficie AGM 65 F/G Maverick, bombas guiadas GBU-16 JDAM, bombas LGB GBU-10, GBU-12, extraoficialmente se ha sabido de la compra de bombas de guiado de precisión Rafael Spice. \n",
      "Aviones del grupo 3 participaron en la búsqueda del Hércules KC-130R  matrícula FACH 990 perdido en el mar de Drake el 9 de diciembre del 2019. Se desplegaron a la base Aérea de Chabunco 4 cazas F-16 C/D Block 50, los 852,854,856 y 859 con sus pod de reconocimiento con pocos resultados favorables ,ya que, hasta el día de hoy no hay mucha información del fatídico accidente.\n",
      "Historia del grupo de Aviación N°3 de la Fuerza Aérea de Chile\n",
      "El Grupo de Aviación N°3 de la Fuerza Aérea de Chile 3 nacía el 3 de agosto de 1928 como Grupo Mixto de Aviación N°3, enfocado a tener su base en el sur de Chile, pero iniciaba sus operación en la Base Aérea el Bosque en Santiago y a los pocos meses ya se traslada a Temuco, en el sector MAQUEHUE cerca de la estación de trenes Padre Las Casas. La unidad se trasladó en vuelo con sus aviones Vickers Vixen V, Vickers Wiblault 7 C1. \n",
      "Participó en varios puentes Aéreos para ayuda de la comunidad, como los de 1957 a isla Mocha o el puente aéreo por el gran terremoto de Valdivia en 1960, a mediado de los años 60 el Grupo 3 pasa a receso y no es hasta 1971 que el alto mando de la Fuerza Aérea de Chile decide su reactivación, pero esta vez la unidad pasaría a ser netamente de helicópteros, además en sus dependencia se crea la Escuela de Helicópteros. \n",
      "El material en su mayoría era norteamericano, como los  Bell UH-1D/H y algunos Hiller, más un avión de enlace Cessna L-19, con ello esta nueva unidad enfrento la crisis vecinal con el Perú y luego con Argentina con sus Huey artillados con armamento proveniente de los T-33,F80 y B26. En 1978 se incorpora helicópteros SA-315B Lamas, luego de la crisis vecinal de 1978 con argentina, el Grupo 3 pasa a receso, pero en 1980 con la llegada pronta del ENAER/CASA T-36 Halcon y algunos aviones Cessnas A-37 Dragonfly se reactiva en la base Aérea Los Condores de Iquique.\n",
      "Esto no duro mucho y nuevamente el Grupo pasa a receso, hasta el año 1992 cuando nuevamente se reactiva con 6 aviones Cessnas A-37B Dragonfly ex grupo 12 y en espera de la llegada de 10 OA-37B Dragonfly. En 1997 recibe los ENAER/CASA A-36 CC y  Dragonfly es redestinado al grupo 12 en Punta Arenas. \n",
      "\n",
      "En 2003 nuevamente pasa a desactivación y su A-36 CC modernizado al nivel Toqui pasan al grupo 1. Y así llegamos a 2006, en que bajo el programa Pace Puma llegan los F-16 y el Grupo 3 nuevamente es reactivado hasta nuestros días en la nortina ciudad de Iquique. \n",
      "Con el paso del tiempo el grupo 3 ha operado aviones Vickers Vixen V, Vickers Wiblault 7 C1, Curtiss D-12 Falcon, de Havilland DH-60G Gipsy Moth,Arado AR-95 A/B, Faichild PT-19, North American AT-6 C/D Texan, Vultee BT-13 A/B Valiant, Cessna L-19A, Cessna A-37B y OA-37B Dragonfly, Enaer/Casa A-36 Halcon, F-16 C/D Block 50, Helicopteros Bell-47 D1, Hiller UH-12E/SL4 Raven, Bell UH-1 D/H Iroquois, Aeropastiale SA-315 B Lama, MBB BO-105 CB-4 (Javier Muñoz)\n",
      "\n",
      "BODY: /chile/grupo-aviacion-n3-unidad-combate-mas-poderosa-fuerza-aerea-chile\n",
      "URL: Grupo de Aviación N°3, la unidad de combate más poderosa de la Fuerza Aérea de Chile \n",
      "GETTING INFO ABOUT: colombia\n",
      "Novo artigo encontrado por tópico: colombia\n",
      "TITLE: Tras las declaraciones de Gustavo Petro, presidente de Colombia, y su negativa durante la campaña electoral a invertir en la compra de aviones de combate, el actual ministro de Defensa Iván Velásquez, ha dejado entrever que se estaría analizando la adquisición de nuevos aviones de combate para la Fuerza Aérea Colombiana que remplacen a los ya obsoletos Kfir. \n",
      "Este proyecto lo había dejado muy adelantado en su momento Iván Duque, tras haber logrado dejar firmado el documento Conpes y  Confis, necesarios para demostrar la viabilidad técnica y económica de este tipo de adquisiciones que comprometen vigencias futuras cercanas a los 3.000 millones de dólares y que se destinarían a fortalecer todas las Fuerzas Militares.\n",
      "El ministro manifestó que: es un tema que se está evaluando sobre las capacidades de la Fuerza Pública, en el equipamiento hay efectivamente una vida útil ya cercana a concluir de varios de estos equipos, estamos en la evaluación, pero lo que tiene que asegurarse es que no puede disminuir la capacidad que tiene la Fuerza Pública en estos momentos, es un proceso, estamos en esa valoración precisamente, y no solo con los Kfir\n",
      "De esta manera se abre una posible negociación que buscaría dotar a la Fuerza Aérea Colombiana de, al menos, 12 aviones de superioridad aérea, existiendo un estudio realizado por parte del anterior comandante de la institución el cual habría sido dado a conocer al equipo de empalme del Ministerio de Defensa días antes de que Gustavo Petro se posesionara como presidente de Colombia.\n",
      "Los Kfir llegaron a la Fuerza Aérea Colombiana en 1989 en versiones C-2 como complemento de los Mirage 5, siendo modernizados en Colombia a la versión C-7, posteriormente, tras darse de baja los aviones franceses, se adquirieron nuevas unidades Kfir en el 2008, modernizando la flota en las versiones C-12 y C-10, este último con radares Elta EL/M 2032 y EL/M2052 AESA, siendo importante resaltar que todas las células recibidas eran usadas y que actualmente con más 30 años en servicio, el mantenimiento y la operatividad de estos aviones de combate se ha visto afectada por la poca disponibilidad de repuestos. (Carlos Vanegas, corresponsal de Grupo Edefa en Colombia)\n",
      "\n",
      "BODY: /colombia/gustavo-petro-estaria-analizando-sustituir-kfir-fuerza-aerea\n",
      "URL: Gustavo Petro estaría analizando sustituir los Kfir de la Fuerza Aérea Colombiana\n"
     ]
    }
   ],
   "source": [
    "# Executando o Crawler\n",
    "\n",
    "crawler = Crawler()\n",
    "\n",
    "siteData = [\n",
    "\n",
    "\t    ['Infodefensa', 'https://www.defensa.com' ,'https://www.defensa.com/search/',\n",
    "\t     'div#main-content.archive-list.mh-section.mh-group','h3.content-list-title.e_titul a', False, 'h1', 'div.entry-content.clearfix.e_descr']\n",
    "     ]\n",
    "sites = []\n",
    "for row in siteData:\n",
    "    sites.append(Website(row[0], row[1], row[2],\n",
    "                         row[3], row[4], row[5], row[6], row[7]))\n",
    "\n",
    "topics = ['python', 'colombia']\n",
    "for topic in topics:\n",
    "    print('GETTING INFO ABOUT: ' + topic)\n",
    "    for targetSite in sites:\n",
    "        crawler.search(topic, targetSite)"
   ],
   "metadata": {
    "collapsed": false,
    "pycharm": {
     "name": "#%%\n"
    }
   }
  },
  {
   "cell_type": "markdown",
   "source": [
    "### Rastreando sites por meio de links"
   ],
   "metadata": {
    "collapsed": false,
    "pycharm": {
     "name": "#%% md\n"
    }
   }
  },
  {
   "cell_type": "code",
   "execution_count": 12,
   "outputs": [],
   "source": [
    "class Website:\n",
    "\n",
    "    def __init__(self, name, url, targetPattern, absoluteUrl, titleTag, bodyTag):\n",
    "        self.name = name\n",
    "        self.url = url\n",
    "        self.targetPattern = targetPattern\n",
    "        self.absoluteUrl = absoluteUrl\n",
    "        self.titleTag = titleTag\n",
    "        self.bodyTag = bodyTag\n",
    "\n",
    "\n",
    "class Content:\n",
    "\n",
    "    def __init__(self, url, title, body):\n",
    "        self.url = url\n",
    "        self.title = title\n",
    "        self.body = body\n",
    "\n",
    "    def print(self):\n",
    "        print('URL: {}'.format(self.url))\n",
    "        print('TITLE: {}'.format(self.title))\n",
    "        print('BODY:\\n{}'.format(self.body))\n",
    "\n",
    "import re\n",
    "\n",
    "\n",
    "class Crawler:\n",
    "    def __init__(self, site):\n",
    "        self.site = site\n",
    "        self.visited = []\n",
    "\n",
    "    def getPage(self, url):\n",
    "        try:\n",
    "            req = requests.get(url)\n",
    "        except requests.exceptions.RequestException:\n",
    "            return None\n",
    "        return BeautifulSoup(req.text, 'html.parser')\n",
    "\n",
    "    def safeGet(self, pageObj, selector):\n",
    "        selectedElems = pageObj.select(selector)\n",
    "        if selectedElems is not None and len(selectedElems) > 0:\n",
    "            return '\\n'.join([elem.get_text() for elem in selectedElems])\n",
    "        return ''\n",
    "\n",
    "    def parse(self, url):\n",
    "        bs = self.getPage(url)\n",
    "        if bs is not None:\n",
    "            title = self.safeGet(bs, self.site.titleTag)\n",
    "            body = self.safeGet(bs, self.site.bodyTag)\n",
    "            if title != '' and body != '':\n",
    "                content = Content(url, title, body)\n",
    "                content.print()\n",
    "\n",
    "    def crawl(self):\n",
    "        \"\"\"\n",
    "        Get pages from website home page\n",
    "        \"\"\"\n",
    "        bs = self.getPage(self.site.url)\n",
    "        targetPages = bs.findAll('a', href=re.compile(self.site.targetPattern))\n",
    "        for targetPage in targetPages:\n",
    "            targetPage = targetPage.attrs['href']\n",
    "            if targetPage not in self.visited:\n",
    "                self.visited.append(targetPage)\n",
    "                if not self.site.absoluteUrl:\n",
    "                    targetPage = '{}{}'.format(self.site.url, targetPage)\n",
    "                self.parse(targetPage)"
   ],
   "metadata": {
    "collapsed": false,
    "pycharm": {
     "name": "#%%\n"
    }
   }
  },
  {
   "cell_type": "code",
   "execution_count": 14,
   "outputs": [
    {
     "name": "stdout",
     "output_type": "stream",
     "text": [
      "URL: https://www.infodefensa.com//texto-diario/mostrar/3865479/espana-promete-enviar-material-ucrania-septiembre-criticas-embajador\n",
      "TITLE: \r\n",
      "\r\n",
      "            España promete enviar material a Ucrania en septiembre tras las criticas del embajador\r\n",
      "\r\n",
      "        \n",
      "BODY:\n",
      "\n",
      "\n",
      "El caos informativo continúa empañando la colaboración  española con el pueblo ucraniano frente a la invasión rusa. Tras el fiasco de los Leopard, cuyo envío no fue posible por su “lamentable” estado, según la  propia ministra de Defensa, Margartita Robles, y las críticas del PP al  Gobierno por ser el “hazmerreír” del mundo precisamente por esta cuestión, se  une ahora el desmentido del embajador de Ucrania en España, Serhii Pohoreltsev,  sobre el envío de material desvelado por Robles esta semana durante su visita  al Ala 35 y las críticas por la lentitud de la colaboración española.Pohoreltsev ha asegurado que España no envía material a Ucrania desde el pasado mes de mayo, cuando se  mandaron raciones de combate. Los dos envíos a Polonia a los que se refirió la ministra en la base aérea de Getafe parecen haber sido únicamente de material  humanitario, no militar, que es lo que demanda Ucrania, si bien agradece  cualquier tipo de ayuda. En este sentido, es de recordar que el embajador  presentó en su momento una lista de necesidades al Ministerio que incluye obuses  de 155 milímetros y morteros de 120 milímetro de fabricación nacional. Esa  lista, según Pohoreltsev, ha sido enviada “varias veces” al Gobierno español, a  lo que añadió: “No podemos decir que estamos  satisfechos”.Desde el Ministerio, se ha explicado su prudencia a la hora de gestionar información “por estrictas razones de seguridad, y otras que afectan a otros países”. En este sentido, desde el Gobierno se ha insistido en que “España siempre ha actuado y seguirá haciéndolo en coordinación con los países de la Alianza Atlántica, UE y con el Grupo de Donantes, integrado por 45 países”. España responde con una promesa de material La respuesta formal del Ministerio a la crítica ucraniana ha llegado en forma de nota de  prensa donde se asegura el compromiso de España con la OTAN y con Ucrania es  firme y se señala una serie de material que ya está disponible, en parte, para  su envío el próximo mes de septiembre.La lista está compuesta por munición de  artillería, en concreto 17 pallets de un metro cúbico con más de 1.000 disparos  completos. Su envío se realizará en colaboración con un tercer país aliado hasta  el lugar que determinen las autoridades ucranianas a primeros de septiembre.También se enviarán, una vez se finalicen los trámites pertinentes por lo que  no hay fecha, vehículos TOA APC M-113 (transporte de personal)  en buen estado  según el Ministerio tras una puesta a punto industrial.Además, aunque tampoco  se reseña la fecha de entrega, Defensa ha preparado una batería antiaérea de  punto y misiles, todo en situación de plena operatividad y con el extra de que  España se ofrece a adiestrar a los ucranianos en su uso y mantenimiento.Tampoco tiene fecha pero se ha autorizado la adquisición por 2,5 millones de euros  de 1.000 toneladas de gasoil para su entrega a Ucrania.Lo que si tiene límite, por la cercanía del invierno, es el envío de vestuario y equipamiento invernal  en respuesta a una solicitud del Gobierno ucraniano. España mandará en septiembre  1.600 pallets con 30.000 uniformes de campaña para el frío, 15.600 chaquetones,  15.000 trajes de intemperie y varios miles de prendas de vestuario y abrigo  complementarias.  España, asimismo, se está coordinando con un país aliado  para preparar adiestradores que preparen a las fuerzas ucranianas, una tarea  que el Gobierno confía en que se incluirá en una futura misión de la UE si  finalmente sale adelante.\n",
      " \n",
      "\n",
      "URL: https://www.infodefensa.com//texto-diario/mostrar/3864288/robles-anuncia-interes-ucraniano-comprar-espana-carros-modernos\n",
      "TITLE: \r\n",
      "\r\n",
      "            ​Robles desvela el interés ucraniano en comprar a España carros de combate \"nuevos\"\r\n",
      "\r\n",
      "        \n",
      "BODY:\n",
      "\n",
      "\n",
      "La ministra de Defensa, Margarita Robles, ha desvelado que el Gobierno ucraniano quiere comprar carros de combate “nuevos y modernos” a España y otros países de la UE tras el fiasco de los Leopard de Zaragoza, cuyo “lamentable” estado, según la propia ministra, imposibilitó el envío de los mismos a Ucrania.El Ejecutivo que dirige Volodímir Zelenski necesita sustituir unos carros totalmente desfasados y fuera de los estándares de la OTAN, para poder seguir haciendo frente a Rusia ante el recrudecimiento de los combates con armas pesadas en el este y sur del país, en una guerra que los servicios de inteligencia europeos prevén larga, dura y muy cruel.España, además, se ha ofrecido para formar a los militares ucranianos en el uso de esos carros en Letonia o incluso en territorio nacional.Robles, en su intervención en Getafe. Foto: Ministerio de Defensa. La ministra anunció el interés ucraniano en carros españoles en respuesta a una serie de interpelaciones realizadas en el Senado por el PP, que ha acusado a Robles de convertir a España en el “hazmerreír” internacional tras el envío fallido de los Leopard.La ministra contestó al PP acusándolo de “desconocer lo que es el sentido de Estado y el funcionamiento del envío de armas en una guerra como la que estamos viviendo, porque España no actúa sola sino con la OTAN”.La titular de la cartera de Defensa recordó a los populares la necesidad de actuar con la máxima prudencia y discreción y no ser tan frívolo”. También acusó al PP de faltar al respeto a las Fuerzas Armadas. Visita al Ala 35 Robles realizó estas declaraciones en una visita al Ala 35 del Ejército del Aire y del Espacio, situada en la base aérea de Getafe (Madrid), donde conoció de mano del jefe de la base, coronel Carlos Sánchez, las capacidades la unidad, las operaciones actuales de las que forma parte (Destacamento Marfil en Dakar-Senegal en apoyo a Mali), y las últimas misiones en las que han intervenido, tanto en territorio nacional como en el exterior.El Ala 35 tiene como funciones principales el transporte de pasajeros y carga, operaciones especiales y evacuación médica, y para ello cuenta con 13 aviones T-21 (Airbus C-295) y una plantilla de unas 650 personas, de las que 592 son militares, de ellos un 16,8% son mujeres.  Robles, en una muestra de material del Ala 35 Foto: Ministerio de Defensa.Envíos de material a Ucrania y aeroevacuacionesEn las últimas semanas, la unidad ha realizado siete misiones, dos de ellas aeroevacuaciones, a Polonia para llevar material y traer pasajeros y niños enfermos ucranianos, y también llevaron a cabo el traslado de un enfermo con el virus de Congo Crimea, desde León a San Sebastián. La última evacuación médica que realizaron fue en territorio nacional, el pasado 15 de agosto, un traslado urgente de un niño de cinco días desde Palma de Mallorca a Barcelona. Muchas misiones y muchos traslados que se traducen en horas de vuelo: “Esperamos acabar el año con unas 4.200 horas”, señaló el coronel, una cifra que está dentro de la media de otros años, exceptuando el pasado año donde se llegó casi a las 5.000 horas de vuelo.Robles, en su visita al Ala 35 posa junto al personal de la base de Getafe. Foto: Ministerio de Defensa.\n",
      " \n",
      "\n",
      "URL: https://www.infodefensa.com//texto-diario/mostrar/3840378/guerra-ucrania-impulsara-reemplazo-260-helicopteros-origen-ruso-europa\n",
      "TITLE: \r\n",
      "\r\n",
      "            La guerra en Ucrania impulsará el reemplazo de 260 helicópteros de origen ruso en Europa\r\n",
      "\r\n",
      "        \n",
      "BODY:\n",
      "\n",
      "\n",
      "Once países  de Europa central y del este cuentan en sus arsenales con más de 263  helicópteros de origen ruso que, como consecuencia de la guerra de Ucrania, resultarán  muy complicados de mantener. En estas circunstancias, las fuerzas armadas de  estas naciones encaran la necesidad de acabar sustituyéndolos por modelos desarrollados  en otros países. En concreto,  el reparto de esta flota por países queda así: Bosnia y Herzegovina cuenta con  una docena de helicópteros Mi-8 y un Mi-17; Bulgaria dispone de 6 Mi-24 y 5 Mi-17; Croacia cuenta con 14 Mi-8  y 10 Mi-171Sh; Chipre posee 11 Mi-35P; Eslovaquia cuenta con 13 Mi-17, junto a un número superior a los 15  Mi-24 almacenados; Hungría opera 8 Mi-24, 5 Mi-17 y suma a su inventario otros diez Mi-8 ahora almacenados; Letonia cuenta con 3 Mi-8; Macedonia del Norte dispone de media docena de Mi-8, dos Mi-17, dos Mi-24 y ocho Mi-24 (estos últimos están almacenados);  Polonia dispone de 28 helicópteros Mi-24,  22 Mi-8, 8 Mi-14 navales y 17 Mi-17;  la República Checa dispone de 16 Mi-171S,  10 Mi-35P, 7 Mi-24, 5 Mi-17 y cuatro Mi-8, y Serbia cuenta, finalmente, con 8  Mi-8, 6 Mi-17, cuatro Mi-35M y  dos Mi-24. Este balance  ha sido recogido por el medio polaco especializado Defence24, en una pieza en la que se da cuenta de las dificultades  para obtener piezas de Rusia con las que mantener estas aeronaves en el aire,  como consecuencia a largo plazo de la guerra en Ucrania. Hay que tener en  cuenta, además, que la demanda de nuevos helicópteros puede incrementarse por  encima de la mera sustitución de los actualmente existentes, dado los  incrementos en los esfuerzos de defensa que se están produciendo en la zona  como consecuencia también de la invasión que Rusia inició de Ucrania el pasado  24 de febrero. Industria polaca A los once  países citados hay que sumar además Ucrania, que lógicamente se verá forzada a  prescindir en el futuro de la flota de helicópteros postsoviéticos con los que  todavía cuenta (junto con los del mismo tipo que está recibiendo de otros  países para continuar su esfuerzo bélico frente a Moscú). La información  de Defence24 destaca singularmente  las previsiones para las plantas polacas de helicópteros PZL- Świdnik,  propiedad de la firma italiana Leonardo  Helicopters, y PZLMielec, propiedad  de la estadounidense Lockheed Martin.\n",
      " \n",
      "\n",
      "URL: https://www.infodefensa.com//texto-diario/mostrar/3848178/espana-tramita-entrega-veintena-blindados-toa-m113-ucrania\n",
      "TITLE: \r\n",
      "\r\n",
      "            ​España tramita la entrega de una veintena de blindados TOA M113 a Ucrania\r\n",
      "\r\n",
      "        \n",
      "BODY:\n",
      "\n",
      "\n",
      "El Ministerio de Defensa español ha comenzado a tramitar la entrega a Ucrania de una veintena de veteranos blindados Transporte Oruga Acorazados (TOA) M-113 de la versión de transporte de personal del Ejército de Tierra. El envío de este lote de blindados es una de las opciones que están sobre la mesa desde hace semanas para apoyar a las Fuerzas Armadas ucranianas en los combates con el Ejército ruso en el este del país, como publicó Infodefensa.com. Junto con los TOA, Defensa abrió la puerta a la entrega también de Leopard, si bien, finalmente los carros no se enviarán al estar en “una situación absolutamente lamentable”, según confirmó esta misma semana la ministra de Defensa, Margarita Robles. Después de analizar los pormenores de la operación, la fórmula elegida para la entrega de los M113 será la donación, según publica el diario El País. Fuentes diplomáticas consultadas por Infodefensa.com son más prudentes, y para evitar una situación similar a la de los Leopard, que después de todo no llegarán a Ucrania, apuntan a que no hay nada firmado aún, “la situación no está clara”.  Los M113, conocidos como TOA (Transporte Oruga Acorazado), llevan décadas en servicio en el Ejército de Tierra. Las primeras unidades llegaron a finales de los años 60 fruto de los acuerdos militares con Estados Unidos, primero para la entonces División Acorazada Brunete y, con posterioridad, se ha generalizado su uso en el seno de las unidades de Infantería, Caballería, Artillería o Ingenieros. Debido a su antigüedad y el uso intenso, Tierra ha llevado a cabo en los últimos años programas de actualización para mantener la flota operativa. De forma paralela, existe un plan ya en marcha para la retirada de una parte de los TOA, como publicó Infodefensa.com. En total, el Ejército cuenta con unas 1.250 unidades de M113 y la idea es dar de baja aproximadamente la mitad. La retirada será progresiva, siendo reemplazados por el Vehículo de Combate sobre Ruedas (VCR) 8x8 Dragón, del que el Ejército de Tierra recibirá las primeras unidades este mismo año. La opción que gana fuerza es entregar a Ucrania la versión de transporte, aunque no está descartado que en el lote entren otras variantes. Algunas fuentes incluso afirman que Ucrania ha solicitado unidades de la versión equipada con mortero de 120 mm, desplegada por el Ejército en la misión de la OTAN en Letonia. Reunión con el embajador El pasado miércoles, Robles mantuvo una reunión con el embajador de Ucrania en España, Serhii Pohoreltsev. El representante del Gobierno de Volodimir Zelenski reiteró a la ministra que las Fuerzas Armadas ucranianas necesitan más armamento, si bien Robles no hizo ningún anuncio, tan solo afirmó que el departamento prepara el envío de material de abrigo para los soldados. Pohoreltsev aseguró que el Ministerio de Defensa tiene la lista de armamento que necesita Ucrania y lanzó un mensaje: “Si uno quiere ayudar siempre encuentra una forma de hacerlo”. Esa lista incluye en las primeras posiciones misiles y cohetes como el Himars, entregado por Estados Unidos, que está siendo muy eficaz para frenar la ofensiva rusa. España poco puede aportar en este ámbito. El Ejército perdió hace más de una década la capacidad cohete, con la baja del Teruel, y la defensa antiaérea basada en misiles está en una situación delicada, con varios sistemas cerca de la baja o pendientes de actualización, tras quedar en segundo plano en las inversiones en modernización de los últimos años.  Defensa, en este caso, ha ofrecido una batería de misiles antiaéreos Aspide de baja cota, del fabricante europeo MBDA, un sistema al final de su vida útil en servicio en el Escuadrón de Apoyo al Despliegue Aéreo (EADA) del Ejército del Aire.\n",
      " \n",
      "\n",
      "URL: https://www.infodefensa.com//texto-diario/mostrar/3846107/embajador-ucrania-insiste-robles-necesitamos-armas-lista-esta-disposicion-ministerio\n",
      "TITLE: \r\n",
      "\r\n",
      "            ​El embajador de Ucrania insiste a Robles: \"Necesitamos más armas, la lista está a disposición del ministerio\"\r\n",
      "\r\n",
      "        \n",
      "BODY:\n",
      "\n",
      "\n",
      "El embajador ucraniano en España, Serhii  Pohoreltsev, ha insistido este miércoles una vez más en una reunión con la  ministra de Defensa, Margarita Robles, que las Fuerzas Armadas ucranianas  siguen necesitando más armamento para hacer frente a la invasión rusa. “La lista está a disposición del ministerio”,  destacó Pohoreltsev en declaraciones a los medios tras el encuentro con la  ministra en la embajada de Ucrania en Madrid. Ni Robles ni el embajador quisieron  dar detalles sobre el material español que podría llegar a Ucrania en las  próximas semanas.  Robles ayer martes ya descartó la entrega de los carros Leopard 2A4 almacenados en una base militar cercana a Zaragoza. El  embajador, sobre este asunto, comentó que “no es el momento de hablar detalladamente,  pero hay cosas que se pueden conseguir pronto”. Además, lanzó en mensaje: “Si uno  quiere ayudar siempre encuentra una forma de hacerlo”. Sobre los contactos con  Defensa, Pohoreltsev explicó que “estamos trabajando muy estrechamente con el  equipo del ministerio y esperamos tener más éxito en el apoyo militar en el suministro  del material bélico”. Y subrayó: “Esperamos ver resultados muy pronto”. Foto: Ministerio de DefensaEl diplomático detalló también que la  situación es muy complicada en Ucrania. “Lamentablemente el enemigo nos supera  en la cantidad de armamento y efectivos. Hay que lograr igualar el nivel de  armamento de las Fuerzas Armadas rusas”. Por ello, remarcó, “necesitamos más  armas, estamos agradecidos con el material entregado por España, pero seguimos  necesitando más y más”. Material de abrigo para el invierno Robles aseguró, sin poner fecha, que el  ministerio prepara un envío de material de abrigo para las Fuerzas Armadas  ucranianas de cara al invierno que, resaltó, será “muy duro”. Esta fue la única  mención a material. La ministra afirmó que España continuará  con la entrega de armamento, eso sí, “dentro de nuestras posibilidades”, dijo  hasta en dos ocasiones. También dio a conocer que prácticamente todas las  semanas hay reuniones técnicas en el ministerio con personal de la embajada de  Ucrania para ver en qué puntos se puede avanzar y, como en otras ocasiones, señaló  que las entregas y la decisión sobre el material a enviar se efectuará “con la  máxima prudencia y discreción”. España es uno de los pocos países de la  OTAN que todavía no ha entregado o ha comprometido armamento pesado a Ucrania y  está entre los países aliados que ha enviado menos material desde el inicio de  la guerra el pasado mes de febrero. La última entrega se produjo hace tres meses,  a principios de mayo.\n",
      " \n",
      "\n",
      "URL: https://www.infodefensa.com//texto-diario/mostrar/3845044/espana-da-marcha-atras-cancela-entrega-carros-leopard-ucrania\n",
      "TITLE: \r\n",
      "\r\n",
      "            ​España da marcha atrás y cancela la entrega de carros Leopard a Ucrania\r\n",
      "\r\n",
      "        \n",
      "BODY:\n",
      "\n",
      "\n",
      "España no enviará al final carros de combate Leopard 2A4  a Ucrania. La ministra de Defensa, Margarita Robles, ha informado este martes  de que el departamento que dirige ha descartado la entrega a las autoridades de  Kiev de parte de los carros almacenados en la base de Casetas, cercana a  Zaragoza, después de verificar el “lamentable” estado en el que están estos vehículos. La titular de Defensa afirmó que estos carros llevan bastantes años en desuso y están muy deteriorados,  durante una visita a la Unidad Médica de Aeroevacuación (Umaer) en la base aérea  de Torrejón de Ardoz (Madrid).  Robles explicó que “estamos hoy viendo todas las  posibilidades, pero ya le puedo decir que los Leopard que no se usan en  Zaragoza desde hace muchos años no es posible (enviarlos a Ucrania) porque están en una  situación absolutamente lamentable”, recoge Servimedia. E insistió: “Ha habido  los exámenes correspondientes y están en unas condiciones que no se pueden  utilizar. No los podemos dar porque serían un riesgo para las personas”. Como publicó Infodefensa.com, Defensa se abrió hace  unas semanas a estudiar el envío de un lote de una decena de Leopard de los que se encuentran en desuso en las instalaciones zaragozanas, tras solicitar  Ucrania en repetidas ocasiones una mayor implicación de España en la entrega de  material ofensivo. Incluso una comisión formada por militares españoles,  asesores ucranianos y representantes de empresas que podrían participar en la puesta punto llegó a visitar los carros. Carro Leopard. Foto: Archivo Reunión con el embajador ucraniano La ministra mantendrá mañana miércoles un encuentro en  la sede de la Embajada de Ucrania en Madrid con su embajador, Serhii  Pohoreltsev. Uno de los temas que estará sin duda sobre la mesa será  precisamente el envío de armamento español a Ucrania para hacer frente al  Ejército ruso. España es uno de los países de la OTAN que menos material ha facilitado hasta la fecha.Tras descartarse la  entrega de Leopard, hay otras opciones que continúan abiertas entre las que se encuentra facilitar al Ejército ucraniano vehículos blindados de transporte de personal M113 del Ejército de Tierra.\n",
      " \n",
      "\n",
      "URL: https://www.infodefensa.com//texto-diario/mostrar/3844872/infanteria-marina-quiere-nuevo-sistema-contracarro-alcance-hasta-800-metros\n",
      "TITLE: \r\n",
      "\r\n",
      "            ​La Infantería de Marina quiere un nuevo sistema contracarro con alcance de hasta 800 metros\r\n",
      "\r\n",
      "        \n",
      "BODY:\n",
      "\n",
      "\n",
      "La Infantería de Marina apuesta por la adquisición de  un nuevo sistema contracarro, con un alcance de hasta los 800 metros, para  incrementar la protección de las unidades que componen la fuerza de desembarco. La defensa contracarro está basada en la actualidad en  el misil Spike, en servicio en los batallones, con una capacidad de actuación  de hasta 4.000 metros. La unidad busca un sistema para hacer frente a amenazas más  próximas, es decir, para la conocida defensa inmediata, que quedó coja con la  baja hace unos años del sistema Dragón.  La Infantería de Marina trabaja en la actualidad en el  pliego de prescripciones del contrato y estudia las capacidades que deberá  tener el futuro sistema que irá integrado en las unidades de fusiles.  El general de división Rafael Roldán, comandante jefe  del cuerpo, detalla en una reciente entrevista a Infodefensa.com lo que quiere la  unidad. “Sobre todo, buscamos un sistema que sea fiable, robusto, que tenga un  buen sistema de puntería duradero y que proporcione una visión de día y de  noche. Y luego que tenga una variedad de municiones que permita desde abatir un  blanco, hasta entrar en un edificio, crear una cortina de humo o actuar contra  personal. Eso es lo que estamos buscando”, explica. El general matiza que “no  hay un modelo definido”. Respecto al alcance, concreta, “nos movemos en un margen  de 600-800 metros”.  Un simulador, clave Entre los requisitos, la Infantería de Marina también  considera fundamental que el sistema disponga de un simulador de última  generación para facilitar el adiestramiento y preparación. Roldán destaca que “en la simulación se ven los  efectos del apuntador o si ha seleccionado bien el objetivo. No solo buscamos  comprar un arma, también queremos un sistema de simulación que sea muy bueno  para abaratar el coste de adiestramiento y, sobre todo, el gasto de munición”.  En este caso, el espejo en el que se mira la unidad es  el simulador del misil Spike que permite adiestrar a los tiradores con un  reducido coste. El sistema de entrenamiento deberá permitir adiestrar al personal  en interior y en exterior, tanto en las instalaciones de la Infantería de  Marina como en el campo de maniobras, una vez desplegada la fuerza. \n",
      " \n",
      "\n",
      "URL: https://www.infodefensa.com//texto-diario/mostrar/3844872/infanteria-marina-quiere-nuevo-sistema-contracarro-alcance-hasta-800-metros#comments\n",
      "TITLE: \r\n",
      "\r\n",
      "            ​La Infantería de Marina quiere un nuevo sistema contracarro con alcance de hasta 800 metros\r\n",
      "\r\n",
      "        \n",
      "BODY:\n",
      "\n",
      "\n",
      "La Infantería de Marina apuesta por la adquisición de  un nuevo sistema contracarro, con un alcance de hasta los 800 metros, para  incrementar la protección de las unidades que componen la fuerza de desembarco. La defensa contracarro está basada en la actualidad en  el misil Spike, en servicio en los batallones, con una capacidad de actuación  de hasta 4.000 metros. La unidad busca un sistema para hacer frente a amenazas más  próximas, es decir, para la conocida defensa inmediata, que quedó coja con la  baja hace unos años del sistema Dragón.  La Infantería de Marina trabaja en la actualidad en el  pliego de prescripciones del contrato y estudia las capacidades que deberá  tener el futuro sistema que irá integrado en las unidades de fusiles.  El general de división Rafael Roldán, comandante jefe  del cuerpo, detalla en una reciente entrevista a Infodefensa.com lo que quiere la  unidad. “Sobre todo, buscamos un sistema que sea fiable, robusto, que tenga un  buen sistema de puntería duradero y que proporcione una visión de día y de  noche. Y luego que tenga una variedad de municiones que permita desde abatir un  blanco, hasta entrar en un edificio, crear una cortina de humo o actuar contra  personal. Eso es lo que estamos buscando”, explica. El general matiza que “no  hay un modelo definido”. Respecto al alcance, concreta, “nos movemos en un margen  de 600-800 metros”.  Un simulador, clave Entre los requisitos, la Infantería de Marina también  considera fundamental que el sistema disponga de un simulador de última  generación para facilitar el adiestramiento y preparación. Roldán destaca que “en la simulación se ven los  efectos del apuntador o si ha seleccionado bien el objetivo. No solo buscamos  comprar un arma, también queremos un sistema de simulación que sea muy bueno  para abaratar el coste de adiestramiento y, sobre todo, el gasto de munición”.  En este caso, el espejo en el que se mira la unidad es  el simulador del misil Spike que permite adiestrar a los tiradores con un  reducido coste. El sistema de entrenamiento deberá permitir adiestrar al personal  en interior y en exterior, tanto en las instalaciones de la Infantería de  Marina como en el campo de maniobras, una vez desplegada la fuerza. \n",
      " \n",
      "\n",
      "URL: https://www.infodefensa.com//texto-diario/mostrar/3867806/eurofighter-espanoles-regresan-baltico-otan\n",
      "TITLE: \r\n",
      "\r\n",
      "            Los Eurofighter españoles regresan al Báltico con la OTAN\r\n",
      "\r\n",
      "        \n",
      "BODY:\n",
      "\n",
      "\n",
      "Cuatro cazas Eurofighter del Ejército del Aire español acaban de incorporarse a la misión de Policía Aérea en el Báltico (BAP, por sus siglas en inglés) de la OTAN. Los aviones de combate y un destacamento de más de 60 militares operarán durante prácticamente un mes desde la base aérea de Amari, junto con Eurofighter alemanes al mando desde agosto de esta operación aliada.El conocido como destacamento aéreo táctico Ámbar estará bajo operativo del Mando de Operaciones (MOPS). Está formado por 67 personas, al mando del comandante Miguel Ángel López García, procedentes principalmente del Ala 14, situada en la base aérea de Los Llanos (Albacete).También hay presencia de personal del Grupo Móvil de Control Aéreo (Grumoca), del Segundo Escuadrón de Apoyo al Despliegue Aéreo (Seada), del Centro de Informática de Gestión (Ciges), del Centro de Sistemas y Tecnologías de la Información y las Comunicaciones (Cestic), del Centro Logístico de Armamento y Experimentación (Claex), de la Agrupación del Cuartel General del Aire o del Grupo de Escuelas de Matacán (Gruema), además de otros que han apoyado logísticamente al despliegue.Eurofighter españoles y alemanes, juntosEl Estado Mayor de la Defensa (Emad) señala que \"los aviones españoles y alemanes entrenarán para realizar de forma combinada operaciones de alerta de reacción rápida con tripulaciones mixtas, interceptando e identificando aeronaves que no cumplan con los requisitos de identificación necesarios por los sistemas de control de tráfico aéreo en espacio aéreo aliado\".Y añade: \"Con este trabajo conjunto se trata de asegurar el éxito de la interoperabilidad de los sistemas de armas avanzados de los países aliados. Se establecen procedimientos, técnicas y tácticas que permiten una activación rápida multinacional de Eurofighter a disposición de la OTAN para preservar la seguridad del espacio aéreo de la Alianza\".En esta ocasión, continua, se realiza la operación y el sostenimiento de los Eurofighter de manera combinada con Alemania, compartiendo recursos, como adelantó Infodefensa.com.\"La participación de las FAS españolas en esta operación demuestra su capacidad de proyección, responsabilidad, solidaridad y el compromiso con la defensa colectiva y la seguridad compartida con nuestros aliados\", concluye.\n",
      " \n",
      "\n",
      "URL: https://www.infodefensa.com//texto-diario/mostrar/3867806/eurofighter-espanoles-regresan-baltico-otan#comments\n",
      "TITLE: \r\n",
      "\r\n",
      "            Los Eurofighter españoles regresan al Báltico con la OTAN\r\n",
      "\r\n",
      "        \n",
      "BODY:\n",
      "\n",
      "\n",
      "Cuatro cazas Eurofighter del Ejército del Aire español acaban de incorporarse a la misión de Policía Aérea en el Báltico (BAP, por sus siglas en inglés) de la OTAN. Los aviones de combate y un destacamento de más de 60 militares operarán durante prácticamente un mes desde la base aérea de Amari, junto con Eurofighter alemanes al mando desde agosto de esta operación aliada.El conocido como destacamento aéreo táctico Ámbar estará bajo operativo del Mando de Operaciones (MOPS). Está formado por 67 personas, al mando del comandante Miguel Ángel López García, procedentes principalmente del Ala 14, situada en la base aérea de Los Llanos (Albacete).También hay presencia de personal del Grupo Móvil de Control Aéreo (Grumoca), del Segundo Escuadrón de Apoyo al Despliegue Aéreo (Seada), del Centro de Informática de Gestión (Ciges), del Centro de Sistemas y Tecnologías de la Información y las Comunicaciones (Cestic), del Centro Logístico de Armamento y Experimentación (Claex), de la Agrupación del Cuartel General del Aire o del Grupo de Escuelas de Matacán (Gruema), además de otros que han apoyado logísticamente al despliegue.Eurofighter españoles y alemanes, juntosEl Estado Mayor de la Defensa (Emad) señala que \"los aviones españoles y alemanes entrenarán para realizar de forma combinada operaciones de alerta de reacción rápida con tripulaciones mixtas, interceptando e identificando aeronaves que no cumplan con los requisitos de identificación necesarios por los sistemas de control de tráfico aéreo en espacio aéreo aliado\".Y añade: \"Con este trabajo conjunto se trata de asegurar el éxito de la interoperabilidad de los sistemas de armas avanzados de los países aliados. Se establecen procedimientos, técnicas y tácticas que permiten una activación rápida multinacional de Eurofighter a disposición de la OTAN para preservar la seguridad del espacio aéreo de la Alianza\".En esta ocasión, continua, se realiza la operación y el sostenimiento de los Eurofighter de manera combinada con Alemania, compartiendo recursos, como adelantó Infodefensa.com.\"La participación de las FAS españolas en esta operación demuestra su capacidad de proyección, responsabilidad, solidaridad y el compromiso con la defensa colectiva y la seguridad compartida con nuestros aliados\", concluye.\n",
      " \n",
      "\n",
      "URL: https://www.infodefensa.com//texto-diario/mostrar/3866827/gobierno-suizo-rechaza-someter-referendum-compra-prevista-cazas-f35\n",
      "TITLE: \r\n",
      "\r\n",
      "            El Gobierno suizo rechaza someter a referéndum la compra prevista de cazas F35\r\n",
      "\r\n",
      "        \n",
      "BODY:\n",
      "\n",
      "\n",
      "Una  iniciativa popular aboga en Suiza por rechazar la compra prevista de aviones de  combate F-35, que el año pasado  decidió el ejecutivo del país después de que en septiembre de 2020 la población  autorizó la adquisición de nuevos cazas. Ahora, 120.000 suizos han firmado su  oposición a esta operación que, sin embargo, el Ministerio de Defensa del país está decidido a llevar a término. El  acuerdo con la voluntad ciudadana es un rasgo fundamental de la democracia  suiza, donde es común someter a escrutinio sus decisiones políticas más  destacadas. En 2014 los ciudadanos suizos ya rechazaron  en un referéndum la compra prevista entonces de 22 aeronaves Gripen de la sueca Saab por cerca de 3.500 millones de dólares. Como consecuencia, a  mediados de 2016 se  encargó a un grupo de expertos la evaluación de una nueva solución para la defensa aérea del país a través de un informe de  recomendaciones. El trabajo recogió cuatro opciones, cada una de ellas basada  en un distinto grado de desarrollo de los sistemas de protección del espacio  aéreo, y describía sus ventajas y desventajas. La opción que resultó elegida planteaba la  compra de 40 cazas y la adquisición de una nueva red de defensa aérea por un  total de 9.000 millones de francos suizos en total, de los que 6.000 millones  van destinados exclusivamente al programa de cazas, lo que equivale a algo más  de 6.200 millones de euros al cambio actual. Finalmente, en el nuevo referéndum de 2020, la población suiza aprobó por un escaso margen la compra de nuevos aviones  de combate, y el Gobierno optó casi un año después por la  opción del F-35 como la preferida,  frente a los otros tres candidatos evaluados, el  avión de combate Eurofighter,  construido por Airbus, BAE Systems y Leonardo a través de la empresa conjunta Eurofighter; el Rafale,  de la firma francesa Dassault Aviation,  y el F/A-18 Super Hornet, de la  estadounidense Boeing. Pedidos del aparato estadounidense en cola El 23 de agosto, los opositores a esta  operación presentaron las 120.000 firmas que han recogido para tratar de  convocar un nuevo referéndum en marzo de 2023 que, como en el caso del  realizado en 2014 que rechazó los Gripen,  podría acabar con la compra del modelo previsto. Pero ahora el Consejo Federal se opone a seguir  dilatando el proceso, por una parte para evitar las subidas de precios que  traería el notable incremento de la inflación de estos meses, y por otro lado  para que el pedido no se atrase notablemente, al pasar a la cola después de que  hayan entrado nuevas órdenes del modelo de la estadounidense Lockheed Martin F-35, por parte de Finlandia, Alemania y Canadá.    El Consejo Federal ha comunicado al Parlamento, de hecho, que demorar  más la adquisición “tendría graves consecuencias para la política de seguridad”,  concretando que, “a partir de 2030, la población dejaría de estar protegida  contra amenazas y peligros aéreos”. \r\n",
      "\r\n",
      "                 \n",
      "\n",
      "URL: https://www.infodefensa.com//texto-diario/mostrar/3866827/gobierno-suizo-rechaza-someter-referendum-compra-prevista-cazas-f35#comments\n",
      "TITLE: \r\n",
      "\r\n",
      "            El Gobierno suizo rechaza someter a referéndum la compra prevista de cazas F35\r\n",
      "\r\n",
      "        \n",
      "BODY:\n",
      "\n",
      "\n",
      "Una  iniciativa popular aboga en Suiza por rechazar la compra prevista de aviones de  combate F-35, que el año pasado  decidió el ejecutivo del país después de que en septiembre de 2020 la población  autorizó la adquisición de nuevos cazas. Ahora, 120.000 suizos han firmado su  oposición a esta operación que, sin embargo, el Ministerio de Defensa del país está decidido a llevar a término. El  acuerdo con la voluntad ciudadana es un rasgo fundamental de la democracia  suiza, donde es común someter a escrutinio sus decisiones políticas más  destacadas. En 2014 los ciudadanos suizos ya rechazaron  en un referéndum la compra prevista entonces de 22 aeronaves Gripen de la sueca Saab por cerca de 3.500 millones de dólares. Como consecuencia, a  mediados de 2016 se  encargó a un grupo de expertos la evaluación de una nueva solución para la defensa aérea del país a través de un informe de  recomendaciones. El trabajo recogió cuatro opciones, cada una de ellas basada  en un distinto grado de desarrollo de los sistemas de protección del espacio  aéreo, y describía sus ventajas y desventajas. La opción que resultó elegida planteaba la  compra de 40 cazas y la adquisición de una nueva red de defensa aérea por un  total de 9.000 millones de francos suizos en total, de los que 6.000 millones  van destinados exclusivamente al programa de cazas, lo que equivale a algo más  de 6.200 millones de euros al cambio actual. Finalmente, en el nuevo referéndum de 2020, la población suiza aprobó por un escaso margen la compra de nuevos aviones  de combate, y el Gobierno optó casi un año después por la  opción del F-35 como la preferida,  frente a los otros tres candidatos evaluados, el  avión de combate Eurofighter,  construido por Airbus, BAE Systems y Leonardo a través de la empresa conjunta Eurofighter; el Rafale,  de la firma francesa Dassault Aviation,  y el F/A-18 Super Hornet, de la  estadounidense Boeing. Pedidos del aparato estadounidense en cola El 23 de agosto, los opositores a esta  operación presentaron las 120.000 firmas que han recogido para tratar de  convocar un nuevo referéndum en marzo de 2023 que, como en el caso del  realizado en 2014 que rechazó los Gripen,  podría acabar con la compra del modelo previsto. Pero ahora el Consejo Federal se opone a seguir  dilatando el proceso, por una parte para evitar las subidas de precios que  traería el notable incremento de la inflación de estos meses, y por otro lado  para que el pedido no se atrase notablemente, al pasar a la cola después de que  hayan entrado nuevas órdenes del modelo de la estadounidense Lockheed Martin F-35, por parte de Finlandia, Alemania y Canadá.    El Consejo Federal ha comunicado al Parlamento, de hecho, que demorar  más la adquisición “tendría graves consecuencias para la política de seguridad”,  concretando que, “a partir de 2030, la población dejaría de estar protegida  contra amenazas y peligros aéreos”. \r\n",
      "\r\n",
      "                 \n",
      "\n",
      "URL: https://www.infodefensa.com//texto-diario/mostrar/3864668/como-deberia-espana-ayudar-militarmente-ucrania\n",
      "TITLE: \r\n",
      "\r\n",
      "            Cómo debería España ayudar militarmente a Ucrania\r\n",
      "\r\n",
      "        \n",
      "BODY:\n",
      "\n",
      "\n",
      "Los largos periodos de paz conducen necesariamente a la falta de entrenamiento, a la escasa inversión en mantenimiento y a una constante desmilitarización de la sociedad. Por eso, cada vez que alguna cuestión o hecho atenta contra nuestra seguridad, miramos rápidamente hacia otro lado, esperando que escampe. Sin embargo, lo de Ucrania ha superado todas las expectativas de conflicto para Europa y en particular para España, y todos esos fenómenos asociados a los largos periodos sin guerras afloran, con una brutalidad inusitada, muchos de los vicios ocultos de nuestro sistema de seguridad. Posiblemente nunca en la historia de España se habían producido tantos hechos relevantes que hayan puesto en jaque a nuestra política de seguridad y defensa como en el último año. En el apoyo occidental a Ucrania, y en particular desde España se han cometido a mi juicio tres grandes errores: La escasez de inventario moderno, en particular de armamento y munición, la necesidad de preservar la reserva de guerra, así como la falta de consolidación de la industria y el equipamiento europeo, convierten al ejército de Zelenski en el de «Pancho Villa», con equipos procedentes de diversos países, generaciones de tecnología diferentes, escasamente interoperables y encareciendo una logística para un país que está sometido al bombardeo constante de la fuerza aérea y naval rusa. La Defensa y la industria europea después de setenta años de Unión no ha conseguido ninguno de sus objetivos para construir una Europa de la defensa creíble. El constante recurso de los países del Este al material anglosajón, muestra que el modelo germano-francés de defensa no ha servido para una Europa más fuerte sino para una alianza bilateral más sólida, a costa de Europa. El deteriorado estado de una mayoría de los vehículos de nuestro ejército conducen a la imposibilidad de disponer de excedentes operativos para enviar salvo que acudamos al material más operativo y moderno. Pretender poner en operación viejos BMR sin blindaje alguno, diseñados para operaciones de paz, capacidad de combate es un pésimo recurso. La entrega de Leopard 2A4 fabricados en los años ochenta y alquilados a España con el único fin de apalancar la posterior compra de los Leopardo 2E, y para los que nunca hubo un presupuesto adecuado para ni siquiera el aprovechamiento de las barcazas, es un gasto excesivo para el resultado práctico que producirá. Ni siquiera podemos afirmar que el nivel de disponibilidad de los Leopardo 2E sea el requerido viendo como han ido mermando año a año los créditos de mantenimiento. Occidente ha obligado a Ucrania, con las restricciones de material que se ha autoimpuesto, a un tipo de campaña militar que no es la más adecuada para sus intereses. Con el espacio aéreo totalmente monopolizado por la aviación rusa, pretender equipar a Ucrania de material pesado es un error de bulto; cualquier carro, columna, batería de misiles son objetivos fáciles para Rusia que monitoriza ya gran parte de lo que ocurre en el Frente con bastante precisión; la logística y el operativo asociado a este material empeorará la situación de las fuerzas ucranianas acelerando la total conquista del país por Rusia. Si Ucrania no puede recibir aviación de combate operativa y de tecnología similar e interoperable en cuanto a sistemas de mando y control, comunicaciones, misiles, sistemas de autoprotección, que suponga incrementar los riesgos para la aviación rusa, debería cambiar totalmente su estrategia a fuerzas más pequeñas, más ágiles, con una táctica de tierra quemada, permitiendo que las tropas rusas penetren en mayor profundidad y golpeando las líneas de suministro. Para esta fase España podría enviar sus fusiles GE-36, y todo el armamento ligeros, los Light Gun de 105mm, morteros Deimos de 81 mm y sistemas C-90; los obuses de 155/52 remolcados también serían, con su gran capacidad de fuego, como se vio en el conflicto colombiano, determinantes. Mientras se ponen en marcha estos envíos, deberían contratarse equipos de reemplazo y modernización con las empresas fabricantes para reponer stocks, lo que permitiría seguir apoyando a la industria nacional y abordar los nuevos programas que vamos a necesitar en este entorno de inseguridad. En una fase de estabilización y con una recuperación de posiciones por parte de los ucranianos, los Centauro con sus cañones de 105 mm, o los Pizarro con su cañón de 40 mm o vehículos de ingenieros, serían ideales para dotar a unidades de caballería e infantería mecanizada, pero para que estos equipos sean efectivos, primero Ucrania debería haber fijado a los rusos en unas líneas mucho más avanzadas que en la actualidad, lejos de sus líneas de abastecimiento, que deberían ser golpeadas sin descanso por la resistencia ucraniana. Resistir pueblo a pueblo cada kilómetro de territorio es una pésima decisión. Pero sin duda habría hecho mucho más daño a Rusia, un embargo occidental al gas, pero lejos de perjudicar sus fuentes de recursos, continuamos engrosándolos, y esto es especialmente sangrante en el caso de España. Viendo el material que queremos enviar y que cada vez compramos más gas a Putin, pareciera que vamos con los rusos y no con los ucranianos.  Lo cierto es que sin haber resuelto fuentes alternativas de suministros, un invierno con frío llevaría a todos los actuales gobiernos europeos al banquillo, y los que podrían reemplazarlos seguro que vendrían con políticas más  complicadas. Esperemos que la crisis de Italia se resuelva pronto y de forma satisfactoria, porque su economía está en la UCI, y esto condiciona el futuro de todas las economías del sur, y especialmente la nuestra. Sin embargo, es esencial para el futuro de la paz, la libertad y la seguridad en Europa que Rusia sea derrotada militarmente en Ucrania, lo cual no significa que pueda alcanzarse un acuerdo de «paz por territorios», que al menos nos permitiría sofocar lo más grave de lo que está por venir que es la combinación de la recesión, la crisis de deuda y las restricciones de energía y alimentos. Si dejamos que la guerra se alargue a diciembre, Rusia nos tendrá a su merced, y acabaremos dejando a Zelenski solo, con el mismo argumento por el que estamos ahora apoyando a Ucrania: la seguridad y el bienestar de Europa, y que fue el mismo que esgrimió Chamberlain cuando regreso ufano de Múnich. \n",
      " \n",
      "\n",
      "URL: https://www.infodefensa.com//texto-diario/mostrar/3858240/seguridad-multidimensional-reflexion\n",
      "TITLE: \r\n",
      "\r\n",
      "            Seguridad multidimensional: una reflexión\r\n",
      "\r\n",
      "        \n",
      "BODY:\n",
      "\n",
      "\n",
      "El trabajo realizado hace casi veinte años por los Estados del hemisferio en la “Declaración de las Américas”, el 28 de octubre de 2003 en México (en adelante la Declaración), se destacó por consolidar una definición que incluyera a todas las amenazas, riesgos y desafíos a la seguridad y defensa de los países, reflejando un esfuerzo significativo de los mismos, para hacerle frente a flagelos que ponen en jaque dichos ámbitos, a las instituciones, calidad y gobernabilidad democrática de los Estados americanos.De acuerdo a lo anterior, es preciso comprender que los conceptos relativos a la seguridad y defensa han ido evolucionando en el tiempo, ya que en un principio dichas nociones hacían referencia al Estado Nación, desde el siglo XVII con la Paz de Westfalia, como principal blanco de las amenazas tradicionales, ya que el Estado se establece como el legítimo articulador de su representación diplomática y su defensa.Posteriormente, el concepto adquirió mayor alcance, incluyendo nuevas temáticas y a las denominadas “amenazas no tradicionales”, que se alejan de los clásicos conflictos bélicos interestatales, como se mencionó anteriormente. De esta forma, se llega a la denominada “seguridad multidimensional”, que engloba desafíos de naturaleza diversa, haciendo un llamado en la Declaración de 2003 a ampliar los enfoques tradicionales para afrontar flagelos que afectan los espectros políticos, económicos, sociales, culturales, ambientales y de salud, –que se condicen con la denominada “seguridad humana” - y a aunar esfuerzos para contar con una institucionalidad que permita combatir y lidiar con los problemas a la seguridad, desafío que se mantiene.Sin perjuicio de lo anterior, la Declaración reconoció las diferentes perspectivas sobre las amenazas y prioridades a la seguridad de los países de América, por lo que desde ese entonces se comprendía que su implementación e institucionalidad sería difícil de concretar.En el mismo tenor, es pertinente considerar que cada país de América cuenta con sus propias definiciones sobre seguridad y defensa, así como con aspectos de soberanía, leyes y jurisdicción, y definiciones de amenazas distintas, factores que hacen aún más difícil concatenar esfuerzos colectivos.En virtud de lo anterior, es que podemos identificar desafíos tanto a nivel regional como nacional. Por un lado, se hace evidente la necesidad de una consolidación de la arquitectura interamericana en temas de seguridad multidimensional, a pesar de las dificultades, generalmente en términos de soberanía y definición de conceptos. No obstante, en países como Chile, la seguridad multidimensional, humana y nacional, se correlaciona armónicamente con los elementos constitutivos del Estado.En este sentido, cabe preguntarnos entonces ¿cuáles son las mayores amenazas a las que se enfrenta nuestro país hoy en día? Sin lugar a dudas encontramos un creciente e importante desafío en lo que respecta al narcotráfico y al crimen organizado transnacional, puesto que el último tiempo los índices de victimización (Santiago 51%, Antofagasta 49,2%, Iquique 48,5%, Temuco 48,1% son las ciudades con mayor nivel de victimización), violencia, delincuencia, decomiso y consumo de sustancias ilícitas, han evidenciado alzas significativas, así como amplios niveles de percepción en su incremento.Lo anterior, se ha visto reflejado en los altos niveles de violencia, delincuencia, decomiso y consumo de narcóticos los últimos años, así como también contamos con la presencia e influencia de bandas criminales internacionales en Chile, tales como el venezolano Tren de Aragua y los cárteles mexicanos de Sinaloa y Jalisco Nueva Generación.En este contexto de seguridad, el país está a tiempo para enfrentar efectivamente dichas amenazas, ejerciendo acciones concretas para controlar el crimen organizado transnacional. Para ello, se estima conveniente continuar profundizando en la problemática, mediante un trabajo colaborativo entre las carteras de gobierno y cooperativo entre Estados, puesto que es un problema de carácter multidimensional que no reconoce fronteras.© Cesim Todos los derechos reservados. Este artículo no puede ser fotocopiado ni reproducido por cualquier otro medio sin licencia otorgada por la empresa editora. Queda prohibida la reproducción pública de este artículo, en todo o en parte, por cualquier medio, sin permiso expreso y por escrito de la empresa editora. \n",
      " \n",
      "\n",
      "URL: https://www.infodefensa.com//texto-diario/mostrar/3837465/inversion-cooperacion-aupar-industria-defensa-espana\n",
      "TITLE: \r\n",
      "\r\n",
      "            Inversión y cooperación para aupar a la industria de defensa de España\r\n",
      "\r\n",
      "        \n",
      "BODY:\n",
      "\n",
      "\n",
      "Corazón tecnológico y alma innovadora.  Así podríamos definir el  estado actual de nuestra industria de defensa nacional, que en estos  últimos años ha dado un verdadero salto de gigante y que tiene por  delante un futuro prometedor: es el momento de que España posicione al  sector en el mapa, sobre todo en Europa. El sector vive un momento de  emocionante transformación, apalancado en las políticas que llegan desde  la Unión Europea, que busca una mayor cooperación a todos los niveles y  profundizar en el desarrollo del sector. El área de Defensa y  Seguridad es un tractor de progreso industrial en España que ha  permitido y permite potenciar el desarrollo de tecnologías operacionales  de uso dual. Las tecnologías de la información disruptivas que hoy dan  ventaja competitiva a muchas otras industrias pueden y deben ser  empleadas en el sector de defensa. Es un traspaso de conocimiento que  repercute directamente en un beneficio para la sociedad. Si  queremos que nuestra industria nacional tenga un papel relevante en  Europa (como un primer paso para la exportación a nivel mundial),  debemos fomentar la eficiencia en la inversión y la eficacia de nuestras  soluciones y hacerlo con empresas como la propia Inetum, con una  dimensión global y vocación de proyección internacional. En la  industria de Defensa y Seguridad, de la que nosotros formamos parte  desde 1999, queremos seguir desplegando iniciativas innovadoras que nos  permitan crecer y afrontar los nuevos desafíos que se plantean. Por  ejemplo, el desarrollo de una tecnología de identidad descentralizada  basada en blockchain -que hoy es única en Europa, y que puede ser  fundamental para los nuevos sistemas de comunicación y de guerra  electrónica. ¿Cómo? Para ello ya no es suficiente hacer sistemas  interoperables sino liderar los estándares. Y, en este punto, es  imprescindible la cooperación entre nuestras empresas, así como entre  estas y los organismos públicos de investigación, porque, además, y no  lo olvidemos, España tiene mucho talento que debemos canalizar y  optimizar. Es decir que para poder contribuir al desarrollo del sector  con soluciones disruptivas necesitamos ese talento que solamente nos  puede venir desde las universidades. La colaboración es clave para  construir un ecosistema que nos permita dotar al País de una soberanía  industrial y tecnológica. Igualmente, es relevante la creación de  consorcios europeos. Por nuestra parte, desde la  industria ya estamos aportando nuestro granito de arena a través de  planes industriales donde la inversión en I+D+i es una de las grandes  líneas y donde, como no podía ser de otra manera, nos hemos alineado con  las directrices de las políticas del Ministerio de Defensa, Ministerio  de Industria y la Política de Defensa Europea. Lo hacemos a través de  varios frentes que se complementan entre sí: desde el área de  Ciberdefensa y Guerra Electrónica, la siguiente generación de sistemas  de Mando y Control e Inteligencia basados en IA, automatización y cloud  que garanticen el desarrollo del concepto NEC, o el impulso a soluciones  de Logística, Gemelo Digital y Mantenimiento predictivo. Se  puede hacer, en Inetum hemos superado los 27.000 empleados en 27 países  pero las decisiones respecto a inversión y desarrollo de tecnologías  para la defensa que afectan a la totalidad de nuestro Grupo las  tomamos aquí, en España. Y España es relevante, desde aquí gestionamos  más de 800 millones de euros de facturación en 2021, un tercio de la  cifra de negocio del Grupo en todo el mundo. Y lo debe ser más aún,  tenemos una vocación de convertirnos en uno de los actores relevantes de  TI en Europa y proyectarnos al resto del mundo, con el horizonte de  crecimiento de dos dígitos, y hacerlo desde España. En  definitiva, no podemos perder el tren para liderar el sector a nivel  europeo: España debe convertirse en la locomotora de la industria de  defensa en la Unión Europea y jugar un papel preponderante que nos  permita mayor capacidad de innovación y de generación de empleo.\n",
      " \n",
      "\n",
      "URL: https://www.infodefensa.com//texto-diario/mostrar/3843304/fondo-europeo-defensa-llegar-mantenerse\n",
      "TITLE: \r\n",
      "\r\n",
      "            La industria de defensa española en el EDF: llegar y mantenerse\r\n",
      "\r\n",
      "        \n",
      "BODY:\n",
      "\n",
      "\n",
      "Los resultados de la primera convocatoria de proyectos para el Fondo Europeo de Defensa (EDF) confirman la tendencia marcada por las convocatorias del EDIDP en cuanto a la sobresaliente participación española. De 61 proyectos seleccionados, la industria española lidera 15, casi un 25%. Solo Francia, que coordina un total de 18 proyectos, supera esa cifra. Grecia e Italia por su parte lideran cinco cada uno. En conjunto, los cuatro países tendrán la responsabilidad de dirigir 43 proyectos, un 70% del total. Una cifra que confirma el empuje de los países del sur europeo en la cooperación industrial transfronteriza que ya se había apuntado en años anteriores.En total, la Comisión Europea aporta 1.167 millones de euros a proyectos que movilizan un volumen global de algo más de 1.325 millones. El proyecto tipo tendría una duración de 36 meses hasta la fase de diseño con una financiación europea por proyecto del 92% del total. El abanico en cuanto a volumen financiero abarca desde un mínimo de 2,5 millones hasta un máximo que supera los 100 millones en proyectos como Famous2 o EU Hydef. Este último, liderado por Sener, recibe la aportación máxima que realiza la Comisión a un proyecto con casi 100 millones.La respuesta a nivel global de la industria europea ha sido muy notable como muestran las 142 propuestas recibidas. En este sentido hay que destacar la respuesta de las pymes que conforman el 43% de la participación, aunque solo reciben el 18% de la financiación. En una valoración general es significativo mencionar que del total de proyectos seleccionados solo 15, un 24%, están relacionados con iniciativas Pesco, lo que contrasta con las convocatorias EDIDP donde el número de proyectos relacionados con Pesco superaba el 50%. Se aprecia también una cierta continuidad en algunos proyectos abordados en las iniciativas PADR y EDIDP. El hecho de que más del 50% de los proyectos superen los 10 millones de financiación comunitaria pudiera obedecer a cierta tendencia a promover la concentración de las propuestas.En el ámbito de capacidades la participación española refleja las prioridades del Ministerio de Defensa. Se participa en todas las áreas de capacidad, con la excepción de CBRN, y se lideran proyectos en ocho de ellas: misiles, ciber, transformación digital, energía, combate terrestre, materiales, naval y tecnologías disruptivas.En el área de misiles, coordinamos el único proyecto seleccionado; en transformación digital, tenemos una amplia presencia y lideramos la actividad en inteligencia artificial para aplicaciones de defensa; en el ámbito de la energía, encabezamos la actividad principal; y además estamos muy presentes en el ámbito naval. En el ámbito terrestre, damos continuidad a proyectos relacionados con municiones o desarrollo de nuevos vehículos de combate y lideramos la actividad en la operación conjunta de flotas de vehículos tripulados y no tripulados. Destaca también la participación en proyectos relacionados con tecnologías disruptivas como sensores electroópticos avanzados o tecnologías cuánticas, y en nuevos materiales para protección balística de plataformas y combatientes.España participa a través de 69 entidades en 42 proyectos, el 70% del total. En volumen de entidades se trata de una participación solo superada por la francesa, muy próxima a la italiana y muy por encima de la alemana, lo que da idea del dinamismo de nuestra industria. Veníamos de una participación total en las dos convocatorias EDIDP de un total de 40 entidades en 32 proyectos. Hemos conseguido mantener una presencia relevante, y la hemos potenciado. Los coordinadores de consorcio españoles tendrán la responsabilidad de gestionar proyectos financiados con 239 millones de euros por la CE y que movilizan en total 254 millones. Solo las entidades francesas tienen una mayor capacidad de movilización financiera. Entre Francia y España se gestionarán el 50% de los fondos recibidos.En su gran mayoría la presencia española está protagonizada por pymes. Entre ellas hay que destacar el liderazgo de algunas como CT Ingenieros, Geonumerics, Seaplace o Tracasa, que asumen el liderazgo de los consorcios en los que participan. El potencial de nuestro tejido se refleja en que en la llamada de fondos específica de pymes las empresas españolas participan en un total del 50% de los proyectos seleccionados, y lideran siete, lo que supone un 30% del total de proyectos seleccionados en este grupo.En total, 52 entidades participan en un único proyecto. En este grupo aparecen algunos de los principales actores industriales españoles como SAES, Aertec, Hisdesat, ITP o GDELS-SBS. Indra mantiene una presencia muy destacada con participación en 19 proyectos de los que lidera uno. Entre los líderes de consorcio hay que destacar la participación de GAHN que lidera dos consorcios, consolidando su papel como consultora de referencia para pymes, y la de Sener que, tras una participación modesta en las convocatorias EDIDP, irrumpe con fuerza participando en cinco consorcios de los que lidera dos. Hay que destacar también el liderazgo en proyectos de Arpa e Integrasys que se posicionan como referentes europeos en sus respectivos ámbitos de actividad.En cuanto a la presencia de las 'grandes' destaca la presencia de Navantia, que igualmente había jugado un papel de ambición limitada en proyectos EDIDP, y que ahora participa en cinco consorcios de los que lidera uno. GMV mantiene una presencia importante consolidando su participación en proyectos europeos. Por su parte, Instalaza consolida su posición como líder europeo en un nicho de mercado que se ha demostrado esencial en los conflictos que afrontamos.La participación española se completa con la presencia de fundaciones, centros tecnológicos y universidades. En relación con los primeros hay que destacar la participación de Tecnalia que participa en dos proyectos de los que lidera uno. El INTA tras estar ausente en las convocatorias EDIDP participa en cuatro consorcios de la mano de Sener y en otros tres en colaboración con Indra. Las universidades participan en siete proyectos destacando la UPM que participa en cuatro consorcios, tres de ellos de la mano de Indra, y la Universidad de Zaragoza que lidera otro en el que ejerce en solitario la representación española. Este último caso sirve de ejemplo del potencial que puede tener la relación entre Fuerzas Armadas y universidades a través de las academias generales y Escuela Naval y que pudiera ser conveniente potenciar favoreciendo la relación entre centros docentes militares, universidad e industria.En cuanto a colaboración transfronteriza continúa la tendencia española de propiciar la colaboración en toda Europa, frente a la de otros países que dan preferencia a la colaboración con sus vecinos. En este sentido, la colaboración con Portugal sigue siendo limitada con la excepción de los proyectos Seawings coordinado por LPRC o del Ecoballife de Tecnalia. En cuanto a colaboración entre empresas, en un primer análisis, las 'grandes' parecen más propensas a buscar la colaboración entre ellas, mientras que las pymes son más favorables a extender la relación. Se trata de una valoración que conviene seguir con atención sobre todo para que las primeras materialicen el efecto tractor deseable.A nivel general se están consolidando relaciones entre industrias que era uno de los objetivos perseguidos por la Comisión. Tanto a nivel nacional como europeo aparecen algunas asociaciones que se van convirtiendo en alianzas estratégicas y que van más allá de colaboraciones puntuales. Parece también, como además apunta la convocatoria de 2022, que se está propiciando la presentación de grandes proyectos más relacionados con las prioridades de planeamiento de capacidades militares que a iniciativas políticas. Una tendencia que no debería ir en perjuicio de la actividad de las pymes o de otras entidades con capacidad de desarrollar tecnología de vanguardia.El resultado muestra la amplia capacidad que tiene la industria española. También su dinamismo. Si llegar es difícil, más es mantenerse. España y su industria han sabido llegar y mantenerse. Aun contando en la Administración con recursos limitados se ha conseguido movilizar un importante volumen de fondos y se mantiene una presencia acorde con nuestro peso como cuarta potencia de la UE. El compromiso con la defensa común europea en un momento especialmente importante en el que nuestro modelo de sociedad está amenazado requiere dar un paso adelante. La industria lo ha dado.\n",
      " \n",
      "\n",
      "URL: https://www.infodefensa.com//texto-diario/mostrar/3847120/europavia-proveera-ejercito-aire-espacio-repuestos-frenos-aeronaves\n",
      "TITLE: \r\n",
      "\r\n",
      "            ​Europavia proveerá al Ejército del Aire y del Espacio repuestos de frenos de sus aeronaves\r\n",
      "\r\n",
      "        \n",
      "BODY:\n",
      "\n",
      "\n",
      "La empresa Europavia suministrará al  Ejército del Aire y del Espacio repuestos del sistema de frenos de diversos  sistemas de armas en servicio por un importe de 900.000 euros a lo largo de los  tres próximos años. El Ejército del Aire asegura que “la no  disponibilidad de dichos repuestos puede ocasionar situaciones MICAP-NMCS  (aviones no disponibles para misiones por falta de repuestos), situaciones que  puedan ser atendidas en su mayoría con agilidad, con este tipo de expediente”.  Y además señala que “la no culminación de un contrato en este expediente,  ocasionaría una grave merma en la operatividad de las unidades destinatarias de  estos repuestos”. La entrega de material será en las instalaciones de la  Maestranza Aérea de Albacete.  El presupuesto está repartido de la  siguiente forma: 500.000 euros, en 2022; 200.000 euros, en 2023; y 200.000  euros, en 2024. El valor estimado asciende a los casi dos millones -1.980.000  euros- al incluir a los 900.000 euros de presupuesto base, una partida de  180.000 para modificaciones previstas, y otros 900.000 para prórrogas. Las  entregas se extenderán en concreto hasta noviembre de 2024. Dos empresas se presentaron a la  licitación Europavia España y GECI Española. El Mando de Apoyo Logístico del  Ejército del Aire seleccionó, tras analizar las ofertas, la propuesta de la  primera. El contrato es de la modalidad conocida  como ‘en función de las necesidades’, definida como aquella que “tramitan las  Administraciones Públicas y demás entidades del sector público con presupuesto  limitativo, en los cuales el empresario se obligue a entregar una pluralidad de  bienes o a ejecutar el servicio de forma sucesiva y por precio unitario, sin  que el número total de entregas o prestaciones incluidas en el objeto del  contrato se defina con exactitud al tiempo de celebrar este, por estar  subordinadas las mismas a las necesidades de la Administración”.\n",
      " \n",
      "\n"
     ]
    },
    {
     "ename": "KeyboardInterrupt",
     "evalue": "",
     "output_type": "error",
     "traceback": [
      "\u001B[1;31m---------------------------------------------------------------------------\u001B[0m",
      "\u001B[1;31mKeyboardInterrupt\u001B[0m                         Traceback (most recent call last)",
      "Input \u001B[1;32mIn [14]\u001B[0m, in \u001B[0;36m<cell line: 4>\u001B[1;34m()\u001B[0m\n\u001B[0;32m      1\u001B[0m infodefensa\u001B[38;5;241m=\u001B[39m Website(\u001B[38;5;124m'\u001B[39m\u001B[38;5;124mInfodefensa\u001B[39m\u001B[38;5;124m'\u001B[39m, \u001B[38;5;124m'\u001B[39m\u001B[38;5;124mhttps://www.infodefensa.com/\u001B[39m\u001B[38;5;124m'\u001B[39m ,\u001B[38;5;124m'\u001B[39m\u001B[38;5;124m^(/texto-diario/)\u001B[39m\u001B[38;5;124m'\u001B[39m, \u001B[38;5;28;01mFalse\u001B[39;00m, \u001B[38;5;124m'\u001B[39m\u001B[38;5;124mh1\u001B[39m\u001B[38;5;124m'\u001B[39m, \u001B[38;5;124m'\u001B[39m\u001B[38;5;124mdiv#article_content.article_content.story_editor\u001B[39m\u001B[38;5;124m'\u001B[39m)\n\u001B[0;32m      3\u001B[0m crawler \u001B[38;5;241m=\u001B[39m Crawler(infodefensa)\n\u001B[1;32m----> 4\u001B[0m \u001B[43mcrawler\u001B[49m\u001B[38;5;241;43m.\u001B[39;49m\u001B[43mcrawl\u001B[49m\u001B[43m(\u001B[49m\u001B[43m)\u001B[49m\n",
      "Input \u001B[1;32mIn [12]\u001B[0m, in \u001B[0;36mCrawler.crawl\u001B[1;34m(self)\u001B[0m\n\u001B[0;32m     64\u001B[0m \u001B[38;5;28;01mif\u001B[39;00m \u001B[38;5;129;01mnot\u001B[39;00m \u001B[38;5;28mself\u001B[39m\u001B[38;5;241m.\u001B[39msite\u001B[38;5;241m.\u001B[39mabsoluteUrl:\n\u001B[0;32m     65\u001B[0m     targetPage \u001B[38;5;241m=\u001B[39m \u001B[38;5;124m'\u001B[39m\u001B[38;5;132;01m{}\u001B[39;00m\u001B[38;5;132;01m{}\u001B[39;00m\u001B[38;5;124m'\u001B[39m\u001B[38;5;241m.\u001B[39mformat(\u001B[38;5;28mself\u001B[39m\u001B[38;5;241m.\u001B[39msite\u001B[38;5;241m.\u001B[39murl, targetPage)\n\u001B[1;32m---> 66\u001B[0m \u001B[38;5;28;43mself\u001B[39;49m\u001B[38;5;241;43m.\u001B[39;49m\u001B[43mparse\u001B[49m\u001B[43m(\u001B[49m\u001B[43mtargetPage\u001B[49m\u001B[43m)\u001B[49m\n",
      "Input \u001B[1;32mIn [12]\u001B[0m, in \u001B[0;36mCrawler.parse\u001B[1;34m(self, url)\u001B[0m\n\u001B[0;32m     45\u001B[0m \u001B[38;5;28;01mdef\u001B[39;00m \u001B[38;5;21mparse\u001B[39m(\u001B[38;5;28mself\u001B[39m, url):\n\u001B[1;32m---> 46\u001B[0m     bs \u001B[38;5;241m=\u001B[39m \u001B[38;5;28;43mself\u001B[39;49m\u001B[38;5;241;43m.\u001B[39;49m\u001B[43mgetPage\u001B[49m\u001B[43m(\u001B[49m\u001B[43murl\u001B[49m\u001B[43m)\u001B[49m\n\u001B[0;32m     47\u001B[0m     \u001B[38;5;28;01mif\u001B[39;00m bs \u001B[38;5;129;01mis\u001B[39;00m \u001B[38;5;129;01mnot\u001B[39;00m \u001B[38;5;28;01mNone\u001B[39;00m:\n\u001B[0;32m     48\u001B[0m         title \u001B[38;5;241m=\u001B[39m \u001B[38;5;28mself\u001B[39m\u001B[38;5;241m.\u001B[39msafeGet(bs, \u001B[38;5;28mself\u001B[39m\u001B[38;5;241m.\u001B[39msite\u001B[38;5;241m.\u001B[39mtitleTag)\n",
      "Input \u001B[1;32mIn [12]\u001B[0m, in \u001B[0;36mCrawler.getPage\u001B[1;34m(self, url)\u001B[0m\n\u001B[0;32m     32\u001B[0m \u001B[38;5;28;01mdef\u001B[39;00m \u001B[38;5;21mgetPage\u001B[39m(\u001B[38;5;28mself\u001B[39m, url):\n\u001B[0;32m     33\u001B[0m     \u001B[38;5;28;01mtry\u001B[39;00m:\n\u001B[1;32m---> 34\u001B[0m         req \u001B[38;5;241m=\u001B[39m \u001B[43mrequests\u001B[49m\u001B[38;5;241;43m.\u001B[39;49m\u001B[43mget\u001B[49m\u001B[43m(\u001B[49m\u001B[43murl\u001B[49m\u001B[43m)\u001B[49m\n\u001B[0;32m     35\u001B[0m     \u001B[38;5;28;01mexcept\u001B[39;00m requests\u001B[38;5;241m.\u001B[39mexceptions\u001B[38;5;241m.\u001B[39mRequestException:\n\u001B[0;32m     36\u001B[0m         \u001B[38;5;28;01mreturn\u001B[39;00m \u001B[38;5;28;01mNone\u001B[39;00m\n",
      "File \u001B[1;32m~\\anaconda3\\lib\\site-packages\\requests\\api.py:76\u001B[0m, in \u001B[0;36mget\u001B[1;34m(url, params, **kwargs)\u001B[0m\n\u001B[0;32m     65\u001B[0m \u001B[38;5;124mr\u001B[39m\u001B[38;5;124;03m\"\"\"Sends a GET request.\u001B[39;00m\n\u001B[0;32m     66\u001B[0m \n\u001B[0;32m     67\u001B[0m \u001B[38;5;124;03m:param url: URL for the new :class:`Request` object.\u001B[39;00m\n\u001B[1;32m   (...)\u001B[0m\n\u001B[0;32m     72\u001B[0m \u001B[38;5;124;03m:rtype: requests.Response\u001B[39;00m\n\u001B[0;32m     73\u001B[0m \u001B[38;5;124;03m\"\"\"\u001B[39;00m\n\u001B[0;32m     75\u001B[0m kwargs\u001B[38;5;241m.\u001B[39msetdefault(\u001B[38;5;124m'\u001B[39m\u001B[38;5;124mallow_redirects\u001B[39m\u001B[38;5;124m'\u001B[39m, \u001B[38;5;28;01mTrue\u001B[39;00m)\n\u001B[1;32m---> 76\u001B[0m \u001B[38;5;28;01mreturn\u001B[39;00m request(\u001B[38;5;124m'\u001B[39m\u001B[38;5;124mget\u001B[39m\u001B[38;5;124m'\u001B[39m, url, params\u001B[38;5;241m=\u001B[39mparams, \u001B[38;5;241m*\u001B[39m\u001B[38;5;241m*\u001B[39mkwargs)\n",
      "File \u001B[1;32m~\\anaconda3\\lib\\site-packages\\requests\\api.py:61\u001B[0m, in \u001B[0;36mrequest\u001B[1;34m(method, url, **kwargs)\u001B[0m\n\u001B[0;32m     57\u001B[0m \u001B[38;5;66;03m# By using the 'with' statement we are sure the session is closed, thus we\u001B[39;00m\n\u001B[0;32m     58\u001B[0m \u001B[38;5;66;03m# avoid leaving sockets open which can trigger a ResourceWarning in some\u001B[39;00m\n\u001B[0;32m     59\u001B[0m \u001B[38;5;66;03m# cases, and look like a memory leak in others.\u001B[39;00m\n\u001B[0;32m     60\u001B[0m \u001B[38;5;28;01mwith\u001B[39;00m sessions\u001B[38;5;241m.\u001B[39mSession() \u001B[38;5;28;01mas\u001B[39;00m session:\n\u001B[1;32m---> 61\u001B[0m     \u001B[38;5;28;01mreturn\u001B[39;00m session\u001B[38;5;241m.\u001B[39mrequest(method\u001B[38;5;241m=\u001B[39mmethod, url\u001B[38;5;241m=\u001B[39murl, \u001B[38;5;241m*\u001B[39m\u001B[38;5;241m*\u001B[39mkwargs)\n",
      "File \u001B[1;32m~\\anaconda3\\lib\\site-packages\\requests\\sessions.py:542\u001B[0m, in \u001B[0;36mSession.request\u001B[1;34m(self, method, url, params, data, headers, cookies, files, auth, timeout, allow_redirects, proxies, hooks, stream, verify, cert, json)\u001B[0m\n\u001B[0;32m    537\u001B[0m send_kwargs \u001B[38;5;241m=\u001B[39m {\n\u001B[0;32m    538\u001B[0m     \u001B[38;5;124m'\u001B[39m\u001B[38;5;124mtimeout\u001B[39m\u001B[38;5;124m'\u001B[39m: timeout,\n\u001B[0;32m    539\u001B[0m     \u001B[38;5;124m'\u001B[39m\u001B[38;5;124mallow_redirects\u001B[39m\u001B[38;5;124m'\u001B[39m: allow_redirects,\n\u001B[0;32m    540\u001B[0m }\n\u001B[0;32m    541\u001B[0m send_kwargs\u001B[38;5;241m.\u001B[39mupdate(settings)\n\u001B[1;32m--> 542\u001B[0m resp \u001B[38;5;241m=\u001B[39m \u001B[38;5;28mself\u001B[39m\u001B[38;5;241m.\u001B[39msend(prep, \u001B[38;5;241m*\u001B[39m\u001B[38;5;241m*\u001B[39msend_kwargs)\n\u001B[0;32m    544\u001B[0m \u001B[38;5;28;01mreturn\u001B[39;00m resp\n",
      "File \u001B[1;32m~\\anaconda3\\lib\\site-packages\\requests\\sessions.py:655\u001B[0m, in \u001B[0;36mSession.send\u001B[1;34m(self, request, **kwargs)\u001B[0m\n\u001B[0;32m    652\u001B[0m start \u001B[38;5;241m=\u001B[39m preferred_clock()\n\u001B[0;32m    654\u001B[0m \u001B[38;5;66;03m# Send the request\u001B[39;00m\n\u001B[1;32m--> 655\u001B[0m r \u001B[38;5;241m=\u001B[39m adapter\u001B[38;5;241m.\u001B[39msend(request, \u001B[38;5;241m*\u001B[39m\u001B[38;5;241m*\u001B[39mkwargs)\n\u001B[0;32m    657\u001B[0m \u001B[38;5;66;03m# Total elapsed time of the request (approximately)\u001B[39;00m\n\u001B[0;32m    658\u001B[0m elapsed \u001B[38;5;241m=\u001B[39m preferred_clock() \u001B[38;5;241m-\u001B[39m start\n",
      "File \u001B[1;32m~\\anaconda3\\lib\\site-packages\\requests\\adapters.py:439\u001B[0m, in \u001B[0;36mHTTPAdapter.send\u001B[1;34m(self, request, stream, timeout, verify, cert, proxies)\u001B[0m\n\u001B[0;32m    437\u001B[0m \u001B[38;5;28;01mtry\u001B[39;00m:\n\u001B[0;32m    438\u001B[0m     \u001B[38;5;28;01mif\u001B[39;00m \u001B[38;5;129;01mnot\u001B[39;00m chunked:\n\u001B[1;32m--> 439\u001B[0m         resp \u001B[38;5;241m=\u001B[39m \u001B[43mconn\u001B[49m\u001B[38;5;241;43m.\u001B[39;49m\u001B[43murlopen\u001B[49m\u001B[43m(\u001B[49m\n\u001B[0;32m    440\u001B[0m \u001B[43m            \u001B[49m\u001B[43mmethod\u001B[49m\u001B[38;5;241;43m=\u001B[39;49m\u001B[43mrequest\u001B[49m\u001B[38;5;241;43m.\u001B[39;49m\u001B[43mmethod\u001B[49m\u001B[43m,\u001B[49m\n\u001B[0;32m    441\u001B[0m \u001B[43m            \u001B[49m\u001B[43murl\u001B[49m\u001B[38;5;241;43m=\u001B[39;49m\u001B[43murl\u001B[49m\u001B[43m,\u001B[49m\n\u001B[0;32m    442\u001B[0m \u001B[43m            \u001B[49m\u001B[43mbody\u001B[49m\u001B[38;5;241;43m=\u001B[39;49m\u001B[43mrequest\u001B[49m\u001B[38;5;241;43m.\u001B[39;49m\u001B[43mbody\u001B[49m\u001B[43m,\u001B[49m\n\u001B[0;32m    443\u001B[0m \u001B[43m            \u001B[49m\u001B[43mheaders\u001B[49m\u001B[38;5;241;43m=\u001B[39;49m\u001B[43mrequest\u001B[49m\u001B[38;5;241;43m.\u001B[39;49m\u001B[43mheaders\u001B[49m\u001B[43m,\u001B[49m\n\u001B[0;32m    444\u001B[0m \u001B[43m            \u001B[49m\u001B[43mredirect\u001B[49m\u001B[38;5;241;43m=\u001B[39;49m\u001B[38;5;28;43;01mFalse\u001B[39;49;00m\u001B[43m,\u001B[49m\n\u001B[0;32m    445\u001B[0m \u001B[43m            \u001B[49m\u001B[43massert_same_host\u001B[49m\u001B[38;5;241;43m=\u001B[39;49m\u001B[38;5;28;43;01mFalse\u001B[39;49;00m\u001B[43m,\u001B[49m\n\u001B[0;32m    446\u001B[0m \u001B[43m            \u001B[49m\u001B[43mpreload_content\u001B[49m\u001B[38;5;241;43m=\u001B[39;49m\u001B[38;5;28;43;01mFalse\u001B[39;49;00m\u001B[43m,\u001B[49m\n\u001B[0;32m    447\u001B[0m \u001B[43m            \u001B[49m\u001B[43mdecode_content\u001B[49m\u001B[38;5;241;43m=\u001B[39;49m\u001B[38;5;28;43;01mFalse\u001B[39;49;00m\u001B[43m,\u001B[49m\n\u001B[0;32m    448\u001B[0m \u001B[43m            \u001B[49m\u001B[43mretries\u001B[49m\u001B[38;5;241;43m=\u001B[39;49m\u001B[38;5;28;43mself\u001B[39;49m\u001B[38;5;241;43m.\u001B[39;49m\u001B[43mmax_retries\u001B[49m\u001B[43m,\u001B[49m\n\u001B[0;32m    449\u001B[0m \u001B[43m            \u001B[49m\u001B[43mtimeout\u001B[49m\u001B[38;5;241;43m=\u001B[39;49m\u001B[43mtimeout\u001B[49m\n\u001B[0;32m    450\u001B[0m \u001B[43m        \u001B[49m\u001B[43m)\u001B[49m\n\u001B[0;32m    452\u001B[0m     \u001B[38;5;66;03m# Send the request.\u001B[39;00m\n\u001B[0;32m    453\u001B[0m     \u001B[38;5;28;01melse\u001B[39;00m:\n\u001B[0;32m    454\u001B[0m         \u001B[38;5;28;01mif\u001B[39;00m \u001B[38;5;28mhasattr\u001B[39m(conn, \u001B[38;5;124m'\u001B[39m\u001B[38;5;124mproxy_pool\u001B[39m\u001B[38;5;124m'\u001B[39m):\n",
      "File \u001B[1;32m~\\anaconda3\\lib\\site-packages\\urllib3\\connectionpool.py:703\u001B[0m, in \u001B[0;36mHTTPConnectionPool.urlopen\u001B[1;34m(self, method, url, body, headers, retries, redirect, assert_same_host, timeout, pool_timeout, release_conn, chunked, body_pos, **response_kw)\u001B[0m\n\u001B[0;32m    700\u001B[0m     \u001B[38;5;28mself\u001B[39m\u001B[38;5;241m.\u001B[39m_prepare_proxy(conn)\n\u001B[0;32m    702\u001B[0m \u001B[38;5;66;03m# Make the request on the httplib connection object.\u001B[39;00m\n\u001B[1;32m--> 703\u001B[0m httplib_response \u001B[38;5;241m=\u001B[39m \u001B[38;5;28;43mself\u001B[39;49m\u001B[38;5;241;43m.\u001B[39;49m\u001B[43m_make_request\u001B[49m\u001B[43m(\u001B[49m\n\u001B[0;32m    704\u001B[0m \u001B[43m    \u001B[49m\u001B[43mconn\u001B[49m\u001B[43m,\u001B[49m\n\u001B[0;32m    705\u001B[0m \u001B[43m    \u001B[49m\u001B[43mmethod\u001B[49m\u001B[43m,\u001B[49m\n\u001B[0;32m    706\u001B[0m \u001B[43m    \u001B[49m\u001B[43murl\u001B[49m\u001B[43m,\u001B[49m\n\u001B[0;32m    707\u001B[0m \u001B[43m    \u001B[49m\u001B[43mtimeout\u001B[49m\u001B[38;5;241;43m=\u001B[39;49m\u001B[43mtimeout_obj\u001B[49m\u001B[43m,\u001B[49m\n\u001B[0;32m    708\u001B[0m \u001B[43m    \u001B[49m\u001B[43mbody\u001B[49m\u001B[38;5;241;43m=\u001B[39;49m\u001B[43mbody\u001B[49m\u001B[43m,\u001B[49m\n\u001B[0;32m    709\u001B[0m \u001B[43m    \u001B[49m\u001B[43mheaders\u001B[49m\u001B[38;5;241;43m=\u001B[39;49m\u001B[43mheaders\u001B[49m\u001B[43m,\u001B[49m\n\u001B[0;32m    710\u001B[0m \u001B[43m    \u001B[49m\u001B[43mchunked\u001B[49m\u001B[38;5;241;43m=\u001B[39;49m\u001B[43mchunked\u001B[49m\u001B[43m,\u001B[49m\n\u001B[0;32m    711\u001B[0m \u001B[43m\u001B[49m\u001B[43m)\u001B[49m\n\u001B[0;32m    713\u001B[0m \u001B[38;5;66;03m# If we're going to release the connection in ``finally:``, then\u001B[39;00m\n\u001B[0;32m    714\u001B[0m \u001B[38;5;66;03m# the response doesn't need to know about the connection. Otherwise\u001B[39;00m\n\u001B[0;32m    715\u001B[0m \u001B[38;5;66;03m# it will also try to release it and we'll have a double-release\u001B[39;00m\n\u001B[0;32m    716\u001B[0m \u001B[38;5;66;03m# mess.\u001B[39;00m\n\u001B[0;32m    717\u001B[0m response_conn \u001B[38;5;241m=\u001B[39m conn \u001B[38;5;28;01mif\u001B[39;00m \u001B[38;5;129;01mnot\u001B[39;00m release_conn \u001B[38;5;28;01melse\u001B[39;00m \u001B[38;5;28;01mNone\u001B[39;00m\n",
      "File \u001B[1;32m~\\anaconda3\\lib\\site-packages\\urllib3\\connectionpool.py:449\u001B[0m, in \u001B[0;36mHTTPConnectionPool._make_request\u001B[1;34m(self, conn, method, url, timeout, chunked, **httplib_request_kw)\u001B[0m\n\u001B[0;32m    444\u001B[0m             httplib_response \u001B[38;5;241m=\u001B[39m conn\u001B[38;5;241m.\u001B[39mgetresponse()\n\u001B[0;32m    445\u001B[0m         \u001B[38;5;28;01mexcept\u001B[39;00m \u001B[38;5;167;01mBaseException\u001B[39;00m \u001B[38;5;28;01mas\u001B[39;00m e:\n\u001B[0;32m    446\u001B[0m             \u001B[38;5;66;03m# Remove the TypeError from the exception chain in\u001B[39;00m\n\u001B[0;32m    447\u001B[0m             \u001B[38;5;66;03m# Python 3 (including for exceptions like SystemExit).\u001B[39;00m\n\u001B[0;32m    448\u001B[0m             \u001B[38;5;66;03m# Otherwise it looks like a bug in the code.\u001B[39;00m\n\u001B[1;32m--> 449\u001B[0m             \u001B[43msix\u001B[49m\u001B[38;5;241;43m.\u001B[39;49m\u001B[43mraise_from\u001B[49m\u001B[43m(\u001B[49m\u001B[43me\u001B[49m\u001B[43m,\u001B[49m\u001B[43m \u001B[49m\u001B[38;5;28;43;01mNone\u001B[39;49;00m\u001B[43m)\u001B[49m\n\u001B[0;32m    450\u001B[0m \u001B[38;5;28;01mexcept\u001B[39;00m (SocketTimeout, BaseSSLError, SocketError) \u001B[38;5;28;01mas\u001B[39;00m e:\n\u001B[0;32m    451\u001B[0m     \u001B[38;5;28mself\u001B[39m\u001B[38;5;241m.\u001B[39m_raise_timeout(err\u001B[38;5;241m=\u001B[39me, url\u001B[38;5;241m=\u001B[39murl, timeout_value\u001B[38;5;241m=\u001B[39mread_timeout)\n",
      "File \u001B[1;32m<string>:3\u001B[0m, in \u001B[0;36mraise_from\u001B[1;34m(value, from_value)\u001B[0m\n",
      "File \u001B[1;32m~\\anaconda3\\lib\\site-packages\\urllib3\\connectionpool.py:444\u001B[0m, in \u001B[0;36mHTTPConnectionPool._make_request\u001B[1;34m(self, conn, method, url, timeout, chunked, **httplib_request_kw)\u001B[0m\n\u001B[0;32m    441\u001B[0m \u001B[38;5;28;01mexcept\u001B[39;00m \u001B[38;5;167;01mTypeError\u001B[39;00m:\n\u001B[0;32m    442\u001B[0m     \u001B[38;5;66;03m# Python 3\u001B[39;00m\n\u001B[0;32m    443\u001B[0m     \u001B[38;5;28;01mtry\u001B[39;00m:\n\u001B[1;32m--> 444\u001B[0m         httplib_response \u001B[38;5;241m=\u001B[39m \u001B[43mconn\u001B[49m\u001B[38;5;241;43m.\u001B[39;49m\u001B[43mgetresponse\u001B[49m\u001B[43m(\u001B[49m\u001B[43m)\u001B[49m\n\u001B[0;32m    445\u001B[0m     \u001B[38;5;28;01mexcept\u001B[39;00m \u001B[38;5;167;01mBaseException\u001B[39;00m \u001B[38;5;28;01mas\u001B[39;00m e:\n\u001B[0;32m    446\u001B[0m         \u001B[38;5;66;03m# Remove the TypeError from the exception chain in\u001B[39;00m\n\u001B[0;32m    447\u001B[0m         \u001B[38;5;66;03m# Python 3 (including for exceptions like SystemExit).\u001B[39;00m\n\u001B[0;32m    448\u001B[0m         \u001B[38;5;66;03m# Otherwise it looks like a bug in the code.\u001B[39;00m\n\u001B[0;32m    449\u001B[0m         six\u001B[38;5;241m.\u001B[39mraise_from(e, \u001B[38;5;28;01mNone\u001B[39;00m)\n",
      "File \u001B[1;32m~\\anaconda3\\lib\\http\\client.py:1371\u001B[0m, in \u001B[0;36mHTTPConnection.getresponse\u001B[1;34m(self)\u001B[0m\n\u001B[0;32m   1369\u001B[0m \u001B[38;5;28;01mtry\u001B[39;00m:\n\u001B[0;32m   1370\u001B[0m     \u001B[38;5;28;01mtry\u001B[39;00m:\n\u001B[1;32m-> 1371\u001B[0m         \u001B[43mresponse\u001B[49m\u001B[38;5;241;43m.\u001B[39;49m\u001B[43mbegin\u001B[49m\u001B[43m(\u001B[49m\u001B[43m)\u001B[49m\n\u001B[0;32m   1372\u001B[0m     \u001B[38;5;28;01mexcept\u001B[39;00m \u001B[38;5;167;01mConnectionError\u001B[39;00m:\n\u001B[0;32m   1373\u001B[0m         \u001B[38;5;28mself\u001B[39m\u001B[38;5;241m.\u001B[39mclose()\n",
      "File \u001B[1;32m~\\anaconda3\\lib\\http\\client.py:319\u001B[0m, in \u001B[0;36mHTTPResponse.begin\u001B[1;34m(self)\u001B[0m\n\u001B[0;32m    317\u001B[0m \u001B[38;5;66;03m# read until we get a non-100 response\u001B[39;00m\n\u001B[0;32m    318\u001B[0m \u001B[38;5;28;01mwhile\u001B[39;00m \u001B[38;5;28;01mTrue\u001B[39;00m:\n\u001B[1;32m--> 319\u001B[0m     version, status, reason \u001B[38;5;241m=\u001B[39m \u001B[38;5;28;43mself\u001B[39;49m\u001B[38;5;241;43m.\u001B[39;49m\u001B[43m_read_status\u001B[49m\u001B[43m(\u001B[49m\u001B[43m)\u001B[49m\n\u001B[0;32m    320\u001B[0m     \u001B[38;5;28;01mif\u001B[39;00m status \u001B[38;5;241m!=\u001B[39m CONTINUE:\n\u001B[0;32m    321\u001B[0m         \u001B[38;5;28;01mbreak\u001B[39;00m\n",
      "File \u001B[1;32m~\\anaconda3\\lib\\http\\client.py:280\u001B[0m, in \u001B[0;36mHTTPResponse._read_status\u001B[1;34m(self)\u001B[0m\n\u001B[0;32m    279\u001B[0m \u001B[38;5;28;01mdef\u001B[39;00m \u001B[38;5;21m_read_status\u001B[39m(\u001B[38;5;28mself\u001B[39m):\n\u001B[1;32m--> 280\u001B[0m     line \u001B[38;5;241m=\u001B[39m \u001B[38;5;28mstr\u001B[39m(\u001B[38;5;28;43mself\u001B[39;49m\u001B[38;5;241;43m.\u001B[39;49m\u001B[43mfp\u001B[49m\u001B[38;5;241;43m.\u001B[39;49m\u001B[43mreadline\u001B[49m\u001B[43m(\u001B[49m\u001B[43m_MAXLINE\u001B[49m\u001B[43m \u001B[49m\u001B[38;5;241;43m+\u001B[39;49m\u001B[43m \u001B[49m\u001B[38;5;241;43m1\u001B[39;49m\u001B[43m)\u001B[49m, \u001B[38;5;124m\"\u001B[39m\u001B[38;5;124miso-8859-1\u001B[39m\u001B[38;5;124m\"\u001B[39m)\n\u001B[0;32m    281\u001B[0m     \u001B[38;5;28;01mif\u001B[39;00m \u001B[38;5;28mlen\u001B[39m(line) \u001B[38;5;241m>\u001B[39m _MAXLINE:\n\u001B[0;32m    282\u001B[0m         \u001B[38;5;28;01mraise\u001B[39;00m LineTooLong(\u001B[38;5;124m\"\u001B[39m\u001B[38;5;124mstatus line\u001B[39m\u001B[38;5;124m\"\u001B[39m)\n",
      "File \u001B[1;32m~\\anaconda3\\lib\\socket.py:704\u001B[0m, in \u001B[0;36mSocketIO.readinto\u001B[1;34m(self, b)\u001B[0m\n\u001B[0;32m    702\u001B[0m \u001B[38;5;28;01mwhile\u001B[39;00m \u001B[38;5;28;01mTrue\u001B[39;00m:\n\u001B[0;32m    703\u001B[0m     \u001B[38;5;28;01mtry\u001B[39;00m:\n\u001B[1;32m--> 704\u001B[0m         \u001B[38;5;28;01mreturn\u001B[39;00m \u001B[38;5;28;43mself\u001B[39;49m\u001B[38;5;241;43m.\u001B[39;49m\u001B[43m_sock\u001B[49m\u001B[38;5;241;43m.\u001B[39;49m\u001B[43mrecv_into\u001B[49m\u001B[43m(\u001B[49m\u001B[43mb\u001B[49m\u001B[43m)\u001B[49m\n\u001B[0;32m    705\u001B[0m     \u001B[38;5;28;01mexcept\u001B[39;00m timeout:\n\u001B[0;32m    706\u001B[0m         \u001B[38;5;28mself\u001B[39m\u001B[38;5;241m.\u001B[39m_timeout_occurred \u001B[38;5;241m=\u001B[39m \u001B[38;5;28;01mTrue\u001B[39;00m\n",
      "File \u001B[1;32m~\\anaconda3\\lib\\ssl.py:1241\u001B[0m, in \u001B[0;36mSSLSocket.recv_into\u001B[1;34m(self, buffer, nbytes, flags)\u001B[0m\n\u001B[0;32m   1237\u001B[0m     \u001B[38;5;28;01mif\u001B[39;00m flags \u001B[38;5;241m!=\u001B[39m \u001B[38;5;241m0\u001B[39m:\n\u001B[0;32m   1238\u001B[0m         \u001B[38;5;28;01mraise\u001B[39;00m \u001B[38;5;167;01mValueError\u001B[39;00m(\n\u001B[0;32m   1239\u001B[0m           \u001B[38;5;124m\"\u001B[39m\u001B[38;5;124mnon-zero flags not allowed in calls to recv_into() on \u001B[39m\u001B[38;5;132;01m%s\u001B[39;00m\u001B[38;5;124m\"\u001B[39m \u001B[38;5;241m%\u001B[39m\n\u001B[0;32m   1240\u001B[0m           \u001B[38;5;28mself\u001B[39m\u001B[38;5;241m.\u001B[39m\u001B[38;5;18m__class__\u001B[39m)\n\u001B[1;32m-> 1241\u001B[0m     \u001B[38;5;28;01mreturn\u001B[39;00m \u001B[38;5;28;43mself\u001B[39;49m\u001B[38;5;241;43m.\u001B[39;49m\u001B[43mread\u001B[49m\u001B[43m(\u001B[49m\u001B[43mnbytes\u001B[49m\u001B[43m,\u001B[49m\u001B[43m \u001B[49m\u001B[43mbuffer\u001B[49m\u001B[43m)\u001B[49m\n\u001B[0;32m   1242\u001B[0m \u001B[38;5;28;01melse\u001B[39;00m:\n\u001B[0;32m   1243\u001B[0m     \u001B[38;5;28;01mreturn\u001B[39;00m \u001B[38;5;28msuper\u001B[39m()\u001B[38;5;241m.\u001B[39mrecv_into(buffer, nbytes, flags)\n",
      "File \u001B[1;32m~\\anaconda3\\lib\\ssl.py:1099\u001B[0m, in \u001B[0;36mSSLSocket.read\u001B[1;34m(self, len, buffer)\u001B[0m\n\u001B[0;32m   1097\u001B[0m \u001B[38;5;28;01mtry\u001B[39;00m:\n\u001B[0;32m   1098\u001B[0m     \u001B[38;5;28;01mif\u001B[39;00m buffer \u001B[38;5;129;01mis\u001B[39;00m \u001B[38;5;129;01mnot\u001B[39;00m \u001B[38;5;28;01mNone\u001B[39;00m:\n\u001B[1;32m-> 1099\u001B[0m         \u001B[38;5;28;01mreturn\u001B[39;00m \u001B[38;5;28;43mself\u001B[39;49m\u001B[38;5;241;43m.\u001B[39;49m\u001B[43m_sslobj\u001B[49m\u001B[38;5;241;43m.\u001B[39;49m\u001B[43mread\u001B[49m\u001B[43m(\u001B[49m\u001B[38;5;28;43mlen\u001B[39;49m\u001B[43m,\u001B[49m\u001B[43m \u001B[49m\u001B[43mbuffer\u001B[49m\u001B[43m)\u001B[49m\n\u001B[0;32m   1100\u001B[0m     \u001B[38;5;28;01melse\u001B[39;00m:\n\u001B[0;32m   1101\u001B[0m         \u001B[38;5;28;01mreturn\u001B[39;00m \u001B[38;5;28mself\u001B[39m\u001B[38;5;241m.\u001B[39m_sslobj\u001B[38;5;241m.\u001B[39mread(\u001B[38;5;28mlen\u001B[39m)\n",
      "\u001B[1;31mKeyboardInterrupt\u001B[0m: "
     ]
    }
   ],
   "source": [
    "infodefensa= Website('Infodefensa', 'https://www.infodefensa.com/' ,'^(/texto-diario/)', False, 'h1', 'div#article_content.article_content.story_editor')\n",
    "\n",
    "crawler = Crawler(infodefensa)\n",
    "crawler.crawl()"
   ],
   "metadata": {
    "collapsed": false,
    "pycharm": {
     "name": "#%%\n"
    }
   }
  }
 ],
 "metadata": {
  "kernelspec": {
   "display_name": "Python 3",
   "language": "python",
   "name": "python3"
  },
  "language_info": {
   "codemirror_mode": {
    "name": "ipython",
    "version": 2
   },
   "file_extension": ".py",
   "mimetype": "text/x-python",
   "name": "python",
   "nbconvert_exporter": "python",
   "pygments_lexer": "ipython2",
   "version": "2.7.6"
  }
 },
 "nbformat": 4,
 "nbformat_minor": 0
}