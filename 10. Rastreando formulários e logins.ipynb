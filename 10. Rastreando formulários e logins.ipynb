{
 "cells": [
  {
   "cell_type": "markdown",
   "source": [
    "# Capítulo 10 - Rastreando formulários e logins"
   ],
   "metadata": {
    "collapsed": false
   }
  },
  {
   "cell_type": "markdown",
   "source": [
    "## Submetendo um formulário básico"
   ],
   "metadata": {
    "collapsed": false
   }
  },
  {
   "cell_type": "code",
   "execution_count": 2,
   "outputs": [
    {
     "name": "stdout",
     "output_type": "stream",
     "text": [
      "Hello there, Bibi Meu amor!\n"
     ]
    }
   ],
   "source": [
    "import requests\n",
    "\n",
    "params = {\n",
    "\t'firstname': 'Bibi',\n",
    "\t'lastname': 'Meu amor'\n",
    "}\n",
    "\n",
    "r = requests.post('https://pythonscraping.com/pages/files/processing.php', data=params)\n",
    "print(r.text)"
   ],
   "metadata": {
    "collapsed": false
   }
  },
  {
   "cell_type": "markdown",
   "source": [
    "## Submetendo arquivos e imagens\n"
   ],
   "metadata": {
    "collapsed": false
   }
  },
  {
   "cell_type": "code",
   "execution_count": 3,
   "outputs": [
    {
     "name": "stdout",
     "output_type": "stream",
     "text": [
      "uploads/python.jpg\n",
      "The file python.jpg has been uploaded.\n"
     ]
    }
   ],
   "source": [
    "import requests\n",
    "\n",
    "files = {\n",
    "\t'uploadFile': open('python.jpg', 'rb')\n",
    "}\n",
    "\n",
    "r = requests.post('https://pythonscraping.com/pages/files/processing2.php', files=files)\n",
    "\n",
    "print(r.text)"
   ],
   "metadata": {
    "collapsed": false
   }
  },
  {
   "cell_type": "markdown",
   "source": [
    "## Lidando com logins e cookies"
   ],
   "metadata": {
    "collapsed": false
   }
  },
  {
   "cell_type": "code",
   "execution_count": 20,
   "outputs": [
    {
     "name": "stdout",
     "output_type": "stream",
     "text": [
      "Cookie está definido para:\n",
      "\t\t {'loggedin': '1', 'username': 'Willian'}\n",
      "Info para o profile page:\n",
      "\t\t Hey Willian! Looks like you're still logged into the site!\n"
     ]
    }
   ],
   "source": [
    "import requests\n",
    "\n",
    "params= {'username': 'Willian', 'password': 'password'}\n",
    "\n",
    "r = requests.post('https://pythonscraping.com/pages/cookies/welcome.php', data=params)\n",
    "print(f\"Cookie está definido para:\\n\\t\\t {r.cookies.get_dict()}\")\n",
    "\n",
    "print(f\"Info para o profile page:\\n\\t\\t {requests.get('https://pythonscraping.com/pages/cookies/profile.php', cookies=r.cookies).text}\")"
   ],
   "metadata": {
    "collapsed": false
   }
  },
  {
   "cell_type": "code",
   "execution_count": 21,
   "outputs": [
    {
     "name": "stdout",
     "output_type": "stream",
     "text": [
      "Cookie está definido para:\n",
      "\t\t {'loggedin': '1', 'username': 'Willian'}\n",
      "Info para o profile page:\n",
      "\t\t Hey Willian! Looks like you're still logged into the site!\n"
     ]
    }
   ],
   "source": [
    "# Se o site muda muito de sessão o ideal é abrir uma Session()\n",
    "\n",
    "import requests\n",
    "session = requests.Session()\n",
    "params= {'username': 'Willian', 'password': 'password'}\n",
    "\n",
    "s = session.post('https://pythonscraping.com/pages/cookies/welcome.php', data=params)\n",
    "print(f\"Cookie está definido para:\\n\\t\\t {s.cookies.get_dict()}\")\n",
    "\n",
    "print(f\"Info para o profile page:\\n\\t\\t {session.get('https://pythonscraping.com/pages/cookies/profile.php', cookies=r.cookies).text}\")\n"
   ],
   "metadata": {
    "collapsed": false
   }
  },
  {
   "cell_type": "markdown",
   "source": [
    "### Autenticação de acesso básico do HTTP\n"
   ],
   "metadata": {
    "collapsed": false
   }
  },
  {
   "cell_type": "code",
   "execution_count": 22,
   "outputs": [
    {
     "name": "stdout",
     "output_type": "stream",
     "text": [
      "<p>Hello willian.</p><p>You entered password as your password.</p>\n"
     ]
    }
   ],
   "source": [
    "# Importando o módulo auth\n",
    "\n",
    "import requests\n",
    "from requests.auth import AuthBase\n",
    "from requests.auth import HTTPBasicAuth\n",
    "\n",
    "auth = HTTPBasicAuth('willian','password')\n",
    "r = requests.post(url='https://pythonscraping.com/pages/auth/login.php', auth=auth)\n",
    "print(r.text)"
   ],
   "metadata": {
    "collapsed": false
   }
  }
 ],
 "metadata": {
  "kernelspec": {
   "display_name": "Python 3",
   "language": "python",
   "name": "python3"
  },
  "language_info": {
   "codemirror_mode": {
    "name": "ipython",
    "version": 2
   },
   "file_extension": ".py",
   "mimetype": "text/x-python",
   "name": "python",
   "nbconvert_exporter": "python",
   "pygments_lexer": "ipython2",
   "version": "2.7.6"
  }
 },
 "nbformat": 4,
 "nbformat_minor": 0
}
