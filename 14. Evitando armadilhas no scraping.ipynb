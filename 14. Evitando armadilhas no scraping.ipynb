{
 "cells": [
  {
   "cell_type": "markdown",
   "source": [
    "# Capítulo 14 - Evitando armadilhas no scraping"
   ],
   "metadata": {
    "collapsed": false
   }
  },
  {
   "cell_type": "markdown",
   "source": [
    "## Parecendo um humano\n",
    "### Ajuste seus cabeçalhos"
   ],
   "metadata": {
    "collapsed": false
   }
  },
  {
   "cell_type": "code",
   "execution_count": 2,
   "outputs": [
    {
     "name": "stdout",
     "output_type": "stream",
     "text": [
      "<bound method PageElement.get_text of <table class=\"table table-striped table-data\">\n",
      "<tr>\n",
      "<th>ACCEPT</th>\n",
      "<td>text/html,application/xhtml+xml,application/xml;q=0.9,image/webp,*/*;q=0.8</td>\n",
      "</tr>\n",
      "<tr>\n",
      "<th>ACCEPT-ENCODING</th>\n",
      "<td>gzip, deflate, br</td>\n",
      "</tr>\n",
      "<tr>\n",
      "<th>CONNECTION</th>\n",
      "<td>keep-alive</td>\n",
      "</tr>\n",
      "<tr>\n",
      "<th>CONTENT-LENGTH</th>\n",
      "<td></td>\n",
      "</tr>\n",
      "<tr>\n",
      "<th>CONTENT-TYPE</th>\n",
      "<td></td>\n",
      "</tr>\n",
      "<tr>\n",
      "<th>HOST</th>\n",
      "<td>www.whatismybrowser.com</td>\n",
      "</tr>\n",
      "<tr>\n",
      "<th>USER-AGENT</th>\n",
      "<td>Mozilla/5.0 (Macintosh; Intel Mac OS X 10_9_5)AppleWebKit 537.36 (KHTML, like Gecko) Chrome</td>\n",
      "</tr>\n",
      "</table>>\n"
     ]
    }
   ],
   "source": [
    "import requests\n",
    "from bs4 import BeautifulSoup\n",
    "\n",
    "session = requests.Session()\n",
    "headers = {'User-Agent':'Mozilla/5.0 (Macintosh; Intel Mac OS X 10_9_5)'   # definindo os headers\n",
    "           'AppleWebKit 537.36 (KHTML, like Gecko) Chrome',\n",
    "           'Accept':'text/html,application/xhtml+xml,application/xml;'\n",
    "           'q=0.9,image/webp,*/*;q=0.8'}\n",
    "url = 'https://www.whatismybrowser.com/'\\\n",
    "'developers/what-http-headers-is-my-browser-sending'\n",
    "req = session.get(url, headers=headers)\n",
    "\n",
    "bs = BeautifulSoup(req.text, 'html.parser')\n",
    "print(bs.find('table',{'class':'table-striped'}).get_text)"
   ],
   "metadata": {
    "collapsed": false
   }
  },
  {
   "cell_type": "markdown",
   "source": [
    "### Lidando com cookies em Javascript"
   ],
   "metadata": {
    "collapsed": false
   }
  },
  {
   "cell_type": "code",
   "execution_count": 12,
   "outputs": [],
   "source": [
    "url = 'https://portal.trf1.jus.br/portaltrf1/pagina-inicial.htm'"
   ],
   "metadata": {
    "collapsed": false
   }
  },
  {
   "cell_type": "code",
   "execution_count": 13,
   "outputs": [
    {
     "name": "stdout",
     "output_type": "stream",
     "text": [
      "[{'domain': 'portal.trf1.jus.br', 'httpOnly': False, 'name': 'lumUserLocale', 'path': '/', 'secure': False, 'value': 'pt_BR'}, {'domain': 'portal.trf1.jus.br', 'httpOnly': False, 'name': 'lumUserLogin', 'path': '/', 'secure': False, 'value': 'guest'}, {'domain': 'portal.trf1.jus.br', 'httpOnly': False, 'name': 'lumUserName', 'path': '/', 'secure': False, 'value': 'Guest'}, {'domain': 'portal.trf1.jus.br', 'httpOnly': False, 'name': 'lumUserSessionId', 'path': '/', 'secure': False, 'value': '2C90833883AC942D0183AD275B627698'}, {'domain': '.portal.trf1.jus.br', 'expiry': 1665059181, 'httpOnly': False, 'name': '__utmb', 'path': '/', 'secure': False, 'value': '231436958.1.10.1665057382'}, {'domain': '.portal.trf1.jus.br', 'httpOnly': False, 'name': '__utmc', 'path': '/', 'secure': False, 'value': '231436958'}, {'domain': '.portal.trf1.jus.br', 'expiry': 1699617381, 'httpOnly': False, 'name': '__utma', 'path': '/', 'secure': False, 'value': '231436958.2116304663.1665057382.1665057382.1665057382.1'}, {'domain': 'portal.trf1.jus.br', 'httpOnly': False, 'name': 'lumUserId', 'path': '/', 'secure': False, 'value': '00000000D00000000000000000000002'}, {'domain': 'portal.trf1.jus.br', 'httpOnly': False, 'name': 'JSESSIONID', 'path': '/', 'secure': True, 'value': 'B40FF8A6C394BCD7A55C5C53FE0D7E7E.n1portal'}, {'domain': 'portal.trf1.jus.br', 'expiry': 1699617383, 'httpOnly': False, 'name': 'Qr1B4j3mrGeQRUEGtUfr4SbKHrcm07l7X+vwmq23gyG1clmWX97qz2Q_', 'path': '/', 'secure': False, 'value': 'v1mdE+Je+C1Ox'}, {'domain': '.portal.trf1.jus.br', 'expiry': 1680825381, 'httpOnly': False, 'name': '__utmz', 'path': '/', 'secure': False, 'value': '231436958.1665057382.1.1.utmcsr=(direct)|utmccn=(direct)|utmcmd=(none)'}, {'domain': '.portal.trf1.jus.br', 'expiry': 1665057981, 'httpOnly': False, 'name': '__utmt', 'path': '/', 'secure': False, 'value': '1'}, {'domain': 'portal.trf1.jus.br', 'expiry': 1696593378, 'httpOnly': False, 'name': 'TRF1style', 'path': '/', 'secure': False, 'value': 'default'}]\n"
     ]
    }
   ],
   "source": [
    "from selenium import webdriver\n",
    "from selenium.webdriver import ChromeOptions\n",
    "options = ChromeOptions()\n",
    "options.add_argument(\"--headless\")\n",
    "driver = webdriver.Chrome(\n",
    "    executable_path='chromedriver.exe',\n",
    "    options=options)\n",
    "driver.get(url)\n",
    "driver.implicitly_wait(1)\n",
    "print(driver.get_cookies())"
   ],
   "metadata": {
    "collapsed": false
   }
  },
  {
   "cell_type": "code",
   "execution_count": 15,
   "outputs": [
    {
     "name": "stdout",
     "output_type": "stream",
     "text": [
      "[{'domain': 'portal.trf1.jus.br', 'httpOnly': False, 'name': 'lumUserLocale', 'path': '/', 'secure': False, 'value': 'pt_BR'}, {'domain': 'portal.trf1.jus.br', 'httpOnly': False, 'name': 'lumUserLogin', 'path': '/', 'secure': False, 'value': 'guest'}, {'domain': 'portal.trf1.jus.br', 'httpOnly': False, 'name': 'lumUserName', 'path': '/', 'secure': False, 'value': 'Guest'}, {'domain': 'portal.trf1.jus.br', 'httpOnly': False, 'name': 'lumUserSessionId', 'path': '/', 'secure': False, 'value': '2C90833883AC942D0183AD288AC910C4'}, {'domain': '.portal.trf1.jus.br', 'expiry': 1665059256, 'httpOnly': False, 'name': '__utmb', 'path': '/', 'secure': False, 'value': '231436958.1.10.1665057457'}, {'domain': '.portal.trf1.jus.br', 'httpOnly': False, 'name': '__utmc', 'path': '/', 'secure': False, 'value': '231436958'}, {'domain': '.portal.trf1.jus.br', 'expiry': 1699617456, 'httpOnly': False, 'name': '__utma', 'path': '/', 'secure': False, 'value': '231436958.2072439319.1665057457.1665057457.1665057457.1'}, {'domain': 'portal.trf1.jus.br', 'httpOnly': False, 'name': 'lumUserId', 'path': '/', 'secure': False, 'value': '00000000D00000000000000000000002'}, {'domain': 'portal.trf1.jus.br', 'httpOnly': False, 'name': 'JSESSIONID', 'path': '/', 'secure': True, 'value': '42A45066254293BD55519EA48BA7E979.n1portal'}, {'domain': 'portal.trf1.jus.br', 'expiry': 1699617461, 'httpOnly': False, 'name': 'Qr1B4j3mrGeQRUEGtUfr4SbKHrcm07l7X+vwmq23gyG1clmWX97qz2Q_', 'path': '/', 'secure': False, 'value': 'v1mdE+Je+C1Ox'}, {'domain': '.portal.trf1.jus.br', 'expiry': 1680825456, 'httpOnly': False, 'name': '__utmz', 'path': '/', 'secure': False, 'value': '231436958.1665057457.1.1.utmcsr=(direct)|utmccn=(direct)|utmcmd=(none)'}, {'domain': '.portal.trf1.jus.br', 'expiry': 1665058056, 'httpOnly': False, 'name': '__utmt', 'path': '/', 'secure': False, 'value': '1'}, {'domain': 'portal.trf1.jus.br', 'expiry': 1696593455, 'httpOnly': False, 'name': 'TRF1style', 'path': '/', 'secure': False, 'value': 'default'}]\n",
      "[{'domain': 'portal.trf1.jus.br', 'expiry': 1696593470, 'httpOnly': False, 'name': 'TRF1style', 'path': '/', 'secure': False, 'value': 'default'}, {'domain': '.portal.trf1.jus.br', 'expiry': 1699617461, 'httpOnly': False, 'name': 'Qr1B4j3mrGeQRUEGtUfr4SbKHrcm07l7X+vwmq23gyG1clmWX97qz2Q_', 'path': '/', 'secure': True, 'value': 'v1mdE+Je+C1Ox'}, {'domain': '.portal.trf1.jus.br', 'httpOnly': False, 'name': 'JSESSIONID', 'path': '/', 'secure': True, 'value': '42A45066254293BD55519EA48BA7E979.n1portal'}, {'domain': '.portal.trf1.jus.br', 'httpOnly': False, 'name': 'lumUserId', 'path': '/', 'secure': True, 'value': '00000000D00000000000000000000002'}, {'domain': '.portal.trf1.jus.br', 'expiry': 1696593455, 'httpOnly': False, 'name': 'TRF1style', 'path': '/', 'secure': True, 'value': 'default'}, {'domain': '.portal.trf1.jus.br', 'expiry': 1699617470, 'httpOnly': False, 'name': '__utma', 'path': '/', 'secure': False, 'value': '231436958.2072439319.1665057457.1665057457.1665057457.1'}, {'domain': 'portal.trf1.jus.br', 'expiry': 1699617470, 'httpOnly': False, 'name': 'Qr1B4j3mrGeQRUEGtUfr4SbKHrcm07l7X+vwmq23gyG1clmWX97qz2Q_', 'path': '/', 'secure': False, 'value': 'v1mdE+Je+C1Ox'}, {'domain': '.portal.trf1.jus.br', 'expiry': 1665058056, 'httpOnly': False, 'name': '__utmt', 'path': '/', 'secure': True, 'value': '1'}, {'domain': '.portal.trf1.jus.br', 'httpOnly': False, 'name': '__utmc', 'path': '/', 'secure': False, 'value': '231436958'}, {'domain': '.portal.trf1.jus.br', 'expiry': 1665059270, 'httpOnly': False, 'name': '__utmb', 'path': '/', 'secure': False, 'value': '231436958.2.10.1665057457'}, {'domain': '.portal.trf1.jus.br', 'httpOnly': False, 'name': 'lumUserSessionId', 'path': '/', 'secure': True, 'value': '2C90833883AC942D0183AD288AC910C4'}, {'domain': '.portal.trf1.jus.br', 'httpOnly': False, 'name': 'lumUserName', 'path': '/', 'secure': True, 'value': 'Guest'}, {'domain': '.portal.trf1.jus.br', 'httpOnly': False, 'name': 'lumUserLogin', 'path': '/', 'secure': True, 'value': 'guest'}, {'domain': '.portal.trf1.jus.br', 'expiry': 1680825470, 'httpOnly': False, 'name': '__utmz', 'path': '/', 'secure': False, 'value': '231436958.1665057457.1.1.utmcsr=(direct)|utmccn=(direct)|utmcmd=(none)'}, {'domain': '.portal.trf1.jus.br', 'httpOnly': False, 'name': 'lumUserLocale', 'path': '/', 'secure': True, 'value': 'pt_BR'}]\n"
     ]
    }
   ],
   "source": [
    "from selenium import webdriver\n",
    "from selenium.webdriver.chrome.options import Options\n",
    "\n",
    "chrome_options = Options()\n",
    "chrome_options.add_argument(\"--headless\")\n",
    "\n",
    "driver = webdriver.Chrome(\n",
    "    executable_path='chromedriver.exe',\n",
    "    options=chrome_options)\n",
    "driver.get(url)\n",
    "driver.implicitly_wait(1)\n",
    "\n",
    "savedCookies = driver.get_cookies()\n",
    "print(savedCookies)\n",
    "\n",
    "driver2 = webdriver.Chrome(\n",
    "    executable_path='chromedriver.exe',\n",
    "    options=chrome_options)\n",
    "\n",
    "driver2.get(url)\n",
    "driver2.delete_all_cookies()\n",
    "for cookie in savedCookies:\n",
    "    driver2.add_cookie(cookie)\n",
    "\n",
    "driver2.get(url)\n",
    "driver.implicitly_wait(1)\n",
    "print(driver2.get_cookies())"
   ],
   "metadata": {
    "collapsed": false
   }
  },
  {
   "cell_type": "markdown",
   "source": [
    "### Recursos de segurança comuns em formulários"
   ],
   "metadata": {
    "collapsed": false
   }
  }
 ],
 "metadata": {
  "kernelspec": {
   "display_name": "Python 3",
   "language": "python",
   "name": "python3"
  },
  "language_info": {
   "codemirror_mode": {
    "name": "ipython",
    "version": 2
   },
   "file_extension": ".py",
   "mimetype": "text/x-python",
   "name": "python",
   "nbconvert_exporter": "python",
   "pygments_lexer": "ipython2",
   "version": "2.7.6"
  }
 },
 "nbformat": 4,
 "nbformat_minor": 0
}
