{
 "cells": [
  {
   "cell_type": "markdown",
   "metadata": {},
   "source": [
    "<h1 align=center><b>Capítulo 4</b></h1>\n",
    "<h1 align=center>Scraping usando <i>pyquery</i> - uma biblioteca Python</h1>"
   ]
  },
  {
   "cell_type": "markdown",
   "metadata": {},
   "source": [
    "*pyquery* é uma biblioteca que usa a biblioteca *lxml* para interagir com o ambiente de uma forma mais fácil. Utiliza também os seletores CSS:\n",
    "\n",
    "`page.find('a').attr('href')`\n",
    "\n",
    "## Explorando o *pyquery*"
   ]
  },
  {
   "cell_type": "code",
   "execution_count": 5,
   "metadata": {},
   "outputs": [
    {
     "name": "stdout",
     "output_type": "stream",
     "text": [
      "['Fn', '__add__', '__call__', '__class__', '__contains__', '__delattr__', '__delitem__', '__dict__', '__dir__', '__doc__', '__eq__', '__format__', '__ge__', '__getattribute__', '__getitem__', '__gt__', '__hash__', '__html__', '__iadd__', '__imul__', '__init__', '__init_subclass__', '__iter__', '__le__', '__len__', '__lt__', '__module__', '__mul__', '__ne__', '__new__', '__reduce__', '__reduce_ex__', '__repr__', '__reversed__', '__rmul__', '__setattr__', '__setitem__', '__sizeof__', '__str__', '__subclasshook__', '__unicode__', '__weakref__', '_append', '_copy', '_css_to_xpath', '_extend', '_filter_only', '_get_root', '_next_all', '_prev_all', '_translator_class', '_traverse', '_traverse_parent_topdown', 'addClass', 'add_class', 'after', 'append', 'appendTo', 'append_to', 'attr', 'base_url', 'before', 'children', 'clear', 'clone', 'closest', 'contents', 'copy', 'count', 'css', 'each', 'empty', 'encoding', 'end', 'eq', 'extend', 'filter', 'find', 'fn', 'hasClass', 'has_class', 'height', 'hide', 'html', 'index', 'insert', 'insertAfter', 'insertBefore', 'insert_after', 'insert_before', 'is_', 'items', 'length', 'make_links_absolute', 'map', 'next', 'nextAll', 'next_all', 'not_', 'outerHtml', 'outer_html', 'parent', 'parents', 'pop', 'prepend', 'prependTo', 'prepend_to', 'prev', 'prevAll', 'prev_all', 'remove', 'removeAttr', 'removeClass', 'remove_attr', 'remove_class', 'remove_namespaces', 'replaceAll', 'replaceWith', 'replace_all', 'replace_with', 'reverse', 'root', 'serialize', 'serializeArray', 'serializeDict', 'serializePairs', 'serialize_array', 'serialize_dict', 'serialize_pairs', 'show', 'siblings', 'size', 'sort', 'text', 'toggleClass', 'toggle_class', 'val', 'width', 'wrap', 'wrapAll', 'wrap_all', 'xhtml_to_html']\n"
     ]
    }
   ],
   "source": [
    "from pyquery import PyQuery as pq\n",
    "print(dir(pq))"
   ]
  },
  {
   "cell_type": "markdown",
   "metadata": {},
   "source": [
    "## Carregando documentos"
   ]
  },
  {
   "cell_type": "code",
   "execution_count": 8,
   "metadata": {},
   "outputs": [
    {
     "data": {
      "text/plain": [
       "'<!doctype html>\\n<html>\\n<head>\\n    <title>Example Domain</title>\\n\\n    <meta charset=\"utf-8\" />\\n    <meta http-equiv=\"Content-type\" content=\"text/html; charset=utf-8\" />\\n    <meta name=\"viewport\" content=\"width=device-width, initial-scale=1\" />\\n    <style type=\"text/css\">\\n    body {\\n        background-color: #f0f0f2;\\n        margin: 0;\\n        padding: 0;\\n        font-family: -apple-system, system-ui, BlinkMacSystemFont, \"Segoe UI\", \"Open Sans\", \"Helvetica Neue\", Helvetica, Arial, sans-serif;\\n        \\n    }\\n    div {\\n        width: 600px;\\n        margin: 5em auto;\\n        padding: 2em;\\n        background-color: #fdfdff;\\n        border-radius: 0.5em;\\n        box-shadow: 2px 3px 7px 2px rgba(0,0,0,0.02);\\n    }\\n    a:link, a:visited {\\n        color: #38488f;\\n        text-decoration: none;\\n    }\\n    @media (max-width: 700px) {\\n        div {\\n            margin: 0 auto;\\n            width: auto;\\n        }\\n    }\\n    </style>    \\n</head>\\n\\n<body>\\n<div>\\n    <h1>Example Domain</h1>\\n    <p>This domain is for use in illustrative examples in documents. You may use this\\n    domain in literature without prior coordination or asking for permission.</p>\\n    <p><a href=\"https://www.iana.org/domains/example\">More information...</a></p>\\n</div>\\n</body>\\n</html>\\n'"
      ]
     },
     "execution_count": 8,
     "metadata": {},
     "output_type": "execute_result"
    }
   ],
   "source": [
    "from pyquery import PyQuery as pq\n",
    "\n",
    "import requests\n",
    "\n",
    "response = requests.get('http://www.example.com').text # conteúdo\n",
    "\n",
    "response\n"
   ]
  },
  {
   "cell_type": "code",
   "execution_count": 10,
   "metadata": {},
   "outputs": [
    {
     "data": {
      "text/plain": [
       "b'<!doctype html>\\n<html>\\n<head>\\n    <title>Example Domain</title>\\n\\n    <meta charset=\"utf-8\" />\\n    <meta http-equiv=\"Content-type\" content=\"text/html; charset=utf-8\" />\\n    <meta name=\"viewport\" content=\"width=device-width, initial-scale=1\" />\\n    <style type=\"text/css\">\\n    body {\\n        background-color: #f0f0f2;\\n        margin: 0;\\n        padding: 0;\\n        font-family: -apple-system, system-ui, BlinkMacSystemFont, \"Segoe UI\", \"Open Sans\", \"Helvetica Neue\", Helvetica, Arial, sans-serif;\\n        \\n    }\\n    div {\\n        width: 600px;\\n        margin: 5em auto;\\n        padding: 2em;\\n        background-color: #fdfdff;\\n        border-radius: 0.5em;\\n        box-shadow: 2px 3px 7px 2px rgba(0,0,0,0.02);\\n    }\\n    a:link, a:visited {\\n        color: #38488f;\\n        text-decoration: none;\\n    }\\n    @media (max-width: 700px) {\\n        div {\\n            margin: 0 auto;\\n            width: auto;\\n        }\\n    }\\n    </style>    \\n</head>\\n\\n<body>\\n<div>\\n    <h1>Example Domain</h1>\\n    <p>This domain is for use in illustrative examples in documents. You may use this\\n    domain in literature without prior coordination or asking for permission.</p>\\n    <p><a href=\"https://www.iana.org/domains/example\">More information...</a></p>\\n</div>\\n</body>\\n</html>\\n'"
      ]
     },
     "execution_count": 10,
     "metadata": {},
     "output_type": "execute_result"
    }
   ],
   "source": [
    "# Podemos fazer com a urllib\n",
    "\n",
    "from urllib.request import urlopen\n",
    "\n",
    "response = urlopen('https://www.example.com').read()\n",
    "\n",
    "response"
   ]
  },
  {
   "cell_type": "code",
   "execution_count": 12,
   "metadata": {},
   "outputs": [
    {
     "data": {
      "text/plain": [
       "[<html>]"
      ]
     },
     "execution_count": 12,
     "metadata": {},
     "output_type": "execute_result"
    }
   ],
   "source": [
    "docTree = pq(response)\n",
    "docTree"
   ]
  },
  {
   "cell_type": "code",
   "execution_count": 14,
   "metadata": {},
   "outputs": [
    {
     "data": {
      "text/plain": [
       "[<html.no-js>]"
      ]
     },
     "execution_count": 14,
     "metadata": {},
     "output_type": "execute_result"
    }
   ],
   "source": [
    "# Vamos olhar o site da Python\n",
    "pq('https://www.python.org')"
   ]
  },
  {
   "cell_type": "code",
   "execution_count": 15,
   "metadata": {},
   "outputs": [
    {
     "data": {
      "text/plain": [
       "pyquery.pyquery.PyQuery"
      ]
     },
     "execution_count": 15,
     "metadata": {},
     "output_type": "execute_result"
    }
   ],
   "source": [
    "# Olhando o tipo\n",
    "site =pq('https://www.python.org')\n",
    "type(site)"
   ]
  },
  {
   "cell_type": "code",
   "execution_count": 16,
   "metadata": {},
   "outputs": [
    {
     "data": {
      "text/plain": [
       "[<html>]"
      ]
     },
     "execution_count": 16,
     "metadata": {},
     "output_type": "execute_result"
    }
   ],
   "source": [
    "pq('https://www.samsclub.com')"
   ]
  },
  {
   "cell_type": "code",
   "execution_count": 24,
   "metadata": {},
   "outputs": [],
   "source": [
    "# Podemos determinar qual será o parser: XML ou HTML\n",
    "doc = pq('http://www.example.com', parser='html') #using parser html"
   ]
  },
  {
   "cell_type": "code",
   "execution_count": 26,
   "metadata": {},
   "outputs": [
    {
     "name": "stdout",
     "output_type": "stream",
     "text": [
      "<class 'pyquery.pyquery.PyQuery'>\n"
     ]
    }
   ],
   "source": [
    "doc = pq('<div><p>Testing block</p><p>Second block</p></div>')\n",
    "print(type(doc))"
   ]
  },
  {
   "cell_type": "code",
   "execution_count": 31,
   "metadata": {},
   "outputs": [
    {
     "name": "stdout",
     "output_type": "stream",
     "text": [
      "<class 'str'>\n"
     ]
    }
   ],
   "source": [
    "pagesource = open('pythonpage.html','r').read() # lendo localmente em Html\n",
    "print(type(pagesource))"
   ]
  },
  {
   "cell_type": "code",
   "execution_count": 35,
   "metadata": {},
   "outputs": [
    {
     "data": {
      "text/plain": [
       "pyquery.pyquery.PyQuery"
      ]
     },
     "execution_count": 35,
     "metadata": {},
     "output_type": "execute_result"
    }
   ],
   "source": [
    "page = pq(pagesource)\n",
    "type(page)"
   ]
  },
  {
   "cell_type": "markdown",
   "metadata": {},
   "source": [
    "## Elementos transversos, atributos, e pseud-classes"
   ]
  },
  {
   "cell_type": "code",
   "execution_count": 36,
   "metadata": {},
   "outputs": [
    {
     "data": {
      "text/plain": [
       "[<title>]"
      ]
     },
     "execution_count": 36,
     "metadata": {},
     "output_type": "execute_result"
    }
   ],
   "source": [
    "# Encontrando o elemento\n",
    "page('title')"
   ]
  },
  {
   "cell_type": "code",
   "execution_count": 38,
   "metadata": {},
   "outputs": [
    {
     "data": {
      "text/plain": [
       "'Welcome to Python.org'"
      ]
     },
     "execution_count": 38,
     "metadata": {},
     "output_type": "execute_result"
    }
   ],
   "source": [
    "page.find('title').text() # Encontrando título e retornando o texto."
   ]
  },
  {
   "cell_type": "code",
   "execution_count": 41,
   "metadata": {},
   "outputs": [
    {
     "data": {
      "text/plain": [
       "'The official home of the Python Programming Language'"
      ]
     },
     "execution_count": 41,
     "metadata": {},
     "output_type": "execute_result"
    }
   ],
   "source": [
    "page.find('meta[name=\"description\"]').attr('content')"
   ]
  },
  {
   "cell_type": "code",
   "execution_count": 42,
   "metadata": {},
   "outputs": [
    {
     "data": {
      "text/plain": [
       "'Python programming language object oriented web free open source software license documentation download community'"
      ]
     },
     "execution_count": 42,
     "metadata": {},
     "output_type": "execute_result"
    }
   ],
   "source": [
    "page.find('meta[name=\"keywords\"]').attr('content')"
   ]
  },
  {
   "cell_type": "code",
   "execution_count": 45,
   "metadata": {},
   "outputs": [
    {
     "data": {
      "text/plain": [
       "'Python 3.10.7'"
      ]
     },
     "execution_count": 45,
     "metadata": {},
     "output_type": "execute_result"
    }
   ],
   "source": [
    "buttons = page('a.button').html() # Retorna o Html para o elemento <a> com a classe 'button'\n",
    "buttons"
   ]
  },
  {
   "cell_type": "markdown",
   "metadata": {},
   "source": [
    "* `find()`: procura a expressão usando um seletor CSS.\n",
    "* `text()`: retorna o conteúdo do elemento em forma de string.\n",
    "* `attr()`: identifica o atributo e retorna o conteúdo.\n",
    "* `html()`: retorna o HTML da expressão avaliada.\n"
   ]
  },
  {
   "cell_type": "code",
   "execution_count": 47,
   "metadata": {},
   "outputs": [
    {
     "data": {
      "text/plain": [
       "[<ul.menu>, <ul.navigation.menu>, <ul.subnav.menu>, <ul.navigation.menu>, <ul.subnav.menu>, <ul.navigation.menu>, <ul.subnav.menu>, <ul.navigation.menu>, <ul.subnav.menu>, <ul.subnav.menu>, <ul.subnav.menu>, <ul.subnav.menu>, <ul.subnav.menu>, <ul.subnav.menu>, <ul.subnav.menu>, <ul#launch-shell.launch-shell.menu>, <ul.slides.menu>, <ul.menu>, <ul.menu>, <ul.menu>, <ul#container.sitemap.navigation.menu.do-not-print>, <ul.subnav.menu>, <ul.subnav.menu>, <ul.subnav.menu>, <ul.subnav.menu>, <ul.subnav.menu>, <ul.subnav.menu>, <ul.subnav.menu>, <ul.subnav.menu>, <ul.footer-links.navigation.menu.do-not-print>]"
      ]
     },
     "execution_count": 47,
     "metadata": {},
     "output_type": "execute_result"
    }
   ],
   "source": [
    "page('ul.menu') # Elemento com atributo \"menu\""
   ]
  },
  {
   "cell_type": "code",
   "execution_count": 48,
   "metadata": {},
   "outputs": [
    {
     "data": {
      "text/plain": [
       "[<ul.menu>]"
      ]
     },
     "execution_count": 48,
     "metadata": {},
     "output_type": "execute_result"
    }
   ],
   "source": [
    "page('ul:first') # O primeiro elemento <ul>"
   ]
  },
  {
   "cell_type": "code",
   "execution_count": 49,
   "metadata": {},
   "outputs": [
    {
     "data": {
      "text/plain": [
       "[<a>]"
      ]
     },
     "execution_count": 49,
     "metadata": {},
     "output_type": "execute_result"
    }
   ],
   "source": [
    "page('a:first') # O primeiro elemento <a>"
   ]
  },
  {
   "cell_type": "code",
   "execution_count": 50,
   "metadata": {},
   "outputs": [
    {
     "data": {
      "text/plain": [
       "[<ul.footer-links.navigation.menu.do-not-print>]"
      ]
     },
     "execution_count": 50,
     "metadata": {},
     "output_type": "execute_result"
    }
   ],
   "source": [
    "page('ul:last') # O último elemento <ul>"
   ]
  },
  {
   "cell_type": "markdown",
   "metadata": {},
   "source": [
    "* `:first:` Retorna a primeira ocorrência do elemento \n",
    "* `:last:` retorna a última ocorrência do elemento"
   ]
  },
  {
   "cell_type": "code",
   "execution_count": 52,
   "metadata": {},
   "outputs": [
    {
     "data": {
      "text/plain": [
       "[<h1.site-headline>, <h4>, <h4>, <h3>, <h4>, <h4>, <h4>, <h4>, <h1>, <h1>, <h1>, <h1>, <h1>, <h2.widget-title>, <h2.widget-title>, <h2.widget-title>, <h2.widget-title>, <h2.widget-title>, <h2.widget-title>, <h2.widget-title>, <h2.widget-title>, <h2.widget-title>, <h2.widget-title>]"
      ]
     },
     "execution_count": 52,
     "metadata": {},
     "output_type": "execute_result"
    }
   ],
   "source": [
    "# vamos observar a implementação de um :pseudo-elemento.\n",
    "\n",
    "page(':header') # encontrados todos os Headers"
   ]
  },
  {
   "cell_type": "code",
   "execution_count": 53,
   "metadata": {},
   "outputs": [
    {
     "data": {
      "text/plain": [
       "[<input#id-search-field.search-field>, <button#submit.search-button>]"
      ]
     },
     "execution_count": 53,
     "metadata": {},
     "output_type": "execute_result"
    }
   ],
   "source": [
    "page(':input') # Encontrando todos os inputs"
   ]
  },
  {
   "cell_type": "code",
   "execution_count": 54,
   "metadata": {},
   "outputs": [
    {
     "data": {
      "text/plain": [
       "[<meta>, <meta>, <link>, <link>, <meta>, <meta>, <meta>, <meta>, <meta>, <meta>, <meta>, <meta>, <meta>, <meta>, <script>, <script>, <script>, <link>, <link>, <link>, <link>, <link>, <link>, <link>, <link>, <link>, <meta>, <meta>, <meta>, <meta>, <meta>, <meta>, <meta>, <meta>, <meta>, <meta>, <meta>, <meta>, <link>, <link>, <link>, <link>, <link>, <img.python-logo>, <span.icon-search>, <input#id-search-field.search-field>, <span.breaker>, <span.icon-facebook>, <span.icon-twitter>, <span.icon-freenode>, <br>, <span.breaker>, <span.icon-get-started>, <span.icon-download>, <span.icon-documentation>, <span.icon-jobs>, <span.icon-news>, <span.icon-calendar>, <span.icon-success-stories>, <span.icon-python>, <span.icon-feed>, <div.python-logo>, <span#python-status-indicator.python-status-indicator-maintenance>, <script>, <script>, <script>, <script>, <script>]"
      ]
     },
     "execution_count": 54,
     "metadata": {},
     "output_type": "execute_result"
    }
   ],
   "source": [
    "page(':empty')"
   ]
  },
  {
   "cell_type": "code",
   "execution_count": 58,
   "metadata": {},
   "outputs": [
    {
     "data": {
      "text/plain": [
       "[<meta>, <link>, <meta>, <meta>, <meta>, <meta>, <meta>, <script>, <link>, <link>, <link>, <link>, <link>, <meta>, <meta>, <meta>, <meta>, <meta>, <meta>, <link>, <link>, <img.python-logo>, <input#id-search-field.search-field>, <span.icon-facebook>, <span.icon-freenode>, <span.breaker>, <span.icon-download>, <span.icon-jobs>, <span.icon-calendar>, <span.icon-python>, <div.python-logo>, <script>, <script>, <script>]"
      ]
     },
     "execution_count": 58,
     "metadata": {},
     "output_type": "execute_result"
    }
   ],
   "source": [
    "page(':empty:odd') # elementos vazios, porém só os impares são listados."
   ]
  },
  {
   "cell_type": "markdown",
   "metadata": {},
   "source": [
    "* `:header`: retorna os elementos headers (h1,h2,h3...) encontrados na página.\n",
    "* `:input`: retorna todos os elementos inputs.\n",
    "* `:empty`: retorna todos os elementos que não tem elementos-filhos.\n",
    "* `:odd`: retorna os elementos indexados como números ímpares.\n",
    "* `:even`: parecido com o `:odd`."
   ]
  },
  {
   "cell_type": "code",
   "execution_count": 59,
   "metadata": {},
   "outputs": [
    {
     "data": {
      "text/plain": [
       "'menu'"
      ]
     },
     "execution_count": 59,
     "metadata": {},
     "output_type": "execute_result"
    }
   ],
   "source": [
    "page.find('ul:first').attr('class') # Class no primeiro elemento."
   ]
  },
  {
   "cell_type": "code",
   "execution_count": 61,
   "metadata": {},
   "outputs": [
    {
     "data": {
      "text/plain": [
       "'https://www.python.org/#content'"
      ]
     },
     "execution_count": 61,
     "metadata": {},
     "output_type": "execute_result"
    }
   ],
   "source": [
    "page.find('a:first').attr('href') # href do primeiro elemento <a> "
   ]
  },
  {
   "cell_type": "code",
   "execution_count": 63,
   "metadata": {},
   "outputs": [
    {
     "data": {
      "text/plain": [
       "'https://www.python.org/#content'"
      ]
     },
     "execution_count": 63,
     "metadata": {},
     "output_type": "execute_result"
    }
   ],
   "source": [
    "page.find('a:eq(0)').attr('href') # href do primeiro elemento <a> no index[0]"
   ]
  },
  {
   "cell_type": "code",
   "execution_count": 65,
   "metadata": {},
   "outputs": [
    {
     "data": {
      "text/plain": [
       "'Skip to content'"
      ]
     },
     "execution_count": 65,
     "metadata": {},
     "output_type": "execute_result"
    }
   ],
   "source": [
    "page.find('a:eq(0)').text() # texto do primeiro elemento <a>"
   ]
  },
  {
   "cell_type": "markdown",
   "metadata": {},
   "source": [
    "* `:eq`: seleciona um índice particular avaliado como igual a.\n",
    "* `:lt`: avalia para `less than` do valor informado.\n",
    "* `:gt`: avalia como `greater than` do valor informado."
   ]
  },
  {
   "cell_type": "code",
   "execution_count": 69,
   "metadata": {},
   "outputs": [
    {
     "data": {
      "text/plain": [
       "[<p>, <p>, <p>, <p>, <p>, <p>, <p>, <p>, <p>, <p.download-buttons>, <p>, <p>, <p>, <p>, <p>, <p>, <p>, <p>, <p>, <p>, <p>, <p>, <p>, <p>]"
      ]
     },
     "execution_count": 69,
     "metadata": {},
     "output_type": "execute_result"
    }
   ],
   "source": [
    "page('p:contains(\"Python\")') # Retorna os elementos <p> com o texto \"Python\""
   ]
  },
  {
   "cell_type": "code",
   "execution_count": 71,
   "metadata": {},
   "outputs": [
    {
     "data": {
      "text/plain": [
       "[<p>, <p>]"
      ]
     },
     "execution_count": 71,
     "metadata": {},
     "output_type": "execute_result"
    }
   ],
   "source": [
    "page('p:contains(\"python.org\")') # retorna os elementos <p> com o texto \"python.org\""
   ]
  },
  {
   "cell_type": "code",
   "execution_count": 72,
   "metadata": {},
   "outputs": [
    {
     "data": {
      "text/plain": [
       "'jobs.python.org'"
      ]
     },
     "execution_count": 72,
     "metadata": {},
     "output_type": "execute_result"
    }
   ],
   "source": [
    "page('p:contains(\"python.org\")').eq(1).text() # Retorna o texto do 2º <p> elemento que contenha o texto \"python.org\""
   ]
  },
  {
   "cell_type": "markdown",
   "metadata": {},
   "source": [
    "* `:contains`: combina todos os elementos com o texto informado.\n",
    "* `:eq()`: retorna o elemento que foi encontrando no index informado.\n"
   ]
  }
 ],
 "metadata": {
  "kernelspec": {
   "display_name": "Python 3",
   "language": "python",
   "name": "python3"
  },
  "language_info": {
   "codemirror_mode": {
    "name": "ipython",
    "version": 3
   },
   "file_extension": ".py",
   "mimetype": "text/x-python",
   "name": "python",
   "nbconvert_exporter": "python",
   "pygments_lexer": "ipython3",
   "version": "3.8.5"
  }
 },
 "nbformat": 4,
 "nbformat_minor": 4
}
