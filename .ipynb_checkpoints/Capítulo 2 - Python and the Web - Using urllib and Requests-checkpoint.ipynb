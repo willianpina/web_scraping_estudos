{
 "cells": [
  {
   "cell_type": "markdown",
   "metadata": {
    "pycharm": {
     "name": "#%% md\n"
    }
   },
   "source": [
    "<h1 align=center><b>Capítulo 2</b></h1>\n",
    "<h2 align=center><i>Python and Web - Using Urllib and Requests<i></h2>\n"
   ]
  },
  {
   "cell_type": "markdown",
   "metadata": {
    "pycharm": {
     "name": "#%% md\n"
    }
   },
   "source": [
    "<h2>** Carregando URLs **</h2>"
   ]
  },
  {
   "cell_type": "markdown",
   "metadata": {
    "pycharm": {
     "name": "#%% md\n"
    }
   },
   "source": [
    "### Usando a biblioteca ***urllib***"
   ]
  },
  {
   "cell_type": "code",
   "execution_count": 7,
   "metadata": {
    "pycharm": {
     "name": "#%%\n"
    }
   },
   "outputs": [
    {
     "name": "stdout",
     "output_type": "stream",
     "text": [
      "<class 'http.client.HTTPResponse'>\n",
      "\n",
      "***************************************************\n",
      "\n",
      "b'<!DOCTYPE html>\\n<html class=\"client-nojs\" lang=\"en\" dir=\"ltr\">\\n<head>\\n<meta charset=\"UTF-8\"/>\\n<title>List of most visited websites - Wikipedia</title>\\n<script>document.documentElement.className=\"client-js\";RLCONF={\"wgBreakFrames\":false,\"wgSeparatorTransformTable\":[\"\",\"\"],\"wgDigitTransformTable\":[\"\",\"\"],\"wgDefaultDateFormat\":\"dmy\",\"wgMonthNames\":[\"\",\"January\",\"February\",\"March\",\"April\",\"May\",\"June\",\"July\",\"August\",\"September\",\"October\",\"November\",\"December\"],\"wgRequestId\":\"4afe5cfb-dcab-45bb-8c34-9fbce5746382\",\"wgCSPNonce\":false,\"wgCanonicalNamespace\":\"\",\"wgCanonicalSpecialPageName\":false,\"wgNamespaceNumber\":0,\"wgPageName\":\"List_of_most_visited_websites\",\"wgTitle\":\"List of most visited websites\",\"wgCurRevisionId\":1104044269,\"wgRevisionId\":1104044269,\"wgArticleId\":37716939,\"wgIsArticle\":true,\"wgIsRedirect\":false,\"wgAction\":\"view\",\"wgUserName\":null,\"wgUserGroups\":[\"*\"],\"wgCategories\":[\"Articles with short description\",\"Short description is different from Wikidata\",\"Wikipedia indefinitely semi-protected pages\",\"Dynamic lists\",\"Articles containing potentially dated statements from May 2022\",\"All articles containing potentially dated statements\",\\n\"Lists of Internet-related superlatives\",\"Lists of most popular media\",\"Lists of websites\"],\"wgPageContentLanguage\":\"en\",\"wgPageContentModel\":\"wikitext\",\"wgRelevantPageName\":\"List_of_most_visited_websites\",\"wgRelevantArticleId\":37716939,\"wgIsProbablyEditable\":false,\"wgRelevantPageIsProbablyEditable\":false,\"wgRestrictionEdit\":[\"autoconfirmed\"],\"wgRestrictionMove\":[\"autoconfirmed\"],\"wgFlaggedRevsParams\":{\"tags\":{\"status\":{\"levels\":1}}},\"wgVisualEditor\":{\"pageLanguageCode\":\"en\",\"pageLanguageDir\":\"ltr\",\"pageVariantFallbacks\":\"en\"},\"wgMFDisplayWikibaseDescriptions\":{\"search\":true,\"nearby\":true,\"watchlist\":true,\"tagline\":false},\"wgWMESchemaEditAttemptStepOversample\":false,\"wgWMEPageLength\":8000,\"wgNoticeProject\":\"wikipedia\",\"wgVector2022PreviewPages\":[\"Wikipedia\",\"MediaWiki\",\"Wikimedia_Foundation\",\"Future\",\"Design\",\"Galaxy\",\"James_Webb_Space_Telescope\",\"Evolution\",\"Typography\",\"Magnifying_glass\",\"Preview_(computing)\"],\"wgMediaViewerOnClick\":true,\"wgMediaViewerEnabledByDefault\":true,\\n\"wgPopupsFlags\":10,\"wgULSCurrentAutonym\":\"English\",\"wgEditSubmitButtonLabelPublish\":true,\"wgCentralAuthMobileDomain\":false,\"wgULSPosition\":\"interlanguage\",\"wgULSisCompactLinksEnabled\":true,\"wgWikibaseItemId\":\"Q6629082\",\"GEHomepageSuggestedEditsEnableTopics\":true,\"wgGETopicsMatchModeEnabled\":false,\"wgGEStructuredTaskRejectionReasonTextInputEnabled\":false};RLSTATE={\"ext.globalCssJs.user.styles\":\"ready\",\"site.styles\":\"ready\",\"user.styles\":\"ready\",\"ext.globalCssJs.user\":\"ready\",\"user\":\"ready\",\"user.options\":\"loading\",\"ext.cite.styles\":\"ready\",\"skins.vector.styles.legacy\":\"ready\",\"jquery.tablesorter.styles\":\"ready\",\"ext.visualEditor.desktopArticleTarget.noscript\":\"ready\",\"ext.wikimediaBadges\":\"ready\",\"ext.uls.interlanguage\":\"ready\",\"wikibase.client.init\":\"ready\"};RLPAGEMODULES=[\"ext.cite.ux-enhancements\",\"site\",\"mediawiki.page.ready\",\"jquery.tablesorter\",\"skins.vector.legacy.js\",\"mmv.head\",\"mmv.bootstrap.autostart\",\"ext.visualEditor.desktopArticleTarget.init\",\"ext.visualEditor.targetLoader\"\\n,\"ext.eventLogging\",\"ext.wikimediaEvents\",\"ext.navigationTiming\",\"ext.cx.eventlogging.campaigns\",\"ext.centralNotice.geoIP\",\"ext.centralNotice.startUp\",\"ext.gadget.ReferenceTooltips\",\"ext.gadget.charinsert\",\"ext.gadget.extra-toolbar-buttons\",\"ext.gadget.switcher\",\"ext.centralauth.centralautologin\",\"ext.popups\",\"ext.uls.compactlinks\",\"ext.uls.interface\",\"ext.growthExperiments.SuggestedEditSession\"];</script>\\n<script>(RLQ=window.RLQ||[]).push(function(){mw.loader.implement(\"user.options@12s5i\",function($,jQuery,require,module){mw.user.tokens.set({\"patrolToken\":\"+\\\\\\\\\",\"watchToken\":\"+\\\\\\\\\",\"csrfToken\":\"+\\\\\\\\\"});});});</script>\\n<link rel=\"stylesheet\" href=\"/w/load.php?lang=en&amp;modules=ext.cite.styles%7Cext.uls.interlanguage%7Cext.visualEditor.desktopArticleTarget.noscript%7Cext.wikimediaBadges%7Cjquery.tablesorter.styles%7Cskins.vector.styles.legacy%7Cwikibase.client.init&amp;only=styles&amp;skin=vector\"/>\\n<script async=\"\" src=\"/w/load.php?lang=en&amp;modules=startup&amp;only=scripts&amp;raw=1&amp;skin=vector\"></script>\\n<meta name=\"ResourceLoaderDynamicStyles\" content=\"\"/>\\n<link rel=\"stylesheet\" href=\"/w/load.php?lang=en&amp;modules=site.styles&amp;only=styles&amp;skin=vector\"/>\\n<meta name=\"generator\" content=\"MediaWiki 1.39.0-wmf.25\"/>\\n<meta name=\"referrer\" content=\"origin\"/>\\n<meta name=\"referrer\" content=\"origin-when-crossorigin\"/>\\n<meta name=\"referrer\" content=\"origin-when-cross-origin\"/>\\n<meta name=\"format-detection\" content=\"telephone=no\"/>\\n<meta name=\"viewport\" content=\"width=1000, initial-scale=1.0\"/>\\n<meta property=\"og:title\" content=\"List of most visited websites - Wikipedia\"/>\\n<meta property=\"og:type\" content=\"website\"/>\\n<link rel=\"preconnect\" href=\"//upload.wikimedia.org\"/>\\n<link rel=\"alternate\" media=\"only screen and (max-width: 720px)\" href=\"//en.m.wikipedia.org/wiki/List_of_most_visited_websites\"/>\\n<link rel=\"apple-touch-icon\" href=\"/static/apple-touch/wikipedia.png\"/>\\n<link rel=\"shortcut icon\" href=\"/static/favicon/wikipedia.ico\"/>\\n<link rel=\"search\" type=\"application/opensearchdescription+xml\" href=\"/w/opensearch_desc.php\" title=\"Wikipedia (en)\"/>\\n<link rel=\"EditURI\" type=\"application/rsd+xml\" href=\"//en.wikipedia.org/w/api.php?action=rsd\"/>\\n<link rel=\"license\" href=\"https://creativecommons.org/licenses/by-sa/3.0/\"/>\\n<link rel=\"canonical\" href=\"https://en.wikipedia.org/wiki/List_of_most_visited_websites\"/>\\n<link rel=\"dns-prefetch\" href=\"//meta.wikimedia.org\" />\\n<link rel=\"dns-prefetch\" href=\"//login.wikimedia.org\"/>\\n</head>\\n<body class=\"mediawiki ltr sitedir-ltr mw-hide-empty-elt ns-0 ns-subject page-List_of_most_visited_websites rootpage-List_of_most_visited_websites skin-vector action-view skin-vector-legacy\"><div id=\"mw-page-base\" class=\"noprint\"></div>\\n<div id=\"mw-head-base\" class=\"noprint\"></div>\\n<div id=\"content\" class=\"mw-body\" role=\"main\">\\n\\t<a id=\"top\"></a>\\n\\t<div id=\"siteNotice\"><!-- CentralNotice --></div>\\n\\t<div class=\"mw-indicators\">\\n\\t<div id=\"mw-indicator-pp-default\" class=\"mw-indicator\"><div class=\"mw-parser-output\"><a href=\"/wiki/Wikipedia:Protection_policy#semi\" title=\"This article is semi-protected.\"><img alt=\"Page semi-protected\" src=\"//upload.wikimedia.org/wikipedia/en/thumb/1/1b/Semi-protection-shackle.svg/20px-Semi-protection-shackle.svg.png\" decoding=\"async\" width=\"20\" height=\"20\" srcset=\"//upload.wikimedia.org/wikipedia/en/thumb/1/1b/Semi-protection-shackle.svg/30px-Semi-protection-shackle.svg.png 1.5x, //upload.wikimedia.org/wikipedia/en/thumb/1/1b/Semi-protection-shackle.svg/40px-Semi-protection-shackle.svg.png 2x\" data-file-width=\"512\" data-file-height=\"512\" /></a></div></div>\\n\\t</div>\\n\\t<h1 id=\"firstHeading\" class=\"firstHeading mw-first-heading\">List of most visited websites</h1>\\n\\t<div id=\"bodyContent\" class=\"vector-body\">\\n\\t\\t<div id=\"siteSub\" class=\"noprint\">From Wikipedia, the free encyclopedia</div>\\n\\t\\t<div id=\"contentSub\"></div>\\n\\t\\t<div id=\"contentSub2\"></div>\\n\\t\\t\\n\\t\\t<div id=\"jump-to-nav\"></div>\\n\\t\\t<a class=\"mw-jump-link\" href=\"#mw-head\">Jump to navigation</a>\\n\\t\\t<a class=\"mw-jump-link\" href=\"#searchInput\">Jump to search</a>\\n\\t\\t<div id=\"mw-content-text\" class=\"mw-body-content mw-content-ltr\" lang=\"en\" dir=\"ltr\"><div class=\"mw-parser-output\"><p class=\"mw-empty-elt\">\\n\\n</p>\\n<style data-mw-deduplicate=\"TemplateStyles:r1033289096\">.mw-parser-output .hatnote{font-style:italic}.mw-parser-output div.hatnote{padding-left:1.6em;margin-bottom:0.5em}.mw-parser-output .hatnote i{font-style:normal}.mw-parser-output .hatnote+link+.hatnote{margin-top:-0.5em}</style><div role=\"note\" class=\"hatnote navigation-not-searchable plainlinks\">This is a <a href=\"/wiki/Wikipedia:WikiProject_Lists#Incomplete_lists\" title=\"Wikipedia:WikiProject Lists\">dynamic list</a> and may never be able to satisfy particular standards for completeness. You can help by <a class=\"external text\" href=\"https://en.wikipedia.org/w/index.php?title=List_of_most_visited_websites&amp;action=edit\">adding missing items</a> with <a href=\"/wiki/Wikipedia:Reliable_sources\" title=\"Wikipedia:Reliable sources\">reliable sources</a>.</div>\\n<p>This is a <b>list of the most visited websites</b> worldwide according to the first 50 <a href=\"/wiki/Website\" title=\"Website\">websites</a> listed in the \"Top Websites Ranking\" lists published monthly by <a href=\"/wiki/Similarweb\" title=\"Similarweb\">Similarweb</a>, as of May&#160;2022,<sup class=\"plainlinks noexcerpt noprint asof-tag update\" style=\"display:none;\"><a class=\"external text\" href=\"https://en.wikipedia.org/w/index.php?title=List_of_most_visited_websites&amp;action=edit\">&#91;update&#93;</a></sup> along with their change in ranking compared to the previous month.\\n</p>\\n<h2><span class=\"mw-headline\" id=\"List\">List</span></h2>\\n<p>Ranking data updated according to August 12, 2022.\\n<style data-mw-deduplicate=\"TemplateStyles:r1093711723\">.mw-parser-output .hover-highlight tr:hover td,.mw-parser-output .mw-datatable tr:hover td{background-color:#eaf3ff}</style>\\n</p>\\n<table class=\"wikitable sortable mw-datatable\" style=\"width:100%; font-size:96%;\">\\n\\n<tbody><tr>\\n<th>Site\\n</th>\\n<th>Domain Name\\n</th>\\n<th data-sort-type=\"number\"><a href=\"/wiki/Similarweb\" title=\"Similarweb\">Similarweb</a> top 50<br />websites ranking<br /><small>(As of May&#160;1,&#32;2022<sup class=\"plainlinks noexcerpt noprint asof-tag update\" style=\"display:none;\"><a class=\"external text\" href=\"https://en.wikipedia.org/w/index.php?title=List_of_most_visited_websites&amp;action=edit\">&#91;update&#93;</a></sup>)</small><sup id=\"cite_ref-Similarweb_1-0\" class=\"reference\"><a href=\"#cite_note-Similarweb-1\">&#91;1&#93;</a></sup>\\n</th>\\n<th>Category\\n</th>\\n<th>Principal country/territory\\n</th></tr>\\n<tr>\\n<td><a href=\"/wiki/Google_Search\" title=\"Google Search\">Google Search</a>\\n</td>\\n<td>google.com\\n</td>\\n<td>1 (<img alt=\"Steady\" src=\"//upload.wikimedia.org/wikipedia/commons/thumb/9/96/Steady2.svg/11px-Steady2.svg.png\" decoding=\"async\" title=\"Steady\" width=\"11\" height=\"11\" srcset=\"//upload.wikimedia.org/wikipedia/commons/thumb/9/96/Steady2.svg/17px-Steady2.svg.png 1.5x, //upload.wikimedia.org/wikipedia/commons/thumb/9/96/Steady2.svg/22px-Steady2.svg.png 2x\" data-file-width=\"300\" data-file-height=\"300\" />)\\n</td>\\n<td>Computers Electronics and Technology &gt; Search Engines\\n</td>\\n<td><span class=\"datasortkey\" data-sort-value=\"United States\"><span class=\"flagicon\"><img alt=\"\" src=\"//upload.wikimedia.org/wikipedia/en/thumb/a/a4/Flag_of_the_United_States.svg/23px-Flag_of_the_United_States.svg.png\" decoding=\"async\" width=\"23\" height=\"12\" class=\"thumbborder\" srcset=\"//upload.wikimedia.org/wikipedia/en/thumb/a/a4/Flag_of_the_United_States.svg/35px-Flag_of_the_United_States.svg.png 1.5x, //upload.wikimedia.org/wikipedia/en/thumb/a/a4/Flag_of_the_United_States.svg/46px-Flag_of_the_United_States.svg.png 2x\" data-file-width=\"1235\" data-file-height=\"650\" />&#160;</span><a href=\"/wiki/United_States\" title=\"United States\">United States</a></span>\\n</td></tr>\\n<tr>\\n<td><a href=\"/wiki/YouTube\" title=\"YouTube\">YouTube</a>\\n</td>\\n<td>youtube.com\\n</td>\\n<td>2 (<img alt=\"Steady\" src=\"//upload.wikimedia.org/wikipedia/commons/thumb/9/96/Steady2.svg/11px-Steady2.svg.png\" decoding=\"async\" title=\"Steady\" width=\"11\" height=\"11\" srcset=\"//upload.wikimedia.org/wikipedia/commons/thumb/9/96/Steady2.svg/17px-Steady2.svg.png 1.5x, //upload.wikimedia.org/wikipedia/commons/thumb/9/96/Steady2.svg/22px-Steady2.svg.png 2x\" data-file-width=\"300\" data-file-height=\"300\" />)\\n</td>\\n<td>Arts &amp; Entertainment &gt; Streaming &amp; Online TV\\n</td>\\n<td><span class=\"datasortkey\" data-sort-value=\"United States\"><span class=\"flagicon\"><img alt=\"\" src=\"//upload.wikimedia.org/wikipedia/en/thumb/a/a4/Flag_of_the_United_States.svg/23px-Flag_of_the_United_States.svg.png\" decoding=\"async\" width=\"23\" height=\"12\" class=\"thumbborder\" srcset=\"//upload.wikimedia.org/wikipedia/en/thumb/a/a4/Flag_of_the_United_States.svg/35px-Flag_of_the_United_States.svg.png 1.5x, //upload.wikimedia.org/wikipedia/en/thumb/a/a4/Flag_of_the_United_States.svg/46px-Flag_of_the_United_States.svg.png 2x\" data-file-width=\"1235\" data-file-height=\"650\" />&#160;</span><a href=\"/wiki/United_States\" title=\"United States\">United States</a></span>\\n</td></tr>\\n<tr>\\n<td><a href=\"/wiki/Facebook\" title=\"Facebook\">Facebook</a>\\n</td>\\n<td>facebook.com\\n</td>\\n<td>3 (<img alt=\"Steady\" src=\"//upload.wikimedia.org/wikipedia/commons/thumb/9/96/Steady2.svg/11px-Steady2.svg.png\" decoding=\"async\" title=\"Steady\" width=\"11\" height=\"11\" srcset=\"//upload.wikimedia.org/wikipedia/commons/thumb/9/96/Steady2.svg/17px-Steady2.svg.png 1.5x, //upload.wikimedia.org/wikipedia/commons/thumb/9/96/Steady2.svg/22px-Steady2.svg.png 2x\" data-file-width=\"300\" data-file-height=\"300\" />)\\n</td>\\n<td>Computers Electronics and Technology &gt; Social Media Networks\\n</td>\\n<td><span class=\"datasortkey\" data-sort-value=\"United States\"><span class=\"flagicon\"><img alt=\"\" src=\"//upload.wikimedia.org/wikipedia/en/thumb/a/a4/Flag_of_the_United_States.svg/23px-Flag_of_the_United_States.svg.png\" decoding=\"async\" width=\"23\" height=\"12\" class=\"thumbborder\" srcset=\"//upload.wikimedia.org/wikipedia/en/thumb/a/a4/Flag_of_the_United_States.svg/35px-Flag_of_the_United_States.svg.png 1.5x, //upload.wikimedia.org/wikipedia/en/thumb/a/a4/Flag_of_the_United_States.svg/46px-Flag_of_the_United_States.svg.png 2x\" data-file-width=\"1235\" data-file-height=\"650\" />&#160;</span><a href=\"/wiki/United_States\" title=\"United States\">United States</a></span>\\n</td></tr>\\n<tr>\\n<td><a href=\"/wiki/Twitter\" title=\"Twitter\">Twitter</a>\\n</td>\\n<td>twitter.com\\n</td>\\n<td>4 (<img alt=\"Steady\" src=\"//upload.wikimedia.org/wikipedia/commons/thumb/9/96/Steady2.svg/11px-Steady2.svg.png\" decoding=\"async\" title=\"Steady\" width=\"11\" height=\"11\" srcset=\"//upload.wikimedia.org/wikipedia/commons/thumb/9/96/Steady2.svg/17px-Steady2.svg.png 1.5x, //upload.wikimedia.org/wikipedia/commons/thumb/9/96/Steady2.svg/22px-Steady2.svg.png 2x\" data-file-width=\"300\" data-file-height=\"300\" />)\\n</td>\\n<td>Computers Electronics and Technology &gt; Social Media Networks\\n</td>\\n<td><span class=\"datasortkey\" data-sort-value=\"United States\"><span class=\"flagicon\"><img alt=\"\" src=\"//upload.wikimedia.org/wikipedia/en/thumb/a/a4/Flag_of_the_United_States.svg/23px-Flag_of_the_United_States.svg.png\" decoding=\"async\" width=\"23\" height=\"12\" class=\"thumbborder\" srcset=\"//upload.wikimedia.org/wikipedia/en/thumb/a/a4/Flag_of_the_United_States.svg/35px-Flag_of_the_United_States.svg.png 1.5x, //upload.wikimedia.org/wikipedia/en/thumb/a/a4/Flag_of_the_United_States.svg/46px-Flag_of_the_United_States.svg.png 2x\" data-file-width=\"1235\" data-file-height=\"650\" />&#160;</span><a href=\"/wiki/United_States\" title=\"United States\">United States</a></span>\\n</td></tr>\\n<tr>\\n<td><a href=\"/wiki/Instagram\" title=\"Instagram\">Instagram</a>\\n</td>\\n<td>instagram.com\\n</td>\\n<td>5 (<img alt=\"Steady\" src=\"//upload.wikimedia.org/wikipedia/commons/thumb/9/96/Steady2.svg/11px-Steady2.svg.png\" decoding=\"async\" title=\"Steady\" width=\"11\" height=\"11\" srcset=\"//upload.wikimedia.org/wikipedia/commons/thumb/9/96/Steady2.svg/17px-Steady2.svg.png 1.5x, //upload.wikimedia.org/wikipedia/commons/thumb/9/96/Steady2.svg/22px-Steady2.svg.png 2x\" data-file-width=\"300\" data-file-height=\"300\" />)\\n</td>\\n<td>Computers Electronics and Technology &gt; Social Media Networks\\n</td>\\n<td><span class=\"datasortkey\" data-sort-value=\"United States\"><span class=\"flagicon\"><img alt=\"\" src=\"//upload.wikimedia.org/wikipedia/en/thumb/a/a4/Flag_of_the_United_States.svg/23px-Flag_of_the_United_States.svg.png\" decoding=\"async\" width=\"23\" height=\"12\" class=\"thumbborder\" srcset=\"//upload.wikimedia.org/wikipedia/en/thumb/a/a4/Flag_of_the_United_States.svg/35px-Flag_of_the_United_States.svg.png 1.5x, //upload.wikimedia.org/wikipedia/en/thumb/a/a4/Flag_of_the_United_States.svg/46px-Flag_of_the_United_States.svg.png 2x\" data-file-width=\"1235\" data-file-height=\"650\" />&#160;</span><a href=\"/wiki/United_States\" title=\"United States\">United States</a></span>\\n</td></tr>\\n<tr>\\n<td><a href=\"/wiki/Baidu\" title=\"Baidu\">Baidu</a>\\n</td>\\n<td>baidu.com\\n</td>\\n<td>6 (<img alt=\"Steady\" src=\"//upload.wikimedia.org/wikipedia/commons/thumb/9/96/Steady2.svg/11px-Steady2.svg.png\" decoding=\"async\" title=\"Steady\" width=\"11\" height=\"11\" srcset=\"//upload.wikimedia.org/wikipedia/commons/thumb/9/96/Steady2.svg/17px-Steady2.svg.png 1.5x, //upload.wikimedia.org/wikipedia/commons/thumb/9/96/Steady2.svg/22px-Steady2.svg.png 2x\" data-file-width=\"300\" data-file-height=\"300\" />)\\n</td>\\n<td>Computers Electronics and Technology &gt; Search Engines\\n</td>\\n<td><span class=\"datasortkey\" data-sort-value=\"China\"><span class=\"flagicon\"><img alt=\"\" src=\"//upload.wikimedia.org/wikipedia/commons/thumb/f/fa/Flag_of_the_People%27s_Republic_of_China.svg/23px-Flag_of_the_People%27s_Republic_of_China.svg.png\" decoding=\"async\" width=\"23\" height=\"15\" class=\"thumbborder\" srcset=\"//upload.wikimedia.org/wikipedia/commons/thumb/f/fa/Flag_of_the_People%27s_Republic_of_China.svg/35px-Flag_of_the_People%27s_Republic_of_China.svg.png 1.5x, //upload.wikimedia.org/wikipedia/commons/thumb/f/fa/Flag_of_the_People%27s_Republic_of_China.svg/45px-Flag_of_the_People%27s_Republic_of_China.svg.png 2x\" data-file-width=\"900\" data-file-height=\"600\" />&#160;</span><a href=\"/wiki/China\" title=\"China\">China</a></span>\\n</td></tr>\\n<tr>\\n<td><a href=\"/wiki/Wikipedia\" title=\"Wikipedia\">Wikipedia</a>\\n</td>\\n<td>wikipedia.org\\n</td>\\n<td>7 (<img alt=\"Decrease\" src=\"//upload.wikimedia.org/wikipedia/commons/thumb/e/ed/Decrease2.svg/11px-Decrease2.svg.png\" decoding=\"async\" title=\"Decrease\" width=\"11\" height=\"11\" srcset=\"//upload.wikimedia.org/wikipedia/commons/thumb/e/ed/Decrease2.svg/17px-Decrease2.svg.png 1.5x, //upload.wikimedia.org/wikipedia/commons/thumb/e/ed/Decrease2.svg/22px-Decrease2.svg.png 2x\" data-file-width=\"300\" data-file-height=\"300\" />1)\\n</td>\\n<td>Reference Materials &gt; Dictionaries and Encyclopedias\\n</td>\\n<td><span class=\"datasortkey\" data-sort-value=\"United States\"><span class=\"flagicon\"><img alt=\"\" src=\"//upload.wikimedia.org/wikipedia/en/thumb/a/a4/Flag_of_the_United_States.svg/23px-Flag_of_the_United_States.svg.png\" decoding=\"async\" width=\"23\" height=\"12\" class=\"thumbborder\" srcset=\"//upload.wikimedia.org/wikipedia/en/thumb/a/a4/Flag_of_the_United_States.svg/35px-Flag_of_the_United_States.svg.png 1.5x, //upload.wikimedia.org/wikipedia/en/thumb/a/a4/Flag_of_the_United_States.svg/46px-Flag_of_the_United_States.svg.png 2x\" data-file-width=\"1235\" data-file-height=\"650\" />&#160;</span><a href=\"/wiki/United_States\" title=\"United States\">United States</a></span>\\n</td></tr>\\n<tr>\\n<td><a href=\"/wiki/Yandex\" title=\"Yandex\">Yandex</a>\\n</td>\\n<td>yandex.ru\\n</td>\\n<td>8 (<img alt=\"Steady\" src=\"//upload.wikimedia.org/wikipedia/commons/thumb/9/96/Steady2.svg/11px-Steady2.svg.png\" decoding=\"async\" title=\"Steady\" width=\"11\" height=\"11\" srcset=\"//upload.wikimedia.org/wikipedia/commons/thumb/9/96/Steady2.svg/17px-Steady2.svg.png 1.5x, //upload.wikimedia.org/wikipedia/commons/thumb/9/96/Steady2.svg/22px-Steady2.svg.png 2x\" data-file-width=\"300\" data-file-height=\"300\" />)\\n</td>\\n<td>Computers Electronics and Technology &gt; Search Engines\\n</td>\\n<td><span class=\"datasortkey\" data-sort-value=\"Russia\"><span class=\"flagicon\"><img alt=\"\" src=\"//upload.wikimedia.org/wikipedia/en/thumb/f/f3/Flag_of_Russia.svg/23px-Flag_of_Russia.svg.png\" decoding=\"async\" width=\"23\" height=\"15\" class=\"thumbborder\" srcset=\"//upload.wikimedia.org/wikipedia/en/thumb/f/f3/Flag_of_Russia.svg/35px-Flag_of_Russia.svg.png 1.5x, //upload.wikimedia.org/wikipedia/en/thumb/f/f3/Flag_of_Russia.svg/45px-Flag_of_Russia.svg.png 2x\" data-file-width=\"900\" data-file-height=\"600\" />&#160;</span><a href=\"/wiki/Russia\" title=\"Russia\">Russia</a></span>\\n</td></tr>\\n<tr>\\n<td><a href=\"/wiki/Yahoo\" class=\"mw-redirect\" title=\"Yahoo\">Yahoo</a>\\n</td>\\n<td>yahoo.com\\n</td>\\n<td>9 (<img alt=\"Steady\" src=\"//upload.wikimedia.org/wikipedia/commons/thumb/9/96/Steady2.svg/11px-Steady2.svg.png\" decoding=\"async\" title=\"Steady\" width=\"11\" height=\"11\" srcset=\"//upload.wikimedia.org/wikipedia/commons/thumb/9/96/Steady2.svg/17px-Steady2.svg.png 1.5x, //upload.wikimedia.org/wikipedia/commons/thumb/9/96/Steady2.svg/22px-Steady2.svg.png 2x\" data-file-width=\"300\" data-file-height=\"300\" />)\\n</td>\\n<td>News &amp; Media Publishers\\n</td>\\n<td><span class=\"datasortkey\" data-sort-value=\"United States\"><span class=\"flagicon\"><img alt=\"\" src=\"//upload.wikimedia.org/wikipedia/en/thumb/a/a4/Flag_of_the_United_States.svg/23px-Flag_of_the_United_States.svg.png\" decoding=\"async\" width=\"23\" height=\"12\" class=\"thumbborder\" srcset=\"//upload.wikimedia.org/wikipedia/en/thumb/a/a4/Flag_of_the_United_States.svg/35px-Flag_of_the_United_States.svg.png 1.5x, //upload.wikimedia.org/wikipedia/en/thumb/a/a4/Flag_of_the_United_States.svg/46px-Flag_of_the_United_States.svg.png 2x\" data-file-width=\"1235\" data-file-height=\"650\" />&#160;</span><a href=\"/wiki/United_States\" title=\"United States\">United States</a></span>\\n</td></tr>\\n<tr>\\n<td><a href=\"/wiki/XVideos\" title=\"XVideos\">xVideos</a>\\n</td>\\n<td>xvideos.com\\n</td>\\n<td>10 (<img alt=\"Steady\" src=\"//upload.wikimedia.org/wikipedia/commons/thumb/9/96/Steady2.svg/11px-Steady2.svg.png\" decoding=\"async\" title=\"Steady\" width=\"11\" height=\"11\" srcset=\"//upload.wikimedia.org/wikipedia/commons/thumb/9/96/Steady2.svg/17px-Steady2.svg.png 1.5x, //upload.wikimedia.org/wikipedia/commons/thumb/9/96/Steady2.svg/22px-Steady2.svg.png 2x\" data-file-width=\"300\" data-file-height=\"300\" />)\\n</td>\\n<td>Adult\\n</td>\\n<td><span class=\"datasortkey\" data-sort-value=\"Czech Republic\"><span class=\"flagicon\"><img alt=\"\" src=\"//upload.wikimedia.org/wikipedia/commons/thumb/c/cb/Flag_of_the_Czech_Republic.svg/23px-Flag_of_the_Czech_Republic.svg.png\" decoding=\"async\" width=\"23\" height=\"15\" class=\"thumbborder\" srcset=\"//upload.wikimedia.org/wikipedia/commons/thumb/c/cb/Flag_of_the_Czech_Republic.svg/35px-Flag_of_the_Czech_Republic.svg.png 1.5x, //upload.wikimedia.org/wikipedia/commons/thumb/c/cb/Flag_of_the_Czech_Republic.svg/45px-Flag_of_the_Czech_Republic.svg.png 2x\" data-file-width=\"900\" data-file-height=\"600\" />&#160;</span><a href=\"/wiki/Czech_Republic\" title=\"Czech Republic\">Czech Republic</a></span>\\n</td></tr>\\n<tr>\\n<td><a href=\"/wiki/Whatsapp\" class=\"mw-redirect\" title=\"Whatsapp\">Whatsapp</a>\\n</td>\\n<td>whatsapp.com\\n</td>\\n<td>11 (<img alt=\"Decrease\" src=\"//upload.wikimedia.org/wikipedia/commons/thumb/e/ed/Decrease2.svg/11px-Decrease2.svg.png\" decoding=\"async\" title=\"Decrease\" width=\"11\" height=\"11\" srcset=\"//upload.wikimedia.org/wikipedia/commons/thumb/e/ed/Decrease2.svg/17px-Decrease2.svg.png 1.5x, //upload.wikimedia.org/wikipedia/commons/thumb/e/ed/Decrease2.svg/22px-Decrease2.svg.png 2x\" data-file-width=\"300\" data-file-height=\"300\" />1)\\n</td>\\n<td>Computers Electronics and Technology &gt; Social Media Networks\\n</td>\\n<td><span class=\"datasortkey\" data-sort-value=\"United States\"><span class=\"flagicon\"><img alt=\"\" src=\"//upload.wikimedia.org/wikipedia/en/thumb/a/a4/Flag_of_the_United_States.svg/23px-Flag_of_the_United_States.svg.png\" decoding=\"async\" width=\"23\" height=\"12\" class=\"thumbborder\" srcset=\"//upload.wikimedia.org/wikipedia/en/thumb/a/a4/Flag_of_the_United_States.svg/35px-Flag_of_the_United_States.svg.png 1.5x, //upload.wikimedia.org/wikipedia/en/thumb/a/a4/Flag_of_the_United_States.svg/46px-Flag_of_the_United_States.svg.png 2x\" data-file-width=\"1235\" data-file-height=\"650\" />&#160;</span><a href=\"/wiki/United_States\" title=\"United States\">United States</a></span>\\n</td></tr>\\n<tr>\\n<td><a href=\"/wiki/Amazon_(company)\" title=\"Amazon (company)\">Amazon</a>\\n</td>\\n<td>amazon.com\\n</td>\\n<td>12 (<img alt=\"Steady\" src=\"//upload.wikimedia.org/wikipedia/commons/thumb/9/96/Steady2.svg/11px-Steady2.svg.png\" decoding=\"async\" title=\"Steady\" width=\"11\" height=\"11\" srcset=\"//upload.wikimedia.org/wikipedia/commons/thumb/9/96/Steady2.svg/17px-Steady2.svg.png 1.5x, //upload.wikimedia.org/wikipedia/commons/thumb/9/96/Steady2.svg/22px-Steady2.svg.png 2x\" data-file-width=\"300\" data-file-height=\"300\" />)\\n</td>\\n<td>eCommerce &amp; Shopping &gt; Marketplace\\n</td>\\n<td><span class=\"datasortkey\" data-sort-value=\"United States\"><span class=\"flagicon\"><img alt=\"\" src=\"//upload.wikimedia.org/wikipedia/en/thumb/a/a4/Flag_of_the_United_States.svg/23px-Flag_of_the_United_States.svg.png\" decoding=\"async\" width=\"23\" height=\"12\" class=\"thumbborder\" srcset=\"//upload.wikimedia.org/wikipedia/en/thumb/a/a4/Flag_of_the_United_States.svg/35px-Flag_of_the_United_States.svg.png 1.5x, //upload.wikimedia.org/wikipedia/en/thumb/a/a4/Flag_of_the_United_States.svg/46px-Flag_of_the_United_States.svg.png 2x\" data-file-width=\"1235\" data-file-height=\"650\" />&#160;</span><a href=\"/wiki/United_States\" title=\"United States\">United States</a></span>\\n</td></tr>\\n<tr>\\n<td><a href=\"/wiki/Xnxx.com\" class=\"mw-redirect\" title=\"Xnxx.com\">Xnxx</a>\\n</td>\\n<td>xnxx.com\\n</td>\\n<td>13 (<img alt=\"Increase\" src=\"//upload.wikimedia.org/wikipedia/commons/thumb/b/b0/Increase2.svg/11px-Increase2.svg.png\" decoding=\"async\" title=\"Increase\" width=\"11\" height=\"11\" srcset=\"//upload.wikimedia.org/wikipedia/commons/thumb/b/b0/Increase2.svg/17px-Increase2.svg.png 1.5x, //upload.wikimedia.org/wikipedia/commons/thumb/b/b0/Increase2.svg/22px-Increase2.svg.png 2x\" data-file-width=\"300\" data-file-height=\"300\" />1)\\n</td>\\n<td>Adult\\n</td>\\n<td><span class=\"datasortkey\" data-sort-value=\"Czech Republic\"><span class=\"flagicon\"><img alt=\"\" src=\"//upload.wikimedia.org/wikipedia/commons/thumb/c/cb/Flag_of_the_Czech_Republic.svg/23px-Flag_of_the_Czech_Republic.svg.png\" decoding=\"async\" width=\"23\" height=\"15\" class=\"thumbborder\" srcset=\"//upload.wikimedia.org/wikipedia/commons/thumb/c/cb/Flag_of_the_Czech_Republic.svg/35px-Flag_of_the_Czech_Republic.svg.png 1.5x, //upload.wikimedia.org/wikipedia/commons/thumb/c/cb/Flag_of_the_Czech_Republic.svg/45px-Flag_of_the_Czech_Republic.svg.png 2x\" data-file-width=\"900\" data-file-height=\"600\" />&#160;</span><a href=\"/wiki/Czech_Republic\" title=\"Czech Republic\">Czech Republic</a></span>\\n</td></tr>\\n<tr>\\n<td><a href=\"/wiki/Pornhub\" title=\"Pornhub\">Pornhub</a>\\n</td>\\n<td>pornhub.com\\n</td>\\n<td>14 (<img alt=\"Steady\" src=\"//upload.wikimedia.org/wikipedia/commons/thumb/9/96/Steady2.svg/11px-Steady2.svg.png\" decoding=\"async\" title=\"Steady\" width=\"11\" height=\"11\" srcset=\"//upload.wikimedia.org/wikipedia/commons/thumb/9/96/Steady2.svg/17px-Steady2.svg.png 1.5x, //upload.wikimedia.org/wikipedia/commons/thumb/9/96/Steady2.svg/22px-Steady2.svg.png 2x\" data-file-width=\"300\" data-file-height=\"300\" />)\\n</td>\\n<td>Adult\\n</td>\\n<td><span class=\"datasortkey\" data-sort-value=\"Canada\"><span class=\"flagicon\"><img alt=\"\" src=\"//upload.wikimedia.org/wikipedia/commons/thumb/d/d9/Flag_of_Canada_%28Pantone%29.svg/23px-Flag_of_Canada_%28Pantone%29.svg.png\" decoding=\"async\" width=\"23\" height=\"12\" class=\"thumbborder\" srcset=\"//upload.wikimedia.org/wikipedia/commons/thumb/d/d9/Flag_of_Canada_%28Pantone%29.svg/35px-Flag_of_Canada_%28Pantone%29.svg.png 1.5x, //upload.wikimedia.org/wikipedia/commons/thumb/d/d9/Flag_of_Canada_%28Pantone%29.svg/46px-Flag_of_Canada_%28Pantone%29.svg.png 2x\" data-file-width=\"1200\" data-file-height=\"600\" />&#160;</span><a href=\"/wiki/Canada\" title=\"Canada\">Canada</a></span>\\n</td></tr>\\n<tr>\\n<td><a href=\"/wiki/Netflix\" title=\"Netflix\">Netflix</a>\\n</td>\\n<td>netflix.com\\n</td>\\n<td>15 (<img alt=\"Increase\" src=\"//upload.wikimedia.org/wikipedia/commons/thumb/b/b0/Increase2.svg/11px-Increase2.svg.png\" decoding=\"async\" title=\"Increase\" width=\"11\" height=\"11\" srcset=\"//upload.wikimedia.org/wikipedia/commons/thumb/b/b0/Increase2.svg/17px-Increase2.svg.png 1.5x, //upload.wikimedia.org/wikipedia/commons/thumb/b/b0/Increase2.svg/22px-Increase2.svg.png 2x\" data-file-width=\"300\" data-file-height=\"300\" />1)\\n</td>\\n<td>Arts &amp; Entertainment &gt; Streaming &amp; Online TV\\n</td>\\n<td><span class=\"datasortkey\" data-sort-value=\"United States\"><span class=\"flagicon\"><img alt=\"\" src=\"//upload.wikimedia.org/wikipedia/en/thumb/a/a4/Flag_of_the_United_States.svg/23px-Flag_of_the_United_States.svg.png\" decoding=\"async\" width=\"23\" height=\"12\" class=\"thumbborder\" srcset=\"//upload.wikimedia.org/wikipedia/en/thumb/a/a4/Flag_of_the_United_States.svg/35px-Flag_of_the_United_States.svg.png 1.5x, //upload.wikimedia.org/wikipedia/en/thumb/a/a4/Flag_of_the_United_States.svg/46px-Flag_of_the_United_States.svg.png 2x\" data-file-width=\"1235\" data-file-height=\"650\" />&#160;</span><a href=\"/wiki/United_States\" title=\"United States\">United States</a></span>\\n</td></tr>\\n<tr>\\n<td><a href=\"/wiki/Yahoo!_Japan\" title=\"Yahoo! Japan\">Yahoo JP</a>\\n</td>\\n<td>yahoo.co.jp\\n</td>\\n<td>16 (<img alt=\"Steady\" src=\"//upload.wikimedia.org/wikipedia/commons/thumb/9/96/Steady2.svg/11px-Steady2.svg.png\" decoding=\"async\" title=\"Steady\" width=\"11\" height=\"11\" srcset=\"//upload.wikimedia.org/wikipedia/commons/thumb/9/96/Steady2.svg/17px-Steady2.svg.png 1.5x, //upload.wikimedia.org/wikipedia/commons/thumb/9/96/Steady2.svg/22px-Steady2.svg.png 2x\" data-file-width=\"300\" data-file-height=\"300\" />)\\n</td>\\n<td>News &amp; Media Publishers\\n</td>\\n<td><span class=\"datasortkey\" data-sort-value=\"Japan\"><span class=\"flagicon\"><img alt=\"\" src=\"//upload.wikimedia.org/wikipedia/en/thumb/9/9e/Flag_of_Japan.svg/23px-Flag_of_Japan.svg.png\" decoding=\"async\" width=\"23\" height=\"15\" class=\"thumbborder\" srcset=\"//upload.wikimedia.org/wikipedia/en/thumb/9/9e/Flag_of_Japan.svg/35px-Flag_of_Japan.svg.png 1.5x, //upload.wikimedia.org/wikipedia/en/thumb/9/9e/Flag_of_Japan.svg/45px-Flag_of_Japan.svg.png 2x\" data-file-width=\"900\" data-file-height=\"600\" />&#160;</span><a href=\"/wiki/Japan\" title=\"Japan\">Japan</a></span>\\n</td></tr>\\n<tr>\\n<td><a href=\"/wiki/Live.com_Mobile\" class=\"mw-redirect\" title=\"Live.com Mobile\">Live</a>\\n</td>\\n<td>live.com\\n</td>\\n<td>17 (<img alt=\"Steady\" src=\"//upload.wikimedia.org/wikipedia/commons/thumb/9/96/Steady2.svg/11px-Steady2.svg.png\" decoding=\"async\" title=\"Steady\" width=\"11\" height=\"11\" srcset=\"//upload.wikimedia.org/wikipedia/commons/thumb/9/96/Steady2.svg/17px-Steady2.svg.png 1.5x, //upload.wikimedia.org/wikipedia/commons/thumb/9/96/Steady2.svg/22px-Steady2.svg.png 2x\" data-file-width=\"300\" data-file-height=\"300\" />)\\n</td>\\n<td>Computers Electronics and Technology &gt; Email\\n</td>\\n<td><span class=\"datasortkey\" data-sort-value=\"United States\"><span class=\"flagicon\"><img alt=\"\" src=\"//upload.wikimedia.org/wikipedia/en/thumb/a/a4/Flag_of_the_United_States.svg/23px-Flag_of_the_United_States.svg.png\" decoding=\"async\" width=\"23\" height=\"12\" class=\"thumbborder\" srcset=\"//upload.wikimedia.org/wikipedia/en/thumb/a/a4/Flag_of_the_United_States.svg/35px-Flag_of_the_United_States.svg.png 1.5x, //upload.wikimedia.org/wikipedia/en/thumb/a/a4/Flag_of_the_United_States.svg/46px-Flag_of_the_United_States.svg.png 2x\" data-file-width=\"1235\" data-file-height=\"650\" />&#160;</span><a href=\"/wiki/United_States\" title=\"United States\">United States</a></span>\\n</td></tr>\\n<tr>\\n<td><a href=\"/wiki/TikTok\" title=\"TikTok\">TikTok</a>\\n</td>\\n<td>tiktok.com\\n</td>\\n<td>18 (<img alt=\"Steady\" src=\"//upload.wikimedia.org/wikipedia/commons/thumb/9/96/Steady2.svg/11px-Steady2.svg.png\" decoding=\"async\" title=\"Steady\" width=\"11\" height=\"11\" srcset=\"//upload.wikimedia.org/wikipedia/commons/thumb/9/96/Steady2.svg/17px-Steady2.svg.png 1.5x, //upload.wikimedia.org/wikipedia/commons/thumb/9/96/Steady2.svg/22px-Steady2.svg.png 2x\" data-file-width=\"300\" data-file-height=\"300\" />)\\n</td>\\n<td>Computers Electronics and Technology &gt; Social Media Networks\\n</td>\\n<td><span class=\"datasortkey\" data-sort-value=\"China\"><span class=\"flagicon\"><img alt=\"\" src=\"//upload.wikimedia.org/wikipedia/commons/thumb/f/fa/Flag_of_the_People%27s_Republic_of_China.svg/23px-Flag_of_the_People%27s_Republic_of_China.svg.png\" decoding=\"async\" width=\"23\" height=\"15\" class=\"thumbborder\" srcset=\"//upload.wikimedia.org/wikipedia/commons/thumb/f/fa/Flag_of_the_People%27s_Republic_of_China.svg/35px-Flag_of_the_People%27s_Republic_of_China.svg.png 1.5x, //upload.wikimedia.org/wikipedia/commons/thumb/f/fa/Flag_of_the_People%27s_Republic_of_China.svg/45px-Flag_of_the_People%27s_Republic_of_China.svg.png 2x\" data-file-width=\"900\" data-file-height=\"600\" />&#160;</span><a href=\"/wiki/China\" title=\"China\">China</a></span>\\n</td></tr>\\n<tr>\\n<td><a href=\"/wiki/Docomo\" class=\"mw-redirect\" title=\"Docomo\">Docomo</a>\\n</td>\\n<td>docomo.ne.jp\\n</td>\\n<td>19 (<img alt=\"Steady\" src=\"//upload.wikimedia.org/wikipedia/commons/thumb/9/96/Steady2.svg/11px-Steady2.svg.png\" decoding=\"async\" title=\"Steady\" width=\"11\" height=\"11\" srcset=\"//upload.wikimedia.org/wikipedia/commons/thumb/9/96/Steady2.svg/17px-Steady2.svg.png 1.5x, //upload.wikimedia.org/wikipedia/commons/thumb/9/96/Steady2.svg/22px-Steady2.svg.png 2x\" data-file-width=\"300\" data-file-height=\"300\" />)\\n</td>\\n<td>Computers Electronics and Technology &gt; Telecommunications\\n</td>\\n<td><span class=\"datasortkey\" data-sort-value=\"Japan\"><span class=\"flagicon\"><img alt=\"\" src=\"//upload.wikimedia.org/wikipedia/en/thumb/9/9e/Flag_of_Japan.svg/23px-Flag_of_Japan.svg.png\" decoding=\"async\" width=\"23\" height=\"15\" class=\"thumbborder\" srcset=\"//upload.wikimedia.org/wikipedia/en/thumb/9/9e/Flag_of_Japan.svg/35px-Flag_of_Japan.svg.png 1.5x, //upload.wikimedia.org/wikipedia/en/thumb/9/9e/Flag_of_Japan.svg/45px-Flag_of_Japan.svg.png 2x\" data-file-width=\"900\" data-file-height=\"600\" />&#160;</span><a href=\"/wiki/Japan\" title=\"Japan\">Japan</a></span>\\n</td></tr>\\n<tr>\\n<td><a href=\"/wiki/Reddit\" title=\"Reddit\">Reddit</a>\\n</td>\\n<td>reddit.com\\n</td>\\n<td>20 (<img alt=\"Increase\" src=\"//upload.wikimedia.org/wikipedia/commons/thumb/b/b0/Increase2.svg/11px-Increase2.svg.png\" decoding=\"async\" title=\"Increase\" width=\"11\" height=\"11\" srcset=\"//upload.wikimedia.org/wikipedia/commons/thumb/b/b0/Increase2.svg/17px-Increase2.svg.png 1.5x, //upload.wikimedia.org/wikipedia/commons/thumb/b/b0/Increase2.svg/22px-Increase2.svg.png 2x\" data-file-width=\"300\" data-file-height=\"300\" />1)\\n</td>\\n<td>Computers Electronics and Technology &gt; Social Media Networks\\n</td>\\n<td><span class=\"datasortkey\" data-sort-value=\"United States\"><span class=\"flagicon\"><img alt=\"\" src=\"//upload.wikimedia.org/wikipedia/en/thumb/a/a4/Flag_of_the_United_States.svg/23px-Flag_of_the_United_States.svg.png\" decoding=\"async\" width=\"23\" height=\"12\" class=\"thumbborder\" srcset=\"//upload.wikimedia.org/wikipedia/en/thumb/a/a4/Flag_of_the_United_States.svg/35px-Flag_of_the_United_States.svg.png 1.5x, //upload.wikimedia.org/wikipedia/en/thumb/a/a4/Flag_of_the_United_States.svg/46px-Flag_of_the_United_States.svg.png 2x\" data-file-width=\"1235\" data-file-height=\"650\" />&#160;</span><a href=\"/wiki/United_States\" title=\"United States\">United States</a></span>\\n</td></tr>\\n<tr>\\n<td><a href=\"/wiki/Microsoft_Office\" title=\"Microsoft Office\">Office</a>\\n</td>\\n<td>office.com\\n</td>\\n<td>21 (<img alt=\"Steady\" src=\"//upload.wikimedia.org/wikipedia/commons/thumb/9/96/Steady2.svg/11px-Steady2.svg.png\" decoding=\"async\" title=\"Steady\" width=\"11\" height=\"11\" srcset=\"//upload.wikimedia.org/wikipedia/commons/thumb/9/96/Steady2.svg/17px-Steady2.svg.png 1.5x, //upload.wikimedia.org/wikipedia/commons/thumb/9/96/Steady2.svg/22px-Steady2.svg.png 2x\" data-file-width=\"300\" data-file-height=\"300\" />)\\n</td>\\n<td>Computers Electronics and Technology &gt; Programming and Developer Software\\n</td>\\n<td><span class=\"datasortkey\" data-sort-value=\"United States\"><span class=\"flagicon\"><img alt=\"\" src=\"//upload.wikimedia.org/wikipedia/en/thumb/a/a4/Flag_of_the_United_States.svg/23px-Flag_of_the_United_States.svg.png\" decoding=\"async\" width=\"23\" height=\"12\" class=\"thumbborder\" srcset=\"//upload.wikimedia.org/wikipedia/en/thumb/a/a4/Flag_of_the_United_States.svg/35px-Flag_of_the_United_States.svg.png 1.5x, //upload.wikimedia.org/wikipedia/en/thumb/a/a4/Flag_of_the_United_States.svg/46px-Flag_of_the_United_States.svg.png 2x\" data-file-width=\"1235\" data-file-height=\"650\" />&#160;</span><a href=\"/wiki/United_States\" title=\"United States\">United States</a></span>\\n</td></tr>\\n<tr>\\n<td><a href=\"/wiki/VK_(service)\" title=\"VK (service)\">VK</a>\\n</td>\\n<td>vk.com\\n</td>\\n<td>22 (<img alt=\"Steady\" src=\"//upload.wikimedia.org/wikipedia/commons/thumb/9/96/Steady2.svg/11px-Steady2.svg.png\" decoding=\"async\" title=\"Steady\" width=\"11\" height=\"11\" srcset=\"//upload.wikimedia.org/wikipedia/commons/thumb/9/96/Steady2.svg/17px-Steady2.svg.png 1.5x, //upload.wikimedia.org/wikipedia/commons/thumb/9/96/Steady2.svg/22px-Steady2.svg.png 2x\" data-file-width=\"300\" data-file-height=\"300\" />)\\n</td>\\n<td>Computers Electronics and Technology &gt; Social Media Networks\\n</td>\\n<td><span class=\"datasortkey\" data-sort-value=\"Russia\"><span class=\"flagicon\"><img alt=\"\" src=\"//upload.wikimedia.org/wikipedia/en/thumb/f/f3/Flag_of_Russia.svg/23px-Flag_of_Russia.svg.png\" decoding=\"async\" width=\"23\" height=\"15\" class=\"thumbborder\" srcset=\"//upload.wikimedia.org/wikipedia/en/thumb/f/f3/Flag_of_Russia.svg/35px-Flag_of_Russia.svg.png 1.5x, //upload.wikimedia.org/wikipedia/en/thumb/f/f3/Flag_of_Russia.svg/45px-Flag_of_Russia.svg.png 2x\" data-file-width=\"900\" data-file-height=\"600\" />&#160;</span><a href=\"/wiki/Russia\" title=\"Russia\">Russia</a></span>\\n</td></tr>\\n<tr>\\n<td><a href=\"/wiki/LinkedIn\" title=\"LinkedIn\">LinkedIn</a>\\n</td>\\n<td>linkedin.com\\n</td>\\n<td>23 (<img alt=\"Increase\" src=\"//upload.wikimedia.org/wikipedia/commons/thumb/b/b0/Increase2.svg/11px-Increase2.svg.png\" decoding=\"async\" title=\"Increase\" width=\"11\" height=\"11\" srcset=\"//upload.wikimedia.org/wikipedia/commons/thumb/b/b0/Increase2.svg/17px-Increase2.svg.png 1.5x, //upload.wikimedia.org/wikipedia/commons/thumb/b/b0/Increase2.svg/22px-Increase2.svg.png 2x\" data-file-width=\"300\" data-file-height=\"300\" />1)\\n</td>\\n<td>Computers Electronics and Technology &gt; Social Media Networks\\n</td>\\n<td><span class=\"datasortkey\" data-sort-value=\"United States\"><span class=\"flagicon\"><img alt=\"\" src=\"//upload.wikimedia.org/wikipedia/en/thumb/a/a4/Flag_of_the_United_States.svg/23px-Flag_of_the_United_States.svg.png\" decoding=\"async\" width=\"23\" height=\"12\" class=\"thumbborder\" srcset=\"//upload.wikimedia.org/wikipedia/en/thumb/a/a4/Flag_of_the_United_States.svg/35px-Flag_of_the_United_States.svg.png 1.5x, //upload.wikimedia.org/wikipedia/en/thumb/a/a4/Flag_of_the_United_States.svg/46px-Flag_of_the_United_States.svg.png 2x\" data-file-width=\"1235\" data-file-height=\"650\" />&#160;</span><a href=\"/wiki/United_States\" title=\"United States\">United States</a></span>\\n</td></tr>\\n<tr>\\n<td><a href=\"/wiki/XHamster\" title=\"XHamster\">xHamster</a>\\n</td>\\n<td>xhamster.com\\n</td>\\n<td>24 (<img alt=\"Steady\" src=\"//upload.wikimedia.org/wikipedia/commons/thumb/9/96/Steady2.svg/11px-Steady2.svg.png\" decoding=\"async\" title=\"Steady\" width=\"11\" height=\"11\" srcset=\"//upload.wikimedia.org/wikipedia/commons/thumb/9/96/Steady2.svg/17px-Steady2.svg.png 1.5x, //upload.wikimedia.org/wikipedia/commons/thumb/9/96/Steady2.svg/22px-Steady2.svg.png 2x\" data-file-width=\"300\" data-file-height=\"300\" />)\\n</td>\\n<td>Adult\\n</td>\\n<td><span class=\"datasortkey\" data-sort-value=\"Cyprus\"><span class=\"flagicon\"><img alt=\"\" src=\"//upload.wikimedia.org/wikipedia/commons/thumb/d/d4/Flag_of_Cyprus.svg/23px-Flag_of_Cyprus.svg.png\" decoding=\"async\" width=\"23\" height=\"15\" class=\"thumbborder\" srcset=\"//upload.wikimedia.org/wikipedia/commons/thumb/d/d4/Flag_of_Cyprus.svg/35px-Flag_of_Cyprus.svg.png 1.5x, //upload.wikimedia.org/wikipedia/commons/thumb/d/d4/Flag_of_Cyprus.svg/45px-Flag_of_Cyprus.svg.png 2x\" data-file-width=\"900\" data-file-height=\"600\" />&#160;</span><a href=\"/wiki/Cyprus\" title=\"Cyprus\">Cyprus</a></span>\\n</td></tr>\\n<tr>\\n<td><a href=\"/wiki/Discord_(software)\" class=\"mw-redirect\" title=\"Discord (software)\">Discord</a>\\n</td>\\n<td>discord.com\\n</td>\\n<td>25 (<img alt=\"Steady\" src=\"//upload.wikimedia.org/wikipedia/commons/thumb/9/96/Steady2.svg/11px-Steady2.svg.png\" decoding=\"async\" title=\"Steady\" width=\"11\" height=\"11\" srcset=\"//upload.wikimedia.org/wikipedia/commons/thumb/9/96/Steady2.svg/17px-Steady2.svg.png 1.5x, //upload.wikimedia.org/wikipedia/commons/thumb/9/96/Steady2.svg/22px-Steady2.svg.png 2x\" data-file-width=\"300\" data-file-height=\"300\" />)\\n</td>\\n<td>Computers Electronics and Technology &gt; Social Media Networks\\n</td>\\n<td><span class=\"datasortkey\" data-sort-value=\"United States\"><span class=\"flagicon\"><img alt=\"\" src=\"//upload.wikimedia.org/wikipedia/en/thumb/a/a4/Flag_of_the_United_States.svg/23px-Flag_of_the_United_States.svg.png\" decoding=\"async\" width=\"23\" height=\"12\" class=\"thumbborder\" srcset=\"//upload.wikimedia.org/wikipedia/en/thumb/a/a4/Flag_of_the_United_States.svg/35px-Flag_of_the_United_States.svg.png 1.5x, //upload.wikimedia.org/wikipedia/en/thumb/a/a4/Flag_of_the_United_States.svg/46px-Flag_of_the_United_States.svg.png 2x\" data-file-width=\"1235\" data-file-height=\"650\" />&#160;</span><a href=\"/wiki/United_States\" title=\"United States\">United States</a></span>\\n</td></tr>\\n<tr>\\n<td><a href=\"/wiki/Zoom_(software)\" title=\"Zoom (software)\">Zoom</a>\\n</td>\\n<td>zoom.us\\n</td>\\n<td>26 (<img alt=\"Decrease\" src=\"//upload.wikimedia.org/wikipedia/commons/thumb/e/ed/Decrease2.svg/11px-Decrease2.svg.png\" decoding=\"async\" title=\"Decrease\" width=\"11\" height=\"11\" srcset=\"//upload.wikimedia.org/wikipedia/commons/thumb/e/ed/Decrease2.svg/17px-Decrease2.svg.png 1.5x, //upload.wikimedia.org/wikipedia/commons/thumb/e/ed/Decrease2.svg/22px-Decrease2.svg.png 2x\" data-file-width=\"300\" data-file-height=\"300\" />4)\\n</td>\\n<td>Computers Electronics and Technology &gt; Other Computers Electronics and Technology\\n</td>\\n<td><span class=\"datasortkey\" data-sort-value=\"United States\"><span class=\"flagicon\"><img alt=\"\" src=\"//upload.wikimedia.org/wikipedia/en/thumb/a/a4/Flag_of_the_United_States.svg/23px-Flag_of_the_United_States.svg.png\" decoding=\"async\" width=\"23\" height=\"12\" class=\"thumbborder\" srcset=\"//upload.wikimedia.org/wikipedia/en/thumb/a/a4/Flag_of_the_United_States.svg/35px-Flag_of_the_United_States.svg.png 1.5x, //upload.wikimedia.org/wikipedia/en/thumb/a/a4/Flag_of_the_United_States.svg/46px-Flag_of_the_United_States.svg.png 2x\" data-file-width=\"1235\" data-file-height=\"650\" />&#160;</span><a href=\"/wiki/United_States\" title=\"United States\">United States</a></span>\\n</td></tr>\\n<tr>\\n<td><a href=\"/wiki/Twitch_(service)\" title=\"Twitch (service)\">Twitch</a>\\n</td>\\n<td>twitch.tv\\n</td>\\n<td>27 (<img alt=\"Decrease\" src=\"//upload.wikimedia.org/wikipedia/commons/thumb/e/ed/Decrease2.svg/11px-Decrease2.svg.png\" decoding=\"async\" title=\"Decrease\" width=\"11\" height=\"11\" srcset=\"//upload.wikimedia.org/wikipedia/commons/thumb/e/ed/Decrease2.svg/17px-Decrease2.svg.png 1.5x, //upload.wikimedia.org/wikipedia/commons/thumb/e/ed/Decrease2.svg/22px-Decrease2.svg.png 2x\" data-file-width=\"300\" data-file-height=\"300\" />2)\\n</td>\\n<td>Games &gt; Video Games Consoles and Accessories\\n</td>\\n<td><span class=\"datasortkey\" data-sort-value=\"United States\"><span class=\"flagicon\"><img alt=\"\" src=\"//upload.wikimedia.org/wikipedia/en/thumb/a/a4/Flag_of_the_United_States.svg/23px-Flag_of_the_United_States.svg.png\" decoding=\"async\" width=\"23\" height=\"12\" class=\"thumbborder\" srcset=\"//upload.wikimedia.org/wikipedia/en/thumb/a/a4/Flag_of_the_United_States.svg/35px-Flag_of_the_United_States.svg.png 1.5x, //upload.wikimedia.org/wikipedia/en/thumb/a/a4/Flag_of_the_United_States.svg/46px-Flag_of_the_United_States.svg.png 2x\" data-file-width=\"1235\" data-file-height=\"650\" />&#160;</span><a href=\"/wiki/United_States\" title=\"United States\">United States</a></span>\\n</td></tr>\\n<tr>\\n<td><a href=\"/wiki/Naver\" title=\"Naver\">Naver</a>\\n</td>\\n<td>naver.com\\n</td>\\n<td>28 (<img alt=\"Steady\" src=\"//upload.wikimedia.org/wikipedia/commons/thumb/9/96/Steady2.svg/11px-Steady2.svg.png\" decoding=\"async\" title=\"Steady\" width=\"11\" height=\"11\" srcset=\"//upload.wikimedia.org/wikipedia/commons/thumb/9/96/Steady2.svg/17px-Steady2.svg.png 1.5x, //upload.wikimedia.org/wikipedia/commons/thumb/9/96/Steady2.svg/22px-Steady2.svg.png 2x\" data-file-width=\"300\" data-file-height=\"300\" />)\\n</td>\\n<td>News &amp; Media Publishers\\n</td>\\n<td><span class=\"datasortkey\" data-sort-value=\"South Korea\"><span class=\"flagicon\"><img alt=\"\" src=\"//upload.wikimedia.org/wikipedia/commons/thumb/0/09/Flag_of_South_Korea.svg/23px-Flag_of_South_Korea.svg.png\" decoding=\"async\" width=\"23\" height=\"15\" class=\"thumbborder\" srcset=\"//upload.wikimedia.org/wikipedia/commons/thumb/0/09/Flag_of_South_Korea.svg/35px-Flag_of_South_Korea.svg.png 1.5x, //upload.wikimedia.org/wikipedia/commons/thumb/0/09/Flag_of_South_Korea.svg/45px-Flag_of_South_Korea.svg.png 2x\" data-file-width=\"900\" data-file-height=\"600\" />&#160;</span><a href=\"/wiki/South_Korea\" title=\"South Korea\">South Korea</a></span>\\n</td></tr>\\n<tr>\\n<td><a href=\"/wiki/Microsoft_Bing\" title=\"Microsoft Bing\">Bing</a>\\n</td>\\n<td>bing.com\\n</td>\\n<td>29 (<img alt=\"Decrease\" src=\"//upload.wikimedia.org/wikipedia/commons/thumb/e/ed/Decrease2.svg/11px-Decrease2.svg.png\" decoding=\"async\" title=\"Decrease\" width=\"11\" height=\"11\" srcset=\"//upload.wikimedia.org/wikipedia/commons/thumb/e/ed/Decrease2.svg/17px-Decrease2.svg.png 1.5x, //upload.wikimedia.org/wikipedia/commons/thumb/e/ed/Decrease2.svg/22px-Decrease2.svg.png 2x\" data-file-width=\"300\" data-file-height=\"300\" />1)\\n</td>\\n<td>Computers Electronics and Technology &gt; Search Engines\\n</td>\\n<td><span class=\"datasortkey\" data-sort-value=\"United States\"><span class=\"flagicon\"><img alt=\"\" src=\"//upload.wikimedia.org/wikipedia/en/thumb/a/a4/Flag_of_the_United_States.svg/23px-Flag_of_the_United_States.svg.png\" decoding=\"async\" width=\"23\" height=\"12\" class=\"thumbborder\" srcset=\"//upload.wikimedia.org/wikipedia/en/thumb/a/a4/Flag_of_the_United_States.svg/35px-Flag_of_the_United_States.svg.png 1.5x, //upload.wikimedia.org/wikipedia/en/thumb/a/a4/Flag_of_the_United_States.svg/46px-Flag_of_the_United_States.svg.png 2x\" data-file-width=\"1235\" data-file-height=\"650\" />&#160;</span><a href=\"/wiki/United_States\" title=\"United States\">United States</a></span>\\n</td></tr>\\n<tr>\\n<td><a href=\"/wiki/Yandex_Browser\" title=\"Yandex Browser\">Yandex Turbo Pages</a>\\n</td>\\n<td>turbopages.org\\n</td>\\n<td>30 (<img alt=\"Increase\" src=\"//upload.wikimedia.org/wikipedia/commons/thumb/b/b0/Increase2.svg/11px-Increase2.svg.png\" decoding=\"async\" title=\"Increase\" width=\"11\" height=\"11\" srcset=\"//upload.wikimedia.org/wikipedia/commons/thumb/b/b0/Increase2.svg/17px-Increase2.svg.png 1.5x, //upload.wikimedia.org/wikipedia/commons/thumb/b/b0/Increase2.svg/22px-Increase2.svg.png 2x\" data-file-width=\"300\" data-file-height=\"300\" />9)\\n</td>\\n<td>News &amp; Media Publishers\\n</td>\\n<td><span class=\"datasortkey\" data-sort-value=\"Russia\"><span class=\"flagicon\"><img alt=\"\" src=\"//upload.wikimedia.org/wikipedia/en/thumb/f/f3/Flag_of_Russia.svg/23px-Flag_of_Russia.svg.png\" decoding=\"async\" width=\"23\" height=\"15\" class=\"thumbborder\" srcset=\"//upload.wikimedia.org/wikipedia/en/thumb/f/f3/Flag_of_Russia.svg/35px-Flag_of_Russia.svg.png 1.5x, //upload.wikimedia.org/wikipedia/en/thumb/f/f3/Flag_of_Russia.svg/45px-Flag_of_Russia.svg.png 2x\" data-file-width=\"900\" data-file-height=\"600\" />&#160;</span><a href=\"/wiki/Russia\" title=\"Russia\">Russia</a></span>\\n</td></tr>\\n<tr>\\n<td><a href=\"/wiki/Bilibili\" title=\"Bilibili\">Bilibili</a>\\n</td>\\n<td>bilibili.com\\n</td>\\n<td>31 (<img alt=\"Increase\" src=\"//upload.wikimedia.org/wikipedia/commons/thumb/b/b0/Increase2.svg/11px-Increase2.svg.png\" decoding=\"async\" title=\"Increase\" width=\"11\" height=\"11\" srcset=\"//upload.wikimedia.org/wikipedia/commons/thumb/b/b0/Increase2.svg/17px-Increase2.svg.png 1.5x, //upload.wikimedia.org/wikipedia/commons/thumb/b/b0/Increase2.svg/22px-Increase2.svg.png 2x\" data-file-width=\"300\" data-file-height=\"300\" />1)\\n</td>\\n<td>Arts &amp; Entertainment &gt; Animation and Comics\\n</td>\\n<td><span class=\"datasortkey\" data-sort-value=\"China\"><span class=\"flagicon\"><img alt=\"\" src=\"//upload.wikimedia.org/wikipedia/commons/thumb/f/fa/Flag_of_the_People%27s_Republic_of_China.svg/23px-Flag_of_the_People%27s_Republic_of_China.svg.png\" decoding=\"async\" width=\"23\" height=\"15\" class=\"thumbborder\" srcset=\"//upload.wikimedia.org/wikipedia/commons/thumb/f/fa/Flag_of_the_People%27s_Republic_of_China.svg/35px-Flag_of_the_People%27s_Republic_of_China.svg.png 1.5x, //upload.wikimedia.org/wikipedia/commons/thumb/f/fa/Flag_of_the_People%27s_Republic_of_China.svg/45px-Flag_of_the_People%27s_Republic_of_China.svg.png 2x\" data-file-width=\"900\" data-file-height=\"600\" />&#160;</span><a href=\"/wiki/China\" title=\"China\">China</a></span>\\n</td></tr>\\n<tr>\\n<td><a href=\"/wiki/Mail.Ru\" class=\"mw-redirect\" title=\"Mail.Ru\">Mail.Ru</a>\\n</td>\\n<td>mail.ru\\n</td>\\n<td>32 (<img alt=\"Decrease\" src=\"//upload.wikimedia.org/wikipedia/commons/thumb/e/ed/Decrease2.svg/11px-Decrease2.svg.png\" decoding=\"async\" title=\"Decrease\" width=\"11\" height=\"11\" srcset=\"//upload.wikimedia.org/wikipedia/commons/thumb/e/ed/Decrease2.svg/17px-Decrease2.svg.png 1.5x, //upload.wikimedia.org/wikipedia/commons/thumb/e/ed/Decrease2.svg/22px-Decrease2.svg.png 2x\" data-file-width=\"300\" data-file-height=\"300\" />1)\\n</td>\\n<td>Computers Electronics and Technology &gt; Email\\n</td>\\n<td><span class=\"datasortkey\" data-sort-value=\"Russia\"><span class=\"flagicon\"><img alt=\"\" src=\"//upload.wikimedia.org/wikipedia/en/thumb/f/f3/Flag_of_Russia.svg/23px-Flag_of_Russia.svg.png\" decoding=\"async\" width=\"23\" height=\"15\" class=\"thumbborder\" srcset=\"//upload.wikimedia.org/wikipedia/en/thumb/f/f3/Flag_of_Russia.svg/35px-Flag_of_Russia.svg.png 1.5x, //upload.wikimedia.org/wikipedia/en/thumb/f/f3/Flag_of_Russia.svg/45px-Flag_of_Russia.svg.png 2x\" data-file-width=\"900\" data-file-height=\"600\" />&#160;</span><a href=\"/wiki/Russia\" title=\"Russia\">Russia</a></span>\\n</td></tr>\\n<tr>\\n<td><a href=\"/wiki/Roblox\" title=\"Roblox\">Roblox</a>\\n</td>\\n<td>roblox.com\\n</td>\\n<td>33 (<img alt=\"Decrease\" src=\"//upload.wikimedia.org/wikipedia/commons/thumb/e/ed/Decrease2.svg/11px-Decrease2.svg.png\" decoding=\"async\" title=\"Decrease\" width=\"11\" height=\"11\" srcset=\"//upload.wikimedia.org/wikipedia/commons/thumb/e/ed/Decrease2.svg/17px-Decrease2.svg.png 1.5x, //upload.wikimedia.org/wikipedia/commons/thumb/e/ed/Decrease2.svg/22px-Decrease2.svg.png 2x\" data-file-width=\"300\" data-file-height=\"300\" />3)\\n</td>\\n<td>Games &gt; Video Games Consoles and Accessories\\n</td>\\n<td><span class=\"datasortkey\" data-sort-value=\"United States\"><span class=\"flagicon\"><img alt=\"\" src=\"//upload.wikimedia.org/wikipedia/en/thumb/a/a4/Flag_of_the_United_States.svg/23px-Flag_of_the_United_States.svg.png\" decoding=\"async\" width=\"23\" height=\"12\" class=\"thumbborder\" srcset=\"//upload.wikimedia.org/wikipedia/en/thumb/a/a4/Flag_of_the_United_States.svg/35px-Flag_of_the_United_States.svg.png 1.5x, //upload.wikimedia.org/wikipedia/en/thumb/a/a4/Flag_of_the_United_States.svg/46px-Flag_of_the_United_States.svg.png 2x\" data-file-width=\"1235\" data-file-height=\"650\" />&#160;</span><a href=\"/wiki/United_States\" title=\"United States\">United States</a></span>\\n</td></tr>\\n<tr>\\n<td><a href=\"/wiki/Microsoft_Online\" class=\"mw-redirect\" title=\"Microsoft Online\">Microsoft Online</a>\\n</td>\\n<td>microsoftonline.com\\n</td>\\n<td>34 (<img alt=\"Decrease\" src=\"//upload.wikimedia.org/wikipedia/commons/thumb/e/ed/Decrease2.svg/11px-Decrease2.svg.png\" decoding=\"async\" title=\"Decrease\" width=\"11\" height=\"11\" srcset=\"//upload.wikimedia.org/wikipedia/commons/thumb/e/ed/Decrease2.svg/17px-Decrease2.svg.png 1.5x, //upload.wikimedia.org/wikipedia/commons/thumb/e/ed/Decrease2.svg/22px-Decrease2.svg.png 2x\" data-file-width=\"300\" data-file-height=\"300\" />1)\\n</td>\\n<td>Computers Electronics and Technology &gt; Programming and Developer Software\\n</td>\\n<td><span class=\"datasortkey\" data-sort-value=\"United States\"><span class=\"flagicon\"><img alt=\"\" src=\"//upload.wikimedia.org/wikipedia/en/thumb/a/a4/Flag_of_the_United_States.svg/23px-Flag_of_the_United_States.svg.png\" decoding=\"async\" width=\"23\" height=\"12\" class=\"thumbborder\" srcset=\"//upload.wikimedia.org/wikipedia/en/thumb/a/a4/Flag_of_the_United_States.svg/35px-Flag_of_the_United_States.svg.png 1.5x, //upload.wikimedia.org/wikipedia/en/thumb/a/a4/Flag_of_the_United_States.svg/46px-Flag_of_the_United_States.svg.png 2x\" data-file-width=\"1235\" data-file-height=\"650\" />&#160;</span><a href=\"/wiki/United_States\" title=\"United States\">United States</a></span>\\n</td></tr>\\n<tr>\\n<td><a href=\"/wiki/DuckDuckGo\" title=\"DuckDuckGo\">DuckDuckGo</a>\\n</td>\\n<td>duckduckgo.com\\n</td>\\n<td>35 (<img alt=\"Decrease\" src=\"//upload.wikimedia.org/wikipedia/commons/thumb/e/ed/Decrease2.svg/11px-Decrease2.svg.png\" decoding=\"async\" title=\"Decrease\" width=\"11\" height=\"11\" srcset=\"//upload.wikimedia.org/wikipedia/commons/thumb/e/ed/Decrease2.svg/17px-Decrease2.svg.png 1.5x, //upload.wikimedia.org/wikipedia/commons/thumb/e/ed/Decrease2.svg/22px-Decrease2.svg.png 2x\" data-file-width=\"300\" data-file-height=\"300\" />1)\\n</td>\\n<td>Computers Electronics and Technology &gt; Search Engines\\n</td>\\n<td><span class=\"datasortkey\" data-sort-value=\"United States\"><span class=\"flagicon\"><img alt=\"\" src=\"//upload.wikimedia.org/wikipedia/en/thumb/a/a4/Flag_of_the_United_States.svg/23px-Flag_of_the_United_States.svg.png\" decoding=\"async\" width=\"23\" height=\"12\" class=\"thumbborder\" srcset=\"//upload.wikimedia.org/wikipedia/en/thumb/a/a4/Flag_of_the_United_States.svg/35px-Flag_of_the_United_States.svg.png 1.5x, //upload.wikimedia.org/wikipedia/en/thumb/a/a4/Flag_of_the_United_States.svg/46px-Flag_of_the_United_States.svg.png 2x\" data-file-width=\"1235\" data-file-height=\"650\" />&#160;</span><a href=\"/wiki/United_States\" title=\"United States\">United States</a></span>\\n</td></tr>\\n<tr>\\n<td><a href=\"/wiki/Pinterest\" title=\"Pinterest\">Pinterest</a>\\n</td>\\n<td>pinterest.com\\n</td>\\n<td>36 (<img alt=\"Decrease\" src=\"//upload.wikimedia.org/wikipedia/commons/thumb/e/ed/Decrease2.svg/11px-Decrease2.svg.png\" decoding=\"async\" title=\"Decrease\" width=\"11\" height=\"11\" srcset=\"//upload.wikimedia.org/wikipedia/commons/thumb/e/ed/Decrease2.svg/17px-Decrease2.svg.png 1.5x, //upload.wikimedia.org/wikipedia/commons/thumb/e/ed/Decrease2.svg/22px-Decrease2.svg.png 2x\" data-file-width=\"300\" data-file-height=\"300\" />2)\\n</td>\\n<td>Computers Electronics and Technology &gt; Social Media Networks\\n</td>\\n<td><span class=\"datasortkey\" data-sort-value=\"United States\"><span class=\"flagicon\"><img alt=\"\" src=\"//upload.wikimedia.org/wikipedia/en/thumb/a/a4/Flag_of_the_United_States.svg/23px-Flag_of_the_United_States.svg.png\" decoding=\"async\" width=\"23\" height=\"12\" class=\"thumbborder\" srcset=\"//upload.wikimedia.org/wikipedia/en/thumb/a/a4/Flag_of_the_United_States.svg/35px-Flag_of_the_United_States.svg.png 1.5x, //upload.wikimedia.org/wikipedia/en/thumb/a/a4/Flag_of_the_United_States.svg/46px-Flag_of_the_United_States.svg.png 2x\" data-file-width=\"1235\" data-file-height=\"650\" />&#160;</span><a href=\"/wiki/United_States\" title=\"United States\">United States</a></span>\\n</td></tr>\\n<tr>\\n<td><a href=\"/wiki/Tencent_QQ\" title=\"Tencent QQ\">QQ</a>\\n</td>\\n<td>qq.com\\n</td>\\n<td>37 (<img alt=\"Decrease\" src=\"//upload.wikimedia.org/wikipedia/commons/thumb/e/ed/Decrease2.svg/11px-Decrease2.svg.png\" decoding=\"async\" title=\"Decrease\" width=\"11\" height=\"11\" srcset=\"//upload.wikimedia.org/wikipedia/commons/thumb/e/ed/Decrease2.svg/17px-Decrease2.svg.png 1.5x, //upload.wikimedia.org/wikipedia/commons/thumb/e/ed/Decrease2.svg/22px-Decrease2.svg.png 2x\" data-file-width=\"300\" data-file-height=\"300\" />3)\\n</td>\\n<td>News &amp; Media Publishers\\n</td>\\n<td><span class=\"datasortkey\" data-sort-value=\"China\"><span class=\"flagicon\"><img alt=\"\" src=\"//upload.wikimedia.org/wikipedia/commons/thumb/f/fa/Flag_of_the_People%27s_Republic_of_China.svg/23px-Flag_of_the_People%27s_Republic_of_China.svg.png\" decoding=\"async\" width=\"23\" height=\"15\" class=\"thumbborder\" srcset=\"//upload.wikimedia.org/wikipedia/commons/thumb/f/fa/Flag_of_the_People%27s_Republic_of_China.svg/35px-Flag_of_the_People%27s_Republic_of_China.svg.png 1.5x, //upload.wikimedia.org/wikipedia/commons/thumb/f/fa/Flag_of_the_People%27s_Republic_of_China.svg/45px-Flag_of_the_People%27s_Republic_of_China.svg.png 2x\" data-file-width=\"900\" data-file-height=\"600\" />&#160;</span><a href=\"/wiki/China\" title=\"China\">China</a></span>\\n</td></tr>\\n<tr>\\n<td><a href=\"/wiki/MSN\" title=\"MSN\">MSN</a>\\n</td>\\n<td>msn.com\\n</td>\\n<td>38 (<img alt=\"Increase\" src=\"//upload.wikimedia.org/wikipedia/commons/thumb/b/b0/Increase2.svg/11px-Increase2.svg.png\" decoding=\"async\" title=\"Increase\" width=\"11\" height=\"11\" srcset=\"//upload.wikimedia.org/wikipedia/commons/thumb/b/b0/Increase2.svg/17px-Increase2.svg.png 1.5x, //upload.wikimedia.org/wikipedia/commons/thumb/b/b0/Increase2.svg/22px-Increase2.svg.png 2x\" data-file-width=\"300\" data-file-height=\"300\" />1)\\n</td>\\n<td>News &amp; Media Publishers\\n</td>\\n<td><span class=\"datasortkey\" data-sort-value=\"United States\"><span class=\"flagicon\"><img alt=\"\" src=\"//upload.wikimedia.org/wikipedia/en/thumb/a/a4/Flag_of_the_United_States.svg/23px-Flag_of_the_United_States.svg.png\" decoding=\"async\" width=\"23\" height=\"12\" class=\"thumbborder\" srcset=\"//upload.wikimedia.org/wikipedia/en/thumb/a/a4/Flag_of_the_United_States.svg/35px-Flag_of_the_United_States.svg.png 1.5x, //upload.wikimedia.org/wikipedia/en/thumb/a/a4/Flag_of_the_United_States.svg/46px-Flag_of_the_United_States.svg.png 2x\" data-file-width=\"1235\" data-file-height=\"650\" />&#160;</span><a href=\"/wiki/United_States\" title=\"United States\">United States</a></span>\\n</td></tr>\\n<tr>\\n<td><a href=\"/wiki/Yahoo!_News\" title=\"Yahoo! News\">Yahoo! News</a>\\n</td>\\n<td>news.yahoo.co.jp\\n</td>\\n<td>39 (<img alt=\"Decrease\" src=\"//upload.wikimedia.org/wikipedia/commons/thumb/e/ed/Decrease2.svg/11px-Decrease2.svg.png\" decoding=\"async\" title=\"Decrease\" width=\"11\" height=\"11\" srcset=\"//upload.wikimedia.org/wikipedia/commons/thumb/e/ed/Decrease2.svg/17px-Decrease2.svg.png 1.5x, //upload.wikimedia.org/wikipedia/commons/thumb/e/ed/Decrease2.svg/22px-Decrease2.svg.png 2x\" data-file-width=\"300\" data-file-height=\"300\" />2)\\n</td>\\n<td>News &amp; Media Publishers\\n</td>\\n<td><span class=\"datasortkey\" data-sort-value=\"United States\"><span class=\"flagicon\"><img alt=\"\" src=\"//upload.wikimedia.org/wikipedia/en/thumb/a/a4/Flag_of_the_United_States.svg/23px-Flag_of_the_United_States.svg.png\" decoding=\"async\" width=\"23\" height=\"12\" class=\"thumbborder\" srcset=\"//upload.wikimedia.org/wikipedia/en/thumb/a/a4/Flag_of_the_United_States.svg/35px-Flag_of_the_United_States.svg.png 1.5x, //upload.wikimedia.org/wikipedia/en/thumb/a/a4/Flag_of_the_United_States.svg/46px-Flag_of_the_United_States.svg.png 2x\" data-file-width=\"1235\" data-file-height=\"650\" />&#160;</span><a href=\"/wiki/United_States\" title=\"United States\">United States</a></span>\\n</td></tr>\\n<tr>\\n<td><a href=\"/wiki/Microsoft\" title=\"Microsoft\">Microsoft</a>\\n</td>\\n<td>microsoft.com\\n</td>\\n<td>40 (<img alt=\"Decrease\" src=\"//upload.wikimedia.org/wikipedia/commons/thumb/e/ed/Decrease2.svg/11px-Decrease2.svg.png\" decoding=\"async\" title=\"Decrease\" width=\"11\" height=\"11\" srcset=\"//upload.wikimedia.org/wikipedia/commons/thumb/e/ed/Decrease2.svg/17px-Decrease2.svg.png 1.5x, //upload.wikimedia.org/wikipedia/commons/thumb/e/ed/Decrease2.svg/22px-Decrease2.svg.png 2x\" data-file-width=\"300\" data-file-height=\"300\" />1)\\n</td>\\n<td>Computers Electronics and Technology &gt; Programming and Developer Software\\n</td>\\n<td><span class=\"datasortkey\" data-sort-value=\"United States\"><span class=\"flagicon\"><img alt=\"\" src=\"//upload.wikimedia.org/wikipedia/en/thumb/a/a4/Flag_of_the_United_States.svg/23px-Flag_of_the_United_States.svg.png\" decoding=\"async\" width=\"23\" height=\"12\" class=\"thumbborder\" srcset=\"//upload.wikimedia.org/wikipedia/en/thumb/a/a4/Flag_of_the_United_States.svg/35px-Flag_of_the_United_States.svg.png 1.5x, //upload.wikimedia.org/wikipedia/en/thumb/a/a4/Flag_of_the_United_States.svg/46px-Flag_of_the_United_States.svg.png 2x\" data-file-width=\"1235\" data-file-height=\"650\" />&#160;</span><a href=\"/wiki/United_States\" title=\"United States\">United States</a></span>\\n</td></tr>\\n<tr>\\n<td>Google BR\\n</td>\\n<td>google.com.br\\n</td>\\n<td>41 (<img alt=\"Decrease\" src=\"//upload.wikimedia.org/wikipedia/commons/thumb/e/ed/Decrease2.svg/11px-Decrease2.svg.png\" decoding=\"async\" title=\"Decrease\" width=\"11\" height=\"11\" srcset=\"//upload.wikimedia.org/wikipedia/commons/thumb/e/ed/Decrease2.svg/17px-Decrease2.svg.png 1.5x, //upload.wikimedia.org/wikipedia/commons/thumb/e/ed/Decrease2.svg/22px-Decrease2.svg.png 2x\" data-file-width=\"300\" data-file-height=\"300\" />1)\\n</td>\\n<td>Computers Electronics and Technology &gt; Search Engines\\n</td>\\n<td><span class=\"datasortkey\" data-sort-value=\"Brazil\"><span class=\"flagicon\"><img alt=\"\" src=\"//upload.wikimedia.org/wikipedia/en/thumb/0/05/Flag_of_Brazil.svg/22px-Flag_of_Brazil.svg.png\" decoding=\"async\" width=\"22\" height=\"15\" class=\"thumbborder\" srcset=\"//upload.wikimedia.org/wikipedia/en/thumb/0/05/Flag_of_Brazil.svg/33px-Flag_of_Brazil.svg.png 1.5x, //upload.wikimedia.org/wikipedia/en/thumb/0/05/Flag_of_Brazil.svg/43px-Flag_of_Brazil.svg.png 2x\" data-file-width=\"720\" data-file-height=\"504\" />&#160;</span><a href=\"/wiki/Brazil\" title=\"Brazil\">Brazil</a></span>\\n</td></tr>\\n<tr>\\n<td><a href=\"/wiki/Accuweather\" class=\"mw-redirect\" title=\"Accuweather\">Accuweather</a>\\n</td>\\n<td>accuweather.com\\n</td>\\n<td>42 (<img alt=\"Increase\" src=\"//upload.wikimedia.org/wikipedia/commons/thumb/b/b0/Increase2.svg/11px-Increase2.svg.png\" decoding=\"async\" title=\"Increase\" width=\"11\" height=\"11\" srcset=\"//upload.wikimedia.org/wikipedia/commons/thumb/b/b0/Increase2.svg/17px-Increase2.svg.png 1.5x, //upload.wikimedia.org/wikipedia/commons/thumb/b/b0/Increase2.svg/22px-Increase2.svg.png 2x\" data-file-width=\"300\" data-file-height=\"300\" />4)\\n</td>\\n<td>Science and Education &gt; Weather\\n</td>\\n<td><span class=\"datasortkey\" data-sort-value=\"United States\"><span class=\"flagicon\"><img alt=\"\" src=\"//upload.wikimedia.org/wikipedia/en/thumb/a/a4/Flag_of_the_United_States.svg/23px-Flag_of_the_United_States.svg.png\" decoding=\"async\" width=\"23\" height=\"12\" class=\"thumbborder\" srcset=\"//upload.wikimedia.org/wikipedia/en/thumb/a/a4/Flag_of_the_United_States.svg/35px-Flag_of_the_United_States.svg.png 1.5x, //upload.wikimedia.org/wikipedia/en/thumb/a/a4/Flag_of_the_United_States.svg/46px-Flag_of_the_United_States.svg.png 2x\" data-file-width=\"1235\" data-file-height=\"650\" />&#160;</span><a href=\"/wiki/United_States\" title=\"United States\">United States</a></span>\\n</td></tr>\\n<tr>\\n<td><a href=\"/wiki/Fandom_(website)\" title=\"Fandom (website)\">Fandom</a>\\n</td>\\n<td>fandom.com\\n</td>\\n<td>43 (<img alt=\"Decrease\" src=\"//upload.wikimedia.org/wikipedia/commons/thumb/e/ed/Decrease2.svg/11px-Decrease2.svg.png\" decoding=\"async\" title=\"Decrease\" width=\"11\" height=\"11\" srcset=\"//upload.wikimedia.org/wikipedia/commons/thumb/e/ed/Decrease2.svg/17px-Decrease2.svg.png 1.5x, //upload.wikimedia.org/wikipedia/commons/thumb/e/ed/Decrease2.svg/22px-Decrease2.svg.png 2x\" data-file-width=\"300\" data-file-height=\"300\" />1)\\n</td>\\n<td>Arts &amp; Entertainment &gt; Other Arts and Entertainment\\n</td>\\n<td><span class=\"datasortkey\" data-sort-value=\"United States\"><span class=\"flagicon\"><img alt=\"\" src=\"//upload.wikimedia.org/wikipedia/en/thumb/a/a4/Flag_of_the_United_States.svg/23px-Flag_of_the_United_States.svg.png\" decoding=\"async\" width=\"23\" height=\"12\" class=\"thumbborder\" srcset=\"//upload.wikimedia.org/wikipedia/en/thumb/a/a4/Flag_of_the_United_States.svg/35px-Flag_of_the_United_States.svg.png 1.5x, //upload.wikimedia.org/wikipedia/en/thumb/a/a4/Flag_of_the_United_States.svg/46px-Flag_of_the_United_States.svg.png 2x\" data-file-width=\"1235\" data-file-height=\"650\" />&#160;</span><a href=\"/wiki/United_States\" title=\"United States\">United States</a></span>\\n</td></tr>\\n<tr>\\n<td><a href=\"/wiki/EBay\" title=\"EBay\">eBay</a>\\n</td>\\n<td>ebay.com\\n</td>\\n<td>44 (<img alt=\"Decrease\" src=\"//upload.wikimedia.org/wikipedia/commons/thumb/e/ed/Decrease2.svg/11px-Decrease2.svg.png\" decoding=\"async\" title=\"Decrease\" width=\"11\" height=\"11\" srcset=\"//upload.wikimedia.org/wikipedia/commons/thumb/e/ed/Decrease2.svg/17px-Decrease2.svg.png 1.5x, //upload.wikimedia.org/wikipedia/commons/thumb/e/ed/Decrease2.svg/22px-Decrease2.svg.png 2x\" data-file-width=\"300\" data-file-height=\"300\" />1)\\n</td>\\n<td>eCommerce &amp; Shopping &gt; Marketplace\\n</td>\\n<td><span class=\"datasortkey\" data-sort-value=\"United States\"><span class=\"flagicon\"><img alt=\"\" src=\"//upload.wikimedia.org/wikipedia/en/thumb/a/a4/Flag_of_the_United_States.svg/23px-Flag_of_the_United_States.svg.png\" decoding=\"async\" width=\"23\" height=\"12\" class=\"thumbborder\" srcset=\"//upload.wikimedia.org/wikipedia/en/thumb/a/a4/Flag_of_the_United_States.svg/35px-Flag_of_the_United_States.svg.png 1.5x, //upload.wikimedia.org/wikipedia/en/thumb/a/a4/Flag_of_the_United_States.svg/46px-Flag_of_the_United_States.svg.png 2x\" data-file-width=\"1235\" data-file-height=\"650\" />&#160;</span><a href=\"/wiki/United_States\" title=\"United States\">United States</a></span>\\n</td></tr>\\n<tr>\\n<td><a href=\"/wiki/Grupo_Globo\" title=\"Grupo Globo\">Globo</a>\\n</td>\\n<td>globo.com\\n</td>\\n<td>45 (<img alt=\"Decrease\" src=\"//upload.wikimedia.org/wikipedia/commons/thumb/e/ed/Decrease2.svg/11px-Decrease2.svg.png\" decoding=\"async\" title=\"Decrease\" width=\"11\" height=\"11\" srcset=\"//upload.wikimedia.org/wikipedia/commons/thumb/e/ed/Decrease2.svg/17px-Decrease2.svg.png 1.5x, //upload.wikimedia.org/wikipedia/commons/thumb/e/ed/Decrease2.svg/22px-Decrease2.svg.png 2x\" data-file-width=\"300\" data-file-height=\"300\" />3)\\n</td>\\n<td>News &amp; Media Publishers\\n</td>\\n<td><span class=\"datasortkey\" data-sort-value=\"Brazil\"><span class=\"flagicon\"><img alt=\"\" src=\"//upload.wikimedia.org/wikipedia/en/thumb/0/05/Flag_of_Brazil.svg/22px-Flag_of_Brazil.svg.png\" decoding=\"async\" width=\"22\" height=\"15\" class=\"thumbborder\" srcset=\"//upload.wikimedia.org/wikipedia/en/thumb/0/05/Flag_of_Brazil.svg/33px-Flag_of_Brazil.svg.png 1.5x, //upload.wikimedia.org/wikipedia/en/thumb/0/05/Flag_of_Brazil.svg/43px-Flag_of_Brazil.svg.png 2x\" data-file-width=\"720\" data-file-height=\"504\" />&#160;</span><a href=\"/wiki/Brazil\" title=\"Brazil\">Brazil</a></span>\\n</td></tr>\\n<tr>\\n<td>RealSRV\\n</td>\\n<td>realsrv.com\\n</td>\\n<td>46 (<img alt=\"Increase\" src=\"//upload.wikimedia.org/wikipedia/commons/thumb/b/b0/Increase2.svg/11px-Increase2.svg.png\" decoding=\"async\" title=\"Increase\" width=\"11\" height=\"11\" srcset=\"//upload.wikimedia.org/wikipedia/commons/thumb/b/b0/Increase2.svg/17px-Increase2.svg.png 1.5x, //upload.wikimedia.org/wikipedia/commons/thumb/b/b0/Increase2.svg/22px-Increase2.svg.png 2x\" data-file-width=\"300\" data-file-height=\"300\" />3)\\n</td>\\n<td>Adult\\n</td>\\n<td><span class=\"datasortkey\" data-sort-value=\"United States\"><span class=\"flagicon\"><img alt=\"\" src=\"//upload.wikimedia.org/wikipedia/en/thumb/a/a4/Flag_of_the_United_States.svg/23px-Flag_of_the_United_States.svg.png\" decoding=\"async\" width=\"23\" height=\"12\" class=\"thumbborder\" srcset=\"//upload.wikimedia.org/wikipedia/en/thumb/a/a4/Flag_of_the_United_States.svg/35px-Flag_of_the_United_States.svg.png 1.5x, //upload.wikimedia.org/wikipedia/en/thumb/a/a4/Flag_of_the_United_States.svg/46px-Flag_of_the_United_States.svg.png 2x\" data-file-width=\"1235\" data-file-height=\"650\" />&#160;</span><a href=\"/wiki/United_States\" title=\"United States\">United States</a></span>\\n</td></tr>\\n<tr>\\n<td><a href=\"/wiki/Samsung\" title=\"Samsung\">Samsung</a>\\n</td>\\n<td>samsung.com\\n</td>\\n<td>47 (<img alt=\"Decrease\" src=\"//upload.wikimedia.org/wikipedia/commons/thumb/e/ed/Decrease2.svg/11px-Decrease2.svg.png\" decoding=\"async\" title=\"Decrease\" width=\"11\" height=\"11\" srcset=\"//upload.wikimedia.org/wikipedia/commons/thumb/e/ed/Decrease2.svg/17px-Decrease2.svg.png 1.5x, //upload.wikimedia.org/wikipedia/commons/thumb/e/ed/Decrease2.svg/22px-Decrease2.svg.png 2x\" data-file-width=\"300\" data-file-height=\"300\" />4)\\n</td>\\n<td>Computers Electronics and Technology &gt; Consumer Electronics\\n</td>\\n<td><span class=\"datasortkey\" data-sort-value=\"South Korea\"><span class=\"flagicon\"><img alt=\"\" src=\"//upload.wikimedia.org/wikipedia/commons/thumb/0/09/Flag_of_South_Korea.svg/23px-Flag_of_South_Korea.svg.png\" decoding=\"async\" width=\"23\" height=\"15\" class=\"thumbborder\" srcset=\"//upload.wikimedia.org/wikipedia/commons/thumb/0/09/Flag_of_South_Korea.svg/35px-Flag_of_South_Korea.svg.png 1.5x, //upload.wikimedia.org/wikipedia/commons/thumb/0/09/Flag_of_South_Korea.svg/45px-Flag_of_South_Korea.svg.png 2x\" data-file-width=\"900\" data-file-height=\"600\" />&#160;</span><a href=\"/wiki/South_Korea\" title=\"South Korea\">South Korea</a></span>\\n</td></tr>\\n<tr>\\n<td><a href=\"/wiki/Weather.com\" class=\"mw-redirect\" title=\"Weather.com\">Weather</a>\\n</td>\\n<td>weather.com\\n</td>\\n<td>48 (<img alt=\"Increase\" src=\"//upload.wikimedia.org/wikipedia/commons/thumb/b/b0/Increase2.svg/11px-Increase2.svg.png\" decoding=\"async\" title=\"Increase\" width=\"11\" height=\"11\" srcset=\"//upload.wikimedia.org/wikipedia/commons/thumb/b/b0/Increase2.svg/17px-Increase2.svg.png 1.5x, //upload.wikimedia.org/wikipedia/commons/thumb/b/b0/Increase2.svg/22px-Increase2.svg.png 2x\" data-file-width=\"300\" data-file-height=\"300\" />7)\\n</td>\\n<td>Science and Education &gt; Weather\\n</td>\\n<td><span class=\"datasortkey\" data-sort-value=\"United States\"><span class=\"flagicon\"><img alt=\"\" src=\"//upload.wikimedia.org/wikipedia/en/thumb/a/a4/Flag_of_the_United_States.svg/23px-Flag_of_the_United_States.svg.png\" decoding=\"async\" width=\"23\" height=\"12\" class=\"thumbborder\" srcset=\"//upload.wikimedia.org/wikipedia/en/thumb/a/a4/Flag_of_the_United_States.svg/35px-Flag_of_the_United_States.svg.png 1.5x, //upload.wikimedia.org/wikipedia/en/thumb/a/a4/Flag_of_the_United_States.svg/46px-Flag_of_the_United_States.svg.png 2x\" data-file-width=\"1235\" data-file-height=\"650\" />&#160;</span><a href=\"/wiki/United_States\" title=\"United States\">United States</a></span>\\n</td></tr>\\n<tr>\\n<td><a href=\"/wiki/Stripchat\" title=\"Stripchat\">Stripchat</a>\\n</td>\\n<td>stripchat.com\\n</td>\\n<td>49 (<img alt=\"Increase\" src=\"//upload.wikimedia.org/wikipedia/commons/thumb/b/b0/Increase2.svg/11px-Increase2.svg.png\" decoding=\"async\" title=\"Increase\" width=\"11\" height=\"11\" srcset=\"//upload.wikimedia.org/wikipedia/commons/thumb/b/b0/Increase2.svg/17px-Increase2.svg.png 1.5x, //upload.wikimedia.org/wikipedia/commons/thumb/b/b0/Increase2.svg/22px-Increase2.svg.png 2x\" data-file-width=\"300\" data-file-height=\"300\" />3)\\n</td>\\n<td>Adult\\n</td>\\n<td><span class=\"datasortkey\" data-sort-value=\"Cyprus\"><span class=\"flagicon\"><img alt=\"\" src=\"//upload.wikimedia.org/wikipedia/commons/thumb/d/d4/Flag_of_Cyprus.svg/23px-Flag_of_Cyprus.svg.png\" decoding=\"async\" width=\"23\" height=\"15\" class=\"thumbborder\" srcset=\"//upload.wikimedia.org/wikipedia/commons/thumb/d/d4/Flag_of_Cyprus.svg/35px-Flag_of_Cyprus.svg.png 1.5x, //upload.wikimedia.org/wikipedia/commons/thumb/d/d4/Flag_of_Cyprus.svg/45px-Flag_of_Cyprus.svg.png 2x\" data-file-width=\"900\" data-file-height=\"600\" />&#160;</span><a href=\"/wiki/Cyprus\" title=\"Cyprus\">Cyprus</a></span>\\n</td></tr>\\n<tr>\\n<td><a href=\"/wiki/OK.ru\" class=\"mw-redirect\" title=\"OK.ru\">OK.ru</a>\\n</td>\\n<td>ok.ru\\n</td>\\n<td>50 (<img alt=\"Decrease\" src=\"//upload.wikimedia.org/wikipedia/commons/thumb/e/ed/Decrease2.svg/11px-Decrease2.svg.png\" decoding=\"async\" title=\"Decrease\" width=\"11\" height=\"11\" srcset=\"//upload.wikimedia.org/wikipedia/commons/thumb/e/ed/Decrease2.svg/17px-Decrease2.svg.png 1.5x, //upload.wikimedia.org/wikipedia/commons/thumb/e/ed/Decrease2.svg/22px-Decrease2.svg.png 2x\" data-file-width=\"300\" data-file-height=\"300\" />1)\\n</td>\\n<td>Computers Electronics and Technology &gt; Social Media Networks\\n</td>\\n<td><span class=\"datasortkey\" data-sort-value=\"Russia\"><span class=\"flagicon\"><img alt=\"\" src=\"//upload.wikimedia.org/wikipedia/en/thumb/f/f3/Flag_of_Russia.svg/23px-Flag_of_Russia.svg.png\" decoding=\"async\" width=\"23\" height=\"15\" class=\"thumbborder\" srcset=\"//upload.wikimedia.org/wikipedia/en/thumb/f/f3/Flag_of_Russia.svg/35px-Flag_of_Russia.svg.png 1.5x, //upload.wikimedia.org/wikipedia/en/thumb/f/f3/Flag_of_Russia.svg/45px-Flag_of_Russia.svg.png 2x\" data-file-width=\"900\" data-file-height=\"600\" />&#160;</span><a href=\"/wiki/Russia\" title=\"Russia\">Russia</a></span>\\n</td></tr></tbody></table>\\n<h2><span class=\"mw-headline\" id=\"References\">References</span></h2>\\n<style data-mw-deduplicate=\"TemplateStyles:r1011085734\">.mw-parser-output .reflist{font-size:90%;margin-bottom:0.5em;list-style-type:decimal}.mw-parser-output .reflist .references{font-size:100%;margin-bottom:0;list-style-type:inherit}.mw-parser-output .reflist-columns-2{column-width:30em}.mw-parser-output .reflist-columns-3{column-width:25em}.mw-parser-output .reflist-columns{margin-top:0.3em}.mw-parser-output .reflist-columns ol{margin-top:0}.mw-parser-output .reflist-columns li{page-break-inside:avoid;break-inside:avoid-column}.mw-parser-output .reflist-upper-alpha{list-style-type:upper-alpha}.mw-parser-output .reflist-upper-roman{list-style-type:upper-roman}.mw-parser-output .reflist-lower-alpha{list-style-type:lower-alpha}.mw-parser-output .reflist-lower-greek{list-style-type:lower-greek}.mw-parser-output .reflist-lower-roman{list-style-type:lower-roman}</style><div class=\"reflist\">\\n<div class=\"mw-references-wrap\"><ol class=\"references\">\\n<li id=\"cite_note-Similarweb-1\"><span class=\"mw-cite-backlink\"><b><a href=\"#cite_ref-Similarweb_1-0\">^</a></b></span> <span class=\"reference-text\"><style data-mw-deduplicate=\"TemplateStyles:r1067248974\">.mw-parser-output cite.citation{font-style:inherit;word-wrap:break-word}.mw-parser-output .citation q{quotes:\"\\\\\"\"\"\\\\\"\"\"\\'\"\"\\'\"}.mw-parser-output .citation:target{background-color:rgba(0,127,255,0.133)}.mw-parser-output .id-lock-free a,.mw-parser-output .citation .cs1-lock-free a{background:linear-gradient(transparent,transparent),url(\"//upload.wikimedia.org/wikipedia/commons/6/65/Lock-green.svg\")right 0.1em center/9px no-repeat}.mw-parser-output .id-lock-limited a,.mw-parser-output .id-lock-registration a,.mw-parser-output .citation .cs1-lock-limited a,.mw-parser-output .citation .cs1-lock-registration a{background:linear-gradient(transparent,transparent),url(\"//upload.wikimedia.org/wikipedia/commons/d/d6/Lock-gray-alt-2.svg\")right 0.1em center/9px no-repeat}.mw-parser-output .id-lock-subscription a,.mw-parser-output .citation .cs1-lock-subscription a{background:linear-gradient(transparent,transparent),url(\"//upload.wikimedia.org/wikipedia/commons/a/aa/Lock-red-alt-2.svg\")right 0.1em center/9px no-repeat}.mw-parser-output .cs1-ws-icon a{background:linear-gradient(transparent,transparent),url(\"//upload.wikimedia.org/wikipedia/commons/4/4c/Wikisource-logo.svg\")right 0.1em center/12px no-repeat}.mw-parser-output .cs1-code{color:inherit;background:inherit;border:none;padding:inherit}.mw-parser-output .cs1-hidden-error{display:none;color:#d33}.mw-parser-output .cs1-visible-error{color:#d33}.mw-parser-output .cs1-maint{display:none;color:#3a3;margin-left:0.3em}.mw-parser-output .cs1-format{font-size:95%}.mw-parser-output .cs1-kern-left{padding-left:0.2em}.mw-parser-output .cs1-kern-right{padding-right:0.2em}.mw-parser-output .citation .mw-selflink{font-weight:inherit}</style><cite class=\"citation web cs1\"><a rel=\"nofollow\" class=\"external text\" href=\"https://www.similarweb.com/top-websites/\">\"Similarweb Top Websites Ranking\"</a>. <i><a href=\"/wiki/Similarweb\" title=\"Similarweb\">Similarweb</a></i><span class=\"reference-accessdate\">. Retrieved <span class=\"nowrap\">June 20,</span> 2022</span>.</cite><span title=\"ctx_ver=Z39.88-2004&amp;rft_val_fmt=info%3Aofi%2Ffmt%3Akev%3Amtx%3Ajournal&amp;rft.genre=unknown&amp;rft.jtitle=Similarweb&amp;rft.atitle=Similarweb+Top+Websites+Ranking&amp;rft_id=https%3A%2F%2Fwww.similarweb.com%2Ftop-websites%2F&amp;rfr_id=info%3Asid%2Fen.wikipedia.org%3AList+of+most+visited+websites\" class=\"Z3988\"></span></span>\\n</li>\\n</ol></div></div>\\n<style data-mw-deduplicate=\"TemplateStyles:r1093522707\">.mw-parser-output .portal-bar{font-size:88%;font-weight:bold;display:flex;justify-content:center;align-items:baseline}.mw-parser-output .portal-bar-bordered{padding:0 2em;background-color:#fdfdfd;border:1px solid #a2a9b1;clear:both;margin:1em auto 0}.mw-parser-output .portal-bar-related{font-size:100%;justify-content:flex-start}.mw-parser-output .portal-bar-unbordered{padding:0 1.7em;margin-left:0}.mw-parser-output .portal-bar-header{margin:0 1em 0 0.5em;flex:0 0 auto;min-height:24px}.mw-parser-output .portal-bar-content{display:flex;flex-flow:row wrap;flex:0 1 auto;padding:0.15em 0;column-gap:1em;align-items:baseline}.mw-parser-output .portal-bar-content-related{}.mw-parser-output .portal-bar-item{display:inline-block;margin:0.15em 0.2em;min-height:24px;line-height:24px}@media screen and (max-width:768px){.mw-parser-output .portal-bar{font-size:88%;font-weight:bold;display:flex;flex-flow:column wrap;align-items:baseline}.mw-parser-output .portal-bar-header{text-align:center;flex:0;padding-left:0.5em;margin:0 auto}.mw-parser-output .portal-bar-related{font-size:100%;align-items:flex-start}.mw-parser-output .portal-bar-content{display:flex;flex-flow:row wrap;align-items:center;flex:0;column-gap:1em;border-top:1px solid #a2a9b1;margin:0 auto}.mw-parser-output .portal-bar-content-related{border-top:none;margin:0}}.mw-parser-output .navbox+link+.portal-bar-bordered{margin-top:-1px}.mw-parser-output .navbox+style+.portal-bar-bordered{margin-top:-1px}.mw-parser-output .portal-bar+.navbox-styles+.navbox{margin-top:-1px}</style><div class=\"portal-bar noprint metadata noviewer portal-bar-bordered\" role=\"navigation\" aria-label=\"Portals\"><span class=\"portal-bar-header\"><a href=\"/wiki/Wikipedia:Contents/Portals\" title=\"Wikipedia:Contents/Portals\">Portals</a>:</span><div class=\"portal-bar-content\"><span class=\"portal-bar-item\"><a href=\"/wiki/File:Crystal_Clear_app_linneighborhood.svg\" class=\"image\"><img alt=\"icon\" src=\"//upload.wikimedia.org/wikipedia/commons/thumb/f/f9/Crystal_Clear_app_linneighborhood.svg/19px-Crystal_Clear_app_linneighborhood.svg.png\" decoding=\"async\" width=\"19\" height=\"19\" srcset=\"//upload.wikimedia.org/wikipedia/commons/thumb/f/f9/Crystal_Clear_app_linneighborhood.svg/29px-Crystal_Clear_app_linneighborhood.svg.png 1.5x, //upload.wikimedia.org/wikipedia/commons/thumb/f/f9/Crystal_Clear_app_linneighborhood.svg/38px-Crystal_Clear_app_linneighborhood.svg.png 2x\" data-file-width=\"407\" data-file-height=\"407\" /></a>&#160;<a href=\"/wiki/Portal:Internet\" title=\"Portal:Internet\">Internet</a></span><span class=\"portal-bar-item\"><img alt=\"\" src=\"//upload.wikimedia.org/wikipedia/commons/thumb/2/20/Text-x-generic.svg/19px-Text-x-generic.svg.png\" decoding=\"async\" width=\"19\" height=\"19\" srcset=\"//upload.wikimedia.org/wikipedia/commons/thumb/2/20/Text-x-generic.svg/29px-Text-x-generic.svg.png 1.5x, //upload.wikimedia.org/wikipedia/commons/thumb/2/20/Text-x-generic.svg/38px-Text-x-generic.svg.png 2x\" data-file-width=\"48\" data-file-height=\"48\" />&#160;<a href=\"/wiki/Portal:Lists\" class=\"mw-redirect\" title=\"Portal:Lists\">Lists</a></span></div></div>\\n<!-- \\nNewPP limit report\\nParsed by mw1407\\nCached time: 20220818195906\\nCache expiry: 1814400\\nReduced expiry: false\\nComplications: [vary\\xe2\\x80\\x90revision\\xe2\\x80\\x90sha1]\\nCPU time usage: 0.487 seconds\\nReal time usage: 0.596 seconds\\nPreprocessor visited node count: 8158/1000000\\nPost\\xe2\\x80\\x90expand include size: 53561/2097152 bytes\\nTemplate argument size: 12744/2097152 bytes\\nHighest expansion depth: 21/100\\nExpensive parser function count: 5/500\\nUnstrip recursion depth: 1/20\\nUnstrip post\\xe2\\x80\\x90expand size: 5908/5000000 bytes\\nLua time usage: 0.183/10.000 seconds\\nLua memory usage: 3216408/52428800 bytes\\nNumber of Wikibase entities loaded: 0/400\\n-->\\n<!--\\nTransclusion expansion time report (%,ms,calls,template)\\n100.00%  460.931      1 -total\\n 29.40%  135.514     50 Template:Flagcountry\\n 22.31%  102.845      1 Template:Reflist\\n 19.16%   88.327      1 Template:Cite_web\\n 14.37%   66.231      1 Template:Short_description\\n  9.69%   44.667      1 Template:Pp-semi-indef\\n  8.66%   39.939     50 Template:Flagcountry/core\\n  7.78%   35.867      2 Template:As_of\\n  7.56%   34.840     30 Template:Country_data_United_States\\n  7.24%   33.363      1 Template:Portalbar\\n-->\\n\\n<!-- Saved in parser cache with key enwiki:pcache:idhash:37716939-0!canonical and timestamp 20220818195905 and revision id 1104044269.\\n -->\\n</div><noscript><img src=\"//en.wikipedia.org/wiki/Special:CentralAutoLogin/start?type=1x1\" alt=\"\" title=\"\" width=\"1\" height=\"1\" style=\"border: none; position: absolute;\" /></noscript>\\n<div class=\"printfooter\">Retrieved from \"<a dir=\"ltr\" href=\"https://en.wikipedia.org/w/index.php?title=List_of_most_visited_websites&amp;oldid=1104044269\">https://en.wikipedia.org/w/index.php?title=List_of_most_visited_websites&amp;oldid=1104044269</a>\"</div></div>\\n\\t\\t<div id=\"catlinks\" class=\"catlinks\" data-mw=\"interface\"><div id=\"mw-normal-catlinks\" class=\"mw-normal-catlinks\"><a href=\"/wiki/Help:Category\" title=\"Help:Category\">Categories</a>: <ul><li><a href=\"/wiki/Category:Lists_of_Internet-related_superlatives\" title=\"Category:Lists of Internet-related superlatives\">Lists of Internet-related superlatives</a></li><li><a href=\"/wiki/Category:Lists_of_most_popular_media\" title=\"Category:Lists of most popular media\">Lists of most popular media</a></li><li><a href=\"/wiki/Category:Lists_of_websites\" title=\"Category:Lists of websites\">Lists of websites</a></li></ul></div><div id=\"mw-hidden-catlinks\" class=\"mw-hidden-catlinks mw-hidden-cats-hidden\">Hidden categories: <ul><li><a href=\"/wiki/Category:Articles_with_short_description\" title=\"Category:Articles with short description\">Articles with short description</a></li><li><a href=\"/wiki/Category:Short_description_is_different_from_Wikidata\" title=\"Category:Short description is different from Wikidata\">Short description is different from Wikidata</a></li><li><a href=\"/wiki/Category:Wikipedia_indefinitely_semi-protected_pages\" title=\"Category:Wikipedia indefinitely semi-protected pages\">Wikipedia indefinitely semi-protected pages</a></li><li><a href=\"/wiki/Category:Dynamic_lists\" title=\"Category:Dynamic lists\">Dynamic lists</a></li><li><a href=\"/wiki/Category:Articles_containing_potentially_dated_statements_from_May_2022\" title=\"Category:Articles containing potentially dated statements from May 2022\">Articles containing potentially dated statements from May 2022</a></li><li><a href=\"/wiki/Category:All_articles_containing_potentially_dated_statements\" title=\"Category:All articles containing potentially dated statements\">All articles containing potentially dated statements</a></li></ul></div></div>\\n\\t</div>\\n</div>\\n\\n<div id=\"mw-navigation\">\\n\\t<h2>Navigation menu</h2>\\n\\t<div id=\"mw-head\">\\n\\t\\t\\n\\n<nav id=\"p-personal\" class=\"vector-menu mw-portlet mw-portlet-personal vector-user-menu-legacy\" aria-labelledby=\"p-personal-label\" role=\"navigation\"  >\\n\\t<h3\\n\\t\\tid=\"p-personal-label\"\\n\\t\\t\\n\\t\\tclass=\"vector-menu-heading \"\\n\\t>\\n\\t\\t<span class=\"vector-menu-heading-label\">Personal tools</span>\\n\\t</h3>\\n\\t<div class=\"vector-menu-content\">\\n\\t\\t\\n\\t\\t<ul class=\"vector-menu-content-list\"><li id=\"pt-anonuserpage\" class=\"mw-list-item\"><span title=\"The user page for the IP address you are editing as\">Not logged in</span></li><li id=\"pt-anontalk\" class=\"mw-list-item\"><a href=\"/wiki/Special:MyTalk\" title=\"Discussion about edits from this IP address [n]\" accesskey=\"n\"><span>Talk</span></a></li><li id=\"pt-anoncontribs\" class=\"mw-list-item\"><a href=\"/wiki/Special:MyContributions\" title=\"A list of edits made from this IP address [y]\" accesskey=\"y\"><span>Contributions</span></a></li><li id=\"pt-createaccount\" class=\"mw-list-item\"><a href=\"/w/index.php?title=Special:CreateAccount&amp;returnto=List+of+most+visited+websites\" title=\"You are encouraged to create an account and log in; however, it is not mandatory\"><span>Create account</span></a></li><li id=\"pt-login\" class=\"mw-list-item\"><a href=\"/w/index.php?title=Special:UserLogin&amp;returnto=List+of+most+visited+websites\" title=\"You&#039;re encouraged to log in; however, it&#039;s not mandatory. [o]\" accesskey=\"o\"><span>Log in</span></a></li></ul>\\n\\t\\t\\n\\t</div>\\n</nav>\\n\\n\\t\\t<div id=\"left-navigation\">\\n\\t\\t\\t\\n\\n<nav id=\"p-namespaces\" class=\"vector-menu mw-portlet mw-portlet-namespaces vector-menu-tabs vector-menu-tabs-legacy\" aria-labelledby=\"p-namespaces-label\" role=\"navigation\"  >\\n\\t<h3\\n\\t\\tid=\"p-namespaces-label\"\\n\\t\\t\\n\\t\\tclass=\"vector-menu-heading \"\\n\\t>\\n\\t\\t<span class=\"vector-menu-heading-label\">Namespaces</span>\\n\\t</h3>\\n\\t<div class=\"vector-menu-content\">\\n\\t\\t\\n\\t\\t<ul class=\"vector-menu-content-list\"><li id=\"ca-nstab-main\" class=\"selected mw-list-item\"><a href=\"/wiki/List_of_most_visited_websites\" title=\"View the content page [c]\" accesskey=\"c\"><span>Article</span></a></li><li id=\"ca-talk\" class=\"mw-list-item\"><a href=\"/wiki/Talk:List_of_most_visited_websites\" rel=\"discussion\" title=\"Discuss improvements to the content page [t]\" accesskey=\"t\"><span>Talk</span></a></li></ul>\\n\\t\\t\\n\\t</div>\\n</nav>\\n\\n\\t\\t\\t\\n\\n<nav id=\"p-variants\" class=\"vector-menu mw-portlet mw-portlet-variants emptyPortlet vector-menu-dropdown-noicon vector-menu-dropdown\" aria-labelledby=\"p-variants-label\" role=\"navigation\"  >\\n\\t<input type=\"checkbox\"\\n\\t\\tid=\"p-variants-checkbox\"\\n\\t\\trole=\"button\"\\n\\t\\taria-haspopup=\"true\"\\n\\t\\tdata-event-name=\"ui.dropdown-p-variants\"\\n\\t\\tclass=\"vector-menu-checkbox\"\\n\\t\\taria-labelledby=\"p-variants-label\"\\n\\t/>\\n\\t<label\\n\\t\\tid=\"p-variants-label\"\\n\\t\\t aria-label=\"Change language variant\"\\n\\t\\tclass=\"vector-menu-heading \"\\n\\t>\\n\\t\\t<span class=\"vector-menu-heading-label\">English</span>\\n\\t</label>\\n\\t<div class=\"vector-menu-content\">\\n\\t\\t\\n\\t\\t<ul class=\"vector-menu-content-list\"></ul>\\n\\t\\t\\n\\t</div>\\n</nav>\\n\\n\\t\\t</div>\\n\\t\\t<div id=\"right-navigation\">\\n\\t\\t\\t\\n\\n<nav id=\"p-views\" class=\"vector-menu mw-portlet mw-portlet-views vector-menu-tabs vector-menu-tabs-legacy\" aria-labelledby=\"p-views-label\" role=\"navigation\"  >\\n\\t<h3\\n\\t\\tid=\"p-views-label\"\\n\\t\\t\\n\\t\\tclass=\"vector-menu-heading \"\\n\\t>\\n\\t\\t<span class=\"vector-menu-heading-label\">Views</span>\\n\\t</h3>\\n\\t<div class=\"vector-menu-content\">\\n\\t\\t\\n\\t\\t<ul class=\"vector-menu-content-list\"><li id=\"ca-view\" class=\"selected mw-list-item\"><a href=\"/wiki/List_of_most_visited_websites\"><span>Read</span></a></li><li id=\"ca-viewsource\" class=\"mw-list-item\"><a href=\"/w/index.php?title=List_of_most_visited_websites&amp;action=edit\" title=\"This page is protected.&#10;You can view its source [e]\" accesskey=\"e\"><span>View source</span></a></li><li id=\"ca-history\" class=\"mw-list-item\"><a href=\"/w/index.php?title=List_of_most_visited_websites&amp;action=history\" title=\"Past revisions of this page [h]\" accesskey=\"h\"><span>View history</span></a></li></ul>\\n\\t\\t\\n\\t</div>\\n</nav>\\n\\n\\t\\t\\t\\n\\n<nav id=\"p-cactions\" class=\"vector-menu mw-portlet mw-portlet-cactions emptyPortlet vector-menu-dropdown-noicon vector-menu-dropdown\" aria-labelledby=\"p-cactions-label\" role=\"navigation\"  title=\"More options\" >\\n\\t<input type=\"checkbox\"\\n\\t\\tid=\"p-cactions-checkbox\"\\n\\t\\trole=\"button\"\\n\\t\\taria-haspopup=\"true\"\\n\\t\\tdata-event-name=\"ui.dropdown-p-cactions\"\\n\\t\\tclass=\"vector-menu-checkbox\"\\n\\t\\taria-labelledby=\"p-cactions-label\"\\n\\t/>\\n\\t<label\\n\\t\\tid=\"p-cactions-label\"\\n\\t\\t\\n\\t\\tclass=\"vector-menu-heading \"\\n\\t>\\n\\t\\t<span class=\"vector-menu-heading-label\">More</span>\\n\\t</label>\\n\\t<div class=\"vector-menu-content\">\\n\\t\\t\\n\\t\\t<ul class=\"vector-menu-content-list\"></ul>\\n\\t\\t\\n\\t</div>\\n</nav>\\n\\n\\t\\t\\t\\n<div id=\"p-search\" role=\"search\" class=\"vector-search-box-vue  vector-search-box-show-thumbnail vector-search-box-auto-expand-width vector-search-box\">\\n\\t<div>\\n\\t\\t\\t<h3 >\\n\\t\\t\\t\\t<label for=\"searchInput\">Search</label>\\n\\t\\t\\t</h3>\\n\\t\\t<form action=\"/w/index.php\" id=\"searchform\"\\n\\t\\t\\tclass=\"vector-search-box-form\">\\n\\t\\t\\t<div id=\"simpleSearch\"\\n\\t\\t\\t\\tclass=\"vector-search-box-inner\"\\n\\t\\t\\t\\t data-search-loc=\"header-navigation\">\\n\\t\\t\\t\\t<input class=\"vector-search-box-input\"\\n\\t\\t\\t\\t\\t type=\"search\" name=\"search\" placeholder=\"Search Wikipedia\" aria-label=\"Search Wikipedia\" autocapitalize=\"sentences\" title=\"Search Wikipedia [f]\" accesskey=\"f\" id=\"searchInput\"\\n\\t\\t\\t\\t>\\n\\t\\t\\t\\t<input type=\"hidden\" name=\"title\" value=\"Special:Search\">\\n\\t\\t\\t\\t<input id=\"mw-searchButton\"\\n\\t\\t\\t\\t\\t class=\"searchButton mw-fallbackSearchButton\" type=\"submit\" name=\"fulltext\" title=\"Search Wikipedia for this text\" value=\"Search\">\\n\\t\\t\\t\\t<input id=\"searchButton\"\\n\\t\\t\\t\\t\\t class=\"searchButton\" type=\"submit\" name=\"go\" title=\"Go to a page with this exact name if it exists\" value=\"Go\">\\n\\t\\t\\t</div>\\n\\t\\t</form>\\n\\t</div>\\n</div>\\n\\n\\t\\t</div>\\n\\t</div>\\n\\t\\n\\n<div id=\"mw-panel\">\\n\\t<div id=\"p-logo\" role=\"banner\">\\n\\t\\t<a class=\"mw-wiki-logo\" href=\"/wiki/Main_Page\"\\n\\t\\t\\ttitle=\"Visit the main page\"></a>\\n\\t</div>\\n\\t\\n\\n<nav id=\"p-navigation\" class=\"vector-menu mw-portlet mw-portlet-navigation vector-menu-portal portal\" aria-labelledby=\"p-navigation-label\" role=\"navigation\"  >\\n\\t<h3\\n\\t\\tid=\"p-navigation-label\"\\n\\t\\t\\n\\t\\tclass=\"vector-menu-heading \"\\n\\t>\\n\\t\\t<span class=\"vector-menu-heading-label\">Navigation</span>\\n\\t</h3>\\n\\t<div class=\"vector-menu-content\">\\n\\t\\t\\n\\t\\t<ul class=\"vector-menu-content-list\"><li id=\"n-mainpage-description\" class=\"mw-list-item\"><a href=\"/wiki/Main_Page\" title=\"Visit the main page [z]\" accesskey=\"z\"><span>Main page</span></a></li><li id=\"n-contents\" class=\"mw-list-item\"><a href=\"/wiki/Wikipedia:Contents\" title=\"Guides to browsing Wikipedia\"><span>Contents</span></a></li><li id=\"n-currentevents\" class=\"mw-list-item\"><a href=\"/wiki/Portal:Current_events\" title=\"Articles related to current events\"><span>Current events</span></a></li><li id=\"n-randompage\" class=\"mw-list-item\"><a href=\"/wiki/Special:Random\" title=\"Visit a randomly selected article [x]\" accesskey=\"x\"><span>Random article</span></a></li><li id=\"n-aboutsite\" class=\"mw-list-item\"><a href=\"/wiki/Wikipedia:About\" title=\"Learn about Wikipedia and how it works\"><span>About Wikipedia</span></a></li><li id=\"n-contactpage\" class=\"mw-list-item\"><a href=\"//en.wikipedia.org/wiki/Wikipedia:Contact_us\" title=\"How to contact Wikipedia\"><span>Contact us</span></a></li><li id=\"n-sitesupport\" class=\"mw-list-item\"><a href=\"https://donate.wikimedia.org/wiki/Special:FundraiserRedirector?utm_source=donate&amp;utm_medium=sidebar&amp;utm_campaign=C13_en.wikipedia.org&amp;uselang=en\" title=\"Support us by donating to the Wikimedia Foundation\"><span>Donate</span></a></li></ul>\\n\\t\\t\\n\\t</div>\\n</nav>\\n\\n\\t\\n\\n<nav id=\"p-interaction\" class=\"vector-menu mw-portlet mw-portlet-interaction vector-menu-portal portal\" aria-labelledby=\"p-interaction-label\" role=\"navigation\"  >\\n\\t<h3\\n\\t\\tid=\"p-interaction-label\"\\n\\t\\t\\n\\t\\tclass=\"vector-menu-heading \"\\n\\t>\\n\\t\\t<span class=\"vector-menu-heading-label\">Contribute</span>\\n\\t</h3>\\n\\t<div class=\"vector-menu-content\">\\n\\t\\t\\n\\t\\t<ul class=\"vector-menu-content-list\"><li id=\"n-help\" class=\"mw-list-item\"><a href=\"/wiki/Help:Contents\" title=\"Guidance on how to use and edit Wikipedia\"><span>Help</span></a></li><li id=\"n-introduction\" class=\"mw-list-item\"><a href=\"/wiki/Help:Introduction\" title=\"Learn how to edit Wikipedia\"><span>Learn to edit</span></a></li><li id=\"n-portal\" class=\"mw-list-item\"><a href=\"/wiki/Wikipedia:Community_portal\" title=\"The hub for editors\"><span>Community portal</span></a></li><li id=\"n-recentchanges\" class=\"mw-list-item\"><a href=\"/wiki/Special:RecentChanges\" title=\"A list of recent changes to Wikipedia [r]\" accesskey=\"r\"><span>Recent changes</span></a></li><li id=\"n-upload\" class=\"mw-list-item\"><a href=\"/wiki/Wikipedia:File_Upload_Wizard\" title=\"Add images or other media for use on Wikipedia\"><span>Upload file</span></a></li></ul>\\n\\t\\t\\n\\t</div>\\n</nav>\\n\\n\\n<nav id=\"p-tb\" class=\"vector-menu mw-portlet mw-portlet-tb vector-menu-portal portal\" aria-labelledby=\"p-tb-label\" role=\"navigation\"  >\\n\\t<h3\\n\\t\\tid=\"p-tb-label\"\\n\\t\\t\\n\\t\\tclass=\"vector-menu-heading \"\\n\\t>\\n\\t\\t<span class=\"vector-menu-heading-label\">Tools</span>\\n\\t</h3>\\n\\t<div class=\"vector-menu-content\">\\n\\t\\t\\n\\t\\t<ul class=\"vector-menu-content-list\"><li id=\"t-whatlinkshere\" class=\"mw-list-item\"><a href=\"/wiki/Special:WhatLinksHere/List_of_most_visited_websites\" title=\"List of all English Wikipedia pages containing links to this page [j]\" accesskey=\"j\"><span>What links here</span></a></li><li id=\"t-recentchangeslinked\" class=\"mw-list-item\"><a href=\"/wiki/Special:RecentChangesLinked/List_of_most_visited_websites\" rel=\"nofollow\" title=\"Recent changes in pages linked from this page [k]\" accesskey=\"k\"><span>Related changes</span></a></li><li id=\"t-upload\" class=\"mw-list-item\"><a href=\"/wiki/Wikipedia:File_Upload_Wizard\" title=\"Upload files [u]\" accesskey=\"u\"><span>Upload file</span></a></li><li id=\"t-specialpages\" class=\"mw-list-item\"><a href=\"/wiki/Special:SpecialPages\" title=\"A list of all special pages [q]\" accesskey=\"q\"><span>Special pages</span></a></li><li id=\"t-permalink\" class=\"mw-list-item\"><a href=\"/w/index.php?title=List_of_most_visited_websites&amp;oldid=1104044269\" title=\"Permanent link to this revision of this page\"><span>Permanent link</span></a></li><li id=\"t-info\" class=\"mw-list-item\"><a href=\"/w/index.php?title=List_of_most_visited_websites&amp;action=info\" title=\"More information about this page\"><span>Page information</span></a></li><li id=\"t-cite\" class=\"mw-list-item\"><a href=\"/w/index.php?title=Special:CiteThisPage&amp;page=List_of_most_visited_websites&amp;id=1104044269&amp;wpFormIdentifier=titleform\" title=\"Information on how to cite this page\"><span>Cite this page</span></a></li><li id=\"t-wikibase\" class=\"mw-list-item\"><a href=\"https://www.wikidata.org/wiki/Special:EntityPage/Q6629082\" title=\"Structured data on this page hosted by Wikidata [g]\" accesskey=\"g\"><span>Wikidata item</span></a></li></ul>\\n\\t\\t\\n\\t</div>\\n</nav>\\n\\n\\n<nav id=\"p-coll-print_export\" class=\"vector-menu mw-portlet mw-portlet-coll-print_export vector-menu-portal portal\" aria-labelledby=\"p-coll-print_export-label\" role=\"navigation\"  >\\n\\t<h3\\n\\t\\tid=\"p-coll-print_export-label\"\\n\\t\\t\\n\\t\\tclass=\"vector-menu-heading \"\\n\\t>\\n\\t\\t<span class=\"vector-menu-heading-label\">Print/export</span>\\n\\t</h3>\\n\\t<div class=\"vector-menu-content\">\\n\\t\\t\\n\\t\\t<ul class=\"vector-menu-content-list\"><li id=\"coll-download-as-rl\" class=\"mw-list-item\"><a href=\"/w/index.php?title=Special:DownloadAsPdf&amp;page=List_of_most_visited_websites&amp;action=show-download-screen\" title=\"Download this page as a PDF file\"><span>Download as PDF</span></a></li><li id=\"t-print\" class=\"mw-list-item\"><a href=\"/w/index.php?title=List_of_most_visited_websites&amp;printable=yes\" title=\"Printable version of this page [p]\" accesskey=\"p\"><span>Printable version</span></a></li></ul>\\n\\t\\t\\n\\t</div>\\n</nav>\\n\\n\\t\\n\\n<nav id=\"p-lang\" class=\"vector-menu mw-portlet mw-portlet-lang vector-menu-portal portal\" aria-labelledby=\"p-lang-label\" role=\"navigation\"  >\\n\\t<h3\\n\\t\\tid=\"p-lang-label\"\\n\\t\\t\\n\\t\\tclass=\"vector-menu-heading \"\\n\\t>\\n\\t\\t<span class=\"vector-menu-heading-label\">Languages</span>\\n\\t</h3>\\n\\t<div class=\"vector-menu-content\">\\n\\t\\t\\n\\t\\t<ul class=\"vector-menu-content-list\"><li class=\"interlanguage-link interwiki-ar mw-list-item\"><a href=\"https://ar.wikipedia.org/wiki/%D9%82%D8%A7%D8%A6%D9%85%D8%A9_%D9%85%D9%88%D8%A7%D9%82%D8%B9_%D8%A7%D9%84%D8%A5%D9%86%D8%AA%D8%B1%D9%86%D8%AA_%D8%A7%D9%84%D8%A3%D9%83%D8%AB%D8%B1_%D8%B2%D9%8A%D8%A7%D8%B1%D8%A9\" title=\"\\xd9\\x82\\xd8\\xa7\\xd8\\xa6\\xd9\\x85\\xd8\\xa9 \\xd9\\x85\\xd9\\x88\\xd8\\xa7\\xd9\\x82\\xd8\\xb9 \\xd8\\xa7\\xd9\\x84\\xd8\\xa5\\xd9\\x86\\xd8\\xaa\\xd8\\xb1\\xd9\\x86\\xd8\\xaa \\xd8\\xa7\\xd9\\x84\\xd8\\xa3\\xd9\\x83\\xd8\\xab\\xd8\\xb1 \\xd8\\xb2\\xd9\\x8a\\xd8\\xa7\\xd8\\xb1\\xd8\\xa9 \\xe2\\x80\\x93 Arabic\" lang=\"ar\" hreflang=\"ar\" class=\"interlanguage-link-target\"><span>\\xd8\\xa7\\xd9\\x84\\xd8\\xb9\\xd8\\xb1\\xd8\\xa8\\xd9\\x8a\\xd8\\xa9</span></a></li><li class=\"interlanguage-link interwiki-bn mw-list-item\"><a href=\"https://bn.wikipedia.org/wiki/%E0%A6%B8%E0%A6%B0%E0%A7%8D%E0%A6%AC%E0%A6%BE%E0%A6%A7%E0%A6%BF%E0%A6%95_%E0%A6%9C%E0%A6%A8%E0%A6%AA%E0%A7%8D%E0%A6%B0%E0%A6%BF%E0%A6%AF%E0%A6%BC_%E0%A6%93%E0%A6%AF%E0%A6%BC%E0%A7%87%E0%A6%AC%E0%A6%B8%E0%A6%BE%E0%A6%87%E0%A6%9F%E0%A6%B8%E0%A6%AE%E0%A7%82%E0%A6%B9%E0%A7%87%E0%A6%B0_%E0%A6%A4%E0%A6%BE%E0%A6%B2%E0%A6%BF%E0%A6%95%E0%A6%BE\" title=\"\\xe0\\xa6\\xb8\\xe0\\xa6\\xb0\\xe0\\xa7\\x8d\\xe0\\xa6\\xac\\xe0\\xa6\\xbe\\xe0\\xa6\\xa7\\xe0\\xa6\\xbf\\xe0\\xa6\\x95 \\xe0\\xa6\\x9c\\xe0\\xa6\\xa8\\xe0\\xa6\\xaa\\xe0\\xa7\\x8d\\xe0\\xa6\\xb0\\xe0\\xa6\\xbf\\xe0\\xa6\\xaf\\xe0\\xa6\\xbc \\xe0\\xa6\\x93\\xe0\\xa6\\xaf\\xe0\\xa6\\xbc\\xe0\\xa7\\x87\\xe0\\xa6\\xac\\xe0\\xa6\\xb8\\xe0\\xa6\\xbe\\xe0\\xa6\\x87\\xe0\\xa6\\x9f\\xe0\\xa6\\xb8\\xe0\\xa6\\xae\\xe0\\xa7\\x82\\xe0\\xa6\\xb9\\xe0\\xa7\\x87\\xe0\\xa6\\xb0 \\xe0\\xa6\\xa4\\xe0\\xa6\\xbe\\xe0\\xa6\\xb2\\xe0\\xa6\\xbf\\xe0\\xa6\\x95\\xe0\\xa6\\xbe \\xe2\\x80\\x93 Bangla\" lang=\"bn\" hreflang=\"bn\" class=\"interlanguage-link-target\"><span>\\xe0\\xa6\\xac\\xe0\\xa6\\xbe\\xe0\\xa6\\x82\\xe0\\xa6\\xb2\\xe0\\xa6\\xbe</span></a></li><li class=\"interlanguage-link interwiki-bcl mw-list-item\"><a href=\"https://bcl.wikipedia.org/wiki/Lista_kan_Pinakapopular_na_mga_Websityo\" title=\"Lista kan Pinakapopular na mga Websityo \\xe2\\x80\\x93 Central Bikol\" lang=\"bcl\" hreflang=\"bcl\" class=\"interlanguage-link-target\"><span>Bikol Central</span></a></li><li class=\"interlanguage-link interwiki-da mw-list-item\"><a href=\"https://da.wikipedia.org/wiki/Mest_popul%C3%A6re_websteder\" title=\"Mest popul\\xc3\\xa6re websteder \\xe2\\x80\\x93 Danish\" lang=\"da\" hreflang=\"da\" class=\"interlanguage-link-target\"><span>Dansk</span></a></li><li class=\"interlanguage-link interwiki-el mw-list-item\"><a href=\"https://el.wikipedia.org/wiki/%CE%9A%CE%B1%CF%84%CE%AC%CE%BB%CE%BF%CE%B3%CE%BF%CF%82_%CF%84%CF%89%CE%BD_%CE%B4%CE%B7%CE%BC%CE%BF%CF%86%CE%B9%CE%BB%CE%AD%CF%83%CF%84%CE%B5%CF%81%CF%89%CE%BD_%CE%B9%CF%83%CF%84%CE%BF%CF%83%CE%B5%CE%BB%CE%AF%CE%B4%CF%89%CE%BD\" title=\"\\xce\\x9a\\xce\\xb1\\xcf\\x84\\xce\\xac\\xce\\xbb\\xce\\xbf\\xce\\xb3\\xce\\xbf\\xcf\\x82 \\xcf\\x84\\xcf\\x89\\xce\\xbd \\xce\\xb4\\xce\\xb7\\xce\\xbc\\xce\\xbf\\xcf\\x86\\xce\\xb9\\xce\\xbb\\xce\\xad\\xcf\\x83\\xcf\\x84\\xce\\xb5\\xcf\\x81\\xcf\\x89\\xce\\xbd \\xce\\xb9\\xcf\\x83\\xcf\\x84\\xce\\xbf\\xcf\\x83\\xce\\xb5\\xce\\xbb\\xce\\xaf\\xce\\xb4\\xcf\\x89\\xce\\xbd \\xe2\\x80\\x93 Greek\" lang=\"el\" hreflang=\"el\" class=\"interlanguage-link-target\"><span>\\xce\\x95\\xce\\xbb\\xce\\xbb\\xce\\xb7\\xce\\xbd\\xce\\xb9\\xce\\xba\\xce\\xac</span></a></li><li class=\"interlanguage-link interwiki-es mw-list-item\"><a href=\"https://es.wikipedia.org/wiki/Anexo:Sitios_web_m%C3%A1s_visitados\" title=\"Anexo:Sitios web m\\xc3\\xa1s visitados \\xe2\\x80\\x93 Spanish\" lang=\"es\" hreflang=\"es\" class=\"interlanguage-link-target\"><span>Espa\\xc3\\xb1ol</span></a></li><li class=\"interlanguage-link interwiki-fa mw-list-item\"><a href=\"https://fa.wikipedia.org/wiki/%D9%81%D9%87%D8%B1%D8%B3%D8%AA_%D9%85%D8%AD%D8%A8%D9%88%D8%A8%E2%80%8C%D8%AA%D8%B1%DB%8C%D9%86_%D9%88%D8%A8%DA%AF%D8%A7%D9%87%E2%80%8C%D9%87%D8%A7\" title=\"\\xd9\\x81\\xd9\\x87\\xd8\\xb1\\xd8\\xb3\\xd8\\xaa \\xd9\\x85\\xd8\\xad\\xd8\\xa8\\xd9\\x88\\xd8\\xa8\\xe2\\x80\\x8c\\xd8\\xaa\\xd8\\xb1\\xdb\\x8c\\xd9\\x86 \\xd9\\x88\\xd8\\xa8\\xda\\xaf\\xd8\\xa7\\xd9\\x87\\xe2\\x80\\x8c\\xd9\\x87\\xd8\\xa7 \\xe2\\x80\\x93 Persian\" lang=\"fa\" hreflang=\"fa\" class=\"interlanguage-link-target\"><span>\\xd9\\x81\\xd8\\xa7\\xd8\\xb1\\xd8\\xb3\\xdb\\x8c</span></a></li><li class=\"interlanguage-link interwiki-fr mw-list-item\"><a href=\"https://fr.wikipedia.org/wiki/Sites_internet_les_plus_visit%C3%A9s\" title=\"Sites internet les plus visit\\xc3\\xa9s \\xe2\\x80\\x93 French\" lang=\"fr\" hreflang=\"fr\" class=\"interlanguage-link-target\"><span>Fran\\xc3\\xa7ais</span></a></li><li class=\"interlanguage-link interwiki-ko mw-list-item\"><a href=\"https://ko.wikipedia.org/wiki/%EC%9E%90%EC%A3%BC_%EB%B0%A9%EB%AC%B8%ED%95%98%EB%8A%94_%EC%9B%B9%EC%82%AC%EC%9D%B4%ED%8A%B8_%EB%AA%A9%EB%A1%9D\" title=\"\\xec\\x9e\\x90\\xec\\xa3\\xbc \\xeb\\xb0\\xa9\\xeb\\xac\\xb8\\xed\\x95\\x98\\xeb\\x8a\\x94 \\xec\\x9b\\xb9\\xec\\x82\\xac\\xec\\x9d\\xb4\\xed\\x8a\\xb8 \\xeb\\xaa\\xa9\\xeb\\xa1\\x9d \\xe2\\x80\\x93 Korean\" lang=\"ko\" hreflang=\"ko\" class=\"interlanguage-link-target\"><span>\\xed\\x95\\x9c\\xea\\xb5\\xad\\xec\\x96\\xb4</span></a></li><li class=\"interlanguage-link interwiki-id mw-list-item\"><a href=\"https://id.wikipedia.org/wiki/Daftar_situs_web_terpopuler\" title=\"Daftar situs web terpopuler \\xe2\\x80\\x93 Indonesian\" lang=\"id\" hreflang=\"id\" class=\"interlanguage-link-target\"><span>Bahasa Indonesia</span></a></li><li class=\"interlanguage-link interwiki-hu mw-list-item\"><a href=\"https://hu.wikipedia.org/wiki/A_legn%C3%A9pszer%C5%B1bb_weboldalak_list%C3%A1ja\" title=\"A legn\\xc3\\xa9pszer\\xc5\\xb1bb weboldalak list\\xc3\\xa1ja \\xe2\\x80\\x93 Hungarian\" lang=\"hu\" hreflang=\"hu\" class=\"interlanguage-link-target\"><span>Magyar</span></a></li><li class=\"interlanguage-link interwiki-ne mw-list-item\"><a href=\"https://ne.wikipedia.org/wiki/%E0%A4%B8%E0%A4%B0%E0%A5%8D%E0%A4%B5%E0%A4%BE%E0%A4%A7%E0%A4%BF%E0%A4%95_%E0%A4%B2%E0%A5%8B%E0%A4%95%E0%A4%AA%E0%A5%8D%E0%A4%B0%E0%A4%BF%E0%A4%AF_%E0%A4%B5%E0%A5%87%E0%A4%AC%E0%A4%B8%E0%A4%BE%E0%A4%87%E0%A4%9F%E0%A4%B9%E0%A4%B0%E0%A5%82%E0%A4%95%E0%A5%8B_%E0%A4%B8%E0%A5%82%E0%A4%9A%E0%A5%80\" title=\"\\xe0\\xa4\\xb8\\xe0\\xa4\\xb0\\xe0\\xa5\\x8d\\xe0\\xa4\\xb5\\xe0\\xa4\\xbe\\xe0\\xa4\\xa7\\xe0\\xa4\\xbf\\xe0\\xa4\\x95 \\xe0\\xa4\\xb2\\xe0\\xa5\\x8b\\xe0\\xa4\\x95\\xe0\\xa4\\xaa\\xe0\\xa5\\x8d\\xe0\\xa4\\xb0\\xe0\\xa4\\xbf\\xe0\\xa4\\xaf \\xe0\\xa4\\xb5\\xe0\\xa5\\x87\\xe0\\xa4\\xac\\xe0\\xa4\\xb8\\xe0\\xa4\\xbe\\xe0\\xa4\\x87\\xe0\\xa4\\x9f\\xe0\\xa4\\xb9\\xe0\\xa4\\xb0\\xe0\\xa5\\x82\\xe0\\xa4\\x95\\xe0\\xa5\\x8b \\xe0\\xa4\\xb8\\xe0\\xa5\\x82\\xe0\\xa4\\x9a\\xe0\\xa5\\x80 \\xe2\\x80\\x93 Nepali\" lang=\"ne\" hreflang=\"ne\" class=\"interlanguage-link-target\"><span>\\xe0\\xa4\\xa8\\xe0\\xa5\\x87\\xe0\\xa4\\xaa\\xe0\\xa4\\xbe\\xe0\\xa4\\xb2\\xe0\\xa5\\x80</span></a></li><li class=\"interlanguage-link interwiki-ja mw-list-item\"><a href=\"https://ja.wikipedia.org/wiki/%E4%BA%BA%E6%B0%97%E3%81%AE%E3%82%A6%E3%82%A7%E3%83%96%E3%82%B5%E3%82%A4%E3%83%88%E4%B8%80%E8%A6%A7\" title=\"\\xe4\\xba\\xba\\xe6\\xb0\\x97\\xe3\\x81\\xae\\xe3\\x82\\xa6\\xe3\\x82\\xa7\\xe3\\x83\\x96\\xe3\\x82\\xb5\\xe3\\x82\\xa4\\xe3\\x83\\x88\\xe4\\xb8\\x80\\xe8\\xa6\\xa7 \\xe2\\x80\\x93 Japanese\" lang=\"ja\" hreflang=\"ja\" class=\"interlanguage-link-target\"><span>\\xe6\\x97\\xa5\\xe6\\x9c\\xac\\xe8\\xaa\\x9e</span></a></li><li class=\"interlanguage-link interwiki-nqo mw-list-item\"><a href=\"https://nqo.wikipedia.org/wiki/%DF%93%DF%9F%DF%90%DF%9F%DF%90_%DF%9E%DF%8D%DF%A6%DF%99%DF%90_%DF%A1%DF%8D%DF%B2_%DF%A0%DF%8E%DF%AC_%DF%A6%DF%8B%DF%AB_%DF%A1%DF%8A%DF%9D%DF%9F%DF%8D%DF%AB_%DF%9F%DF%8A%DF%AB_%DF%93%DF%8A%DF%9E%DF%8D%DF%AB\" title=\"\\xdf\\x93\\xdf\\x9f\\xdf\\x90\\xdf\\x9f\\xdf\\x90 \\xdf\\x9e\\xdf\\x8d\\xdf\\xa6\\xdf\\x99\\xdf\\x90 \\xdf\\xa1\\xdf\\x8d\\xdf\\xb2 \\xdf\\xa0\\xdf\\x8e\\xdf\\xac \\xdf\\xa6\\xdf\\x8b\\xdf\\xab \\xdf\\xa1\\xdf\\x8a\\xdf\\x9d\\xdf\\x9f\\xdf\\x8d\\xdf\\xab \\xdf\\x9f\\xdf\\x8a\\xdf\\xab \\xdf\\x93\\xdf\\x8a\\xdf\\x9e\\xdf\\x8d\\xdf\\xab \\xe2\\x80\\x93 N\\xe2\\x80\\x99Ko\" lang=\"nqo\" hreflang=\"nqo\" class=\"interlanguage-link-target\"><span>\\xdf\\x92\\xdf\\x9e\\xdf\\x8f</span></a></li><li class=\"interlanguage-link interwiki-pa mw-list-item\"><a href=\"https://pa.wikipedia.org/wiki/%E0%A8%AA%E0%A9%8D%E0%A8%B0%E0%A8%B8%E0%A8%BF%E0%A9%B1%E0%A8%A7_%E0%A8%B5%E0%A9%88%E0%A8%AC%E0%A8%B8%E0%A8%BE%E0%A8%88%E0%A8%9F%E0%A8%BE%E0%A8%82_%E0%A8%A6%E0%A9%80_%E0%A8%B8%E0%A9%82%E0%A8%9A%E0%A9%80\" title=\"\\xe0\\xa8\\xaa\\xe0\\xa9\\x8d\\xe0\\xa8\\xb0\\xe0\\xa8\\xb8\\xe0\\xa8\\xbf\\xe0\\xa9\\xb1\\xe0\\xa8\\xa7 \\xe0\\xa8\\xb5\\xe0\\xa9\\x88\\xe0\\xa8\\xac\\xe0\\xa8\\xb8\\xe0\\xa8\\xbe\\xe0\\xa8\\x88\\xe0\\xa8\\x9f\\xe0\\xa8\\xbe\\xe0\\xa8\\x82 \\xe0\\xa8\\xa6\\xe0\\xa9\\x80 \\xe0\\xa8\\xb8\\xe0\\xa9\\x82\\xe0\\xa8\\x9a\\xe0\\xa9\\x80 \\xe2\\x80\\x93 Punjabi\" lang=\"pa\" hreflang=\"pa\" class=\"interlanguage-link-target\"><span>\\xe0\\xa8\\xaa\\xe0\\xa9\\xb0\\xe0\\xa8\\x9c\\xe0\\xa8\\xbe\\xe0\\xa8\\xac\\xe0\\xa9\\x80</span></a></li><li class=\"interlanguage-link interwiki-pt mw-list-item\"><a href=\"https://pt.wikipedia.org/wiki/Lista_de_websites_mais_acessados_do_mundo\" title=\"Lista de websites mais acessados do mundo \\xe2\\x80\\x93 Portuguese\" lang=\"pt\" hreflang=\"pt\" class=\"interlanguage-link-target\"><span>Portugu\\xc3\\xaas</span></a></li><li class=\"interlanguage-link interwiki-tl mw-list-item\"><a href=\"https://tl.wikipedia.org/wiki/Talaan_ng_mga_pinakakilalang_websayt\" title=\"Talaan ng mga pinakakilalang websayt \\xe2\\x80\\x93 Tagalog\" lang=\"tl\" hreflang=\"tl\" class=\"interlanguage-link-target\"><span>Tagalog</span></a></li><li class=\"interlanguage-link interwiki-tt mw-list-item\"><a href=\"https://tt.wikipedia.org/wiki/%D0%98%D2%A3_%D0%BF%D0%BE%D0%BF%D1%83%D0%BB%D1%8F%D1%80_%D0%B2%D0%B5%D0%B1-%D1%81%D0%B0%D0%B9%D1%82%D0%BB%D0%B0%D1%80_%D0%B8%D1%81%D0%B5%D0%BC%D0%BB%D0%B5%D0%B3%D0%B5\" title=\"\\xd0\\x98\\xd2\\xa3 \\xd0\\xbf\\xd0\\xbe\\xd0\\xbf\\xd1\\x83\\xd0\\xbb\\xd1\\x8f\\xd1\\x80 \\xd0\\xb2\\xd0\\xb5\\xd0\\xb1-\\xd1\\x81\\xd0\\xb0\\xd0\\xb9\\xd1\\x82\\xd0\\xbb\\xd0\\xb0\\xd1\\x80 \\xd0\\xb8\\xd1\\x81\\xd0\\xb5\\xd0\\xbc\\xd0\\xbb\\xd0\\xb5\\xd0\\xb3\\xd0\\xb5 \\xe2\\x80\\x93 Tatar\" lang=\"tt\" hreflang=\"tt\" class=\"interlanguage-link-target\"><span>\\xd0\\xa2\\xd0\\xb0\\xd1\\x82\\xd0\\xb0\\xd1\\x80\\xd1\\x87\\xd0\\xb0/tatar\\xc3\\xa7a</span></a></li><li class=\"interlanguage-link interwiki-tr mw-list-item\"><a href=\"https://tr.wikipedia.org/wiki/En_pop%C3%BCler_web_siteleri_listesi\" title=\"En pop\\xc3\\xbcler web siteleri listesi \\xe2\\x80\\x93 Turkish\" lang=\"tr\" hreflang=\"tr\" class=\"interlanguage-link-target\"><span>T\\xc3\\xbcrk\\xc3\\xa7e</span></a></li><li class=\"interlanguage-link interwiki-uk mw-list-item\"><a href=\"https://uk.wikipedia.org/wiki/%D0%A1%D0%BF%D0%B8%D1%81%D0%BE%D0%BA_%D0%BD%D0%B0%D0%B9%D0%BF%D0%BE%D0%BF%D1%83%D0%BB%D1%8F%D1%80%D0%BD%D1%96%D1%88%D0%B8%D1%85_%D0%B2%D0%B5%D0%B1%D1%81%D0%B0%D0%B9%D1%82%D1%96%D0%B2\" title=\"\\xd0\\xa1\\xd0\\xbf\\xd0\\xb8\\xd1\\x81\\xd0\\xbe\\xd0\\xba \\xd0\\xbd\\xd0\\xb0\\xd0\\xb9\\xd0\\xbf\\xd0\\xbe\\xd0\\xbf\\xd1\\x83\\xd0\\xbb\\xd1\\x8f\\xd1\\x80\\xd0\\xbd\\xd1\\x96\\xd1\\x88\\xd0\\xb8\\xd1\\x85 \\xd0\\xb2\\xd0\\xb5\\xd0\\xb1\\xd1\\x81\\xd0\\xb0\\xd0\\xb9\\xd1\\x82\\xd1\\x96\\xd0\\xb2 \\xe2\\x80\\x93 Ukrainian\" lang=\"uk\" hreflang=\"uk\" class=\"interlanguage-link-target\"><span>\\xd0\\xa3\\xd0\\xba\\xd1\\x80\\xd0\\xb0\\xd1\\x97\\xd0\\xbd\\xd1\\x81\\xd1\\x8c\\xd0\\xba\\xd0\\xb0</span></a></li><li class=\"interlanguage-link interwiki-ur mw-list-item\"><a href=\"https://ur.wikipedia.org/wiki/%D9%85%D8%B4%DB%81%D9%88%D8%B1_%D9%88%DB%8C%D8%A8_%D8%B3%D8%A7%D8%A6%D9%B9%D9%88%DA%BA_%DA%A9%DB%8C_%D9%81%DB%81%D8%B1%D8%B3%D8%AA\" title=\"\\xd9\\x85\\xd8\\xb4\\xdb\\x81\\xd9\\x88\\xd8\\xb1 \\xd9\\x88\\xdb\\x8c\\xd8\\xa8 \\xd8\\xb3\\xd8\\xa7\\xd8\\xa6\\xd9\\xb9\\xd9\\x88\\xda\\xba \\xda\\xa9\\xdb\\x8c \\xd9\\x81\\xdb\\x81\\xd8\\xb1\\xd8\\xb3\\xd8\\xaa \\xe2\\x80\\x93 Urdu\" lang=\"ur\" hreflang=\"ur\" class=\"interlanguage-link-target\"><span>\\xd8\\xa7\\xd8\\xb1\\xd8\\xaf\\xd9\\x88</span></a></li><li class=\"interlanguage-link interwiki-vi mw-list-item\"><a href=\"https://vi.wikipedia.org/wiki/Danh_s%C3%A1ch_website_ph%E1%BB%95_bi%E1%BA%BFn_nh%E1%BA%A5t\" title=\"Danh s\\xc3\\xa1ch website ph\\xe1\\xbb\\x95 bi\\xe1\\xba\\xbfn nh\\xe1\\xba\\xa5t \\xe2\\x80\\x93 Vietnamese\" lang=\"vi\" hreflang=\"vi\" class=\"interlanguage-link-target\"><span>Ti\\xe1\\xba\\xbfng Vi\\xe1\\xbb\\x87t</span></a></li><li class=\"interlanguage-link interwiki-zh mw-list-item\"><a href=\"https://zh.wikipedia.org/wiki/%E6%9C%80%E5%8F%97%E6%AC%A2%E8%BF%8E%E7%BD%91%E7%AB%99%E5%88%97%E8%A1%A8\" title=\"\\xe6\\x9c\\x80\\xe5\\x8f\\x97\\xe6\\xac\\xa2\\xe8\\xbf\\x8e\\xe7\\xbd\\x91\\xe7\\xab\\x99\\xe5\\x88\\x97\\xe8\\xa1\\xa8 \\xe2\\x80\\x93 Chinese\" lang=\"zh\" hreflang=\"zh\" class=\"interlanguage-link-target\"><span>\\xe4\\xb8\\xad\\xe6\\x96\\x87</span></a></li></ul>\\n\\t\\t<div class=\"after-portlet after-portlet-lang\"><span class=\"wb-langlinks-edit wb-langlinks-link\"><a href=\"https://www.wikidata.org/wiki/Special:EntityPage/Q6629082#sitelinks-wikipedia\" title=\"Edit interlanguage links\" class=\"wbc-editpage\">Edit links</a></span></div>\\n\\t</div>\\n</nav>\\n\\n</div>\\n\\n</div>\\n\\n<footer id=\"footer\" class=\"mw-footer\" role=\"contentinfo\" >\\n\\t<ul id=\"footer-info\">\\n\\t<li id=\"footer-info-lastmod\"> This page was last edited on 12 August 2022, at 07:19<span class=\"anonymous-show\">&#160;(UTC)</span>.</li>\\n\\t<li id=\"footer-info-copyright\">Text is available under the <a rel=\"license\" href=\"//en.wikipedia.org/wiki/Wikipedia:Text_of_Creative_Commons_Attribution-ShareAlike_3.0_Unported_License\">Creative Commons Attribution-ShareAlike License 3.0</a><a rel=\"license\" href=\"//creativecommons.org/licenses/by-sa/3.0/\" style=\"display:none;\"></a>;\\nadditional terms may apply.  By using this site, you agree to the <a href=\"//foundation.wikimedia.org/wiki/Terms_of_Use\">Terms of Use</a> and <a href=\"//foundation.wikimedia.org/wiki/Privacy_policy\">Privacy Policy</a>. Wikipedia\\xc2\\xae is a registered trademark of the <a href=\"//www.wikimediafoundation.org/\">Wikimedia Foundation, Inc.</a>, a non-profit organization.</li>\\n</ul>\\n\\n\\t<ul id=\"footer-places\">\\n\\t<li id=\"footer-places-privacy\"><a href=\"https://foundation.wikimedia.org/wiki/Privacy_policy\">Privacy policy</a></li>\\n\\t<li id=\"footer-places-about\"><a href=\"/wiki/Wikipedia:About\">About Wikipedia</a></li>\\n\\t<li id=\"footer-places-disclaimer\"><a href=\"/wiki/Wikipedia:General_disclaimer\">Disclaimers</a></li>\\n\\t<li id=\"footer-places-contact\"><a href=\"//en.wikipedia.org/wiki/Wikipedia:Contact_us\">Contact Wikipedia</a></li>\\n\\t<li id=\"footer-places-mobileview\"><a href=\"//en.m.wikipedia.org/w/index.php?title=List_of_most_visited_websites&amp;mobileaction=toggle_view_mobile\" class=\"noprint stopMobileRedirectToggle\">Mobile view</a></li>\\n\\t<li id=\"footer-places-developers\"><a href=\"https://developer.wikimedia.org\">Developers</a></li>\\n\\t<li id=\"footer-places-statslink\"><a href=\"https://stats.wikimedia.org/#/en.wikipedia.org\">Statistics</a></li>\\n\\t<li id=\"footer-places-cookiestatement\"><a href=\"https://foundation.wikimedia.org/wiki/Cookie_statement\">Cookie statement</a></li>\\n</ul>\\n\\n\\t<ul id=\"footer-icons\" class=\"noprint\">\\n\\t<li id=\"footer-copyrightico\"><a href=\"https://wikimediafoundation.org/\"><img src=\"/static/images/footer/wikimedia-button.png\" srcset=\"/static/images/footer/wikimedia-button-1.5x.png 1.5x, /static/images/footer/wikimedia-button-2x.png 2x\" width=\"88\" height=\"31\" alt=\"Wikimedia Foundation\" loading=\"lazy\" /></a></li>\\n\\t<li id=\"footer-poweredbyico\"><a href=\"https://www.mediawiki.org/\"><img src=\"/static/images/footer/poweredby_mediawiki_88x31.png\" alt=\"Powered by MediaWiki\" srcset=\"/static/images/footer/poweredby_mediawiki_132x47.png 1.5x, /static/images/footer/poweredby_mediawiki_176x62.png 2x\" width=\"88\" height=\"31\" loading=\"lazy\"/></a></li>\\n</ul>\\n\\n</footer>\\n\\n<script>(RLQ=window.RLQ||[]).push(function(){mw.config.set({\"wgPageParseReport\":{\"limitreport\":{\"cputime\":\"0.487\",\"walltime\":\"0.596\",\"ppvisitednodes\":{\"value\":8158,\"limit\":1000000},\"postexpandincludesize\":{\"value\":53561,\"limit\":2097152},\"templateargumentsize\":{\"value\":12744,\"limit\":2097152},\"expansiondepth\":{\"value\":21,\"limit\":100},\"expensivefunctioncount\":{\"value\":5,\"limit\":500},\"unstrip-depth\":{\"value\":1,\"limit\":20},\"unstrip-size\":{\"value\":5908,\"limit\":5000000},\"entityaccesscount\":{\"value\":0,\"limit\":400},\"timingprofile\":[\"100.00%  460.931      1 -total\",\" 29.40%  135.514     50 Template:Flagcountry\",\" 22.31%  102.845      1 Template:Reflist\",\" 19.16%   88.327      1 Template:Cite_web\",\" 14.37%   66.231      1 Template:Short_description\",\"  9.69%   44.667      1 Template:Pp-semi-indef\",\"  8.66%   39.939     50 Template:Flagcountry/core\",\"  7.78%   35.867      2 Template:As_of\",\"  7.56%   34.840     30 Template:Country_data_United_States\",\"  7.24%   33.363      1 Template:Portalbar\"]},\"scribunto\":{\"limitreport-timeusage\":{\"value\":\"0.183\",\"limit\":\"10.000\"},\"limitreport-memusage\":{\"value\":3216408,\"limit\":52428800}},\"cachereport\":{\"origin\":\"mw1407\",\"timestamp\":\"20220818195906\",\"ttl\":1814400,\"transientcontent\":false}}});});</script>\\n<script type=\"application/ld+json\">{\"@context\":\"https:\\\\/\\\\/schema.org\",\"@type\":\"Article\",\"name\":\"List of most visited websites\",\"url\":\"https:\\\\/\\\\/en.wikipedia.org\\\\/wiki\\\\/List_of_most_visited_websites\",\"sameAs\":\"http:\\\\/\\\\/www.wikidata.org\\\\/entity\\\\/Q6629082\",\"mainEntity\":\"http:\\\\/\\\\/www.wikidata.org\\\\/entity\\\\/Q6629082\",\"author\":{\"@type\":\"Organization\",\"name\":\"Contributors to Wikimedia projects\"},\"publisher\":{\"@type\":\"Organization\",\"name\":\"Wikimedia Foundation, Inc.\",\"logo\":{\"@type\":\"ImageObject\",\"url\":\"https:\\\\/\\\\/www.wikimedia.org\\\\/static\\\\/images\\\\/wmf-hor-googpub.png\"}},\"datePublished\":\"2012-11-22T20:19:37Z\",\"dateModified\":\"2022-08-12T07:19:20Z\",\"headline\":\"Wikimedia list article\"}</script><script type=\"application/ld+json\">{\"@context\":\"https:\\\\/\\\\/schema.org\",\"@type\":\"Article\",\"name\":\"List of most visited websites\",\"url\":\"https:\\\\/\\\\/en.wikipedia.org\\\\/wiki\\\\/List_of_most_visited_websites\",\"sameAs\":\"http:\\\\/\\\\/www.wikidata.org\\\\/entity\\\\/Q6629082\",\"mainEntity\":\"http:\\\\/\\\\/www.wikidata.org\\\\/entity\\\\/Q6629082\",\"author\":{\"@type\":\"Organization\",\"name\":\"Contributors to Wikimedia projects\"},\"publisher\":{\"@type\":\"Organization\",\"name\":\"Wikimedia Foundation, Inc.\",\"logo\":{\"@type\":\"ImageObject\",\"url\":\"https:\\\\/\\\\/www.wikimedia.org\\\\/static\\\\/images\\\\/wmf-hor-googpub.png\"}},\"datePublished\":\"2012-11-22T20:19:37Z\",\"dateModified\":\"2022-08-12T07:19:20Z\",\"headline\":\"Wikimedia list article\"}</script>\\n<script>(RLQ=window.RLQ||[]).push(function(){mw.config.set({\"wgBackendResponseTime\":105,\"wgHostname\":\"mw1411\"});});</script>\\n</body>\\n</html>'\n"
     ]
    }
   ],
   "source": [
    "import urllib.request as req\n",
    "\n",
    "link = \"https://en.wikipedia.org/wiki/List_of_most_visited_websites\"\n",
    "response = req.urlopen(link)\n",
    "\n",
    "print(type(response))\n",
    "print(\"\\n***************************************************\\n\")\n",
    "print(response.read())\n"
   ]
  },
  {
   "cell_type": "markdown",
   "metadata": {
    "pycharm": {
     "name": "#%% md\n"
    }
   },
   "source": [
    "### Usando a biblioteca *requests*"
   ]
  },
  {
   "cell_type": "code",
   "execution_count": 9,
   "metadata": {
    "pycharm": {
     "name": "#%%\n"
    }
   },
   "outputs": [
    {
     "name": "stdout",
     "output_type": "stream",
     "text": [
      "<class 'requests.models.Response'>\n",
      "\n",
      "***************************************************\n",
      "\n",
      "b'<!DOCTYPE html>\\n<html class=\"client-nojs\" lang=\"en\" dir=\"ltr\">\\n<head>\\n<meta charset=\"UTF-8\"/>\\n<title>List of most visited websites - Wikipedia</title>\\n<script>document.documentElement.className=\"client-js\";RLCONF={\"wgBreakFrames\":false,\"wgSeparatorTransformTable\":[\"\",\"\"],\"wgDigitTransformTable\":[\"\",\"\"],\"wgDefaultDateFormat\":\"dmy\",\"wgMonthNames\":[\"\",\"January\",\"February\",\"March\",\"April\",\"May\",\"June\",\"July\",\"August\",\"September\",\"October\",\"November\",\"December\"],\"wgRequestId\":\"4afe5cfb-dcab-45bb-8c34'\n"
     ]
    }
   ],
   "source": [
    "import requests\n",
    "\n",
    "link = \"https://en.wikipedia.org/wiki/List_of_most_visited_websites\"\n",
    "response = requests.get(link)\n",
    "\n",
    "print(type(response))\n",
    "print(\"\\n***************************************************\\n\")\n",
    "print(response.content[:500]) "
   ]
  },
  {
   "cell_type": "code",
   "execution_count": 14,
   "metadata": {
    "pycharm": {
     "name": "#%%\n"
    }
   },
   "outputs": [
    {
     "name": "stdout",
     "output_type": "stream",
     "text": [
      "('C:\\\\Users\\\\dell\\\\AppData\\\\Local\\\\Temp\\\\tmpq4p1ekdq', <http.client.HTTPMessage object at 0x0000020C07281AC0>)\n",
      "\n",
      "***************************************************\n",
      "\n",
      "('testrobots.txt', <http.client.HTTPMessage object at 0x0000020C07281D60>)\n"
     ]
    }
   ],
   "source": [
    "import urllib.request\n",
    "\n",
    "robots = \"https://www.samsclub.com/robots.txt\"\n",
    "sitemap = \"https://www.samsclub.com/sitemap.xml\"\n",
    "\n",
    "print(urllib.request.urlretrieve(robots))\n",
    "print(\"\\n***************************************************\\n\")\n",
    "print(urllib.request.urlretrieve(link,'testrobots.txt'))"
   ]
  },
  {
   "cell_type": "code",
   "execution_count": 22,
   "metadata": {
    "pycharm": {
     "name": "#%%\n"
    }
   },
   "outputs": [],
   "source": [
    "import urllib.request as req\n",
    "import os\n",
    "\n",
    "content = req.urlopen(robots).read()\n",
    "\n",
    "# Criando um arquivo\n",
    "\n",
    "file = open(os.getcwd()+os.sep+\"contents\"+os.sep+\"robots.txt\", \"wb\")\n",
    "file.write(content)\n",
    "file.close()"
   ]
  },
  {
   "cell_type": "code",
   "execution_count": 24,
   "metadata": {
    "pycharm": {
     "name": "#%%\n"
    }
   },
   "outputs": [],
   "source": [
    "# Carregando o arquivo sitemap.xml\n",
    "\n",
    "import requests\n",
    "content = requests.get(sitemap).content\n",
    "\n",
    "file = open(os.getcwd()+os.sep+\"contents\"+os.sep+\"sitemap.xml\", \"wb\")\n",
    "file.write(content)\n",
    "file.close()"
   ]
  },
  {
   "cell_type": "code",
   "execution_count": 26,
   "metadata": {
    "pycharm": {
     "name": "#%%\n"
    }
   },
   "outputs": [
    {
     "data": {
      "text/plain": [
       "'<?xml version=\"1.0\" encoding=\"UTF-8\"?>\\n<sitemapindex xmlns=\"http://www.sitemaps.org/schemas/sitemap/0.9\">\\n<sitemap><loc>https://www.samsclub.com/sitemap_categories.xml</loc></sitemap><sitemap><loc>https://www.samsclub.com/sitemap_products_1.xml</loc></sitemap><sitemap><loc>https://www.samsclub.com/sitemap_locators.xml</loc></sitemap><sitemap><loc>https://www.samsclub.com/sitemap_th.xml</loc></sitemap></sitemapindex>'"
      ]
     },
     "execution_count": 26,
     "metadata": {},
     "output_type": "execute_result"
    }
   ],
   "source": [
    "# Convertendo em bytes para string\n",
    "\n",
    "import requests\n",
    "content = requests.get(sitemap).text\n",
    "content"
   ]
  },
  {
   "cell_type": "code",
   "execution_count": 29,
   "metadata": {
    "pycharm": {
     "name": "#%%\n"
    }
   },
   "outputs": [
    {
     "data": {
      "text/plain": [
       "'<!DOCTYPE html>\\n<html class=\"client-nojs\" lang=\"en\" dir=\"ltr\">\\n<head>\\n<meta charset=\"UTF-8\"/>\\n<title>List of most visited websites - Wikipedia</title>\\n<script>document.documentElement.className=\"client-js\";RLCONF={\"wgBreakFrames\":false,\"wgSeparatorTransformTable\":[\"\",\"\"],\"wgDigitTransformTable\":[\"\",\"\"],\"wgDefaultDateFormat\":\"dmy\",\"wgMonthNames\":[\"\",\"January\",\"February\",\"March\",\"April\",\"May\",\"June\",\"July\",\"August\",\"September\",\"October\",\"November\",\"December\"],\"wgRequestId\":\"4afe5cfb-dcab-45bb-8c34-9fbce5746382\",\"wgCSPNonce\":false,\"wgCanonicalNamespace\":\"\",\"wgCanonicalSpecialPageName\":false,\"wgNamespaceNumber\":0,\"wgPageName\":\"List_of_most_visited_websites\",\"wgTitle\":\"List of most visited websites\",\"wgCurRevisionId\":1104044269,\"wgRevisionId\":1104044269,\"wgArticleId\":37716939,\"wgIsArticle\":true,\"wgIsRedirect\":false,\"wgAction\":\"view\",\"wgUserName\":null,\"wgUserGroups\":[\"*\"],\"wgCategories\":[\"Articles with short description\",\"Short description is different from Wikidata\",\"Wikipedia indefinitely semi-protected pages\",\"Dynamic lists\",\"Articles containing potentially dated statements from May 2022\",\"All articles containing potentially dated statements\",\\n\"Lists of Internet-related superlatives\",\"Lists of most popular media\",\"Lists of websites\"],\"wgPageContentLanguage\":\"en\",\"wgPageContentModel\":\"wikitext\",\"wgRelevantPageName\":\"List_of_most_visited_websites\",\"wgRelevantArticleId\":37716939,\"wgIsProbablyEditable\":false,\"wgRelevantPageIsProbablyEditable\":false,\"wgRestrictionEdit\":[\"autoconfirmed\"],\"wgRestrictionMove\":[\"autoconfirmed\"],\"wgFlaggedRevsParams\":{\"tags\":{\"status\":{\"levels\":1}}},\"wgVisualEditor\":{\"pageLanguageCode\":\"en\",\"pageLanguageDir\":\"ltr\",\"pageVariantFallbacks\":\"en\"},\"wgMFDisplayWikibaseDescriptions\":{\"search\":true,\"nearby\":true,\"watchlist\":true,\"tagline\":false},\"wgWMESchemaEditAttemptStepOversample\":false,\"wgWMEPageLength\":8000,\"wgNoticeProject\":\"wikipedia\",\"wgVector2022PreviewPages\":[\"Wikipedia\",\"MediaWiki\",\"Wikimedia_Foundation\",\"Future\",\"Design\",\"Galaxy\",\"James_Webb_Space_Telescope\",\"Evolution\",\"Typography\",\"Magnifying_glass\",\"Preview_(computing)\"],\"wgMediaViewerOnClick\":true,\"wgMediaViewerEnabledByDefault\":true,\\n\"wgPopupsFlags\":10,\"wgULSCurrentAutonym\":\"English\",\"wgEditSubmitButtonLabelPublish\":true,\"wgCentralAuthMobileDomain\":false,\"wgULSPosition\":\"interlanguage\",\"wgULSisCompactLinksEnabled\":true,\"wgWikibaseItemId\":\"Q6629082\",\"GEHomepageSuggestedEditsEnableTopics\":true,\"wgGETopicsMatchModeEnabled\":false,\"wgGEStructuredTaskRejectionReasonTextInputEnabled\":false};RLSTATE={\"ext.globalCssJs.user.styles\":\"ready\",\"site.styles\":\"ready\",\"user.styles\":\"ready\",\"ext.globalCssJs.user\":\"ready\",\"user\":\"ready\",\"user.options\":\"loading\",\"ext.cite.styles\":\"ready\",\"skins.vector.styles.legacy\":\"ready\",\"jquery.tablesorter.styles\":\"ready\",\"ext.visualEditor.desktopArticleTarget.noscript\":\"ready\",\"ext.wikimediaBadges\":\"ready\",\"ext.uls.interlanguage\":\"ready\",\"wikibase.client.init\":\"ready\"};RLPAGEMODULES=[\"ext.cite.ux-enhancements\",\"site\",\"mediawiki.page.ready\",\"jquery.tablesorter\",\"skins.vector.legacy.js\",\"mmv.head\",\"mmv.bootstrap.autostart\",\"ext.visualEditor.desktopArticleTarget.init\",\"ext.visualEditor.targetLoader\"\\n,\"ext.eventLogging\",\"ext.wikimediaEvents\",\"ext.navigationTiming\",\"ext.cx.eventlogging.campaigns\",\"ext.centralNotice.geoIP\",\"ext.centralNotice.startUp\",\"ext.gadget.ReferenceTooltips\",\"ext.gadget.charinsert\",\"ext.gadget.extra-toolbar-buttons\",\"ext.gadget.switcher\",\"ext.centralauth.centralautologin\",\"ext.popups\",\"ext.uls.compactlinks\",\"ext.uls.interface\",\"ext.growthExperiments.SuggestedEditSession\"];</script>\\n<script>(RLQ=window.RLQ||[]).push(function(){mw.loader.implement(\"user.options@12s5i\",function($,jQuery,require,module){mw.user.tokens.set({\"patrolToken\":\"+\\\\\\\\\",\"watchToken\":\"+\\\\\\\\\",\"csrfToken\":\"+\\\\\\\\\"});});});</script>\\n<link rel=\"stylesheet\" href=\"/w/load.php?lang=en&amp;modules=ext.cite.styles%7Cext.uls.interlanguage%7Cext.visualEditor.desktopArticleTarget.noscript%7Cext.wikimediaBadges%7Cjquery.tablesorter.styles%7Cskins.vector.styles.legacy%7Cwikibase.client.init&amp;only=styles&amp;skin=vector\"/>\\n<script async=\"\" src=\"/w/load.php?lang=en&amp;modules=startup&amp;only=scripts&amp;raw=1&amp;skin=vector\"></script>\\n<meta name=\"ResourceLoaderDynamicStyles\" content=\"\"/>\\n<link rel=\"stylesheet\" href=\"/w/load.php?lang=en&amp;modules=site.styles&amp;only=styles&amp;skin=vector\"/>\\n<meta name=\"generator\" content=\"MediaWiki 1.39.0-wmf.25\"/>\\n<meta name=\"referrer\" content=\"origin\"/>\\n<meta name=\"referrer\" content=\"origin-when-crossorigin\"/>\\n<meta name=\"referrer\" content=\"origin-when-cross-origin\"/>\\n<meta name=\"format-detection\" content=\"telephone=no\"/>\\n<meta name=\"viewport\" content=\"width=1000, initial-scale=1.0\"/>\\n<meta property=\"og:title\" content=\"List of most visited websites - Wikipedia\"/>\\n<meta property=\"og:type\" content=\"website\"/>\\n<link rel=\"preconnect\" href=\"//upload.wikimedia.org\"/>\\n<link rel=\"alternate\" media=\"only screen and (max-width: 720px)\" href=\"//en.m.wikipedia.org/wiki/List_of_most_visited_websites\"/>\\n<link rel=\"apple-touch-icon\" href=\"/static/apple-touch/wikipedia.png\"/>\\n<link rel=\"shortcut icon\" href=\"/static/favicon/wikipedia.ico\"/>\\n<link rel=\"search\" type=\"application/opensearchdescription+xml\" href=\"/w/opensearch_desc.php\" title=\"Wikipedia (en)\"/>\\n<link rel=\"EditURI\" type=\"application/rsd+xml\" href=\"//en.wikipedia.org/w/api.php?action=rsd\"/>\\n<link rel=\"license\" href=\"https://creativecommons.org/licenses/by-sa/3.0/\"/>\\n<link rel=\"canonical\" href=\"https://en.wikipedia.org/wiki/List_of_most_visited_websites\"/>\\n<link rel=\"dns-prefetch\" href=\"//meta.wikimedia.org\" />\\n<link rel=\"dns-prefetch\" href=\"//login.wikimedia.org\"/>\\n</head>\\n<body class=\"mediawiki ltr sitedir-ltr mw-hide-empty-elt ns-0 ns-subject page-List_of_most_visited_websites rootpage-List_of_most_visited_websites skin-vector action-view skin-vector-legacy\"><div id=\"mw-page-base\" class=\"noprint\"></div>\\n<div id=\"mw-head-base\" class=\"noprint\"></div>\\n<div id=\"content\" class=\"mw-body\" role=\"main\">\\n\\t<a id=\"top\"></a>\\n\\t<div id=\"siteNotice\"><!-- CentralNotice --></div>\\n\\t<div class=\"mw-indicators\">\\n\\t<div id=\"mw-indicator-pp-default\" class=\"mw-indicator\"><div class=\"mw-parser-output\"><a href=\"/wiki/Wikipedia:Protection_policy#semi\" title=\"This article is semi-protected.\"><img alt=\"Page semi-protected\" src=\"//upload.wikimedia.org/wikipedia/en/thumb/1/1b/Semi-protection-shackle.svg/20px-Semi-protection-shackle.svg.png\" decoding=\"async\" width=\"20\" height=\"20\" srcset=\"//upload.wikimedia.org/wikipedia/en/thumb/1/1b/Semi-protection-shackle.svg/30px-Semi-protection-shackle.svg.png 1.5x, //upload.wikimedia.org/wikipedia/en/thumb/1/1b/Semi-protection-shackle.svg/40px-Semi-protection-shackle.svg.png 2x\" data-file-width=\"512\" data-file-height=\"512\" /></a></div></div>\\n\\t</div>\\n\\t<h1 id=\"firstHeading\" class=\"firstHeading mw-first-heading\">List of most visited websites</h1>\\n\\t<div id=\"bodyContent\" class=\"vector-body\">\\n\\t\\t<div id=\"siteSub\" class=\"noprint\">From Wikipedia, the free encyclopedia</div>\\n\\t\\t<div id=\"contentSub\"></div>\\n\\t\\t<div id=\"contentSub2\"></div>\\n\\t\\t\\n\\t\\t<div id=\"jump-to-nav\"></div>\\n\\t\\t<a class=\"mw-jump-link\" href=\"#mw-head\">Jump to navigation</a>\\n\\t\\t<a class=\"mw-jump-link\" href=\"#searchInput\">Jump to search</a>\\n\\t\\t<div id=\"mw-content-text\" class=\"mw-body-content mw-content-ltr\" lang=\"en\" dir=\"ltr\"><div class=\"mw-parser-output\"><p class=\"mw-empty-elt\">\\n\\n</p>\\n<style data-mw-deduplicate=\"TemplateStyles:r1033289096\">.mw-parser-output .hatnote{font-style:italic}.mw-parser-output div.hatnote{padding-left:1.6em;margin-bottom:0.5em}.mw-parser-output .hatnote i{font-style:normal}.mw-parser-output .hatnote+link+.hatnote{margin-top:-0.5em}</style><div role=\"note\" class=\"hatnote navigation-not-searchable plainlinks\">This is a <a href=\"/wiki/Wikipedia:WikiProject_Lists#Incomplete_lists\" title=\"Wikipedia:WikiProject Lists\">dynamic list</a> and may never be able to satisfy particular standards for completeness. You can help by <a class=\"external text\" href=\"https://en.wikipedia.org/w/index.php?title=List_of_most_visited_websites&amp;action=edit\">adding missing items</a> with <a href=\"/wiki/Wikipedia:Reliable_sources\" title=\"Wikipedia:Reliable sources\">reliable sources</a>.</div>\\n<p>This is a <b>list of the most visited websites</b> worldwide according to the first 50 <a href=\"/wiki/Website\" title=\"Website\">websites</a> listed in the \"Top Websites Ranking\" lists published monthly by <a href=\"/wiki/Similarweb\" title=\"Similarweb\">Similarweb</a>, as of May&#160;2022,<sup class=\"plainlinks noexcerpt noprint asof-tag update\" style=\"display:none;\"><a class=\"external text\" href=\"https://en.wikipedia.org/w/index.php?title=List_of_most_visited_websites&amp;action=edit\">&#91;update&#93;</a></sup> along with their change in ranking compared to the previous month.\\n</p>\\n<h2><span class=\"mw-headline\" id=\"List\">List</span></h2>\\n<p>Ranking data updated according to August 12, 2022.\\n<style data-mw-deduplicate=\"TemplateStyles:r1093711723\">.mw-parser-output .hover-highlight tr:hover td,.mw-parser-output .mw-datatable tr:hover td{background-color:#eaf3ff}</style>\\n</p>\\n<table class=\"wikitable sortable mw-datatable\" style=\"width:100%; font-size:96%;\">\\n\\n<tbody><tr>\\n<th>Site\\n</th>\\n<th>Domain Name\\n</th>\\n<th data-sort-type=\"number\"><a href=\"/wiki/Similarweb\" title=\"Similarweb\">Similarweb</a> top 50<br />websites ranking<br /><small>(As of May&#160;1,&#32;2022<sup class=\"plainlinks noexcerpt noprint asof-tag update\" style=\"display:none;\"><a class=\"external text\" href=\"https://en.wikipedia.org/w/index.php?title=List_of_most_visited_websites&amp;action=edit\">&#91;update&#93;</a></sup>)</small><sup id=\"cite_ref-Similarweb_1-0\" class=\"reference\"><a href=\"#cite_note-Similarweb-1\">&#91;1&#93;</a></sup>\\n</th>\\n<th>Category\\n</th>\\n<th>Principal country/territory\\n</th></tr>\\n<tr>\\n<td><a href=\"/wiki/Google_Search\" title=\"Google Search\">Google Search</a>\\n</td>\\n<td>google.com\\n</td>\\n<td>1 (<img alt=\"Steady\" src=\"//upload.wikimedia.org/wikipedia/commons/thumb/9/96/Steady2.svg/11px-Steady2.svg.png\" decoding=\"async\" title=\"Steady\" width=\"11\" height=\"11\" srcset=\"//upload.wikimedia.org/wikipedia/commons/thumb/9/96/Steady2.svg/17px-Steady2.svg.png 1.5x, //upload.wikimedia.org/wikipedia/commons/thumb/9/96/Steady2.svg/22px-Steady2.svg.png 2x\" data-file-width=\"300\" data-file-height=\"300\" />)\\n</td>\\n<td>Computers Electronics and Technology &gt; Search Engines\\n</td>\\n<td><span class=\"datasortkey\" data-sort-value=\"United States\"><span class=\"flagicon\"><img alt=\"\" src=\"//upload.wikimedia.org/wikipedia/en/thumb/a/a4/Flag_of_the_United_States.svg/23px-Flag_of_the_United_States.svg.png\" decoding=\"async\" width=\"23\" height=\"12\" class=\"thumbborder\" srcset=\"//upload.wikimedia.org/wikipedia/en/thumb/a/a4/Flag_of_the_United_States.svg/35px-Flag_of_the_United_States.svg.png 1.5x, //upload.wikimedia.org/wikipedia/en/thumb/a/a4/Flag_of_the_United_States.svg/46px-Flag_of_the_United_States.svg.png 2x\" data-file-width=\"1235\" data-file-height=\"650\" />&#160;</span><a href=\"/wiki/United_States\" title=\"United States\">United States</a></span>\\n</td></tr>\\n<tr>\\n<td><a href=\"/wiki/YouTube\" title=\"YouTube\">YouTube</a>\\n</td>\\n<td>youtube.com\\n</td>\\n<td>2 (<img alt=\"Steady\" src=\"//upload.wikimedia.org/wikipedia/commons/thumb/9/96/Steady2.svg/11px-Steady2.svg.png\" decoding=\"async\" title=\"Steady\" width=\"11\" height=\"11\" srcset=\"//upload.wikimedia.org/wikipedia/commons/thumb/9/96/Steady2.svg/17px-Steady2.svg.png 1.5x, //upload.wikimedia.org/wikipedia/commons/thumb/9/96/Steady2.svg/22px-Steady2.svg.png 2x\" data-file-width=\"300\" data-file-height=\"300\" />)\\n</td>\\n<td>Arts &amp; Entertainment &gt; Streaming &amp; Online TV\\n</td>\\n<td><span class=\"datasortkey\" data-sort-value=\"United States\"><span class=\"flagicon\"><img alt=\"\" src=\"//upload.wikimedia.org/wikipedia/en/thumb/a/a4/Flag_of_the_United_States.svg/23px-Flag_of_the_United_States.svg.png\" decoding=\"async\" width=\"23\" height=\"12\" class=\"thumbborder\" srcset=\"//upload.wikimedia.org/wikipedia/en/thumb/a/a4/Flag_of_the_United_States.svg/35px-Flag_of_the_United_States.svg.png 1.5x, //upload.wikimedia.org/wikipedia/en/thumb/a/a4/Flag_of_the_United_States.svg/46px-Flag_of_the_United_States.svg.png 2x\" data-file-width=\"1235\" data-file-height=\"650\" />&#160;</span><a href=\"/wiki/United_States\" title=\"United States\">United States</a></span>\\n</td></tr>\\n<tr>\\n<td><a href=\"/wiki/Facebook\" title=\"Facebook\">Facebook</a>\\n</td>\\n<td>facebook.com\\n</td>\\n<td>3 (<img alt=\"Steady\" src=\"//upload.wikimedia.org/wikipedia/commons/thumb/9/96/Steady2.svg/11px-Steady2.svg.png\" decoding=\"async\" title=\"Steady\" width=\"11\" height=\"11\" srcset=\"//upload.wikimedia.org/wikipedia/commons/thumb/9/96/Steady2.svg/17px-Steady2.svg.png 1.5x, //upload.wikimedia.org/wikipedia/commons/thumb/9/96/Steady2.svg/22px-Steady2.svg.png 2x\" data-file-width=\"300\" data-file-height=\"300\" />)\\n</td>\\n<td>Computers Electronics and Technology &gt; Social Media Networks\\n</td>\\n<td><span class=\"datasortkey\" data-sort-value=\"United States\"><span class=\"flagicon\"><img alt=\"\" src=\"//upload.wikimedia.org/wikipedia/en/thumb/a/a4/Flag_of_the_United_States.svg/23px-Flag_of_the_United_States.svg.png\" decoding=\"async\" width=\"23\" height=\"12\" class=\"thumbborder\" srcset=\"//upload.wikimedia.org/wikipedia/en/thumb/a/a4/Flag_of_the_United_States.svg/35px-Flag_of_the_United_States.svg.png 1.5x, //upload.wikimedia.org/wikipedia/en/thumb/a/a4/Flag_of_the_United_States.svg/46px-Flag_of_the_United_States.svg.png 2x\" data-file-width=\"1235\" data-file-height=\"650\" />&#160;</span><a href=\"/wiki/United_States\" title=\"United States\">United States</a></span>\\n</td></tr>\\n<tr>\\n<td><a href=\"/wiki/Twitter\" title=\"Twitter\">Twitter</a>\\n</td>\\n<td>twitter.com\\n</td>\\n<td>4 (<img alt=\"Steady\" src=\"//upload.wikimedia.org/wikipedia/commons/thumb/9/96/Steady2.svg/11px-Steady2.svg.png\" decoding=\"async\" title=\"Steady\" width=\"11\" height=\"11\" srcset=\"//upload.wikimedia.org/wikipedia/commons/thumb/9/96/Steady2.svg/17px-Steady2.svg.png 1.5x, //upload.wikimedia.org/wikipedia/commons/thumb/9/96/Steady2.svg/22px-Steady2.svg.png 2x\" data-file-width=\"300\" data-file-height=\"300\" />)\\n</td>\\n<td>Computers Electronics and Technology &gt; Social Media Networks\\n</td>\\n<td><span class=\"datasortkey\" data-sort-value=\"United States\"><span class=\"flagicon\"><img alt=\"\" src=\"//upload.wikimedia.org/wikipedia/en/thumb/a/a4/Flag_of_the_United_States.svg/23px-Flag_of_the_United_States.svg.png\" decoding=\"async\" width=\"23\" height=\"12\" class=\"thumbborder\" srcset=\"//upload.wikimedia.org/wikipedia/en/thumb/a/a4/Flag_of_the_United_States.svg/35px-Flag_of_the_United_States.svg.png 1.5x, //upload.wikimedia.org/wikipedia/en/thumb/a/a4/Flag_of_the_United_States.svg/46px-Flag_of_the_United_States.svg.png 2x\" data-file-width=\"1235\" data-file-height=\"650\" />&#160;</span><a href=\"/wiki/United_States\" title=\"United States\">United States</a></span>\\n</td></tr>\\n<tr>\\n<td><a href=\"/wiki/Instagram\" title=\"Instagram\">Instagram</a>\\n</td>\\n<td>instagram.com\\n</td>\\n<td>5 (<img alt=\"Steady\" src=\"//upload.wikimedia.org/wikipedia/commons/thumb/9/96/Steady2.svg/11px-Steady2.svg.png\" decoding=\"async\" title=\"Steady\" width=\"11\" height=\"11\" srcset=\"//upload.wikimedia.org/wikipedia/commons/thumb/9/96/Steady2.svg/17px-Steady2.svg.png 1.5x, //upload.wikimedia.org/wikipedia/commons/thumb/9/96/Steady2.svg/22px-Steady2.svg.png 2x\" data-file-width=\"300\" data-file-height=\"300\" />)\\n</td>\\n<td>Computers Electronics and Technology &gt; Social Media Networks\\n</td>\\n<td><span class=\"datasortkey\" data-sort-value=\"United States\"><span class=\"flagicon\"><img alt=\"\" src=\"//upload.wikimedia.org/wikipedia/en/thumb/a/a4/Flag_of_the_United_States.svg/23px-Flag_of_the_United_States.svg.png\" decoding=\"async\" width=\"23\" height=\"12\" class=\"thumbborder\" srcset=\"//upload.wikimedia.org/wikipedia/en/thumb/a/a4/Flag_of_the_United_States.svg/35px-Flag_of_the_United_States.svg.png 1.5x, //upload.wikimedia.org/wikipedia/en/thumb/a/a4/Flag_of_the_United_States.svg/46px-Flag_of_the_United_States.svg.png 2x\" data-file-width=\"1235\" data-file-height=\"650\" />&#160;</span><a href=\"/wiki/United_States\" title=\"United States\">United States</a></span>\\n</td></tr>\\n<tr>\\n<td><a href=\"/wiki/Baidu\" title=\"Baidu\">Baidu</a>\\n</td>\\n<td>baidu.com\\n</td>\\n<td>6 (<img alt=\"Steady\" src=\"//upload.wikimedia.org/wikipedia/commons/thumb/9/96/Steady2.svg/11px-Steady2.svg.png\" decoding=\"async\" title=\"Steady\" width=\"11\" height=\"11\" srcset=\"//upload.wikimedia.org/wikipedia/commons/thumb/9/96/Steady2.svg/17px-Steady2.svg.png 1.5x, //upload.wikimedia.org/wikipedia/commons/thumb/9/96/Steady2.svg/22px-Steady2.svg.png 2x\" data-file-width=\"300\" data-file-height=\"300\" />)\\n</td>\\n<td>Computers Electronics and Technology &gt; Search Engines\\n</td>\\n<td><span class=\"datasortkey\" data-sort-value=\"China\"><span class=\"flagicon\"><img alt=\"\" src=\"//upload.wikimedia.org/wikipedia/commons/thumb/f/fa/Flag_of_the_People%27s_Republic_of_China.svg/23px-Flag_of_the_People%27s_Republic_of_China.svg.png\" decoding=\"async\" width=\"23\" height=\"15\" class=\"thumbborder\" srcset=\"//upload.wikimedia.org/wikipedia/commons/thumb/f/fa/Flag_of_the_People%27s_Republic_of_China.svg/35px-Flag_of_the_People%27s_Republic_of_China.svg.png 1.5x, //upload.wikimedia.org/wikipedia/commons/thumb/f/fa/Flag_of_the_People%27s_Republic_of_China.svg/45px-Flag_of_the_People%27s_Republic_of_China.svg.png 2x\" data-file-width=\"900\" data-file-height=\"600\" />&#160;</span><a href=\"/wiki/China\" title=\"China\">China</a></span>\\n</td></tr>\\n<tr>\\n<td><a href=\"/wiki/Wikipedia\" title=\"Wikipedia\">Wikipedia</a>\\n</td>\\n<td>wikipedia.org\\n</td>\\n<td>7 (<img alt=\"Decrease\" src=\"//upload.wikimedia.org/wikipedia/commons/thumb/e/ed/Decrease2.svg/11px-Decrease2.svg.png\" decoding=\"async\" title=\"Decrease\" width=\"11\" height=\"11\" srcset=\"//upload.wikimedia.org/wikipedia/commons/thumb/e/ed/Decrease2.svg/17px-Decrease2.svg.png 1.5x, //upload.wikimedia.org/wikipedia/commons/thumb/e/ed/Decrease2.svg/22px-Decrease2.svg.png 2x\" data-file-width=\"300\" data-file-height=\"300\" />1)\\n</td>\\n<td>Reference Materials &gt; Dictionaries and Encyclopedias\\n</td>\\n<td><span class=\"datasortkey\" data-sort-value=\"United States\"><span class=\"flagicon\"><img alt=\"\" src=\"//upload.wikimedia.org/wikipedia/en/thumb/a/a4/Flag_of_the_United_States.svg/23px-Flag_of_the_United_States.svg.png\" decoding=\"async\" width=\"23\" height=\"12\" class=\"thumbborder\" srcset=\"//upload.wikimedia.org/wikipedia/en/thumb/a/a4/Flag_of_the_United_States.svg/35px-Flag_of_the_United_States.svg.png 1.5x, //upload.wikimedia.org/wikipedia/en/thumb/a/a4/Flag_of_the_United_States.svg/46px-Flag_of_the_United_States.svg.png 2x\" data-file-width=\"1235\" data-file-height=\"650\" />&#160;</span><a href=\"/wiki/United_States\" title=\"United States\">United States</a></span>\\n</td></tr>\\n<tr>\\n<td><a href=\"/wiki/Yandex\" title=\"Yandex\">Yandex</a>\\n</td>\\n<td>yandex.ru\\n</td>\\n<td>8 (<img alt=\"Steady\" src=\"//upload.wikimedia.org/wikipedia/commons/thumb/9/96/Steady2.svg/11px-Steady2.svg.png\" decoding=\"async\" title=\"Steady\" width=\"11\" height=\"11\" srcset=\"//upload.wikimedia.org/wikipedia/commons/thumb/9/96/Steady2.svg/17px-Steady2.svg.png 1.5x, //upload.wikimedia.org/wikipedia/commons/thumb/9/96/Steady2.svg/22px-Steady2.svg.png 2x\" data-file-width=\"300\" data-file-height=\"300\" />)\\n</td>\\n<td>Computers Electronics and Technology &gt; Search Engines\\n</td>\\n<td><span class=\"datasortkey\" data-sort-value=\"Russia\"><span class=\"flagicon\"><img alt=\"\" src=\"//upload.wikimedia.org/wikipedia/en/thumb/f/f3/Flag_of_Russia.svg/23px-Flag_of_Russia.svg.png\" decoding=\"async\" width=\"23\" height=\"15\" class=\"thumbborder\" srcset=\"//upload.wikimedia.org/wikipedia/en/thumb/f/f3/Flag_of_Russia.svg/35px-Flag_of_Russia.svg.png 1.5x, //upload.wikimedia.org/wikipedia/en/thumb/f/f3/Flag_of_Russia.svg/45px-Flag_of_Russia.svg.png 2x\" data-file-width=\"900\" data-file-height=\"600\" />&#160;</span><a href=\"/wiki/Russia\" title=\"Russia\">Russia</a></span>\\n</td></tr>\\n<tr>\\n<td><a href=\"/wiki/Yahoo\" class=\"mw-redirect\" title=\"Yahoo\">Yahoo</a>\\n</td>\\n<td>yahoo.com\\n</td>\\n<td>9 (<img alt=\"Steady\" src=\"//upload.wikimedia.org/wikipedia/commons/thumb/9/96/Steady2.svg/11px-Steady2.svg.png\" decoding=\"async\" title=\"Steady\" width=\"11\" height=\"11\" srcset=\"//upload.wikimedia.org/wikipedia/commons/thumb/9/96/Steady2.svg/17px-Steady2.svg.png 1.5x, //upload.wikimedia.org/wikipedia/commons/thumb/9/96/Steady2.svg/22px-Steady2.svg.png 2x\" data-file-width=\"300\" data-file-height=\"300\" />)\\n</td>\\n<td>News &amp; Media Publishers\\n</td>\\n<td><span class=\"datasortkey\" data-sort-value=\"United States\"><span class=\"flagicon\"><img alt=\"\" src=\"//upload.wikimedia.org/wikipedia/en/thumb/a/a4/Flag_of_the_United_States.svg/23px-Flag_of_the_United_States.svg.png\" decoding=\"async\" width=\"23\" height=\"12\" class=\"thumbborder\" srcset=\"//upload.wikimedia.org/wikipedia/en/thumb/a/a4/Flag_of_the_United_States.svg/35px-Flag_of_the_United_States.svg.png 1.5x, //upload.wikimedia.org/wikipedia/en/thumb/a/a4/Flag_of_the_United_States.svg/46px-Flag_of_the_United_States.svg.png 2x\" data-file-width=\"1235\" data-file-height=\"650\" />&#160;</span><a href=\"/wiki/United_States\" title=\"United States\">United States</a></span>\\n</td></tr>\\n<tr>\\n<td><a href=\"/wiki/XVideos\" title=\"XVideos\">xVideos</a>\\n</td>\\n<td>xvideos.com\\n</td>\\n<td>10 (<img alt=\"Steady\" src=\"//upload.wikimedia.org/wikipedia/commons/thumb/9/96/Steady2.svg/11px-Steady2.svg.png\" decoding=\"async\" title=\"Steady\" width=\"11\" height=\"11\" srcset=\"//upload.wikimedia.org/wikipedia/commons/thumb/9/96/Steady2.svg/17px-Steady2.svg.png 1.5x, //upload.wikimedia.org/wikipedia/commons/thumb/9/96/Steady2.svg/22px-Steady2.svg.png 2x\" data-file-width=\"300\" data-file-height=\"300\" />)\\n</td>\\n<td>Adult\\n</td>\\n<td><span class=\"datasortkey\" data-sort-value=\"Czech Republic\"><span class=\"flagicon\"><img alt=\"\" src=\"//upload.wikimedia.org/wikipedia/commons/thumb/c/cb/Flag_of_the_Czech_Republic.svg/23px-Flag_of_the_Czech_Republic.svg.png\" decoding=\"async\" width=\"23\" height=\"15\" class=\"thumbborder\" srcset=\"//upload.wikimedia.org/wikipedia/commons/thumb/c/cb/Flag_of_the_Czech_Republic.svg/35px-Flag_of_the_Czech_Republic.svg.png 1.5x, //upload.wikimedia.org/wikipedia/commons/thumb/c/cb/Flag_of_the_Czech_Republic.svg/45px-Flag_of_the_Czech_Republic.svg.png 2x\" data-file-width=\"900\" data-file-height=\"600\" />&#160;</span><a href=\"/wiki/Czech_Republic\" title=\"Czech Republic\">Czech Republic</a></span>\\n</td></tr>\\n<tr>\\n<td><a href=\"/wiki/Whatsapp\" class=\"mw-redirect\" title=\"Whatsapp\">Whatsapp</a>\\n</td>\\n<td>whatsapp.com\\n</td>\\n<td>11 (<img alt=\"Decrease\" src=\"//upload.wikimedia.org/wikipedia/commons/thumb/e/ed/Decrease2.svg/11px-Decrease2.svg.png\" decoding=\"async\" title=\"Decrease\" width=\"11\" height=\"11\" srcset=\"//upload.wikimedia.org/wikipedia/commons/thumb/e/ed/Decrease2.svg/17px-Decrease2.svg.png 1.5x, //upload.wikimedia.org/wikipedia/commons/thumb/e/ed/Decrease2.svg/22px-Decrease2.svg.png 2x\" data-file-width=\"300\" data-file-height=\"300\" />1)\\n</td>\\n<td>Computers Electronics and Technology &gt; Social Media Networks\\n</td>\\n<td><span class=\"datasortkey\" data-sort-value=\"United States\"><span class=\"flagicon\"><img alt=\"\" src=\"//upload.wikimedia.org/wikipedia/en/thumb/a/a4/Flag_of_the_United_States.svg/23px-Flag_of_the_United_States.svg.png\" decoding=\"async\" width=\"23\" height=\"12\" class=\"thumbborder\" srcset=\"//upload.wikimedia.org/wikipedia/en/thumb/a/a4/Flag_of_the_United_States.svg/35px-Flag_of_the_United_States.svg.png 1.5x, //upload.wikimedia.org/wikipedia/en/thumb/a/a4/Flag_of_the_United_States.svg/46px-Flag_of_the_United_States.svg.png 2x\" data-file-width=\"1235\" data-file-height=\"650\" />&#160;</span><a href=\"/wiki/United_States\" title=\"United States\">United States</a></span>\\n</td></tr>\\n<tr>\\n<td><a href=\"/wiki/Amazon_(company)\" title=\"Amazon (company)\">Amazon</a>\\n</td>\\n<td>amazon.com\\n</td>\\n<td>12 (<img alt=\"Steady\" src=\"//upload.wikimedia.org/wikipedia/commons/thumb/9/96/Steady2.svg/11px-Steady2.svg.png\" decoding=\"async\" title=\"Steady\" width=\"11\" height=\"11\" srcset=\"//upload.wikimedia.org/wikipedia/commons/thumb/9/96/Steady2.svg/17px-Steady2.svg.png 1.5x, //upload.wikimedia.org/wikipedia/commons/thumb/9/96/Steady2.svg/22px-Steady2.svg.png 2x\" data-file-width=\"300\" data-file-height=\"300\" />)\\n</td>\\n<td>eCommerce &amp; Shopping &gt; Marketplace\\n</td>\\n<td><span class=\"datasortkey\" data-sort-value=\"United States\"><span class=\"flagicon\"><img alt=\"\" src=\"//upload.wikimedia.org/wikipedia/en/thumb/a/a4/Flag_of_the_United_States.svg/23px-Flag_of_the_United_States.svg.png\" decoding=\"async\" width=\"23\" height=\"12\" class=\"thumbborder\" srcset=\"//upload.wikimedia.org/wikipedia/en/thumb/a/a4/Flag_of_the_United_States.svg/35px-Flag_of_the_United_States.svg.png 1.5x, //upload.wikimedia.org/wikipedia/en/thumb/a/a4/Flag_of_the_United_States.svg/46px-Flag_of_the_United_States.svg.png 2x\" data-file-width=\"1235\" data-file-height=\"650\" />&#160;</span><a href=\"/wiki/United_States\" title=\"United States\">United States</a></span>\\n</td></tr>\\n<tr>\\n<td><a href=\"/wiki/Xnxx.com\" class=\"mw-redirect\" title=\"Xnxx.com\">Xnxx</a>\\n</td>\\n<td>xnxx.com\\n</td>\\n<td>13 (<img alt=\"Increase\" src=\"//upload.wikimedia.org/wikipedia/commons/thumb/b/b0/Increase2.svg/11px-Increase2.svg.png\" decoding=\"async\" title=\"Increase\" width=\"11\" height=\"11\" srcset=\"//upload.wikimedia.org/wikipedia/commons/thumb/b/b0/Increase2.svg/17px-Increase2.svg.png 1.5x, //upload.wikimedia.org/wikipedia/commons/thumb/b/b0/Increase2.svg/22px-Increase2.svg.png 2x\" data-file-width=\"300\" data-file-height=\"300\" />1)\\n</td>\\n<td>Adult\\n</td>\\n<td><span class=\"datasortkey\" data-sort-value=\"Czech Republic\"><span class=\"flagicon\"><img alt=\"\" src=\"//upload.wikimedia.org/wikipedia/commons/thumb/c/cb/Flag_of_the_Czech_Republic.svg/23px-Flag_of_the_Czech_Republic.svg.png\" decoding=\"async\" width=\"23\" height=\"15\" class=\"thumbborder\" srcset=\"//upload.wikimedia.org/wikipedia/commons/thumb/c/cb/Flag_of_the_Czech_Republic.svg/35px-Flag_of_the_Czech_Republic.svg.png 1.5x, //upload.wikimedia.org/wikipedia/commons/thumb/c/cb/Flag_of_the_Czech_Republic.svg/45px-Flag_of_the_Czech_Republic.svg.png 2x\" data-file-width=\"900\" data-file-height=\"600\" />&#160;</span><a href=\"/wiki/Czech_Republic\" title=\"Czech Republic\">Czech Republic</a></span>\\n</td></tr>\\n<tr>\\n<td><a href=\"/wiki/Pornhub\" title=\"Pornhub\">Pornhub</a>\\n</td>\\n<td>pornhub.com\\n</td>\\n<td>14 (<img alt=\"Steady\" src=\"//upload.wikimedia.org/wikipedia/commons/thumb/9/96/Steady2.svg/11px-Steady2.svg.png\" decoding=\"async\" title=\"Steady\" width=\"11\" height=\"11\" srcset=\"//upload.wikimedia.org/wikipedia/commons/thumb/9/96/Steady2.svg/17px-Steady2.svg.png 1.5x, //upload.wikimedia.org/wikipedia/commons/thumb/9/96/Steady2.svg/22px-Steady2.svg.png 2x\" data-file-width=\"300\" data-file-height=\"300\" />)\\n</td>\\n<td>Adult\\n</td>\\n<td><span class=\"datasortkey\" data-sort-value=\"Canada\"><span class=\"flagicon\"><img alt=\"\" src=\"//upload.wikimedia.org/wikipedia/commons/thumb/d/d9/Flag_of_Canada_%28Pantone%29.svg/23px-Flag_of_Canada_%28Pantone%29.svg.png\" decoding=\"async\" width=\"23\" height=\"12\" class=\"thumbborder\" srcset=\"//upload.wikimedia.org/wikipedia/commons/thumb/d/d9/Flag_of_Canada_%28Pantone%29.svg/35px-Flag_of_Canada_%28Pantone%29.svg.png 1.5x, //upload.wikimedia.org/wikipedia/commons/thumb/d/d9/Flag_of_Canada_%28Pantone%29.svg/46px-Flag_of_Canada_%28Pantone%29.svg.png 2x\" data-file-width=\"1200\" data-file-height=\"600\" />&#160;</span><a href=\"/wiki/Canada\" title=\"Canada\">Canada</a></span>\\n</td></tr>\\n<tr>\\n<td><a href=\"/wiki/Netflix\" title=\"Netflix\">Netflix</a>\\n</td>\\n<td>netflix.com\\n</td>\\n<td>15 (<img alt=\"Increase\" src=\"//upload.wikimedia.org/wikipedia/commons/thumb/b/b0/Increase2.svg/11px-Increase2.svg.png\" decoding=\"async\" title=\"Increase\" width=\"11\" height=\"11\" srcset=\"//upload.wikimedia.org/wikipedia/commons/thumb/b/b0/Increase2.svg/17px-Increase2.svg.png 1.5x, //upload.wikimedia.org/wikipedia/commons/thumb/b/b0/Increase2.svg/22px-Increase2.svg.png 2x\" data-file-width=\"300\" data-file-height=\"300\" />1)\\n</td>\\n<td>Arts &amp; Entertainment &gt; Streaming &amp; Online TV\\n</td>\\n<td><span class=\"datasortkey\" data-sort-value=\"United States\"><span class=\"flagicon\"><img alt=\"\" src=\"//upload.wikimedia.org/wikipedia/en/thumb/a/a4/Flag_of_the_United_States.svg/23px-Flag_of_the_United_States.svg.png\" decoding=\"async\" width=\"23\" height=\"12\" class=\"thumbborder\" srcset=\"//upload.wikimedia.org/wikipedia/en/thumb/a/a4/Flag_of_the_United_States.svg/35px-Flag_of_the_United_States.svg.png 1.5x, //upload.wikimedia.org/wikipedia/en/thumb/a/a4/Flag_of_the_United_States.svg/46px-Flag_of_the_United_States.svg.png 2x\" data-file-width=\"1235\" data-file-height=\"650\" />&#160;</span><a href=\"/wiki/United_States\" title=\"United States\">United States</a></span>\\n</td></tr>\\n<tr>\\n<td><a href=\"/wiki/Yahoo!_Japan\" title=\"Yahoo! Japan\">Yahoo JP</a>\\n</td>\\n<td>yahoo.co.jp\\n</td>\\n<td>16 (<img alt=\"Steady\" src=\"//upload.wikimedia.org/wikipedia/commons/thumb/9/96/Steady2.svg/11px-Steady2.svg.png\" decoding=\"async\" title=\"Steady\" width=\"11\" height=\"11\" srcset=\"//upload.wikimedia.org/wikipedia/commons/thumb/9/96/Steady2.svg/17px-Steady2.svg.png 1.5x, //upload.wikimedia.org/wikipedia/commons/thumb/9/96/Steady2.svg/22px-Steady2.svg.png 2x\" data-file-width=\"300\" data-file-height=\"300\" />)\\n</td>\\n<td>News &amp; Media Publishers\\n</td>\\n<td><span class=\"datasortkey\" data-sort-value=\"Japan\"><span class=\"flagicon\"><img alt=\"\" src=\"//upload.wikimedia.org/wikipedia/en/thumb/9/9e/Flag_of_Japan.svg/23px-Flag_of_Japan.svg.png\" decoding=\"async\" width=\"23\" height=\"15\" class=\"thumbborder\" srcset=\"//upload.wikimedia.org/wikipedia/en/thumb/9/9e/Flag_of_Japan.svg/35px-Flag_of_Japan.svg.png 1.5x, //upload.wikimedia.org/wikipedia/en/thumb/9/9e/Flag_of_Japan.svg/45px-Flag_of_Japan.svg.png 2x\" data-file-width=\"900\" data-file-height=\"600\" />&#160;</span><a href=\"/wiki/Japan\" title=\"Japan\">Japan</a></span>\\n</td></tr>\\n<tr>\\n<td><a href=\"/wiki/Live.com_Mobile\" class=\"mw-redirect\" title=\"Live.com Mobile\">Live</a>\\n</td>\\n<td>live.com\\n</td>\\n<td>17 (<img alt=\"Steady\" src=\"//upload.wikimedia.org/wikipedia/commons/thumb/9/96/Steady2.svg/11px-Steady2.svg.png\" decoding=\"async\" title=\"Steady\" width=\"11\" height=\"11\" srcset=\"//upload.wikimedia.org/wikipedia/commons/thumb/9/96/Steady2.svg/17px-Steady2.svg.png 1.5x, //upload.wikimedia.org/wikipedia/commons/thumb/9/96/Steady2.svg/22px-Steady2.svg.png 2x\" data-file-width=\"300\" data-file-height=\"300\" />)\\n</td>\\n<td>Computers Electronics and Technology &gt; Email\\n</td>\\n<td><span class=\"datasortkey\" data-sort-value=\"United States\"><span class=\"flagicon\"><img alt=\"\" src=\"//upload.wikimedia.org/wikipedia/en/thumb/a/a4/Flag_of_the_United_States.svg/23px-Flag_of_the_United_States.svg.png\" decoding=\"async\" width=\"23\" height=\"12\" class=\"thumbborder\" srcset=\"//upload.wikimedia.org/wikipedia/en/thumb/a/a4/Flag_of_the_United_States.svg/35px-Flag_of_the_United_States.svg.png 1.5x, //upload.wikimedia.org/wikipedia/en/thumb/a/a4/Flag_of_the_United_States.svg/46px-Flag_of_the_United_States.svg.png 2x\" data-file-width=\"1235\" data-file-height=\"650\" />&#160;</span><a href=\"/wiki/United_States\" title=\"United States\">United States</a></span>\\n</td></tr>\\n<tr>\\n<td><a href=\"/wiki/TikTok\" title=\"TikTok\">TikTok</a>\\n</td>\\n<td>tiktok.com\\n</td>\\n<td>18 (<img alt=\"Steady\" src=\"//upload.wikimedia.org/wikipedia/commons/thumb/9/96/Steady2.svg/11px-Steady2.svg.png\" decoding=\"async\" title=\"Steady\" width=\"11\" height=\"11\" srcset=\"//upload.wikimedia.org/wikipedia/commons/thumb/9/96/Steady2.svg/17px-Steady2.svg.png 1.5x, //upload.wikimedia.org/wikipedia/commons/thumb/9/96/Steady2.svg/22px-Steady2.svg.png 2x\" data-file-width=\"300\" data-file-height=\"300\" />)\\n</td>\\n<td>Computers Electronics and Technology &gt; Social Media Networks\\n</td>\\n<td><span class=\"datasortkey\" data-sort-value=\"China\"><span class=\"flagicon\"><img alt=\"\" src=\"//upload.wikimedia.org/wikipedia/commons/thumb/f/fa/Flag_of_the_People%27s_Republic_of_China.svg/23px-Flag_of_the_People%27s_Republic_of_China.svg.png\" decoding=\"async\" width=\"23\" height=\"15\" class=\"thumbborder\" srcset=\"//upload.wikimedia.org/wikipedia/commons/thumb/f/fa/Flag_of_the_People%27s_Republic_of_China.svg/35px-Flag_of_the_People%27s_Republic_of_China.svg.png 1.5x, //upload.wikimedia.org/wikipedia/commons/thumb/f/fa/Flag_of_the_People%27s_Republic_of_China.svg/45px-Flag_of_the_People%27s_Republic_of_China.svg.png 2x\" data-file-width=\"900\" data-file-height=\"600\" />&#160;</span><a href=\"/wiki/China\" title=\"China\">China</a></span>\\n</td></tr>\\n<tr>\\n<td><a href=\"/wiki/Docomo\" class=\"mw-redirect\" title=\"Docomo\">Docomo</a>\\n</td>\\n<td>docomo.ne.jp\\n</td>\\n<td>19 (<img alt=\"Steady\" src=\"//upload.wikimedia.org/wikipedia/commons/thumb/9/96/Steady2.svg/11px-Steady2.svg.png\" decoding=\"async\" title=\"Steady\" width=\"11\" height=\"11\" srcset=\"//upload.wikimedia.org/wikipedia/commons/thumb/9/96/Steady2.svg/17px-Steady2.svg.png 1.5x, //upload.wikimedia.org/wikipedia/commons/thumb/9/96/Steady2.svg/22px-Steady2.svg.png 2x\" data-file-width=\"300\" data-file-height=\"300\" />)\\n</td>\\n<td>Computers Electronics and Technology &gt; Telecommunications\\n</td>\\n<td><span class=\"datasortkey\" data-sort-value=\"Japan\"><span class=\"flagicon\"><img alt=\"\" src=\"//upload.wikimedia.org/wikipedia/en/thumb/9/9e/Flag_of_Japan.svg/23px-Flag_of_Japan.svg.png\" decoding=\"async\" width=\"23\" height=\"15\" class=\"thumbborder\" srcset=\"//upload.wikimedia.org/wikipedia/en/thumb/9/9e/Flag_of_Japan.svg/35px-Flag_of_Japan.svg.png 1.5x, //upload.wikimedia.org/wikipedia/en/thumb/9/9e/Flag_of_Japan.svg/45px-Flag_of_Japan.svg.png 2x\" data-file-width=\"900\" data-file-height=\"600\" />&#160;</span><a href=\"/wiki/Japan\" title=\"Japan\">Japan</a></span>\\n</td></tr>\\n<tr>\\n<td><a href=\"/wiki/Reddit\" title=\"Reddit\">Reddit</a>\\n</td>\\n<td>reddit.com\\n</td>\\n<td>20 (<img alt=\"Increase\" src=\"//upload.wikimedia.org/wikipedia/commons/thumb/b/b0/Increase2.svg/11px-Increase2.svg.png\" decoding=\"async\" title=\"Increase\" width=\"11\" height=\"11\" srcset=\"//upload.wikimedia.org/wikipedia/commons/thumb/b/b0/Increase2.svg/17px-Increase2.svg.png 1.5x, //upload.wikimedia.org/wikipedia/commons/thumb/b/b0/Increase2.svg/22px-Increase2.svg.png 2x\" data-file-width=\"300\" data-file-height=\"300\" />1)\\n</td>\\n<td>Computers Electronics and Technology &gt; Social Media Networks\\n</td>\\n<td><span class=\"datasortkey\" data-sort-value=\"United States\"><span class=\"flagicon\"><img alt=\"\" src=\"//upload.wikimedia.org/wikipedia/en/thumb/a/a4/Flag_of_the_United_States.svg/23px-Flag_of_the_United_States.svg.png\" decoding=\"async\" width=\"23\" height=\"12\" class=\"thumbborder\" srcset=\"//upload.wikimedia.org/wikipedia/en/thumb/a/a4/Flag_of_the_United_States.svg/35px-Flag_of_the_United_States.svg.png 1.5x, //upload.wikimedia.org/wikipedia/en/thumb/a/a4/Flag_of_the_United_States.svg/46px-Flag_of_the_United_States.svg.png 2x\" data-file-width=\"1235\" data-file-height=\"650\" />&#160;</span><a href=\"/wiki/United_States\" title=\"United States\">United States</a></span>\\n</td></tr>\\n<tr>\\n<td><a href=\"/wiki/Microsoft_Office\" title=\"Microsoft Office\">Office</a>\\n</td>\\n<td>office.com\\n</td>\\n<td>21 (<img alt=\"Steady\" src=\"//upload.wikimedia.org/wikipedia/commons/thumb/9/96/Steady2.svg/11px-Steady2.svg.png\" decoding=\"async\" title=\"Steady\" width=\"11\" height=\"11\" srcset=\"//upload.wikimedia.org/wikipedia/commons/thumb/9/96/Steady2.svg/17px-Steady2.svg.png 1.5x, //upload.wikimedia.org/wikipedia/commons/thumb/9/96/Steady2.svg/22px-Steady2.svg.png 2x\" data-file-width=\"300\" data-file-height=\"300\" />)\\n</td>\\n<td>Computers Electronics and Technology &gt; Programming and Developer Software\\n</td>\\n<td><span class=\"datasortkey\" data-sort-value=\"United States\"><span class=\"flagicon\"><img alt=\"\" src=\"//upload.wikimedia.org/wikipedia/en/thumb/a/a4/Flag_of_the_United_States.svg/23px-Flag_of_the_United_States.svg.png\" decoding=\"async\" width=\"23\" height=\"12\" class=\"thumbborder\" srcset=\"//upload.wikimedia.org/wikipedia/en/thumb/a/a4/Flag_of_the_United_States.svg/35px-Flag_of_the_United_States.svg.png 1.5x, //upload.wikimedia.org/wikipedia/en/thumb/a/a4/Flag_of_the_United_States.svg/46px-Flag_of_the_United_States.svg.png 2x\" data-file-width=\"1235\" data-file-height=\"650\" />&#160;</span><a href=\"/wiki/United_States\" title=\"United States\">United States</a></span>\\n</td></tr>\\n<tr>\\n<td><a href=\"/wiki/VK_(service)\" title=\"VK (service)\">VK</a>\\n</td>\\n<td>vk.com\\n</td>\\n<td>22 (<img alt=\"Steady\" src=\"//upload.wikimedia.org/wikipedia/commons/thumb/9/96/Steady2.svg/11px-Steady2.svg.png\" decoding=\"async\" title=\"Steady\" width=\"11\" height=\"11\" srcset=\"//upload.wikimedia.org/wikipedia/commons/thumb/9/96/Steady2.svg/17px-Steady2.svg.png 1.5x, //upload.wikimedia.org/wikipedia/commons/thumb/9/96/Steady2.svg/22px-Steady2.svg.png 2x\" data-file-width=\"300\" data-file-height=\"300\" />)\\n</td>\\n<td>Computers Electronics and Technology &gt; Social Media Networks\\n</td>\\n<td><span class=\"datasortkey\" data-sort-value=\"Russia\"><span class=\"flagicon\"><img alt=\"\" src=\"//upload.wikimedia.org/wikipedia/en/thumb/f/f3/Flag_of_Russia.svg/23px-Flag_of_Russia.svg.png\" decoding=\"async\" width=\"23\" height=\"15\" class=\"thumbborder\" srcset=\"//upload.wikimedia.org/wikipedia/en/thumb/f/f3/Flag_of_Russia.svg/35px-Flag_of_Russia.svg.png 1.5x, //upload.wikimedia.org/wikipedia/en/thumb/f/f3/Flag_of_Russia.svg/45px-Flag_of_Russia.svg.png 2x\" data-file-width=\"900\" data-file-height=\"600\" />&#160;</span><a href=\"/wiki/Russia\" title=\"Russia\">Russia</a></span>\\n</td></tr>\\n<tr>\\n<td><a href=\"/wiki/LinkedIn\" title=\"LinkedIn\">LinkedIn</a>\\n</td>\\n<td>linkedin.com\\n</td>\\n<td>23 (<img alt=\"Increase\" src=\"//upload.wikimedia.org/wikipedia/commons/thumb/b/b0/Increase2.svg/11px-Increase2.svg.png\" decoding=\"async\" title=\"Increase\" width=\"11\" height=\"11\" srcset=\"//upload.wikimedia.org/wikipedia/commons/thumb/b/b0/Increase2.svg/17px-Increase2.svg.png 1.5x, //upload.wikimedia.org/wikipedia/commons/thumb/b/b0/Increase2.svg/22px-Increase2.svg.png 2x\" data-file-width=\"300\" data-file-height=\"300\" />1)\\n</td>\\n<td>Computers Electronics and Technology &gt; Social Media Networks\\n</td>\\n<td><span class=\"datasortkey\" data-sort-value=\"United States\"><span class=\"flagicon\"><img alt=\"\" src=\"//upload.wikimedia.org/wikipedia/en/thumb/a/a4/Flag_of_the_United_States.svg/23px-Flag_of_the_United_States.svg.png\" decoding=\"async\" width=\"23\" height=\"12\" class=\"thumbborder\" srcset=\"//upload.wikimedia.org/wikipedia/en/thumb/a/a4/Flag_of_the_United_States.svg/35px-Flag_of_the_United_States.svg.png 1.5x, //upload.wikimedia.org/wikipedia/en/thumb/a/a4/Flag_of_the_United_States.svg/46px-Flag_of_the_United_States.svg.png 2x\" data-file-width=\"1235\" data-file-height=\"650\" />&#160;</span><a href=\"/wiki/United_States\" title=\"United States\">United States</a></span>\\n</td></tr>\\n<tr>\\n<td><a href=\"/wiki/XHamster\" title=\"XHamster\">xHamster</a>\\n</td>\\n<td>xhamster.com\\n</td>\\n<td>24 (<img alt=\"Steady\" src=\"//upload.wikimedia.org/wikipedia/commons/thumb/9/96/Steady2.svg/11px-Steady2.svg.png\" decoding=\"async\" title=\"Steady\" width=\"11\" height=\"11\" srcset=\"//upload.wikimedia.org/wikipedia/commons/thumb/9/96/Steady2.svg/17px-Steady2.svg.png 1.5x, //upload.wikimedia.org/wikipedia/commons/thumb/9/96/Steady2.svg/22px-Steady2.svg.png 2x\" data-file-width=\"300\" data-file-height=\"300\" />)\\n</td>\\n<td>Adult\\n</td>\\n<td><span class=\"datasortkey\" data-sort-value=\"Cyprus\"><span class=\"flagicon\"><img alt=\"\" src=\"//upload.wikimedia.org/wikipedia/commons/thumb/d/d4/Flag_of_Cyprus.svg/23px-Flag_of_Cyprus.svg.png\" decoding=\"async\" width=\"23\" height=\"15\" class=\"thumbborder\" srcset=\"//upload.wikimedia.org/wikipedia/commons/thumb/d/d4/Flag_of_Cyprus.svg/35px-Flag_of_Cyprus.svg.png 1.5x, //upload.wikimedia.org/wikipedia/commons/thumb/d/d4/Flag_of_Cyprus.svg/45px-Flag_of_Cyprus.svg.png 2x\" data-file-width=\"900\" data-file-height=\"600\" />&#160;</span><a href=\"/wiki/Cyprus\" title=\"Cyprus\">Cyprus</a></span>\\n</td></tr>\\n<tr>\\n<td><a href=\"/wiki/Discord_(software)\" class=\"mw-redirect\" title=\"Discord (software)\">Discord</a>\\n</td>\\n<td>discord.com\\n</td>\\n<td>25 (<img alt=\"Steady\" src=\"//upload.wikimedia.org/wikipedia/commons/thumb/9/96/Steady2.svg/11px-Steady2.svg.png\" decoding=\"async\" title=\"Steady\" width=\"11\" height=\"11\" srcset=\"//upload.wikimedia.org/wikipedia/commons/thumb/9/96/Steady2.svg/17px-Steady2.svg.png 1.5x, //upload.wikimedia.org/wikipedia/commons/thumb/9/96/Steady2.svg/22px-Steady2.svg.png 2x\" data-file-width=\"300\" data-file-height=\"300\" />)\\n</td>\\n<td>Computers Electronics and Technology &gt; Social Media Networks\\n</td>\\n<td><span class=\"datasortkey\" data-sort-value=\"United States\"><span class=\"flagicon\"><img alt=\"\" src=\"//upload.wikimedia.org/wikipedia/en/thumb/a/a4/Flag_of_the_United_States.svg/23px-Flag_of_the_United_States.svg.png\" decoding=\"async\" width=\"23\" height=\"12\" class=\"thumbborder\" srcset=\"//upload.wikimedia.org/wikipedia/en/thumb/a/a4/Flag_of_the_United_States.svg/35px-Flag_of_the_United_States.svg.png 1.5x, //upload.wikimedia.org/wikipedia/en/thumb/a/a4/Flag_of_the_United_States.svg/46px-Flag_of_the_United_States.svg.png 2x\" data-file-width=\"1235\" data-file-height=\"650\" />&#160;</span><a href=\"/wiki/United_States\" title=\"United States\">United States</a></span>\\n</td></tr>\\n<tr>\\n<td><a href=\"/wiki/Zoom_(software)\" title=\"Zoom (software)\">Zoom</a>\\n</td>\\n<td>zoom.us\\n</td>\\n<td>26 (<img alt=\"Decrease\" src=\"//upload.wikimedia.org/wikipedia/commons/thumb/e/ed/Decrease2.svg/11px-Decrease2.svg.png\" decoding=\"async\" title=\"Decrease\" width=\"11\" height=\"11\" srcset=\"//upload.wikimedia.org/wikipedia/commons/thumb/e/ed/Decrease2.svg/17px-Decrease2.svg.png 1.5x, //upload.wikimedia.org/wikipedia/commons/thumb/e/ed/Decrease2.svg/22px-Decrease2.svg.png 2x\" data-file-width=\"300\" data-file-height=\"300\" />4)\\n</td>\\n<td>Computers Electronics and Technology &gt; Other Computers Electronics and Technology\\n</td>\\n<td><span class=\"datasortkey\" data-sort-value=\"United States\"><span class=\"flagicon\"><img alt=\"\" src=\"//upload.wikimedia.org/wikipedia/en/thumb/a/a4/Flag_of_the_United_States.svg/23px-Flag_of_the_United_States.svg.png\" decoding=\"async\" width=\"23\" height=\"12\" class=\"thumbborder\" srcset=\"//upload.wikimedia.org/wikipedia/en/thumb/a/a4/Flag_of_the_United_States.svg/35px-Flag_of_the_United_States.svg.png 1.5x, //upload.wikimedia.org/wikipedia/en/thumb/a/a4/Flag_of_the_United_States.svg/46px-Flag_of_the_United_States.svg.png 2x\" data-file-width=\"1235\" data-file-height=\"650\" />&#160;</span><a href=\"/wiki/United_States\" title=\"United States\">United States</a></span>\\n</td></tr>\\n<tr>\\n<td><a href=\"/wiki/Twitch_(service)\" title=\"Twitch (service)\">Twitch</a>\\n</td>\\n<td>twitch.tv\\n</td>\\n<td>27 (<img alt=\"Decrease\" src=\"//upload.wikimedia.org/wikipedia/commons/thumb/e/ed/Decrease2.svg/11px-Decrease2.svg.png\" decoding=\"async\" title=\"Decrease\" width=\"11\" height=\"11\" srcset=\"//upload.wikimedia.org/wikipedia/commons/thumb/e/ed/Decrease2.svg/17px-Decrease2.svg.png 1.5x, //upload.wikimedia.org/wikipedia/commons/thumb/e/ed/Decrease2.svg/22px-Decrease2.svg.png 2x\" data-file-width=\"300\" data-file-height=\"300\" />2)\\n</td>\\n<td>Games &gt; Video Games Consoles and Accessories\\n</td>\\n<td><span class=\"datasortkey\" data-sort-value=\"United States\"><span class=\"flagicon\"><img alt=\"\" src=\"//upload.wikimedia.org/wikipedia/en/thumb/a/a4/Flag_of_the_United_States.svg/23px-Flag_of_the_United_States.svg.png\" decoding=\"async\" width=\"23\" height=\"12\" class=\"thumbborder\" srcset=\"//upload.wikimedia.org/wikipedia/en/thumb/a/a4/Flag_of_the_United_States.svg/35px-Flag_of_the_United_States.svg.png 1.5x, //upload.wikimedia.org/wikipedia/en/thumb/a/a4/Flag_of_the_United_States.svg/46px-Flag_of_the_United_States.svg.png 2x\" data-file-width=\"1235\" data-file-height=\"650\" />&#160;</span><a href=\"/wiki/United_States\" title=\"United States\">United States</a></span>\\n</td></tr>\\n<tr>\\n<td><a href=\"/wiki/Naver\" title=\"Naver\">Naver</a>\\n</td>\\n<td>naver.com\\n</td>\\n<td>28 (<img alt=\"Steady\" src=\"//upload.wikimedia.org/wikipedia/commons/thumb/9/96/Steady2.svg/11px-Steady2.svg.png\" decoding=\"async\" title=\"Steady\" width=\"11\" height=\"11\" srcset=\"//upload.wikimedia.org/wikipedia/commons/thumb/9/96/Steady2.svg/17px-Steady2.svg.png 1.5x, //upload.wikimedia.org/wikipedia/commons/thumb/9/96/Steady2.svg/22px-Steady2.svg.png 2x\" data-file-width=\"300\" data-file-height=\"300\" />)\\n</td>\\n<td>News &amp; Media Publishers\\n</td>\\n<td><span class=\"datasortkey\" data-sort-value=\"South Korea\"><span class=\"flagicon\"><img alt=\"\" src=\"//upload.wikimedia.org/wikipedia/commons/thumb/0/09/Flag_of_South_Korea.svg/23px-Flag_of_South_Korea.svg.png\" decoding=\"async\" width=\"23\" height=\"15\" class=\"thumbborder\" srcset=\"//upload.wikimedia.org/wikipedia/commons/thumb/0/09/Flag_of_South_Korea.svg/35px-Flag_of_South_Korea.svg.png 1.5x, //upload.wikimedia.org/wikipedia/commons/thumb/0/09/Flag_of_South_Korea.svg/45px-Flag_of_South_Korea.svg.png 2x\" data-file-width=\"900\" data-file-height=\"600\" />&#160;</span><a href=\"/wiki/South_Korea\" title=\"South Korea\">South Korea</a></span>\\n</td></tr>\\n<tr>\\n<td><a href=\"/wiki/Microsoft_Bing\" title=\"Microsoft Bing\">Bing</a>\\n</td>\\n<td>bing.com\\n</td>\\n<td>29 (<img alt=\"Decrease\" src=\"//upload.wikimedia.org/wikipedia/commons/thumb/e/ed/Decrease2.svg/11px-Decrease2.svg.png\" decoding=\"async\" title=\"Decrease\" width=\"11\" height=\"11\" srcset=\"//upload.wikimedia.org/wikipedia/commons/thumb/e/ed/Decrease2.svg/17px-Decrease2.svg.png 1.5x, //upload.wikimedia.org/wikipedia/commons/thumb/e/ed/Decrease2.svg/22px-Decrease2.svg.png 2x\" data-file-width=\"300\" data-file-height=\"300\" />1)\\n</td>\\n<td>Computers Electronics and Technology &gt; Search Engines\\n</td>\\n<td><span class=\"datasortkey\" data-sort-value=\"United States\"><span class=\"flagicon\"><img alt=\"\" src=\"//upload.wikimedia.org/wikipedia/en/thumb/a/a4/Flag_of_the_United_States.svg/23px-Flag_of_the_United_States.svg.png\" decoding=\"async\" width=\"23\" height=\"12\" class=\"thumbborder\" srcset=\"//upload.wikimedia.org/wikipedia/en/thumb/a/a4/Flag_of_the_United_States.svg/35px-Flag_of_the_United_States.svg.png 1.5x, //upload.wikimedia.org/wikipedia/en/thumb/a/a4/Flag_of_the_United_States.svg/46px-Flag_of_the_United_States.svg.png 2x\" data-file-width=\"1235\" data-file-height=\"650\" />&#160;</span><a href=\"/wiki/United_States\" title=\"United States\">United States</a></span>\\n</td></tr>\\n<tr>\\n<td><a href=\"/wiki/Yandex_Browser\" title=\"Yandex Browser\">Yandex Turbo Pages</a>\\n</td>\\n<td>turbopages.org\\n</td>\\n<td>30 (<img alt=\"Increase\" src=\"//upload.wikimedia.org/wikipedia/commons/thumb/b/b0/Increase2.svg/11px-Increase2.svg.png\" decoding=\"async\" title=\"Increase\" width=\"11\" height=\"11\" srcset=\"//upload.wikimedia.org/wikipedia/commons/thumb/b/b0/Increase2.svg/17px-Increase2.svg.png 1.5x, //upload.wikimedia.org/wikipedia/commons/thumb/b/b0/Increase2.svg/22px-Increase2.svg.png 2x\" data-file-width=\"300\" data-file-height=\"300\" />9)\\n</td>\\n<td>News &amp; Media Publishers\\n</td>\\n<td><span class=\"datasortkey\" data-sort-value=\"Russia\"><span class=\"flagicon\"><img alt=\"\" src=\"//upload.wikimedia.org/wikipedia/en/thumb/f/f3/Flag_of_Russia.svg/23px-Flag_of_Russia.svg.png\" decoding=\"async\" width=\"23\" height=\"15\" class=\"thumbborder\" srcset=\"//upload.wikimedia.org/wikipedia/en/thumb/f/f3/Flag_of_Russia.svg/35px-Flag_of_Russia.svg.png 1.5x, //upload.wikimedia.org/wikipedia/en/thumb/f/f3/Flag_of_Russia.svg/45px-Flag_of_Russia.svg.png 2x\" data-file-width=\"900\" data-file-height=\"600\" />&#160;</span><a href=\"/wiki/Russia\" title=\"Russia\">Russia</a></span>\\n</td></tr>\\n<tr>\\n<td><a href=\"/wiki/Bilibili\" title=\"Bilibili\">Bilibili</a>\\n</td>\\n<td>bilibili.com\\n</td>\\n<td>31 (<img alt=\"Increase\" src=\"//upload.wikimedia.org/wikipedia/commons/thumb/b/b0/Increase2.svg/11px-Increase2.svg.png\" decoding=\"async\" title=\"Increase\" width=\"11\" height=\"11\" srcset=\"//upload.wikimedia.org/wikipedia/commons/thumb/b/b0/Increase2.svg/17px-Increase2.svg.png 1.5x, //upload.wikimedia.org/wikipedia/commons/thumb/b/b0/Increase2.svg/22px-Increase2.svg.png 2x\" data-file-width=\"300\" data-file-height=\"300\" />1)\\n</td>\\n<td>Arts &amp; Entertainment &gt; Animation and Comics\\n</td>\\n<td><span class=\"datasortkey\" data-sort-value=\"China\"><span class=\"flagicon\"><img alt=\"\" src=\"//upload.wikimedia.org/wikipedia/commons/thumb/f/fa/Flag_of_the_People%27s_Republic_of_China.svg/23px-Flag_of_the_People%27s_Republic_of_China.svg.png\" decoding=\"async\" width=\"23\" height=\"15\" class=\"thumbborder\" srcset=\"//upload.wikimedia.org/wikipedia/commons/thumb/f/fa/Flag_of_the_People%27s_Republic_of_China.svg/35px-Flag_of_the_People%27s_Republic_of_China.svg.png 1.5x, //upload.wikimedia.org/wikipedia/commons/thumb/f/fa/Flag_of_the_People%27s_Republic_of_China.svg/45px-Flag_of_the_People%27s_Republic_of_China.svg.png 2x\" data-file-width=\"900\" data-file-height=\"600\" />&#160;</span><a href=\"/wiki/China\" title=\"China\">China</a></span>\\n</td></tr>\\n<tr>\\n<td><a href=\"/wiki/Mail.Ru\" class=\"mw-redirect\" title=\"Mail.Ru\">Mail.Ru</a>\\n</td>\\n<td>mail.ru\\n</td>\\n<td>32 (<img alt=\"Decrease\" src=\"//upload.wikimedia.org/wikipedia/commons/thumb/e/ed/Decrease2.svg/11px-Decrease2.svg.png\" decoding=\"async\" title=\"Decrease\" width=\"11\" height=\"11\" srcset=\"//upload.wikimedia.org/wikipedia/commons/thumb/e/ed/Decrease2.svg/17px-Decrease2.svg.png 1.5x, //upload.wikimedia.org/wikipedia/commons/thumb/e/ed/Decrease2.svg/22px-Decrease2.svg.png 2x\" data-file-width=\"300\" data-file-height=\"300\" />1)\\n</td>\\n<td>Computers Electronics and Technology &gt; Email\\n</td>\\n<td><span class=\"datasortkey\" data-sort-value=\"Russia\"><span class=\"flagicon\"><img alt=\"\" src=\"//upload.wikimedia.org/wikipedia/en/thumb/f/f3/Flag_of_Russia.svg/23px-Flag_of_Russia.svg.png\" decoding=\"async\" width=\"23\" height=\"15\" class=\"thumbborder\" srcset=\"//upload.wikimedia.org/wikipedia/en/thumb/f/f3/Flag_of_Russia.svg/35px-Flag_of_Russia.svg.png 1.5x, //upload.wikimedia.org/wikipedia/en/thumb/f/f3/Flag_of_Russia.svg/45px-Flag_of_Russia.svg.png 2x\" data-file-width=\"900\" data-file-height=\"600\" />&#160;</span><a href=\"/wiki/Russia\" title=\"Russia\">Russia</a></span>\\n</td></tr>\\n<tr>\\n<td><a href=\"/wiki/Roblox\" title=\"Roblox\">Roblox</a>\\n</td>\\n<td>roblox.com\\n</td>\\n<td>33 (<img alt=\"Decrease\" src=\"//upload.wikimedia.org/wikipedia/commons/thumb/e/ed/Decrease2.svg/11px-Decrease2.svg.png\" decoding=\"async\" title=\"Decrease\" width=\"11\" height=\"11\" srcset=\"//upload.wikimedia.org/wikipedia/commons/thumb/e/ed/Decrease2.svg/17px-Decrease2.svg.png 1.5x, //upload.wikimedia.org/wikipedia/commons/thumb/e/ed/Decrease2.svg/22px-Decrease2.svg.png 2x\" data-file-width=\"300\" data-file-height=\"300\" />3)\\n</td>\\n<td>Games &gt; Video Games Consoles and Accessories\\n</td>\\n<td><span class=\"datasortkey\" data-sort-value=\"United States\"><span class=\"flagicon\"><img alt=\"\" src=\"//upload.wikimedia.org/wikipedia/en/thumb/a/a4/Flag_of_the_United_States.svg/23px-Flag_of_the_United_States.svg.png\" decoding=\"async\" width=\"23\" height=\"12\" class=\"thumbborder\" srcset=\"//upload.wikimedia.org/wikipedia/en/thumb/a/a4/Flag_of_the_United_States.svg/35px-Flag_of_the_United_States.svg.png 1.5x, //upload.wikimedia.org/wikipedia/en/thumb/a/a4/Flag_of_the_United_States.svg/46px-Flag_of_the_United_States.svg.png 2x\" data-file-width=\"1235\" data-file-height=\"650\" />&#160;</span><a href=\"/wiki/United_States\" title=\"United States\">United States</a></span>\\n</td></tr>\\n<tr>\\n<td><a href=\"/wiki/Microsoft_Online\" class=\"mw-redirect\" title=\"Microsoft Online\">Microsoft Online</a>\\n</td>\\n<td>microsoftonline.com\\n</td>\\n<td>34 (<img alt=\"Decrease\" src=\"//upload.wikimedia.org/wikipedia/commons/thumb/e/ed/Decrease2.svg/11px-Decrease2.svg.png\" decoding=\"async\" title=\"Decrease\" width=\"11\" height=\"11\" srcset=\"//upload.wikimedia.org/wikipedia/commons/thumb/e/ed/Decrease2.svg/17px-Decrease2.svg.png 1.5x, //upload.wikimedia.org/wikipedia/commons/thumb/e/ed/Decrease2.svg/22px-Decrease2.svg.png 2x\" data-file-width=\"300\" data-file-height=\"300\" />1)\\n</td>\\n<td>Computers Electronics and Technology &gt; Programming and Developer Software\\n</td>\\n<td><span class=\"datasortkey\" data-sort-value=\"United States\"><span class=\"flagicon\"><img alt=\"\" src=\"//upload.wikimedia.org/wikipedia/en/thumb/a/a4/Flag_of_the_United_States.svg/23px-Flag_of_the_United_States.svg.png\" decoding=\"async\" width=\"23\" height=\"12\" class=\"thumbborder\" srcset=\"//upload.wikimedia.org/wikipedia/en/thumb/a/a4/Flag_of_the_United_States.svg/35px-Flag_of_the_United_States.svg.png 1.5x, //upload.wikimedia.org/wikipedia/en/thumb/a/a4/Flag_of_the_United_States.svg/46px-Flag_of_the_United_States.svg.png 2x\" data-file-width=\"1235\" data-file-height=\"650\" />&#160;</span><a href=\"/wiki/United_States\" title=\"United States\">United States</a></span>\\n</td></tr>\\n<tr>\\n<td><a href=\"/wiki/DuckDuckGo\" title=\"DuckDuckGo\">DuckDuckGo</a>\\n</td>\\n<td>duckduckgo.com\\n</td>\\n<td>35 (<img alt=\"Decrease\" src=\"//upload.wikimedia.org/wikipedia/commons/thumb/e/ed/Decrease2.svg/11px-Decrease2.svg.png\" decoding=\"async\" title=\"Decrease\" width=\"11\" height=\"11\" srcset=\"//upload.wikimedia.org/wikipedia/commons/thumb/e/ed/Decrease2.svg/17px-Decrease2.svg.png 1.5x, //upload.wikimedia.org/wikipedia/commons/thumb/e/ed/Decrease2.svg/22px-Decrease2.svg.png 2x\" data-file-width=\"300\" data-file-height=\"300\" />1)\\n</td>\\n<td>Computers Electronics and Technology &gt; Search Engines\\n</td>\\n<td><span class=\"datasortkey\" data-sort-value=\"United States\"><span class=\"flagicon\"><img alt=\"\" src=\"//upload.wikimedia.org/wikipedia/en/thumb/a/a4/Flag_of_the_United_States.svg/23px-Flag_of_the_United_States.svg.png\" decoding=\"async\" width=\"23\" height=\"12\" class=\"thumbborder\" srcset=\"//upload.wikimedia.org/wikipedia/en/thumb/a/a4/Flag_of_the_United_States.svg/35px-Flag_of_the_United_States.svg.png 1.5x, //upload.wikimedia.org/wikipedia/en/thumb/a/a4/Flag_of_the_United_States.svg/46px-Flag_of_the_United_States.svg.png 2x\" data-file-width=\"1235\" data-file-height=\"650\" />&#160;</span><a href=\"/wiki/United_States\" title=\"United States\">United States</a></span>\\n</td></tr>\\n<tr>\\n<td><a href=\"/wiki/Pinterest\" title=\"Pinterest\">Pinterest</a>\\n</td>\\n<td>pinterest.com\\n</td>\\n<td>36 (<img alt=\"Decrease\" src=\"//upload.wikimedia.org/wikipedia/commons/thumb/e/ed/Decrease2.svg/11px-Decrease2.svg.png\" decoding=\"async\" title=\"Decrease\" width=\"11\" height=\"11\" srcset=\"//upload.wikimedia.org/wikipedia/commons/thumb/e/ed/Decrease2.svg/17px-Decrease2.svg.png 1.5x, //upload.wikimedia.org/wikipedia/commons/thumb/e/ed/Decrease2.svg/22px-Decrease2.svg.png 2x\" data-file-width=\"300\" data-file-height=\"300\" />2)\\n</td>\\n<td>Computers Electronics and Technology &gt; Social Media Networks\\n</td>\\n<td><span class=\"datasortkey\" data-sort-value=\"United States\"><span class=\"flagicon\"><img alt=\"\" src=\"//upload.wikimedia.org/wikipedia/en/thumb/a/a4/Flag_of_the_United_States.svg/23px-Flag_of_the_United_States.svg.png\" decoding=\"async\" width=\"23\" height=\"12\" class=\"thumbborder\" srcset=\"//upload.wikimedia.org/wikipedia/en/thumb/a/a4/Flag_of_the_United_States.svg/35px-Flag_of_the_United_States.svg.png 1.5x, //upload.wikimedia.org/wikipedia/en/thumb/a/a4/Flag_of_the_United_States.svg/46px-Flag_of_the_United_States.svg.png 2x\" data-file-width=\"1235\" data-file-height=\"650\" />&#160;</span><a href=\"/wiki/United_States\" title=\"United States\">United States</a></span>\\n</td></tr>\\n<tr>\\n<td><a href=\"/wiki/Tencent_QQ\" title=\"Tencent QQ\">QQ</a>\\n</td>\\n<td>qq.com\\n</td>\\n<td>37 (<img alt=\"Decrease\" src=\"//upload.wikimedia.org/wikipedia/commons/thumb/e/ed/Decrease2.svg/11px-Decrease2.svg.png\" decoding=\"async\" title=\"Decrease\" width=\"11\" height=\"11\" srcset=\"//upload.wikimedia.org/wikipedia/commons/thumb/e/ed/Decrease2.svg/17px-Decrease2.svg.png 1.5x, //upload.wikimedia.org/wikipedia/commons/thumb/e/ed/Decrease2.svg/22px-Decrease2.svg.png 2x\" data-file-width=\"300\" data-file-height=\"300\" />3)\\n</td>\\n<td>News &amp; Media Publishers\\n</td>\\n<td><span class=\"datasortkey\" data-sort-value=\"China\"><span class=\"flagicon\"><img alt=\"\" src=\"//upload.wikimedia.org/wikipedia/commons/thumb/f/fa/Flag_of_the_People%27s_Republic_of_China.svg/23px-Flag_of_the_People%27s_Republic_of_China.svg.png\" decoding=\"async\" width=\"23\" height=\"15\" class=\"thumbborder\" srcset=\"//upload.wikimedia.org/wikipedia/commons/thumb/f/fa/Flag_of_the_People%27s_Republic_of_China.svg/35px-Flag_of_the_People%27s_Republic_of_China.svg.png 1.5x, //upload.wikimedia.org/wikipedia/commons/thumb/f/fa/Flag_of_the_People%27s_Republic_of_China.svg/45px-Flag_of_the_People%27s_Republic_of_China.svg.png 2x\" data-file-width=\"900\" data-file-height=\"600\" />&#160;</span><a href=\"/wiki/China\" title=\"China\">China</a></span>\\n</td></tr>\\n<tr>\\n<td><a href=\"/wiki/MSN\" title=\"MSN\">MSN</a>\\n</td>\\n<td>msn.com\\n</td>\\n<td>38 (<img alt=\"Increase\" src=\"//upload.wikimedia.org/wikipedia/commons/thumb/b/b0/Increase2.svg/11px-Increase2.svg.png\" decoding=\"async\" title=\"Increase\" width=\"11\" height=\"11\" srcset=\"//upload.wikimedia.org/wikipedia/commons/thumb/b/b0/Increase2.svg/17px-Increase2.svg.png 1.5x, //upload.wikimedia.org/wikipedia/commons/thumb/b/b0/Increase2.svg/22px-Increase2.svg.png 2x\" data-file-width=\"300\" data-file-height=\"300\" />1)\\n</td>\\n<td>News &amp; Media Publishers\\n</td>\\n<td><span class=\"datasortkey\" data-sort-value=\"United States\"><span class=\"flagicon\"><img alt=\"\" src=\"//upload.wikimedia.org/wikipedia/en/thumb/a/a4/Flag_of_the_United_States.svg/23px-Flag_of_the_United_States.svg.png\" decoding=\"async\" width=\"23\" height=\"12\" class=\"thumbborder\" srcset=\"//upload.wikimedia.org/wikipedia/en/thumb/a/a4/Flag_of_the_United_States.svg/35px-Flag_of_the_United_States.svg.png 1.5x, //upload.wikimedia.org/wikipedia/en/thumb/a/a4/Flag_of_the_United_States.svg/46px-Flag_of_the_United_States.svg.png 2x\" data-file-width=\"1235\" data-file-height=\"650\" />&#160;</span><a href=\"/wiki/United_States\" title=\"United States\">United States</a></span>\\n</td></tr>\\n<tr>\\n<td><a href=\"/wiki/Yahoo!_News\" title=\"Yahoo! News\">Yahoo! News</a>\\n</td>\\n<td>news.yahoo.co.jp\\n</td>\\n<td>39 (<img alt=\"Decrease\" src=\"//upload.wikimedia.org/wikipedia/commons/thumb/e/ed/Decrease2.svg/11px-Decrease2.svg.png\" decoding=\"async\" title=\"Decrease\" width=\"11\" height=\"11\" srcset=\"//upload.wikimedia.org/wikipedia/commons/thumb/e/ed/Decrease2.svg/17px-Decrease2.svg.png 1.5x, //upload.wikimedia.org/wikipedia/commons/thumb/e/ed/Decrease2.svg/22px-Decrease2.svg.png 2x\" data-file-width=\"300\" data-file-height=\"300\" />2)\\n</td>\\n<td>News &amp; Media Publishers\\n</td>\\n<td><span class=\"datasortkey\" data-sort-value=\"United States\"><span class=\"flagicon\"><img alt=\"\" src=\"//upload.wikimedia.org/wikipedia/en/thumb/a/a4/Flag_of_the_United_States.svg/23px-Flag_of_the_United_States.svg.png\" decoding=\"async\" width=\"23\" height=\"12\" class=\"thumbborder\" srcset=\"//upload.wikimedia.org/wikipedia/en/thumb/a/a4/Flag_of_the_United_States.svg/35px-Flag_of_the_United_States.svg.png 1.5x, //upload.wikimedia.org/wikipedia/en/thumb/a/a4/Flag_of_the_United_States.svg/46px-Flag_of_the_United_States.svg.png 2x\" data-file-width=\"1235\" data-file-height=\"650\" />&#160;</span><a href=\"/wiki/United_States\" title=\"United States\">United States</a></span>\\n</td></tr>\\n<tr>\\n<td><a href=\"/wiki/Microsoft\" title=\"Microsoft\">Microsoft</a>\\n</td>\\n<td>microsoft.com\\n</td>\\n<td>40 (<img alt=\"Decrease\" src=\"//upload.wikimedia.org/wikipedia/commons/thumb/e/ed/Decrease2.svg/11px-Decrease2.svg.png\" decoding=\"async\" title=\"Decrease\" width=\"11\" height=\"11\" srcset=\"//upload.wikimedia.org/wikipedia/commons/thumb/e/ed/Decrease2.svg/17px-Decrease2.svg.png 1.5x, //upload.wikimedia.org/wikipedia/commons/thumb/e/ed/Decrease2.svg/22px-Decrease2.svg.png 2x\" data-file-width=\"300\" data-file-height=\"300\" />1)\\n</td>\\n<td>Computers Electronics and Technology &gt; Programming and Developer Software\\n</td>\\n<td><span class=\"datasortkey\" data-sort-value=\"United States\"><span class=\"flagicon\"><img alt=\"\" src=\"//upload.wikimedia.org/wikipedia/en/thumb/a/a4/Flag_of_the_United_States.svg/23px-Flag_of_the_United_States.svg.png\" decoding=\"async\" width=\"23\" height=\"12\" class=\"thumbborder\" srcset=\"//upload.wikimedia.org/wikipedia/en/thumb/a/a4/Flag_of_the_United_States.svg/35px-Flag_of_the_United_States.svg.png 1.5x, //upload.wikimedia.org/wikipedia/en/thumb/a/a4/Flag_of_the_United_States.svg/46px-Flag_of_the_United_States.svg.png 2x\" data-file-width=\"1235\" data-file-height=\"650\" />&#160;</span><a href=\"/wiki/United_States\" title=\"United States\">United States</a></span>\\n</td></tr>\\n<tr>\\n<td>Google BR\\n</td>\\n<td>google.com.br\\n</td>\\n<td>41 (<img alt=\"Decrease\" src=\"//upload.wikimedia.org/wikipedia/commons/thumb/e/ed/Decrease2.svg/11px-Decrease2.svg.png\" decoding=\"async\" title=\"Decrease\" width=\"11\" height=\"11\" srcset=\"//upload.wikimedia.org/wikipedia/commons/thumb/e/ed/Decrease2.svg/17px-Decrease2.svg.png 1.5x, //upload.wikimedia.org/wikipedia/commons/thumb/e/ed/Decrease2.svg/22px-Decrease2.svg.png 2x\" data-file-width=\"300\" data-file-height=\"300\" />1)\\n</td>\\n<td>Computers Electronics and Technology &gt; Search Engines\\n</td>\\n<td><span class=\"datasortkey\" data-sort-value=\"Brazil\"><span class=\"flagicon\"><img alt=\"\" src=\"//upload.wikimedia.org/wikipedia/en/thumb/0/05/Flag_of_Brazil.svg/22px-Flag_of_Brazil.svg.png\" decoding=\"async\" width=\"22\" height=\"15\" class=\"thumbborder\" srcset=\"//upload.wikimedia.org/wikipedia/en/thumb/0/05/Flag_of_Brazil.svg/33px-Flag_of_Brazil.svg.png 1.5x, //upload.wikimedia.org/wikipedia/en/thumb/0/05/Flag_of_Brazil.svg/43px-Flag_of_Brazil.svg.png 2x\" data-file-width=\"720\" data-file-height=\"504\" />&#160;</span><a href=\"/wiki/Brazil\" title=\"Brazil\">Brazil</a></span>\\n</td></tr>\\n<tr>\\n<td><a href=\"/wiki/Accuweather\" class=\"mw-redirect\" title=\"Accuweather\">Accuweather</a>\\n</td>\\n<td>accuweather.com\\n</td>\\n<td>42 (<img alt=\"Increase\" src=\"//upload.wikimedia.org/wikipedia/commons/thumb/b/b0/Increase2.svg/11px-Increase2.svg.png\" decoding=\"async\" title=\"Increase\" width=\"11\" height=\"11\" srcset=\"//upload.wikimedia.org/wikipedia/commons/thumb/b/b0/Increase2.svg/17px-Increase2.svg.png 1.5x, //upload.wikimedia.org/wikipedia/commons/thumb/b/b0/Increase2.svg/22px-Increase2.svg.png 2x\" data-file-width=\"300\" data-file-height=\"300\" />4)\\n</td>\\n<td>Science and Education &gt; Weather\\n</td>\\n<td><span class=\"datasortkey\" data-sort-value=\"United States\"><span class=\"flagicon\"><img alt=\"\" src=\"//upload.wikimedia.org/wikipedia/en/thumb/a/a4/Flag_of_the_United_States.svg/23px-Flag_of_the_United_States.svg.png\" decoding=\"async\" width=\"23\" height=\"12\" class=\"thumbborder\" srcset=\"//upload.wikimedia.org/wikipedia/en/thumb/a/a4/Flag_of_the_United_States.svg/35px-Flag_of_the_United_States.svg.png 1.5x, //upload.wikimedia.org/wikipedia/en/thumb/a/a4/Flag_of_the_United_States.svg/46px-Flag_of_the_United_States.svg.png 2x\" data-file-width=\"1235\" data-file-height=\"650\" />&#160;</span><a href=\"/wiki/United_States\" title=\"United States\">United States</a></span>\\n</td></tr>\\n<tr>\\n<td><a href=\"/wiki/Fandom_(website)\" title=\"Fandom (website)\">Fandom</a>\\n</td>\\n<td>fandom.com\\n</td>\\n<td>43 (<img alt=\"Decrease\" src=\"//upload.wikimedia.org/wikipedia/commons/thumb/e/ed/Decrease2.svg/11px-Decrease2.svg.png\" decoding=\"async\" title=\"Decrease\" width=\"11\" height=\"11\" srcset=\"//upload.wikimedia.org/wikipedia/commons/thumb/e/ed/Decrease2.svg/17px-Decrease2.svg.png 1.5x, //upload.wikimedia.org/wikipedia/commons/thumb/e/ed/Decrease2.svg/22px-Decrease2.svg.png 2x\" data-file-width=\"300\" data-file-height=\"300\" />1)\\n</td>\\n<td>Arts &amp; Entertainment &gt; Other Arts and Entertainment\\n</td>\\n<td><span class=\"datasortkey\" data-sort-value=\"United States\"><span class=\"flagicon\"><img alt=\"\" src=\"//upload.wikimedia.org/wikipedia/en/thumb/a/a4/Flag_of_the_United_States.svg/23px-Flag_of_the_United_States.svg.png\" decoding=\"async\" width=\"23\" height=\"12\" class=\"thumbborder\" srcset=\"//upload.wikimedia.org/wikipedia/en/thumb/a/a4/Flag_of_the_United_States.svg/35px-Flag_of_the_United_States.svg.png 1.5x, //upload.wikimedia.org/wikipedia/en/thumb/a/a4/Flag_of_the_United_States.svg/46px-Flag_of_the_United_States.svg.png 2x\" data-file-width=\"1235\" data-file-height=\"650\" />&#160;</span><a href=\"/wiki/United_States\" title=\"United States\">United States</a></span>\\n</td></tr>\\n<tr>\\n<td><a href=\"/wiki/EBay\" title=\"EBay\">eBay</a>\\n</td>\\n<td>ebay.com\\n</td>\\n<td>44 (<img alt=\"Decrease\" src=\"//upload.wikimedia.org/wikipedia/commons/thumb/e/ed/Decrease2.svg/11px-Decrease2.svg.png\" decoding=\"async\" title=\"Decrease\" width=\"11\" height=\"11\" srcset=\"//upload.wikimedia.org/wikipedia/commons/thumb/e/ed/Decrease2.svg/17px-Decrease2.svg.png 1.5x, //upload.wikimedia.org/wikipedia/commons/thumb/e/ed/Decrease2.svg/22px-Decrease2.svg.png 2x\" data-file-width=\"300\" data-file-height=\"300\" />1)\\n</td>\\n<td>eCommerce &amp; Shopping &gt; Marketplace\\n</td>\\n<td><span class=\"datasortkey\" data-sort-value=\"United States\"><span class=\"flagicon\"><img alt=\"\" src=\"//upload.wikimedia.org/wikipedia/en/thumb/a/a4/Flag_of_the_United_States.svg/23px-Flag_of_the_United_States.svg.png\" decoding=\"async\" width=\"23\" height=\"12\" class=\"thumbborder\" srcset=\"//upload.wikimedia.org/wikipedia/en/thumb/a/a4/Flag_of_the_United_States.svg/35px-Flag_of_the_United_States.svg.png 1.5x, //upload.wikimedia.org/wikipedia/en/thumb/a/a4/Flag_of_the_United_States.svg/46px-Flag_of_the_United_States.svg.png 2x\" data-file-width=\"1235\" data-file-height=\"650\" />&#160;</span><a href=\"/wiki/United_States\" title=\"United States\">United States</a></span>\\n</td></tr>\\n<tr>\\n<td><a href=\"/wiki/Grupo_Globo\" title=\"Grupo Globo\">Globo</a>\\n</td>\\n<td>globo.com\\n</td>\\n<td>45 (<img alt=\"Decrease\" src=\"//upload.wikimedia.org/wikipedia/commons/thumb/e/ed/Decrease2.svg/11px-Decrease2.svg.png\" decoding=\"async\" title=\"Decrease\" width=\"11\" height=\"11\" srcset=\"//upload.wikimedia.org/wikipedia/commons/thumb/e/ed/Decrease2.svg/17px-Decrease2.svg.png 1.5x, //upload.wikimedia.org/wikipedia/commons/thumb/e/ed/Decrease2.svg/22px-Decrease2.svg.png 2x\" data-file-width=\"300\" data-file-height=\"300\" />3)\\n</td>\\n<td>News &amp; Media Publishers\\n</td>\\n<td><span class=\"datasortkey\" data-sort-value=\"Brazil\"><span class=\"flagicon\"><img alt=\"\" src=\"//upload.wikimedia.org/wikipedia/en/thumb/0/05/Flag_of_Brazil.svg/22px-Flag_of_Brazil.svg.png\" decoding=\"async\" width=\"22\" height=\"15\" class=\"thumbborder\" srcset=\"//upload.wikimedia.org/wikipedia/en/thumb/0/05/Flag_of_Brazil.svg/33px-Flag_of_Brazil.svg.png 1.5x, //upload.wikimedia.org/wikipedia/en/thumb/0/05/Flag_of_Brazil.svg/43px-Flag_of_Brazil.svg.png 2x\" data-file-width=\"720\" data-file-height=\"504\" />&#160;</span><a href=\"/wiki/Brazil\" title=\"Brazil\">Brazil</a></span>\\n</td></tr>\\n<tr>\\n<td>RealSRV\\n</td>\\n<td>realsrv.com\\n</td>\\n<td>46 (<img alt=\"Increase\" src=\"//upload.wikimedia.org/wikipedia/commons/thumb/b/b0/Increase2.svg/11px-Increase2.svg.png\" decoding=\"async\" title=\"Increase\" width=\"11\" height=\"11\" srcset=\"//upload.wikimedia.org/wikipedia/commons/thumb/b/b0/Increase2.svg/17px-Increase2.svg.png 1.5x, //upload.wikimedia.org/wikipedia/commons/thumb/b/b0/Increase2.svg/22px-Increase2.svg.png 2x\" data-file-width=\"300\" data-file-height=\"300\" />3)\\n</td>\\n<td>Adult\\n</td>\\n<td><span class=\"datasortkey\" data-sort-value=\"United States\"><span class=\"flagicon\"><img alt=\"\" src=\"//upload.wikimedia.org/wikipedia/en/thumb/a/a4/Flag_of_the_United_States.svg/23px-Flag_of_the_United_States.svg.png\" decoding=\"async\" width=\"23\" height=\"12\" class=\"thumbborder\" srcset=\"//upload.wikimedia.org/wikipedia/en/thumb/a/a4/Flag_of_the_United_States.svg/35px-Flag_of_the_United_States.svg.png 1.5x, //upload.wikimedia.org/wikipedia/en/thumb/a/a4/Flag_of_the_United_States.svg/46px-Flag_of_the_United_States.svg.png 2x\" data-file-width=\"1235\" data-file-height=\"650\" />&#160;</span><a href=\"/wiki/United_States\" title=\"United States\">United States</a></span>\\n</td></tr>\\n<tr>\\n<td><a href=\"/wiki/Samsung\" title=\"Samsung\">Samsung</a>\\n</td>\\n<td>samsung.com\\n</td>\\n<td>47 (<img alt=\"Decrease\" src=\"//upload.wikimedia.org/wikipedia/commons/thumb/e/ed/Decrease2.svg/11px-Decrease2.svg.png\" decoding=\"async\" title=\"Decrease\" width=\"11\" height=\"11\" srcset=\"//upload.wikimedia.org/wikipedia/commons/thumb/e/ed/Decrease2.svg/17px-Decrease2.svg.png 1.5x, //upload.wikimedia.org/wikipedia/commons/thumb/e/ed/Decrease2.svg/22px-Decrease2.svg.png 2x\" data-file-width=\"300\" data-file-height=\"300\" />4)\\n</td>\\n<td>Computers Electronics and Technology &gt; Consumer Electronics\\n</td>\\n<td><span class=\"datasortkey\" data-sort-value=\"South Korea\"><span class=\"flagicon\"><img alt=\"\" src=\"//upload.wikimedia.org/wikipedia/commons/thumb/0/09/Flag_of_South_Korea.svg/23px-Flag_of_South_Korea.svg.png\" decoding=\"async\" width=\"23\" height=\"15\" class=\"thumbborder\" srcset=\"//upload.wikimedia.org/wikipedia/commons/thumb/0/09/Flag_of_South_Korea.svg/35px-Flag_of_South_Korea.svg.png 1.5x, //upload.wikimedia.org/wikipedia/commons/thumb/0/09/Flag_of_South_Korea.svg/45px-Flag_of_South_Korea.svg.png 2x\" data-file-width=\"900\" data-file-height=\"600\" />&#160;</span><a href=\"/wiki/South_Korea\" title=\"South Korea\">South Korea</a></span>\\n</td></tr>\\n<tr>\\n<td><a href=\"/wiki/Weather.com\" class=\"mw-redirect\" title=\"Weather.com\">Weather</a>\\n</td>\\n<td>weather.com\\n</td>\\n<td>48 (<img alt=\"Increase\" src=\"//upload.wikimedia.org/wikipedia/commons/thumb/b/b0/Increase2.svg/11px-Increase2.svg.png\" decoding=\"async\" title=\"Increase\" width=\"11\" height=\"11\" srcset=\"//upload.wikimedia.org/wikipedia/commons/thumb/b/b0/Increase2.svg/17px-Increase2.svg.png 1.5x, //upload.wikimedia.org/wikipedia/commons/thumb/b/b0/Increase2.svg/22px-Increase2.svg.png 2x\" data-file-width=\"300\" data-file-height=\"300\" />7)\\n</td>\\n<td>Science and Education &gt; Weather\\n</td>\\n<td><span class=\"datasortkey\" data-sort-value=\"United States\"><span class=\"flagicon\"><img alt=\"\" src=\"//upload.wikimedia.org/wikipedia/en/thumb/a/a4/Flag_of_the_United_States.svg/23px-Flag_of_the_United_States.svg.png\" decoding=\"async\" width=\"23\" height=\"12\" class=\"thumbborder\" srcset=\"//upload.wikimedia.org/wikipedia/en/thumb/a/a4/Flag_of_the_United_States.svg/35px-Flag_of_the_United_States.svg.png 1.5x, //upload.wikimedia.org/wikipedia/en/thumb/a/a4/Flag_of_the_United_States.svg/46px-Flag_of_the_United_States.svg.png 2x\" data-file-width=\"1235\" data-file-height=\"650\" />&#160;</span><a href=\"/wiki/United_States\" title=\"United States\">United States</a></span>\\n</td></tr>\\n<tr>\\n<td><a href=\"/wiki/Stripchat\" title=\"Stripchat\">Stripchat</a>\\n</td>\\n<td>stripchat.com\\n</td>\\n<td>49 (<img alt=\"Increase\" src=\"//upload.wikimedia.org/wikipedia/commons/thumb/b/b0/Increase2.svg/11px-Increase2.svg.png\" decoding=\"async\" title=\"Increase\" width=\"11\" height=\"11\" srcset=\"//upload.wikimedia.org/wikipedia/commons/thumb/b/b0/Increase2.svg/17px-Increase2.svg.png 1.5x, //upload.wikimedia.org/wikipedia/commons/thumb/b/b0/Increase2.svg/22px-Increase2.svg.png 2x\" data-file-width=\"300\" data-file-height=\"300\" />3)\\n</td>\\n<td>Adult\\n</td>\\n<td><span class=\"datasortkey\" data-sort-value=\"Cyprus\"><span class=\"flagicon\"><img alt=\"\" src=\"//upload.wikimedia.org/wikipedia/commons/thumb/d/d4/Flag_of_Cyprus.svg/23px-Flag_of_Cyprus.svg.png\" decoding=\"async\" width=\"23\" height=\"15\" class=\"thumbborder\" srcset=\"//upload.wikimedia.org/wikipedia/commons/thumb/d/d4/Flag_of_Cyprus.svg/35px-Flag_of_Cyprus.svg.png 1.5x, //upload.wikimedia.org/wikipedia/commons/thumb/d/d4/Flag_of_Cyprus.svg/45px-Flag_of_Cyprus.svg.png 2x\" data-file-width=\"900\" data-file-height=\"600\" />&#160;</span><a href=\"/wiki/Cyprus\" title=\"Cyprus\">Cyprus</a></span>\\n</td></tr>\\n<tr>\\n<td><a href=\"/wiki/OK.ru\" class=\"mw-redirect\" title=\"OK.ru\">OK.ru</a>\\n</td>\\n<td>ok.ru\\n</td>\\n<td>50 (<img alt=\"Decrease\" src=\"//upload.wikimedia.org/wikipedia/commons/thumb/e/ed/Decrease2.svg/11px-Decrease2.svg.png\" decoding=\"async\" title=\"Decrease\" width=\"11\" height=\"11\" srcset=\"//upload.wikimedia.org/wikipedia/commons/thumb/e/ed/Decrease2.svg/17px-Decrease2.svg.png 1.5x, //upload.wikimedia.org/wikipedia/commons/thumb/e/ed/Decrease2.svg/22px-Decrease2.svg.png 2x\" data-file-width=\"300\" data-file-height=\"300\" />1)\\n</td>\\n<td>Computers Electronics and Technology &gt; Social Media Networks\\n</td>\\n<td><span class=\"datasortkey\" data-sort-value=\"Russia\"><span class=\"flagicon\"><img alt=\"\" src=\"//upload.wikimedia.org/wikipedia/en/thumb/f/f3/Flag_of_Russia.svg/23px-Flag_of_Russia.svg.png\" decoding=\"async\" width=\"23\" height=\"15\" class=\"thumbborder\" srcset=\"//upload.wikimedia.org/wikipedia/en/thumb/f/f3/Flag_of_Russia.svg/35px-Flag_of_Russia.svg.png 1.5x, //upload.wikimedia.org/wikipedia/en/thumb/f/f3/Flag_of_Russia.svg/45px-Flag_of_Russia.svg.png 2x\" data-file-width=\"900\" data-file-height=\"600\" />&#160;</span><a href=\"/wiki/Russia\" title=\"Russia\">Russia</a></span>\\n</td></tr></tbody></table>\\n<h2><span class=\"mw-headline\" id=\"References\">References</span></h2>\\n<style data-mw-deduplicate=\"TemplateStyles:r1011085734\">.mw-parser-output .reflist{font-size:90%;margin-bottom:0.5em;list-style-type:decimal}.mw-parser-output .reflist .references{font-size:100%;margin-bottom:0;list-style-type:inherit}.mw-parser-output .reflist-columns-2{column-width:30em}.mw-parser-output .reflist-columns-3{column-width:25em}.mw-parser-output .reflist-columns{margin-top:0.3em}.mw-parser-output .reflist-columns ol{margin-top:0}.mw-parser-output .reflist-columns li{page-break-inside:avoid;break-inside:avoid-column}.mw-parser-output .reflist-upper-alpha{list-style-type:upper-alpha}.mw-parser-output .reflist-upper-roman{list-style-type:upper-roman}.mw-parser-output .reflist-lower-alpha{list-style-type:lower-alpha}.mw-parser-output .reflist-lower-greek{list-style-type:lower-greek}.mw-parser-output .reflist-lower-roman{list-style-type:lower-roman}</style><div class=\"reflist\">\\n<div class=\"mw-references-wrap\"><ol class=\"references\">\\n<li id=\"cite_note-Similarweb-1\"><span class=\"mw-cite-backlink\"><b><a href=\"#cite_ref-Similarweb_1-0\">^</a></b></span> <span class=\"reference-text\"><style data-mw-deduplicate=\"TemplateStyles:r1067248974\">.mw-parser-output cite.citation{font-style:inherit;word-wrap:break-word}.mw-parser-output .citation q{quotes:\"\\\\\"\"\"\\\\\"\"\"\\'\"\"\\'\"}.mw-parser-output .citation:target{background-color:rgba(0,127,255,0.133)}.mw-parser-output .id-lock-free a,.mw-parser-output .citation .cs1-lock-free a{background:linear-gradient(transparent,transparent),url(\"//upload.wikimedia.org/wikipedia/commons/6/65/Lock-green.svg\")right 0.1em center/9px no-repeat}.mw-parser-output .id-lock-limited a,.mw-parser-output .id-lock-registration a,.mw-parser-output .citation .cs1-lock-limited a,.mw-parser-output .citation .cs1-lock-registration a{background:linear-gradient(transparent,transparent),url(\"//upload.wikimedia.org/wikipedia/commons/d/d6/Lock-gray-alt-2.svg\")right 0.1em center/9px no-repeat}.mw-parser-output .id-lock-subscription a,.mw-parser-output .citation .cs1-lock-subscription a{background:linear-gradient(transparent,transparent),url(\"//upload.wikimedia.org/wikipedia/commons/a/aa/Lock-red-alt-2.svg\")right 0.1em center/9px no-repeat}.mw-parser-output .cs1-ws-icon a{background:linear-gradient(transparent,transparent),url(\"//upload.wikimedia.org/wikipedia/commons/4/4c/Wikisource-logo.svg\")right 0.1em center/12px no-repeat}.mw-parser-output .cs1-code{color:inherit;background:inherit;border:none;padding:inherit}.mw-parser-output .cs1-hidden-error{display:none;color:#d33}.mw-parser-output .cs1-visible-error{color:#d33}.mw-parser-output .cs1-maint{display:none;color:#3a3;margin-left:0.3em}.mw-parser-output .cs1-format{font-size:95%}.mw-parser-output .cs1-kern-left{padding-left:0.2em}.mw-parser-output .cs1-kern-right{padding-right:0.2em}.mw-parser-output .citation .mw-selflink{font-weight:inherit}</style><cite class=\"citation web cs1\"><a rel=\"nofollow\" class=\"external text\" href=\"https://www.similarweb.com/top-websites/\">\"Similarweb Top Websites Ranking\"</a>. <i><a href=\"/wiki/Similarweb\" title=\"Similarweb\">Similarweb</a></i><span class=\"reference-accessdate\">. Retrieved <span class=\"nowrap\">June 20,</span> 2022</span>.</cite><span title=\"ctx_ver=Z39.88-2004&amp;rft_val_fmt=info%3Aofi%2Ffmt%3Akev%3Amtx%3Ajournal&amp;rft.genre=unknown&amp;rft.jtitle=Similarweb&amp;rft.atitle=Similarweb+Top+Websites+Ranking&amp;rft_id=https%3A%2F%2Fwww.similarweb.com%2Ftop-websites%2F&amp;rfr_id=info%3Asid%2Fen.wikipedia.org%3AList+of+most+visited+websites\" class=\"Z3988\"></span></span>\\n</li>\\n</ol></div></div>\\n<style data-mw-deduplicate=\"TemplateStyles:r1093522707\">.mw-parser-output .portal-bar{font-size:88%;font-weight:bold;display:flex;justify-content:center;align-items:baseline}.mw-parser-output .portal-bar-bordered{padding:0 2em;background-color:#fdfdfd;border:1px solid #a2a9b1;clear:both;margin:1em auto 0}.mw-parser-output .portal-bar-related{font-size:100%;justify-content:flex-start}.mw-parser-output .portal-bar-unbordered{padding:0 1.7em;margin-left:0}.mw-parser-output .portal-bar-header{margin:0 1em 0 0.5em;flex:0 0 auto;min-height:24px}.mw-parser-output .portal-bar-content{display:flex;flex-flow:row wrap;flex:0 1 auto;padding:0.15em 0;column-gap:1em;align-items:baseline}.mw-parser-output .portal-bar-content-related{}.mw-parser-output .portal-bar-item{display:inline-block;margin:0.15em 0.2em;min-height:24px;line-height:24px}@media screen and (max-width:768px){.mw-parser-output .portal-bar{font-size:88%;font-weight:bold;display:flex;flex-flow:column wrap;align-items:baseline}.mw-parser-output .portal-bar-header{text-align:center;flex:0;padding-left:0.5em;margin:0 auto}.mw-parser-output .portal-bar-related{font-size:100%;align-items:flex-start}.mw-parser-output .portal-bar-content{display:flex;flex-flow:row wrap;align-items:center;flex:0;column-gap:1em;border-top:1px solid #a2a9b1;margin:0 auto}.mw-parser-output .portal-bar-content-related{border-top:none;margin:0}}.mw-parser-output .navbox+link+.portal-bar-bordered{margin-top:-1px}.mw-parser-output .navbox+style+.portal-bar-bordered{margin-top:-1px}.mw-parser-output .portal-bar+.navbox-styles+.navbox{margin-top:-1px}</style><div class=\"portal-bar noprint metadata noviewer portal-bar-bordered\" role=\"navigation\" aria-label=\"Portals\"><span class=\"portal-bar-header\"><a href=\"/wiki/Wikipedia:Contents/Portals\" title=\"Wikipedia:Contents/Portals\">Portals</a>:</span><div class=\"portal-bar-content\"><span class=\"portal-bar-item\"><a href=\"/wiki/File:Crystal_Clear_app_linneighborhood.svg\" class=\"image\"><img alt=\"icon\" src=\"//upload.wikimedia.org/wikipedia/commons/thumb/f/f9/Crystal_Clear_app_linneighborhood.svg/19px-Crystal_Clear_app_linneighborhood.svg.png\" decoding=\"async\" width=\"19\" height=\"19\" srcset=\"//upload.wikimedia.org/wikipedia/commons/thumb/f/f9/Crystal_Clear_app_linneighborhood.svg/29px-Crystal_Clear_app_linneighborhood.svg.png 1.5x, //upload.wikimedia.org/wikipedia/commons/thumb/f/f9/Crystal_Clear_app_linneighborhood.svg/38px-Crystal_Clear_app_linneighborhood.svg.png 2x\" data-file-width=\"407\" data-file-height=\"407\" /></a>&#160;<a href=\"/wiki/Portal:Internet\" title=\"Portal:Internet\">Internet</a></span><span class=\"portal-bar-item\"><img alt=\"\" src=\"//upload.wikimedia.org/wikipedia/commons/thumb/2/20/Text-x-generic.svg/19px-Text-x-generic.svg.png\" decoding=\"async\" width=\"19\" height=\"19\" srcset=\"//upload.wikimedia.org/wikipedia/commons/thumb/2/20/Text-x-generic.svg/29px-Text-x-generic.svg.png 1.5x, //upload.wikimedia.org/wikipedia/commons/thumb/2/20/Text-x-generic.svg/38px-Text-x-generic.svg.png 2x\" data-file-width=\"48\" data-file-height=\"48\" />&#160;<a href=\"/wiki/Portal:Lists\" class=\"mw-redirect\" title=\"Portal:Lists\">Lists</a></span></div></div>\\n<!-- \\nNewPP limit report\\nParsed by mw1407\\nCached time: 20220818195906\\nCache expiry: 1814400\\nReduced expiry: false\\nComplications: [vary‐revision‐sha1]\\nCPU time usage: 0.487 seconds\\nReal time usage: 0.596 seconds\\nPreprocessor visited node count: 8158/1000000\\nPost‐expand include size: 53561/2097152 bytes\\nTemplate argument size: 12744/2097152 bytes\\nHighest expansion depth: 21/100\\nExpensive parser function count: 5/500\\nUnstrip recursion depth: 1/20\\nUnstrip post‐expand size: 5908/5000000 bytes\\nLua time usage: 0.183/10.000 seconds\\nLua memory usage: 3216408/52428800 bytes\\nNumber of Wikibase entities loaded: 0/400\\n-->\\n<!--\\nTransclusion expansion time report (%,ms,calls,template)\\n100.00%  460.931      1 -total\\n 29.40%  135.514     50 Template:Flagcountry\\n 22.31%  102.845      1 Template:Reflist\\n 19.16%   88.327      1 Template:Cite_web\\n 14.37%   66.231      1 Template:Short_description\\n  9.69%   44.667      1 Template:Pp-semi-indef\\n  8.66%   39.939     50 Template:Flagcountry/core\\n  7.78%   35.867      2 Template:As_of\\n  7.56%   34.840     30 Template:Country_data_United_States\\n  7.24%   33.363      1 Template:Portalbar\\n-->\\n\\n<!-- Saved in parser cache with key enwiki:pcache:idhash:37716939-0!canonical and timestamp 20220818195905 and revision id 1104044269.\\n -->\\n</div><noscript><img src=\"//en.wikipedia.org/wiki/Special:CentralAutoLogin/start?type=1x1\" alt=\"\" title=\"\" width=\"1\" height=\"1\" style=\"border: none; position: absolute;\" /></noscript>\\n<div class=\"printfooter\">Retrieved from \"<a dir=\"ltr\" href=\"https://en.wikipedia.org/w/index.php?title=List_of_most_visited_websites&amp;oldid=1104044269\">https://en.wikipedia.org/w/index.php?title=List_of_most_visited_websites&amp;oldid=1104044269</a>\"</div></div>\\n\\t\\t<div id=\"catlinks\" class=\"catlinks\" data-mw=\"interface\"><div id=\"mw-normal-catlinks\" class=\"mw-normal-catlinks\"><a href=\"/wiki/Help:Category\" title=\"Help:Category\">Categories</a>: <ul><li><a href=\"/wiki/Category:Lists_of_Internet-related_superlatives\" title=\"Category:Lists of Internet-related superlatives\">Lists of Internet-related superlatives</a></li><li><a href=\"/wiki/Category:Lists_of_most_popular_media\" title=\"Category:Lists of most popular media\">Lists of most popular media</a></li><li><a href=\"/wiki/Category:Lists_of_websites\" title=\"Category:Lists of websites\">Lists of websites</a></li></ul></div><div id=\"mw-hidden-catlinks\" class=\"mw-hidden-catlinks mw-hidden-cats-hidden\">Hidden categories: <ul><li><a href=\"/wiki/Category:Articles_with_short_description\" title=\"Category:Articles with short description\">Articles with short description</a></li><li><a href=\"/wiki/Category:Short_description_is_different_from_Wikidata\" title=\"Category:Short description is different from Wikidata\">Short description is different from Wikidata</a></li><li><a href=\"/wiki/Category:Wikipedia_indefinitely_semi-protected_pages\" title=\"Category:Wikipedia indefinitely semi-protected pages\">Wikipedia indefinitely semi-protected pages</a></li><li><a href=\"/wiki/Category:Dynamic_lists\" title=\"Category:Dynamic lists\">Dynamic lists</a></li><li><a href=\"/wiki/Category:Articles_containing_potentially_dated_statements_from_May_2022\" title=\"Category:Articles containing potentially dated statements from May 2022\">Articles containing potentially dated statements from May 2022</a></li><li><a href=\"/wiki/Category:All_articles_containing_potentially_dated_statements\" title=\"Category:All articles containing potentially dated statements\">All articles containing potentially dated statements</a></li></ul></div></div>\\n\\t</div>\\n</div>\\n\\n<div id=\"mw-navigation\">\\n\\t<h2>Navigation menu</h2>\\n\\t<div id=\"mw-head\">\\n\\t\\t\\n\\n<nav id=\"p-personal\" class=\"vector-menu mw-portlet mw-portlet-personal vector-user-menu-legacy\" aria-labelledby=\"p-personal-label\" role=\"navigation\"  >\\n\\t<h3\\n\\t\\tid=\"p-personal-label\"\\n\\t\\t\\n\\t\\tclass=\"vector-menu-heading \"\\n\\t>\\n\\t\\t<span class=\"vector-menu-heading-label\">Personal tools</span>\\n\\t</h3>\\n\\t<div class=\"vector-menu-content\">\\n\\t\\t\\n\\t\\t<ul class=\"vector-menu-content-list\"><li id=\"pt-anonuserpage\" class=\"mw-list-item\"><span title=\"The user page for the IP address you are editing as\">Not logged in</span></li><li id=\"pt-anontalk\" class=\"mw-list-item\"><a href=\"/wiki/Special:MyTalk\" title=\"Discussion about edits from this IP address [n]\" accesskey=\"n\"><span>Talk</span></a></li><li id=\"pt-anoncontribs\" class=\"mw-list-item\"><a href=\"/wiki/Special:MyContributions\" title=\"A list of edits made from this IP address [y]\" accesskey=\"y\"><span>Contributions</span></a></li><li id=\"pt-createaccount\" class=\"mw-list-item\"><a href=\"/w/index.php?title=Special:CreateAccount&amp;returnto=List+of+most+visited+websites\" title=\"You are encouraged to create an account and log in; however, it is not mandatory\"><span>Create account</span></a></li><li id=\"pt-login\" class=\"mw-list-item\"><a href=\"/w/index.php?title=Special:UserLogin&amp;returnto=List+of+most+visited+websites\" title=\"You&#039;re encouraged to log in; however, it&#039;s not mandatory. [o]\" accesskey=\"o\"><span>Log in</span></a></li></ul>\\n\\t\\t\\n\\t</div>\\n</nav>\\n\\n\\t\\t<div id=\"left-navigation\">\\n\\t\\t\\t\\n\\n<nav id=\"p-namespaces\" class=\"vector-menu mw-portlet mw-portlet-namespaces vector-menu-tabs vector-menu-tabs-legacy\" aria-labelledby=\"p-namespaces-label\" role=\"navigation\"  >\\n\\t<h3\\n\\t\\tid=\"p-namespaces-label\"\\n\\t\\t\\n\\t\\tclass=\"vector-menu-heading \"\\n\\t>\\n\\t\\t<span class=\"vector-menu-heading-label\">Namespaces</span>\\n\\t</h3>\\n\\t<div class=\"vector-menu-content\">\\n\\t\\t\\n\\t\\t<ul class=\"vector-menu-content-list\"><li id=\"ca-nstab-main\" class=\"selected mw-list-item\"><a href=\"/wiki/List_of_most_visited_websites\" title=\"View the content page [c]\" accesskey=\"c\"><span>Article</span></a></li><li id=\"ca-talk\" class=\"mw-list-item\"><a href=\"/wiki/Talk:List_of_most_visited_websites\" rel=\"discussion\" title=\"Discuss improvements to the content page [t]\" accesskey=\"t\"><span>Talk</span></a></li></ul>\\n\\t\\t\\n\\t</div>\\n</nav>\\n\\n\\t\\t\\t\\n\\n<nav id=\"p-variants\" class=\"vector-menu mw-portlet mw-portlet-variants emptyPortlet vector-menu-dropdown-noicon vector-menu-dropdown\" aria-labelledby=\"p-variants-label\" role=\"navigation\"  >\\n\\t<input type=\"checkbox\"\\n\\t\\tid=\"p-variants-checkbox\"\\n\\t\\trole=\"button\"\\n\\t\\taria-haspopup=\"true\"\\n\\t\\tdata-event-name=\"ui.dropdown-p-variants\"\\n\\t\\tclass=\"vector-menu-checkbox\"\\n\\t\\taria-labelledby=\"p-variants-label\"\\n\\t/>\\n\\t<label\\n\\t\\tid=\"p-variants-label\"\\n\\t\\t aria-label=\"Change language variant\"\\n\\t\\tclass=\"vector-menu-heading \"\\n\\t>\\n\\t\\t<span class=\"vector-menu-heading-label\">English</span>\\n\\t</label>\\n\\t<div class=\"vector-menu-content\">\\n\\t\\t\\n\\t\\t<ul class=\"vector-menu-content-list\"></ul>\\n\\t\\t\\n\\t</div>\\n</nav>\\n\\n\\t\\t</div>\\n\\t\\t<div id=\"right-navigation\">\\n\\t\\t\\t\\n\\n<nav id=\"p-views\" class=\"vector-menu mw-portlet mw-portlet-views vector-menu-tabs vector-menu-tabs-legacy\" aria-labelledby=\"p-views-label\" role=\"navigation\"  >\\n\\t<h3\\n\\t\\tid=\"p-views-label\"\\n\\t\\t\\n\\t\\tclass=\"vector-menu-heading \"\\n\\t>\\n\\t\\t<span class=\"vector-menu-heading-label\">Views</span>\\n\\t</h3>\\n\\t<div class=\"vector-menu-content\">\\n\\t\\t\\n\\t\\t<ul class=\"vector-menu-content-list\"><li id=\"ca-view\" class=\"selected mw-list-item\"><a href=\"/wiki/List_of_most_visited_websites\"><span>Read</span></a></li><li id=\"ca-viewsource\" class=\"mw-list-item\"><a href=\"/w/index.php?title=List_of_most_visited_websites&amp;action=edit\" title=\"This page is protected.&#10;You can view its source [e]\" accesskey=\"e\"><span>View source</span></a></li><li id=\"ca-history\" class=\"mw-list-item\"><a href=\"/w/index.php?title=List_of_most_visited_websites&amp;action=history\" title=\"Past revisions of this page [h]\" accesskey=\"h\"><span>View history</span></a></li></ul>\\n\\t\\t\\n\\t</div>\\n</nav>\\n\\n\\t\\t\\t\\n\\n<nav id=\"p-cactions\" class=\"vector-menu mw-portlet mw-portlet-cactions emptyPortlet vector-menu-dropdown-noicon vector-menu-dropdown\" aria-labelledby=\"p-cactions-label\" role=\"navigation\"  title=\"More options\" >\\n\\t<input type=\"checkbox\"\\n\\t\\tid=\"p-cactions-checkbox\"\\n\\t\\trole=\"button\"\\n\\t\\taria-haspopup=\"true\"\\n\\t\\tdata-event-name=\"ui.dropdown-p-cactions\"\\n\\t\\tclass=\"vector-menu-checkbox\"\\n\\t\\taria-labelledby=\"p-cactions-label\"\\n\\t/>\\n\\t<label\\n\\t\\tid=\"p-cactions-label\"\\n\\t\\t\\n\\t\\tclass=\"vector-menu-heading \"\\n\\t>\\n\\t\\t<span class=\"vector-menu-heading-label\">More</span>\\n\\t</label>\\n\\t<div class=\"vector-menu-content\">\\n\\t\\t\\n\\t\\t<ul class=\"vector-menu-content-list\"></ul>\\n\\t\\t\\n\\t</div>\\n</nav>\\n\\n\\t\\t\\t\\n<div id=\"p-search\" role=\"search\" class=\"vector-search-box-vue  vector-search-box-show-thumbnail vector-search-box-auto-expand-width vector-search-box\">\\n\\t<div>\\n\\t\\t\\t<h3 >\\n\\t\\t\\t\\t<label for=\"searchInput\">Search</label>\\n\\t\\t\\t</h3>\\n\\t\\t<form action=\"/w/index.php\" id=\"searchform\"\\n\\t\\t\\tclass=\"vector-search-box-form\">\\n\\t\\t\\t<div id=\"simpleSearch\"\\n\\t\\t\\t\\tclass=\"vector-search-box-inner\"\\n\\t\\t\\t\\t data-search-loc=\"header-navigation\">\\n\\t\\t\\t\\t<input class=\"vector-search-box-input\"\\n\\t\\t\\t\\t\\t type=\"search\" name=\"search\" placeholder=\"Search Wikipedia\" aria-label=\"Search Wikipedia\" autocapitalize=\"sentences\" title=\"Search Wikipedia [f]\" accesskey=\"f\" id=\"searchInput\"\\n\\t\\t\\t\\t>\\n\\t\\t\\t\\t<input type=\"hidden\" name=\"title\" value=\"Special:Search\">\\n\\t\\t\\t\\t<input id=\"mw-searchButton\"\\n\\t\\t\\t\\t\\t class=\"searchButton mw-fallbackSearchButton\" type=\"submit\" name=\"fulltext\" title=\"Search Wikipedia for this text\" value=\"Search\">\\n\\t\\t\\t\\t<input id=\"searchButton\"\\n\\t\\t\\t\\t\\t class=\"searchButton\" type=\"submit\" name=\"go\" title=\"Go to a page with this exact name if it exists\" value=\"Go\">\\n\\t\\t\\t</div>\\n\\t\\t</form>\\n\\t</div>\\n</div>\\n\\n\\t\\t</div>\\n\\t</div>\\n\\t\\n\\n<div id=\"mw-panel\">\\n\\t<div id=\"p-logo\" role=\"banner\">\\n\\t\\t<a class=\"mw-wiki-logo\" href=\"/wiki/Main_Page\"\\n\\t\\t\\ttitle=\"Visit the main page\"></a>\\n\\t</div>\\n\\t\\n\\n<nav id=\"p-navigation\" class=\"vector-menu mw-portlet mw-portlet-navigation vector-menu-portal portal\" aria-labelledby=\"p-navigation-label\" role=\"navigation\"  >\\n\\t<h3\\n\\t\\tid=\"p-navigation-label\"\\n\\t\\t\\n\\t\\tclass=\"vector-menu-heading \"\\n\\t>\\n\\t\\t<span class=\"vector-menu-heading-label\">Navigation</span>\\n\\t</h3>\\n\\t<div class=\"vector-menu-content\">\\n\\t\\t\\n\\t\\t<ul class=\"vector-menu-content-list\"><li id=\"n-mainpage-description\" class=\"mw-list-item\"><a href=\"/wiki/Main_Page\" title=\"Visit the main page [z]\" accesskey=\"z\"><span>Main page</span></a></li><li id=\"n-contents\" class=\"mw-list-item\"><a href=\"/wiki/Wikipedia:Contents\" title=\"Guides to browsing Wikipedia\"><span>Contents</span></a></li><li id=\"n-currentevents\" class=\"mw-list-item\"><a href=\"/wiki/Portal:Current_events\" title=\"Articles related to current events\"><span>Current events</span></a></li><li id=\"n-randompage\" class=\"mw-list-item\"><a href=\"/wiki/Special:Random\" title=\"Visit a randomly selected article [x]\" accesskey=\"x\"><span>Random article</span></a></li><li id=\"n-aboutsite\" class=\"mw-list-item\"><a href=\"/wiki/Wikipedia:About\" title=\"Learn about Wikipedia and how it works\"><span>About Wikipedia</span></a></li><li id=\"n-contactpage\" class=\"mw-list-item\"><a href=\"//en.wikipedia.org/wiki/Wikipedia:Contact_us\" title=\"How to contact Wikipedia\"><span>Contact us</span></a></li><li id=\"n-sitesupport\" class=\"mw-list-item\"><a href=\"https://donate.wikimedia.org/wiki/Special:FundraiserRedirector?utm_source=donate&amp;utm_medium=sidebar&amp;utm_campaign=C13_en.wikipedia.org&amp;uselang=en\" title=\"Support us by donating to the Wikimedia Foundation\"><span>Donate</span></a></li></ul>\\n\\t\\t\\n\\t</div>\\n</nav>\\n\\n\\t\\n\\n<nav id=\"p-interaction\" class=\"vector-menu mw-portlet mw-portlet-interaction vector-menu-portal portal\" aria-labelledby=\"p-interaction-label\" role=\"navigation\"  >\\n\\t<h3\\n\\t\\tid=\"p-interaction-label\"\\n\\t\\t\\n\\t\\tclass=\"vector-menu-heading \"\\n\\t>\\n\\t\\t<span class=\"vector-menu-heading-label\">Contribute</span>\\n\\t</h3>\\n\\t<div class=\"vector-menu-content\">\\n\\t\\t\\n\\t\\t<ul class=\"vector-menu-content-list\"><li id=\"n-help\" class=\"mw-list-item\"><a href=\"/wiki/Help:Contents\" title=\"Guidance on how to use and edit Wikipedia\"><span>Help</span></a></li><li id=\"n-introduction\" class=\"mw-list-item\"><a href=\"/wiki/Help:Introduction\" title=\"Learn how to edit Wikipedia\"><span>Learn to edit</span></a></li><li id=\"n-portal\" class=\"mw-list-item\"><a href=\"/wiki/Wikipedia:Community_portal\" title=\"The hub for editors\"><span>Community portal</span></a></li><li id=\"n-recentchanges\" class=\"mw-list-item\"><a href=\"/wiki/Special:RecentChanges\" title=\"A list of recent changes to Wikipedia [r]\" accesskey=\"r\"><span>Recent changes</span></a></li><li id=\"n-upload\" class=\"mw-list-item\"><a href=\"/wiki/Wikipedia:File_Upload_Wizard\" title=\"Add images or other media for use on Wikipedia\"><span>Upload file</span></a></li></ul>\\n\\t\\t\\n\\t</div>\\n</nav>\\n\\n\\n<nav id=\"p-tb\" class=\"vector-menu mw-portlet mw-portlet-tb vector-menu-portal portal\" aria-labelledby=\"p-tb-label\" role=\"navigation\"  >\\n\\t<h3\\n\\t\\tid=\"p-tb-label\"\\n\\t\\t\\n\\t\\tclass=\"vector-menu-heading \"\\n\\t>\\n\\t\\t<span class=\"vector-menu-heading-label\">Tools</span>\\n\\t</h3>\\n\\t<div class=\"vector-menu-content\">\\n\\t\\t\\n\\t\\t<ul class=\"vector-menu-content-list\"><li id=\"t-whatlinkshere\" class=\"mw-list-item\"><a href=\"/wiki/Special:WhatLinksHere/List_of_most_visited_websites\" title=\"List of all English Wikipedia pages containing links to this page [j]\" accesskey=\"j\"><span>What links here</span></a></li><li id=\"t-recentchangeslinked\" class=\"mw-list-item\"><a href=\"/wiki/Special:RecentChangesLinked/List_of_most_visited_websites\" rel=\"nofollow\" title=\"Recent changes in pages linked from this page [k]\" accesskey=\"k\"><span>Related changes</span></a></li><li id=\"t-upload\" class=\"mw-list-item\"><a href=\"/wiki/Wikipedia:File_Upload_Wizard\" title=\"Upload files [u]\" accesskey=\"u\"><span>Upload file</span></a></li><li id=\"t-specialpages\" class=\"mw-list-item\"><a href=\"/wiki/Special:SpecialPages\" title=\"A list of all special pages [q]\" accesskey=\"q\"><span>Special pages</span></a></li><li id=\"t-permalink\" class=\"mw-list-item\"><a href=\"/w/index.php?title=List_of_most_visited_websites&amp;oldid=1104044269\" title=\"Permanent link to this revision of this page\"><span>Permanent link</span></a></li><li id=\"t-info\" class=\"mw-list-item\"><a href=\"/w/index.php?title=List_of_most_visited_websites&amp;action=info\" title=\"More information about this page\"><span>Page information</span></a></li><li id=\"t-cite\" class=\"mw-list-item\"><a href=\"/w/index.php?title=Special:CiteThisPage&amp;page=List_of_most_visited_websites&amp;id=1104044269&amp;wpFormIdentifier=titleform\" title=\"Information on how to cite this page\"><span>Cite this page</span></a></li><li id=\"t-wikibase\" class=\"mw-list-item\"><a href=\"https://www.wikidata.org/wiki/Special:EntityPage/Q6629082\" title=\"Structured data on this page hosted by Wikidata [g]\" accesskey=\"g\"><span>Wikidata item</span></a></li></ul>\\n\\t\\t\\n\\t</div>\\n</nav>\\n\\n\\n<nav id=\"p-coll-print_export\" class=\"vector-menu mw-portlet mw-portlet-coll-print_export vector-menu-portal portal\" aria-labelledby=\"p-coll-print_export-label\" role=\"navigation\"  >\\n\\t<h3\\n\\t\\tid=\"p-coll-print_export-label\"\\n\\t\\t\\n\\t\\tclass=\"vector-menu-heading \"\\n\\t>\\n\\t\\t<span class=\"vector-menu-heading-label\">Print/export</span>\\n\\t</h3>\\n\\t<div class=\"vector-menu-content\">\\n\\t\\t\\n\\t\\t<ul class=\"vector-menu-content-list\"><li id=\"coll-download-as-rl\" class=\"mw-list-item\"><a href=\"/w/index.php?title=Special:DownloadAsPdf&amp;page=List_of_most_visited_websites&amp;action=show-download-screen\" title=\"Download this page as a PDF file\"><span>Download as PDF</span></a></li><li id=\"t-print\" class=\"mw-list-item\"><a href=\"/w/index.php?title=List_of_most_visited_websites&amp;printable=yes\" title=\"Printable version of this page [p]\" accesskey=\"p\"><span>Printable version</span></a></li></ul>\\n\\t\\t\\n\\t</div>\\n</nav>\\n\\n\\t\\n\\n<nav id=\"p-lang\" class=\"vector-menu mw-portlet mw-portlet-lang vector-menu-portal portal\" aria-labelledby=\"p-lang-label\" role=\"navigation\"  >\\n\\t<h3\\n\\t\\tid=\"p-lang-label\"\\n\\t\\t\\n\\t\\tclass=\"vector-menu-heading \"\\n\\t>\\n\\t\\t<span class=\"vector-menu-heading-label\">Languages</span>\\n\\t</h3>\\n\\t<div class=\"vector-menu-content\">\\n\\t\\t\\n\\t\\t<ul class=\"vector-menu-content-list\"><li class=\"interlanguage-link interwiki-ar mw-list-item\"><a href=\"https://ar.wikipedia.org/wiki/%D9%82%D8%A7%D8%A6%D9%85%D8%A9_%D9%85%D9%88%D8%A7%D9%82%D8%B9_%D8%A7%D9%84%D8%A5%D9%86%D8%AA%D8%B1%D9%86%D8%AA_%D8%A7%D9%84%D8%A3%D9%83%D8%AB%D8%B1_%D8%B2%D9%8A%D8%A7%D8%B1%D8%A9\" title=\"قائمة مواقع الإنترنت الأكثر زيارة – Arabic\" lang=\"ar\" hreflang=\"ar\" class=\"interlanguage-link-target\"><span>العربية</span></a></li><li class=\"interlanguage-link interwiki-bn mw-list-item\"><a href=\"https://bn.wikipedia.org/wiki/%E0%A6%B8%E0%A6%B0%E0%A7%8D%E0%A6%AC%E0%A6%BE%E0%A6%A7%E0%A6%BF%E0%A6%95_%E0%A6%9C%E0%A6%A8%E0%A6%AA%E0%A7%8D%E0%A6%B0%E0%A6%BF%E0%A6%AF%E0%A6%BC_%E0%A6%93%E0%A6%AF%E0%A6%BC%E0%A7%87%E0%A6%AC%E0%A6%B8%E0%A6%BE%E0%A6%87%E0%A6%9F%E0%A6%B8%E0%A6%AE%E0%A7%82%E0%A6%B9%E0%A7%87%E0%A6%B0_%E0%A6%A4%E0%A6%BE%E0%A6%B2%E0%A6%BF%E0%A6%95%E0%A6%BE\" title=\"সর্বাধিক জনপ্রিয় ওয়েবসাইটসমূহের তালিকা – Bangla\" lang=\"bn\" hreflang=\"bn\" class=\"interlanguage-link-target\"><span>বাংলা</span></a></li><li class=\"interlanguage-link interwiki-bcl mw-list-item\"><a href=\"https://bcl.wikipedia.org/wiki/Lista_kan_Pinakapopular_na_mga_Websityo\" title=\"Lista kan Pinakapopular na mga Websityo – Central Bikol\" lang=\"bcl\" hreflang=\"bcl\" class=\"interlanguage-link-target\"><span>Bikol Central</span></a></li><li class=\"interlanguage-link interwiki-da mw-list-item\"><a href=\"https://da.wikipedia.org/wiki/Mest_popul%C3%A6re_websteder\" title=\"Mest populære websteder – Danish\" lang=\"da\" hreflang=\"da\" class=\"interlanguage-link-target\"><span>Dansk</span></a></li><li class=\"interlanguage-link interwiki-el mw-list-item\"><a href=\"https://el.wikipedia.org/wiki/%CE%9A%CE%B1%CF%84%CE%AC%CE%BB%CE%BF%CE%B3%CE%BF%CF%82_%CF%84%CF%89%CE%BD_%CE%B4%CE%B7%CE%BC%CE%BF%CF%86%CE%B9%CE%BB%CE%AD%CF%83%CF%84%CE%B5%CF%81%CF%89%CE%BD_%CE%B9%CF%83%CF%84%CE%BF%CF%83%CE%B5%CE%BB%CE%AF%CE%B4%CF%89%CE%BD\" title=\"Κατάλογος των δημοφιλέστερων ιστοσελίδων – Greek\" lang=\"el\" hreflang=\"el\" class=\"interlanguage-link-target\"><span>Ελληνικά</span></a></li><li class=\"interlanguage-link interwiki-es mw-list-item\"><a href=\"https://es.wikipedia.org/wiki/Anexo:Sitios_web_m%C3%A1s_visitados\" title=\"Anexo:Sitios web más visitados – Spanish\" lang=\"es\" hreflang=\"es\" class=\"interlanguage-link-target\"><span>Español</span></a></li><li class=\"interlanguage-link interwiki-fa mw-list-item\"><a href=\"https://fa.wikipedia.org/wiki/%D9%81%D9%87%D8%B1%D8%B3%D8%AA_%D9%85%D8%AD%D8%A8%D9%88%D8%A8%E2%80%8C%D8%AA%D8%B1%DB%8C%D9%86_%D9%88%D8%A8%DA%AF%D8%A7%D9%87%E2%80%8C%D9%87%D8%A7\" title=\"فهرست محبوب\\u200cترین وبگاه\\u200cها – Persian\" lang=\"fa\" hreflang=\"fa\" class=\"interlanguage-link-target\"><span>فارسی</span></a></li><li class=\"interlanguage-link interwiki-fr mw-list-item\"><a href=\"https://fr.wikipedia.org/wiki/Sites_internet_les_plus_visit%C3%A9s\" title=\"Sites internet les plus visités – French\" lang=\"fr\" hreflang=\"fr\" class=\"interlanguage-link-target\"><span>Français</span></a></li><li class=\"interlanguage-link interwiki-ko mw-list-item\"><a href=\"https://ko.wikipedia.org/wiki/%EC%9E%90%EC%A3%BC_%EB%B0%A9%EB%AC%B8%ED%95%98%EB%8A%94_%EC%9B%B9%EC%82%AC%EC%9D%B4%ED%8A%B8_%EB%AA%A9%EB%A1%9D\" title=\"자주 방문하는 웹사이트 목록 – Korean\" lang=\"ko\" hreflang=\"ko\" class=\"interlanguage-link-target\"><span>한국어</span></a></li><li class=\"interlanguage-link interwiki-id mw-list-item\"><a href=\"https://id.wikipedia.org/wiki/Daftar_situs_web_terpopuler\" title=\"Daftar situs web terpopuler – Indonesian\" lang=\"id\" hreflang=\"id\" class=\"interlanguage-link-target\"><span>Bahasa Indonesia</span></a></li><li class=\"interlanguage-link interwiki-hu mw-list-item\"><a href=\"https://hu.wikipedia.org/wiki/A_legn%C3%A9pszer%C5%B1bb_weboldalak_list%C3%A1ja\" title=\"A legnépszerűbb weboldalak listája – Hungarian\" lang=\"hu\" hreflang=\"hu\" class=\"interlanguage-link-target\"><span>Magyar</span></a></li><li class=\"interlanguage-link interwiki-ne mw-list-item\"><a href=\"https://ne.wikipedia.org/wiki/%E0%A4%B8%E0%A4%B0%E0%A5%8D%E0%A4%B5%E0%A4%BE%E0%A4%A7%E0%A4%BF%E0%A4%95_%E0%A4%B2%E0%A5%8B%E0%A4%95%E0%A4%AA%E0%A5%8D%E0%A4%B0%E0%A4%BF%E0%A4%AF_%E0%A4%B5%E0%A5%87%E0%A4%AC%E0%A4%B8%E0%A4%BE%E0%A4%87%E0%A4%9F%E0%A4%B9%E0%A4%B0%E0%A5%82%E0%A4%95%E0%A5%8B_%E0%A4%B8%E0%A5%82%E0%A4%9A%E0%A5%80\" title=\"सर्वाधिक लोकप्रिय वेबसाइटहरूको सूची – Nepali\" lang=\"ne\" hreflang=\"ne\" class=\"interlanguage-link-target\"><span>नेपाली</span></a></li><li class=\"interlanguage-link interwiki-ja mw-list-item\"><a href=\"https://ja.wikipedia.org/wiki/%E4%BA%BA%E6%B0%97%E3%81%AE%E3%82%A6%E3%82%A7%E3%83%96%E3%82%B5%E3%82%A4%E3%83%88%E4%B8%80%E8%A6%A7\" title=\"人気のウェブサイト一覧 – Japanese\" lang=\"ja\" hreflang=\"ja\" class=\"interlanguage-link-target\"><span>日本語</span></a></li><li class=\"interlanguage-link interwiki-nqo mw-list-item\"><a href=\"https://nqo.wikipedia.org/wiki/%DF%93%DF%9F%DF%90%DF%9F%DF%90_%DF%9E%DF%8D%DF%A6%DF%99%DF%90_%DF%A1%DF%8D%DF%B2_%DF%A0%DF%8E%DF%AC_%DF%A6%DF%8B%DF%AB_%DF%A1%DF%8A%DF%9D%DF%9F%DF%8D%DF%AB_%DF%9F%DF%8A%DF%AB_%DF%93%DF%8A%DF%9E%DF%8D%DF%AB\" title=\"ߓߟߐߟߐ ߞߍߦߙߐ ߡߍ߲ ߠߎ߬ ߦߋ߫ ߡߊߝߟߍ߫ ߟߊ߫ ߓߊߞߍ߫ – N’Ko\" lang=\"nqo\" hreflang=\"nqo\" class=\"interlanguage-link-target\"><span>ߒߞߏ</span></a></li><li class=\"interlanguage-link interwiki-pa mw-list-item\"><a href=\"https://pa.wikipedia.org/wiki/%E0%A8%AA%E0%A9%8D%E0%A8%B0%E0%A8%B8%E0%A8%BF%E0%A9%B1%E0%A8%A7_%E0%A8%B5%E0%A9%88%E0%A8%AC%E0%A8%B8%E0%A8%BE%E0%A8%88%E0%A8%9F%E0%A8%BE%E0%A8%82_%E0%A8%A6%E0%A9%80_%E0%A8%B8%E0%A9%82%E0%A8%9A%E0%A9%80\" title=\"ਪ੍ਰਸਿੱਧ ਵੈਬਸਾਈਟਾਂ ਦੀ ਸੂਚੀ – Punjabi\" lang=\"pa\" hreflang=\"pa\" class=\"interlanguage-link-target\"><span>ਪੰਜਾਬੀ</span></a></li><li class=\"interlanguage-link interwiki-pt mw-list-item\"><a href=\"https://pt.wikipedia.org/wiki/Lista_de_websites_mais_acessados_do_mundo\" title=\"Lista de websites mais acessados do mundo – Portuguese\" lang=\"pt\" hreflang=\"pt\" class=\"interlanguage-link-target\"><span>Português</span></a></li><li class=\"interlanguage-link interwiki-tl mw-list-item\"><a href=\"https://tl.wikipedia.org/wiki/Talaan_ng_mga_pinakakilalang_websayt\" title=\"Talaan ng mga pinakakilalang websayt – Tagalog\" lang=\"tl\" hreflang=\"tl\" class=\"interlanguage-link-target\"><span>Tagalog</span></a></li><li class=\"interlanguage-link interwiki-tt mw-list-item\"><a href=\"https://tt.wikipedia.org/wiki/%D0%98%D2%A3_%D0%BF%D0%BE%D0%BF%D1%83%D0%BB%D1%8F%D1%80_%D0%B2%D0%B5%D0%B1-%D1%81%D0%B0%D0%B9%D1%82%D0%BB%D0%B0%D1%80_%D0%B8%D1%81%D0%B5%D0%BC%D0%BB%D0%B5%D0%B3%D0%B5\" title=\"Иң популяр веб-сайтлар исемлеге – Tatar\" lang=\"tt\" hreflang=\"tt\" class=\"interlanguage-link-target\"><span>Татарча/tatarça</span></a></li><li class=\"interlanguage-link interwiki-tr mw-list-item\"><a href=\"https://tr.wikipedia.org/wiki/En_pop%C3%BCler_web_siteleri_listesi\" title=\"En popüler web siteleri listesi – Turkish\" lang=\"tr\" hreflang=\"tr\" class=\"interlanguage-link-target\"><span>Türkçe</span></a></li><li class=\"interlanguage-link interwiki-uk mw-list-item\"><a href=\"https://uk.wikipedia.org/wiki/%D0%A1%D0%BF%D0%B8%D1%81%D0%BE%D0%BA_%D0%BD%D0%B0%D0%B9%D0%BF%D0%BE%D0%BF%D1%83%D0%BB%D1%8F%D1%80%D0%BD%D1%96%D1%88%D0%B8%D1%85_%D0%B2%D0%B5%D0%B1%D1%81%D0%B0%D0%B9%D1%82%D1%96%D0%B2\" title=\"Список найпопулярніших вебсайтів – Ukrainian\" lang=\"uk\" hreflang=\"uk\" class=\"interlanguage-link-target\"><span>Українська</span></a></li><li class=\"interlanguage-link interwiki-ur mw-list-item\"><a href=\"https://ur.wikipedia.org/wiki/%D9%85%D8%B4%DB%81%D9%88%D8%B1_%D9%88%DB%8C%D8%A8_%D8%B3%D8%A7%D8%A6%D9%B9%D9%88%DA%BA_%DA%A9%DB%8C_%D9%81%DB%81%D8%B1%D8%B3%D8%AA\" title=\"مشہور ویب سائٹوں کی فہرست – Urdu\" lang=\"ur\" hreflang=\"ur\" class=\"interlanguage-link-target\"><span>اردو</span></a></li><li class=\"interlanguage-link interwiki-vi mw-list-item\"><a href=\"https://vi.wikipedia.org/wiki/Danh_s%C3%A1ch_website_ph%E1%BB%95_bi%E1%BA%BFn_nh%E1%BA%A5t\" title=\"Danh sách website phổ biến nhất – Vietnamese\" lang=\"vi\" hreflang=\"vi\" class=\"interlanguage-link-target\"><span>Tiếng Việt</span></a></li><li class=\"interlanguage-link interwiki-zh mw-list-item\"><a href=\"https://zh.wikipedia.org/wiki/%E6%9C%80%E5%8F%97%E6%AC%A2%E8%BF%8E%E7%BD%91%E7%AB%99%E5%88%97%E8%A1%A8\" title=\"最受欢迎网站列表 – Chinese\" lang=\"zh\" hreflang=\"zh\" class=\"interlanguage-link-target\"><span>中文</span></a></li></ul>\\n\\t\\t<div class=\"after-portlet after-portlet-lang\"><span class=\"wb-langlinks-edit wb-langlinks-link\"><a href=\"https://www.wikidata.org/wiki/Special:EntityPage/Q6629082#sitelinks-wikipedia\" title=\"Edit interlanguage links\" class=\"wbc-editpage\">Edit links</a></span></div>\\n\\t</div>\\n</nav>\\n\\n</div>\\n\\n</div>\\n\\n<footer id=\"footer\" class=\"mw-footer\" role=\"contentinfo\" >\\n\\t<ul id=\"footer-info\">\\n\\t<li id=\"footer-info-lastmod\"> This page was last edited on 12 August 2022, at 07:19<span class=\"anonymous-show\">&#160;(UTC)</span>.</li>\\n\\t<li id=\"footer-info-copyright\">Text is available under the <a rel=\"license\" href=\"//en.wikipedia.org/wiki/Wikipedia:Text_of_Creative_Commons_Attribution-ShareAlike_3.0_Unported_License\">Creative Commons Attribution-ShareAlike License 3.0</a><a rel=\"license\" href=\"//creativecommons.org/licenses/by-sa/3.0/\" style=\"display:none;\"></a>;\\nadditional terms may apply.  By using this site, you agree to the <a href=\"//foundation.wikimedia.org/wiki/Terms_of_Use\">Terms of Use</a> and <a href=\"//foundation.wikimedia.org/wiki/Privacy_policy\">Privacy Policy</a>. Wikipedia® is a registered trademark of the <a href=\"//www.wikimediafoundation.org/\">Wikimedia Foundation, Inc.</a>, a non-profit organization.</li>\\n</ul>\\n\\n\\t<ul id=\"footer-places\">\\n\\t<li id=\"footer-places-privacy\"><a href=\"https://foundation.wikimedia.org/wiki/Privacy_policy\">Privacy policy</a></li>\\n\\t<li id=\"footer-places-about\"><a href=\"/wiki/Wikipedia:About\">About Wikipedia</a></li>\\n\\t<li id=\"footer-places-disclaimer\"><a href=\"/wiki/Wikipedia:General_disclaimer\">Disclaimers</a></li>\\n\\t<li id=\"footer-places-contact\"><a href=\"//en.wikipedia.org/wiki/Wikipedia:Contact_us\">Contact Wikipedia</a></li>\\n\\t<li id=\"footer-places-mobileview\"><a href=\"//en.m.wikipedia.org/w/index.php?title=List_of_most_visited_websites&amp;mobileaction=toggle_view_mobile\" class=\"noprint stopMobileRedirectToggle\">Mobile view</a></li>\\n\\t<li id=\"footer-places-developers\"><a href=\"https://developer.wikimedia.org\">Developers</a></li>\\n\\t<li id=\"footer-places-statslink\"><a href=\"https://stats.wikimedia.org/#/en.wikipedia.org\">Statistics</a></li>\\n\\t<li id=\"footer-places-cookiestatement\"><a href=\"https://foundation.wikimedia.org/wiki/Cookie_statement\">Cookie statement</a></li>\\n</ul>\\n\\n\\t<ul id=\"footer-icons\" class=\"noprint\">\\n\\t<li id=\"footer-copyrightico\"><a href=\"https://wikimediafoundation.org/\"><img src=\"/static/images/footer/wikimedia-button.png\" srcset=\"/static/images/footer/wikimedia-button-1.5x.png 1.5x, /static/images/footer/wikimedia-button-2x.png 2x\" width=\"88\" height=\"31\" alt=\"Wikimedia Foundation\" loading=\"lazy\" /></a></li>\\n\\t<li id=\"footer-poweredbyico\"><a href=\"https://www.mediawiki.org/\"><img src=\"/static/images/footer/poweredby_mediawiki_88x31.png\" alt=\"Powered by MediaWiki\" srcset=\"/static/images/footer/poweredby_mediawiki_132x47.png 1.5x, /static/images/footer/poweredby_mediawiki_176x62.png 2x\" width=\"88\" height=\"31\" loading=\"lazy\"/></a></li>\\n</ul>\\n\\n</footer>\\n\\n<script>(RLQ=window.RLQ||[]).push(function(){mw.config.set({\"wgPageParseReport\":{\"limitreport\":{\"cputime\":\"0.487\",\"walltime\":\"0.596\",\"ppvisitednodes\":{\"value\":8158,\"limit\":1000000},\"postexpandincludesize\":{\"value\":53561,\"limit\":2097152},\"templateargumentsize\":{\"value\":12744,\"limit\":2097152},\"expansiondepth\":{\"value\":21,\"limit\":100},\"expensivefunctioncount\":{\"value\":5,\"limit\":500},\"unstrip-depth\":{\"value\":1,\"limit\":20},\"unstrip-size\":{\"value\":5908,\"limit\":5000000},\"entityaccesscount\":{\"value\":0,\"limit\":400},\"timingprofile\":[\"100.00%  460.931      1 -total\",\" 29.40%  135.514     50 Template:Flagcountry\",\" 22.31%  102.845      1 Template:Reflist\",\" 19.16%   88.327      1 Template:Cite_web\",\" 14.37%   66.231      1 Template:Short_description\",\"  9.69%   44.667      1 Template:Pp-semi-indef\",\"  8.66%   39.939     50 Template:Flagcountry/core\",\"  7.78%   35.867      2 Template:As_of\",\"  7.56%   34.840     30 Template:Country_data_United_States\",\"  7.24%   33.363      1 Template:Portalbar\"]},\"scribunto\":{\"limitreport-timeusage\":{\"value\":\"0.183\",\"limit\":\"10.000\"},\"limitreport-memusage\":{\"value\":3216408,\"limit\":52428800}},\"cachereport\":{\"origin\":\"mw1407\",\"timestamp\":\"20220818195906\",\"ttl\":1814400,\"transientcontent\":false}}});});</script>\\n<script type=\"application/ld+json\">{\"@context\":\"https:\\\\/\\\\/schema.org\",\"@type\":\"Article\",\"name\":\"List of most visited websites\",\"url\":\"https:\\\\/\\\\/en.wikipedia.org\\\\/wiki\\\\/List_of_most_visited_websites\",\"sameAs\":\"http:\\\\/\\\\/www.wikidata.org\\\\/entity\\\\/Q6629082\",\"mainEntity\":\"http:\\\\/\\\\/www.wikidata.org\\\\/entity\\\\/Q6629082\",\"author\":{\"@type\":\"Organization\",\"name\":\"Contributors to Wikimedia projects\"},\"publisher\":{\"@type\":\"Organization\",\"name\":\"Wikimedia Foundation, Inc.\",\"logo\":{\"@type\":\"ImageObject\",\"url\":\"https:\\\\/\\\\/www.wikimedia.org\\\\/static\\\\/images\\\\/wmf-hor-googpub.png\"}},\"datePublished\":\"2012-11-22T20:19:37Z\",\"dateModified\":\"2022-08-12T07:19:20Z\",\"headline\":\"Wikimedia list article\"}</script><script type=\"application/ld+json\">{\"@context\":\"https:\\\\/\\\\/schema.org\",\"@type\":\"Article\",\"name\":\"List of most visited websites\",\"url\":\"https:\\\\/\\\\/en.wikipedia.org\\\\/wiki\\\\/List_of_most_visited_websites\",\"sameAs\":\"http:\\\\/\\\\/www.wikidata.org\\\\/entity\\\\/Q6629082\",\"mainEntity\":\"http:\\\\/\\\\/www.wikidata.org\\\\/entity\\\\/Q6629082\",\"author\":{\"@type\":\"Organization\",\"name\":\"Contributors to Wikimedia projects\"},\"publisher\":{\"@type\":\"Organization\",\"name\":\"Wikimedia Foundation, Inc.\",\"logo\":{\"@type\":\"ImageObject\",\"url\":\"https:\\\\/\\\\/www.wikimedia.org\\\\/static\\\\/images\\\\/wmf-hor-googpub.png\"}},\"datePublished\":\"2012-11-22T20:19:37Z\",\"dateModified\":\"2022-08-12T07:19:20Z\",\"headline\":\"Wikimedia list article\"}</script>\\n<script>(RLQ=window.RLQ||[]).push(function(){mw.config.set({\"wgBackendResponseTime\":105,\"wgHostname\":\"mw1411\"});});</script>\\n</body>\\n</html>'"
      ]
     },
     "execution_count": 29,
     "metadata": {},
     "output_type": "execute_result"
    }
   ],
   "source": [
    "content = requests.get(link).content\n",
    "content.decode('utf-8')"
   ]
  },
  {
   "cell_type": "code",
   "execution_count": 35,
   "metadata": {
    "pycharm": {
     "name": "#%%\n"
    }
   },
   "outputs": [
    {
     "data": {
      "text/plain": [
       "'text/html; charset=UTF-8'"
      ]
     },
     "execution_count": 35,
     "metadata": {},
     "output_type": "execute_result"
    }
   ],
   "source": [
    "# Identificando o charset\n",
    "\n",
    "someRequest = urllib.request.urlopen(link)\n",
    "someRequest.getheader(\"Content-Type\")"
   ]
  },
  {
   "cell_type": "markdown",
   "metadata": {
    "pycharm": {
     "name": "#%% md\n"
    }
   },
   "source": [
    "## Manipulando URL e operações com *urllib* e *requests*"
   ]
  },
  {
   "cell_type": "markdown",
   "metadata": {
    "pycharm": {
     "name": "#%% md\n"
    }
   },
   "source": [
    "### Urllib"
   ]
  },
  {
   "cell_type": "code",
   "execution_count": 36,
   "metadata": {
    "pycharm": {
     "name": "#%%\n"
    }
   },
   "outputs": [
    {
     "data": {
      "text/plain": [
       "['AbstractBasicAuthHandler',\n",
       " 'AbstractDigestAuthHandler',\n",
       " 'AbstractHTTPHandler',\n",
       " 'BaseHandler',\n",
       " 'CacheFTPHandler',\n",
       " 'ContentTooShortError',\n",
       " 'DataHandler',\n",
       " 'FTPHandler',\n",
       " 'FancyURLopener',\n",
       " 'FileHandler',\n",
       " 'HTTPBasicAuthHandler',\n",
       " 'HTTPCookieProcessor',\n",
       " 'HTTPDefaultErrorHandler',\n",
       " 'HTTPDigestAuthHandler',\n",
       " 'HTTPError',\n",
       " 'HTTPErrorProcessor',\n",
       " 'HTTPHandler',\n",
       " 'HTTPPasswordMgr',\n",
       " 'HTTPPasswordMgrWithDefaultRealm',\n",
       " 'HTTPPasswordMgrWithPriorAuth',\n",
       " 'HTTPRedirectHandler',\n",
       " 'HTTPSHandler',\n",
       " 'MAXFTPCACHE',\n",
       " 'OpenerDirector',\n",
       " 'ProxyBasicAuthHandler',\n",
       " 'ProxyDigestAuthHandler',\n",
       " 'ProxyHandler',\n",
       " 'Request',\n",
       " 'URLError',\n",
       " 'URLopener',\n",
       " 'UnknownHandler',\n",
       " '__all__',\n",
       " '__builtins__',\n",
       " '__cached__',\n",
       " '__doc__',\n",
       " '__file__',\n",
       " '__loader__',\n",
       " '__name__',\n",
       " '__package__',\n",
       " '__spec__',\n",
       " '__version__',\n",
       " '_cut_port_re',\n",
       " '_ftperrors',\n",
       " '_have_ssl',\n",
       " '_localhost',\n",
       " '_noheaders',\n",
       " '_opener',\n",
       " '_parse_proxy',\n",
       " '_proxy_bypass_macosx_sysconf',\n",
       " '_randombytes',\n",
       " '_safe_gethostbyname',\n",
       " '_splitattr',\n",
       " '_splithost',\n",
       " '_splitpasswd',\n",
       " '_splitport',\n",
       " '_splitquery',\n",
       " '_splittag',\n",
       " '_splittype',\n",
       " '_splituser',\n",
       " '_splitvalue',\n",
       " '_thishost',\n",
       " '_to_bytes',\n",
       " '_url_tempfiles',\n",
       " 'addclosehook',\n",
       " 'addinfourl',\n",
       " 'base64',\n",
       " 'bisect',\n",
       " 'build_opener',\n",
       " 'contextlib',\n",
       " 'email',\n",
       " 'ftpcache',\n",
       " 'ftperrors',\n",
       " 'ftpwrapper',\n",
       " 'getproxies',\n",
       " 'getproxies_environment',\n",
       " 'getproxies_registry',\n",
       " 'hashlib',\n",
       " 'http',\n",
       " 'install_opener',\n",
       " 'io',\n",
       " 'localhost',\n",
       " 'noheaders',\n",
       " 'os',\n",
       " 'parse_http_list',\n",
       " 'parse_keqv_list',\n",
       " 'pathname2url',\n",
       " 'posixpath',\n",
       " 'proxy_bypass',\n",
       " 'proxy_bypass_environment',\n",
       " 'proxy_bypass_registry',\n",
       " 'quote',\n",
       " 're',\n",
       " 'request_host',\n",
       " 'socket',\n",
       " 'ssl',\n",
       " 'string',\n",
       " 'sys',\n",
       " 'tempfile',\n",
       " 'thishost',\n",
       " 'time',\n",
       " 'unquote',\n",
       " 'unquote_to_bytes',\n",
       " 'unwrap',\n",
       " 'url2pathname',\n",
       " 'urlcleanup',\n",
       " 'urljoin',\n",
       " 'urlopen',\n",
       " 'urlparse',\n",
       " 'urlretrieve',\n",
       " 'urlsplit',\n",
       " 'urlunparse',\n",
       " 'warnings']"
      ]
     },
     "execution_count": 36,
     "metadata": {},
     "output_type": "execute_result"
    }
   ],
   "source": [
    "import urllib.request\n",
    "dir(urllib.request)"
   ]
  },
  {
   "cell_type": "code",
   "execution_count": 46,
   "metadata": {
    "pycharm": {
     "name": "#%%\n"
    }
   },
   "outputs": [
    {
     "name": "stdout",
     "output_type": "stream",
     "text": [
      "<class 'http.client.HTTPResponse'>\n",
      "\n",
      "***************************************************\n",
      "\n",
      "<class 'bytes'>\n",
      "\n",
      "***************************************************\n",
      "\n",
      "<class 'urllib.request.Request'>\n"
     ]
    }
   ],
   "source": [
    "import urllib.request\n",
    "link = 'https://www.google.com'\n",
    "\n",
    "linkRequest = urllib.request.urlopen(link)\n",
    "print(type(linkRequest))\n",
    "\n",
    "print(\"\\n***************************************************\\n\")\n",
    "           \n",
    "linkResponse = urllib.request.urlopen(link).read()\n",
    "print(type(linkResponse))\n",
    "\n",
    "print(\"\\n***************************************************\\n\")\n",
    "\n",
    "requestObj = urllib.request.Request('https:/www.samsclub.com/robots.txt')\n",
    "print(type(requestObj))"
   ]
  },
  {
   "cell_type": "code",
   "execution_count": 47,
   "metadata": {
    "pycharm": {
     "name": "#%%\n"
    }
   },
   "outputs": [
    {
     "data": {
      "text/plain": [
       "200"
      ]
     },
     "execution_count": 47,
     "metadata": {},
     "output_type": "execute_result"
    }
   ],
   "source": [
    "# Capturar o Status da conexão\n",
    "linkRequest.getcode()"
   ]
  },
  {
   "cell_type": "code",
   "execution_count": 48,
   "metadata": {
    "pycharm": {
     "name": "#%%\n"
    }
   },
   "outputs": [
    {
     "data": {
      "text/plain": [
       "'https://www.google.com'"
      ]
     },
     "execution_count": 48,
     "metadata": {},
     "output_type": "execute_result"
    }
   ],
   "source": [
    "# Capturar a URL\n",
    "linkRequest.geturl()"
   ]
  },
  {
   "cell_type": "code",
   "execution_count": 49,
   "metadata": {
    "pycharm": {
     "name": "#%%\n"
    }
   },
   "outputs": [
    {
     "data": {
      "text/plain": [
       "'GET'"
      ]
     },
     "execution_count": 49,
     "metadata": {},
     "output_type": "execute_result"
    }
   ],
   "source": [
    "#Capturar o método\n",
    "linkRequest._method"
   ]
  },
  {
   "cell_type": "code",
   "execution_count": 51,
   "metadata": {
    "pycharm": {
     "name": "#%%\n"
    }
   },
   "outputs": [
    {
     "data": {
      "text/plain": [
       "[('Date', 'Tue, 23 Aug 2022 18:40:05 GMT'),\n",
       " ('Expires', '-1'),\n",
       " ('Cache-Control', 'private, max-age=0'),\n",
       " ('Content-Type', 'text/html; charset=ISO-8859-1'),\n",
       " ('P3P', 'CP=\"This is not a P3P policy! See g.co/p3phelp for more info.\"'),\n",
       " ('Server', 'gws'),\n",
       " ('X-XSS-Protection', '0'),\n",
       " ('X-Frame-Options', 'SAMEORIGIN'),\n",
       " ('Set-Cookie',\n",
       "  '1P_JAR=2022-08-23-18; expires=Thu, 22-Sep-2022 18:40:05 GMT; path=/; domain=.google.com; Secure'),\n",
       " ('Set-Cookie',\n",
       "  'AEC=AakniGO_r9XtSBUfZbGsgBLzaSm12Wv1BnqMRXXzzIwF4NzCT2_zETID4Q; expires=Sun, 19-Feb-2023 18:40:05 GMT; path=/; domain=.google.com; Secure; HttpOnly; SameSite=lax'),\n",
       " ('Set-Cookie',\n",
       "  'NID=511=XTSuwt2eE4GsUkdW7BEt459VH9Et1nPF0mPuWdFOUeN3t7x7YBQHKZk37f9-kMsY3QpD_ta-KAFKNg1hGAGWfwI1wnA_aMTgmKHZ4PqkZLjdKq8NcFl3T8qchBy_R3Gxc3octsdlkNnusC4g5YxzjZjabFCJsFcAstAzLLVbMOw; expires=Wed, 22-Feb-2023 18:40:05 GMT; path=/; domain=.google.com; HttpOnly'),\n",
       " ('Alt-Svc',\n",
       "  'h3=\":443\"; ma=2592000,h3-29=\":443\"; ma=2592000,h3-Q050=\":443\"; ma=2592000,h3-Q046=\":443\"; ma=2592000,h3-Q043=\":443\"; ma=2592000,quic=\":443\"; ma=2592000; v=\"46,43\"'),\n",
       " ('Accept-Ranges', 'none'),\n",
       " ('Vary', 'Accept-Encoding'),\n",
       " ('Connection', 'close'),\n",
       " ('Transfer-Encoding', 'chunked')]"
      ]
     },
     "execution_count": 51,
     "metadata": {},
     "output_type": "execute_result"
    }
   ],
   "source": [
    "# Capturar o HEADERS\n",
    "linkRequest.getheaders()"
   ]
  },
  {
   "cell_type": "code",
   "execution_count": 52,
   "metadata": {
    "pycharm": {
     "name": "#%%\n"
    }
   },
   "outputs": [
    {
     "data": {
      "text/plain": [
       "'CP=\"This is not a P3P policy! See g.co/p3phelp for more info.\"'"
      ]
     },
     "execution_count": 52,
     "metadata": {},
     "output_type": "execute_result"
    }
   ],
   "source": [
    "# Capturar um elemento do Headers\n",
    "\n",
    "linkRequest.getheader(\"P3P\")"
   ]
  },
  {
   "cell_type": "code",
   "execution_count": 55,
   "metadata": {
    "pycharm": {
     "name": "#%%\n"
    }
   },
   "outputs": [
    {
     "data": {
      "text/plain": [
       "'CP=\"This is not a P3P policy! See g.co/p3phelp for more info.\"'"
      ]
     },
     "execution_count": 55,
     "metadata": {},
     "output_type": "execute_result"
    }
   ],
   "source": [
    "linkRequest.info()['P3P']"
   ]
  },
  {
   "cell_type": "code",
   "execution_count": 56,
   "metadata": {
    "pycharm": {
     "name": "#%%\n"
    }
   },
   "outputs": [
    {
     "name": "stdout",
     "output_type": "stream",
     "text": [
      "Error ocorrido: [Errno 11001] getaddrinfo failed\n"
     ]
    }
   ],
   "source": [
    "# Lidando o exceções\n",
    "\n",
    "import urllib.request as request\n",
    "import urllib.error as error\n",
    "\n",
    "\n",
    "try:\n",
    "    request.urlopen('http://www.python.ogr') # Escrito errado!!!!\n",
    "except error.URLError as e:\n",
    "    print(f\"Error ocorrido: {e.reason}\")"
   ]
  },
  {
   "cell_type": "code",
   "execution_count": 58,
   "metadata": {
    "pycharm": {
     "name": "#%%\n"
    }
   },
   "outputs": [
    {
     "name": "stdout",
     "output_type": "stream",
     "text": [
      "['DefragResult', 'DefragResultBytes', 'MAX_CACHE_SIZE', 'ParseResult', 'ParseResultBytes', 'Quoter', 'ResultBase', 'SplitResult', 'SplitResultBytes', '_ALWAYS_SAFE', '_ALWAYS_SAFE_BYTES', '_DefragResultBase', '_NetlocResultMixinBase', '_NetlocResultMixinBytes', '_NetlocResultMixinStr', '_ParseResultBase', '_ResultMixinBytes', '_ResultMixinStr', '_SplitResultBase', '__all__', '__builtins__', '__cached__', '__doc__', '__file__', '__loader__', '__name__', '__package__', '__spec__', '_asciire', '_checknetloc', '_coerce_args', '_decode_args', '_encode_result', '_hexdig', '_hextobyte', '_hostprog', '_implicit_encoding', '_implicit_errors', '_noop', '_parse_cache', '_portprog', '_safe_quoters', '_splitattr', '_splithost', '_splitnetloc', '_splitnport', '_splitparams', '_splitpasswd', '_splitport', '_splitquery', '_splittag', '_splittype', '_splituser', '_splitvalue', '_to_bytes', '_typeprog', 'clear_cache', 'collections', 'namedtuple', 'non_hierarchical', 'parse_qs', 'parse_qsl', 'quote', 'quote_from_bytes', 'quote_plus', 're', 'scheme_chars', 'splitattr', 'splithost', 'splitnport', 'splitpasswd', 'splitport', 'splitquery', 'splittag', 'splittype', 'splituser', 'splitvalue', 'sys', 'to_bytes', 'unquote', 'unquote_plus', 'unquote_to_bytes', 'unwrap', 'urldefrag', 'urlencode', 'urljoin', 'urlparse', 'urlsplit', 'urlunparse', 'urlunsplit', 'uses_fragment', 'uses_netloc', 'uses_params', 'uses_query', 'uses_relative', 'warnings']\n"
     ]
    }
   ],
   "source": [
    "# urllib.parse é usado para encode/decode de dados, links, analisar..entre outras funções\n",
    "\n",
    "import urllib.parse as urlparse\n",
    "print(dir(urlparse))\n"
   ]
  },
  {
   "cell_type": "code",
   "execution_count": 60,
   "metadata": {
    "pycharm": {
     "name": "#%%\n"
    }
   },
   "outputs": [
    {
     "name": "stdout",
     "output_type": "stream",
     "text": [
      "SplitResult(scheme='https', netloc='www.amazon.com.br', path='/s/ref=nb_sb_noss', query='__mk_pt_BR=%C3%85M%C3%85%C5%BD%C3%95%C3%91&url=search-alias%3Daps&field-keywords=pack+book', fragment='')\n"
     ]
    }
   ],
   "source": [
    "amazonUrl = \"https://www.amazon.com.br/s/ref=nb_sb_noss?__mk_pt_BR=%C3%85M%C3%85%C5%BD%C3%95%C3%91&url=search-alias%3Daps&field-keywords=pack+book\"\n",
    "\n",
    "print(urlparse.urlsplit(amazonUrl))"
   ]
  },
  {
   "cell_type": "code",
   "execution_count": 61,
   "metadata": {
    "pycharm": {
     "name": "#%%\n"
    }
   },
   "outputs": [
    {
     "name": "stdout",
     "output_type": "stream",
     "text": [
      "__mk_pt_BR=%C3%85M%C3%85%C5%BD%C3%95%C3%91&url=search-alias%3Daps&field-keywords=pack+book\n"
     ]
    }
   ],
   "source": [
    "print(urlparse.urlsplit(amazonUrl).query)"
   ]
  },
  {
   "cell_type": "code",
   "execution_count": 62,
   "metadata": {
    "pycharm": {
     "name": "#%%\n"
    }
   },
   "outputs": [
    {
     "name": "stdout",
     "output_type": "stream",
     "text": [
      "https\n"
     ]
    }
   ],
   "source": [
    "print(urlparse.urlsplit(amazonUrl).scheme)"
   ]
  },
  {
   "cell_type": "code",
   "execution_count": 63,
   "metadata": {
    "pycharm": {
     "name": "#%%\n"
    }
   },
   "outputs": [
    {
     "name": "stdout",
     "output_type": "stream",
     "text": [
      "ParseResult(scheme='https', netloc='www.amazon.com.br', path='/s/ref=nb_sb_noss', params='', query='__mk_pt_BR=%C3%85M%C3%85%C5%BD%C3%95%C3%91&url=search-alias%3Daps&field-keywords=pack+book', fragment='')\n"
     ]
    }
   ],
   "source": [
    "print(urlparse.urlparse(amazonUrl))"
   ]
  },
  {
   "cell_type": "code",
   "execution_count": 64,
   "metadata": {
    "pycharm": {
     "name": "#%%\n"
    }
   },
   "outputs": [
    {
     "name": "stdout",
     "output_type": "stream",
     "text": [
      "SplitResult(scheme='http', netloc='localhost', path='/programming/books;2018', query='browse=yes&sort=ASC', fragment='footer')\n"
     ]
    }
   ],
   "source": [
    "import urllib.parse as urlparse\n",
    "localUrl = 'http://localhost/programming/books;2018?browse=yes&sort=ASC#footer'\n",
    "\n",
    "print(urlparse.urlsplit(localUrl))"
   ]
  },
  {
   "cell_type": "code",
   "execution_count": 67,
   "metadata": {
    "pycharm": {
     "name": "#%%\n"
    }
   },
   "outputs": [
    {
     "name": "stdout",
     "output_type": "stream",
     "text": [
      "ParseResult(scheme='http', netloc='localhost', path='/programming/books', params='2018', query='browse=yes&sort=ASC', fragment='footer')\n"
     ]
    }
   ],
   "source": [
    "parseLink= urlparse.urlparse(localUrl)\n",
    "print(parseLink)"
   ]
  },
  {
   "cell_type": "code",
   "execution_count": 68,
   "metadata": {
    "pycharm": {
     "name": "#%%\n"
    }
   },
   "outputs": [
    {
     "name": "stdout",
     "output_type": "stream",
     "text": [
      "/programming/books\n"
     ]
    }
   ],
   "source": [
    "print(parseLink.path)"
   ]
  },
  {
   "cell_type": "code",
   "execution_count": 69,
   "metadata": {
    "pycharm": {
     "name": "#%%\n"
    }
   },
   "outputs": [
    {
     "name": "stdout",
     "output_type": "stream",
     "text": [
      "2018\n"
     ]
    }
   ],
   "source": [
    "print(parseLink.params)"
   ]
  },
  {
   "cell_type": "code",
   "execution_count": 71,
   "metadata": {
    "pycharm": {
     "name": "#%%\n"
    }
   },
   "outputs": [
    {
     "name": "stdout",
     "output_type": "stream",
     "text": [
      "footer\n"
     ]
    }
   ],
   "source": [
    "print(parseLink.fragment)"
   ]
  },
  {
   "cell_type": "code",
   "execution_count": 72,
   "metadata": {
    "pycharm": {
     "name": "#%%\n"
    }
   },
   "outputs": [
    {
     "data": {
      "text/plain": [
       "'param1=value1&param2=value2'"
      ]
     },
     "execution_count": 72,
     "metadata": {},
     "output_type": "execute_result"
    }
   ],
   "source": [
    "import urllib.parse as urlparse\n",
    "data = {'param1': 'value1', 'param2':'value2'}\n",
    "\n",
    "urlparse.urlencode(data)"
   ]
  },
  {
   "cell_type": "code",
   "execution_count": 73,
   "metadata": {
    "pycharm": {
     "name": "#%%\n"
    }
   },
   "outputs": [
    {
     "data": {
      "text/plain": [
       "{'param1': ['value1'], 'param2': ['value2']}"
      ]
     },
     "execution_count": 73,
     "metadata": {},
     "output_type": "execute_result"
    }
   ],
   "source": [
    "urlparse.parse_qs(urlparse.urlencode(data))"
   ]
  },
  {
   "cell_type": "code",
   "execution_count": 75,
   "metadata": {
    "pycharm": {
     "name": "#%%\n"
    }
   },
   "outputs": [
    {
     "data": {
      "text/plain": [
       "b'param1=value1&param2=value2'"
      ]
     },
     "execution_count": 75,
     "metadata": {},
     "output_type": "execute_result"
    }
   ],
   "source": [
    "urlparse.urlencode(data).encode('utf-8')"
   ]
  },
  {
   "cell_type": "markdown",
   "metadata": {
    "pycharm": {
     "name": "#%% md\n"
    }
   },
   "source": [
    "Note that urllib.parse contains the quote(), quote_plus() and unquote() functions, which permit error-free server requests."
   ]
  },
  {
   "cell_type": "code",
   "execution_count": 82,
   "metadata": {
    "pycharm": {
     "name": "#%%\n"
    }
   },
   "outputs": [
    {
     "data": {
      "text/plain": [
       "'http://localhost:8080/~cache/data file?id=1345322&display=yes&expiry=false'"
      ]
     },
     "execution_count": 82,
     "metadata": {},
     "output_type": "execute_result"
    }
   ],
   "source": [
    "import urllib.parse as urlparse\n",
    "url= 'http://localhost%3A8080/~cache/data%20file%3Fid%3D1345322%26display%3Dyes%26expiry%3dfalse'\n",
    "\n",
    "urlparse.unquote(url)"
   ]
  },
  {
   "cell_type": "code",
   "execution_count": 77,
   "metadata": {
    "pycharm": {
     "name": "#%%\n"
    }
   },
   "outputs": [
    {
     "data": {
      "text/plain": [
       "'http%3A%2F%2Flocalhost%253A8080%2F~cache%2Fdata%2520file%253Fid%253D1345322%2526display%253Dyes%2526expiry%253dfalse'"
      ]
     },
     "execution_count": 77,
     "metadata": {},
     "output_type": "execute_result"
    }
   ],
   "source": [
    "urlparse.quote_plus(url)"
   ]
  },
  {
   "cell_type": "code",
   "execution_count": 78,
   "metadata": {
    "pycharm": {
     "name": "#%%\n"
    }
   },
   "outputs": [
    {
     "data": {
      "text/plain": [
       "'http://localhost:8080/~cache/data file?id=1345322&display=yes&expiry=false'"
      ]
     },
     "execution_count": 78,
     "metadata": {},
     "output_type": "execute_result"
    }
   ],
   "source": [
    "urlparse.unquote_plus(url)"
   ]
  },
  {
   "cell_type": "markdown",
   "metadata": {
    "pycharm": {
     "name": "#%% md\n"
    }
   },
   "source": [
    "The urljoin() function from urllib.parse helps obtain the URL from the provided arguments."
   ]
  },
  {
   "cell_type": "code",
   "execution_count": 79,
   "metadata": {
    "pycharm": {
     "name": "#%%\n"
    }
   },
   "outputs": [
    {
     "data": {
      "text/plain": [
       "'http://localhost:8080/~cache/data file'"
      ]
     },
     "execution_count": 79,
     "metadata": {},
     "output_type": "execute_result"
    }
   ],
   "source": [
    "import urllib.parse as urlparse\n",
    "\n",
    "urlparse.urljoin('http://localhost:8080/~cache/', 'data file')"
   ]
  },
  {
   "cell_type": "code",
   "execution_count": 81,
   "metadata": {
    "pycharm": {
     "name": "#%%\n"
    }
   },
   "outputs": [
    {
     "data": {
      "text/plain": [
       "'http://localhost:8080/~cache/id=13453322&display=yes'"
      ]
     },
     "execution_count": 81,
     "metadata": {},
     "output_type": "execute_result"
    }
   ],
   "source": [
    "urlparse.urljoin('http://localhost:8080/~cache/data file', 'id=13453322&display=yes')"
   ]
  },
  {
   "cell_type": "markdown",
   "metadata": {
    "pycharm": {
     "name": "#%% md\n"
    }
   },
   "source": [
    "As we can see in the following code, which is an object of RobotFileParser, can be used to `set_url()` function. It can also read contents with the `read()` function.\n",
    "\n",
    "Functions such as `can_fetch()` can return a Boolean answer for the evaluated condition.\n"
   ]
  },
  {
   "cell_type": "code",
   "execution_count": 85,
   "metadata": {
    "pycharm": {
     "name": "#%%\n"
    }
   },
   "outputs": [
    {
     "name": "stdout",
     "output_type": "stream",
     "text": [
      "User-agent: *\n",
      "Disallow: /catalog/search/\n",
      "Disallow: /s/\n",
      "Disallow: %2ASCDC%3D1%2A\n",
      "Disallow: /%2A%3Fbvroute\n",
      "Disallow: /list/\n",
      "Disallow: %2A/samsclub/0\n",
      "Disallow: /catalog/product/\n",
      "Disallow: /catalog/productreviews/\n",
      "Disallow: /locator%3FreturnRoute\n",
      "Disallow: /myinstantsavings/details/\n",
      "Disallow: /sams/subscription/\n",
      "Disallow: /account/\n",
      "Allow: /sams/account/referal/\n",
      "Allow: /sams/account/signin/login.jsp\n",
      "Allow: /sams/account/signin/createSession.jsp\n",
      "Allow: /sams/account/registration/registration.jsp\n",
      "Allow: /sams/account/membership/renewMembership.jsp\n",
      "Disallow: /managepreferences/\n",
      "Disallow: /checkout/\n",
      "Disallow: /cart/\n",
      "Disallow: /search/\n",
      "Disallow: /pharmacy/login/\n",
      "Disallow: /cgi-bin/\n",
      "Disallow: /friend\n"
     ]
    }
   ],
   "source": [
    "import urllib.robotparser as robot\n",
    "par = robot.RobotFileParser()\n",
    "par.set_url('http://www.samsclub.com/robots.txt')\n",
    "par.read()\n",
    "\n",
    "########################################\n",
    "\n",
    "print(par)"
   ]
  },
  {
   "cell_type": "code",
   "execution_count": 86,
   "metadata": {
    "pycharm": {
     "name": "#%%\n"
    }
   },
   "outputs": [
    {
     "data": {
      "text/plain": [
       "True"
      ]
     },
     "execution_count": 86,
     "metadata": {},
     "output_type": "execute_result"
    }
   ],
   "source": [
    "par.can_fetch(\"*\",'https://www.samsclub.com/category')"
   ]
  },
  {
   "cell_type": "code",
   "execution_count": 87,
   "metadata": {
    "pycharm": {
     "name": "#%%\n"
    }
   },
   "outputs": [
    {
     "data": {
      "text/plain": [
       "False"
      ]
     },
     "execution_count": 87,
     "metadata": {},
     "output_type": "execute_result"
    }
   ],
   "source": [
    "par.can_fetch(\"*\",'https://www.samsclub.com/friend')"
   ]
  },
  {
   "cell_type": "markdown",
   "metadata": {
    "pycharm": {
     "name": "#%% md\n"
    }
   },
   "source": [
    "### requests"
   ]
  },
  {
   "cell_type": "code",
   "execution_count": 89,
   "metadata": {
    "pycharm": {
     "name": "#%%\n"
    }
   },
   "outputs": [
    {
     "data": {
      "text/plain": [
       "['__attrs__',\n",
       " '__bool__',\n",
       " '__class__',\n",
       " '__delattr__',\n",
       " '__dict__',\n",
       " '__dir__',\n",
       " '__doc__',\n",
       " '__enter__',\n",
       " '__eq__',\n",
       " '__exit__',\n",
       " '__format__',\n",
       " '__ge__',\n",
       " '__getattribute__',\n",
       " '__getstate__',\n",
       " '__gt__',\n",
       " '__hash__',\n",
       " '__init__',\n",
       " '__init_subclass__',\n",
       " '__iter__',\n",
       " '__le__',\n",
       " '__lt__',\n",
       " '__module__',\n",
       " '__ne__',\n",
       " '__new__',\n",
       " '__nonzero__',\n",
       " '__reduce__',\n",
       " '__reduce_ex__',\n",
       " '__repr__',\n",
       " '__setattr__',\n",
       " '__setstate__',\n",
       " '__sizeof__',\n",
       " '__str__',\n",
       " '__subclasshook__',\n",
       " '__weakref__',\n",
       " '_content',\n",
       " '_content_consumed',\n",
       " '_next',\n",
       " 'apparent_encoding',\n",
       " 'close',\n",
       " 'connection',\n",
       " 'content',\n",
       " 'cookies',\n",
       " 'elapsed',\n",
       " 'encoding',\n",
       " 'headers',\n",
       " 'history',\n",
       " 'is_permanent_redirect',\n",
       " 'is_redirect',\n",
       " 'iter_content',\n",
       " 'iter_lines',\n",
       " 'json',\n",
       " 'links',\n",
       " 'next',\n",
       " 'ok',\n",
       " 'raise_for_status',\n",
       " 'raw',\n",
       " 'reason',\n",
       " 'request',\n",
       " 'status_code',\n",
       " 'text',\n",
       " 'url']"
      ]
     },
     "execution_count": 89,
     "metadata": {},
     "output_type": "execute_result"
    }
   ],
   "source": [
    "import requests\n",
    "link = 'http://www.python-requests.org'\n",
    "r = requests.get(link)\n",
    "\n",
    "dir(r)"
   ]
  },
  {
   "cell_type": "code",
   "execution_count": 90,
   "metadata": {
    "pycharm": {
     "name": "#%%\n"
    }
   },
   "outputs": [
    {
     "name": "stdout",
     "output_type": "stream",
     "text": [
      "<class 'requests.models.Response'>\n"
     ]
    }
   ],
   "source": [
    "print(type(r))"
   ]
  },
  {
   "cell_type": "code",
   "execution_count": 91,
   "metadata": {
    "pycharm": {
     "name": "#%%\n"
    }
   },
   "outputs": [
    {
     "data": {
      "text/plain": [
       "'http://www.python-requests.org/'"
      ]
     },
     "execution_count": 91,
     "metadata": {},
     "output_type": "execute_result"
    }
   ],
   "source": [
    "# capturando a URL\n",
    "r.url"
   ]
  },
  {
   "cell_type": "code",
   "execution_count": 93,
   "metadata": {
    "pycharm": {
     "name": "#%%\n"
    }
   },
   "outputs": [
    {
     "data": {
      "text/plain": [
       "200"
      ]
     },
     "execution_count": 93,
     "metadata": {},
     "output_type": "execute_result"
    }
   ],
   "source": [
    "# Capturando o status Code\n",
    "r.status_code"
   ]
  },
  {
   "cell_type": "code",
   "execution_count": 94,
   "metadata": {
    "pycharm": {
     "name": "#%%\n"
    }
   },
   "outputs": [
    {
     "data": {
      "text/plain": [
       "[]"
      ]
     },
     "execution_count": 94,
     "metadata": {},
     "output_type": "execute_result"
    }
   ],
   "source": [
    "r.history"
   ]
  },
  {
   "cell_type": "code",
   "execution_count": 95,
   "metadata": {
    "pycharm": {
     "name": "#%%\n"
    }
   },
   "outputs": [
    {
     "data": {
      "text/plain": [
       "{'Date': 'Tue, 23 Aug 2022 20:02:49 GMT', 'Server': 'Apache', 'X-Powered-By': 'PHP/7.2.10-0ubuntu0.18.04.1', 'Set-Cookie': 'PHPSESSID=768f4bc21d921873f331790c3acc0145; path=/, SERVERID=s4; path=/', 'Expires': 'Thu, 19 Nov 1981 08:52:00 GMT', 'Cache-Control': 'no-store, no-cache, must-revalidate', 'Pragma': 'no-cache', 'Content-Length': '2694', 'Content-Type': 'text/html; charset=UTF-8'}"
      ]
     },
     "execution_count": 95,
     "metadata": {},
     "output_type": "execute_result"
    }
   ],
   "source": [
    "# Headers\n",
    "r.headers"
   ]
  },
  {
   "cell_type": "code",
   "execution_count": 97,
   "metadata": {
    "pycharm": {
     "name": "#%%\n"
    }
   },
   "outputs": [
    {
     "data": {
      "text/plain": [
       "'Apache'"
      ]
     },
     "execution_count": 97,
     "metadata": {},
     "output_type": "execute_result"
    }
   ],
   "source": [
    "# Capturando o elemento do Headers\n",
    "r.headers['Server']"
   ]
  },
  {
   "cell_type": "code",
   "execution_count": 101,
   "metadata": {
    "pycharm": {
     "name": "#%%\n"
    }
   },
   "outputs": [
    {
     "data": {
      "text/plain": [
       "'UTF-8'"
      ]
     },
     "execution_count": 101,
     "metadata": {},
     "output_type": "execute_result"
    }
   ],
   "source": [
    "# Encoding da página\n",
    "r.encoding"
   ]
  },
  {
   "cell_type": "code",
   "execution_count": 103,
   "metadata": {
    "pycharm": {
     "name": "#%%\n"
    }
   },
   "outputs": [
    {
     "data": {
      "text/plain": [
       "b'\\n<html>\\n<head>\\n\\t<title>Domain Suspension</title>\\n\\t<meta http-equiv=\"Content-Type\" content=\"text/html; charset=utf-8\">\\n\\t<link href=\\'https://fonts.googleapis.com/css?family=Roboto:400,300\\' rel=\\'stylesheet\\' type=\\'text/css\\'>\\n\\t\\n\\t<link rel=\"stylesheet\" href=\"data/styles/style.css\">\\n\\t<link rel=\"stylesheet\" href=\"data/styles/ls.css\">\\n</head>\\n<body class=\"table-wrapper\">\\n\\t<script src=\"https://www.google.com/recaptcha/api.js?hl=en\"></script>\\n\\n<div class=\"table-cell\">\\n\\t<div id=\"container\" style=\"position:r'"
      ]
     },
     "execution_count": 103,
     "metadata": {},
     "output_type": "execute_result"
    }
   ],
   "source": [
    "# Capturando o Conteúdo\n",
    "\n",
    "r.content[:500]"
   ]
  },
  {
   "cell_type": "code",
   "execution_count": 105,
   "metadata": {
    "pycharm": {
     "name": "#%%\n"
    }
   },
   "outputs": [
    {
     "data": {
      "text/plain": [
       "'\\n<html>\\n<head>\\n\\t<title>Domain Suspension</title>\\n\\t<meta http-equiv=\"Content-Type\" content=\"text/html; charset=utf-8\">\\n\\t<link href=\\'https://fonts.googleapis.com/css?family=Roboto:400,300\\' rel=\\'stylesheet\\' type=\\'text/css\\'>\\n\\t\\n\\t<link rel=\"stylesheet\" href=\"data/styles/style.css\">\\n\\t<link rel=\"stylesheet\" href=\"data/styles/ls.css\">\\n</head>\\n<body class=\"table-wrapper\">\\n\\t<script src=\"https://www.google.co'"
      ]
     },
     "execution_count": 105,
     "metadata": {},
     "output_type": "execute_result"
    }
   ],
   "source": [
    "# 400 string character\n",
    "r.text[:400]"
   ]
  },
  {
   "cell_type": "code",
   "execution_count": 107,
   "metadata": {
    "pycharm": {
     "name": "#%%\n"
    }
   },
   "outputs": [
    {
     "name": "stdout",
     "output_type": "stream",
     "text": [
      "<class 'urllib3.response.HTTPResponse'>\n"
     ]
    }
   ],
   "source": [
    "r = requests.get(link, stream=True)\n",
    "print(type(r.raw))"
   ]
  },
  {
   "cell_type": "code",
   "execution_count": 109,
   "metadata": {
    "pycharm": {
     "name": "#%%\n"
    }
   },
   "outputs": [
    {
     "data": {
      "text/plain": [
       "b'et\\' type=\\'text/css\\'>\\n\\t\\n\\t<link rel=\"stylesheet\" href=\"data/styles/style.css\">\\n\\t<link rel=\"stylesheet\" href=\"data/styles/ls.css\">\\n</head>\\n<body class=\"table-wrapper\">\\n\\t<script src=\"https://www.google.co'"
      ]
     },
     "execution_count": 109,
     "metadata": {},
     "output_type": "execute_result"
    }
   ],
   "source": [
    "r.raw.read(200) # lendo os 200 primeiros caracteres de linha de resposta."
   ]
  },
  {
   "cell_type": "code",
   "execution_count": 119,
   "metadata": {
    "pycharm": {
     "name": "#%%\n"
    }
   },
   "outputs": [
    {
     "name": "stdout",
     "output_type": "stream",
     "text": [
      "Station: W 52 St & 11 Ave\n",
      "Station: Franklin St & W Broadway\n",
      "Station: St James Pl & Pearl St\n",
      "Station: Atlantic Ave & Fort Greene Pl\n",
      "Station: W 17 St & 8 Ave\n",
      "Station: Park Ave & St Edwards St\n",
      "Station: Lexington Ave & Classon Ave\n",
      "Station: Barrow St & Hudson St\n",
      "Station: MacDougal St & Prince St\n",
      "Station: E 56 St & Madison Ave\n"
     ]
    }
   ],
   "source": [
    "# Url com JSON\n",
    "\n",
    "import requests\n",
    "link ='https://feeds.citibikenyc.com/stations/stations.json'\n",
    "\n",
    "response = requests.get(link).json()\n",
    "\n",
    "for i in range(10):\n",
    "    print(f\"Station: {response['stationBeanList'] [i] ['stationName']}\")\n"
   ]
  },
  {
   "cell_type": "markdown",
   "metadata": {
    "pycharm": {
     "name": "#%% md\n"
    }
   },
   "source": [
    "## Implementando HTTP methods"
   ]
  },
  {
   "cell_type": "markdown",
   "metadata": {
    "pycharm": {
     "name": "#%% md\n"
    }
   },
   "source": [
    "### GET"
   ]
  },
  {
   "cell_type": "code",
   "execution_count": null,
   "metadata": {
    "pycharm": {
     "name": "#%%\n"
    }
   },
   "outputs": [],
   "source": []
  },
  {
   "cell_type": "code",
   "execution_count": null,
   "metadata": {
    "pycharm": {
     "name": "#%%\n"
    }
   },
   "outputs": [],
   "source": []
  },
  {
   "cell_type": "code",
   "execution_count": null,
   "metadata": {
    "pycharm": {
     "name": "#%%\n"
    }
   },
   "outputs": [],
   "source": []
  },
  {
   "cell_type": "code",
   "execution_count": null,
   "metadata": {
    "pycharm": {
     "name": "#%%\n"
    }
   },
   "outputs": [],
   "source": []
  },
  {
   "cell_type": "code",
   "execution_count": null,
   "metadata": {
    "pycharm": {
     "name": "#%%\n"
    }
   },
   "outputs": [],
   "source": []
  },
  {
   "cell_type": "code",
   "execution_count": null,
   "metadata": {
    "pycharm": {
     "name": "#%%\n"
    }
   },
   "outputs": [],
   "source": []
  },
  {
   "cell_type": "code",
   "execution_count": null,
   "metadata": {
    "pycharm": {
     "name": "#%%\n"
    }
   },
   "outputs": [],
   "source": []
  },
  {
   "cell_type": "code",
   "execution_count": null,
   "metadata": {
    "pycharm": {
     "name": "#%%\n"
    }
   },
   "outputs": [],
   "source": []
  },
  {
   "cell_type": "code",
   "execution_count": null,
   "metadata": {
    "pycharm": {
     "name": "#%%\n"
    }
   },
   "outputs": [],
   "source": []
  },
  {
   "cell_type": "code",
   "execution_count": null,
   "metadata": {
    "pycharm": {
     "name": "#%%\n"
    }
   },
   "outputs": [],
   "source": []
  },
  {
   "cell_type": "code",
   "execution_count": null,
   "metadata": {
    "pycharm": {
     "name": "#%%\n"
    }
   },
   "outputs": [],
   "source": []
  }
 ],
 "metadata": {
  "kernelspec": {
   "display_name": "Python 3",
   "language": "python",
   "name": "python3"
  },
  "language_info": {
   "codemirror_mode": {
    "name": "ipython",
    "version": 3
   },
   "file_extension": ".py",
   "mimetype": "text/x-python",
   "name": "python",
   "nbconvert_exporter": "python",
   "pygments_lexer": "ipython3",
   "version": "3.8.5"
  }
 },
 "nbformat": 4,
 "nbformat_minor": 4
}