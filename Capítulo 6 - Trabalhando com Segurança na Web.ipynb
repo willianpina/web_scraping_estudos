{
 "cells": [
  {
   "cell_type": "markdown",
   "source": [
    "<h1 align=center><b>Capítulo 6</b></h1>\n",
    "<h1 align=center>Trabalhando com Segurança na Web<h1>"
   ],
   "metadata": {
    "collapsed": false
   }
  },
  {
   "cell_type": "markdown",
   "source": [
    "## Introdução à Web Segura\n",
    "A implementação de recursos de segurança baseados na Web (ou recursos que são usados para manter um estado seguro de acesso) para acessar informações está crescendo rapidamente, dia a dia. Com tecnologias baseadas na web em constante crescimento, sites e aplicativos da web implementam mecanismos seguros que são básicos ou altamente sofisticados.\n",
    "\n",
    "O conteúdo seguro habilitado para a Web geralmente é um desafio do ponto de vista de rastreamento e raspagem. Nesta seção, você será apresentado a alguns conceitos básicos baseados em segurança. Exploraremos esses conceitos, juntamente com sua implementação, nas próximas seções.\n",
    "\n",
    "As seções a seguir falarão sobre alguns conceitos ou conceitos habilitados para segurança que são vulneráveis à segurança. Esses conceitos podem ser implementados de forma independente e colaborativa em sites usando várias ferramentas ou medidas subjacentes."
   ],
   "metadata": {
    "collapsed": false
   }
  },
  {
   "cell_type": "markdown",
   "source": [
    "## Processamento de formulários\n",
    "Isso também é conhecido como processamento de `<form>` HTML, manipulação de formulários ou envio de formulários. Este método processa e trata dados dentro de um `<form>` HTML.\n",
    "\n",
    "Do ponto de vista da segurança, o HTML `<form>` pode conter valores dinâmicos e ocultos ou gerados pelo sistema que gerenciam a validação, fornecem valor aos campos ou executam a implementação baseada em segurança durante o envio do formulário. Formulários com campos como `<input type=\"hidden\"...>` podem não ser visíveis para os usuários nas páginas."
   ],
   "metadata": {
    "collapsed": false
   }
  },
  {
   "cell_type": "markdown",
   "source": [
    "## Cookies e sessões\n",
    "### Cookies\n",
    "Cookies são dados gerados e armazenados por sites em seu sistema ou computador. Os dados nos cookies ajudam a identificar solicitações da web do usuário para o site. Os dados nos cookies são armazenados em pares `chave:valor`. Os dados armazenados em cookies ajudam os sites a acessar esses dados e transferir determinados valores salvos na forma de uma interação rápida.\n",
    "\n",
    "Os cookies também permitem que os sites rastreiem perfis de usuários, seus hábitos na web e assim por diante, e usem essas informações para indexação, anúncios de página e atividades de marketing.\n",
    "\n",
    "Os dados baseados em cookies podem durar uma sessão (ou seja, desde o momento em que uma página da Web é carregada até o fechamento do navegador) formando o que é conhecido como cookies de sessão, ou por dias, semanas ou meses, conhecidos como cookies permanentes ou armazenados. Os cookies também podem conter valores de expiração em segundos e são expirados ou excluídos do sistema uma vez decorrido o período de tempo expresso neste valor.\n",
    "\n",
    "### Sessões\n",
    "As sessões são propriedades que impõem a comunicação baseada em estado entre dois sistemas. Uma sessão é usada para armazenar informações do usuário temporariamente e também é excluída assim que o usuário sai do navegador ou sai do site.\n",
    "\n",
    "Uma sessão é usada para manter a atividade de segurança. Um número de identificação exclusivo, também conhecido como ID de sessão ou chave de sessão, é gerado pelo site e é usado para rastrear seus usuários ou recursos baseados em segurança de forma independente. Na maioria dos casos de disponibilidade de sessão, ela também pode ser rastreada usando cookies.\n",
    "\n",
    "### Autenticação de usuário\n",
    "A autenticação do usuário lida com o manuseio e gerenciamento de processos de identificação baseados no usuário. Os sites oferecem o registro do usuário por meio de sua página de registro e, assim, coletam entradas do usuário para campos obrigatórios ou disponíveis. Os detalhes de um usuário são salvos em locais seguros, como bancos de dados baseados em nuvem ou servidor, ou qualquer outro sistema seguro.\n",
    "\n",
    "Os usuários registrados são verificados e têm permissão para fazer login e logout de seu sistema e são identificados por seu nome de usuário, senha e endereço de e-mail.\n",
    "\n",
    "Processamento de formulários, cookies, gerenciamento de sessões e outras medidas baseadas em segurança podem ser implementadas individualmente ou de forma colaborativa para este processo.\n",
    "\n",
    "As seções deste módulo tratam de várias medidas e situações que podem ser implementadas ou que podem ser enfrentadas durante o web scraping."
   ],
   "metadata": {
    "collapsed": false
   }
  },
  {
   "cell_type": "markdown",
   "source": [
    "## HTML \\<form> processing"
   ],
   "metadata": {
    "collapsed": false
   }
  },
  {
   "cell_type": "code",
   "execution_count": 6,
   "outputs": [
    {
     "name": "stdout",
     "output_type": "stream",
     "text": [
      "Author:  Albert Einstein\n",
      "ViewState:  MjQzZDZmOWI3ZjRhNGU0NDljODcxMDQzNWRhMGY5ZmUsQWxiZXJ0IEVpbnN0ZWluLEouSy4gUm93bGluZyxKYW5lIEF1c3RlbixNYXJpbHluIE1vbnJvZSxBbmRyw6kgR2lkZSxUaG9tYXMgQS4gRWRpc29uLEVsZWFub3IgUm9vc2V2ZWx0LFN0ZXZlIE1hcnRpbixCb2IgTWFybGV5LERyLiBTZXVzcyxEb3VnbGFzIEFkYW1zLEVsaWUgV2llc2VsLEZyaWVkcmljaCBOaWV0enNjaGUsTWFyayBUd2FpbixBbGxlbiBTYXVuZGVycyxQYWJsbyBOZXJ1ZGEsUmFscGggV2FsZG8gRW1lcnNvbixNb3RoZXIgVGVyZXNhLEdhcnJpc29uIEtlaWxsb3IsSmltIEhlbnNvbixDaGFybGVzIE0uIFNjaHVseixXaWxsaWFtIE5pY2hvbHNvbixKb3JnZSBMdWlzIEJvcmdlcyxHZW9yZ2UgRWxpb3QsR2VvcmdlIFIuUi4gTWFydGluLEMuUy4gTGV3aXMsTWFydGluIEx1dGhlciBLaW5nIEpyLixKYW1lcyBCYWxkd2luLEhhcnVraSBNdXJha2FtaSxBbGV4YW5kcmUgRHVtYXMgZmlscyxTdGVwaGVuaWUgTWV5ZXIsRXJuZXN0IEhlbWluZ3dheSxIZWxlbiBLZWxsZXIsR2VvcmdlIEJlcm5hcmQgU2hhdyxDaGFybGVzIEJ1a293c2tpLFN1emFubmUgQ29sbGlucyxKLlIuUi4gVG9sa2llbixBbGZyZWQgVGVubnlzb24sVGVycnkgUHJhdGNoZXR0LEouRC4gU2FsaW5nZXIsR2VvcmdlIENhcmxpbixKb2huIExlbm5vbixXLkMuIEZpZWxkcyxKaW1pIEhlbmRyaXgsSi5NLiBCYXJyaWUsRS5FLiBDdW1taW5ncyxLaGFsZWQgSG9zc2VpbmksSGFycGVyIExlZSxNYWRlbGVpbmUgTCdFbmdsZQ==\n",
      "Tag:  ----------\n",
      "Author:  Thomas A. Edison\n",
      "ViewState:  NDNlNjY0MTU5NmZiNGVmNWE0ZGY0M2MyNzhjMDQ5MjksQWxiZXJ0IEVpbnN0ZWluLEouSy4gUm93bGluZyxKYW5lIEF1c3RlbixNYXJpbHluIE1vbnJvZSxBbmRyw6kgR2lkZSxUaG9tYXMgQS4gRWRpc29uLEVsZWFub3IgUm9vc2V2ZWx0LFN0ZXZlIE1hcnRpbixCb2IgTWFybGV5LERyLiBTZXVzcyxEb3VnbGFzIEFkYW1zLEVsaWUgV2llc2VsLEZyaWVkcmljaCBOaWV0enNjaGUsTWFyayBUd2FpbixBbGxlbiBTYXVuZGVycyxQYWJsbyBOZXJ1ZGEsUmFscGggV2FsZG8gRW1lcnNvbixNb3RoZXIgVGVyZXNhLEdhcnJpc29uIEtlaWxsb3IsSmltIEhlbnNvbixDaGFybGVzIE0uIFNjaHVseixXaWxsaWFtIE5pY2hvbHNvbixKb3JnZSBMdWlzIEJvcmdlcyxHZW9yZ2UgRWxpb3QsR2VvcmdlIFIuUi4gTWFydGluLEMuUy4gTGV3aXMsTWFydGluIEx1dGhlciBLaW5nIEpyLixKYW1lcyBCYWxkd2luLEhhcnVraSBNdXJha2FtaSxBbGV4YW5kcmUgRHVtYXMgZmlscyxTdGVwaGVuaWUgTWV5ZXIsRXJuZXN0IEhlbWluZ3dheSxIZWxlbiBLZWxsZXIsR2VvcmdlIEJlcm5hcmQgU2hhdyxDaGFybGVzIEJ1a293c2tpLFN1emFubmUgQ29sbGlucyxKLlIuUi4gVG9sa2llbixBbGZyZWQgVGVubnlzb24sVGVycnkgUHJhdGNoZXR0LEouRC4gU2FsaW5nZXIsR2VvcmdlIENhcmxpbixKb2huIExlbm5vbixXLkMuIEZpZWxkcyxKaW1pIEhlbmRyaXgsSi5NLiBCYXJyaWUsRS5FLiBDdW1taW5ncyxLaGFsZWQgSG9zc2VpbmksSGFycGVyIExlZSxNYWRlbGVpbmUgTCdFbmdsZQ==\n",
      "Tag:  ----------\n"
     ]
    }
   ],
   "source": [
    "from pyquery import PyQuery as pq\n",
    "import requests\n",
    "mainurl = \"http://toscrape.com/\"\n",
    "searchurl = \"http://quotes.toscrape.com/search.aspx\"\n",
    "filterurl = \"http://quotes.toscrape.com/filter.aspx\"\n",
    "quoteurl = \"http://quotes.toscrape.com/\"\n",
    "authorTags = [('Albert Einstein', 'success'), ('Thomas A. Edison', 'inspirational')]\n",
    "\n",
    "def processRequests(url, params={}, customheaders={}):\n",
    "    if len(params) > 0:\n",
    "\t    response = requests.post(url, data=params, headers=customheaders)\n",
    "    else:\n",
    "        response = requests.get(url)\n",
    "    return pq(response.text)\n",
    "\n",
    "if __name__ == '__main__':\n",
    "\tfor authorTag in authorTags:\n",
    "\t\tauthorName,tagName= authorTag\n",
    "\n",
    "\t\t#Step 1: load searchURL\n",
    "\t\tsearchResponse = processRequests(searchurl)\n",
    "\t\tauthor = searchResponse.find('select#author option:contains(\"' + authorName +'\")').attr('value')\n",
    "\t\tviewstate = searchResponse.find('input#__VIEWSTATE').attr('value')\n",
    "\t\ttag = searchResponse.find('select#tag option').text()\n",
    "\t\tprint(\"Author: \", author)\n",
    "\t\tprint(\"ViewState: \", viewstate)\n",
    "\t\tprint(\"Tag: \", tag)"
   ],
   "metadata": {
    "collapsed": false
   }
  },
  {
   "cell_type": "code",
   "execution_count": null,
   "outputs": [],
   "source": [],
   "metadata": {
    "collapsed": false
   }
  }
 ],
 "metadata": {
  "kernelspec": {
   "display_name": "Python 3",
   "language": "python",
   "name": "python3"
  },
  "language_info": {
   "codemirror_mode": {
    "name": "ipython",
    "version": 2
   },
   "file_extension": ".py",
   "mimetype": "text/x-python",
   "name": "python",
   "nbconvert_exporter": "python",
   "pygments_lexer": "ipython2",
   "version": "2.7.6"
  }
 },
 "nbformat": 4,
 "nbformat_minor": 0
}
