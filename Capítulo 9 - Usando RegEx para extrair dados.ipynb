{
 "cells": [
  {
   "cell_type": "markdown",
   "source": [
    "<h1 align=center><b>Capítulo 9</b></h1>\n",
    "<h1 align=center>Usando RegEx para extrair dados<h1>\n",
    "\n",
    "**Expressões Regulares (Regex ou regex)** é na verdade um padrão que é construído usando comandos e formatos predefinidos para corresponder ao conteúdo desejado. O Regex fornece um grande valor durante a extração de dados quando não há um layout específico ou padrões de marcação a serem escolhidos e pode ser aplicado com outras técnicas, como XPath e seletores CSS.\n",
    "\n",
    "Conteúdo da Web complexo e dados em formato geral de texto ou caractere podem exigir o uso de Regex para concluir atividades, como correspondência e extração, além de substituição de função, divisão e assim por diante.\n",
    "\n",
    "## Visão geral de expressões regulares\n",
    "Expressões regulares são usadas para combinar padrões encontrados em texto ou strings. O Regex pode ser usado para testar e encontrar padrões conforme desejado em texto ou conteúdo da web. Regex contém várias maneiras de definir padrões e notações especiais, como códigos de escape para aplicar algumas regras predefinidas.\n",
    "\n",
    "Existem vários casos em que o Regex pode ser bastante eficaz e rápido para obter os resultados desejados. O Regex pode ser aplicado apenas ao conteúdo (texto ou fontes da Web) e pode ser usado para direcionar padrões de informações específicos que não são facilmente extraíveis ao usar XPath, seletores CSS, BS4, PyQuery e assim por diante.\n",
    "\n",
    "Às vezes, podem surgir casos que exigirão que os seletores Regex e XPath ou CSS sejam usados juntos para obter a saída desejada. Essa saída pode ser testada usando Regex para encontrar padrões ou limpar e gerenciar dados. Editores de código, escritores de documentos e leitores também fornecem utilitários baseados em Regex incorporados.\n",
    "\n",
    "O Regex pode ser aplicado a qualquer texto ou sequência de caracteres, fontes HTML e assim por diante que contenham formatação adequada ou imprópria. O Regex pode ser usado para várias aplicações, como as seguintes:\n",
    "* Conteúdo baseado em um padrão específico\n",
    "* Links de página\n",
    "* Títulos e links das imagens\n",
    "* Textos dentro de links\n",
    "* Correspondência e validação de endereços de e-mail\n",
    "* Correspondência de um código postal ou código postal de strings de endereço\n",
    "* Validar números de telefone e assim por diante\n",
    "\n",
    "O uso de ferramentas como pesquisar, localizar, dividir, substituir, combinar e iterar são aplicáveis com ou sem interferência de outra tecnologia. Nas seções a seguir, usaremos o módulo re Python e exploraremos seus métodos, que podemos aplicar ao Regex.\n",
    "\n",
    "### Expressões regulares e Python\n",
    "\n",
    "Vamos começar importando `re`e listar as propriedades usando  a função `dir()`."
   ],
   "metadata": {
    "collapsed": false
   }
  },
  {
   "cell_type": "code",
   "execution_count": 1,
   "outputs": [
    {
     "name": "stdout",
     "output_type": "stream",
     "text": [
      "['A', 'ASCII', 'DEBUG', 'DOTALL', 'I', 'IGNORECASE', 'L', 'LOCALE', 'M', 'MULTILINE', 'Match', 'Pattern', 'RegexFlag', 'S', 'Scanner', 'T', 'TEMPLATE', 'U', 'UNICODE', 'VERBOSE', 'X', '_MAXCACHE', '__all__', '__builtins__', '__cached__', '__doc__', '__file__', '__loader__', '__name__', '__package__', '__spec__', '__version__', '_cache', '_compile', '_compile_repl', '_expand', '_locale', '_pickle', '_special_chars_map', '_subx', 'compile', 'copyreg', 'enum', 'error', 'escape', 'findall', 'finditer', 'fullmatch', 'functools', 'match', 'purge', 'search', 'split', 'sre_compile', 'sre_parse', 'sub', 'subn', 'template']\n"
     ]
    }
   ],
   "source": [
    "import re\n",
    "print(dir(re))"
   ],
   "metadata": {
    "collapsed": false
   }
  },
  {
   "cell_type": "markdown",
   "source": [
    "Como podemos ver na saída anterior, existem várias funções disponíveis em `re`. Usaremos algumas dessas funções de uma perspectiva de extração de conteúdo e explicaremos o básico dos fundamentos do Regex usando exemplos como os seguintes:"
   ],
   "metadata": {
    "collapsed": false
   }
  },
  {
   "cell_type": "code",
   "execution_count": 2,
   "outputs": [],
   "source": [
    "sentence = \"\"\"Brief information about Jobs in Python. Programming and Scripting experience in some language (such as Python R, MATLAB, SAS, Mathematica, Java, C, C++, VB, JavaScript or FORTRAN) is expected. Participants should be comfortable with basic programming concepts like variables, loops, and functions.\"\"\""
   ],
   "metadata": {
    "collapsed": false
   }
  },
  {
   "cell_type": "markdown",
   "source": [
    "A função `split()` explode a string e retorna a lista de palavras individuais, que são separadas pelo caractere de espaço por padrão. Também podemos dividir o objeto string usando `re.split()`. Neste caso, `split()` aceita o padrão Regex para dividir a sentença, por exemplo, `re.split(r'\\s+',sentence)`:"
   ],
   "metadata": {
    "collapsed": false
   }
  },
  {
   "cell_type": "code",
   "execution_count": 5,
   "outputs": [
    {
     "name": "stdout",
     "output_type": "stream",
     "text": [
      "Length of Sentence:  297 & splitSentence: 42\n",
      "['Brief', 'information', 'about', 'Jobs', 'in', 'Python.', 'Programming', 'and', 'Scripting', 'experience', 'in', 'some', 'language', '(such', 'as', 'Python', 'R,', 'MATLAB,', 'SAS,', 'Mathematica,', 'Java,', 'C,', 'C++,', 'VB,', 'JavaScript', 'or', 'FORTRAN)', 'is', 'expected.', 'Participants', 'should', 'be', 'comfortable', 'with', 'basic', 'programming', 'concepts', 'like', 'variables,', 'loops,', 'and', 'functions.']\n"
     ]
    }
   ],
   "source": [
    "splitSentence = sentence.split()\n",
    "print(\"Length of Sentence: \",len(sentence), '& splitSentence:',len(splitSentence))\n",
    "print(splitSentence)"
   ],
   "metadata": {
    "collapsed": false
   }
  },
  {
   "cell_type": "code",
   "execution_count": 6,
   "outputs": [
    {
     "name": "stdout",
     "output_type": "stream",
     "text": [
      "Findall found total  6  Matches >>  ['R', 'MATLAB', 'SAS', 'C', 'C++', 'VB']\n"
     ]
    }
   ],
   "source": [
    "matches = re.findall(r\"([A-Z+]+)\\,\",sentence) #finding pattern with [A-Z+] and comma behind\n",
    "print(\"Findall found total \",len(matches),\" Matches >> \",matches)"
   ],
   "metadata": {
    "collapsed": false
   }
  },
  {
   "cell_type": "code",
   "execution_count": 7,
   "outputs": [
    {
     "name": "stdout",
     "output_type": "stream",
     "text": [
      "Findall found total  5  Matches >>  ['R', 'MATLAB', 'SAS', 'C', 'VB']\n"
     ]
    }
   ],
   "source": [
    "matches = re.findall(r\"([A-Z]+)\\,\",sentence) #finding pattern with [A-Z] and comma behind\n",
    "print(\"Findall found total \",len(matches),\" Matches >> \",matches)"
   ],
   "metadata": {
    "collapsed": false
   }
  },
  {
   "cell_type": "markdown",
   "source": [
    "`re.findall()` aceita um padrão para pesquisar e o conteúdo para procurar em relação ao padrão fornecido. Normalmente, os padrões podem ser fornecidos diretamente às funções como um argumento e como uma string bruta precedida por r, como `r'([A-Z]+)'`, ou uma variável contendo uma string bruta.\n",
    "\n",
    "No código anterior, podemos ver padrões semelhantes com determinados caracteres adicionais fornecidos, mas eles diferem na saída. Uma explicação geral é fornecida para alguns desses padrões, como segue:\n",
    "* $\\small [A-Z]$: Os colchetes no padrão correspondem a um conjunto de caracteres e diferenciam maiúsculas de minúsculas. Aqui, ele corresponde aos caracteres de $\\small A$ a $\\small Z$, mas não de $\\small a$ a $\\small z$. Podemos fornecer um conjunto de caracteres como $\\small [A-Za-z0-9]$, que corresponde a quaisquer caracteres de $\\small A$ a $\\small Z$ e $\\small a$ a $\\small z$, bem como caracteres numéricos de $\\small 0$ a $\\small 9$. Caracteres adicionais, se necessários, podem ser passado dentro do conjunto como $\\small [A-Z+]$; o caractere $\\small +$ pode existir com $\\small A$ a $\\small Z$ de caracteres, por exemplo, C++ ou C.\n",
    "* $\\small ()$: Os colchetes no padrão mantêm o grupo de valores que foram correspondidos.\n",
    "* $\\small +$ (usado para repetição): Encontrado fora do conjunto de caracteres, corresponde a uma ou mais ocorrências do padrão que segue. $\\small [A-Z]+$ corresponderá a pelo menos uma ou mais combinações encontradas com os caracteres $\\small A$ a $\\small Z$, por exemplo, R e MATLAB do código anterior. Existem mais alguns caracteres para especificar repetição ou ocorrências, também conhecidos como quantificadores Regex:\n",
    "* $\\small *$ corresponde a zero ou mais ocorrências dos padrões\n",
    "* $\\small ?$ corresponde a zero ou uma ocorrência do padrão\n",
    "* $\\small \\{m,n\\}$ corresponde ao mínimo, $\\small m$, e máximo, $\\small n$, números de repetição, respectivamente:\n",
    "  * $\\small \\{2,5\\}$ : mínimo 2 ou máximo 5\n",
    "  * $\\small \\{2,\\}$: mínimo 2 ou pode ser mais\n",
    "  * $\\small \\{,5\\}$: Máximo 5\n",
    "  * $\\small \\{3\\}$: 3 ocorrências\n",
    "* $\\small \\, (vírgula)$: Em Regex, caracteres diferentes de $\\small [A-Za-z0-9]$ são normalmente escritos como caracteres de escape para mencionar esse caractere específico ($\\small \\backslash,$ para vírgula, $\\small \\backslash.$ para ponto, $\\small \\backslash?$ para ponto de interrogação, e assim por diante).\n",
    "\n",
    "Os quantificadores Regex também são categorizados da seguinte forma:\n",
    "* **Quantificadores gananciosos**: correspondem a qualquer elemento o maior número de vezes possível.\n",
    "* **Quantificadores preguiçosos ou não gananciosos**: correspondem a qualquer elemento o menor número de vezes possível. Normalmente, um quantificador guloso é convertido em um quantificador lento adicionando $\\small ?$ para isso.\n",
    "\n",
    "Padrões como $\\small ([A-Z+]+)\\$, correspondem ao conjunto de caracteres de $\\small A$ a $\\small Z$ e $\\small +$ que podem existir em pelo menos um ou mais caracteres, seguidos por $\\small ,$. Na frase do código anterior, podemos encontrar R, MATLAB, SAS, Mathematica, Java, C, C++, VB e JavaScript (há também FORTRAN), ou seja, nomes seguidos de $\\small ,$ (mas não no caso de FORTRAN; é por isso que foi excluído na saída para os padrões fornecidos).\n",
    "No código a seguir, estamos tentando combinar o FORTRAN que foi encontrado na sentença, que está sendo omitido com os padrões que tentamos no código anteriormente:"
   ],
   "metadata": {
    "collapsed": false
   }
  },
  {
   "cell_type": "code",
   "execution_count": 19,
   "outputs": [
    {
     "name": "stdout",
     "output_type": "stream",
     "text": [
      "Findall found total  1  Matches >>  ['or FORTRAN']\n"
     ]
    }
   ],
   "source": [
    "matches = re.findall(r\"\\s*([\\sorA-Z+]+)\\)\", sentence)\n",
    "print(\"Findall found total \",len(matches),\" Matches >> \",matches)"
   ],
   "metadata": {
    "collapsed": false
   }
  },
  {
   "cell_type": "code",
   "execution_count": 22,
   "outputs": [
    {
     "name": "stdout",
     "output_type": "stream",
     "text": [
      "FORTRAN\n"
     ]
    }
   ],
   "source": [
    "fortran = matches[0]\n",
    "if re.match(r'or',fortran):\n",
    "    fortran = re.sub(r'or\\s*','',fortran) #substitute 'or ' with empty string\n",
    "print(fortran)"
   ],
   "metadata": {
    "collapsed": false
   }
  },
  {
   "cell_type": "code",
   "execution_count": 23,
   "outputs": [
    {
     "name": "stdout",
     "output_type": "stream",
     "text": [
      "True\n"
     ]
    }
   ],
   "source": [
    "if re.search(r'^F.*N$',fortran): #using beginning and end of line searching pattern\n",
    "\tprint(\"True\")"
   ],
   "metadata": {
    "collapsed": false
   }
  },
  {
   "cell_type": "markdown",
   "source": [
    "Conforme mostrado no bloco de código anterior, a biblioteca Python, re, possui várias funções, que são as seguintes:\n",
    "* `re.match()`: Isso corresponde a um padrão fornecido no início da string e retorna o objeto correspondente.\n",
    "* `re.sub()`: Isso encontra um padrão e o substitui pela string fornecida. Funciona de forma semelhante para localizar e substituir no texto.\n",
    "* `re.search()`: Isso corresponde a um padrão na string e retorna o objeto correspondente encontrado.\n",
    "* `\\s`: representa os caracteres de espaço, tabulação e nova linha. Aqui, `[\\sorA-Z+]+\\)` corresponde a um ou mais caracteres, incluindo `A-Z`, `o`, `r`, `\\s` e `+`, seguidos por `\\`) (parênteses de fechamento). Existem mais alguns códigos de escape encontrados no Regex, como segue:\n",
    "* `\\d`: Corresponde a um dígito\n",
    "* `\\D`: Corresponde a um não dígito\n",
    "* `\\s`: Corresponde ao espaço em branco\n",
    "* `\\S`: Corresponde a não espaços em branco\n",
    "* `\\w`: Corresponde a caracteres alfanuméricos\n",
    "* `\\W`: Corresponde a caracteres não alfanuméricos\n",
    "* `\\b`: Corresponde a um limite de palavra\n",
    "* `\\B`: Corresponde a um limite de não-palavra\n",
    "* `^`: Isso corresponde ao início da string.\n",
    "* `$`: Isso corresponde ao final da string.\n",
    "* `|`: Isso implementa a expressão lógica, `OR`, no padrão. Por exemplo, `r'a|b'` corresponderá a qualquer expressão verdadeira, ou seja, `a` ou `b`.\n",
    "\n",
    "O código a seguir mostra o uso de alguns desses padrões Regex e o função `findall()`, junto com sua saída:"
   ],
   "metadata": {
    "collapsed": false
   }
  },
  {
   "cell_type": "code",
   "execution_count": 24,
   "outputs": [
    {
     "name": "stdout",
     "output_type": "stream",
     "text": [
      "(MAT.*?)\\,:  ['MATLAB', 'Mathematica']\n"
     ]
    }
   ],
   "source": [
    "matches = re.findall(r'\\s(MAT.*?)\\,',sentence,flags=re.IGNORECASE)\n",
    "print(\"(MAT.*?)\\,: \",matches)"
   ],
   "metadata": {
    "collapsed": false
   }
  },
  {
   "cell_type": "code",
   "execution_count": 25,
   "outputs": [
    {
     "name": "stdout",
     "output_type": "stream",
     "text": [
      "(MAT.*?)\\,:  ['MATLAB']\n"
     ]
    }
   ],
   "source": [
    "matches = re.findall(r'\\s(MAT.*?)\\,',sentence) #findall with 'MAT' case-sensitive\n",
    "print(\"(MAT.*?)\\,: \",matches)"
   ],
   "metadata": {
    "collapsed": false
   }
  },
  {
   "cell_type": "code",
   "execution_count": 26,
   "outputs": [
    {
     "name": "stdout",
     "output_type": "stream",
     "text": [
      "\\s(C.*?)\\,:  ['C', 'C++']\n"
     ]
    }
   ],
   "source": [
    "matches = re.findall(r'\\s(C.*?)\\,',sentence)\n",
    "print(\"\\s(C.*?)\\,: \",matches)"
   ],
   "metadata": {
    "collapsed": false
   }
  },
  {
   "cell_type": "markdown",
   "source": [
    "As seguintes funções foram encontradas no código anterior:\n",
    "As funções `re` também suportam um argumento opcional de flags. Há também uma abreviação para esses sinalizadores (`i` para `re.IGNORECASE`, `s` para `re.DOTALL` e `M` para `re.MULTILINE`). Eles podem ser usados em padrões, incluindo-os no início das expressões. Por exemplo, `r'(?i)\\s(MAT.*?)\\`, retornará [`MATLAB, Mathematica`]. A seguir estão algumas outras funções `re` que foram encontradas no código:\n",
    "* `re.IGNORECASE`: Ignora a distinção entre maiúsculas e minúsculas encontrada no padrão fornecido\n",
    "* `re.DOTALL`: Permite `.` (ponto) para corresponder a uma nova linha e funciona com strings contendo várias linhas\n",
    "* `re.MULTILINE`: Funciona com strings de várias linhas e procura padrões, incluindo nova linha (\"`\\n`\")\n",
    "* `.` ou ponto final: corresponde a qualquer caractere único, mas não à nova linha (\"\\n\").\n",
    "\n",
    "É usado em padrões principalmente com caracteres de repetição. Um período ou `.` deve ser correspondido na string e deve ser usado como `\\.`:"
   ],
   "metadata": {
    "collapsed": false
   }
  },
  {
   "cell_type": "code",
   "execution_count": 27,
   "outputs": [
    {
     "name": "stdout",
     "output_type": "stream",
     "text": [
      "Regular Split '\\W+' found total:  43 \n",
      " ['Brief', 'information', 'about', 'Jobs', 'in', 'Python', 'Programming', 'and', 'Scripting', 'experience', 'in', 'some', 'language', 'such', 'as', 'Python', 'R', 'MATLAB', 'SAS', 'Mathematica', 'Java', 'C', 'C', 'VB', 'JavaScript', 'or', 'FORTRAN', 'is', 'expected', 'Participants', 'should', 'be', 'comfortable', 'with', 'basic', 'programming', 'concepts', 'like', 'variables', 'loops', 'and', 'functions', '']\n"
     ]
    }
   ],
   "source": [
    "matchesOne = re.split(r\"\\W+\",sentence) #split by word, \\w (word characters, \\W - nonword)\n",
    "print(\"Regular Split '\\W+' found total: \",len(matchesOne),\"\\n\",matchesOne)"
   ],
   "metadata": {
    "collapsed": false
   }
  },
  {
   "cell_type": "code",
   "execution_count": 28,
   "outputs": [
    {
     "name": "stdout",
     "output_type": "stream",
     "text": [
      "Regular Split '\\s' found total:  42 \n",
      " ['Brief', 'information', 'about', 'Jobs', 'in', 'Python.', 'Programming', 'and', 'Scripting', 'experience', 'in', 'some', 'language', '(such', 'as', 'Python', 'R,', 'MATLAB,', 'SAS,', 'Mathematica,', 'Java,', 'C,', 'C++,', 'VB,', 'JavaScript', 'or', 'FORTRAN)', 'is', 'expected.', 'Participants', 'should', 'be', 'comfortable', 'with', 'basic', 'programming', 'concepts', 'like', 'variables,', 'loops,', 'and', 'functions.']\n"
     ]
    }
   ],
   "source": [
    "matchesTwo = re.split(r\"\\s\",sentence) #split by space\n",
    "print(\"Regular Split '\\s' found total: \",len(matchesTwo),\"\\n\",matchesTwo)"
   ],
   "metadata": {
    "collapsed": false
   }
  },
  {
   "cell_type": "markdown",
   "source": [
    "* `re.split()`: Isso divide o conteúdo fornecido com base no padrão e retorna uma lista com resultados. Também existe um `split()`, que pode ser usado com uma string para explodir com os caracteres padrão ou fornecidos. Ele é usado de maneira semelhante ao splitSentence, anteriormente nesta seção."
   ],
   "metadata": {
    "collapsed": false
   }
  },
  {
   "cell_type": "markdown",
   "source": [
    "No código abaixo estamos tentando aplicar o padrão regex para o valor encontrado dentro do atributo datetime. O padrão definido será compilado e usado para pesquisar no bloco de código:"
   ],
   "metadata": {
    "collapsed": false
   }
  },
  {
   "cell_type": "code",
   "execution_count": 29,
   "outputs": [],
   "source": [
    "timeDate= '''<time datetime=\"2019-02-11T18:00:00+00:00\"></time>\n",
    "<time datetime=\"2018-02-11T13:59:00+00:00\"></time>\n",
    "<time datetime=\"2019-02-06T13:44:00.000002+00:00\"></time>\n",
    "<time datetime=\"2019-02-05T17:39:00.000001+00:00\"></time>\n",
    "<time datetime=\"2019-02-04T12:53:00+00:00\"></time>'''\n",
    "\n",
    "pattern = r'(20\\d+)([-]+)(0[1-9]|1[012])([-]+)(0[1-9]|[12][0-9]|3[01])'\n",
    "recompiled = re.compile(pattern) # <class '_sre.SRE_Pattern'>\n",
    "dateMatches = recompiled.search(timeDate)"
   ],
   "metadata": {
    "collapsed": false
   }
  },
  {
   "cell_type": "markdown",
   "source": [
    "* `re.compile()`: Isso é usado para compilar um padrão Regex e receber um objeto padrão (`_sre.SRE_Pattern`). O objeto recebido pode ser usado com outros recursos Regex.\n",
    "\n",
    "As correspondências de grupo podem ser exploradas individualmente usando o método `group()`, conforme mostrado no código a seguir:"
   ],
   "metadata": {
    "collapsed": false
   }
  },
  {
   "cell_type": "code",
   "execution_count": 30,
   "outputs": [
    {
     "name": "stdout",
     "output_type": "stream",
     "text": [
      "Group :  2019-02-11\n",
      "Groups :  ('2019', '-', '02', '-', '11')\n",
      "Group 1 :  2019\n",
      "Group 5 :  11\n"
     ]
    }
   ],
   "source": [
    "print(\"Group : \",dateMatches.group())\n",
    "print(\"Groups : \",dateMatches.groups())\n",
    "print(\"Group 1 : \",dateMatches.group(1))\n",
    "print(\"Group 5 : \",dateMatches.group(5))"
   ],
   "metadata": {
    "collapsed": false
   }
  },
  {
   "cell_type": "markdown",
   "source": [
    "Como podemos ver, embora o padrão tenha sido pesquisado em várias linhas `timeDate`, ele resulta em um único grupo; um grupo individual também pode ser retornado usando o índice. Um objeto de correspondência re-relacionado contém as funções `groups()` e `group()`; `groups(0)` resulta na mesma saída que `groups()`. Elementos individuais em `groups()` exigirão um índice começando em `1`.\n",
    "\n",
    "* `re.finditer()`: Isso é usado para iterar sobre correspondências resultantes que são obtidas para o padrão ou objeto de padrão encontrado no conteúdo fornecido. Ele retorna um objeto match (`_sre.SRE_Match`) encontrado em `re.match()`.\n",
    "* `re.match()` retorna um objeto que contém várias funções e atributos que são usados em exemplos de código. Estes são os seguintes:\n",
    "\n",
    "  * `start()`: Retorna o índice de caractere inicial que corresponde à expressão\n",
    "  * `end()`: Retorna o índice de caractere final que corresponde à expressão\n",
    "  * `span()`: Retorna os índices de caractere inicial e final da expressão correspondente\n",
    "  * `lastindex`: Retorna o índice da última expressão correspondente\n",
    "  * `groupdict()`: Retorna o dicionário de grupo correspondente com uma string padrão e valores correspondentes\n",
    "  * `groups()`: Retorna todos os elementos correspondentes\n",
    "  * `group()`: Retorna um grupo individual e pode ser acessado com o nome do grupo\n",
    "  * `lastgroup`: Retorna o nome do último grupo"
   ],
   "metadata": {
    "collapsed": false
   }
  },
  {
   "cell_type": "code",
   "execution_count": 31,
   "outputs": [
    {
     "name": "stdout",
     "output_type": "stream",
     "text": [
      "Found 2019-02-11 at 16:26, groups('2019', '-', '02', '-', '11') lastindex:5\n",
      "Found 2018-02-11 at 67:77, groups('2018', '-', '02', '-', '11') lastindex:5\n",
      "Found 2019-02-06 at 118:128, groups('2019', '-', '02', '-', '06') lastindex:5\n",
      "Found 2019-02-05 at 176:186, groups('2019', '-', '02', '-', '05') lastindex:5\n",
      "Found 2019-02-04 at 234:244, groups('2019', '-', '02', '-', '04') lastindex:5\n"
     ]
    }
   ],
   "source": [
    "for match in re.finditer(pattern, timeDate): # <class '_sre.SRE_Match'>\n",
    "                  # #for match in re.finditer(recompiled, timeDate):\n",
    "\ts = match.start()\n",
    "\te = match.end()\n",
    "\tl = match.lastindex\n",
    "\tg = match.groups()\n",
    "\n",
    "\tprint('Found {} at {}:{}, groups{} lastindex:{}'.format(timeDate[s:e], s,e,g,l))"
   ],
   "metadata": {
    "collapsed": false
   }
  }
 ],
 "metadata": {
  "kernelspec": {
   "display_name": "Python 3",
   "language": "python",
   "name": "python3"
  },
  "language_info": {
   "codemirror_mode": {
    "name": "ipython",
    "version": 2
   },
   "file_extension": ".py",
   "mimetype": "text/x-python",
   "name": "python",
   "nbconvert_exporter": "python",
   "pygments_lexer": "ipython2",
   "version": "2.7.6"
  }
 },
 "nbformat": 4,
 "nbformat_minor": 0
}
