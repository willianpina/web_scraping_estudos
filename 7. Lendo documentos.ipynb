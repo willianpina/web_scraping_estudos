{
 "cells": [
  {
   "cell_type": "markdown",
   "source": [
    "<h1>Capítulo 7 - Lendo documentos</h1>"
   ],
   "metadata": {
    "collapsed": false,
    "pycharm": {
     "name": "#%% md\n"
    }
   }
  },
  {
   "cell_type": "code",
   "execution_count": 1,
   "outputs": [
    {
     "name": "stdout",
     "output_type": "stream",
     "text": [
      "b'CHAPTER I\\n\\n\"Well, Prince, so Genoa and Lucca are now just family estates of theBuonapartes. But I warn you, if you don\\'t tell me that this means war,if you still try to defend the infamies and horrors perpetrated bythat Antichrist- I really believe he is Antichrist- I will havenothing more to do with you and you are no longer my friend, no longermy \\'faithful slave,\\' as you call yourself! But how do you do? I seeI have frightened you- sit down and tell me all the news.\"\\n\\nIt was in July, 1805, and the speaker was the well-known AnnaPavlovna Scherer, maid of honor and favorite of the Empress MaryaFedorovna. With these words she greeted Prince Vasili Kuragin, a manof high rank and importance, who was the first to arrive at herreception. Anna Pavlovna had had a cough for some days. She was, asshe said, suffering from la grippe; grippe being then a new word inSt. Petersburg, used only by the elite.\\n\\nAll her invitations without exception, written in French, anddelivered by a scarlet-liveried footman that morning, ran as follows:\\n\\n\"If you have nothing better to do, Count [or Prince], and if theprospect of spending an evening with a poor invalid is not tooterrible, I shall be very charmed to see you tonight between 7 and 10-Annette Scherer.\"\\n\\n\"Heavens! what a virulent attack!\" replied the prince, not in theleast disconcerted by this reception. He had just entered, wearingan embroidered court uniform, knee breeches, and shoes, and hadstars on his breast and a serene expression on his flat face. He spokein that refined French in which our grandfathers not only spoke butthought, and with the gentle, patronizing intonation natural to aman of importance who had grown old in society and at court. He wentup to Anna Pavlovna, kissed her hand, presenting to her his bald,scented, and shining head, and complacently seated himself on thesofa.\\n\\n\"First of all, dear friend, tell me how you are. Set your friend\\'smind at rest,\" said he without altering his tone, beneath thepoliteness and affected sympathy of which indifference and evenirony could be discerned.\\n\\n\"Can one be well while suffering morally? Can one be calm in timeslike these if one has any feeling?\" said Anna Pavlovna. \"You arestaying the whole evening, I hope?\"\\n\\n\"And the fete at the English ambassador\\'s? Today is Wednesday. Imust put in an appearance there,\" said the prince. \"My daughter iscoming for me to take me there.\"\\n\\n\"I thought today\\'s fete had been canceled. I confess all thesefestivities and fireworks are becoming wearisome.\"\\n\\n\"If they had known that you wished it, the entertainment wouldhave been put off,\" said the prince, who, like a wound-up clock, byforce of habit said things he did not even wish to be believed.\\n\\n\"Don\\'t tease! Well, and what has been decided about Novosiltsev\\'sdispatch? You know everything.\"\\n\\n\"What can one say about it?\" replied the prince in a cold,listless tone. \"What has been decided? They have decided thatBuonaparte has burnt his boats, and I believe that we are ready toburn ours.\"\\n\\nPrince Vasili always spoke languidly, like an actor repeating astale part. Anna Pavlovna Scherer on the contrary, despite her fortyyears, overflowed with animation and impulsiveness. To be anenthusiast had become her social vocation and, sometimes even when shedid not feel like it, she became enthusiastic in order not todisappoint the expectations of those who knew her. The subdued smilewhich, though it did not suit her faded features, always playedround her lips expressed, as in a spoiled child, a continualconsciousness of her charming defect, which she neither wished, norcould, nor considered it necessary, to correct.\\n\\nIn the midst of a conversation on political matters Anna Pavlovnaburst out:\\n\\n\"Oh, don\\'t speak to me of Austria. Perhaps I don\\'t understandthings, but Austria never has wished, and does not wish, for war.She is betraying us! Russia alone must save Europe. Our gracioussovereign recognizes his high vocation and will be true to it. That isthe one thing I have faith in! Our good and wonderful sovereign has toperform the noblest role on earth, and he is so virtuous and noblethat God will not forsake him. He will fulfill his vocation andcrush the hydra of revolution, which has become more terrible thanever in the person of this murderer and villain! We alone mustavenge the blood of the just one.... Whom, I ask you, can we relyon?... England with her commercial spirit will not and cannotunderstand the Emperor Alexander\\'s loftiness of soul. She hasrefused to evacuate Malta. She wanted to find, and still seeks, somesecret motive in our actions. What answer did Novosiltsev get? None.The English have not understood and cannot understand theself-abnegation of our Emperor who wants nothing for himself, but onlydesires the good of mankind. And what have they promised? Nothing! Andwhat little they have promised they will not perform! Prussia hasalways declared that Buonaparte is invincible, and that all Europeis powerless before him.... And I don\\'t believe a word that Hardenburgsays, or Haugwitz either. This famous Prussian neutrality is just atrap. I have faith only in God and the lofty destiny of our adoredmonarch. He will save Europe!\"\\n\\nShe suddenly paused, smiling at her own impetuosity.\\n\\n\"I think,\" said the prince with a smile, \"that if you had beensent instead of our dear Wintzingerode you would have captured theKing of Prussia\\'s consent by assault. You are so eloquent. Will yougive me a cup of tea?\"\\n\\n\"In a moment. A propos,\" she added, becoming calm again, \"I amexpecting two very interesting men tonight, le Vicomte de Mortemart,who is connected with the Montmorencys through the Rohans, one ofthe best French families. He is one of the genuine emigres, the goodones. And also the Abbe Morio. Do you know that profound thinker? Hehas been received by the Emperor. Had you heard?\"\\n\\n\"I shall be delighted to meet them,\" said the prince. \"But tell me,\"he added with studied carelessness as if it had only just occurredto him, though the question he was about to ask was the chief motiveof his visit, \"is it true that the Dowager Empress wants Baron Funketo be appointed first secretary at Vienna? The baron by all accountsis a poor creature.\"\\n\\nPrince Vasili wished to obtain this post for his son, but otherswere trying through the Dowager Empress Marya Fedorovna to secure itfor the baron.\\n\\nAnna Pavlovna almost closed her eyes to indicate that neither shenor anyone else had a right to criticize what the Empress desired orwas pleased with.\\n\\n\"Baron Funke has been recommended to the Dowager Empress by hersister,\" was all she said, in a dry and mournful tone.\\n\\nAs she named the Empress, Anna Pavlovna\\'s face suddenly assumed anexpression of profound and sincere devotion and respect mingled withsadness, and this occurred every time she mentioned her illustriouspatroness. She added that Her Majesty had deigned to show BaronFunke beaucoup d\\'estime, and again her face clouded over with sadness.\\n\\nThe prince was silent and looked indifferent. But, with thewomanly and courtierlike quickness and tact habitual to her, AnnaPavlovna wished both to rebuke him (for daring to speak he had done ofa man recommended to the Empress) and at the same time to console him,so she said:\\n\\n\"Now about your family. Do you know that since your daughter cameout everyone has been enraptured by her? They say she is amazinglybeautiful.\"\\n\\nThe prince bowed to signify his respect and gratitude.\\n\\n\"I often think,\" she continued after a short pause, drawing nearerto the prince and smiling amiably at him as if to show thatpolitical and social topics were ended and the time had come forintimate conversation- \"I often think how unfairly sometimes thejoys of life are distributed. Why has fate given you two such splendidchildren? I don\\'t speak of Anatole, your youngest. I don\\'t likehim,\" she added in a tone admitting of no rejoinder and raising hereyebrows. \"Two such charming children. And really you appreciatethem less than anyone, and so you don\\'t deserve to have them.\"\\n\\nAnd she smiled her ecstatic smile.\\n\\n\"I can\\'t help it,\" said the prince. \"Lavater would have said Ilack the bump of paternity.\"\\n\\n\"Don\\'t joke; I mean to have a serious talk with you. Do you know Iam dissatisfied with your younger son? Between ourselves\" (and herface assumed its melancholy expression), \"he was mentioned at HerMajesty\\'s and you were pitied....\"\\n\\nThe prince answered nothing, but she looked at him significantly,awaiting a reply. He frowned.\\n\\n\"What would you have me do?\" he said at last. \"You know I did alla father could for their education, and they have both turned outfools. Hippolyte is at least a quiet fool, but Anatole is an activeone. That is the only difference between them.\" He said this smilingin a way more natural and animated than usual, so that the wrinklesround his mouth very clearly revealed something unexpectedly coarseand unpleasant.\\n\\n\"And why are children born to such men as you? If you were not afather there would be nothing I could reproach you with,\" said AnnaPavlovna, looking up pensively.\\n\\n\"I am your faithful slave and to you alone I can confess that mychildren are the bane of my life. It is the cross I have to bear. Thatis how I explain it to myself. It can\\'t be helped!\"\\n\\nHe said no more, but expressed his resignation to cruel fate by agesture. Anna Pavlovna meditated.\\n\\n\"Have you never thought of marrying your prodigal son Anatole?\"she asked. \"They say old maids have a mania for matchmaking, andthough I don\\'t feel that weakness in myself as yet,I know a littleperson who is very unhappy with her father. She is a relation ofyours, Princess Mary Bolkonskaya.\"\\n\\nPrince Vasili did not reply, though, with the quickness of memoryand perception befitting a man of the world, he indicated by amovement of the head that he was considering this information.\\n\\n\"Do you know,\" he said at last, evidently unable to check the sadcurrent of his thoughts, \"that Anatole is costing me forty thousandrubles a year? And,\" he went on after a pause, \"what will it be infive years, if he goes on like this?\" Presently he added: \"That\\'s whatwe fathers have to put up with.... Is this princess of yours rich?\"\\n\\n\"Her father is very rich and stingy. He lives in the country. Heis the well-known Prince Bolkonski who had to retire from the armyunder the late Emperor, and was nicknamed \\'the King of Prussia.\\' He isvery clever but eccentric, and a bore. The poor girl is veryunhappy. She has a brother; I think you know him, he married LiseMeinen lately. He is an aide-de-camp of Kutuzov\\'s and will be heretonight.\"\\n\\n\"Listen, dear Annette,\" said the prince, suddenly taking AnnaPavlovna\\'s hand and for some reason drawing it downwards. \"Arrangethat affair for me and I shall always be your most devoted slave-slafe wigh an f, as a village elder of mine writes in his reports. Sheis rich and of good family and that\\'s all I want.\"\\n\\nAnd with the familiarity and easy grace peculiar to him, he raisedthe maid of honor\\'s hand to his lips, kissed it, and swung it to andfro as he lay back in his armchair, looking in another direction.\\n\\n\"Attendez,\" said Anna Pavlovna, reflecting, \"I\\'ll speak to Lise,young Bolkonski\\'s wife, this very evening, and perhaps the thing canbe arranged. It shall be on your family\\'s behalf that I\\'ll start myapprenticeship as old maid.\"'\n"
     ]
    }
   ],
   "source": [
    "# Texto\n",
    "\n",
    "from urllib.request import urlopen\n",
    "textPage = urlopen('http://www.pythonscraping.com/pages/warandpeace/chapter1.txt')\n",
    "\n",
    "print(textPage.read())"
   ],
   "metadata": {
    "collapsed": false,
    "pycharm": {
     "name": "#%%\n"
    }
   }
  },
  {
   "cell_type": "code",
   "execution_count": null,
   "outputs": [],
   "source": [],
   "metadata": {
    "collapsed": false,
    "pycharm": {
     "name": "#%%\n"
    }
   }
  }
 ],
 "metadata": {
  "kernelspec": {
   "display_name": "Python 3",
   "language": "python",
   "name": "python3"
  },
  "language_info": {
   "codemirror_mode": {
    "name": "ipython",
    "version": 2
   },
   "file_extension": ".py",
   "mimetype": "text/x-python",
   "name": "python",
   "nbconvert_exporter": "python",
   "pygments_lexer": "ipython2",
   "version": "2.7.6"
  }
 },
 "nbformat": 4,
 "nbformat_minor": 0
}